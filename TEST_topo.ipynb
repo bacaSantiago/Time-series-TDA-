{
 "cells": [
  {
   "cell_type": "code",
   "execution_count": 3,
   "id": "e5b100c6",
   "metadata": {},
   "outputs": [],
   "source": [
    "import dash\n",
    "import dash_bootstrap_components as dbc\n",
    "from dash import html, dcc, dash_table\n",
    "import sqlite3\n",
    "import pandas as pd\n",
    "import plotly.express as px\n",
    "import numpy as np\n",
    "import plotly.graph_objects as go\n",
    "import scipy.stats as stats\n",
    "import plotly.express as px\n",
    "import re\n",
    "from sklearn.preprocessing import StandardScaler\n",
    "from sklearn.decomposition import PCA\n",
    "from sklearn.cluster import KMeans, AgglomerativeClustering\n",
    "import plotly.figure_factory as ff\n",
    "\n",
    "_conn = sqlite3.connect(\"airbnb_cartagena.sqlite\")\n",
    "df_attr = pd.read_sql_query(\"SELECT * FROM Attributes\", _conn, dtype={\"ID\": str})\n",
    "df_ts = pd.read_sql_query(\"SELECT * FROM TimeSeriesRaw\", _conn, dtype={\"ID\": str})\n",
    "df_ts_interp = pd.read_sql_query(\"SELECT * FROM TimeSeriesInterpolated\", _conn, dtype={\"ID\": str})\n",
    "_conn.close()"
   ]
  },
  {
   "cell_type": "code",
   "execution_count": 4,
   "id": "a44c6f21",
   "metadata": {},
   "outputs": [],
   "source": [
    "red = \"#7e0d24\"  # dark red color for plots\n",
    "\n",
    "import re\n",
    "dates = [col for col in df_ts.columns if re.fullmatch(r\"\\d{1,2}/\\d{1,2}/\\d{4}\", col)]\n",
    "df_ts_interp = df_ts_interp.dropna(subset=dates, how=\"any\").reset_index(drop=True)"
   ]
  },
  {
   "cell_type": "code",
   "execution_count": 5,
   "id": "85cec475",
   "metadata": {},
   "outputs": [],
   "source": [
    "import numpy as np\n",
    "import pandas as pd\n",
    "from ripser import ripser\n",
    "from persim import plot_diagrams\n",
    "import matplotlib.pyplot as plt\n",
    "\n",
    "# assume df_ts_interp is your DataFrame loaded from SQL, and `dates` is your list of date-columns\n",
    "# df_ts_interp: columns [\"ID\", \"Name\", <dates...>]\n",
    "\n",
    "def sliding_window(series: np.ndarray, window_size: int, delay: int = 1) -> np.ndarray:\n",
    "    \"\"\"\n",
    "    Build a delay-embedding of a 1D series.\n",
    "    Returns an (N - (window_size-1)*delay) x window_size matrix.\n",
    "    \"\"\"\n",
    "    n_points = len(series)\n",
    "    m = window_size\n",
    "    tau = delay\n",
    "    L = n_points - (m - 1) * tau\n",
    "    if L <= 0:\n",
    "        raise ValueError(\"window_size too large for series length\")\n",
    "    X = np.empty((L, m))\n",
    "    for i in range(L):\n",
    "        X[i] = series[i : i + m*tau : tau]\n",
    "    return X\n",
    "\n",
    "def compute_listing_persistence(df_interp: pd.DataFrame,\n",
    "                                dates: list[str],\n",
    "                                window_size: int = 14,\n",
    "                                delay: int = 1):\n",
    "    \"\"\"\n",
    "    For each listing, compute its 1D & 2D persistence diagrams\n",
    "    from a sliding-window embedding of its price series.\n",
    "    Returns a dict: { listing_id: (dgms1, dgms2) }.\n",
    "    \"\"\"\n",
    "    results = {}\n",
    "    for _, row in df_interp.iterrows():\n",
    "        series = row[dates].astype(float).values\n",
    "        # mask any remaining NaNs by interpolation or dropping:\n",
    "        if np.any(np.isnan(series)):\n",
    "            series = pd.Series(series).interpolate(limit_direction='both').fillna(method='bfill').fillna(method='ffill').values\n",
    "        X = sliding_window(series, window_size, delay)\n",
    "        dgms = ripser(X, maxdim=2)['dgms']\n",
    "        results[row[\"ID\"]] = dgms\n",
    "    return results\n",
    "\n",
    "def compute_global_persistence(df_interp: pd.DataFrame, dates: list[str]):\n",
    "    \"\"\"\n",
    "    Treat each day as a point in R^n (n = number of listings):\n",
    "      X[i] = ( price_listing1_on_day_i, ..., price_listingN_on_day_i )\n",
    "    Compute its persistent homology across time.\n",
    "    Returns a pair of diagrams [H0, H1, H2].\n",
    "    \"\"\"\n",
    "    # build day × listing matrix\n",
    "    M = df_interp.set_index(\"ID\")[dates].T.astype(float)\n",
    "    # fill NaNs (if any)\n",
    "    M = M.interpolate(axis=0, limit_direction='both').fillna(method='bfill').fillna(method='ffill')\n",
    "    X = M.values  # shape (n_days, n_listings)\n",
    "    dgms = ripser(X, maxdim=2)['dgms']\n",
    "    return dgms"
   ]
  },
  {
   "cell_type": "code",
   "execution_count": 6,
   "id": "1ee44897",
   "metadata": {},
   "outputs": [],
   "source": [
    "import numpy as np\n",
    "import pandas as pd\n",
    "from ripser import ripser\n",
    "import plotly.graph_objects as go\n",
    "\n",
    "def sliding_window(series: np.ndarray, window_size: int, delay: int = 1) -> np.ndarray:\n",
    "    L = len(series) - (window_size - 1) * delay\n",
    "    X = np.stack([series[i : i + L*delay : delay] for i in range(window_size)], axis=1)\n",
    "    return X\n",
    "\n",
    "def compute_listing_persistence(df_interp: pd.DataFrame,\n",
    "                                dates: list[str],\n",
    "                                window_size: int = 14,\n",
    "                                delay: int = 1):\n",
    "    \"\"\"\n",
    "    Returns dict: listing_id → [H0_diagram, H1_diagram, H2_diagram]\n",
    "    \"\"\"\n",
    "    diagrams = {}\n",
    "    for _, row in df_interp.iterrows():\n",
    "        s = row[dates].astype(float).values\n",
    "        # fill any NaNs\n",
    "        s = pd.Series(s).interpolate().fillna(method='bfill').fillna(method='ffill').values\n",
    "        X = sliding_window(s, window_size, delay)\n",
    "        dgms = ripser(X, maxdim=2)['dgms']\n",
    "        diagrams[row[\"ID\"]] = dgms\n",
    "    return diagrams\n",
    "\n",
    "def compute_global_persistence(df_interp: pd.DataFrame, dates: list[str]):\n",
    "    \"\"\"\n",
    "    Treat each day as a point in R^n and compute its persistence.\n",
    "    \"\"\"\n",
    "    M = df_interp.set_index(\"ID\")[dates].T.astype(float)\n",
    "    M = M.interpolate(axis=0).fillna(method='bfill').fillna(method='ffill')\n",
    "    dgms = ripser(M.values, maxdim=2)['dgms']\n",
    "    return dgms\n",
    "\n",
    "def plot_diagram_plotly(dgm: np.ndarray, dim: int, title: str) -> go.Figure:\n",
    "    \"\"\"\n",
    "    Plot a single H_dim persistence diagram with Plotly.\n",
    "    \"\"\"\n",
    "    births, deaths = dgm[:,0], dgm[:,1]\n",
    "    # diagonal line for reference\n",
    "    mn, mx = min(births.min(), deaths.min()), max(births.max(), deaths.max())\n",
    "    fig = go.Figure([\n",
    "        go.Scatter(x= births, y= deaths,\n",
    "                   mode='markers',\n",
    "                   marker=dict(size=6, color='crimson'),\n",
    "                   name=f\"H{dim}\"),\n",
    "        go.Scatter(x=[mn, mx], y=[mn, mx],\n",
    "                   mode='lines',\n",
    "                   line=dict(color='white', dash='dash'),\n",
    "                   showlegend=False)\n",
    "    ])\n",
    "    fig.update_layout(\n",
    "        template=\"plotly_dark\",\n",
    "        title=title,\n",
    "        xaxis_title=\"Birth\",\n",
    "        yaxis_title=\"Death\",\n",
    "        xaxis=dict(range=[mn, mx]),\n",
    "        yaxis=dict(range=[mn, mx]),\n",
    "        width=500, height=500\n",
    "    )\n",
    "    return fig"
   ]
  },
  {
   "cell_type": "code",
   "execution_count": 7,
   "id": "dcfb1651",
   "metadata": {},
   "outputs": [
    {
     "name": "stderr",
     "output_type": "stream",
     "text": [
      "/var/folders/c2/hxfkbjc14h9d9m0ch12z7qh00000gn/T/ipykernel_29348/4084058739.py:22: FutureWarning:\n",
      "\n",
      "Series.fillna with 'method' is deprecated and will raise in a future version. Use obj.ffill() or obj.bfill() instead.\n",
      "\n",
      "/var/folders/c2/hxfkbjc14h9d9m0ch12z7qh00000gn/T/ipykernel_29348/4084058739.py:22: FutureWarning:\n",
      "\n",
      "Series.fillna with 'method' is deprecated and will raise in a future version. Use obj.ffill() or obj.bfill() instead.\n",
      "\n",
      "/var/folders/c2/hxfkbjc14h9d9m0ch12z7qh00000gn/T/ipykernel_29348/4084058739.py:22: FutureWarning:\n",
      "\n",
      "Series.fillna with 'method' is deprecated and will raise in a future version. Use obj.ffill() or obj.bfill() instead.\n",
      "\n",
      "/var/folders/c2/hxfkbjc14h9d9m0ch12z7qh00000gn/T/ipykernel_29348/4084058739.py:22: FutureWarning:\n",
      "\n",
      "Series.fillna with 'method' is deprecated and will raise in a future version. Use obj.ffill() or obj.bfill() instead.\n",
      "\n",
      "/var/folders/c2/hxfkbjc14h9d9m0ch12z7qh00000gn/T/ipykernel_29348/4084058739.py:22: FutureWarning:\n",
      "\n",
      "Series.fillna with 'method' is deprecated and will raise in a future version. Use obj.ffill() or obj.bfill() instead.\n",
      "\n",
      "/var/folders/c2/hxfkbjc14h9d9m0ch12z7qh00000gn/T/ipykernel_29348/4084058739.py:22: FutureWarning:\n",
      "\n",
      "Series.fillna with 'method' is deprecated and will raise in a future version. Use obj.ffill() or obj.bfill() instead.\n",
      "\n",
      "/var/folders/c2/hxfkbjc14h9d9m0ch12z7qh00000gn/T/ipykernel_29348/4084058739.py:22: FutureWarning:\n",
      "\n",
      "Series.fillna with 'method' is deprecated and will raise in a future version. Use obj.ffill() or obj.bfill() instead.\n",
      "\n",
      "/var/folders/c2/hxfkbjc14h9d9m0ch12z7qh00000gn/T/ipykernel_29348/4084058739.py:22: FutureWarning:\n",
      "\n",
      "Series.fillna with 'method' is deprecated and will raise in a future version. Use obj.ffill() or obj.bfill() instead.\n",
      "\n",
      "/var/folders/c2/hxfkbjc14h9d9m0ch12z7qh00000gn/T/ipykernel_29348/4084058739.py:22: FutureWarning:\n",
      "\n",
      "Series.fillna with 'method' is deprecated and will raise in a future version. Use obj.ffill() or obj.bfill() instead.\n",
      "\n",
      "/var/folders/c2/hxfkbjc14h9d9m0ch12z7qh00000gn/T/ipykernel_29348/4084058739.py:22: FutureWarning:\n",
      "\n",
      "Series.fillna with 'method' is deprecated and will raise in a future version. Use obj.ffill() or obj.bfill() instead.\n",
      "\n",
      "/var/folders/c2/hxfkbjc14h9d9m0ch12z7qh00000gn/T/ipykernel_29348/4084058739.py:22: FutureWarning:\n",
      "\n",
      "Series.fillna with 'method' is deprecated and will raise in a future version. Use obj.ffill() or obj.bfill() instead.\n",
      "\n",
      "/var/folders/c2/hxfkbjc14h9d9m0ch12z7qh00000gn/T/ipykernel_29348/4084058739.py:22: FutureWarning:\n",
      "\n",
      "Series.fillna with 'method' is deprecated and will raise in a future version. Use obj.ffill() or obj.bfill() instead.\n",
      "\n",
      "/var/folders/c2/hxfkbjc14h9d9m0ch12z7qh00000gn/T/ipykernel_29348/4084058739.py:22: FutureWarning:\n",
      "\n",
      "Series.fillna with 'method' is deprecated and will raise in a future version. Use obj.ffill() or obj.bfill() instead.\n",
      "\n",
      "/var/folders/c2/hxfkbjc14h9d9m0ch12z7qh00000gn/T/ipykernel_29348/4084058739.py:22: FutureWarning:\n",
      "\n",
      "Series.fillna with 'method' is deprecated and will raise in a future version. Use obj.ffill() or obj.bfill() instead.\n",
      "\n",
      "/var/folders/c2/hxfkbjc14h9d9m0ch12z7qh00000gn/T/ipykernel_29348/4084058739.py:22: FutureWarning:\n",
      "\n",
      "Series.fillna with 'method' is deprecated and will raise in a future version. Use obj.ffill() or obj.bfill() instead.\n",
      "\n",
      "/var/folders/c2/hxfkbjc14h9d9m0ch12z7qh00000gn/T/ipykernel_29348/4084058739.py:22: FutureWarning:\n",
      "\n",
      "Series.fillna with 'method' is deprecated and will raise in a future version. Use obj.ffill() or obj.bfill() instead.\n",
      "\n",
      "/var/folders/c2/hxfkbjc14h9d9m0ch12z7qh00000gn/T/ipykernel_29348/4084058739.py:22: FutureWarning:\n",
      "\n",
      "Series.fillna with 'method' is deprecated and will raise in a future version. Use obj.ffill() or obj.bfill() instead.\n",
      "\n",
      "/var/folders/c2/hxfkbjc14h9d9m0ch12z7qh00000gn/T/ipykernel_29348/4084058739.py:22: FutureWarning:\n",
      "\n",
      "Series.fillna with 'method' is deprecated and will raise in a future version. Use obj.ffill() or obj.bfill() instead.\n",
      "\n",
      "/var/folders/c2/hxfkbjc14h9d9m0ch12z7qh00000gn/T/ipykernel_29348/4084058739.py:22: FutureWarning:\n",
      "\n",
      "Series.fillna with 'method' is deprecated and will raise in a future version. Use obj.ffill() or obj.bfill() instead.\n",
      "\n",
      "/var/folders/c2/hxfkbjc14h9d9m0ch12z7qh00000gn/T/ipykernel_29348/4084058739.py:22: FutureWarning:\n",
      "\n",
      "Series.fillna with 'method' is deprecated and will raise in a future version. Use obj.ffill() or obj.bfill() instead.\n",
      "\n",
      "/var/folders/c2/hxfkbjc14h9d9m0ch12z7qh00000gn/T/ipykernel_29348/4084058739.py:22: FutureWarning:\n",
      "\n",
      "Series.fillna with 'method' is deprecated and will raise in a future version. Use obj.ffill() or obj.bfill() instead.\n",
      "\n",
      "/var/folders/c2/hxfkbjc14h9d9m0ch12z7qh00000gn/T/ipykernel_29348/4084058739.py:22: FutureWarning:\n",
      "\n",
      "Series.fillna with 'method' is deprecated and will raise in a future version. Use obj.ffill() or obj.bfill() instead.\n",
      "\n",
      "/var/folders/c2/hxfkbjc14h9d9m0ch12z7qh00000gn/T/ipykernel_29348/4084058739.py:22: FutureWarning:\n",
      "\n",
      "Series.fillna with 'method' is deprecated and will raise in a future version. Use obj.ffill() or obj.bfill() instead.\n",
      "\n",
      "/var/folders/c2/hxfkbjc14h9d9m0ch12z7qh00000gn/T/ipykernel_29348/4084058739.py:22: FutureWarning:\n",
      "\n",
      "Series.fillna with 'method' is deprecated and will raise in a future version. Use obj.ffill() or obj.bfill() instead.\n",
      "\n",
      "/var/folders/c2/hxfkbjc14h9d9m0ch12z7qh00000gn/T/ipykernel_29348/4084058739.py:22: FutureWarning:\n",
      "\n",
      "Series.fillna with 'method' is deprecated and will raise in a future version. Use obj.ffill() or obj.bfill() instead.\n",
      "\n",
      "/var/folders/c2/hxfkbjc14h9d9m0ch12z7qh00000gn/T/ipykernel_29348/4084058739.py:22: FutureWarning:\n",
      "\n",
      "Series.fillna with 'method' is deprecated and will raise in a future version. Use obj.ffill() or obj.bfill() instead.\n",
      "\n",
      "/var/folders/c2/hxfkbjc14h9d9m0ch12z7qh00000gn/T/ipykernel_29348/4084058739.py:22: FutureWarning:\n",
      "\n",
      "Series.fillna with 'method' is deprecated and will raise in a future version. Use obj.ffill() or obj.bfill() instead.\n",
      "\n",
      "/var/folders/c2/hxfkbjc14h9d9m0ch12z7qh00000gn/T/ipykernel_29348/4084058739.py:22: FutureWarning:\n",
      "\n",
      "Series.fillna with 'method' is deprecated and will raise in a future version. Use obj.ffill() or obj.bfill() instead.\n",
      "\n",
      "/var/folders/c2/hxfkbjc14h9d9m0ch12z7qh00000gn/T/ipykernel_29348/4084058739.py:22: FutureWarning:\n",
      "\n",
      "Series.fillna with 'method' is deprecated and will raise in a future version. Use obj.ffill() or obj.bfill() instead.\n",
      "\n",
      "/var/folders/c2/hxfkbjc14h9d9m0ch12z7qh00000gn/T/ipykernel_29348/4084058739.py:22: FutureWarning:\n",
      "\n",
      "Series.fillna with 'method' is deprecated and will raise in a future version. Use obj.ffill() or obj.bfill() instead.\n",
      "\n",
      "/var/folders/c2/hxfkbjc14h9d9m0ch12z7qh00000gn/T/ipykernel_29348/4084058739.py:22: FutureWarning:\n",
      "\n",
      "Series.fillna with 'method' is deprecated and will raise in a future version. Use obj.ffill() or obj.bfill() instead.\n",
      "\n",
      "/var/folders/c2/hxfkbjc14h9d9m0ch12z7qh00000gn/T/ipykernel_29348/4084058739.py:22: FutureWarning:\n",
      "\n",
      "Series.fillna with 'method' is deprecated and will raise in a future version. Use obj.ffill() or obj.bfill() instead.\n",
      "\n",
      "/var/folders/c2/hxfkbjc14h9d9m0ch12z7qh00000gn/T/ipykernel_29348/4084058739.py:22: FutureWarning:\n",
      "\n",
      "Series.fillna with 'method' is deprecated and will raise in a future version. Use obj.ffill() or obj.bfill() instead.\n",
      "\n",
      "/var/folders/c2/hxfkbjc14h9d9m0ch12z7qh00000gn/T/ipykernel_29348/4084058739.py:22: FutureWarning:\n",
      "\n",
      "Series.fillna with 'method' is deprecated and will raise in a future version. Use obj.ffill() or obj.bfill() instead.\n",
      "\n",
      "/var/folders/c2/hxfkbjc14h9d9m0ch12z7qh00000gn/T/ipykernel_29348/4084058739.py:22: FutureWarning:\n",
      "\n",
      "Series.fillna with 'method' is deprecated and will raise in a future version. Use obj.ffill() or obj.bfill() instead.\n",
      "\n",
      "/var/folders/c2/hxfkbjc14h9d9m0ch12z7qh00000gn/T/ipykernel_29348/4084058739.py:22: FutureWarning:\n",
      "\n",
      "Series.fillna with 'method' is deprecated and will raise in a future version. Use obj.ffill() or obj.bfill() instead.\n",
      "\n",
      "/var/folders/c2/hxfkbjc14h9d9m0ch12z7qh00000gn/T/ipykernel_29348/4084058739.py:22: FutureWarning:\n",
      "\n",
      "Series.fillna with 'method' is deprecated and will raise in a future version. Use obj.ffill() or obj.bfill() instead.\n",
      "\n",
      "/var/folders/c2/hxfkbjc14h9d9m0ch12z7qh00000gn/T/ipykernel_29348/4084058739.py:22: FutureWarning:\n",
      "\n",
      "Series.fillna with 'method' is deprecated and will raise in a future version. Use obj.ffill() or obj.bfill() instead.\n",
      "\n",
      "/var/folders/c2/hxfkbjc14h9d9m0ch12z7qh00000gn/T/ipykernel_29348/4084058739.py:22: FutureWarning:\n",
      "\n",
      "Series.fillna with 'method' is deprecated and will raise in a future version. Use obj.ffill() or obj.bfill() instead.\n",
      "\n",
      "/var/folders/c2/hxfkbjc14h9d9m0ch12z7qh00000gn/T/ipykernel_29348/4084058739.py:22: FutureWarning:\n",
      "\n",
      "Series.fillna with 'method' is deprecated and will raise in a future version. Use obj.ffill() or obj.bfill() instead.\n",
      "\n",
      "/var/folders/c2/hxfkbjc14h9d9m0ch12z7qh00000gn/T/ipykernel_29348/4084058739.py:22: FutureWarning:\n",
      "\n",
      "Series.fillna with 'method' is deprecated and will raise in a future version. Use obj.ffill() or obj.bfill() instead.\n",
      "\n",
      "/var/folders/c2/hxfkbjc14h9d9m0ch12z7qh00000gn/T/ipykernel_29348/4084058739.py:22: FutureWarning:\n",
      "\n",
      "Series.fillna with 'method' is deprecated and will raise in a future version. Use obj.ffill() or obj.bfill() instead.\n",
      "\n",
      "/var/folders/c2/hxfkbjc14h9d9m0ch12z7qh00000gn/T/ipykernel_29348/4084058739.py:22: FutureWarning:\n",
      "\n",
      "Series.fillna with 'method' is deprecated and will raise in a future version. Use obj.ffill() or obj.bfill() instead.\n",
      "\n",
      "/var/folders/c2/hxfkbjc14h9d9m0ch12z7qh00000gn/T/ipykernel_29348/4084058739.py:22: FutureWarning:\n",
      "\n",
      "Series.fillna with 'method' is deprecated and will raise in a future version. Use obj.ffill() or obj.bfill() instead.\n",
      "\n",
      "/var/folders/c2/hxfkbjc14h9d9m0ch12z7qh00000gn/T/ipykernel_29348/4084058739.py:22: FutureWarning:\n",
      "\n",
      "Series.fillna with 'method' is deprecated and will raise in a future version. Use obj.ffill() or obj.bfill() instead.\n",
      "\n",
      "/var/folders/c2/hxfkbjc14h9d9m0ch12z7qh00000gn/T/ipykernel_29348/4084058739.py:22: FutureWarning:\n",
      "\n",
      "Series.fillna with 'method' is deprecated and will raise in a future version. Use obj.ffill() or obj.bfill() instead.\n",
      "\n",
      "/var/folders/c2/hxfkbjc14h9d9m0ch12z7qh00000gn/T/ipykernel_29348/4084058739.py:22: FutureWarning:\n",
      "\n",
      "Series.fillna with 'method' is deprecated and will raise in a future version. Use obj.ffill() or obj.bfill() instead.\n",
      "\n",
      "/var/folders/c2/hxfkbjc14h9d9m0ch12z7qh00000gn/T/ipykernel_29348/4084058739.py:22: FutureWarning:\n",
      "\n",
      "Series.fillna with 'method' is deprecated and will raise in a future version. Use obj.ffill() or obj.bfill() instead.\n",
      "\n",
      "/var/folders/c2/hxfkbjc14h9d9m0ch12z7qh00000gn/T/ipykernel_29348/4084058739.py:22: FutureWarning:\n",
      "\n",
      "Series.fillna with 'method' is deprecated and will raise in a future version. Use obj.ffill() or obj.bfill() instead.\n",
      "\n",
      "/var/folders/c2/hxfkbjc14h9d9m0ch12z7qh00000gn/T/ipykernel_29348/4084058739.py:22: FutureWarning:\n",
      "\n",
      "Series.fillna with 'method' is deprecated and will raise in a future version. Use obj.ffill() or obj.bfill() instead.\n",
      "\n",
      "/var/folders/c2/hxfkbjc14h9d9m0ch12z7qh00000gn/T/ipykernel_29348/4084058739.py:22: FutureWarning:\n",
      "\n",
      "Series.fillna with 'method' is deprecated and will raise in a future version. Use obj.ffill() or obj.bfill() instead.\n",
      "\n",
      "/var/folders/c2/hxfkbjc14h9d9m0ch12z7qh00000gn/T/ipykernel_29348/4084058739.py:22: FutureWarning:\n",
      "\n",
      "Series.fillna with 'method' is deprecated and will raise in a future version. Use obj.ffill() or obj.bfill() instead.\n",
      "\n",
      "/var/folders/c2/hxfkbjc14h9d9m0ch12z7qh00000gn/T/ipykernel_29348/4084058739.py:22: FutureWarning:\n",
      "\n",
      "Series.fillna with 'method' is deprecated and will raise in a future version. Use obj.ffill() or obj.bfill() instead.\n",
      "\n",
      "/var/folders/c2/hxfkbjc14h9d9m0ch12z7qh00000gn/T/ipykernel_29348/4084058739.py:22: FutureWarning:\n",
      "\n",
      "Series.fillna with 'method' is deprecated and will raise in a future version. Use obj.ffill() or obj.bfill() instead.\n",
      "\n",
      "/var/folders/c2/hxfkbjc14h9d9m0ch12z7qh00000gn/T/ipykernel_29348/4084058739.py:22: FutureWarning:\n",
      "\n",
      "Series.fillna with 'method' is deprecated and will raise in a future version. Use obj.ffill() or obj.bfill() instead.\n",
      "\n",
      "/var/folders/c2/hxfkbjc14h9d9m0ch12z7qh00000gn/T/ipykernel_29348/4084058739.py:22: FutureWarning:\n",
      "\n",
      "Series.fillna with 'method' is deprecated and will raise in a future version. Use obj.ffill() or obj.bfill() instead.\n",
      "\n",
      "/var/folders/c2/hxfkbjc14h9d9m0ch12z7qh00000gn/T/ipykernel_29348/4084058739.py:22: FutureWarning:\n",
      "\n",
      "Series.fillna with 'method' is deprecated and will raise in a future version. Use obj.ffill() or obj.bfill() instead.\n",
      "\n",
      "/var/folders/c2/hxfkbjc14h9d9m0ch12z7qh00000gn/T/ipykernel_29348/4084058739.py:22: FutureWarning:\n",
      "\n",
      "Series.fillna with 'method' is deprecated and will raise in a future version. Use obj.ffill() or obj.bfill() instead.\n",
      "\n",
      "/var/folders/c2/hxfkbjc14h9d9m0ch12z7qh00000gn/T/ipykernel_29348/4084058739.py:22: FutureWarning:\n",
      "\n",
      "Series.fillna with 'method' is deprecated and will raise in a future version. Use obj.ffill() or obj.bfill() instead.\n",
      "\n",
      "/var/folders/c2/hxfkbjc14h9d9m0ch12z7qh00000gn/T/ipykernel_29348/4084058739.py:22: FutureWarning:\n",
      "\n",
      "Series.fillna with 'method' is deprecated and will raise in a future version. Use obj.ffill() or obj.bfill() instead.\n",
      "\n",
      "/var/folders/c2/hxfkbjc14h9d9m0ch12z7qh00000gn/T/ipykernel_29348/4084058739.py:22: FutureWarning:\n",
      "\n",
      "Series.fillna with 'method' is deprecated and will raise in a future version. Use obj.ffill() or obj.bfill() instead.\n",
      "\n",
      "/var/folders/c2/hxfkbjc14h9d9m0ch12z7qh00000gn/T/ipykernel_29348/4084058739.py:22: FutureWarning:\n",
      "\n",
      "Series.fillna with 'method' is deprecated and will raise in a future version. Use obj.ffill() or obj.bfill() instead.\n",
      "\n",
      "/var/folders/c2/hxfkbjc14h9d9m0ch12z7qh00000gn/T/ipykernel_29348/4084058739.py:22: FutureWarning:\n",
      "\n",
      "Series.fillna with 'method' is deprecated and will raise in a future version. Use obj.ffill() or obj.bfill() instead.\n",
      "\n",
      "/var/folders/c2/hxfkbjc14h9d9m0ch12z7qh00000gn/T/ipykernel_29348/4084058739.py:22: FutureWarning:\n",
      "\n",
      "Series.fillna with 'method' is deprecated and will raise in a future version. Use obj.ffill() or obj.bfill() instead.\n",
      "\n",
      "/var/folders/c2/hxfkbjc14h9d9m0ch12z7qh00000gn/T/ipykernel_29348/4084058739.py:22: FutureWarning:\n",
      "\n",
      "Series.fillna with 'method' is deprecated and will raise in a future version. Use obj.ffill() or obj.bfill() instead.\n",
      "\n",
      "/var/folders/c2/hxfkbjc14h9d9m0ch12z7qh00000gn/T/ipykernel_29348/4084058739.py:22: FutureWarning:\n",
      "\n",
      "Series.fillna with 'method' is deprecated and will raise in a future version. Use obj.ffill() or obj.bfill() instead.\n",
      "\n",
      "/var/folders/c2/hxfkbjc14h9d9m0ch12z7qh00000gn/T/ipykernel_29348/4084058739.py:22: FutureWarning:\n",
      "\n",
      "Series.fillna with 'method' is deprecated and will raise in a future version. Use obj.ffill() or obj.bfill() instead.\n",
      "\n",
      "/var/folders/c2/hxfkbjc14h9d9m0ch12z7qh00000gn/T/ipykernel_29348/4084058739.py:22: FutureWarning:\n",
      "\n",
      "Series.fillna with 'method' is deprecated and will raise in a future version. Use obj.ffill() or obj.bfill() instead.\n",
      "\n",
      "/var/folders/c2/hxfkbjc14h9d9m0ch12z7qh00000gn/T/ipykernel_29348/4084058739.py:22: FutureWarning:\n",
      "\n",
      "Series.fillna with 'method' is deprecated and will raise in a future version. Use obj.ffill() or obj.bfill() instead.\n",
      "\n",
      "/var/folders/c2/hxfkbjc14h9d9m0ch12z7qh00000gn/T/ipykernel_29348/4084058739.py:22: FutureWarning:\n",
      "\n",
      "Series.fillna with 'method' is deprecated and will raise in a future version. Use obj.ffill() or obj.bfill() instead.\n",
      "\n",
      "/var/folders/c2/hxfkbjc14h9d9m0ch12z7qh00000gn/T/ipykernel_29348/4084058739.py:22: FutureWarning:\n",
      "\n",
      "Series.fillna with 'method' is deprecated and will raise in a future version. Use obj.ffill() or obj.bfill() instead.\n",
      "\n",
      "/var/folders/c2/hxfkbjc14h9d9m0ch12z7qh00000gn/T/ipykernel_29348/4084058739.py:22: FutureWarning:\n",
      "\n",
      "Series.fillna with 'method' is deprecated and will raise in a future version. Use obj.ffill() or obj.bfill() instead.\n",
      "\n",
      "/var/folders/c2/hxfkbjc14h9d9m0ch12z7qh00000gn/T/ipykernel_29348/4084058739.py:22: FutureWarning:\n",
      "\n",
      "Series.fillna with 'method' is deprecated and will raise in a future version. Use obj.ffill() or obj.bfill() instead.\n",
      "\n",
      "/var/folders/c2/hxfkbjc14h9d9m0ch12z7qh00000gn/T/ipykernel_29348/4084058739.py:22: FutureWarning:\n",
      "\n",
      "Series.fillna with 'method' is deprecated and will raise in a future version. Use obj.ffill() or obj.bfill() instead.\n",
      "\n",
      "/var/folders/c2/hxfkbjc14h9d9m0ch12z7qh00000gn/T/ipykernel_29348/4084058739.py:22: FutureWarning:\n",
      "\n",
      "Series.fillna with 'method' is deprecated and will raise in a future version. Use obj.ffill() or obj.bfill() instead.\n",
      "\n",
      "/var/folders/c2/hxfkbjc14h9d9m0ch12z7qh00000gn/T/ipykernel_29348/4084058739.py:22: FutureWarning:\n",
      "\n",
      "Series.fillna with 'method' is deprecated and will raise in a future version. Use obj.ffill() or obj.bfill() instead.\n",
      "\n",
      "/var/folders/c2/hxfkbjc14h9d9m0ch12z7qh00000gn/T/ipykernel_29348/4084058739.py:22: FutureWarning:\n",
      "\n",
      "Series.fillna with 'method' is deprecated and will raise in a future version. Use obj.ffill() or obj.bfill() instead.\n",
      "\n",
      "/var/folders/c2/hxfkbjc14h9d9m0ch12z7qh00000gn/T/ipykernel_29348/4084058739.py:22: FutureWarning:\n",
      "\n",
      "Series.fillna with 'method' is deprecated and will raise in a future version. Use obj.ffill() or obj.bfill() instead.\n",
      "\n",
      "/var/folders/c2/hxfkbjc14h9d9m0ch12z7qh00000gn/T/ipykernel_29348/4084058739.py:22: FutureWarning:\n",
      "\n",
      "Series.fillna with 'method' is deprecated and will raise in a future version. Use obj.ffill() or obj.bfill() instead.\n",
      "\n",
      "/var/folders/c2/hxfkbjc14h9d9m0ch12z7qh00000gn/T/ipykernel_29348/4084058739.py:33: FutureWarning:\n",
      "\n",
      "DataFrame.fillna with 'method' is deprecated and will raise in a future version. Use obj.ffill() or obj.bfill() instead.\n",
      "\n",
      "/Users/sbaca/micromamba/envs/global_env/lib/python3.11/site-packages/ripser/ripser.py:253: UserWarning:\n",
      "\n",
      "The input point cloud has more columns than rows; did you mean to transpose?\n",
      "\n",
      "/Users/sbaca/micromamba/envs/global_env/lib/python3.11/site-packages/sklearn/utils/extmath.py:203: RuntimeWarning:\n",
      "\n",
      "divide by zero encountered in matmul\n",
      "\n",
      "/Users/sbaca/micromamba/envs/global_env/lib/python3.11/site-packages/sklearn/utils/extmath.py:203: RuntimeWarning:\n",
      "\n",
      "overflow encountered in matmul\n",
      "\n",
      "/Users/sbaca/micromamba/envs/global_env/lib/python3.11/site-packages/sklearn/utils/extmath.py:203: RuntimeWarning:\n",
      "\n",
      "invalid value encountered in matmul\n",
      "\n"
     ]
    },
    {
     "data": {
      "application/vnd.plotly.v1+json": {
       "config": {
        "plotlyServerURL": "https://plot.ly"
       },
       "data": [
        {
         "marker": {
          "color": "crimson",
          "size": 6
         },
         "mode": "markers",
         "name": "H0",
         "type": "scatter",
         "x": {
          "bdata": "AAAAAAAAAAAAAAAAAAAAAAAAAAAAAAAAAAAAAAAAAAAAAAAAAAAAAAAAAAAAAAAAAAAAAAAAAAAAAAAAAAAAAAAAAAAAAAAAAAAAAAAAAAAAAAAAAAAAAAAAAAAAAAAAAAAAAAAAAAAAAAAAAAAAAAAAAAAAAAAAAAAAAAAAAAAAAAAAAAAAAAAAAAAAAAAAAAAAAAAAAAAAAAAAAAAAAAAAAAAAAAAAAAAAAAAAAAAAAAAAAAAAAAAAAAAAAAAAAAAAAAAAAAAAAAAAAAAAAAAAAAAAAAAAAAAAAAAAAAAAAAAAAAAAAAAAAAAAAAAAAAAAAAAAAAAAAAAAAAAAAAAAAAAAAAAAAAAAAAAAAAAAAAAAAAAAAAAAAAAAAAAAAAAAAAAAAAAAAAAAAAAAAA==",
          "dtype": "f8"
         },
         "y": {
          "bdata": "AAAAAAAA4D4AAAAAAADgPgAAAIC5RCVAAAAAwPWoJUAAAABg4bcmQAAAACBXESdAAAAAQEt/J0AAAADAm7ooQAAAAADP8SlAAAAAgF9FKkAAAAAgFcUrQAAAAIDdJixAAAAAQAqhLEAAAAAAvhYtQAAAAOBxdi1AAAAAIC6mLUAAAACAsLktQAAAAEDCCC5AAAAAIDRbLkAAAABg09YuQAAAAIAt1y5AAAAAoG9IL0AAAAAA8msvQAAAAADyay9AAAAAYKylL0AAAABAQ9wvQAAAAKAJBTBAAAAAgAYlMEAAAADgpEQwQAAAACCjRjBAAAAAoL9vMEAAAACgv28wQAAAACAoHjJAAAAAIMEiMkAAAABAwow7QAAAAEDCjDtAAAAAQFbjO0AAAAAAAADwfw==",
          "dtype": "f8"
         }
        },
        {
         "line": {
          "color": "white",
          "dash": "dash"
         },
         "mode": "lines",
         "showlegend": false,
         "type": "scatter",
         "x": [
          0,
          null
         ],
         "y": [
          0,
          null
         ]
        }
       ],
       "layout": {
        "height": 500,
        "template": {
         "data": {
          "bar": [
           {
            "error_x": {
             "color": "#f2f5fa"
            },
            "error_y": {
             "color": "#f2f5fa"
            },
            "marker": {
             "line": {
              "color": "rgb(17,17,17)",
              "width": 0.5
             },
             "pattern": {
              "fillmode": "overlay",
              "size": 10,
              "solidity": 0.2
             }
            },
            "type": "bar"
           }
          ],
          "barpolar": [
           {
            "marker": {
             "line": {
              "color": "rgb(17,17,17)",
              "width": 0.5
             },
             "pattern": {
              "fillmode": "overlay",
              "size": 10,
              "solidity": 0.2
             }
            },
            "type": "barpolar"
           }
          ],
          "carpet": [
           {
            "aaxis": {
             "endlinecolor": "#A2B1C6",
             "gridcolor": "#506784",
             "linecolor": "#506784",
             "minorgridcolor": "#506784",
             "startlinecolor": "#A2B1C6"
            },
            "baxis": {
             "endlinecolor": "#A2B1C6",
             "gridcolor": "#506784",
             "linecolor": "#506784",
             "minorgridcolor": "#506784",
             "startlinecolor": "#A2B1C6"
            },
            "type": "carpet"
           }
          ],
          "choropleth": [
           {
            "colorbar": {
             "outlinewidth": 0,
             "ticks": ""
            },
            "type": "choropleth"
           }
          ],
          "contour": [
           {
            "colorbar": {
             "outlinewidth": 0,
             "ticks": ""
            },
            "colorscale": [
             [
              0,
              "#0d0887"
             ],
             [
              0.1111111111111111,
              "#46039f"
             ],
             [
              0.2222222222222222,
              "#7201a8"
             ],
             [
              0.3333333333333333,
              "#9c179e"
             ],
             [
              0.4444444444444444,
              "#bd3786"
             ],
             [
              0.5555555555555556,
              "#d8576b"
             ],
             [
              0.6666666666666666,
              "#ed7953"
             ],
             [
              0.7777777777777778,
              "#fb9f3a"
             ],
             [
              0.8888888888888888,
              "#fdca26"
             ],
             [
              1,
              "#f0f921"
             ]
            ],
            "type": "contour"
           }
          ],
          "contourcarpet": [
           {
            "colorbar": {
             "outlinewidth": 0,
             "ticks": ""
            },
            "type": "contourcarpet"
           }
          ],
          "heatmap": [
           {
            "colorbar": {
             "outlinewidth": 0,
             "ticks": ""
            },
            "colorscale": [
             [
              0,
              "#0d0887"
             ],
             [
              0.1111111111111111,
              "#46039f"
             ],
             [
              0.2222222222222222,
              "#7201a8"
             ],
             [
              0.3333333333333333,
              "#9c179e"
             ],
             [
              0.4444444444444444,
              "#bd3786"
             ],
             [
              0.5555555555555556,
              "#d8576b"
             ],
             [
              0.6666666666666666,
              "#ed7953"
             ],
             [
              0.7777777777777778,
              "#fb9f3a"
             ],
             [
              0.8888888888888888,
              "#fdca26"
             ],
             [
              1,
              "#f0f921"
             ]
            ],
            "type": "heatmap"
           }
          ],
          "histogram": [
           {
            "marker": {
             "pattern": {
              "fillmode": "overlay",
              "size": 10,
              "solidity": 0.2
             }
            },
            "type": "histogram"
           }
          ],
          "histogram2d": [
           {
            "colorbar": {
             "outlinewidth": 0,
             "ticks": ""
            },
            "colorscale": [
             [
              0,
              "#0d0887"
             ],
             [
              0.1111111111111111,
              "#46039f"
             ],
             [
              0.2222222222222222,
              "#7201a8"
             ],
             [
              0.3333333333333333,
              "#9c179e"
             ],
             [
              0.4444444444444444,
              "#bd3786"
             ],
             [
              0.5555555555555556,
              "#d8576b"
             ],
             [
              0.6666666666666666,
              "#ed7953"
             ],
             [
              0.7777777777777778,
              "#fb9f3a"
             ],
             [
              0.8888888888888888,
              "#fdca26"
             ],
             [
              1,
              "#f0f921"
             ]
            ],
            "type": "histogram2d"
           }
          ],
          "histogram2dcontour": [
           {
            "colorbar": {
             "outlinewidth": 0,
             "ticks": ""
            },
            "colorscale": [
             [
              0,
              "#0d0887"
             ],
             [
              0.1111111111111111,
              "#46039f"
             ],
             [
              0.2222222222222222,
              "#7201a8"
             ],
             [
              0.3333333333333333,
              "#9c179e"
             ],
             [
              0.4444444444444444,
              "#bd3786"
             ],
             [
              0.5555555555555556,
              "#d8576b"
             ],
             [
              0.6666666666666666,
              "#ed7953"
             ],
             [
              0.7777777777777778,
              "#fb9f3a"
             ],
             [
              0.8888888888888888,
              "#fdca26"
             ],
             [
              1,
              "#f0f921"
             ]
            ],
            "type": "histogram2dcontour"
           }
          ],
          "mesh3d": [
           {
            "colorbar": {
             "outlinewidth": 0,
             "ticks": ""
            },
            "type": "mesh3d"
           }
          ],
          "parcoords": [
           {
            "line": {
             "colorbar": {
              "outlinewidth": 0,
              "ticks": ""
             }
            },
            "type": "parcoords"
           }
          ],
          "pie": [
           {
            "automargin": true,
            "type": "pie"
           }
          ],
          "scatter": [
           {
            "marker": {
             "line": {
              "color": "#283442"
             }
            },
            "type": "scatter"
           }
          ],
          "scatter3d": [
           {
            "line": {
             "colorbar": {
              "outlinewidth": 0,
              "ticks": ""
             }
            },
            "marker": {
             "colorbar": {
              "outlinewidth": 0,
              "ticks": ""
             }
            },
            "type": "scatter3d"
           }
          ],
          "scattercarpet": [
           {
            "marker": {
             "colorbar": {
              "outlinewidth": 0,
              "ticks": ""
             }
            },
            "type": "scattercarpet"
           }
          ],
          "scattergeo": [
           {
            "marker": {
             "colorbar": {
              "outlinewidth": 0,
              "ticks": ""
             }
            },
            "type": "scattergeo"
           }
          ],
          "scattergl": [
           {
            "marker": {
             "line": {
              "color": "#283442"
             }
            },
            "type": "scattergl"
           }
          ],
          "scattermap": [
           {
            "marker": {
             "colorbar": {
              "outlinewidth": 0,
              "ticks": ""
             }
            },
            "type": "scattermap"
           }
          ],
          "scattermapbox": [
           {
            "marker": {
             "colorbar": {
              "outlinewidth": 0,
              "ticks": ""
             }
            },
            "type": "scattermapbox"
           }
          ],
          "scatterpolar": [
           {
            "marker": {
             "colorbar": {
              "outlinewidth": 0,
              "ticks": ""
             }
            },
            "type": "scatterpolar"
           }
          ],
          "scatterpolargl": [
           {
            "marker": {
             "colorbar": {
              "outlinewidth": 0,
              "ticks": ""
             }
            },
            "type": "scatterpolargl"
           }
          ],
          "scatterternary": [
           {
            "marker": {
             "colorbar": {
              "outlinewidth": 0,
              "ticks": ""
             }
            },
            "type": "scatterternary"
           }
          ],
          "surface": [
           {
            "colorbar": {
             "outlinewidth": 0,
             "ticks": ""
            },
            "colorscale": [
             [
              0,
              "#0d0887"
             ],
             [
              0.1111111111111111,
              "#46039f"
             ],
             [
              0.2222222222222222,
              "#7201a8"
             ],
             [
              0.3333333333333333,
              "#9c179e"
             ],
             [
              0.4444444444444444,
              "#bd3786"
             ],
             [
              0.5555555555555556,
              "#d8576b"
             ],
             [
              0.6666666666666666,
              "#ed7953"
             ],
             [
              0.7777777777777778,
              "#fb9f3a"
             ],
             [
              0.8888888888888888,
              "#fdca26"
             ],
             [
              1,
              "#f0f921"
             ]
            ],
            "type": "surface"
           }
          ],
          "table": [
           {
            "cells": {
             "fill": {
              "color": "#506784"
             },
             "line": {
              "color": "rgb(17,17,17)"
             }
            },
            "header": {
             "fill": {
              "color": "#2a3f5f"
             },
             "line": {
              "color": "rgb(17,17,17)"
             }
            },
            "type": "table"
           }
          ]
         },
         "layout": {
          "annotationdefaults": {
           "arrowcolor": "#f2f5fa",
           "arrowhead": 0,
           "arrowwidth": 1
          },
          "autotypenumbers": "strict",
          "coloraxis": {
           "colorbar": {
            "outlinewidth": 0,
            "ticks": ""
           }
          },
          "colorscale": {
           "diverging": [
            [
             0,
             "#8e0152"
            ],
            [
             0.1,
             "#c51b7d"
            ],
            [
             0.2,
             "#de77ae"
            ],
            [
             0.3,
             "#f1b6da"
            ],
            [
             0.4,
             "#fde0ef"
            ],
            [
             0.5,
             "#f7f7f7"
            ],
            [
             0.6,
             "#e6f5d0"
            ],
            [
             0.7,
             "#b8e186"
            ],
            [
             0.8,
             "#7fbc41"
            ],
            [
             0.9,
             "#4d9221"
            ],
            [
             1,
             "#276419"
            ]
           ],
           "sequential": [
            [
             0,
             "#0d0887"
            ],
            [
             0.1111111111111111,
             "#46039f"
            ],
            [
             0.2222222222222222,
             "#7201a8"
            ],
            [
             0.3333333333333333,
             "#9c179e"
            ],
            [
             0.4444444444444444,
             "#bd3786"
            ],
            [
             0.5555555555555556,
             "#d8576b"
            ],
            [
             0.6666666666666666,
             "#ed7953"
            ],
            [
             0.7777777777777778,
             "#fb9f3a"
            ],
            [
             0.8888888888888888,
             "#fdca26"
            ],
            [
             1,
             "#f0f921"
            ]
           ],
           "sequentialminus": [
            [
             0,
             "#0d0887"
            ],
            [
             0.1111111111111111,
             "#46039f"
            ],
            [
             0.2222222222222222,
             "#7201a8"
            ],
            [
             0.3333333333333333,
             "#9c179e"
            ],
            [
             0.4444444444444444,
             "#bd3786"
            ],
            [
             0.5555555555555556,
             "#d8576b"
            ],
            [
             0.6666666666666666,
             "#ed7953"
            ],
            [
             0.7777777777777778,
             "#fb9f3a"
            ],
            [
             0.8888888888888888,
             "#fdca26"
            ],
            [
             1,
             "#f0f921"
            ]
           ]
          },
          "colorway": [
           "#636efa",
           "#EF553B",
           "#00cc96",
           "#ab63fa",
           "#FFA15A",
           "#19d3f3",
           "#FF6692",
           "#B6E880",
           "#FF97FF",
           "#FECB52"
          ],
          "font": {
           "color": "#f2f5fa"
          },
          "geo": {
           "bgcolor": "rgb(17,17,17)",
           "lakecolor": "rgb(17,17,17)",
           "landcolor": "rgb(17,17,17)",
           "showlakes": true,
           "showland": true,
           "subunitcolor": "#506784"
          },
          "hoverlabel": {
           "align": "left"
          },
          "hovermode": "closest",
          "mapbox": {
           "style": "dark"
          },
          "paper_bgcolor": "rgb(17,17,17)",
          "plot_bgcolor": "rgb(17,17,17)",
          "polar": {
           "angularaxis": {
            "gridcolor": "#506784",
            "linecolor": "#506784",
            "ticks": ""
           },
           "bgcolor": "rgb(17,17,17)",
           "radialaxis": {
            "gridcolor": "#506784",
            "linecolor": "#506784",
            "ticks": ""
           }
          },
          "scene": {
           "xaxis": {
            "backgroundcolor": "rgb(17,17,17)",
            "gridcolor": "#506784",
            "gridwidth": 2,
            "linecolor": "#506784",
            "showbackground": true,
            "ticks": "",
            "zerolinecolor": "#C8D4E3"
           },
           "yaxis": {
            "backgroundcolor": "rgb(17,17,17)",
            "gridcolor": "#506784",
            "gridwidth": 2,
            "linecolor": "#506784",
            "showbackground": true,
            "ticks": "",
            "zerolinecolor": "#C8D4E3"
           },
           "zaxis": {
            "backgroundcolor": "rgb(17,17,17)",
            "gridcolor": "#506784",
            "gridwidth": 2,
            "linecolor": "#506784",
            "showbackground": true,
            "ticks": "",
            "zerolinecolor": "#C8D4E3"
           }
          },
          "shapedefaults": {
           "line": {
            "color": "#f2f5fa"
           }
          },
          "sliderdefaults": {
           "bgcolor": "#C8D4E3",
           "bordercolor": "rgb(17,17,17)",
           "borderwidth": 1,
           "tickwidth": 0
          },
          "ternary": {
           "aaxis": {
            "gridcolor": "#506784",
            "linecolor": "#506784",
            "ticks": ""
           },
           "baxis": {
            "gridcolor": "#506784",
            "linecolor": "#506784",
            "ticks": ""
           },
           "bgcolor": "rgb(17,17,17)",
           "caxis": {
            "gridcolor": "#506784",
            "linecolor": "#506784",
            "ticks": ""
           }
          },
          "title": {
           "x": 0.05
          },
          "updatemenudefaults": {
           "bgcolor": "#506784",
           "borderwidth": 0
          },
          "xaxis": {
           "automargin": true,
           "gridcolor": "#283442",
           "linecolor": "#506784",
           "ticks": "",
           "title": {
            "standoff": 15
           },
           "zerolinecolor": "#283442",
           "zerolinewidth": 2
          },
          "yaxis": {
           "automargin": true,
           "gridcolor": "#283442",
           "linecolor": "#506784",
           "ticks": "",
           "title": {
            "standoff": 15
           },
           "zerolinecolor": "#283442",
           "zerolinewidth": 2
          }
         }
        },
        "title": {
         "text": "Listing 1282890977555839180 H₀"
        },
        "width": 500,
        "xaxis": {
         "range": [
          0,
          null
         ],
         "title": {
          "text": "Birth"
         }
        },
        "yaxis": {
         "range": [
          0,
          null
         ],
         "title": {
          "text": "Death"
         }
        }
       }
      }
     },
     "metadata": {},
     "output_type": "display_data"
    }
   ],
   "source": [
    "listing_diagrams = compute_listing_persistence(df_ts_interp, dates, window_size=14, delay=1)\n",
    "global_diagrams  = compute_global_persistence(df_ts_interp, dates)\n",
    "\n",
    "# 2) plot example (in Dash you’d wrap these in dcc.Graph(..., figure=...))\n",
    "#    a) first listing H0 & H1\n",
    "first_id, (d0, d1, d2) = next(iter(listing_diagrams.items()))\n",
    "plot_diagram_plotly(d0, 0, f\"Listing {first_id} H₀\")"
   ]
  },
  {
   "cell_type": "code",
   "execution_count": 14,
   "id": "54293453",
   "metadata": {},
   "outputs": [],
   "source": [
    "import kmapper as km\n",
    "import numpy as np\n",
    "import pandas as pd\n",
    "import plotly.graph_objects as go\n",
    "from sklearn.cluster import DBSCAN\n",
    "from sklearn.preprocessing import StandardScaler\n",
    "\n",
    "# 4.8.1 Mapper on Price vs. Volatility Filter\n",
    "def mapper_price_volatility(df_attr, df_vol, filter_key=\"vol_max\",\n",
    "                            cover_n_cubes=10, cover_overlap=0.3,\n",
    "                            cluster_eps=0.5, cluster_min_samples=5):\n",
    "    \"\"\"\n",
    "    Runs Mapper on the combined attribute + volatility features,\n",
    "    using `filter_key` (e.g. 'vol_max' or 'Price_mean') as lens.\n",
    "    Returns a Plotly Figure of the Mapper graph.\n",
    "    \"\"\"\n",
    "    # 1) build feature matrix X\n",
    "    X_attr = df_attr.select_dtypes(include=\"number\").copy()\n",
    "    X_attr = X_attr.drop(columns=[\"latitude\",\"longitude\",\"Reviews\",\"Base fee\"], errors='ignore')\n",
    "    X_vol = df_vol[[\"std_dev\",\"max_dev\",\"spike_freq\"]]\n",
    "    X = pd.concat([X_attr, X_vol], axis=1).values\n",
    "    X = StandardScaler().fit_transform(X)\n",
    "    # 2) lens = the chosen filter\n",
    "    lens = df_vol[filter_key].values.reshape(-1,1)\n",
    "    # 3) init mapper\n",
    "    mapper = km.KeplerMapper(verbose=0)\n",
    "    graph = mapper.map(\n",
    "        lens,\n",
    "        X,\n",
    "        cover=km.Cover(n_cubes=cover_n_cubes, perc_overlap=cover_overlap),\n",
    "        clusterer=DBSCAN(eps=cluster_eps, min_samples=cluster_min_samples)\n",
    "    )\n",
    "    # 4) extract nodes & edges\n",
    "    nodes = graph[\"nodes\"]\n",
    "    edges = graph[\"links\"]\n",
    "    # 5) build scatter for nodes\n",
    "    node_x, node_y = [], []\n",
    "    for node_id, member_ids in nodes.items():\n",
    "        # position node at mean of its members' lens value\n",
    "        vals = lens[member_ids].flatten()\n",
    "        node_x.append(vals.mean())\n",
    "        node_y.append(len(member_ids))\n",
    "    fig = go.Figure()\n",
    "    # edges\n",
    "    for u,v in edges:\n",
    "        fig.add_trace(go.Scatter(\n",
    "            x=[node_x[u], node_x[v]],\n",
    "            y=[node_y[u], node_y[v]],\n",
    "            mode=\"lines\",\n",
    "            line=dict(color=\"gray\", width=1),\n",
    "            hoverinfo=\"none\",\n",
    "            showlegend=False\n",
    "        ))\n",
    "    # nodes\n",
    "    fig.add_trace(go.Scatter(\n",
    "        x=node_x, y=node_y,\n",
    "        mode=\"markers\",\n",
    "        marker=dict(size=[len(nodes[i])*2 for i in nodes],\n",
    "                    color=[lens[members].mean() for members in nodes.values()],\n",
    "                    colorscale=\"Hot\",\n",
    "                    showscale=True,\n",
    "                    colorbar=dict(title=filter_key)),\n",
    "        text=[f\"Node {i}<br>size={len(nodes[i])}\" for i in nodes],\n",
    "        hoverinfo=\"text\"\n",
    "    ))\n",
    "    fig.update_layout(\n",
    "        title=f\"Mapper Graph (filter={filter_key})\",\n",
    "        xaxis_title=filter_key,\n",
    "        yaxis_title=\"Node size\",\n",
    "        template=\"plotly_dark\"\n",
    "    )\n",
    "    return fig\n",
    "\n",
    "\n",
    "# 4.8.2 Mapper on Spatial + Price/Amenity Filter\n",
    "def mapper_spatial_price(df_attr, filter_key=\"Base fee\",\n",
    "                         cover_n_cubes=10, cover_overlap=0.3,\n",
    "                         cluster_eps=0.5, cluster_min_samples=5):\n",
    "    \"\"\"\n",
    "    Runs Mapper on (latitude,longitude) + selected price/amenity features,\n",
    "    using `filter_key` (e.g. 'Base fee') as lens.\n",
    "    \"\"\"\n",
    "    # build X = coords + numeric features\n",
    "    coords = df_attr[[\"latitude\",\"longitude\"]].values\n",
    "    feats = df_attr.select_dtypes(include=\"number\").drop(columns=[\"latitude\",\"longitude\"], errors='ignore')\n",
    "    X = np.hstack([coords, StandardScaler().fit_transform(feats)])\n",
    "    # lens = the chosen filter (scaled)\n",
    "    lens = StandardScaler().fit_transform(df_attr[[filter_key]].values)\n",
    "    mapper = km.KeplerMapper(verbose=0)\n",
    "    graph = mapper.map(\n",
    "        lens,\n",
    "        X,\n",
    "        cover=km.Cover(n_cubes=cover_n_cubes, perc_overlap=cover_overlap),\n",
    "        clusterer=DBSCAN(eps=cluster_eps, min_samples=cluster_min_samples)\n",
    "    )\n",
    "    nodes, edges = graph[\"nodes\"], graph[\"links\"]\n",
    "    # position each node by mean latitude/longitude of its members\n",
    "    node_x, node_y = [], []\n",
    "    for members in nodes.values():\n",
    "        latlons = coords[members]\n",
    "        node_x.append(latlons[:,1].mean())  # lon\n",
    "        node_y.append(latlons[:,0].mean())  # lat\n",
    "    fig = go.Figure()\n",
    "    # draw edges\n",
    "    for u,v in edges:\n",
    "        fig.add_trace(go.Scattermapbox(\n",
    "            lon=[node_x[u], node_x[v]],\n",
    "            lat=[node_y[u], node_y[v]],\n",
    "            mode=\"lines\",\n",
    "            line=dict(color=\"gray\", width=1),\n",
    "            showlegend=False\n",
    "        ))\n",
    "    # draw nodes\n",
    "    fig.add_trace(go.Scattermapbox(\n",
    "        lon=node_x, lat=node_y,\n",
    "        mode=\"markers\",\n",
    "        marker=dict(\n",
    "            size=[len(nodes[i])*3 for i in nodes],\n",
    "            color=[df_attr[filter_key].iloc[list(nodes[i])].mean() for i in nodes],\n",
    "            colorscale=\"Hot_r\",\n",
    "            showscale=True,\n",
    "            colorbar=dict(title=filter_key)\n",
    "        ),\n",
    "        text=[f\"Node {i}<br>size={len(nodes[i])}\" for i in nodes],\n",
    "        hoverinfo=\"text\"\n",
    "    ))\n",
    "    fig.update_layout(\n",
    "        mapbox_style=\"carto-darkmatter\",\n",
    "        mapbox_center={\"lat\": coords[:,0].mean(), \"lon\": coords[:,1].mean()},\n",
    "        mapbox_zoom=11,\n",
    "        title=\"Spatial + Price/Amenity Mapper\",\n",
    "        #margin=dict(l=0,r=0,t40,b0),\n",
    "        template=\"plotly_dark\"\n",
    "    )\n",
    "    return fig\n"
   ]
  },
  {
   "cell_type": "code",
   "execution_count": 16,
   "id": "a9fc1de8",
   "metadata": {},
   "outputs": [],
   "source": [
    "\n",
    "# 4.3.0 Compute Volatility Features\n",
    "def compute_volatility_features(spike_thresh=0.1):\n",
    "    \"\"\"\n",
    "    For each listing (row), compute:\n",
    "      - std_dev:  standard deviation of (price - mean)/mean\n",
    "      - max_dev:  maximum absolute deviation\n",
    "      - spike_freq: fraction of days with |dev| > spike_thresh\n",
    "    Returns a DataFrame indexed by ID.\n",
    "    \"\"\"\n",
    "    # Build deviation matrix\n",
    "    mat = df_ts_interp.set_index(\"ID\")[dates].astype(float)\n",
    "    row_means = mat.mean(axis=1)\n",
    "    dev = mat.sub(row_means, axis=0).div(row_means, axis=0)\n",
    "\n",
    "    # Extract features\n",
    "    std_dev    = dev.std(axis=1)\n",
    "    max_dev    = dev.abs().max(axis=1)\n",
    "    spike_freq = (dev.abs() > spike_thresh).sum(axis=1) / dev.shape[1]\n",
    "    \n",
    "    feats = pd.DataFrame({\n",
    "        \"std_dev\":    std_dev,\n",
    "        \"max_dev\":    max_dev,\n",
    "        \"spike_freq\": spike_freq\n",
    "    }).round(3)\n",
    "    return feats\n",
    "\n",
    "def cluster_volatility(feats, k=4):\n",
    "    \"\"\"\n",
    "    Fit KMeans on the features DataFrame and return\n",
    "    a new DataFrame with a 'cluster' column (as string).\n",
    "    \"\"\"\n",
    "    km = KMeans(n_clusters=k, random_state=0)\n",
    "    labels = km.fit_predict(feats)\n",
    "    df = feats.copy()\n",
    "    df[\"cluster\"] = labels.astype(str)\n",
    "    return df"
   ]
  },
  {
   "cell_type": "code",
   "execution_count": 17,
   "id": "e245bbfc",
   "metadata": {},
   "outputs": [
    {
     "ename": "KeyError",
     "evalue": "'vol_max'",
     "output_type": "error",
     "traceback": [
      "\u001b[0;31m---------------------------------------------------------------------------\u001b[0m",
      "\u001b[0;31mKeyError\u001b[0m                                  Traceback (most recent call last)",
      "File \u001b[0;32m~/micromamba/envs/global_env/lib/python3.11/site-packages/pandas/core/indexes/base.py:3805\u001b[0m, in \u001b[0;36mIndex.get_loc\u001b[0;34m(self, key)\u001b[0m\n\u001b[1;32m   3804\u001b[0m \u001b[38;5;28;01mtry\u001b[39;00m:\n\u001b[0;32m-> 3805\u001b[0m     \u001b[38;5;28;01mreturn\u001b[39;00m \u001b[38;5;28;43mself\u001b[39;49m\u001b[38;5;241;43m.\u001b[39;49m\u001b[43m_engine\u001b[49m\u001b[38;5;241;43m.\u001b[39;49m\u001b[43mget_loc\u001b[49m\u001b[43m(\u001b[49m\u001b[43mcasted_key\u001b[49m\u001b[43m)\u001b[49m\n\u001b[1;32m   3806\u001b[0m \u001b[38;5;28;01mexcept\u001b[39;00m \u001b[38;5;167;01mKeyError\u001b[39;00m \u001b[38;5;28;01mas\u001b[39;00m err:\n",
      "File \u001b[0;32mindex.pyx:167\u001b[0m, in \u001b[0;36mpandas._libs.index.IndexEngine.get_loc\u001b[0;34m()\u001b[0m\n",
      "File \u001b[0;32mindex.pyx:196\u001b[0m, in \u001b[0;36mpandas._libs.index.IndexEngine.get_loc\u001b[0;34m()\u001b[0m\n",
      "File \u001b[0;32mpandas/_libs/hashtable_class_helper.pxi:7081\u001b[0m, in \u001b[0;36mpandas._libs.hashtable.PyObjectHashTable.get_item\u001b[0;34m()\u001b[0m\n",
      "File \u001b[0;32mpandas/_libs/hashtable_class_helper.pxi:7089\u001b[0m, in \u001b[0;36mpandas._libs.hashtable.PyObjectHashTable.get_item\u001b[0;34m()\u001b[0m\n",
      "\u001b[0;31mKeyError\u001b[0m: 'vol_max'",
      "\nThe above exception was the direct cause of the following exception:\n",
      "\u001b[0;31mKeyError\u001b[0m                                  Traceback (most recent call last)",
      "Cell \u001b[0;32mIn[17], line 3\u001b[0m\n\u001b[1;32m      1\u001b[0m feats \u001b[38;5;241m=\u001b[39m compute_volatility_features()\n\u001b[1;32m      2\u001b[0m df_vol \u001b[38;5;241m=\u001b[39m cluster_volatility(feats)\n\u001b[0;32m----> 3\u001b[0m \u001b[43mmapper_price_volatility\u001b[49m\u001b[43m(\u001b[49m\u001b[43mdf_attr\u001b[49m\u001b[43m,\u001b[49m\u001b[43m \u001b[49m\u001b[43mdf_vol\u001b[49m\u001b[43m,\u001b[49m\u001b[38;5;124;43m\"\u001b[39;49m\u001b[38;5;124;43mvol_max\u001b[39;49m\u001b[38;5;124;43m\"\u001b[39;49m\u001b[43m)\u001b[49m\n",
      "Cell \u001b[0;32mIn[14], line 24\u001b[0m, in \u001b[0;36mmapper_price_volatility\u001b[0;34m(df_attr, df_vol, filter_key, cover_n_cubes, cover_overlap, cluster_eps, cluster_min_samples)\u001b[0m\n\u001b[1;32m     22\u001b[0m X \u001b[38;5;241m=\u001b[39m StandardScaler()\u001b[38;5;241m.\u001b[39mfit_transform(X)\n\u001b[1;32m     23\u001b[0m \u001b[38;5;66;03m# 2) lens = the chosen filter\u001b[39;00m\n\u001b[0;32m---> 24\u001b[0m lens \u001b[38;5;241m=\u001b[39m \u001b[43mdf_vol\u001b[49m\u001b[43m[\u001b[49m\u001b[43mfilter_key\u001b[49m\u001b[43m]\u001b[49m\u001b[38;5;241m.\u001b[39mvalues\u001b[38;5;241m.\u001b[39mreshape(\u001b[38;5;241m-\u001b[39m\u001b[38;5;241m1\u001b[39m,\u001b[38;5;241m1\u001b[39m)\n\u001b[1;32m     25\u001b[0m \u001b[38;5;66;03m# 3) init mapper\u001b[39;00m\n\u001b[1;32m     26\u001b[0m mapper \u001b[38;5;241m=\u001b[39m km\u001b[38;5;241m.\u001b[39mKeplerMapper(verbose\u001b[38;5;241m=\u001b[39m\u001b[38;5;241m0\u001b[39m)\n",
      "File \u001b[0;32m~/micromamba/envs/global_env/lib/python3.11/site-packages/pandas/core/frame.py:4102\u001b[0m, in \u001b[0;36mDataFrame.__getitem__\u001b[0;34m(self, key)\u001b[0m\n\u001b[1;32m   4100\u001b[0m \u001b[38;5;28;01mif\u001b[39;00m \u001b[38;5;28mself\u001b[39m\u001b[38;5;241m.\u001b[39mcolumns\u001b[38;5;241m.\u001b[39mnlevels \u001b[38;5;241m>\u001b[39m \u001b[38;5;241m1\u001b[39m:\n\u001b[1;32m   4101\u001b[0m     \u001b[38;5;28;01mreturn\u001b[39;00m \u001b[38;5;28mself\u001b[39m\u001b[38;5;241m.\u001b[39m_getitem_multilevel(key)\n\u001b[0;32m-> 4102\u001b[0m indexer \u001b[38;5;241m=\u001b[39m \u001b[38;5;28;43mself\u001b[39;49m\u001b[38;5;241;43m.\u001b[39;49m\u001b[43mcolumns\u001b[49m\u001b[38;5;241;43m.\u001b[39;49m\u001b[43mget_loc\u001b[49m\u001b[43m(\u001b[49m\u001b[43mkey\u001b[49m\u001b[43m)\u001b[49m\n\u001b[1;32m   4103\u001b[0m \u001b[38;5;28;01mif\u001b[39;00m is_integer(indexer):\n\u001b[1;32m   4104\u001b[0m     indexer \u001b[38;5;241m=\u001b[39m [indexer]\n",
      "File \u001b[0;32m~/micromamba/envs/global_env/lib/python3.11/site-packages/pandas/core/indexes/base.py:3812\u001b[0m, in \u001b[0;36mIndex.get_loc\u001b[0;34m(self, key)\u001b[0m\n\u001b[1;32m   3807\u001b[0m     \u001b[38;5;28;01mif\u001b[39;00m \u001b[38;5;28misinstance\u001b[39m(casted_key, \u001b[38;5;28mslice\u001b[39m) \u001b[38;5;129;01mor\u001b[39;00m (\n\u001b[1;32m   3808\u001b[0m         \u001b[38;5;28misinstance\u001b[39m(casted_key, abc\u001b[38;5;241m.\u001b[39mIterable)\n\u001b[1;32m   3809\u001b[0m         \u001b[38;5;129;01mand\u001b[39;00m \u001b[38;5;28many\u001b[39m(\u001b[38;5;28misinstance\u001b[39m(x, \u001b[38;5;28mslice\u001b[39m) \u001b[38;5;28;01mfor\u001b[39;00m x \u001b[38;5;129;01min\u001b[39;00m casted_key)\n\u001b[1;32m   3810\u001b[0m     ):\n\u001b[1;32m   3811\u001b[0m         \u001b[38;5;28;01mraise\u001b[39;00m InvalidIndexError(key)\n\u001b[0;32m-> 3812\u001b[0m     \u001b[38;5;28;01mraise\u001b[39;00m \u001b[38;5;167;01mKeyError\u001b[39;00m(key) \u001b[38;5;28;01mfrom\u001b[39;00m\u001b[38;5;250m \u001b[39m\u001b[38;5;21;01merr\u001b[39;00m\n\u001b[1;32m   3813\u001b[0m \u001b[38;5;28;01mexcept\u001b[39;00m \u001b[38;5;167;01mTypeError\u001b[39;00m:\n\u001b[1;32m   3814\u001b[0m     \u001b[38;5;66;03m# If we have a listlike key, _check_indexing_error will raise\u001b[39;00m\n\u001b[1;32m   3815\u001b[0m     \u001b[38;5;66;03m#  InvalidIndexError. Otherwise we fall through and re-raise\u001b[39;00m\n\u001b[1;32m   3816\u001b[0m     \u001b[38;5;66;03m#  the TypeError.\u001b[39;00m\n\u001b[1;32m   3817\u001b[0m     \u001b[38;5;28mself\u001b[39m\u001b[38;5;241m.\u001b[39m_check_indexing_error(key)\n",
      "\u001b[0;31mKeyError\u001b[0m: 'vol_max'"
     ]
    }
   ],
   "source": [
    "feats = compute_volatility_features()\n",
    "df_vol = cluster_volatility(feats)\n",
    "mapper_price_volatility(df_attr, df_vol,\"vol_max\")"
   ]
  },
  {
   "cell_type": "code",
   "execution_count": 18,
   "id": "f07f925f",
   "metadata": {},
   "outputs": [],
   "source": [
    "from tslearn.metrics import cdist_dtw\n",
    "from ripser import ripser\n",
    "from persim import plot_diagrams\n",
    "import plotly.graph_objects as go\n",
    "\n",
    "# 3.1 Build similarity graph & compute VR persistent homology\n",
    "def networked_timeseries_persistence(dates, max_dim=1, thresh=None):\n",
    "    \"\"\"\n",
    "    1) Compute pairwise DTW distances between each listing’s interpolated price series.\n",
    "    2) Build a Vietoris–Rips filtration on that distance matrix (optionally thresholded).\n",
    "    3) Return and plot the persistence diagrams (H0 & H1).\n",
    "    \"\"\"\n",
    "    # 1) extract the matrix (listings × time)\n",
    "    X = df_ts_interp[dates].astype(float).values\n",
    "    # 2) compute DTW distance matrix (slow for N>200)\n",
    "    D = cdist_dtw(X)  \n",
    "    # optional threshold to sparsify?\n",
    "    if thresh is not None:\n",
    "        D = np.minimum(D, thresh)\n",
    "\n",
    "    # 3) compute persistent homology\n",
    "    diagrams = ripser(D, distance_matrix=True, maxdim=max_dim)['dgms']\n",
    "\n",
    "    # 4) convert to Plotly figure\n",
    "    fig = go.Figure()\n",
    "    colors = [\"#7e0d24\",\"#dddddd\"]\n",
    "    for dim, dgm in enumerate(diagrams):\n",
    "        # scatter of (birth, death)\n",
    "        fig.add_trace(go.Scatter(\n",
    "            x=dgm[:,0], y=dgm[:,1],\n",
    "            mode=\"markers\",\n",
    "            marker=dict(color=colors[dim], size=6, opacity=0.8),\n",
    "            name=f\"H{dim}\"\n",
    "        ))\n",
    "    # add diagonal reference\n",
    "    lim = [0, np.nanmax([d.max() for d in diagrams])]\n",
    "    fig.add_trace(go.Scatter(\n",
    "        x=lim, y=lim, mode=\"lines\",\n",
    "        line=dict(color=\"gray\", dash=\"dash\"),\n",
    "        showlegend=False\n",
    "    ))\n",
    "    fig.update_layout(\n",
    "        title=\"Vietoris–Rips Persistence (DTW)\",\n",
    "        xaxis_title=\"Birth\", yaxis_title=\"Death\",\n",
    "        template=\"plotly_dark\",\n",
    "        width=600, height=600\n",
    "    )\n",
    "    return fig, diagrams\n",
    "\n",
    "# 3.2 Plot the resulting barcodes as well\n",
    "def networked_timeseries_barcodes(diagrams):\n",
    "    \"\"\"\n",
    "    Given ripser output `diagrams`, show barcodes for H0 and H1.\n",
    "    \"\"\"\n",
    "    fig = go.Figure()\n",
    "    y_off = 0\n",
    "    height = 300\n",
    "    for dim, dgm in enumerate(diagrams):\n",
    "        for (b, d) in dgm:\n",
    "            fig.add_trace(go.Bar(\n",
    "                x=[d - b],\n",
    "                y=[y_off],\n",
    "                base=b,\n",
    "                orientation='h',\n",
    "                width=0.4,\n",
    "                marker=dict(color=\"#7e0d24\" if dim==1 else \"#dddddd\"),\n",
    "                showlegend=(dim==0 and y_off==0),\n",
    "                name=f\"H{dim}\" if y_off==0 else None,\n",
    "            ))\n",
    "            y_off += 1\n",
    "        # leave a gap between dimensions\n",
    "        y_off += 1\n",
    "    fig.update_layout(\n",
    "        title=\"Persistence Barcodes\",\n",
    "        xaxis_title=\"Filtration Value\",\n",
    "        yaxis=dict(showticklabels=False),\n",
    "        template=\"plotly_dark\",\n",
    "        height=height + 20*y_off, width=800\n",
    "    )\n",
    "    return fig\n"
   ]
  },
  {
   "cell_type": "code",
   "execution_count": 19,
   "id": "315cd93d",
   "metadata": {},
   "outputs": [
    {
     "data": {
      "application/vnd.plotly.v1+json": {
       "config": {
        "plotlyServerURL": "https://plot.ly"
       },
       "data": [
        {
         "marker": {
          "color": "#7e0d24",
          "opacity": 0.8,
          "size": 6
         },
         "mode": "markers",
         "name": "H0",
         "type": "scatter",
         "x": {
          "bdata": "AAAAAAAAAAAAAAAAAAAAAAAAAAAAAAAAAAAAAAAAAAAAAAAAAAAAAAAAAAAAAAAAAAAAAAAAAAAAAAAAAAAAAAAAAAAAAAAAAAAAAAAAAAAAAAAAAAAAAAAAAAAAAAAAAAAAAAAAAAAAAAAAAAAAAAAAAAAAAAAAAAAAAAAAAAAAAAAAAAAAAAAAAAAAAAAAAAAAAAAAAAAAAAAAAAAAAAAAAAAAAAAAAAAAAAAAAAAAAAAAAAAAAAAAAAAAAAAAAAAAAAAAAAAAAAAAAAAAAAAAAAAAAAAAAAAAAAAAAAAAAAAAAAAAAAAAAAAAAAAAAAAAAAAAAAAAAAAAAAAAAAAAAAAAAAAAAAAAAAAAAAAAAAAAAAAAAAAAAAAAAAAAAAAAAAAAAAAAAAAAAAAAAAAAAAAAAAAAAAAAAAAAAAAAAAAAAAAAAAAAAAAAAAAAAAAAAAAAAAAAAAAAAAAAAAAAAAAAAAAAAAAAAAAAAAAAAAAAAAAAAAAAAAAAAAAAAAAAAAAAAAAAAAAAAAAAAAAAAAAAAAAAAAAAAAAAAAAAAAAAAAAAAAAAAAAAAAAAAAAAAAAAAAAAAAAAAAAAAAAAAAAAAAAAAAAAAAAAAAAAAAAAAAAAAAAAAAAAAAAAAAAAAAAAAAAAAAAAAAAAAAAAAAAAAAAAAAAAAAAAAAAAAAAAAAAAAAAAAAAAAAAAAAAAAAAAAAAAAAAAAAAAAAAAAAAAAAAAAAAAAAAAAAAAAAAAAAAAAAAAAAAAAAAAAAAAAAAAAAAAAAAAAAAAAA==",
          "dtype": "f8"
         },
         "y": {
          "bdata": "AAAAAEgXAEAAAAAAAAAcQAAAAEBnJyJAAAAAAFRgJkAAAACAgVspQAAAAKBpJi9AAAAA4I2iMEAAAABATZgzQAAAAMDBrTRAAAAAIMJzNUAAAADgd3A2QAAAAGDndTdAAAAAQCWRN0AAAAAglbk3QAAAACAcrjhAAAAAYNsKOUAAAABA8745QAAAAEB1CDtAAAAAgHsMPUAAAAAAXX09QAAAACB70T1AAAAAgGUIPkAAAAAAd+o+QAAAAIDRRD9AAAAAgCDaP0AAAACAeB9AQAAAAIA5IEBAAAAAwEd5QEAAAADgyrdAQAAAAEDZSEFAAAAAwDcEQkAAAADgXCNCQAAAAKAUpEJAAAAAwLukQkAAAABA6NNCQAAAAMC/HkNAAAAAQLu6Q0AAAAAghgFEQAAAAOA8FERAAAAAYFEtREAAAACArEZEQAAAAEBy7ERAAAAAwH85RUAAAAAgTzdGQAAAAOC9jkZAAAAAQBCtSEAAAAAgrCFKQAAAAIAoJ0tAAAAAQMCZS0AAAACgBSZNQAAAAKDROE1AAAAAAFFQTUAAAADg2oZNQAAAAID0Wk9AAAAAALRRUEAAAABgjhFRQAAAACBNhVJAAAAAgJX+UkAAAADAOy1TQAAAAAAh31NAAAAAoNoOVEAAAAAAExhVQAAAAMAkYldAAAAAgGDcWEAAAADACa1aQAAAAODOJltAAAAAYKVGW0AAAACg16dbQAAAAIA0UlxAAAAAIFnYXEAAAABA//VdQAAAAMB2aV5AAAAAYPQEYUAAAAAAAADwfw==",
          "dtype": "f8"
         }
        },
        {
         "marker": {
          "color": "#dddddd",
          "opacity": 0.8,
          "size": 6
         },
         "mode": "markers",
         "name": "H1",
         "type": "scatter",
         "x": {
          "bdata": "AAAA4K0CbkAAAADgwldlQAAAAAAOI2JAAAAAoEjPXkAAAACA+gBPQAAAAOBBr0tAAAAAYNODSkAAAABgpJxIQAAAAEAE1EZAAAAA4KzaRUAAAABgk9ZEQAAAAMDsiERAAAAAAG7CQ0AAAADAFcdCQAAAAOCoEEJAAAAAgMS0QUAAAABA2Jc/QAAAAKCEuD5A",
          "dtype": "f8"
         },
         "y": {
          "bdata": "AAAAYA/mbkAAAAAg/ENmQAAAAGDWvWNAAAAAQFhpYUAAAACApy9SQAAAAID0aUxAAAAAQPSBUEAAAADALWlOQAAAAIDRDElAAAAAwDGZRkAAAACgsV5FQAAAAOD5nUVAAAAAQA3ZQ0AAAABglJJEQAAAAKAFR0RAAAAAoGo+QkAAAADgI9VAQAAAAOCG6D5A",
          "dtype": "f8"
         }
        },
        {
         "line": {
          "color": "gray",
          "dash": "dash"
         },
         "mode": "lines",
         "showlegend": false,
         "type": "scatter",
         "x": [
          0,
          null
         ],
         "y": [
          0,
          null
         ]
        }
       ],
       "layout": {
        "height": 600,
        "template": {
         "data": {
          "bar": [
           {
            "error_x": {
             "color": "#f2f5fa"
            },
            "error_y": {
             "color": "#f2f5fa"
            },
            "marker": {
             "line": {
              "color": "rgb(17,17,17)",
              "width": 0.5
             },
             "pattern": {
              "fillmode": "overlay",
              "size": 10,
              "solidity": 0.2
             }
            },
            "type": "bar"
           }
          ],
          "barpolar": [
           {
            "marker": {
             "line": {
              "color": "rgb(17,17,17)",
              "width": 0.5
             },
             "pattern": {
              "fillmode": "overlay",
              "size": 10,
              "solidity": 0.2
             }
            },
            "type": "barpolar"
           }
          ],
          "carpet": [
           {
            "aaxis": {
             "endlinecolor": "#A2B1C6",
             "gridcolor": "#506784",
             "linecolor": "#506784",
             "minorgridcolor": "#506784",
             "startlinecolor": "#A2B1C6"
            },
            "baxis": {
             "endlinecolor": "#A2B1C6",
             "gridcolor": "#506784",
             "linecolor": "#506784",
             "minorgridcolor": "#506784",
             "startlinecolor": "#A2B1C6"
            },
            "type": "carpet"
           }
          ],
          "choropleth": [
           {
            "colorbar": {
             "outlinewidth": 0,
             "ticks": ""
            },
            "type": "choropleth"
           }
          ],
          "contour": [
           {
            "colorbar": {
             "outlinewidth": 0,
             "ticks": ""
            },
            "colorscale": [
             [
              0,
              "#0d0887"
             ],
             [
              0.1111111111111111,
              "#46039f"
             ],
             [
              0.2222222222222222,
              "#7201a8"
             ],
             [
              0.3333333333333333,
              "#9c179e"
             ],
             [
              0.4444444444444444,
              "#bd3786"
             ],
             [
              0.5555555555555556,
              "#d8576b"
             ],
             [
              0.6666666666666666,
              "#ed7953"
             ],
             [
              0.7777777777777778,
              "#fb9f3a"
             ],
             [
              0.8888888888888888,
              "#fdca26"
             ],
             [
              1,
              "#f0f921"
             ]
            ],
            "type": "contour"
           }
          ],
          "contourcarpet": [
           {
            "colorbar": {
             "outlinewidth": 0,
             "ticks": ""
            },
            "type": "contourcarpet"
           }
          ],
          "heatmap": [
           {
            "colorbar": {
             "outlinewidth": 0,
             "ticks": ""
            },
            "colorscale": [
             [
              0,
              "#0d0887"
             ],
             [
              0.1111111111111111,
              "#46039f"
             ],
             [
              0.2222222222222222,
              "#7201a8"
             ],
             [
              0.3333333333333333,
              "#9c179e"
             ],
             [
              0.4444444444444444,
              "#bd3786"
             ],
             [
              0.5555555555555556,
              "#d8576b"
             ],
             [
              0.6666666666666666,
              "#ed7953"
             ],
             [
              0.7777777777777778,
              "#fb9f3a"
             ],
             [
              0.8888888888888888,
              "#fdca26"
             ],
             [
              1,
              "#f0f921"
             ]
            ],
            "type": "heatmap"
           }
          ],
          "histogram": [
           {
            "marker": {
             "pattern": {
              "fillmode": "overlay",
              "size": 10,
              "solidity": 0.2
             }
            },
            "type": "histogram"
           }
          ],
          "histogram2d": [
           {
            "colorbar": {
             "outlinewidth": 0,
             "ticks": ""
            },
            "colorscale": [
             [
              0,
              "#0d0887"
             ],
             [
              0.1111111111111111,
              "#46039f"
             ],
             [
              0.2222222222222222,
              "#7201a8"
             ],
             [
              0.3333333333333333,
              "#9c179e"
             ],
             [
              0.4444444444444444,
              "#bd3786"
             ],
             [
              0.5555555555555556,
              "#d8576b"
             ],
             [
              0.6666666666666666,
              "#ed7953"
             ],
             [
              0.7777777777777778,
              "#fb9f3a"
             ],
             [
              0.8888888888888888,
              "#fdca26"
             ],
             [
              1,
              "#f0f921"
             ]
            ],
            "type": "histogram2d"
           }
          ],
          "histogram2dcontour": [
           {
            "colorbar": {
             "outlinewidth": 0,
             "ticks": ""
            },
            "colorscale": [
             [
              0,
              "#0d0887"
             ],
             [
              0.1111111111111111,
              "#46039f"
             ],
             [
              0.2222222222222222,
              "#7201a8"
             ],
             [
              0.3333333333333333,
              "#9c179e"
             ],
             [
              0.4444444444444444,
              "#bd3786"
             ],
             [
              0.5555555555555556,
              "#d8576b"
             ],
             [
              0.6666666666666666,
              "#ed7953"
             ],
             [
              0.7777777777777778,
              "#fb9f3a"
             ],
             [
              0.8888888888888888,
              "#fdca26"
             ],
             [
              1,
              "#f0f921"
             ]
            ],
            "type": "histogram2dcontour"
           }
          ],
          "mesh3d": [
           {
            "colorbar": {
             "outlinewidth": 0,
             "ticks": ""
            },
            "type": "mesh3d"
           }
          ],
          "parcoords": [
           {
            "line": {
             "colorbar": {
              "outlinewidth": 0,
              "ticks": ""
             }
            },
            "type": "parcoords"
           }
          ],
          "pie": [
           {
            "automargin": true,
            "type": "pie"
           }
          ],
          "scatter": [
           {
            "marker": {
             "line": {
              "color": "#283442"
             }
            },
            "type": "scatter"
           }
          ],
          "scatter3d": [
           {
            "line": {
             "colorbar": {
              "outlinewidth": 0,
              "ticks": ""
             }
            },
            "marker": {
             "colorbar": {
              "outlinewidth": 0,
              "ticks": ""
             }
            },
            "type": "scatter3d"
           }
          ],
          "scattercarpet": [
           {
            "marker": {
             "colorbar": {
              "outlinewidth": 0,
              "ticks": ""
             }
            },
            "type": "scattercarpet"
           }
          ],
          "scattergeo": [
           {
            "marker": {
             "colorbar": {
              "outlinewidth": 0,
              "ticks": ""
             }
            },
            "type": "scattergeo"
           }
          ],
          "scattergl": [
           {
            "marker": {
             "line": {
              "color": "#283442"
             }
            },
            "type": "scattergl"
           }
          ],
          "scattermap": [
           {
            "marker": {
             "colorbar": {
              "outlinewidth": 0,
              "ticks": ""
             }
            },
            "type": "scattermap"
           }
          ],
          "scattermapbox": [
           {
            "marker": {
             "colorbar": {
              "outlinewidth": 0,
              "ticks": ""
             }
            },
            "type": "scattermapbox"
           }
          ],
          "scatterpolar": [
           {
            "marker": {
             "colorbar": {
              "outlinewidth": 0,
              "ticks": ""
             }
            },
            "type": "scatterpolar"
           }
          ],
          "scatterpolargl": [
           {
            "marker": {
             "colorbar": {
              "outlinewidth": 0,
              "ticks": ""
             }
            },
            "type": "scatterpolargl"
           }
          ],
          "scatterternary": [
           {
            "marker": {
             "colorbar": {
              "outlinewidth": 0,
              "ticks": ""
             }
            },
            "type": "scatterternary"
           }
          ],
          "surface": [
           {
            "colorbar": {
             "outlinewidth": 0,
             "ticks": ""
            },
            "colorscale": [
             [
              0,
              "#0d0887"
             ],
             [
              0.1111111111111111,
              "#46039f"
             ],
             [
              0.2222222222222222,
              "#7201a8"
             ],
             [
              0.3333333333333333,
              "#9c179e"
             ],
             [
              0.4444444444444444,
              "#bd3786"
             ],
             [
              0.5555555555555556,
              "#d8576b"
             ],
             [
              0.6666666666666666,
              "#ed7953"
             ],
             [
              0.7777777777777778,
              "#fb9f3a"
             ],
             [
              0.8888888888888888,
              "#fdca26"
             ],
             [
              1,
              "#f0f921"
             ]
            ],
            "type": "surface"
           }
          ],
          "table": [
           {
            "cells": {
             "fill": {
              "color": "#506784"
             },
             "line": {
              "color": "rgb(17,17,17)"
             }
            },
            "header": {
             "fill": {
              "color": "#2a3f5f"
             },
             "line": {
              "color": "rgb(17,17,17)"
             }
            },
            "type": "table"
           }
          ]
         },
         "layout": {
          "annotationdefaults": {
           "arrowcolor": "#f2f5fa",
           "arrowhead": 0,
           "arrowwidth": 1
          },
          "autotypenumbers": "strict",
          "coloraxis": {
           "colorbar": {
            "outlinewidth": 0,
            "ticks": ""
           }
          },
          "colorscale": {
           "diverging": [
            [
             0,
             "#8e0152"
            ],
            [
             0.1,
             "#c51b7d"
            ],
            [
             0.2,
             "#de77ae"
            ],
            [
             0.3,
             "#f1b6da"
            ],
            [
             0.4,
             "#fde0ef"
            ],
            [
             0.5,
             "#f7f7f7"
            ],
            [
             0.6,
             "#e6f5d0"
            ],
            [
             0.7,
             "#b8e186"
            ],
            [
             0.8,
             "#7fbc41"
            ],
            [
             0.9,
             "#4d9221"
            ],
            [
             1,
             "#276419"
            ]
           ],
           "sequential": [
            [
             0,
             "#0d0887"
            ],
            [
             0.1111111111111111,
             "#46039f"
            ],
            [
             0.2222222222222222,
             "#7201a8"
            ],
            [
             0.3333333333333333,
             "#9c179e"
            ],
            [
             0.4444444444444444,
             "#bd3786"
            ],
            [
             0.5555555555555556,
             "#d8576b"
            ],
            [
             0.6666666666666666,
             "#ed7953"
            ],
            [
             0.7777777777777778,
             "#fb9f3a"
            ],
            [
             0.8888888888888888,
             "#fdca26"
            ],
            [
             1,
             "#f0f921"
            ]
           ],
           "sequentialminus": [
            [
             0,
             "#0d0887"
            ],
            [
             0.1111111111111111,
             "#46039f"
            ],
            [
             0.2222222222222222,
             "#7201a8"
            ],
            [
             0.3333333333333333,
             "#9c179e"
            ],
            [
             0.4444444444444444,
             "#bd3786"
            ],
            [
             0.5555555555555556,
             "#d8576b"
            ],
            [
             0.6666666666666666,
             "#ed7953"
            ],
            [
             0.7777777777777778,
             "#fb9f3a"
            ],
            [
             0.8888888888888888,
             "#fdca26"
            ],
            [
             1,
             "#f0f921"
            ]
           ]
          },
          "colorway": [
           "#636efa",
           "#EF553B",
           "#00cc96",
           "#ab63fa",
           "#FFA15A",
           "#19d3f3",
           "#FF6692",
           "#B6E880",
           "#FF97FF",
           "#FECB52"
          ],
          "font": {
           "color": "#f2f5fa"
          },
          "geo": {
           "bgcolor": "rgb(17,17,17)",
           "lakecolor": "rgb(17,17,17)",
           "landcolor": "rgb(17,17,17)",
           "showlakes": true,
           "showland": true,
           "subunitcolor": "#506784"
          },
          "hoverlabel": {
           "align": "left"
          },
          "hovermode": "closest",
          "mapbox": {
           "style": "dark"
          },
          "paper_bgcolor": "rgb(17,17,17)",
          "plot_bgcolor": "rgb(17,17,17)",
          "polar": {
           "angularaxis": {
            "gridcolor": "#506784",
            "linecolor": "#506784",
            "ticks": ""
           },
           "bgcolor": "rgb(17,17,17)",
           "radialaxis": {
            "gridcolor": "#506784",
            "linecolor": "#506784",
            "ticks": ""
           }
          },
          "scene": {
           "xaxis": {
            "backgroundcolor": "rgb(17,17,17)",
            "gridcolor": "#506784",
            "gridwidth": 2,
            "linecolor": "#506784",
            "showbackground": true,
            "ticks": "",
            "zerolinecolor": "#C8D4E3"
           },
           "yaxis": {
            "backgroundcolor": "rgb(17,17,17)",
            "gridcolor": "#506784",
            "gridwidth": 2,
            "linecolor": "#506784",
            "showbackground": true,
            "ticks": "",
            "zerolinecolor": "#C8D4E3"
           },
           "zaxis": {
            "backgroundcolor": "rgb(17,17,17)",
            "gridcolor": "#506784",
            "gridwidth": 2,
            "linecolor": "#506784",
            "showbackground": true,
            "ticks": "",
            "zerolinecolor": "#C8D4E3"
           }
          },
          "shapedefaults": {
           "line": {
            "color": "#f2f5fa"
           }
          },
          "sliderdefaults": {
           "bgcolor": "#C8D4E3",
           "bordercolor": "rgb(17,17,17)",
           "borderwidth": 1,
           "tickwidth": 0
          },
          "ternary": {
           "aaxis": {
            "gridcolor": "#506784",
            "linecolor": "#506784",
            "ticks": ""
           },
           "baxis": {
            "gridcolor": "#506784",
            "linecolor": "#506784",
            "ticks": ""
           },
           "bgcolor": "rgb(17,17,17)",
           "caxis": {
            "gridcolor": "#506784",
            "linecolor": "#506784",
            "ticks": ""
           }
          },
          "title": {
           "x": 0.05
          },
          "updatemenudefaults": {
           "bgcolor": "#506784",
           "borderwidth": 0
          },
          "xaxis": {
           "automargin": true,
           "gridcolor": "#283442",
           "linecolor": "#506784",
           "ticks": "",
           "title": {
            "standoff": 15
           },
           "zerolinecolor": "#283442",
           "zerolinewidth": 2
          },
          "yaxis": {
           "automargin": true,
           "gridcolor": "#283442",
           "linecolor": "#506784",
           "ticks": "",
           "title": {
            "standoff": 15
           },
           "zerolinecolor": "#283442",
           "zerolinewidth": 2
          }
         }
        },
        "title": {
         "text": "Vietoris–Rips Persistence (DTW)"
        },
        "width": 600,
        "xaxis": {
         "title": {
          "text": "Birth"
         }
        },
        "yaxis": {
         "title": {
          "text": "Death"
         }
        }
       }
      }
     },
     "metadata": {},
     "output_type": "display_data"
    }
   ],
   "source": [
    "diag_fig, diags = networked_timeseries_persistence(dates)\n",
    "barcode_fig     = networked_timeseries_barcodes(diags)\n",
    "diag_fig"
   ]
  },
  {
   "cell_type": "code",
   "execution_count": 21,
   "id": "e7a00abb",
   "metadata": {},
   "outputs": [
    {
     "data": {
      "application/vnd.plotly.v1+json": {
       "config": {
        "plotlyServerURL": "https://plot.ly"
       },
       "data": [
        {
         "marker": {
          "color": "#7e0d24",
          "opacity": 0.8,
          "size": 6
         },
         "mode": "markers",
         "name": "H0",
         "type": "scatter",
         "x": {
          "bdata": "AAAAAAAAAAAAAAAAAAAAAAAAAAAAAAAAAAAAAAAAAAAAAAAAAAAAAAAAAAAAAAAAAAAAAAAAAAAAAAAAAAAAAAAAAAAAAAAAAAAAAAAAAAAAAAAAAAAAAAAAAAAAAAAAAAAAAAAAAAAAAAAAAAAAAAAAAAAAAAAAAAAAAAAAAAAAAAAAAAAAAAAAAAAAAAAAAAAAAAAAAAAAAAAAAAAAAAAAAAAAAAAAAAAAAAAAAAAAAAAAAAAAAAAAAAAAAAAAAAAAAAAAAAAAAAAAAAAAAAAAAAAAAAAAAAAAAAAAAAAAAAAAAAAAAAAAAAAAAAAAAAAAAAAAAAAAAAAAAAAAAAAAAAAAAAAAAAAAAAAAAAAAAAAAAAAAAAAAAAAAAAAAAAAAAAAAAAAAAAAAAAAAAAAAAAAAAAAAAAAAAAAAAAAAAAAAAAAAAAAAAAAAAAAAAAAAAAAAAAAAAAAAAAAAAAAAAAAAAAAAAAAAAAAAAAAAAAAAAAAAAAAAAAAAAAAAAAAAAAAAAAAAAAAAAAAAAAAAAAAAAAAAAAAAAAAAAAAAAAAAAAAAAAAAAAAAAAAAAAAAAAAAAAAAAAAAAAAAAAAAAAAAAAAAAAAAAAAAAAAAAAAAAAAAAAAAAAAAAAAAAAAAAAAAAAAAAAAAAAAAAAAAAAAAAAAAAAAAAAAAAAAAAAAAAAAAAAAAAAAAAAAAAAAAAAAAAAAAAAAAAAAAAAAAAAAAAAAAAAAAAAAAAAAAAAAAAAAAAAAAAAAAAAAAAAAAAAAAAAAAAAAAAAAAAA==",
          "dtype": "f8"
         },
         "y": {
          "bdata": "AAAAAEgXAEAAAAAAAAAcQAAAAEBnJyJAAAAAAFRgJkAAAACAgVspQAAAAKBpJi9AAAAA4I2iMEAAAABATZgzQAAAAMDBrTRAAAAAIMJzNUAAAADgd3A2QAAAAGDndTdAAAAAQCWRN0AAAAAglbk3QAAAACAcrjhAAAAAYNsKOUAAAABA8745QAAAAEB1CDtAAAAAgHsMPUAAAAAAXX09QAAAACB70T1AAAAAgGUIPkAAAAAAd+o+QAAAAIDRRD9AAAAAgCDaP0AAAACAeB9AQAAAAIA5IEBAAAAAwEd5QEAAAADgyrdAQAAAAEDZSEFAAAAAwDcEQkAAAADgXCNCQAAAAKAUpEJAAAAAwLukQkAAAABA6NNCQAAAAMC/HkNAAAAAQLu6Q0AAAAAghgFEQAAAAOA8FERAAAAAYFEtREAAAACArEZEQAAAAEBy7ERAAAAAwH85RUAAAAAgTzdGQAAAAOC9jkZAAAAAQBCtSEAAAAAgrCFKQAAAAIAoJ0tAAAAAQMCZS0AAAACgBSZNQAAAAKDROE1AAAAAAFFQTUAAAADg2oZNQAAAAID0Wk9AAAAAALRRUEAAAABgjhFRQAAAACBNhVJAAAAAgJX+UkAAAADAOy1TQAAAAAAh31NAAAAAoNoOVEAAAAAAExhVQAAAAMAkYldAAAAAgGDcWEAAAADACa1aQAAAAODOJltAAAAAYKVGW0AAAACg16dbQAAAAIA0UlxAAAAAIFnYXEAAAABA//VdQAAAAMB2aV5AAAAAYPQEYUAAAAAAAADwfw==",
          "dtype": "f8"
         }
        },
        {
         "marker": {
          "color": "#dddddd",
          "opacity": 0.8,
          "size": 6
         },
         "mode": "markers",
         "name": "H1",
         "type": "scatter",
         "x": {
          "bdata": "AAAA4K0CbkAAAADgwldlQAAAAAAOI2JAAAAAoEjPXkAAAACA+gBPQAAAAOBBr0tAAAAAYNODSkAAAABgpJxIQAAAAEAE1EZAAAAA4KzaRUAAAABgk9ZEQAAAAMDsiERAAAAAAG7CQ0AAAADAFcdCQAAAAOCoEEJAAAAAgMS0QUAAAABA2Jc/QAAAAKCEuD5A",
          "dtype": "f8"
         },
         "y": {
          "bdata": "AAAAYA/mbkAAAAAg/ENmQAAAAGDWvWNAAAAAQFhpYUAAAACApy9SQAAAAID0aUxAAAAAQPSBUEAAAADALWlOQAAAAIDRDElAAAAAwDGZRkAAAACgsV5FQAAAAOD5nUVAAAAAQA3ZQ0AAAABglJJEQAAAAKAFR0RAAAAAoGo+QkAAAADgI9VAQAAAAOCG6D5A",
          "dtype": "f8"
         }
        },
        {
         "line": {
          "color": "gray",
          "dash": "dash"
         },
         "mode": "lines",
         "showlegend": false,
         "type": "scatter",
         "x": [
          0,
          null
         ],
         "y": [
          0,
          null
         ]
        }
       ],
       "layout": {
        "height": 600,
        "template": {
         "data": {
          "bar": [
           {
            "error_x": {
             "color": "#f2f5fa"
            },
            "error_y": {
             "color": "#f2f5fa"
            },
            "marker": {
             "line": {
              "color": "rgb(17,17,17)",
              "width": 0.5
             },
             "pattern": {
              "fillmode": "overlay",
              "size": 10,
              "solidity": 0.2
             }
            },
            "type": "bar"
           }
          ],
          "barpolar": [
           {
            "marker": {
             "line": {
              "color": "rgb(17,17,17)",
              "width": 0.5
             },
             "pattern": {
              "fillmode": "overlay",
              "size": 10,
              "solidity": 0.2
             }
            },
            "type": "barpolar"
           }
          ],
          "carpet": [
           {
            "aaxis": {
             "endlinecolor": "#A2B1C6",
             "gridcolor": "#506784",
             "linecolor": "#506784",
             "minorgridcolor": "#506784",
             "startlinecolor": "#A2B1C6"
            },
            "baxis": {
             "endlinecolor": "#A2B1C6",
             "gridcolor": "#506784",
             "linecolor": "#506784",
             "minorgridcolor": "#506784",
             "startlinecolor": "#A2B1C6"
            },
            "type": "carpet"
           }
          ],
          "choropleth": [
           {
            "colorbar": {
             "outlinewidth": 0,
             "ticks": ""
            },
            "type": "choropleth"
           }
          ],
          "contour": [
           {
            "colorbar": {
             "outlinewidth": 0,
             "ticks": ""
            },
            "colorscale": [
             [
              0,
              "#0d0887"
             ],
             [
              0.1111111111111111,
              "#46039f"
             ],
             [
              0.2222222222222222,
              "#7201a8"
             ],
             [
              0.3333333333333333,
              "#9c179e"
             ],
             [
              0.4444444444444444,
              "#bd3786"
             ],
             [
              0.5555555555555556,
              "#d8576b"
             ],
             [
              0.6666666666666666,
              "#ed7953"
             ],
             [
              0.7777777777777778,
              "#fb9f3a"
             ],
             [
              0.8888888888888888,
              "#fdca26"
             ],
             [
              1,
              "#f0f921"
             ]
            ],
            "type": "contour"
           }
          ],
          "contourcarpet": [
           {
            "colorbar": {
             "outlinewidth": 0,
             "ticks": ""
            },
            "type": "contourcarpet"
           }
          ],
          "heatmap": [
           {
            "colorbar": {
             "outlinewidth": 0,
             "ticks": ""
            },
            "colorscale": [
             [
              0,
              "#0d0887"
             ],
             [
              0.1111111111111111,
              "#46039f"
             ],
             [
              0.2222222222222222,
              "#7201a8"
             ],
             [
              0.3333333333333333,
              "#9c179e"
             ],
             [
              0.4444444444444444,
              "#bd3786"
             ],
             [
              0.5555555555555556,
              "#d8576b"
             ],
             [
              0.6666666666666666,
              "#ed7953"
             ],
             [
              0.7777777777777778,
              "#fb9f3a"
             ],
             [
              0.8888888888888888,
              "#fdca26"
             ],
             [
              1,
              "#f0f921"
             ]
            ],
            "type": "heatmap"
           }
          ],
          "histogram": [
           {
            "marker": {
             "pattern": {
              "fillmode": "overlay",
              "size": 10,
              "solidity": 0.2
             }
            },
            "type": "histogram"
           }
          ],
          "histogram2d": [
           {
            "colorbar": {
             "outlinewidth": 0,
             "ticks": ""
            },
            "colorscale": [
             [
              0,
              "#0d0887"
             ],
             [
              0.1111111111111111,
              "#46039f"
             ],
             [
              0.2222222222222222,
              "#7201a8"
             ],
             [
              0.3333333333333333,
              "#9c179e"
             ],
             [
              0.4444444444444444,
              "#bd3786"
             ],
             [
              0.5555555555555556,
              "#d8576b"
             ],
             [
              0.6666666666666666,
              "#ed7953"
             ],
             [
              0.7777777777777778,
              "#fb9f3a"
             ],
             [
              0.8888888888888888,
              "#fdca26"
             ],
             [
              1,
              "#f0f921"
             ]
            ],
            "type": "histogram2d"
           }
          ],
          "histogram2dcontour": [
           {
            "colorbar": {
             "outlinewidth": 0,
             "ticks": ""
            },
            "colorscale": [
             [
              0,
              "#0d0887"
             ],
             [
              0.1111111111111111,
              "#46039f"
             ],
             [
              0.2222222222222222,
              "#7201a8"
             ],
             [
              0.3333333333333333,
              "#9c179e"
             ],
             [
              0.4444444444444444,
              "#bd3786"
             ],
             [
              0.5555555555555556,
              "#d8576b"
             ],
             [
              0.6666666666666666,
              "#ed7953"
             ],
             [
              0.7777777777777778,
              "#fb9f3a"
             ],
             [
              0.8888888888888888,
              "#fdca26"
             ],
             [
              1,
              "#f0f921"
             ]
            ],
            "type": "histogram2dcontour"
           }
          ],
          "mesh3d": [
           {
            "colorbar": {
             "outlinewidth": 0,
             "ticks": ""
            },
            "type": "mesh3d"
           }
          ],
          "parcoords": [
           {
            "line": {
             "colorbar": {
              "outlinewidth": 0,
              "ticks": ""
             }
            },
            "type": "parcoords"
           }
          ],
          "pie": [
           {
            "automargin": true,
            "type": "pie"
           }
          ],
          "scatter": [
           {
            "marker": {
             "line": {
              "color": "#283442"
             }
            },
            "type": "scatter"
           }
          ],
          "scatter3d": [
           {
            "line": {
             "colorbar": {
              "outlinewidth": 0,
              "ticks": ""
             }
            },
            "marker": {
             "colorbar": {
              "outlinewidth": 0,
              "ticks": ""
             }
            },
            "type": "scatter3d"
           }
          ],
          "scattercarpet": [
           {
            "marker": {
             "colorbar": {
              "outlinewidth": 0,
              "ticks": ""
             }
            },
            "type": "scattercarpet"
           }
          ],
          "scattergeo": [
           {
            "marker": {
             "colorbar": {
              "outlinewidth": 0,
              "ticks": ""
             }
            },
            "type": "scattergeo"
           }
          ],
          "scattergl": [
           {
            "marker": {
             "line": {
              "color": "#283442"
             }
            },
            "type": "scattergl"
           }
          ],
          "scattermap": [
           {
            "marker": {
             "colorbar": {
              "outlinewidth": 0,
              "ticks": ""
             }
            },
            "type": "scattermap"
           }
          ],
          "scattermapbox": [
           {
            "marker": {
             "colorbar": {
              "outlinewidth": 0,
              "ticks": ""
             }
            },
            "type": "scattermapbox"
           }
          ],
          "scatterpolar": [
           {
            "marker": {
             "colorbar": {
              "outlinewidth": 0,
              "ticks": ""
             }
            },
            "type": "scatterpolar"
           }
          ],
          "scatterpolargl": [
           {
            "marker": {
             "colorbar": {
              "outlinewidth": 0,
              "ticks": ""
             }
            },
            "type": "scatterpolargl"
           }
          ],
          "scatterternary": [
           {
            "marker": {
             "colorbar": {
              "outlinewidth": 0,
              "ticks": ""
             }
            },
            "type": "scatterternary"
           }
          ],
          "surface": [
           {
            "colorbar": {
             "outlinewidth": 0,
             "ticks": ""
            },
            "colorscale": [
             [
              0,
              "#0d0887"
             ],
             [
              0.1111111111111111,
              "#46039f"
             ],
             [
              0.2222222222222222,
              "#7201a8"
             ],
             [
              0.3333333333333333,
              "#9c179e"
             ],
             [
              0.4444444444444444,
              "#bd3786"
             ],
             [
              0.5555555555555556,
              "#d8576b"
             ],
             [
              0.6666666666666666,
              "#ed7953"
             ],
             [
              0.7777777777777778,
              "#fb9f3a"
             ],
             [
              0.8888888888888888,
              "#fdca26"
             ],
             [
              1,
              "#f0f921"
             ]
            ],
            "type": "surface"
           }
          ],
          "table": [
           {
            "cells": {
             "fill": {
              "color": "#506784"
             },
             "line": {
              "color": "rgb(17,17,17)"
             }
            },
            "header": {
             "fill": {
              "color": "#2a3f5f"
             },
             "line": {
              "color": "rgb(17,17,17)"
             }
            },
            "type": "table"
           }
          ]
         },
         "layout": {
          "annotationdefaults": {
           "arrowcolor": "#f2f5fa",
           "arrowhead": 0,
           "arrowwidth": 1
          },
          "autotypenumbers": "strict",
          "coloraxis": {
           "colorbar": {
            "outlinewidth": 0,
            "ticks": ""
           }
          },
          "colorscale": {
           "diverging": [
            [
             0,
             "#8e0152"
            ],
            [
             0.1,
             "#c51b7d"
            ],
            [
             0.2,
             "#de77ae"
            ],
            [
             0.3,
             "#f1b6da"
            ],
            [
             0.4,
             "#fde0ef"
            ],
            [
             0.5,
             "#f7f7f7"
            ],
            [
             0.6,
             "#e6f5d0"
            ],
            [
             0.7,
             "#b8e186"
            ],
            [
             0.8,
             "#7fbc41"
            ],
            [
             0.9,
             "#4d9221"
            ],
            [
             1,
             "#276419"
            ]
           ],
           "sequential": [
            [
             0,
             "#0d0887"
            ],
            [
             0.1111111111111111,
             "#46039f"
            ],
            [
             0.2222222222222222,
             "#7201a8"
            ],
            [
             0.3333333333333333,
             "#9c179e"
            ],
            [
             0.4444444444444444,
             "#bd3786"
            ],
            [
             0.5555555555555556,
             "#d8576b"
            ],
            [
             0.6666666666666666,
             "#ed7953"
            ],
            [
             0.7777777777777778,
             "#fb9f3a"
            ],
            [
             0.8888888888888888,
             "#fdca26"
            ],
            [
             1,
             "#f0f921"
            ]
           ],
           "sequentialminus": [
            [
             0,
             "#0d0887"
            ],
            [
             0.1111111111111111,
             "#46039f"
            ],
            [
             0.2222222222222222,
             "#7201a8"
            ],
            [
             0.3333333333333333,
             "#9c179e"
            ],
            [
             0.4444444444444444,
             "#bd3786"
            ],
            [
             0.5555555555555556,
             "#d8576b"
            ],
            [
             0.6666666666666666,
             "#ed7953"
            ],
            [
             0.7777777777777778,
             "#fb9f3a"
            ],
            [
             0.8888888888888888,
             "#fdca26"
            ],
            [
             1,
             "#f0f921"
            ]
           ]
          },
          "colorway": [
           "#636efa",
           "#EF553B",
           "#00cc96",
           "#ab63fa",
           "#FFA15A",
           "#19d3f3",
           "#FF6692",
           "#B6E880",
           "#FF97FF",
           "#FECB52"
          ],
          "font": {
           "color": "#f2f5fa"
          },
          "geo": {
           "bgcolor": "rgb(17,17,17)",
           "lakecolor": "rgb(17,17,17)",
           "landcolor": "rgb(17,17,17)",
           "showlakes": true,
           "showland": true,
           "subunitcolor": "#506784"
          },
          "hoverlabel": {
           "align": "left"
          },
          "hovermode": "closest",
          "mapbox": {
           "style": "dark"
          },
          "paper_bgcolor": "rgb(17,17,17)",
          "plot_bgcolor": "rgb(17,17,17)",
          "polar": {
           "angularaxis": {
            "gridcolor": "#506784",
            "linecolor": "#506784",
            "ticks": ""
           },
           "bgcolor": "rgb(17,17,17)",
           "radialaxis": {
            "gridcolor": "#506784",
            "linecolor": "#506784",
            "ticks": ""
           }
          },
          "scene": {
           "xaxis": {
            "backgroundcolor": "rgb(17,17,17)",
            "gridcolor": "#506784",
            "gridwidth": 2,
            "linecolor": "#506784",
            "showbackground": true,
            "ticks": "",
            "zerolinecolor": "#C8D4E3"
           },
           "yaxis": {
            "backgroundcolor": "rgb(17,17,17)",
            "gridcolor": "#506784",
            "gridwidth": 2,
            "linecolor": "#506784",
            "showbackground": true,
            "ticks": "",
            "zerolinecolor": "#C8D4E3"
           },
           "zaxis": {
            "backgroundcolor": "rgb(17,17,17)",
            "gridcolor": "#506784",
            "gridwidth": 2,
            "linecolor": "#506784",
            "showbackground": true,
            "ticks": "",
            "zerolinecolor": "#C8D4E3"
           }
          },
          "shapedefaults": {
           "line": {
            "color": "#f2f5fa"
           }
          },
          "sliderdefaults": {
           "bgcolor": "#C8D4E3",
           "bordercolor": "rgb(17,17,17)",
           "borderwidth": 1,
           "tickwidth": 0
          },
          "ternary": {
           "aaxis": {
            "gridcolor": "#506784",
            "linecolor": "#506784",
            "ticks": ""
           },
           "baxis": {
            "gridcolor": "#506784",
            "linecolor": "#506784",
            "ticks": ""
           },
           "bgcolor": "rgb(17,17,17)",
           "caxis": {
            "gridcolor": "#506784",
            "linecolor": "#506784",
            "ticks": ""
           }
          },
          "title": {
           "x": 0.05
          },
          "updatemenudefaults": {
           "bgcolor": "#506784",
           "borderwidth": 0
          },
          "xaxis": {
           "automargin": true,
           "gridcolor": "#283442",
           "linecolor": "#506784",
           "ticks": "",
           "title": {
            "standoff": 15
           },
           "zerolinecolor": "#283442",
           "zerolinewidth": 2
          },
          "yaxis": {
           "automargin": true,
           "gridcolor": "#283442",
           "linecolor": "#506784",
           "ticks": "",
           "title": {
            "standoff": 15
           },
           "zerolinecolor": "#283442",
           "zerolinewidth": 2
          }
         }
        },
        "title": {
         "text": "Vietoris–Rips Persistence (DTW)"
        },
        "width": 600,
        "xaxis": {
         "title": {
          "text": "Birth"
         }
        },
        "yaxis": {
         "title": {
          "text": "Death"
         }
        }
       }
      }
     },
     "metadata": {},
     "output_type": "display_data"
    }
   ],
   "source": [
    "diag_fig"
   ]
  },
  {
   "cell_type": "code",
   "execution_count": 25,
   "id": "c0cd2848",
   "metadata": {},
   "outputs": [],
   "source": [
    "def _build_attr_vol_matrix():\n",
    "    # 1) Volatility metrics\n",
    "    mat = df_ts_interp.set_index(\"ID\")[dates].astype(float)\n",
    "    row_means = mat.mean(axis=1)\n",
    "    dev = mat.sub(row_means, axis=0).div(row_means, axis=0)\n",
    "    vol_max = dev.abs().max(axis=1).rename(\"vol_max\")\n",
    "    vol_std = dev.std(axis=1).rename(\"vol_std\")\n",
    "\n",
    "    # 2) Numeric attributes (drop coords & ID)\n",
    "    num = df_attr.set_index(\"ID\").select_dtypes(include=\"number\").drop(\n",
    "        [\"latitude\", \"longitude\"], errors=\"ignore\", axis=1\n",
    "    )\n",
    "\n",
    "    # 3) Merge\n",
    "    X = pd.concat([num, vol_max, vol_std], axis=1).dropna()\n",
    "    return X"
   ]
  },
  {
   "cell_type": "code",
   "execution_count": 26,
   "id": "fd0edf85",
   "metadata": {},
   "outputs": [],
   "source": [
    "from ripser import ripser\n",
    "import numpy as np\n",
    "import plotly.graph_objects as go\n",
    "\n",
    "# 4.x.1 Compute & plot VR persistence on feature‐space\n",
    "def feature_space_persistence(n_components=1, max_dim=1):\n",
    "    \"\"\"\n",
    "    Build Vietoris–Rips filtration on standardized attribute+volatility features,\n",
    "    compute persistent homology up to dim=max_dim, and return a Diagram plot.\n",
    "    \"\"\"\n",
    "    # 1) Assemble & scale feature matrix\n",
    "    X = _build_attr_vol_matrix().values  # uses your helper\n",
    "    Xs = StandardScaler().fit_transform(X)\n",
    "\n",
    "    # 2) Compute persistence (distance matrix = Euclidean by default)\n",
    "    result = ripser(Xs, maxdim=max_dim)\n",
    "    diagrams = result['dgms']\n",
    "\n",
    "    # 3) Plot diagram(s)\n",
    "    fig = go.Figure()\n",
    "    colors = [\"#7e0d24\", \"#dddddd\"]\n",
    "    for dim, dgm in enumerate(diagrams):\n",
    "        fig.add_trace(go.Scatter(\n",
    "            x=dgm[:,0], y=dgm[:,1],\n",
    "            mode=\"markers\",\n",
    "            marker=dict(color=colors[dim], size=6, opacity=0.8),\n",
    "            name=f\"H{dim}\"\n",
    "        ))\n",
    "    # diagonal\n",
    "    extent = [0, np.nanmax([d.max() for d in diagrams])]\n",
    "    fig.add_trace(go.Scatter(x=extent, y=extent,\n",
    "                             mode=\"lines\",\n",
    "                             line=dict(color=\"gray\", dash=\"dash\"),\n",
    "                             showlegend=False))\n",
    "    fig.update_layout(\n",
    "        title=\"Vietoris–Rips Persistence on Attribute+Volatility Space\",\n",
    "        xaxis_title=\"Birth\", yaxis_title=\"Death\",\n",
    "        template=\"plotly_dark\", width=600, height=600\n",
    "    )\n",
    "    return fig, diagrams\n",
    "\n",
    "# 4.x.2 Plot barcodes for feature‐space\n",
    "def feature_space_barcodes(diagrams):\n",
    "    \"\"\"\n",
    "    Given the diagrams from feature_space_persistence, plot H0/H1 barcodes.\n",
    "    \"\"\"\n",
    "    fig = go.Figure()\n",
    "    y_off = 0\n",
    "    for dim, dgm in enumerate(diagrams):\n",
    "        for b, d in dgm:\n",
    "            fig.add_trace(go.Bar(\n",
    "                x=[d - b],\n",
    "                y=[y_off],\n",
    "                base=b,\n",
    "                orientation='h',\n",
    "                marker=dict(color=\"#7e0d24\" if dim==1 else \"#dddddd\"),\n",
    "                showlegend=(y_off==0),\n",
    "                name=f\"H{dim}\"\n",
    "            ))\n",
    "            y_off += 1\n",
    "        y_off += 1  # gap between dims\n",
    "    fig.update_layout(\n",
    "        title=\"Feature‐Space Persistence Barcodes\",\n",
    "        xaxis_title=\"Filtration Value\",\n",
    "        yaxis=dict(showticklabels=False),\n",
    "        template=\"plotly_dark\",\n",
    "        height=200 + 20*y_off, width=800\n",
    "    )\n",
    "    return fig\n"
   ]
  },
  {
   "cell_type": "code",
   "execution_count": 27,
   "id": "7d5794c8",
   "metadata": {},
   "outputs": [
    {
     "name": "stderr",
     "output_type": "stream",
     "text": [
      "/Users/sbaca/micromamba/envs/global_env/lib/python3.11/site-packages/sklearn/utils/extmath.py:203: RuntimeWarning:\n",
      "\n",
      "divide by zero encountered in matmul\n",
      "\n",
      "/Users/sbaca/micromamba/envs/global_env/lib/python3.11/site-packages/sklearn/utils/extmath.py:203: RuntimeWarning:\n",
      "\n",
      "overflow encountered in matmul\n",
      "\n",
      "/Users/sbaca/micromamba/envs/global_env/lib/python3.11/site-packages/sklearn/utils/extmath.py:203: RuntimeWarning:\n",
      "\n",
      "invalid value encountered in matmul\n",
      "\n"
     ]
    },
    {
     "data": {
      "application/vnd.plotly.v1+json": {
       "config": {
        "plotlyServerURL": "https://plot.ly"
       },
       "data": [
        {
         "marker": {
          "color": "#7e0d24",
          "opacity": 0.8,
          "size": 6
         },
         "mode": "markers",
         "name": "H0",
         "type": "scatter",
         "x": {
          "bdata": "AAAAAAAAAAAAAAAAAAAAAAAAAAAAAAAAAAAAAAAAAAAAAAAAAAAAAAAAAAAAAAAAAAAAAAAAAAAAAAAAAAAAAAAAAAAAAAAAAAAAAAAAAAAAAAAAAAAAAAAAAAAAAAAAAAAAAAAAAAAAAAAAAAAAAAAAAAAAAAAAAAAAAAAAAAAAAAAAAAAAAAAAAAAAAAAAAAAAAAAAAAAAAAAAAAAAAAAAAAAAAAAAAAAAAAAAAAAAAAAAAAAAAAAAAAAAAAAAAAAAAAAAAAAAAAAAAAAAAAAAAAAAAAAAAAAAAAAAAAAAAAAAAAAAAAAAAAAAAAAAAAAAAAAAAAAAAAAAAAAAAAAAAAAAAAAAAAAAAAAAAAAAAAAAAAAAAAAAAAAAAAAAAAAAAAAAAAAAAAAAAAAAAAAAAAAAAAAAAAAAAAAAAAAAAAAAAAAAAAAAAAAAAAAAAAAAAAAAAAAAAAAAAAAAAAAAAAAAAAAAAAAAAAAAAAAAAAAAAAAAAAAAAAAAAAAAAAAAAAAAAAAAAAAAAAAAAAAAAAAAAAAAAAAAAAAAAAAAAAAAAAAAAAAAAAAAAAAAAAAAAAAAAAAAAAAAAAAAAAAAAAAAAAAAAAAAAAAAAAAAAAAAAAAAAAAAAAAAAAAAAAAAAAAAAAAAAAAAAAAAAAAAAAAAAAAAAAAAAAAAAAAAAAAAAAAAAAAAAAAAAAAAAAAAAAAAAAAAAAAAAAAAAAAAAAAAAAAAAAAAAAAAAAAAAAAAAAAAAAAAAAAAAAAAAAAAAAAAAAAAAAAAAAAAAAAAAAAAAAAAAAAAAAAAAAAAAAAAAAAAAAAAAAAAAAAAAAAAAAAAAAA=",
          "dtype": "f8"
         },
         "y": {
          "bdata": "AAAAAD+UCEAAAAAAuf0IQAAAAAAEVAlAAAAAQC36CUAAAACgizkKQAAAAIAn3gxAAAAAwNT/DEAAAABgQdENQAAAAKBmgQ9AAAAAANh4EEAAAABgfasQQAAAAGAq7RBAAAAAIIgvEUAAAACASGgRQAAAAIBs0hFAAAAAgJQQEkAAAABg1pkSQAAAACAzBhNAAAAAABscE0AAAAAgUYATQAAAAEDbsBNAAAAAQKoBFEAAAACgoAwUQAAAAGCuERVAAAAA4HABFkAAAADAdQcWQAAAAKC/JBZAAAAAQAbbFkAAAADglOUWQAAAAAAnSxdAAAAAoDOSF0AAAADgb+4XQAAAAMDyAxhAAAAAIA4cGEAAAADgbTAYQAAAAIDvQRhAAAAAgCyMGEAAAAAgJJIYQAAAAABexxhAAAAAwPnjGEAAAABg8A8ZQAAAAGABRBlAAAAAQGpzGUAAAABg2s4ZQAAAAGC+WBpAAAAAQA5rGkAAAADAmXUaQAAAAIDnmhpAAAAAQCbJGkAAAACAgfIaQAAAAECu/xpAAAAAYLedG0AAAAAAgOgbQAAAAGB1UxxAAAAAoJrNHEAAAADgv+EcQAAAAAAbvh1AAAAAYMUMHkAAAAAA8iceQAAAAOB8rB5AAAAAgK9SH0AAAACgqnYfQAAAAICIBCBAAAAAgPdHIEAAAACg3XAgQAAAAEAxdiBAAAAA4AqRIEAAAABAxLwgQAAAAODnDCFAAAAAYEIVIUAAAAAA9nwhQAAAAMD1kiFAAAAAgMw+I0AAAACgUF8kQAAAAKAlbCRAAAAAwL9YJkAAAAAgIbonQAAAAMCI3yhAAAAAAAAA8H8=",
          "dtype": "f8"
         }
        },
        {
         "marker": {
          "color": "#dddddd",
          "opacity": 0.8,
          "size": 6
         },
         "mode": "markers",
         "name": "H1",
         "type": "scatter",
         "x": {
          "bdata": "AAAAoB0AKUAAAAAAVP0iQAAAAEAvziJAAAAA4EODIkAAAADglVMiQAAAAECPUiJAAAAAoIUZIkAAAABg5dchQAAAAMBZmyFAAAAAgAl0IUAAAACAhV4hQAAAAODeCyFAAAAAoORxIEAAAABgNHgfQAAAAIDACh9AAAAAwGbcHEAAAAAgFqQcQAAAAKAKPhxAAAAAAH45HEAAAACAJyMcQAAAAOAf7xtAAAAAYBCCG0AAAABgwwYbQAAAAKAdjRpAAAAAAMFrGUAAAACg9VkZQAAAAGA1PxlAAAAAgPsQGUAAAAAA1EUSQAAAAGDQ/RFA",
          "dtype": "f8"
         },
         "y": {
          "bdata": "AAAAQFchKUAAAADgB7YjQAAAAMASvyNAAAAAoJnOIkAAAACA2+8iQAAAAKBC2yJAAAAAQIgvI0AAAACAG04iQAAAAGDkJCNAAAAAYE6VIkAAAADgFr4iQAAAAMDnQiNAAAAAgLIIIUAAAACASwMgQAAAAOCecCBAAAAAwAOlIEAAAADADv8cQAAAAADR0xxAAAAA4O6SHEAAAADAjFMcQAAAACA/VR1AAAAAgNjbG0AAAABAF04cQAAAACBs5B1AAAAAQBdOHEAAAACAryUaQAAAAMCjqxpAAAAAYLA3G0AAAACg9yoUQAAAAEAxgxNA",
          "dtype": "f8"
         }
        },
        {
         "line": {
          "color": "gray",
          "dash": "dash"
         },
         "mode": "lines",
         "showlegend": false,
         "type": "scatter",
         "x": [
          0,
          null
         ],
         "y": [
          0,
          null
         ]
        }
       ],
       "layout": {
        "height": 600,
        "template": {
         "data": {
          "bar": [
           {
            "error_x": {
             "color": "#f2f5fa"
            },
            "error_y": {
             "color": "#f2f5fa"
            },
            "marker": {
             "line": {
              "color": "rgb(17,17,17)",
              "width": 0.5
             },
             "pattern": {
              "fillmode": "overlay",
              "size": 10,
              "solidity": 0.2
             }
            },
            "type": "bar"
           }
          ],
          "barpolar": [
           {
            "marker": {
             "line": {
              "color": "rgb(17,17,17)",
              "width": 0.5
             },
             "pattern": {
              "fillmode": "overlay",
              "size": 10,
              "solidity": 0.2
             }
            },
            "type": "barpolar"
           }
          ],
          "carpet": [
           {
            "aaxis": {
             "endlinecolor": "#A2B1C6",
             "gridcolor": "#506784",
             "linecolor": "#506784",
             "minorgridcolor": "#506784",
             "startlinecolor": "#A2B1C6"
            },
            "baxis": {
             "endlinecolor": "#A2B1C6",
             "gridcolor": "#506784",
             "linecolor": "#506784",
             "minorgridcolor": "#506784",
             "startlinecolor": "#A2B1C6"
            },
            "type": "carpet"
           }
          ],
          "choropleth": [
           {
            "colorbar": {
             "outlinewidth": 0,
             "ticks": ""
            },
            "type": "choropleth"
           }
          ],
          "contour": [
           {
            "colorbar": {
             "outlinewidth": 0,
             "ticks": ""
            },
            "colorscale": [
             [
              0,
              "#0d0887"
             ],
             [
              0.1111111111111111,
              "#46039f"
             ],
             [
              0.2222222222222222,
              "#7201a8"
             ],
             [
              0.3333333333333333,
              "#9c179e"
             ],
             [
              0.4444444444444444,
              "#bd3786"
             ],
             [
              0.5555555555555556,
              "#d8576b"
             ],
             [
              0.6666666666666666,
              "#ed7953"
             ],
             [
              0.7777777777777778,
              "#fb9f3a"
             ],
             [
              0.8888888888888888,
              "#fdca26"
             ],
             [
              1,
              "#f0f921"
             ]
            ],
            "type": "contour"
           }
          ],
          "contourcarpet": [
           {
            "colorbar": {
             "outlinewidth": 0,
             "ticks": ""
            },
            "type": "contourcarpet"
           }
          ],
          "heatmap": [
           {
            "colorbar": {
             "outlinewidth": 0,
             "ticks": ""
            },
            "colorscale": [
             [
              0,
              "#0d0887"
             ],
             [
              0.1111111111111111,
              "#46039f"
             ],
             [
              0.2222222222222222,
              "#7201a8"
             ],
             [
              0.3333333333333333,
              "#9c179e"
             ],
             [
              0.4444444444444444,
              "#bd3786"
             ],
             [
              0.5555555555555556,
              "#d8576b"
             ],
             [
              0.6666666666666666,
              "#ed7953"
             ],
             [
              0.7777777777777778,
              "#fb9f3a"
             ],
             [
              0.8888888888888888,
              "#fdca26"
             ],
             [
              1,
              "#f0f921"
             ]
            ],
            "type": "heatmap"
           }
          ],
          "histogram": [
           {
            "marker": {
             "pattern": {
              "fillmode": "overlay",
              "size": 10,
              "solidity": 0.2
             }
            },
            "type": "histogram"
           }
          ],
          "histogram2d": [
           {
            "colorbar": {
             "outlinewidth": 0,
             "ticks": ""
            },
            "colorscale": [
             [
              0,
              "#0d0887"
             ],
             [
              0.1111111111111111,
              "#46039f"
             ],
             [
              0.2222222222222222,
              "#7201a8"
             ],
             [
              0.3333333333333333,
              "#9c179e"
             ],
             [
              0.4444444444444444,
              "#bd3786"
             ],
             [
              0.5555555555555556,
              "#d8576b"
             ],
             [
              0.6666666666666666,
              "#ed7953"
             ],
             [
              0.7777777777777778,
              "#fb9f3a"
             ],
             [
              0.8888888888888888,
              "#fdca26"
             ],
             [
              1,
              "#f0f921"
             ]
            ],
            "type": "histogram2d"
           }
          ],
          "histogram2dcontour": [
           {
            "colorbar": {
             "outlinewidth": 0,
             "ticks": ""
            },
            "colorscale": [
             [
              0,
              "#0d0887"
             ],
             [
              0.1111111111111111,
              "#46039f"
             ],
             [
              0.2222222222222222,
              "#7201a8"
             ],
             [
              0.3333333333333333,
              "#9c179e"
             ],
             [
              0.4444444444444444,
              "#bd3786"
             ],
             [
              0.5555555555555556,
              "#d8576b"
             ],
             [
              0.6666666666666666,
              "#ed7953"
             ],
             [
              0.7777777777777778,
              "#fb9f3a"
             ],
             [
              0.8888888888888888,
              "#fdca26"
             ],
             [
              1,
              "#f0f921"
             ]
            ],
            "type": "histogram2dcontour"
           }
          ],
          "mesh3d": [
           {
            "colorbar": {
             "outlinewidth": 0,
             "ticks": ""
            },
            "type": "mesh3d"
           }
          ],
          "parcoords": [
           {
            "line": {
             "colorbar": {
              "outlinewidth": 0,
              "ticks": ""
             }
            },
            "type": "parcoords"
           }
          ],
          "pie": [
           {
            "automargin": true,
            "type": "pie"
           }
          ],
          "scatter": [
           {
            "marker": {
             "line": {
              "color": "#283442"
             }
            },
            "type": "scatter"
           }
          ],
          "scatter3d": [
           {
            "line": {
             "colorbar": {
              "outlinewidth": 0,
              "ticks": ""
             }
            },
            "marker": {
             "colorbar": {
              "outlinewidth": 0,
              "ticks": ""
             }
            },
            "type": "scatter3d"
           }
          ],
          "scattercarpet": [
           {
            "marker": {
             "colorbar": {
              "outlinewidth": 0,
              "ticks": ""
             }
            },
            "type": "scattercarpet"
           }
          ],
          "scattergeo": [
           {
            "marker": {
             "colorbar": {
              "outlinewidth": 0,
              "ticks": ""
             }
            },
            "type": "scattergeo"
           }
          ],
          "scattergl": [
           {
            "marker": {
             "line": {
              "color": "#283442"
             }
            },
            "type": "scattergl"
           }
          ],
          "scattermap": [
           {
            "marker": {
             "colorbar": {
              "outlinewidth": 0,
              "ticks": ""
             }
            },
            "type": "scattermap"
           }
          ],
          "scattermapbox": [
           {
            "marker": {
             "colorbar": {
              "outlinewidth": 0,
              "ticks": ""
             }
            },
            "type": "scattermapbox"
           }
          ],
          "scatterpolar": [
           {
            "marker": {
             "colorbar": {
              "outlinewidth": 0,
              "ticks": ""
             }
            },
            "type": "scatterpolar"
           }
          ],
          "scatterpolargl": [
           {
            "marker": {
             "colorbar": {
              "outlinewidth": 0,
              "ticks": ""
             }
            },
            "type": "scatterpolargl"
           }
          ],
          "scatterternary": [
           {
            "marker": {
             "colorbar": {
              "outlinewidth": 0,
              "ticks": ""
             }
            },
            "type": "scatterternary"
           }
          ],
          "surface": [
           {
            "colorbar": {
             "outlinewidth": 0,
             "ticks": ""
            },
            "colorscale": [
             [
              0,
              "#0d0887"
             ],
             [
              0.1111111111111111,
              "#46039f"
             ],
             [
              0.2222222222222222,
              "#7201a8"
             ],
             [
              0.3333333333333333,
              "#9c179e"
             ],
             [
              0.4444444444444444,
              "#bd3786"
             ],
             [
              0.5555555555555556,
              "#d8576b"
             ],
             [
              0.6666666666666666,
              "#ed7953"
             ],
             [
              0.7777777777777778,
              "#fb9f3a"
             ],
             [
              0.8888888888888888,
              "#fdca26"
             ],
             [
              1,
              "#f0f921"
             ]
            ],
            "type": "surface"
           }
          ],
          "table": [
           {
            "cells": {
             "fill": {
              "color": "#506784"
             },
             "line": {
              "color": "rgb(17,17,17)"
             }
            },
            "header": {
             "fill": {
              "color": "#2a3f5f"
             },
             "line": {
              "color": "rgb(17,17,17)"
             }
            },
            "type": "table"
           }
          ]
         },
         "layout": {
          "annotationdefaults": {
           "arrowcolor": "#f2f5fa",
           "arrowhead": 0,
           "arrowwidth": 1
          },
          "autotypenumbers": "strict",
          "coloraxis": {
           "colorbar": {
            "outlinewidth": 0,
            "ticks": ""
           }
          },
          "colorscale": {
           "diverging": [
            [
             0,
             "#8e0152"
            ],
            [
             0.1,
             "#c51b7d"
            ],
            [
             0.2,
             "#de77ae"
            ],
            [
             0.3,
             "#f1b6da"
            ],
            [
             0.4,
             "#fde0ef"
            ],
            [
             0.5,
             "#f7f7f7"
            ],
            [
             0.6,
             "#e6f5d0"
            ],
            [
             0.7,
             "#b8e186"
            ],
            [
             0.8,
             "#7fbc41"
            ],
            [
             0.9,
             "#4d9221"
            ],
            [
             1,
             "#276419"
            ]
           ],
           "sequential": [
            [
             0,
             "#0d0887"
            ],
            [
             0.1111111111111111,
             "#46039f"
            ],
            [
             0.2222222222222222,
             "#7201a8"
            ],
            [
             0.3333333333333333,
             "#9c179e"
            ],
            [
             0.4444444444444444,
             "#bd3786"
            ],
            [
             0.5555555555555556,
             "#d8576b"
            ],
            [
             0.6666666666666666,
             "#ed7953"
            ],
            [
             0.7777777777777778,
             "#fb9f3a"
            ],
            [
             0.8888888888888888,
             "#fdca26"
            ],
            [
             1,
             "#f0f921"
            ]
           ],
           "sequentialminus": [
            [
             0,
             "#0d0887"
            ],
            [
             0.1111111111111111,
             "#46039f"
            ],
            [
             0.2222222222222222,
             "#7201a8"
            ],
            [
             0.3333333333333333,
             "#9c179e"
            ],
            [
             0.4444444444444444,
             "#bd3786"
            ],
            [
             0.5555555555555556,
             "#d8576b"
            ],
            [
             0.6666666666666666,
             "#ed7953"
            ],
            [
             0.7777777777777778,
             "#fb9f3a"
            ],
            [
             0.8888888888888888,
             "#fdca26"
            ],
            [
             1,
             "#f0f921"
            ]
           ]
          },
          "colorway": [
           "#636efa",
           "#EF553B",
           "#00cc96",
           "#ab63fa",
           "#FFA15A",
           "#19d3f3",
           "#FF6692",
           "#B6E880",
           "#FF97FF",
           "#FECB52"
          ],
          "font": {
           "color": "#f2f5fa"
          },
          "geo": {
           "bgcolor": "rgb(17,17,17)",
           "lakecolor": "rgb(17,17,17)",
           "landcolor": "rgb(17,17,17)",
           "showlakes": true,
           "showland": true,
           "subunitcolor": "#506784"
          },
          "hoverlabel": {
           "align": "left"
          },
          "hovermode": "closest",
          "mapbox": {
           "style": "dark"
          },
          "paper_bgcolor": "rgb(17,17,17)",
          "plot_bgcolor": "rgb(17,17,17)",
          "polar": {
           "angularaxis": {
            "gridcolor": "#506784",
            "linecolor": "#506784",
            "ticks": ""
           },
           "bgcolor": "rgb(17,17,17)",
           "radialaxis": {
            "gridcolor": "#506784",
            "linecolor": "#506784",
            "ticks": ""
           }
          },
          "scene": {
           "xaxis": {
            "backgroundcolor": "rgb(17,17,17)",
            "gridcolor": "#506784",
            "gridwidth": 2,
            "linecolor": "#506784",
            "showbackground": true,
            "ticks": "",
            "zerolinecolor": "#C8D4E3"
           },
           "yaxis": {
            "backgroundcolor": "rgb(17,17,17)",
            "gridcolor": "#506784",
            "gridwidth": 2,
            "linecolor": "#506784",
            "showbackground": true,
            "ticks": "",
            "zerolinecolor": "#C8D4E3"
           },
           "zaxis": {
            "backgroundcolor": "rgb(17,17,17)",
            "gridcolor": "#506784",
            "gridwidth": 2,
            "linecolor": "#506784",
            "showbackground": true,
            "ticks": "",
            "zerolinecolor": "#C8D4E3"
           }
          },
          "shapedefaults": {
           "line": {
            "color": "#f2f5fa"
           }
          },
          "sliderdefaults": {
           "bgcolor": "#C8D4E3",
           "bordercolor": "rgb(17,17,17)",
           "borderwidth": 1,
           "tickwidth": 0
          },
          "ternary": {
           "aaxis": {
            "gridcolor": "#506784",
            "linecolor": "#506784",
            "ticks": ""
           },
           "baxis": {
            "gridcolor": "#506784",
            "linecolor": "#506784",
            "ticks": ""
           },
           "bgcolor": "rgb(17,17,17)",
           "caxis": {
            "gridcolor": "#506784",
            "linecolor": "#506784",
            "ticks": ""
           }
          },
          "title": {
           "x": 0.05
          },
          "updatemenudefaults": {
           "bgcolor": "#506784",
           "borderwidth": 0
          },
          "xaxis": {
           "automargin": true,
           "gridcolor": "#283442",
           "linecolor": "#506784",
           "ticks": "",
           "title": {
            "standoff": 15
           },
           "zerolinecolor": "#283442",
           "zerolinewidth": 2
          },
          "yaxis": {
           "automargin": true,
           "gridcolor": "#283442",
           "linecolor": "#506784",
           "ticks": "",
           "title": {
            "standoff": 15
           },
           "zerolinecolor": "#283442",
           "zerolinewidth": 2
          }
         }
        },
        "title": {
         "text": "Vietoris–Rips Persistence on Attribute+Volatility Space"
        },
        "width": 600,
        "xaxis": {
         "title": {
          "text": "Birth"
         }
        },
        "yaxis": {
         "title": {
          "text": "Death"
         }
        }
       }
      }
     },
     "metadata": {},
     "output_type": "display_data"
    }
   ],
   "source": [
    "diag_fig, diags = feature_space_persistence()\n",
    "barcode_fig   = feature_space_barcodes(diags)\n",
    "diag_fig"
   ]
  }
 ],
 "metadata": {
  "kernelspec": {
   "display_name": "global_env",
   "language": "python",
   "name": "python3"
  },
  "language_info": {
   "codemirror_mode": {
    "name": "ipython",
    "version": 3
   },
   "file_extension": ".py",
   "mimetype": "text/x-python",
   "name": "python",
   "nbconvert_exporter": "python",
   "pygments_lexer": "ipython3",
   "version": "3.11.8"
  }
 },
 "nbformat": 4,
 "nbformat_minor": 5
}
