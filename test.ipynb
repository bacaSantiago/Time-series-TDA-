{
 "cells": [
  {
   "cell_type": "code",
   "execution_count": 1,
   "id": "23b91b27",
   "metadata": {},
   "outputs": [],
   "source": [
    "import dash\n",
    "import dash_bootstrap_components as dbc\n",
    "from dash import html, dcc, dash_table\n",
    "import sqlite3\n",
    "import pandas as pd\n",
    "import plotly.express as px\n",
    "import numpy as np\n",
    "import plotly.graph_objects as go\n",
    "import scipy.stats as stats\n",
    "import plotly.express as px\n",
    "import re\n",
    "import random\n",
    "from sklearn.preprocessing import StandardScaler\n",
    "from sklearn.decomposition import PCA\n",
    "from sklearn.cluster import KMeans, AgglomerativeClustering\n",
    "import plotly.figure_factory as ff\n",
    "from sklearn.linear_model import LinearRegression\n",
    "from sklearn.feature_selection import VarianceThreshold\n",
    "from scipy.spatial.distance import pdist, squareform\n",
    "import umap\n",
    "\n",
    "import warnings\n",
    "warnings.filterwarnings(\"ignore\", category=RuntimeWarning)\n",
    "warnings.filterwarnings(\"ignore\", category=DeprecationWarning)\n",
    "warnings.filterwarnings(\"ignore\", category=UserWarning)\n",
    "warnings.filterwarnings(\"ignore\", category=FutureWarning)\n",
    "\n",
    "_conn = sqlite3.connect(\"airbnb_cartagena.sqlite\")\n",
    "df_attr = pd.read_sql_query(\"SELECT * FROM Attributes\", _conn, dtype={\"ID\": str})\n",
    "df_ts = pd.read_sql_query(\"SELECT * FROM TimeSeriesRaw\", _conn, dtype={\"ID\": str})\n",
    "df_ts_interp = pd.read_sql_query(\"SELECT * FROM TimeSeriesInterpolated\", _conn, dtype={\"ID\": str})\n",
    "_conn.close()"
   ]
  },
  {
   "cell_type": "code",
   "execution_count": 2,
   "id": "6d7c40e1",
   "metadata": {},
   "outputs": [
    {
     "data": {
      "text/plain": [
       "'\\nwarnings.filterwarnings(\"ignore\", category=RuntimeWarning)\\nwarnings.filterwarnings(\"ignore\", category=DeprecationWarning)\\nwarnings.filterwarnings(\"ignore\", category=UserWarning)\\nwarnings.filterwarnings(\"ignore\", category=FutureWarning)\\n\\n_conn = sqlite3.connect(\"airbnb_cartagena.sqlite\")\\ndf_attr = pd.read_sql_query(\"SELECT * FROM Attributes\", _conn)\\ndf_ts = pd.read_sql_query(\"SELECT * FROM TimeSeriesRaw\", _conn)\\ndf_ts_interp = pd.read_sql_query(\"SELECT * FROM TimeSeriesInterpolated\", _conn)\\n_conn.close()\\n\\nimport pandas as pd\\nimport numpy as np\\nfrom sklearn.preprocessing import StandardScaler\\nfrom sklearn.feature_selection import VarianceThreshold\\nfrom scipy.spatial.distance import pdist, squareform\\nfrom sklearn.linear_model import LinearRegression\\nfrom datetime import datetime\\nimport matplotlib.pyplot as plt\\nimport umap\\nimport plotly.express as px\\nimport plotly.colors as pc\\nimport plotly.graph_objects as go\\nfrom plotly.subplots import make_subplots\\nimport gudhi as gd\\n'"
      ]
     },
     "execution_count": 2,
     "metadata": {},
     "output_type": "execute_result"
    }
   ],
   "source": [
    "\"\"\"\n",
    "warnings.filterwarnings(\"ignore\", category=RuntimeWarning)\n",
    "warnings.filterwarnings(\"ignore\", category=DeprecationWarning)\n",
    "warnings.filterwarnings(\"ignore\", category=UserWarning)\n",
    "warnings.filterwarnings(\"ignore\", category=FutureWarning)\n",
    "\n",
    "_conn = sqlite3.connect(\"airbnb_cartagena.sqlite\")\n",
    "df_attr = pd.read_sql_query(\"SELECT * FROM Attributes\", _conn)\n",
    "df_ts = pd.read_sql_query(\"SELECT * FROM TimeSeriesRaw\", _conn)\n",
    "df_ts_interp = pd.read_sql_query(\"SELECT * FROM TimeSeriesInterpolated\", _conn)\n",
    "_conn.close()\n",
    "\n",
    "import pandas as pd\n",
    "import numpy as np\n",
    "from sklearn.preprocessing import StandardScaler\n",
    "from sklearn.feature_selection import VarianceThreshold\n",
    "from scipy.spatial.distance import pdist, squareform\n",
    "from sklearn.linear_model import LinearRegression\n",
    "from datetime import datetime\n",
    "import matplotlib.pyplot as plt\n",
    "import umap\n",
    "import plotly.express as px\n",
    "import plotly.colors as pc\n",
    "import plotly.graph_objects as go\n",
    "from plotly.subplots import make_subplots\n",
    "import gudhi as gd\n",
    "\"\"\""
   ]
  },
  {
   "cell_type": "code",
   "execution_count": 3,
   "id": "a4006be1",
   "metadata": {},
   "outputs": [],
   "source": [
    "red = \"#7e0d24\"  # dark red color for plots\n",
    "\n",
    "import re\n",
    "dates = [col for col in df_ts.columns if re.fullmatch(r\"\\d{1,2}/\\d{1,2}/\\d{4}\", col)]\n",
    "df_ts_interp = df_ts_interp.dropna(subset=dates, how=\"any\").reset_index(drop=True)"
   ]
  },
  {
   "cell_type": "code",
   "execution_count": 4,
   "id": "0d9f586a",
   "metadata": {},
   "outputs": [],
   "source": [
    "#\"\"\"\"\n",
    "df_attr=df_attr[[\n",
    "   'Name', 'Host', 'Base fee', 'Cleaning fee', 'URL', 'ID', 'latitude',\n",
    "   'longitude', 'Property type', 'Person capacity', 'accuracy_rating',\n",
    "   'checking_rating', 'cleanliness_rating', 'communication_rating',\n",
    "   'location_rating', 'value_rating', 'satisfaction_rating', 'Reviews',\n",
    "   'Bedrooms', 'Beds', 'Baths', 'City skyline view', 'Beach view',\n",
    "   'Sea/Lake view', 'Hot water', 'Jacuzzi', 'Shared pool', 'Shared gym',\n",
    "   'Patio or balcony', 'Outdoor furniture', 'Outdoor playground',\n",
    "   'Elevator', 'Carport', 'Dedicated workspace', 'AC', 'Heating', 'TV',\n",
    "   'Cable TV', 'Wifi', 'Laundry service', 'Kitchen', 'Dining table',\n",
    "   'Microwave', 'Dishes and silverware', 'Refrigerator', 'Stove',\n",
    "   'Washer', 'Pets allowed', 'Crib', 'Security cameras', 'Lock on door', 'Keypad']]\n",
    "#df_attr[\"Base fee\"]=df_attr[\"Base fee\"].map(lambda x:  min(x//25*25,125) )\n",
    "#\"\"\""
   ]
  },
  {
   "cell_type": "code",
   "execution_count": 5,
   "id": "6a665afb",
   "metadata": {},
   "outputs": [],
   "source": [
    "#\"\"\"\n",
    "#df_attr[\"Base fee\"]=df_attr[\"Base fee\"].map(lambda x:  min(x//25*25,125) )\n",
    "#df_attr = df_attr.iloc[:, :21]\n",
    "#\"\"\""
   ]
  },
  {
   "cell_type": "code",
   "execution_count": 6,
   "id": "5520677f",
   "metadata": {},
   "outputs": [],
   "source": [
    "def build_umap_and_distances():\n",
    "    # Drop some columns that are not needed\n",
    "    df_temp = df_attr.copy()\n",
    "    df_temp=df_temp[[\n",
    "    'Name', 'Host', 'Base fee', 'Cleaning fee', 'URL', 'ID', 'latitude',\n",
    "    'longitude', 'Property type', 'Person capacity', 'accuracy_rating',\n",
    "    'checking_rating', 'cleanliness_rating', 'communication_rating',\n",
    "    'location_rating', 'value_rating', 'satisfaction_rating', 'Reviews',\n",
    "    'Bedrooms', 'Beds', 'Baths', 'City skyline view', 'Beach view',\n",
    "    'Sea/Lake view', 'Hot water', 'Jacuzzi', 'Shared pool', 'Shared gym',\n",
    "    'Patio or balcony', 'Outdoor furniture', 'Outdoor playground',\n",
    "    'Elevator', 'Carport', 'Dedicated workspace', 'AC', 'Heating', 'TV',\n",
    "    'Cable TV', 'Wifi', 'Laundry service', 'Kitchen', 'Dining table',\n",
    "    'Microwave', 'Dishes and silverware', 'Refrigerator', 'Stove', 'Keypad',\n",
    "    'Washer', 'Pets allowed', 'Crib', 'Security cameras', 'Lock on door']]\n",
    "\n",
    "    # Melt time series data to long format\n",
    "    df_prices = (\n",
    "        df_ts_interp.copy()\n",
    "        .melt(id_vars=\"ID\", value_vars=dates, var_name=\"Date\", value_name=\"Value\")\n",
    "        .assign(Date=lambda d: pd.to_datetime(d[\"Date\"], dayfirst=True))\n",
    "    )\n",
    "\n",
    "    # Summarize per‐listing log‐price mean, std, and trend\n",
    "    def summarize(group):\n",
    "        #y = np.log1p(group[\"Value\"].replace(0, np.nan))  # Avoid log(0)\n",
    "        y = np.log1p(group[\"Value\"])\n",
    "        #y = group[\"Value\"]\n",
    "        days = (group[\"Date\"] - group[\"Date\"].min()).dt.days.values.reshape(-1,1)\n",
    "        lr = LinearRegression().fit(days, y) if len(np.unique(days))>1 else None\n",
    "        return pd.Series({\n",
    "            \"price_mean\": y.mean(),\n",
    "            \"price_std\":  y.std(),\n",
    "            \"price_trend\": lr.coef_[0] if lr else 0.0\n",
    "        })\n",
    "    df_price_summary = (\n",
    "        df_prices\n",
    "        .groupby(\"ID\", group_keys=False)\n",
    "        .apply(summarize)\n",
    "    )\n",
    "    df_merged = df_attr.merge(df_price_summary, on=\"ID\")\n",
    "\n",
    "    # Filter out near‐constant / low‐variance features\n",
    "    selector = VarianceThreshold(threshold=0.1)\n",
    "    X = selector.fit_transform(df_merged.select_dtypes(\"number\"))\n",
    "    to_keep = df_merged.select_dtypes(\"number\").columns[selector.get_support()]\n",
    "\n",
    "    # Drop highly correlated (>0.9)\n",
    "    df_reduced = pd.DataFrame(X, columns=to_keep)\n",
    "    corr = df_reduced.corr().abs()\n",
    "    upper = corr.where(np.triu(np.ones(corr.shape, dtype=bool), k=1))\n",
    "    to_drop = [c for c in upper.columns if (upper[c] > 0.9).any()]\n",
    "    df_space = df_reduced.drop(columns=to_drop)\n",
    "\n",
    "    # Scale + UMAP embedding\n",
    "    X_scaled = StandardScaler().fit_transform(df_space)\n",
    "    umap_proj = umap.UMAP(n_components=3, n_neighbors=30, min_dist=0.1, random_state=69).fit_transform(X_scaled)\n",
    "\n",
    "    # Build distance matrix and UMAP space DataFrame\n",
    "    df_space = df_merged.loc[df_space.index, ['ID','Base fee']].reset_index(drop=True)\n",
    "    df_space[['UMAP1','UMAP2','UMAP3']] = umap_proj\n",
    "    dist_matrix = squareform(pdist(df_space.drop(columns=[\"ID\", 'Base fee']).values, metric=\"euclidean\"))\n",
    "    df_dist = pd.DataFrame(dist_matrix, index=df_space['ID'], columns=df_space['ID'])\n",
    "    \n",
    "    return df_space, df_dist, dist_matrix, df_prices\n",
    "\n",
    "\n",
    "df_space, df_dist, dist_matrix, df_prices = build_umap_and_distances()"
   ]
  },
  {
   "cell_type": "code",
   "execution_count": 7,
   "id": "d1bf4eef",
   "metadata": {},
   "outputs": [
    {
     "data": {
      "application/vnd.plotly.v1+json": {
       "config": {
        "plotlyServerURL": "https://plot.ly"
       },
       "data": [
        {
         "hovertemplate": "<b>%{hovertext}</b><br><br>UMAP1=%{x}<br>UMAP2=%{y}<br>UMAP3=%{z}<br>Base fee=%{marker.color}<extra></extra>",
         "hovertext": [
          "1282890977555839180",
          "1255908021842197930",
          "1364376551860961934",
          "1279218191310817247",
          "1316158964673335895",
          "725951699224906993",
          "1254303583045546955",
          "1315344706047362032",
          "1338690952348756006",
          "986342579444462399",
          "994392265836559354",
          "1170314793845437727",
          "1144449787453177593",
          "50637762",
          "1370475063168875041",
          "1279264133273765767",
          "1038158992459515932",
          "1060659586771911271",
          "995879788500033068",
          "1082092672297397383",
          "1117493870268287084",
          "1331317275345198410",
          "1345885220314300035",
          "1252955190460839164",
          "807287853103474314",
          "1003680480548024835",
          "1101521186410665163",
          "1126871837482680826",
          "911113843317991706",
          "878352430199000952",
          "1216205629459955503",
          "1152493881820384873",
          "1317428120714655677",
          "823224593312108874",
          "802873898143599598",
          "985588880340118836",
          "846281101302571252",
          "1073830324762676707",
          "1291369680799235048",
          "1291386342035446932",
          "1291348254945757857",
          "1284922899449149869",
          "1300846874190721949",
          "1178368806182581245",
          "1354503288606231731",
          "839283791724610443",
          "852322227051781578",
          "852836475894493606",
          "852998646126710254",
          "928953902518668812",
          "853430725018525635",
          "865741394178687754",
          "1065446126459762366",
          "865494322261178427",
          "852722227526718255",
          "852423984035352397",
          "852707152905312617",
          "852764754959774056",
          "865501138503964861",
          "865484469517762048",
          "852958133808719190",
          "958267722202025656",
          "878789244081373209",
          "852846097719499069",
          "852947489018010555",
          "865417719613815681",
          "865433093370851067",
          "865505131391284959",
          "929051174009268462",
          "1229800644222284211",
          "890771974735264612",
          "897405006229683800",
          "943495681388968810",
          "982475106451734664",
          "982475113924685879",
          "1061083288618779943",
          "1131261936147332933",
          "1061118933427624758",
          "1374717540319611164"
         ],
         "legendgroup": "",
         "marker": {
          "color": {
           "bdata": "AAAAAADAV0AAAAAAAABZQAAAAAAAwFBAAAAAAABAVkAAAAAAAIBZQAAAAAAAQF9AAAAAAADAVUAAAAAAAEBTQAAAAAAAQFRAAAAAAAAAW0AAAAAAAABTQAAAAAAAwFdAAAAAAABgYkA9CtejcB1TQAAAAAAAQF5AAAAAAACAX0AAAAAAAABPQAAAAAAAQFBASOF6FK6HVEAAAAAAAABSQAAAAAAAgFZAAAAAAADAUkAAAAAAAEBVQAAAAAAAQFVAAAAAAACATkAAAAAAAMBRQAAAAAAAgFhAAAAAAADAWEAAAAAAAIBVQAAAAAAAQFlAAAAAAABAV0AAAAAAAEBTQAAAAAAAwFhAAAAAAABAVEAAAAAAAMBVQAAAAAAAYGBAAAAAAABAU0BmZmZmZmZXQAAAAAAAQFJAAAAAAABAUkC4HoXrUdhVQAAAAAAAQFlAAAAAAACAWEAAAAAAAMBRQAAAAAAAQFhAAAAAAACAXkAAAAAAAEBXQAAAAAAAgFhAAAAAAABAUkAAAAAAAEBVQAAAAAAAwFlAAAAAAADAUUAAAAAAAEBVQAAAAAAAAFNAAAAAAACAW0AAAAAAAMBUQAAAAAAAQFdAAAAAAABAV0AAAAAAAIBTQAAAAAAAwFFAAAAAAABAWkAAAAAAAEBTQAAAAAAAQFpAAAAAAAAAWkAAAAAAAEBbQAAAAAAAwGdAAAAAAADAUUAAAAAAAMBRQAAAAAAAAF1AAAAAAADAVkAAAAAAAABWQAAAAAAAAFhAAAAAAAAAWUAAAAAAAABbQAAAAAAAAFhAFK5H4XpUVkB7FK5H4RpdQAAAAAAAQFhAAAAAAACAUkA=",
           "dtype": "f8"
          },
          "coloraxis": "coloraxis",
          "opacity": 0.85,
          "symbol": "circle"
         },
         "mode": "markers",
         "name": "",
         "scene": "scene",
         "showlegend": false,
         "type": "scatter3d",
         "x": {
          "bdata": "DRuBQd+EQkFJjIBBlLJ9QaO2eUEOYV1BlKR6QZk3TkHySIJB2AJ2QRIQYkFq431B7mJSQfTDU0EqclZB6RFEQWEXQkElSj9BbBRmQR27VEGe01xBW25OQe9LUkF+iFtB3rtrQftVeEG3hnBBOVlrQXOadkHWJ3dBQ+JmQSbaSkEeK11B9r5cQWozVUGjHIFB9yp/QcLrV0FQpERBzJpAQc4BQkFUAnBB0WpRQb3UdEEG70pBzMR8QWJVeEGYbHlBieeAQR/afEHfR39Bm6Z9QduVcEFcwXFBcWCBQbFseUGPx3VBW+R6QTWTd0FF64BBJjVyQWYxgEFIrHRBBnWAQb5/dkEZd35BniSAQetKcEFK+XpBD01eQczFT0HqalJBd4FJQRmiakG5815BgYhfQYqzQUESrk5BupxKQQ==",
          "dtype": "f4"
         },
         "y": {
          "bdata": "miANQGDRQ0DioxdA4rEEQCpRFUB8CDBA6IT7P1LIHUBelipA+JRGQNrMDkAXERpAxF0mQDILXUBeAhdAq2w4QHweJEC7NylAt5AfQBneNUAOljpA4fA/QBgoMkDyth5ALEgxQG+ZTECbfDRAUOkdQP2IXUCDm4dAKIdAQLatEkDM0CNAuvhDQL9zfECGSjFAstsuQLoZbEDA/CFAEEcvQLv9QECR52hADyVHQJP9T0CsbA1AwkOEQPbdjkDo/XBAkWlYQDW4g0CEpIlAyVdJQH+OdEDcmVxA4Ax2QBFUckCaAY9ANdKPQJLKYUA1jXBAd3mNQJiggUCisIBAByFjQETFlEARV5RAuDhiQNNOaEBR/YpAEitMQKZnT0B++ltA491YQApmhkCyPClAgJkgQFfzRUDr5C1AFxYoQA==",
          "dtype": "f4"
         },
         "z": {
          "bdata": "RmPOQVl21EH3o8tBn93MQakd0UHnUNBBwvnNQall0UHQp85B6UnNQadfzkHszs5B6MbQQboC1EGFT9ZBrgfQQW6/0EFeJNVBjgzNQf6Ry0Ep1tVBOv3WQVlS1kHBEdNBgEPHQbpv0UG8xNBBapfOQb4W1EFWAdNBxNvUQaMA00HreNdB4YfMQVy60EFNqMtB+R3QQRnpzkHJktVBF9rXQfcm1kGq/dNBCCDPQYgExUFsF9ZBtQfTQSiKykH5acdB7jvGQdr+yUHhmc1BGHDHQYf+y0F4ksZB2VrIQfFCy0FUmMpBsXbNQed8xEHE48RBLn7QQdqSzEGIddBB2pzKQakjz0Ep/NBBBD7FQc3Nx0F2oc9BvFLSQdvby0HlrM9B3FDQQds30UHTN8hBmRDMQVI70kG2NcxBk4bUQQ==",
          "dtype": "f4"
         }
        }
       ],
       "layout": {
        "coloraxis": {
         "colorbar": {
          "title": {
           "text": "Base fee"
          }
         },
         "colorscale": [
          [
           0,
           "rgb(241, 236, 236)"
          ],
          [
           0.09090909090909091,
           "rgb(230, 209, 203)"
          ],
          [
           0.18181818181818182,
           "rgb(221, 182, 170)"
          ],
          [
           0.2727272727272727,
           "rgb(213, 156, 137)"
          ],
          [
           0.36363636363636365,
           "rgb(205, 129, 103)"
          ],
          [
           0.45454545454545453,
           "rgb(196, 102, 73)"
          ],
          [
           0.5454545454545454,
           "rgb(186, 74, 47)"
          ],
          [
           0.6363636363636364,
           "rgb(172, 44, 36)"
          ],
          [
           0.7272727272727273,
           "rgb(149, 19, 39)"
          ],
          [
           0.8181818181818182,
           "rgb(120, 14, 40)"
          ],
          [
           0.9090909090909091,
           "rgb(89, 13, 31)"
          ],
          [
           1,
           "rgb(60, 9, 17)"
          ]
         ]
        },
        "legend": {
         "tracegroupgap": 0
        },
        "scene": {
         "domain": {
          "x": [
           0,
           1
          ],
          "y": [
           0,
           1
          ]
         },
         "xaxis": {
          "title": {
           "text": "UMAP1"
          }
         },
         "yaxis": {
          "title": {
           "text": "UMAP2"
          }
         },
         "zaxis": {
          "title": {
           "text": "UMAP3"
          }
         }
        },
        "template": {
         "data": {
          "bar": [
           {
            "error_x": {
             "color": "#f2f5fa"
            },
            "error_y": {
             "color": "#f2f5fa"
            },
            "marker": {
             "line": {
              "color": "rgb(17,17,17)",
              "width": 0.5
             },
             "pattern": {
              "fillmode": "overlay",
              "size": 10,
              "solidity": 0.2
             }
            },
            "type": "bar"
           }
          ],
          "barpolar": [
           {
            "marker": {
             "line": {
              "color": "rgb(17,17,17)",
              "width": 0.5
             },
             "pattern": {
              "fillmode": "overlay",
              "size": 10,
              "solidity": 0.2
             }
            },
            "type": "barpolar"
           }
          ],
          "carpet": [
           {
            "aaxis": {
             "endlinecolor": "#A2B1C6",
             "gridcolor": "#506784",
             "linecolor": "#506784",
             "minorgridcolor": "#506784",
             "startlinecolor": "#A2B1C6"
            },
            "baxis": {
             "endlinecolor": "#A2B1C6",
             "gridcolor": "#506784",
             "linecolor": "#506784",
             "minorgridcolor": "#506784",
             "startlinecolor": "#A2B1C6"
            },
            "type": "carpet"
           }
          ],
          "choropleth": [
           {
            "colorbar": {
             "outlinewidth": 0,
             "ticks": ""
            },
            "type": "choropleth"
           }
          ],
          "contour": [
           {
            "colorbar": {
             "outlinewidth": 0,
             "ticks": ""
            },
            "colorscale": [
             [
              0,
              "#0d0887"
             ],
             [
              0.1111111111111111,
              "#46039f"
             ],
             [
              0.2222222222222222,
              "#7201a8"
             ],
             [
              0.3333333333333333,
              "#9c179e"
             ],
             [
              0.4444444444444444,
              "#bd3786"
             ],
             [
              0.5555555555555556,
              "#d8576b"
             ],
             [
              0.6666666666666666,
              "#ed7953"
             ],
             [
              0.7777777777777778,
              "#fb9f3a"
             ],
             [
              0.8888888888888888,
              "#fdca26"
             ],
             [
              1,
              "#f0f921"
             ]
            ],
            "type": "contour"
           }
          ],
          "contourcarpet": [
           {
            "colorbar": {
             "outlinewidth": 0,
             "ticks": ""
            },
            "type": "contourcarpet"
           }
          ],
          "heatmap": [
           {
            "colorbar": {
             "outlinewidth": 0,
             "ticks": ""
            },
            "colorscale": [
             [
              0,
              "#0d0887"
             ],
             [
              0.1111111111111111,
              "#46039f"
             ],
             [
              0.2222222222222222,
              "#7201a8"
             ],
             [
              0.3333333333333333,
              "#9c179e"
             ],
             [
              0.4444444444444444,
              "#bd3786"
             ],
             [
              0.5555555555555556,
              "#d8576b"
             ],
             [
              0.6666666666666666,
              "#ed7953"
             ],
             [
              0.7777777777777778,
              "#fb9f3a"
             ],
             [
              0.8888888888888888,
              "#fdca26"
             ],
             [
              1,
              "#f0f921"
             ]
            ],
            "type": "heatmap"
           }
          ],
          "histogram": [
           {
            "marker": {
             "pattern": {
              "fillmode": "overlay",
              "size": 10,
              "solidity": 0.2
             }
            },
            "type": "histogram"
           }
          ],
          "histogram2d": [
           {
            "colorbar": {
             "outlinewidth": 0,
             "ticks": ""
            },
            "colorscale": [
             [
              0,
              "#0d0887"
             ],
             [
              0.1111111111111111,
              "#46039f"
             ],
             [
              0.2222222222222222,
              "#7201a8"
             ],
             [
              0.3333333333333333,
              "#9c179e"
             ],
             [
              0.4444444444444444,
              "#bd3786"
             ],
             [
              0.5555555555555556,
              "#d8576b"
             ],
             [
              0.6666666666666666,
              "#ed7953"
             ],
             [
              0.7777777777777778,
              "#fb9f3a"
             ],
             [
              0.8888888888888888,
              "#fdca26"
             ],
             [
              1,
              "#f0f921"
             ]
            ],
            "type": "histogram2d"
           }
          ],
          "histogram2dcontour": [
           {
            "colorbar": {
             "outlinewidth": 0,
             "ticks": ""
            },
            "colorscale": [
             [
              0,
              "#0d0887"
             ],
             [
              0.1111111111111111,
              "#46039f"
             ],
             [
              0.2222222222222222,
              "#7201a8"
             ],
             [
              0.3333333333333333,
              "#9c179e"
             ],
             [
              0.4444444444444444,
              "#bd3786"
             ],
             [
              0.5555555555555556,
              "#d8576b"
             ],
             [
              0.6666666666666666,
              "#ed7953"
             ],
             [
              0.7777777777777778,
              "#fb9f3a"
             ],
             [
              0.8888888888888888,
              "#fdca26"
             ],
             [
              1,
              "#f0f921"
             ]
            ],
            "type": "histogram2dcontour"
           }
          ],
          "mesh3d": [
           {
            "colorbar": {
             "outlinewidth": 0,
             "ticks": ""
            },
            "type": "mesh3d"
           }
          ],
          "parcoords": [
           {
            "line": {
             "colorbar": {
              "outlinewidth": 0,
              "ticks": ""
             }
            },
            "type": "parcoords"
           }
          ],
          "pie": [
           {
            "automargin": true,
            "type": "pie"
           }
          ],
          "scatter": [
           {
            "marker": {
             "line": {
              "color": "#283442"
             }
            },
            "type": "scatter"
           }
          ],
          "scatter3d": [
           {
            "line": {
             "colorbar": {
              "outlinewidth": 0,
              "ticks": ""
             }
            },
            "marker": {
             "colorbar": {
              "outlinewidth": 0,
              "ticks": ""
             }
            },
            "type": "scatter3d"
           }
          ],
          "scattercarpet": [
           {
            "marker": {
             "colorbar": {
              "outlinewidth": 0,
              "ticks": ""
             }
            },
            "type": "scattercarpet"
           }
          ],
          "scattergeo": [
           {
            "marker": {
             "colorbar": {
              "outlinewidth": 0,
              "ticks": ""
             }
            },
            "type": "scattergeo"
           }
          ],
          "scattergl": [
           {
            "marker": {
             "line": {
              "color": "#283442"
             }
            },
            "type": "scattergl"
           }
          ],
          "scattermap": [
           {
            "marker": {
             "colorbar": {
              "outlinewidth": 0,
              "ticks": ""
             }
            },
            "type": "scattermap"
           }
          ],
          "scattermapbox": [
           {
            "marker": {
             "colorbar": {
              "outlinewidth": 0,
              "ticks": ""
             }
            },
            "type": "scattermapbox"
           }
          ],
          "scatterpolar": [
           {
            "marker": {
             "colorbar": {
              "outlinewidth": 0,
              "ticks": ""
             }
            },
            "type": "scatterpolar"
           }
          ],
          "scatterpolargl": [
           {
            "marker": {
             "colorbar": {
              "outlinewidth": 0,
              "ticks": ""
             }
            },
            "type": "scatterpolargl"
           }
          ],
          "scatterternary": [
           {
            "marker": {
             "colorbar": {
              "outlinewidth": 0,
              "ticks": ""
             }
            },
            "type": "scatterternary"
           }
          ],
          "surface": [
           {
            "colorbar": {
             "outlinewidth": 0,
             "ticks": ""
            },
            "colorscale": [
             [
              0,
              "#0d0887"
             ],
             [
              0.1111111111111111,
              "#46039f"
             ],
             [
              0.2222222222222222,
              "#7201a8"
             ],
             [
              0.3333333333333333,
              "#9c179e"
             ],
             [
              0.4444444444444444,
              "#bd3786"
             ],
             [
              0.5555555555555556,
              "#d8576b"
             ],
             [
              0.6666666666666666,
              "#ed7953"
             ],
             [
              0.7777777777777778,
              "#fb9f3a"
             ],
             [
              0.8888888888888888,
              "#fdca26"
             ],
             [
              1,
              "#f0f921"
             ]
            ],
            "type": "surface"
           }
          ],
          "table": [
           {
            "cells": {
             "fill": {
              "color": "#506784"
             },
             "line": {
              "color": "rgb(17,17,17)"
             }
            },
            "header": {
             "fill": {
              "color": "#2a3f5f"
             },
             "line": {
              "color": "rgb(17,17,17)"
             }
            },
            "type": "table"
           }
          ]
         },
         "layout": {
          "annotationdefaults": {
           "arrowcolor": "#f2f5fa",
           "arrowhead": 0,
           "arrowwidth": 1
          },
          "autotypenumbers": "strict",
          "coloraxis": {
           "colorbar": {
            "outlinewidth": 0,
            "ticks": ""
           }
          },
          "colorscale": {
           "diverging": [
            [
             0,
             "#8e0152"
            ],
            [
             0.1,
             "#c51b7d"
            ],
            [
             0.2,
             "#de77ae"
            ],
            [
             0.3,
             "#f1b6da"
            ],
            [
             0.4,
             "#fde0ef"
            ],
            [
             0.5,
             "#f7f7f7"
            ],
            [
             0.6,
             "#e6f5d0"
            ],
            [
             0.7,
             "#b8e186"
            ],
            [
             0.8,
             "#7fbc41"
            ],
            [
             0.9,
             "#4d9221"
            ],
            [
             1,
             "#276419"
            ]
           ],
           "sequential": [
            [
             0,
             "#0d0887"
            ],
            [
             0.1111111111111111,
             "#46039f"
            ],
            [
             0.2222222222222222,
             "#7201a8"
            ],
            [
             0.3333333333333333,
             "#9c179e"
            ],
            [
             0.4444444444444444,
             "#bd3786"
            ],
            [
             0.5555555555555556,
             "#d8576b"
            ],
            [
             0.6666666666666666,
             "#ed7953"
            ],
            [
             0.7777777777777778,
             "#fb9f3a"
            ],
            [
             0.8888888888888888,
             "#fdca26"
            ],
            [
             1,
             "#f0f921"
            ]
           ],
           "sequentialminus": [
            [
             0,
             "#0d0887"
            ],
            [
             0.1111111111111111,
             "#46039f"
            ],
            [
             0.2222222222222222,
             "#7201a8"
            ],
            [
             0.3333333333333333,
             "#9c179e"
            ],
            [
             0.4444444444444444,
             "#bd3786"
            ],
            [
             0.5555555555555556,
             "#d8576b"
            ],
            [
             0.6666666666666666,
             "#ed7953"
            ],
            [
             0.7777777777777778,
             "#fb9f3a"
            ],
            [
             0.8888888888888888,
             "#fdca26"
            ],
            [
             1,
             "#f0f921"
            ]
           ]
          },
          "colorway": [
           "#636efa",
           "#EF553B",
           "#00cc96",
           "#ab63fa",
           "#FFA15A",
           "#19d3f3",
           "#FF6692",
           "#B6E880",
           "#FF97FF",
           "#FECB52"
          ],
          "font": {
           "color": "#f2f5fa"
          },
          "geo": {
           "bgcolor": "rgb(17,17,17)",
           "lakecolor": "rgb(17,17,17)",
           "landcolor": "rgb(17,17,17)",
           "showlakes": true,
           "showland": true,
           "subunitcolor": "#506784"
          },
          "hoverlabel": {
           "align": "left"
          },
          "hovermode": "closest",
          "mapbox": {
           "style": "dark"
          },
          "paper_bgcolor": "rgb(17,17,17)",
          "plot_bgcolor": "rgb(17,17,17)",
          "polar": {
           "angularaxis": {
            "gridcolor": "#506784",
            "linecolor": "#506784",
            "ticks": ""
           },
           "bgcolor": "rgb(17,17,17)",
           "radialaxis": {
            "gridcolor": "#506784",
            "linecolor": "#506784",
            "ticks": ""
           }
          },
          "scene": {
           "xaxis": {
            "backgroundcolor": "rgb(17,17,17)",
            "gridcolor": "#506784",
            "gridwidth": 2,
            "linecolor": "#506784",
            "showbackground": true,
            "ticks": "",
            "zerolinecolor": "#C8D4E3"
           },
           "yaxis": {
            "backgroundcolor": "rgb(17,17,17)",
            "gridcolor": "#506784",
            "gridwidth": 2,
            "linecolor": "#506784",
            "showbackground": true,
            "ticks": "",
            "zerolinecolor": "#C8D4E3"
           },
           "zaxis": {
            "backgroundcolor": "rgb(17,17,17)",
            "gridcolor": "#506784",
            "gridwidth": 2,
            "linecolor": "#506784",
            "showbackground": true,
            "ticks": "",
            "zerolinecolor": "#C8D4E3"
           }
          },
          "shapedefaults": {
           "line": {
            "color": "#f2f5fa"
           }
          },
          "sliderdefaults": {
           "bgcolor": "#C8D4E3",
           "bordercolor": "rgb(17,17,17)",
           "borderwidth": 1,
           "tickwidth": 0
          },
          "ternary": {
           "aaxis": {
            "gridcolor": "#506784",
            "linecolor": "#506784",
            "ticks": ""
           },
           "baxis": {
            "gridcolor": "#506784",
            "linecolor": "#506784",
            "ticks": ""
           },
           "bgcolor": "rgb(17,17,17)",
           "caxis": {
            "gridcolor": "#506784",
            "linecolor": "#506784",
            "ticks": ""
           }
          },
          "title": {
           "x": 0.05
          },
          "updatemenudefaults": {
           "bgcolor": "#506784",
           "borderwidth": 0
          },
          "xaxis": {
           "automargin": true,
           "gridcolor": "#283442",
           "linecolor": "#506784",
           "ticks": "",
           "title": {
            "standoff": 15
           },
           "zerolinecolor": "#283442",
           "zerolinewidth": 2
          },
          "yaxis": {
           "automargin": true,
           "gridcolor": "#283442",
           "linecolor": "#506784",
           "ticks": "",
           "title": {
            "standoff": 15
           },
           "zerolinecolor": "#283442",
           "zerolinewidth": 2
          }
         }
        },
        "title": {
         "text": "Embedded UMAP Space"
        }
       }
      }
     },
     "metadata": {},
     "output_type": "display_data"
    }
   ],
   "source": [
    "def umap_space():\n",
    "    \"\"\"\n",
    "    3D plot of the UMAP embedded space.\n",
    "    \"\"\"\n",
    "    fig = px.scatter_3d(\n",
    "        df_space,\n",
    "        x=\"UMAP1\", y=\"UMAP2\", z=\"UMAP3\",\n",
    "        color='Base fee',\n",
    "        hover_name=\"ID\",\n",
    "        color_continuous_scale=\"amp\",\n",
    "        opacity=0.85,\n",
    "        title=\"Embedded UMAP Space\",\n",
    "        template=\"plotly_dark\"\n",
    "    )\n",
    "    return fig\n",
    "\n",
    "umap_space()"
   ]
  },
  {
   "cell_type": "code",
   "execution_count": 8,
   "id": "13be229d",
   "metadata": {},
   "outputs": [],
   "source": [
    "import gudhi as gd\n",
    "distance_matrix = df_dist.values\n",
    "rips_complex = gd.RipsComplex(distance_matrix=distance_matrix, max_edge_length=0.6)\n",
    "simplex_tree = rips_complex.create_simplex_tree(max_dimension=3)"
   ]
  },
  {
   "cell_type": "code",
   "execution_count": 9,
   "id": "90a89dd1",
   "metadata": {},
   "outputs": [
    {
     "data": {
      "application/vnd.plotly.v1+json": {
       "config": {
        "plotlyServerURL": "https://plot.ly"
       },
       "data": [
        {
         "marker": {
          "cmax": 120,
          "cmin": 40,
          "color": {
           "bdata": "AAAAAADAV0AAAAAAAABZQAAAAAAAwFBAAAAAAABAVkAAAAAAAIBZQAAAAAAAQF9AAAAAAADAVUAAAAAAAEBTQAAAAAAAQFRAAAAAAAAAW0AAAAAAAABTQAAAAAAAwFdAAAAAAABgYkA9CtejcB1TQAAAAAAAQF5AAAAAAACAX0AAAAAAAABPQAAAAAAAQFBASOF6FK6HVEAAAAAAAABSQAAAAAAAgFZAAAAAAADAUkAAAAAAAEBVQAAAAAAAQFVAAAAAAACATkAAAAAAAMBRQAAAAAAAgFhAAAAAAADAWEAAAAAAAIBVQAAAAAAAQFlAAAAAAABAV0AAAAAAAEBTQAAAAAAAwFhAAAAAAABAVEAAAAAAAMBVQAAAAAAAYGBAAAAAAABAU0BmZmZmZmZXQAAAAAAAQFJAAAAAAABAUkC4HoXrUdhVQAAAAAAAQFlAAAAAAACAWEAAAAAAAMBRQAAAAAAAQFhAAAAAAACAXkAAAAAAAEBXQAAAAAAAgFhAAAAAAABAUkAAAAAAAEBVQAAAAAAAwFlAAAAAAADAUUAAAAAAAEBVQAAAAAAAAFNAAAAAAACAW0AAAAAAAMBUQAAAAAAAQFdAAAAAAABAV0AAAAAAAIBTQAAAAAAAwFFAAAAAAABAWkAAAAAAAEBTQAAAAAAAQFpAAAAAAAAAWkAAAAAAAEBbQAAAAAAAwGdAAAAAAADAUUAAAAAAAMBRQAAAAAAAAF1AAAAAAADAVkAAAAAAAABWQAAAAAAAAFhAAAAAAAAAWUAAAAAAAABbQAAAAAAAAFhAFK5H4XpUVkB7FK5H4RpdQAAAAAAAQFhAAAAAAACAUkA=",
           "dtype": "f8"
          },
          "colorscale": [
           [
            0,
            "rgb(241, 236, 236)"
           ],
           [
            0.09090909090909091,
            "rgb(230, 209, 203)"
           ],
           [
            0.18181818181818182,
            "rgb(221, 182, 170)"
           ],
           [
            0.2727272727272727,
            "rgb(213, 156, 137)"
           ],
           [
            0.36363636363636365,
            "rgb(205, 129, 103)"
           ],
           [
            0.45454545454545453,
            "rgb(196, 102, 73)"
           ],
           [
            0.5454545454545454,
            "rgb(186, 74, 47)"
           ],
           [
            0.6363636363636364,
            "rgb(172, 44, 36)"
           ],
           [
            0.7272727272727273,
            "rgb(149, 19, 39)"
           ],
           [
            0.8181818181818182,
            "rgb(120, 14, 40)"
           ],
           [
            0.9090909090909091,
            "rgb(89, 13, 31)"
           ],
           [
            1,
            "rgb(60, 9, 17)"
           ]
          ],
          "opacity": 0.85,
          "size": 4
         },
         "mode": "markers",
         "name": "Points",
         "text": [
          "1282890977555839180",
          "1255908021842197930",
          "1364376551860961934",
          "1279218191310817247",
          "1316158964673335895",
          "725951699224906993",
          "1254303583045546955",
          "1315344706047362032",
          "1338690952348756006",
          "986342579444462399",
          "994392265836559354",
          "1170314793845437727",
          "1144449787453177593",
          "50637762",
          "1370475063168875041",
          "1279264133273765767",
          "1038158992459515932",
          "1060659586771911271",
          "995879788500033068",
          "1082092672297397383",
          "1117493870268287084",
          "1331317275345198410",
          "1345885220314300035",
          "1252955190460839164",
          "807287853103474314",
          "1003680480548024835",
          "1101521186410665163",
          "1126871837482680826",
          "911113843317991706",
          "878352430199000952",
          "1216205629459955503",
          "1152493881820384873",
          "1317428120714655677",
          "823224593312108874",
          "802873898143599598",
          "985588880340118836",
          "846281101302571252",
          "1073830324762676707",
          "1291369680799235048",
          "1291386342035446932",
          "1291348254945757857",
          "1284922899449149869",
          "1300846874190721949",
          "1178368806182581245",
          "1354503288606231731",
          "839283791724610443",
          "852322227051781578",
          "852836475894493606",
          "852998646126710254",
          "928953902518668812",
          "853430725018525635",
          "865741394178687754",
          "1065446126459762366",
          "865494322261178427",
          "852722227526718255",
          "852423984035352397",
          "852707152905312617",
          "852764754959774056",
          "865501138503964861",
          "865484469517762048",
          "852958133808719190",
          "958267722202025656",
          "878789244081373209",
          "852846097719499069",
          "852947489018010555",
          "865417719613815681",
          "865433093370851067",
          "865505131391284959",
          "929051174009268462",
          "1229800644222284211",
          "890771974735264612",
          "897405006229683800",
          "943495681388968810",
          "982475106451734664",
          "982475113924685879",
          "1061083288618779943",
          "1131261936147332933",
          "1061118933427624758",
          "1374717540319611164"
         ],
         "type": "scatter3d",
         "x": {
          "bdata": "DRuBQd+EQkFJjIBBlLJ9QaO2eUEOYV1BlKR6QZk3TkHySIJB2AJ2QRIQYkFq431B7mJSQfTDU0EqclZB6RFEQWEXQkElSj9BbBRmQR27VEGe01xBW25OQe9LUkF+iFtB3rtrQftVeEG3hnBBOVlrQXOadkHWJ3dBQ+JmQSbaSkEeK11B9r5cQWozVUGjHIFB9yp/QcLrV0FQpERBzJpAQc4BQkFUAnBB0WpRQb3UdEEG70pBzMR8QWJVeEGYbHlBieeAQR/afEHfR39Bm6Z9QduVcEFcwXFBcWCBQbFseUGPx3VBW+R6QTWTd0FF64BBJjVyQWYxgEFIrHRBBnWAQb5/dkEZd35BniSAQetKcEFK+XpBD01eQczFT0HqalJBd4FJQRmiakG5815BgYhfQYqzQUESrk5BupxKQQ==",
          "dtype": "f4"
         },
         "y": {
          "bdata": "miANQGDRQ0DioxdA4rEEQCpRFUB8CDBA6IT7P1LIHUBelipA+JRGQNrMDkAXERpAxF0mQDILXUBeAhdAq2w4QHweJEC7NylAt5AfQBneNUAOljpA4fA/QBgoMkDyth5ALEgxQG+ZTECbfDRAUOkdQP2IXUCDm4dAKIdAQLatEkDM0CNAuvhDQL9zfECGSjFAstsuQLoZbEDA/CFAEEcvQLv9QECR52hADyVHQJP9T0CsbA1AwkOEQPbdjkDo/XBAkWlYQDW4g0CEpIlAyVdJQH+OdEDcmVxA4Ax2QBFUckCaAY9ANdKPQJLKYUA1jXBAd3mNQJiggUCisIBAByFjQETFlEARV5RAuDhiQNNOaEBR/YpAEitMQKZnT0B++ltA491YQApmhkCyPClAgJkgQFfzRUDr5C1AFxYoQA==",
          "dtype": "f4"
         },
         "z": {
          "bdata": "RmPOQVl21EH3o8tBn93MQakd0UHnUNBBwvnNQall0UHQp85B6UnNQadfzkHszs5B6MbQQboC1EGFT9ZBrgfQQW6/0EFeJNVBjgzNQf6Ry0Ep1tVBOv3WQVlS1kHBEdNBgEPHQbpv0UG8xNBBapfOQb4W1EFWAdNBxNvUQaMA00HreNdB4YfMQVy60EFNqMtB+R3QQRnpzkHJktVBF9rXQfcm1kGq/dNBCCDPQYgExUFsF9ZBtQfTQSiKykH5acdB7jvGQdr+yUHhmc1BGHDHQYf+y0F4ksZB2VrIQfFCy0FUmMpBsXbNQed8xEHE48RBLn7QQdqSzEGIddBB2pzKQakjz0Ep/NBBBD7FQc3Nx0F2oc9BvFLSQdvby0HlrM9B3FDQQds30UHTN8hBmRDMQVI70kG2NcxBk4bUQQ==",
          "dtype": "f4"
         }
        },
        {
         "hoverinfo": "none",
         "line": {
          "color": "white",
          "width": 1
         },
         "mode": "lines",
         "showlegend": false,
         "type": "scatter3d",
         "x": [
          16.138208389282227,
          16.068498611450195,
          null
         ],
         "y": [
          2.2051148414611816,
          2.369377613067627,
          null
         ],
         "z": [
          25.798473358154297,
          25.455060958862305,
          null
         ]
        },
        {
         "hoverinfo": "none",
         "line": {
          "color": "white",
          "width": 1
         },
         "mode": "lines",
         "showlegend": false,
         "type": "scatter3d",
         "x": [
          16.138208389282227,
          15.856098175048828,
          null
         ],
         "y": [
          2.2051148414611816,
          2.073357105255127,
          null
         ],
         "z": [
          25.798473358154297,
          25.608213424682617,
          null
         ]
        },
        {
         "hoverinfo": "none",
         "line": {
          "color": "white",
          "width": 1
         },
         "mode": "lines",
         "showlegend": false,
         "type": "scatter3d",
         "x": [
          16.138208389282227,
          15.665180206298828,
          null
         ],
         "y": [
          2.2051148414611816,
          1.9649934768676758,
          null
         ],
         "z": [
          25.798473358154297,
          25.746952056884766,
          null
         ]
        },
        {
         "hoverinfo": "none",
         "line": {
          "color": "white",
          "width": 1
         },
         "mode": "lines",
         "showlegend": false,
         "type": "scatter3d",
         "x": [
          16.138208389282227,
          16.28561782836914,
          null
         ],
         "y": [
          2.2051148414611816,
          2.6654276847839355,
          null
         ],
         "z": [
          25.798473358154297,
          25.831939697265625,
          null
         ]
        },
        {
         "hoverinfo": "none",
         "line": {
          "color": "white",
          "width": 1
         },
         "mode": "lines",
         "showlegend": false,
         "type": "scatter3d",
         "x": [
          16.138208389282227,
          15.868021011352539,
          null
         ],
         "y": [
          2.2051148414611816,
          2.4072930812835693,
          null
         ],
         "z": [
          25.798473358154297,
          25.851036071777344,
          null
         ]
        },
        {
         "hoverinfo": "none",
         "line": {
          "color": "white",
          "width": 1
         },
         "mode": "lines",
         "showlegend": false,
         "type": "scatter3d",
         "x": [
          12.157439231872559,
          12.254372596740723,
          null
         ],
         "y": [
          3.0596542358398438,
          2.8816325664520264,
          null
         ],
         "z": [
          26.55778694152832,
          26.00374984741211,
          null
         ]
        },
        {
         "hoverinfo": "none",
         "line": {
          "color": "white",
          "width": 1
         },
         "mode": "lines",
         "showlegend": false,
         "type": "scatter3d",
         "x": [
          12.157439231872559,
          11.955601692199707,
          null
         ],
         "y": [
          3.0596542358398438,
          2.644026517868042,
          null
         ],
         "z": [
          26.55778694152832,
          26.642757415771484,
          null
         ]
        },
        {
         "hoverinfo": "none",
         "line": {
          "color": "white",
          "width": 1
         },
         "mode": "lines",
         "showlegend": false,
         "type": "scatter3d",
         "x": [
          12.157439231872559,
          12.290115356445312,
          null
         ],
         "y": [
          3.0596542358398438,
          2.5310516357421875,
          null
         ],
         "z": [
          26.55778694152832,
          26.696672439575195,
          null
         ]
        },
        {
         "hoverinfo": "none",
         "line": {
          "color": "white",
          "width": 1
         },
         "mode": "lines",
         "showlegend": false,
         "type": "scatter3d",
         "x": [
          12.157439231872559,
          12.037792205810547,
          null
         ],
         "y": [
          3.0596542358398438,
          2.7387123107910156,
          null
         ],
         "z": [
          26.55778694152832,
          26.981489181518555,
          null
         ]
        },
        {
         "hoverinfo": "none",
         "line": {
          "color": "white",
          "width": 1
         },
         "mode": "lines",
         "showlegend": false,
         "type": "scatter3d",
         "x": [
          12.157439231872559,
          12.12544059753418,
          null
         ],
         "y": [
          3.0596542358398438,
          3.015486478805542,
          null
         ],
         "z": [
          26.55778694152832,
          26.769025802612305,
          null
         ]
        },
        {
         "hoverinfo": "none",
         "line": {
          "color": "white",
          "width": 1
         },
         "mode": "lines",
         "showlegend": false,
         "type": "scatter3d",
         "x": [
          12.157439231872559,
          12.106332778930664,
          null
         ],
         "y": [
          3.0596542358398438,
          3.092977285385132,
          null
         ],
         "z": [
          26.55778694152832,
          26.27896499633789,
          null
         ]
        },
        {
         "hoverinfo": "none",
         "line": {
          "color": "white",
          "width": 1
         },
         "mode": "lines",
         "showlegend": false,
         "type": "scatter3d",
         "x": [
          16.068498611450195,
          15.856098175048828,
          null
         ],
         "y": [
          2.369377613067627,
          2.073357105255127,
          null
         ],
         "z": [
          25.455060958862305,
          25.608213424682617,
          null
         ]
        },
        {
         "hoverinfo": "none",
         "line": {
          "color": "white",
          "width": 1
         },
         "mode": "lines",
         "showlegend": false,
         "type": "scatter3d",
         "x": [
          16.068498611450195,
          16.28561782836914,
          null
         ],
         "y": [
          2.369377613067627,
          2.6654276847839355,
          null
         ],
         "z": [
          25.455060958862305,
          25.831939697265625,
          null
         ]
        },
        {
         "hoverinfo": "none",
         "line": {
          "color": "white",
          "width": 1
         },
         "mode": "lines",
         "showlegend": false,
         "type": "scatter3d",
         "x": [
          16.068498611450195,
          15.868021011352539,
          null
         ],
         "y": [
          2.369377613067627,
          2.4072930812835693,
          null
         ],
         "z": [
          25.455060958862305,
          25.851036071777344,
          null
         ]
        },
        {
         "hoverinfo": "none",
         "line": {
          "color": "white",
          "width": 1
         },
         "mode": "lines",
         "showlegend": false,
         "type": "scatter3d",
         "x": [
          16.068498611450195,
          16.13898277282715,
          null
         ],
         "y": [
          2.369377613067627,
          2.7701735496520996,
          null
         ],
         "z": [
          25.455060958862305,
          25.457178115844727,
          null
         ]
        },
        {
         "hoverinfo": "none",
         "line": {
          "color": "white",
          "width": 1
         },
         "mode": "lines",
         "showlegend": false,
         "type": "scatter3d",
         "x": [
          15.856098175048828,
          15.665180206298828,
          null
         ],
         "y": [
          2.073357105255127,
          1.9649934768676758,
          null
         ],
         "z": [
          25.608213424682617,
          25.746952056884766,
          null
         ]
        },
        {
         "hoverinfo": "none",
         "line": {
          "color": "white",
          "width": 1
         },
         "mode": "lines",
         "showlegend": false,
         "type": "scatter3d",
         "x": [
          15.856098175048828,
          15.868021011352539,
          null
         ],
         "y": [
          2.073357105255127,
          2.4072930812835693,
          null
         ],
         "z": [
          25.608213424682617,
          25.851036071777344,
          null
         ]
        },
        {
         "hoverinfo": "none",
         "line": {
          "color": "white",
          "width": 1
         },
         "mode": "lines",
         "showlegend": false,
         "type": "scatter3d",
         "x": [
          15.607089042663574,
          15.665180206298828,
          null
         ],
         "y": [
          2.3330788612365723,
          1.9649934768676758,
          null
         ],
         "z": [
          26.139482498168945,
          25.746952056884766,
          null
         ]
        },
        {
         "hoverinfo": "none",
         "line": {
          "color": "white",
          "width": 1
         },
         "mode": "lines",
         "showlegend": false,
         "type": "scatter3d",
         "x": [
          15.607089042663574,
          15.868021011352539,
          null
         ],
         "y": [
          2.3330788612365723,
          2.4072930812835693,
          null
         ],
         "z": [
          26.139482498168945,
          25.851036071777344,
          null
         ]
        },
        {
         "hoverinfo": "none",
         "line": {
          "color": "white",
          "width": 1
         },
         "mode": "lines",
         "showlegend": false,
         "type": "scatter3d",
         "x": [
          15.607089042663574,
          15.947989463806152,
          null
         ],
         "y": [
          2.3330788612365723,
          2.73215913772583,
          null
         ],
         "z": [
          26.139482498168945,
          26.01463508605957,
          null
         ]
        },
        {
         "hoverinfo": "none",
         "line": {
          "color": "white",
          "width": 1
         },
         "mode": "lines",
         "showlegend": false,
         "type": "scatter3d",
         "x": [
          13.83619499206543,
          13.720823287963867,
          null
         ],
         "y": [
          2.7505178451538086,
          2.4799160957336426,
          null
         ],
         "z": [
          26.03950309753418,
          26.383668899536133,
          null
         ]
        },
        {
         "hoverinfo": "none",
         "line": {
          "color": "white",
          "width": 1
         },
         "mode": "lines",
         "showlegend": false,
         "type": "scatter3d",
         "x": [
          13.83619499206543,
          13.796621322631836,
          null
         ],
         "y": [
          2.7505178451538086,
          3.062056064605713,
          null
         ],
         "z": [
          26.03950309753418,
          25.566347122192383,
          null
         ]
        },
        {
         "hoverinfo": "none",
         "line": {
          "color": "white",
          "width": 1
         },
         "mode": "lines",
         "showlegend": false,
         "type": "scatter3d",
         "x": [
          13.83619499206543,
          13.893813133239746,
          null
         ],
         "y": [
          2.7505178451538086,
          3.190128803253174,
          null
         ],
         "z": [
          26.03950309753418,
          26.29039764404297,
          null
         ]
        },
        {
         "hoverinfo": "none",
         "line": {
          "color": "white",
          "width": 1
         },
         "mode": "lines",
         "showlegend": false,
         "type": "scatter3d",
         "x": [
          13.83619499206543,
          13.970826148986816,
          null
         ],
         "y": [
          2.7505178451538086,
          2.509368896484375,
          null
         ],
         "z": [
          26.03950309753418,
          25.50810432434082,
          null
         ]
        },
        {
         "hoverinfo": "none",
         "line": {
          "color": "white",
          "width": 1
         },
         "mode": "lines",
         "showlegend": false,
         "type": "scatter3d",
         "x": [
          15.665180206298828,
          15.868021011352539,
          null
         ],
         "y": [
          1.9649934768676758,
          2.4072930812835693,
          null
         ],
         "z": [
          25.746952056884766,
          25.851036071777344,
          null
         ]
        },
        {
         "hoverinfo": "none",
         "line": {
          "color": "white",
          "width": 1
         },
         "mode": "lines",
         "showlegend": false,
         "type": "scatter3d",
         "x": [
          12.88857364654541,
          13.149152755737305,
          null
         ],
         "y": [
          2.4653515815734863,
          2.599472999572754,
          null
         ],
         "z": [
          26.174638748168945,
          26.097122192382812,
          null
         ]
        },
        {
         "hoverinfo": "none",
         "line": {
          "color": "white",
          "width": 1
         },
         "mode": "lines",
         "showlegend": false,
         "type": "scatter3d",
         "x": [
          12.88857364654541,
          12.678258895874023,
          null
         ],
         "y": [
          2.4653515815734863,
          2.2918524742126465,
          null
         ],
         "z": [
          26.174638748168945,
          26.37531089782715,
          null
         ]
        },
        {
         "hoverinfo": "none",
         "line": {
          "color": "white",
          "width": 1
         },
         "mode": "lines",
         "showlegend": false,
         "type": "scatter3d",
         "x": [
          12.88857364654541,
          12.663263320922852,
          null
         ],
         "y": [
          2.4653515815734863,
          2.6263482570648193,
          null
         ],
         "z": [
          26.174638748168945,
          26.565710067749023,
          null
         ]
        },
        {
         "hoverinfo": "none",
         "line": {
          "color": "white",
          "width": 1
         },
         "mode": "lines",
         "showlegend": false,
         "type": "scatter3d",
         "x": [
          16.28561782836914,
          15.868021011352539,
          null
         ],
         "y": [
          2.6654276847839355,
          2.4072930812835693,
          null
         ],
         "z": [
          25.831939697265625,
          25.851036071777344,
          null
         ]
        },
        {
         "hoverinfo": "none",
         "line": {
          "color": "white",
          "width": 1
         },
         "mode": "lines",
         "showlegend": false,
         "type": "scatter3d",
         "x": [
          16.28561782836914,
          16.13898277282715,
          null
         ],
         "y": [
          2.6654276847839355,
          2.7701735496520996,
          null
         ],
         "z": [
          25.831939697265625,
          25.457178115844727,
          null
         ]
        },
        {
         "hoverinfo": "none",
         "line": {
          "color": "white",
          "width": 1
         },
         "mode": "lines",
         "showlegend": false,
         "type": "scatter3d",
         "x": [
          16.28561782836914,
          15.947989463806152,
          null
         ],
         "y": [
          2.6654276847839355,
          2.73215913772583,
          null
         ],
         "z": [
          25.831939697265625,
          26.01463508605957,
          null
         ]
        },
        {
         "hoverinfo": "none",
         "line": {
          "color": "white",
          "width": 1
         },
         "mode": "lines",
         "showlegend": false,
         "type": "scatter3d",
         "x": [
          15.375694274902344,
          15.520991325378418,
          null
         ],
         "y": [
          3.102842330932617,
          3.1968648433685303,
          null
         ],
         "z": [
          25.661088943481445,
          26.179553985595703,
          null
         ]
        },
        {
         "hoverinfo": "none",
         "line": {
          "color": "white",
          "width": 1
         },
         "mode": "lines",
         "showlegend": false,
         "type": "scatter3d",
         "x": [
          14.128923416137695,
          14.379985809326172,
          null
         ],
         "y": [
          2.231253147125244,
          2.4932076930999756,
          null
         ],
         "z": [
          25.79670524597168,
          25.63113021850586,
          null
         ]
        },
        {
         "hoverinfo": "none",
         "line": {
          "color": "white",
          "width": 1
         },
         "mode": "lines",
         "showlegend": false,
         "type": "scatter3d",
         "x": [
          14.128923416137695,
          13.970826148986816,
          null
         ],
         "y": [
          2.231253147125244,
          2.509368896484375,
          null
         ],
         "z": [
          25.79670524597168,
          25.50810432434082,
          null
         ]
        },
        {
         "hoverinfo": "none",
         "line": {
          "color": "white",
          "width": 1
         },
         "mode": "lines",
         "showlegend": false,
         "type": "scatter3d",
         "x": [
          15.868021011352539,
          15.947989463806152,
          null
         ],
         "y": [
          2.4072930812835693,
          2.73215913772583,
          null
         ],
         "z": [
          25.851036071777344,
          26.01463508605957,
          null
         ]
        },
        {
         "hoverinfo": "none",
         "line": {
          "color": "white",
          "width": 1
         },
         "mode": "lines",
         "showlegend": false,
         "type": "scatter3d",
         "x": [
          13.149152755737305,
          13.088578224182129,
          null
         ],
         "y": [
          2.599472999572754,
          3.1116368770599365,
          null
         ],
         "z": [
          26.097122192382812,
          25.890640258789062,
          null
         ]
        },
        {
         "hoverinfo": "none",
         "line": {
          "color": "white",
          "width": 1
         },
         "mode": "lines",
         "showlegend": false,
         "type": "scatter3d",
         "x": [
          13.235340118408203,
          13.151102066040039,
          null
         ],
         "y": [
          3.453808307647705,
          3.437163829803467,
          null
         ],
         "z": [
          26.501331329345703,
          25.959421157836914,
          null
         ]
        },
        {
         "hoverinfo": "none",
         "line": {
          "color": "white",
          "width": 1
         },
         "mode": "lines",
         "showlegend": false,
         "type": "scatter3d",
         "x": [
          13.402872085571289,
          13.143538475036621,
          null
         ],
         "y": [
          2.3595194816589355,
          2.7836971282958984,
          null
         ],
         "z": [
          26.788827896118164,
          26.79020881652832,
          null
         ]
        },
        {
         "hoverinfo": "none",
         "line": {
          "color": "white",
          "width": 1
         },
         "mode": "lines",
         "showlegend": false,
         "type": "scatter3d",
         "x": [
          13.402872085571289,
          13.720823287963867,
          null
         ],
         "y": [
          2.3595194816589355,
          2.4799160957336426,
          null
         ],
         "z": [
          26.788827896118164,
          26.383668899536133,
          null
         ]
        },
        {
         "hoverinfo": "none",
         "line": {
          "color": "white",
          "width": 1
         },
         "mode": "lines",
         "showlegend": false,
         "type": "scatter3d",
         "x": [
          13.402872085571289,
          13.823026657104492,
          null
         ],
         "y": [
          2.3595194816589355,
          2.5596189498901367,
          null
         ],
         "z": [
          26.788827896118164,
          26.93404197692871,
          null
         ]
        },
        {
         "hoverinfo": "none",
         "line": {
          "color": "white",
          "width": 1
         },
         "mode": "lines",
         "showlegend": false,
         "type": "scatter3d",
         "x": [
          12.254372596740723,
          12.130707740783691,
          null
         ],
         "y": [
          2.8816325664520264,
          2.5643606185913086,
          null
         ],
         "z": [
          26.00374984741211,
          26.09347152709961,
          null
         ]
        },
        {
         "hoverinfo": "none",
         "line": {
          "color": "white",
          "width": 1
         },
         "mode": "lines",
         "showlegend": false,
         "type": "scatter3d",
         "x": [
          12.254372596740723,
          12.106332778930664,
          null
         ],
         "y": [
          2.8816325664520264,
          3.092977285385132,
          null
         ],
         "z": [
          26.00374984741211,
          26.27896499633789,
          null
         ]
        },
        {
         "hoverinfo": "none",
         "line": {
          "color": "white",
          "width": 1
         },
         "mode": "lines",
         "showlegend": false,
         "type": "scatter3d",
         "x": [
          12.130707740783691,
          11.955601692199707,
          null
         ],
         "y": [
          2.5643606185913086,
          2.644026517868042,
          null
         ],
         "z": [
          26.09347152709961,
          26.642757415771484,
          null
         ]
        },
        {
         "hoverinfo": "none",
         "line": {
          "color": "white",
          "width": 1
         },
         "mode": "lines",
         "showlegend": false,
         "type": "scatter3d",
         "x": [
          12.130707740783691,
          12.106332778930664,
          null
         ],
         "y": [
          2.5643606185913086,
          3.092977285385132,
          null
         ],
         "z": [
          26.09347152709961,
          26.27896499633789,
          null
         ]
        },
        {
         "hoverinfo": "none",
         "line": {
          "color": "white",
          "width": 1
         },
         "mode": "lines",
         "showlegend": false,
         "type": "scatter3d",
         "x": [
          11.955601692199707,
          12.290115356445312,
          null
         ],
         "y": [
          2.644026517868042,
          2.5310516357421875,
          null
         ],
         "z": [
          26.642757415771484,
          26.696672439575195,
          null
         ]
        },
        {
         "hoverinfo": "none",
         "line": {
          "color": "white",
          "width": 1
         },
         "mode": "lines",
         "showlegend": false,
         "type": "scatter3d",
         "x": [
          11.955601692199707,
          12.037792205810547,
          null
         ],
         "y": [
          2.644026517868042,
          2.7387123107910156,
          null
         ],
         "z": [
          26.642757415771484,
          26.981489181518555,
          null
         ]
        },
        {
         "hoverinfo": "none",
         "line": {
          "color": "white",
          "width": 1
         },
         "mode": "lines",
         "showlegend": false,
         "type": "scatter3d",
         "x": [
          11.955601692199707,
          12.12544059753418,
          null
         ],
         "y": [
          2.644026517868042,
          3.015486478805542,
          null
         ],
         "z": [
          26.642757415771484,
          26.769025802612305,
          null
         ]
        },
        {
         "hoverinfo": "none",
         "line": {
          "color": "white",
          "width": 1
         },
         "mode": "lines",
         "showlegend": false,
         "type": "scatter3d",
         "x": [
          11.955601692199707,
          12.106332778930664,
          null
         ],
         "y": [
          2.644026517868042,
          3.092977285385132,
          null
         ],
         "z": [
          26.642757415771484,
          26.27896499633789,
          null
         ]
        },
        {
         "hoverinfo": "none",
         "line": {
          "color": "white",
          "width": 1
         },
         "mode": "lines",
         "showlegend": false,
         "type": "scatter3d",
         "x": [
          14.379985809326172,
          14.709282875061035,
          null
         ],
         "y": [
          2.4932076930999756,
          2.467365264892578,
          null
         ],
         "z": [
          25.63113021850586,
          25.823932647705078,
          null
         ]
        },
        {
         "hoverinfo": "none",
         "line": {
          "color": "white",
          "width": 1
         },
         "mode": "lines",
         "showlegend": false,
         "type": "scatter3d",
         "x": [
          14.379985809326172,
          13.970826148986816,
          null
         ],
         "y": [
          2.4932076930999756,
          2.509368896484375,
          null
         ],
         "z": [
          25.63113021850586,
          25.50810432434082,
          null
         ]
        },
        {
         "hoverinfo": "none",
         "line": {
          "color": "white",
          "width": 1
         },
         "mode": "lines",
         "showlegend": false,
         "type": "scatter3d",
         "x": [
          13.295681953430176,
          13.796621322631836,
          null
         ],
         "y": [
          2.8416807651519775,
          3.062056064605713,
          null
         ],
         "z": [
          25.446285247802734,
          25.566347122192383,
          null
         ]
        },
        {
         "hoverinfo": "none",
         "line": {
          "color": "white",
          "width": 1
         },
         "mode": "lines",
         "showlegend": false,
         "type": "scatter3d",
         "x": [
          13.295681953430176,
          13.088578224182129,
          null
         ],
         "y": [
          2.8416807651519775,
          3.1116368770599365,
          null
         ],
         "z": [
          25.446285247802734,
          25.890640258789062,
          null
         ]
        },
        {
         "hoverinfo": "none",
         "line": {
          "color": "white",
          "width": 1
         },
         "mode": "lines",
         "showlegend": false,
         "type": "scatter3d",
         "x": [
          13.295681953430176,
          12.985790252685547,
          null
         ],
         "y": [
          2.8416807651519775,
          3.240701198577881,
          null
         ],
         "z": [
          25.446285247802734,
          25.482351303100586,
          null
         ]
        },
        {
         "hoverinfo": "none",
         "line": {
          "color": "white",
          "width": 1
         },
         "mode": "lines",
         "showlegend": false,
         "type": "scatter3d",
         "x": [
          13.295681953430176,
          12.917497634887695,
          null
         ],
         "y": [
          2.8416807651519775,
          2.717097043991089,
          null
         ],
         "z": [
          25.446285247802734,
          25.526226043701172,
          null
         ]
        },
        {
         "hoverinfo": "none",
         "line": {
          "color": "white",
          "width": 1
         },
         "mode": "lines",
         "showlegend": false,
         "type": "scatter3d",
         "x": [
          13.801664352416992,
          13.720823287963867,
          null
         ],
         "y": [
          2.9154086112976074,
          2.4799160957336426,
          null
         ],
         "z": [
          26.729570388793945,
          26.383668899536133,
          null
         ]
        },
        {
         "hoverinfo": "none",
         "line": {
          "color": "white",
          "width": 1
         },
         "mode": "lines",
         "showlegend": false,
         "type": "scatter3d",
         "x": [
          13.801664352416992,
          13.823026657104492,
          null
         ],
         "y": [
          2.9154086112976074,
          2.5596189498901367,
          null
         ],
         "z": [
          26.729570388793945,
          26.93404197692871,
          null
         ]
        },
        {
         "hoverinfo": "none",
         "line": {
          "color": "white",
          "width": 1
         },
         "mode": "lines",
         "showlegend": false,
         "type": "scatter3d",
         "x": [
          13.801664352416992,
          13.893813133239746,
          null
         ],
         "y": [
          2.9154086112976074,
          3.190128803253174,
          null
         ],
         "z": [
          26.729570388793945,
          26.29039764404297,
          null
         ]
        },
        {
         "hoverinfo": "none",
         "line": {
          "color": "white",
          "width": 1
         },
         "mode": "lines",
         "showlegend": false,
         "type": "scatter3d",
         "x": [
          12.901942253112793,
          13.143538475036621,
          null
         ],
         "y": [
          2.999077081680298,
          2.7836971282958984,
          null
         ],
         "z": [
          26.873645782470703,
          26.79020881652832,
          null
         ]
        },
        {
         "hoverinfo": "none",
         "line": {
          "color": "white",
          "width": 1
         },
         "mode": "lines",
         "showlegend": false,
         "type": "scatter3d",
         "x": [
          12.901942253112793,
          12.663263320922852,
          null
         ],
         "y": [
          2.999077081680298,
          2.6263482570648193,
          null
         ],
         "z": [
          26.873645782470703,
          26.565710067749023,
          null
         ]
        },
        {
         "hoverinfo": "none",
         "line": {
          "color": "white",
          "width": 1
         },
         "mode": "lines",
         "showlegend": false,
         "type": "scatter3d",
         "x": [
          13.143538475036621,
          12.663263320922852,
          null
         ],
         "y": [
          2.7836971282958984,
          2.6263482570648193,
          null
         ],
         "z": [
          26.79020881652832,
          26.565710067749023,
          null
         ]
        },
        {
         "hoverinfo": "none",
         "line": {
          "color": "white",
          "width": 1
         },
         "mode": "lines",
         "showlegend": false,
         "type": "scatter3d",
         "x": [
          13.720823287963867,
          13.823026657104492,
          null
         ],
         "y": [
          2.4799160957336426,
          2.5596189498901367,
          null
         ],
         "z": [
          26.383668899536133,
          26.93404197692871,
          null
         ]
        },
        {
         "hoverinfo": "none",
         "line": {
          "color": "white",
          "width": 1
         },
         "mode": "lines",
         "showlegend": false,
         "type": "scatter3d",
         "x": [
          15.520991325378418,
          15.412707328796387,
          null
         ],
         "y": [
          3.1968648433685303,
          3.4614861011505127,
          null
         ],
         "z": [
          26.179553985595703,
          26.511104583740234,
          null
         ]
        },
        {
         "hoverinfo": "none",
         "line": {
          "color": "white",
          "width": 1
         },
         "mode": "lines",
         "showlegend": false,
         "type": "scatter3d",
         "x": [
          15.032889366149902,
          14.709282875061035,
          null
         ],
         "y": [
          2.8201053142547607,
          2.467365264892578,
          null
         ],
         "z": [
          26.09606170654297,
          25.823932647705078,
          null
         ]
        },
        {
         "hoverinfo": "none",
         "line": {
          "color": "white",
          "width": 1
         },
         "mode": "lines",
         "showlegend": false,
         "type": "scatter3d",
         "x": [
          15.412707328796387,
          15.000568389892578,
          null
         ],
         "y": [
          3.4614861011505127,
          3.6391336917877197,
          null
         ],
         "z": [
          26.511104583740234,
          26.498859405517578,
          null
         ]
        },
        {
         "hoverinfo": "none",
         "line": {
          "color": "white",
          "width": 1
         },
         "mode": "lines",
         "showlegend": false,
         "type": "scatter3d",
         "x": [
          15.447225570678711,
          15.798046112060547,
          null
         ],
         "y": [
          4.237733364105225,
          4.133271217346191,
          null
         ],
         "z": [
          26.375652313232422,
          26.37876319885254,
          null
         ]
        },
        {
         "hoverinfo": "none",
         "line": {
          "color": "white",
          "width": 1
         },
         "mode": "lines",
         "showlegend": false,
         "type": "scatter3d",
         "x": [
          15.447225570678711,
          15.137975692749023,
          null
         ],
         "y": [
          4.237733364105225,
          4.421077251434326,
          null
         ],
         "z": [
          26.375652313232422,
          26.06161117553711,
          null
         ]
        },
        {
         "hoverinfo": "none",
         "line": {
          "color": "white",
          "width": 1
         },
         "mode": "lines",
         "showlegend": false,
         "type": "scatter3d",
         "x": [
          15.447225570678711,
          15.292060852050781,
          null
         ],
         "y": [
          4.237733364105225,
          4.021561622619629,
          null
         ],
         "z": [
          26.375652313232422,
          26.057388305664062,
          null
         ]
        },
        {
         "hoverinfo": "none",
         "line": {
          "color": "white",
          "width": 1
         },
         "mode": "lines",
         "showlegend": false,
         "type": "scatter3d",
         "x": [
          15.447225570678711,
          15.685861587524414,
          null
         ],
         "y": [
          4.237733364105225,
          4.3434224128723145,
          null
         ],
         "z": [
          26.375652313232422,
          25.953838348388672,
          null
         ]
        },
        {
         "hoverinfo": "none",
         "line": {
          "color": "white",
          "width": 1
         },
         "mode": "lines",
         "showlegend": false,
         "type": "scatter3d",
         "x": [
          12.678258895874023,
          12.290115356445312,
          null
         ],
         "y": [
          2.2918524742126465,
          2.5310516357421875,
          null
         ],
         "z": [
          26.37531089782715,
          26.696672439575195,
          null
         ]
        },
        {
         "hoverinfo": "none",
         "line": {
          "color": "white",
          "width": 1
         },
         "mode": "lines",
         "showlegend": false,
         "type": "scatter3d",
         "x": [
          12.678258895874023,
          12.683355331420898,
          null
         ],
         "y": [
          2.2918524742126465,
          2.2097578048706055,
          null
         ],
         "z": [
          26.37531089782715,
          26.761436462402344,
          null
         ]
        },
        {
         "hoverinfo": "none",
         "line": {
          "color": "white",
          "width": 1
         },
         "mode": "lines",
         "showlegend": false,
         "type": "scatter3d",
         "x": [
          12.678258895874023,
          12.663263320922852,
          null
         ],
         "y": [
          2.2918524742126465,
          2.6263482570648193,
          null
         ],
         "z": [
          26.37531089782715,
          26.565710067749023,
          null
         ]
        },
        {
         "hoverinfo": "none",
         "line": {
          "color": "white",
          "width": 1
         },
         "mode": "lines",
         "showlegend": false,
         "type": "scatter3d",
         "x": [
          13.796621322631836,
          13.970826148986816,
          null
         ],
         "y": [
          3.062056064605713,
          2.509368896484375,
          null
         ],
         "z": [
          25.566347122192383,
          25.50810432434082,
          null
         ]
        },
        {
         "hoverinfo": "none",
         "line": {
          "color": "white",
          "width": 1
         },
         "mode": "lines",
         "showlegend": false,
         "type": "scatter3d",
         "x": [
          13.325052261352539,
          13.495058059692383,
          null
         ],
         "y": [
          3.9445645809173584,
          3.689070224761963,
          null
         ],
         "z": [
          26.09099578857422,
          25.86381721496582,
          null
         ]
        },
        {
         "hoverinfo": "none",
         "line": {
          "color": "white",
          "width": 1
         },
         "mode": "lines",
         "showlegend": false,
         "type": "scatter3d",
         "x": [
          13.325052261352539,
          13.151102066040039,
          null
         ],
         "y": [
          3.9445645809173584,
          3.437163829803467,
          null
         ],
         "z": [
          26.09099578857422,
          25.959421157836914,
          null
         ]
        },
        {
         "hoverinfo": "none",
         "line": {
          "color": "white",
          "width": 1
         },
         "mode": "lines",
         "showlegend": false,
         "type": "scatter3d",
         "x": [
          16.13898277282715,
          15.947989463806152,
          null
         ],
         "y": [
          2.7701735496520996,
          2.73215913772583,
          null
         ],
         "z": [
          25.457178115844727,
          26.01463508605957,
          null
         ]
        },
        {
         "hoverinfo": "none",
         "line": {
          "color": "white",
          "width": 1
         },
         "mode": "lines",
         "showlegend": false,
         "type": "scatter3d",
         "x": [
          13.495058059692383,
          13.151102066040039,
          null
         ],
         "y": [
          3.689070224761963,
          3.437163829803467,
          null
         ],
         "z": [
          25.86381721496582,
          25.959421157836914,
          null
         ]
        },
        {
         "hoverinfo": "none",
         "line": {
          "color": "white",
          "width": 1
         },
         "mode": "lines",
         "showlegend": false,
         "type": "scatter3d",
         "x": [
          12.290115356445312,
          12.037792205810547,
          null
         ],
         "y": [
          2.5310516357421875,
          2.7387123107910156,
          null
         ],
         "z": [
          26.696672439575195,
          26.981489181518555,
          null
         ]
        },
        {
         "hoverinfo": "none",
         "line": {
          "color": "white",
          "width": 1
         },
         "mode": "lines",
         "showlegend": false,
         "type": "scatter3d",
         "x": [
          12.290115356445312,
          12.12544059753418,
          null
         ],
         "y": [
          2.5310516357421875,
          3.015486478805542,
          null
         ],
         "z": [
          26.696672439575195,
          26.769025802612305,
          null
         ]
        },
        {
         "hoverinfo": "none",
         "line": {
          "color": "white",
          "width": 1
         },
         "mode": "lines",
         "showlegend": false,
         "type": "scatter3d",
         "x": [
          12.290115356445312,
          12.683355331420898,
          null
         ],
         "y": [
          2.5310516357421875,
          2.2097578048706055,
          null
         ],
         "z": [
          26.696672439575195,
          26.761436462402344,
          null
         ]
        },
        {
         "hoverinfo": "none",
         "line": {
          "color": "white",
          "width": 1
         },
         "mode": "lines",
         "showlegend": false,
         "type": "scatter3d",
         "x": [
          12.290115356445312,
          12.663263320922852,
          null
         ],
         "y": [
          2.5310516357421875,
          2.6263482570648193,
          null
         ],
         "z": [
          26.696672439575195,
          26.565710067749023,
          null
         ]
        },
        {
         "hoverinfo": "none",
         "line": {
          "color": "white",
          "width": 1
         },
         "mode": "lines",
         "showlegend": false,
         "type": "scatter3d",
         "x": [
          12.037792205810547,
          12.12544059753418,
          null
         ],
         "y": [
          2.7387123107910156,
          3.015486478805542,
          null
         ],
         "z": [
          26.981489181518555,
          26.769025802612305,
          null
         ]
        },
        {
         "hoverinfo": "none",
         "line": {
          "color": "white",
          "width": 1
         },
         "mode": "lines",
         "showlegend": false,
         "type": "scatter3d",
         "x": [
          12.12544059753418,
          12.106332778930664,
          null
         ],
         "y": [
          3.015486478805542,
          3.092977285385132,
          null
         ],
         "z": [
          26.769025802612305,
          26.27896499633789,
          null
         ]
        },
        {
         "hoverinfo": "none",
         "line": {
          "color": "white",
          "width": 1
         },
         "mode": "lines",
         "showlegend": false,
         "type": "scatter3d",
         "x": [
          13.088578224182129,
          12.985790252685547,
          null
         ],
         "y": [
          3.1116368770599365,
          3.240701198577881,
          null
         ],
         "z": [
          25.890640258789062,
          25.482351303100586,
          null
         ]
        },
        {
         "hoverinfo": "none",
         "line": {
          "color": "white",
          "width": 1
         },
         "mode": "lines",
         "showlegend": false,
         "type": "scatter3d",
         "x": [
          13.088578224182129,
          13.151102066040039,
          null
         ],
         "y": [
          3.1116368770599365,
          3.437163829803467,
          null
         ],
         "z": [
          25.890640258789062,
          25.959421157836914,
          null
         ]
        },
        {
         "hoverinfo": "none",
         "line": {
          "color": "white",
          "width": 1
         },
         "mode": "lines",
         "showlegend": false,
         "type": "scatter3d",
         "x": [
          13.088578224182129,
          12.594107627868652,
          null
         ],
         "y": [
          3.1116368770599365,
          3.388542890548706,
          null
         ],
         "z": [
          25.890640258789062,
          26.03948211669922,
          null
         ]
        },
        {
         "hoverinfo": "none",
         "line": {
          "color": "white",
          "width": 1
         },
         "mode": "lines",
         "showlegend": false,
         "type": "scatter3d",
         "x": [
          13.088578224182129,
          12.917497634887695,
          null
         ],
         "y": [
          3.1116368770599365,
          2.717097043991089,
          null
         ],
         "z": [
          25.890640258789062,
          25.526226043701172,
          null
         ]
        },
        {
         "hoverinfo": "none",
         "line": {
          "color": "white",
          "width": 1
         },
         "mode": "lines",
         "showlegend": false,
         "type": "scatter3d",
         "x": [
          15.3019380569458,
          15.10970687866211,
          null
         ],
         "y": [
          3.249851942062378,
          3.4468908309936523,
          null
         ],
         "z": [
          24.627212524414062,
          24.821517944335938,
          null
         ]
        },
        {
         "hoverinfo": "none",
         "line": {
          "color": "white",
          "width": 1
         },
         "mode": "lines",
         "showlegend": false,
         "type": "scatter3d",
         "x": [
          15.3019380569458,
          15.47343921661377,
          null
         ],
         "y": [
          3.249851942062378,
          3.527988910675049,
          null
         ],
         "z": [
          24.627212524414062,
          24.56098747253418,
          null
         ]
        },
        {
         "hoverinfo": "none",
         "line": {
          "color": "white",
          "width": 1
         },
         "mode": "lines",
         "showlegend": false,
         "type": "scatter3d",
         "x": [
          15.3019380569458,
          15.018290519714355,
          null
         ],
         "y": [
          3.249851942062378,
          3.6298110485076904,
          null
         ],
         "z": [
          24.627212524414062,
          24.975488662719727,
          null
         ]
        },
        {
         "hoverinfo": "none",
         "line": {
          "color": "white",
          "width": 1
         },
         "mode": "lines",
         "showlegend": false,
         "type": "scatter3d",
         "x": [
          12.683355331420898,
          12.663263320922852,
          null
         ],
         "y": [
          2.2097578048706055,
          2.6263482570648193,
          null
         ],
         "z": [
          26.761436462402344,
          26.565710067749023,
          null
         ]
        },
        {
         "hoverinfo": "none",
         "line": {
          "color": "white",
          "width": 1
         },
         "mode": "lines",
         "showlegend": false,
         "type": "scatter3d",
         "x": [
          15.798046112060547,
          15.90407657623291,
          null
         ],
         "y": [
          4.133271217346191,
          4.6356282234191895,
          null
         ],
         "z": [
          26.37876319885254,
          26.123125076293945,
          null
         ]
        },
        {
         "hoverinfo": "none",
         "line": {
          "color": "white",
          "width": 1
         },
         "mode": "lines",
         "showlegend": false,
         "type": "scatter3d",
         "x": [
          15.798046112060547,
          15.685861587524414,
          null
         ],
         "y": [
          4.133271217346191,
          4.3434224128723145,
          null
         ],
         "z": [
          26.37876319885254,
          25.953838348388672,
          null
         ]
        },
        {
         "hoverinfo": "none",
         "line": {
          "color": "white",
          "width": 1
         },
         "mode": "lines",
         "showlegend": false,
         "type": "scatter3d",
         "x": [
          15.520845413208008,
          15.803252220153809,
          null
         ],
         "y": [
          4.464594841003418,
          4.116236209869385,
          null
         ],
         "z": [
          25.317459106445312,
          25.249439239501953,
          null
         ]
        },
        {
         "hoverinfo": "none",
         "line": {
          "color": "white",
          "width": 1
         },
         "mode": "lines",
         "showlegend": false,
         "type": "scatter3d",
         "x": [
          15.520845413208008,
          15.361220359802246,
          null
         ],
         "y": [
          4.464594841003418,
          4.468945503234863,
          null
         ],
         "z": [
          25.317459106445312,
          25.324378967285156,
          null
         ]
        },
        {
         "hoverinfo": "none",
         "line": {
          "color": "white",
          "width": 1
         },
         "mode": "lines",
         "showlegend": false,
         "type": "scatter3d",
         "x": [
          15.520845413208008,
          15.680750846862793,
          null
         ],
         "y": [
          4.464594841003418,
          4.494410037994385,
          null
         ],
         "z": [
          25.317459106445312,
          25.682954788208008,
          null
         ]
        },
        {
         "hoverinfo": "none",
         "line": {
          "color": "white",
          "width": 1
         },
         "mode": "lines",
         "showlegend": false,
         "type": "scatter3d",
         "x": [
          15.589012145996094,
          15.803252220153809,
          null
         ],
         "y": [
          3.7654972076416016,
          4.116236209869385,
          null
         ],
         "z": [
          24.92674446105957,
          25.249439239501953,
          null
         ]
        },
        {
         "hoverinfo": "none",
         "line": {
          "color": "white",
          "width": 1
         },
         "mode": "lines",
         "showlegend": false,
         "type": "scatter3d",
         "x": [
          15.589012145996094,
          15.10970687866211,
          null
         ],
         "y": [
          3.7654972076416016,
          3.4468908309936523,
          null
         ],
         "z": [
          24.92674446105957,
          24.821517944335938,
          null
         ]
        },
        {
         "hoverinfo": "none",
         "line": {
          "color": "white",
          "width": 1
         },
         "mode": "lines",
         "showlegend": false,
         "type": "scatter3d",
         "x": [
          15.589012145996094,
          15.589035987854004,
          null
         ],
         "y": [
          3.7654972076416016,
          3.7863810062408447,
          null
         ],
         "z": [
          24.92674446105957,
          25.407686233520508,
          null
         ]
        },
        {
         "hoverinfo": "none",
         "line": {
          "color": "white",
          "width": 1
         },
         "mode": "lines",
         "showlegend": false,
         "type": "scatter3d",
         "x": [
          15.589012145996094,
          15.47343921661377,
          null
         ],
         "y": [
          3.7654972076416016,
          3.527988910675049,
          null
         ],
         "z": [
          24.92674446105957,
          24.56098747253418,
          null
         ]
        },
        {
         "hoverinfo": "none",
         "line": {
          "color": "white",
          "width": 1
         },
         "mode": "lines",
         "showlegend": false,
         "type": "scatter3d",
         "x": [
          15.589012145996094,
          16.017879486083984,
          null
         ],
         "y": [
          3.7654972076416016,
          3.5347118377685547,
          null
         ],
         "z": [
          24.92674446105957,
          24.65528106689453,
          null
         ]
        },
        {
         "hoverinfo": "none",
         "line": {
          "color": "white",
          "width": 1
         },
         "mode": "lines",
         "showlegend": false,
         "type": "scatter3d",
         "x": [
          15.589012145996094,
          15.018290519714355,
          null
         ],
         "y": [
          3.7654972076416016,
          3.6298110485076904,
          null
         ],
         "z": [
          24.92674446105957,
          24.975488662719727,
          null
         ]
        },
        {
         "hoverinfo": "none",
         "line": {
          "color": "white",
          "width": 1
         },
         "mode": "lines",
         "showlegend": false,
         "type": "scatter3d",
         "x": [
          16.113054275512695,
          15.853175163269043,
          null
         ],
         "y": [
          3.3814432621002197,
          3.1459829807281494,
          null
         ],
         "z": [
          24.77926254272461,
          24.929733276367188,
          null
         ]
        },
        {
         "hoverinfo": "none",
         "line": {
          "color": "white",
          "width": 1
         },
         "mode": "lines",
         "showlegend": false,
         "type": "scatter3d",
         "x": [
          16.113054275512695,
          16.172090530395508,
          null
         ],
         "y": [
          3.3814432621002197,
          3.8445358276367188,
          null
         ],
         "z": [
          24.77926254272461,
          25.04435920715332,
          null
         ]
        },
        {
         "hoverinfo": "none",
         "line": {
          "color": "white",
          "width": 1
         },
         "mode": "lines",
         "showlegend": false,
         "type": "scatter3d",
         "x": [
          16.113054275512695,
          16.114877700805664,
          null
         ],
         "y": [
          3.3814432621002197,
          3.7586185932159424,
          null
         ],
         "z": [
          24.77926254272461,
          24.61121368408203,
          null
         ]
        },
        {
         "hoverinfo": "none",
         "line": {
          "color": "white",
          "width": 1
         },
         "mode": "lines",
         "showlegend": false,
         "type": "scatter3d",
         "x": [
          16.113054275512695,
          16.057140350341797,
          null
         ],
         "y": [
          3.3814432621002197,
          3.5488908290863037,
          null
         ],
         "z": [
          24.77926254272461,
          25.326587677001953,
          null
         ]
        },
        {
         "hoverinfo": "none",
         "line": {
          "color": "white",
          "width": 1
         },
         "mode": "lines",
         "showlegend": false,
         "type": "scatter3d",
         "x": [
          16.113054275512695,
          16.017879486083984,
          null
         ],
         "y": [
          3.3814432621002197,
          3.5347118377685547,
          null
         ],
         "z": [
          24.77926254272461,
          24.65528106689453,
          null
         ]
        },
        {
         "hoverinfo": "none",
         "line": {
          "color": "white",
          "width": 1
         },
         "mode": "lines",
         "showlegend": false,
         "type": "scatter3d",
         "x": [
          15.803252220153809,
          15.955046653747559,
          null
         ],
         "y": [
          4.116236209869385,
          4.301332473754883,
          null
         ],
         "z": [
          25.249439239501953,
          25.700136184692383,
          null
         ]
        },
        {
         "hoverinfo": "none",
         "line": {
          "color": "white",
          "width": 1
         },
         "mode": "lines",
         "showlegend": false,
         "type": "scatter3d",
         "x": [
          15.803252220153809,
          16.172090530395508,
          null
         ],
         "y": [
          4.116236209869385,
          3.8445358276367188,
          null
         ],
         "z": [
          25.249439239501953,
          25.04435920715332,
          null
         ]
        },
        {
         "hoverinfo": "none",
         "line": {
          "color": "white",
          "width": 1
         },
         "mode": "lines",
         "showlegend": false,
         "type": "scatter3d",
         "x": [
          15.803252220153809,
          15.589035987854004,
          null
         ],
         "y": [
          4.116236209869385,
          3.7863810062408447,
          null
         ],
         "z": [
          25.249439239501953,
          25.407686233520508,
          null
         ]
        },
        {
         "hoverinfo": "none",
         "line": {
          "color": "white",
          "width": 1
         },
         "mode": "lines",
         "showlegend": false,
         "type": "scatter3d",
         "x": [
          15.803252220153809,
          15.361220359802246,
          null
         ],
         "y": [
          4.116236209869385,
          4.468945503234863,
          null
         ],
         "z": [
          25.249439239501953,
          25.324378967285156,
          null
         ]
        },
        {
         "hoverinfo": "none",
         "line": {
          "color": "white",
          "width": 1
         },
         "mode": "lines",
         "showlegend": false,
         "type": "scatter3d",
         "x": [
          15.803252220153809,
          15.680750846862793,
          null
         ],
         "y": [
          4.116236209869385,
          4.494410037994385,
          null
         ],
         "z": [
          25.249439239501953,
          25.682954788208008,
          null
         ]
        },
        {
         "hoverinfo": "none",
         "line": {
          "color": "white",
          "width": 1
         },
         "mode": "lines",
         "showlegend": false,
         "type": "scatter3d",
         "x": [
          15.803252220153809,
          16.024120330810547,
          null
         ],
         "y": [
          4.116236209869385,
          4.050853729248047,
          null
         ],
         "z": [
          25.249439239501953,
          25.571704864501953,
          null
         ]
        },
        {
         "hoverinfo": "none",
         "line": {
          "color": "white",
          "width": 1
         },
         "mode": "lines",
         "showlegend": false,
         "type": "scatter3d",
         "x": [
          15.955046653747559,
          15.680750846862793,
          null
         ],
         "y": [
          4.301332473754883,
          4.494410037994385,
          null
         ],
         "z": [
          25.700136184692383,
          25.682954788208008,
          null
         ]
        },
        {
         "hoverinfo": "none",
         "line": {
          "color": "white",
          "width": 1
         },
         "mode": "lines",
         "showlegend": false,
         "type": "scatter3d",
         "x": [
          15.955046653747559,
          16.024120330810547,
          null
         ],
         "y": [
          4.301332473754883,
          4.050853729248047,
          null
         ],
         "z": [
          25.700136184692383,
          25.571704864501953,
          null
         ]
        },
        {
         "hoverinfo": "none",
         "line": {
          "color": "white",
          "width": 1
         },
         "mode": "lines",
         "showlegend": false,
         "type": "scatter3d",
         "x": [
          15.955046653747559,
          15.90407657623291,
          null
         ],
         "y": [
          4.301332473754883,
          4.6356282234191895,
          null
         ],
         "z": [
          25.700136184692383,
          26.123125076293945,
          null
         ]
        },
        {
         "hoverinfo": "none",
         "line": {
          "color": "white",
          "width": 1
         },
         "mode": "lines",
         "showlegend": false,
         "type": "scatter3d",
         "x": [
          15.955046653747559,
          15.685861587524414,
          null
         ],
         "y": [
          4.301332473754883,
          4.3434224128723145,
          null
         ],
         "z": [
          25.700136184692383,
          25.953838348388672,
          null
         ]
        },
        {
         "hoverinfo": "none",
         "line": {
          "color": "white",
          "width": 1
         },
         "mode": "lines",
         "showlegend": false,
         "type": "scatter3d",
         "x": [
          15.853175163269043,
          16.017879486083984,
          null
         ],
         "y": [
          3.1459829807281494,
          3.5347118377685547,
          null
         ],
         "z": [
          24.929733276367188,
          24.65528106689453,
          null
         ]
        },
        {
         "hoverinfo": "none",
         "line": {
          "color": "white",
          "width": 1
         },
         "mode": "lines",
         "showlegend": false,
         "type": "scatter3d",
         "x": [
          15.036585807800293,
          15.589035987854004,
          null
         ],
         "y": [
          3.821197271347046,
          3.7863810062408447,
          null
         ],
         "z": [
          25.49928092956543,
          25.407686233520508,
          null
         ]
        },
        {
         "hoverinfo": "none",
         "line": {
          "color": "white",
          "width": 1
         },
         "mode": "lines",
         "showlegend": false,
         "type": "scatter3d",
         "x": [
          15.036585807800293,
          15.018290519714355,
          null
         ],
         "y": [
          3.821197271347046,
          3.6298110485076904,
          null
         ],
         "z": [
          25.49928092956543,
          24.975488662719727,
          null
         ]
        },
        {
         "hoverinfo": "none",
         "line": {
          "color": "white",
          "width": 1
         },
         "mode": "lines",
         "showlegend": false,
         "type": "scatter3d",
         "x": [
          15.10970687866211,
          15.47343921661377,
          null
         ],
         "y": [
          3.4468908309936523,
          3.527988910675049,
          null
         ],
         "z": [
          24.821517944335938,
          24.56098747253418,
          null
         ]
        },
        {
         "hoverinfo": "none",
         "line": {
          "color": "white",
          "width": 1
         },
         "mode": "lines",
         "showlegend": false,
         "type": "scatter3d",
         "x": [
          15.10970687866211,
          15.018290519714355,
          null
         ],
         "y": [
          3.4468908309936523,
          3.6298110485076904,
          null
         ],
         "z": [
          24.821517944335938,
          24.975488662719727,
          null
         ]
        },
        {
         "hoverinfo": "none",
         "line": {
          "color": "white",
          "width": 1
         },
         "mode": "lines",
         "showlegend": false,
         "type": "scatter3d",
         "x": [
          16.172090530395508,
          16.114877700805664,
          null
         ],
         "y": [
          3.8445358276367188,
          3.7586185932159424,
          null
         ],
         "z": [
          25.04435920715332,
          24.61121368408203,
          null
         ]
        },
        {
         "hoverinfo": "none",
         "line": {
          "color": "white",
          "width": 1
         },
         "mode": "lines",
         "showlegend": false,
         "type": "scatter3d",
         "x": [
          16.172090530395508,
          16.024120330810547,
          null
         ],
         "y": [
          3.8445358276367188,
          4.050853729248047,
          null
         ],
         "z": [
          25.04435920715332,
          25.571704864501953,
          null
         ]
        },
        {
         "hoverinfo": "none",
         "line": {
          "color": "white",
          "width": 1
         },
         "mode": "lines",
         "showlegend": false,
         "type": "scatter3d",
         "x": [
          16.172090530395508,
          16.057140350341797,
          null
         ],
         "y": [
          3.8445358276367188,
          3.5488908290863037,
          null
         ],
         "z": [
          25.04435920715332,
          25.326587677001953,
          null
         ]
        },
        {
         "hoverinfo": "none",
         "line": {
          "color": "white",
          "width": 1
         },
         "mode": "lines",
         "showlegend": false,
         "type": "scatter3d",
         "x": [
          16.172090530395508,
          16.017879486083984,
          null
         ],
         "y": [
          3.8445358276367188,
          3.5347118377685547,
          null
         ],
         "z": [
          25.04435920715332,
          24.65528106689453,
          null
         ]
        },
        {
         "hoverinfo": "none",
         "line": {
          "color": "white",
          "width": 1
         },
         "mode": "lines",
         "showlegend": false,
         "type": "scatter3d",
         "x": [
          15.589035987854004,
          16.024120330810547,
          null
         ],
         "y": [
          3.7863810062408447,
          4.050853729248047,
          null
         ],
         "z": [
          25.407686233520508,
          25.571704864501953,
          null
         ]
        },
        {
         "hoverinfo": "none",
         "line": {
          "color": "white",
          "width": 1
         },
         "mode": "lines",
         "showlegend": false,
         "type": "scatter3d",
         "x": [
          15.589035987854004,
          16.057140350341797,
          null
         ],
         "y": [
          3.7863810062408447,
          3.5488908290863037,
          null
         ],
         "z": [
          25.407686233520508,
          25.326587677001953,
          null
         ]
        },
        {
         "hoverinfo": "none",
         "line": {
          "color": "white",
          "width": 1
         },
         "mode": "lines",
         "showlegend": false,
         "type": "scatter3d",
         "x": [
          15.361220359802246,
          15.680750846862793,
          null
         ],
         "y": [
          4.468945503234863,
          4.494410037994385,
          null
         ],
         "z": [
          25.324378967285156,
          25.682954788208008,
          null
         ]
        },
        {
         "hoverinfo": "none",
         "line": {
          "color": "white",
          "width": 1
         },
         "mode": "lines",
         "showlegend": false,
         "type": "scatter3d",
         "x": [
          15.361220359802246,
          15.406187057495117,
          null
         ],
         "y": [
          4.468945503234863,
          4.649080276489258,
          null
         ],
         "z": [
          25.324378967285156,
          25.892412185668945,
          null
         ]
        },
        {
         "hoverinfo": "none",
         "line": {
          "color": "white",
          "width": 1
         },
         "mode": "lines",
         "showlegend": false,
         "type": "scatter3d",
         "x": [
          15.680750846862793,
          16.024120330810547,
          null
         ],
         "y": [
          4.494410037994385,
          4.050853729248047,
          null
         ],
         "z": [
          25.682954788208008,
          25.571704864501953,
          null
         ]
        },
        {
         "hoverinfo": "none",
         "line": {
          "color": "white",
          "width": 1
         },
         "mode": "lines",
         "showlegend": false,
         "type": "scatter3d",
         "x": [
          15.680750846862793,
          15.406187057495117,
          null
         ],
         "y": [
          4.494410037994385,
          4.649080276489258,
          null
         ],
         "z": [
          25.682954788208008,
          25.892412185668945,
          null
         ]
        },
        {
         "hoverinfo": "none",
         "line": {
          "color": "white",
          "width": 1
         },
         "mode": "lines",
         "showlegend": false,
         "type": "scatter3d",
         "x": [
          15.680750846862793,
          15.90407657623291,
          null
         ],
         "y": [
          4.494410037994385,
          4.6356282234191895,
          null
         ],
         "z": [
          25.682954788208008,
          26.123125076293945,
          null
         ]
        },
        {
         "hoverinfo": "none",
         "line": {
          "color": "white",
          "width": 1
         },
         "mode": "lines",
         "showlegend": false,
         "type": "scatter3d",
         "x": [
          15.680750846862793,
          15.685861587524414,
          null
         ],
         "y": [
          4.494410037994385,
          4.3434224128723145,
          null
         ],
         "z": [
          25.682954788208008,
          25.953838348388672,
          null
         ]
        },
        {
         "hoverinfo": "none",
         "line": {
          "color": "white",
          "width": 1
         },
         "mode": "lines",
         "showlegend": false,
         "type": "scatter3d",
         "x": [
          15.47343921661377,
          16.017879486083984,
          null
         ],
         "y": [
          3.527988910675049,
          3.5347118377685547,
          null
         ],
         "z": [
          24.56098747253418,
          24.65528106689453,
          null
         ]
        },
        {
         "hoverinfo": "none",
         "line": {
          "color": "white",
          "width": 1
         },
         "mode": "lines",
         "showlegend": false,
         "type": "scatter3d",
         "x": [
          16.114877700805664,
          16.017879486083984,
          null
         ],
         "y": [
          3.7586185932159424,
          3.5347118377685547,
          null
         ],
         "z": [
          24.61121368408203,
          24.65528106689453,
          null
         ]
        },
        {
         "hoverinfo": "none",
         "line": {
          "color": "white",
          "width": 1
         },
         "mode": "lines",
         "showlegend": false,
         "type": "scatter3d",
         "x": [
          15.137975692749023,
          15.292060852050781,
          null
         ],
         "y": [
          4.421077251434326,
          4.021561622619629,
          null
         ],
         "z": [
          26.06161117553711,
          26.057388305664062,
          null
         ]
        },
        {
         "hoverinfo": "none",
         "line": {
          "color": "white",
          "width": 1
         },
         "mode": "lines",
         "showlegend": false,
         "type": "scatter3d",
         "x": [
          15.137975692749023,
          15.406187057495117,
          null
         ],
         "y": [
          4.421077251434326,
          4.649080276489258,
          null
         ],
         "z": [
          26.06161117553711,
          25.892412185668945,
          null
         ]
        },
        {
         "hoverinfo": "none",
         "line": {
          "color": "white",
          "width": 1
         },
         "mode": "lines",
         "showlegend": false,
         "type": "scatter3d",
         "x": [
          15.137975692749023,
          15.685861587524414,
          null
         ],
         "y": [
          4.421077251434326,
          4.3434224128723145,
          null
         ],
         "z": [
          26.06161117553711,
          25.953838348388672,
          null
         ]
        },
        {
         "hoverinfo": "none",
         "line": {
          "color": "white",
          "width": 1
         },
         "mode": "lines",
         "showlegend": false,
         "type": "scatter3d",
         "x": [
          15.137975692749023,
          14.66457462310791,
          null
         ],
         "y": [
          4.421077251434326,
          4.199955940246582,
          null
         ],
         "z": [
          26.06161117553711,
          26.152273178100586,
          null
         ]
        },
        {
         "hoverinfo": "none",
         "line": {
          "color": "white",
          "width": 1
         },
         "mode": "lines",
         "showlegend": false,
         "type": "scatter3d",
         "x": [
          16.024120330810547,
          16.057140350341797,
          null
         ],
         "y": [
          4.050853729248047,
          3.5488908290863037,
          null
         ],
         "z": [
          25.571704864501953,
          25.326587677001953,
          null
         ]
        },
        {
         "hoverinfo": "none",
         "line": {
          "color": "white",
          "width": 1
         },
         "mode": "lines",
         "showlegend": false,
         "type": "scatter3d",
         "x": [
          16.024120330810547,
          15.685861587524414,
          null
         ],
         "y": [
          4.050853729248047,
          4.3434224128723145,
          null
         ],
         "z": [
          25.571704864501953,
          25.953838348388672,
          null
         ]
        },
        {
         "hoverinfo": "none",
         "line": {
          "color": "white",
          "width": 1
         },
         "mode": "lines",
         "showlegend": false,
         "type": "scatter3d",
         "x": [
          15.292060852050781,
          15.685861587524414,
          null
         ],
         "y": [
          4.021561622619629,
          4.3434224128723145,
          null
         ],
         "z": [
          26.057388305664062,
          25.953838348388672,
          null
         ]
        },
        {
         "hoverinfo": "none",
         "line": {
          "color": "white",
          "width": 1
         },
         "mode": "lines",
         "showlegend": false,
         "type": "scatter3d",
         "x": [
          15.406187057495117,
          15.90407657623291,
          null
         ],
         "y": [
          4.649080276489258,
          4.6356282234191895,
          null
         ],
         "z": [
          25.892412185668945,
          26.123125076293945,
          null
         ]
        },
        {
         "hoverinfo": "none",
         "line": {
          "color": "white",
          "width": 1
         },
         "mode": "lines",
         "showlegend": false,
         "type": "scatter3d",
         "x": [
          15.406187057495117,
          15.685861587524414,
          null
         ],
         "y": [
          4.649080276489258,
          4.3434224128723145,
          null
         ],
         "z": [
          25.892412185668945,
          25.953838348388672,
          null
         ]
        },
        {
         "hoverinfo": "none",
         "line": {
          "color": "white",
          "width": 1
         },
         "mode": "lines",
         "showlegend": false,
         "type": "scatter3d",
         "x": [
          15.90407657623291,
          15.685861587524414,
          null
         ],
         "y": [
          4.6356282234191895,
          4.3434224128723145,
          null
         ],
         "z": [
          26.123125076293945,
          25.953838348388672,
          null
         ]
        },
        {
         "hoverinfo": "none",
         "line": {
          "color": "white",
          "width": 1
         },
         "mode": "lines",
         "showlegend": false,
         "type": "scatter3d",
         "x": [
          12.985790252685547,
          13.151102066040039,
          null
         ],
         "y": [
          3.240701198577881,
          3.437163829803467,
          null
         ],
         "z": [
          25.482351303100586,
          25.959421157836914,
          null
         ]
        },
        {
         "hoverinfo": "none",
         "line": {
          "color": "white",
          "width": 1
         },
         "mode": "lines",
         "showlegend": false,
         "type": "scatter3d",
         "x": [
          12.985790252685547,
          12.917497634887695,
          null
         ],
         "y": [
          3.240701198577881,
          2.717097043991089,
          null
         ],
         "z": [
          25.482351303100586,
          25.526226043701172,
          null
         ]
        },
        {
         "hoverinfo": "none",
         "line": {
          "color": "white",
          "width": 1
         },
         "mode": "lines",
         "showlegend": false,
         "type": "scatter3d",
         "x": [
          13.151102066040039,
          12.594107627868652,
          null
         ],
         "y": [
          3.437163829803467,
          3.388542890548706,
          null
         ],
         "z": [
          25.959421157836914,
          26.03948211669922,
          null
         ]
        },
        {
         "hoverinfo": "none",
         "line": {
          "color": "white",
          "width": 1
         },
         "mode": "lines",
         "showlegend": false,
         "type": "scatter3d",
         "x": [
          13.934502601623535,
          13.970826148986816,
          null
         ],
         "y": [
          2.64432954788208,
          2.509368896484375,
          null
         ],
         "z": [
          25.027257919311523,
          25.50810432434082,
          null
         ]
        }
       ],
       "layout": {
        "scene": {
         "xaxis": {
          "title": {
           "text": "UMAP1"
          }
         },
         "yaxis": {
          "title": {
           "text": "UMAP2"
          }
         },
         "zaxis": {
          "title": {
           "text": "UMAP3"
          }
         }
        },
        "template": {
         "data": {
          "bar": [
           {
            "error_x": {
             "color": "#f2f5fa"
            },
            "error_y": {
             "color": "#f2f5fa"
            },
            "marker": {
             "line": {
              "color": "rgb(17,17,17)",
              "width": 0.5
             },
             "pattern": {
              "fillmode": "overlay",
              "size": 10,
              "solidity": 0.2
             }
            },
            "type": "bar"
           }
          ],
          "barpolar": [
           {
            "marker": {
             "line": {
              "color": "rgb(17,17,17)",
              "width": 0.5
             },
             "pattern": {
              "fillmode": "overlay",
              "size": 10,
              "solidity": 0.2
             }
            },
            "type": "barpolar"
           }
          ],
          "carpet": [
           {
            "aaxis": {
             "endlinecolor": "#A2B1C6",
             "gridcolor": "#506784",
             "linecolor": "#506784",
             "minorgridcolor": "#506784",
             "startlinecolor": "#A2B1C6"
            },
            "baxis": {
             "endlinecolor": "#A2B1C6",
             "gridcolor": "#506784",
             "linecolor": "#506784",
             "minorgridcolor": "#506784",
             "startlinecolor": "#A2B1C6"
            },
            "type": "carpet"
           }
          ],
          "choropleth": [
           {
            "colorbar": {
             "outlinewidth": 0,
             "ticks": ""
            },
            "type": "choropleth"
           }
          ],
          "contour": [
           {
            "colorbar": {
             "outlinewidth": 0,
             "ticks": ""
            },
            "colorscale": [
             [
              0,
              "#0d0887"
             ],
             [
              0.1111111111111111,
              "#46039f"
             ],
             [
              0.2222222222222222,
              "#7201a8"
             ],
             [
              0.3333333333333333,
              "#9c179e"
             ],
             [
              0.4444444444444444,
              "#bd3786"
             ],
             [
              0.5555555555555556,
              "#d8576b"
             ],
             [
              0.6666666666666666,
              "#ed7953"
             ],
             [
              0.7777777777777778,
              "#fb9f3a"
             ],
             [
              0.8888888888888888,
              "#fdca26"
             ],
             [
              1,
              "#f0f921"
             ]
            ],
            "type": "contour"
           }
          ],
          "contourcarpet": [
           {
            "colorbar": {
             "outlinewidth": 0,
             "ticks": ""
            },
            "type": "contourcarpet"
           }
          ],
          "heatmap": [
           {
            "colorbar": {
             "outlinewidth": 0,
             "ticks": ""
            },
            "colorscale": [
             [
              0,
              "#0d0887"
             ],
             [
              0.1111111111111111,
              "#46039f"
             ],
             [
              0.2222222222222222,
              "#7201a8"
             ],
             [
              0.3333333333333333,
              "#9c179e"
             ],
             [
              0.4444444444444444,
              "#bd3786"
             ],
             [
              0.5555555555555556,
              "#d8576b"
             ],
             [
              0.6666666666666666,
              "#ed7953"
             ],
             [
              0.7777777777777778,
              "#fb9f3a"
             ],
             [
              0.8888888888888888,
              "#fdca26"
             ],
             [
              1,
              "#f0f921"
             ]
            ],
            "type": "heatmap"
           }
          ],
          "histogram": [
           {
            "marker": {
             "pattern": {
              "fillmode": "overlay",
              "size": 10,
              "solidity": 0.2
             }
            },
            "type": "histogram"
           }
          ],
          "histogram2d": [
           {
            "colorbar": {
             "outlinewidth": 0,
             "ticks": ""
            },
            "colorscale": [
             [
              0,
              "#0d0887"
             ],
             [
              0.1111111111111111,
              "#46039f"
             ],
             [
              0.2222222222222222,
              "#7201a8"
             ],
             [
              0.3333333333333333,
              "#9c179e"
             ],
             [
              0.4444444444444444,
              "#bd3786"
             ],
             [
              0.5555555555555556,
              "#d8576b"
             ],
             [
              0.6666666666666666,
              "#ed7953"
             ],
             [
              0.7777777777777778,
              "#fb9f3a"
             ],
             [
              0.8888888888888888,
              "#fdca26"
             ],
             [
              1,
              "#f0f921"
             ]
            ],
            "type": "histogram2d"
           }
          ],
          "histogram2dcontour": [
           {
            "colorbar": {
             "outlinewidth": 0,
             "ticks": ""
            },
            "colorscale": [
             [
              0,
              "#0d0887"
             ],
             [
              0.1111111111111111,
              "#46039f"
             ],
             [
              0.2222222222222222,
              "#7201a8"
             ],
             [
              0.3333333333333333,
              "#9c179e"
             ],
             [
              0.4444444444444444,
              "#bd3786"
             ],
             [
              0.5555555555555556,
              "#d8576b"
             ],
             [
              0.6666666666666666,
              "#ed7953"
             ],
             [
              0.7777777777777778,
              "#fb9f3a"
             ],
             [
              0.8888888888888888,
              "#fdca26"
             ],
             [
              1,
              "#f0f921"
             ]
            ],
            "type": "histogram2dcontour"
           }
          ],
          "mesh3d": [
           {
            "colorbar": {
             "outlinewidth": 0,
             "ticks": ""
            },
            "type": "mesh3d"
           }
          ],
          "parcoords": [
           {
            "line": {
             "colorbar": {
              "outlinewidth": 0,
              "ticks": ""
             }
            },
            "type": "parcoords"
           }
          ],
          "pie": [
           {
            "automargin": true,
            "type": "pie"
           }
          ],
          "scatter": [
           {
            "marker": {
             "line": {
              "color": "#283442"
             }
            },
            "type": "scatter"
           }
          ],
          "scatter3d": [
           {
            "line": {
             "colorbar": {
              "outlinewidth": 0,
              "ticks": ""
             }
            },
            "marker": {
             "colorbar": {
              "outlinewidth": 0,
              "ticks": ""
             }
            },
            "type": "scatter3d"
           }
          ],
          "scattercarpet": [
           {
            "marker": {
             "colorbar": {
              "outlinewidth": 0,
              "ticks": ""
             }
            },
            "type": "scattercarpet"
           }
          ],
          "scattergeo": [
           {
            "marker": {
             "colorbar": {
              "outlinewidth": 0,
              "ticks": ""
             }
            },
            "type": "scattergeo"
           }
          ],
          "scattergl": [
           {
            "marker": {
             "line": {
              "color": "#283442"
             }
            },
            "type": "scattergl"
           }
          ],
          "scattermap": [
           {
            "marker": {
             "colorbar": {
              "outlinewidth": 0,
              "ticks": ""
             }
            },
            "type": "scattermap"
           }
          ],
          "scattermapbox": [
           {
            "marker": {
             "colorbar": {
              "outlinewidth": 0,
              "ticks": ""
             }
            },
            "type": "scattermapbox"
           }
          ],
          "scatterpolar": [
           {
            "marker": {
             "colorbar": {
              "outlinewidth": 0,
              "ticks": ""
             }
            },
            "type": "scatterpolar"
           }
          ],
          "scatterpolargl": [
           {
            "marker": {
             "colorbar": {
              "outlinewidth": 0,
              "ticks": ""
             }
            },
            "type": "scatterpolargl"
           }
          ],
          "scatterternary": [
           {
            "marker": {
             "colorbar": {
              "outlinewidth": 0,
              "ticks": ""
             }
            },
            "type": "scatterternary"
           }
          ],
          "surface": [
           {
            "colorbar": {
             "outlinewidth": 0,
             "ticks": ""
            },
            "colorscale": [
             [
              0,
              "#0d0887"
             ],
             [
              0.1111111111111111,
              "#46039f"
             ],
             [
              0.2222222222222222,
              "#7201a8"
             ],
             [
              0.3333333333333333,
              "#9c179e"
             ],
             [
              0.4444444444444444,
              "#bd3786"
             ],
             [
              0.5555555555555556,
              "#d8576b"
             ],
             [
              0.6666666666666666,
              "#ed7953"
             ],
             [
              0.7777777777777778,
              "#fb9f3a"
             ],
             [
              0.8888888888888888,
              "#fdca26"
             ],
             [
              1,
              "#f0f921"
             ]
            ],
            "type": "surface"
           }
          ],
          "table": [
           {
            "cells": {
             "fill": {
              "color": "#506784"
             },
             "line": {
              "color": "rgb(17,17,17)"
             }
            },
            "header": {
             "fill": {
              "color": "#2a3f5f"
             },
             "line": {
              "color": "rgb(17,17,17)"
             }
            },
            "type": "table"
           }
          ]
         },
         "layout": {
          "annotationdefaults": {
           "arrowcolor": "#f2f5fa",
           "arrowhead": 0,
           "arrowwidth": 1
          },
          "autotypenumbers": "strict",
          "coloraxis": {
           "colorbar": {
            "outlinewidth": 0,
            "ticks": ""
           }
          },
          "colorscale": {
           "diverging": [
            [
             0,
             "#8e0152"
            ],
            [
             0.1,
             "#c51b7d"
            ],
            [
             0.2,
             "#de77ae"
            ],
            [
             0.3,
             "#f1b6da"
            ],
            [
             0.4,
             "#fde0ef"
            ],
            [
             0.5,
             "#f7f7f7"
            ],
            [
             0.6,
             "#e6f5d0"
            ],
            [
             0.7,
             "#b8e186"
            ],
            [
             0.8,
             "#7fbc41"
            ],
            [
             0.9,
             "#4d9221"
            ],
            [
             1,
             "#276419"
            ]
           ],
           "sequential": [
            [
             0,
             "#0d0887"
            ],
            [
             0.1111111111111111,
             "#46039f"
            ],
            [
             0.2222222222222222,
             "#7201a8"
            ],
            [
             0.3333333333333333,
             "#9c179e"
            ],
            [
             0.4444444444444444,
             "#bd3786"
            ],
            [
             0.5555555555555556,
             "#d8576b"
            ],
            [
             0.6666666666666666,
             "#ed7953"
            ],
            [
             0.7777777777777778,
             "#fb9f3a"
            ],
            [
             0.8888888888888888,
             "#fdca26"
            ],
            [
             1,
             "#f0f921"
            ]
           ],
           "sequentialminus": [
            [
             0,
             "#0d0887"
            ],
            [
             0.1111111111111111,
             "#46039f"
            ],
            [
             0.2222222222222222,
             "#7201a8"
            ],
            [
             0.3333333333333333,
             "#9c179e"
            ],
            [
             0.4444444444444444,
             "#bd3786"
            ],
            [
             0.5555555555555556,
             "#d8576b"
            ],
            [
             0.6666666666666666,
             "#ed7953"
            ],
            [
             0.7777777777777778,
             "#fb9f3a"
            ],
            [
             0.8888888888888888,
             "#fdca26"
            ],
            [
             1,
             "#f0f921"
            ]
           ]
          },
          "colorway": [
           "#636efa",
           "#EF553B",
           "#00cc96",
           "#ab63fa",
           "#FFA15A",
           "#19d3f3",
           "#FF6692",
           "#B6E880",
           "#FF97FF",
           "#FECB52"
          ],
          "font": {
           "color": "#f2f5fa"
          },
          "geo": {
           "bgcolor": "rgb(17,17,17)",
           "lakecolor": "rgb(17,17,17)",
           "landcolor": "rgb(17,17,17)",
           "showlakes": true,
           "showland": true,
           "subunitcolor": "#506784"
          },
          "hoverlabel": {
           "align": "left"
          },
          "hovermode": "closest",
          "mapbox": {
           "style": "dark"
          },
          "paper_bgcolor": "rgb(17,17,17)",
          "plot_bgcolor": "rgb(17,17,17)",
          "polar": {
           "angularaxis": {
            "gridcolor": "#506784",
            "linecolor": "#506784",
            "ticks": ""
           },
           "bgcolor": "rgb(17,17,17)",
           "radialaxis": {
            "gridcolor": "#506784",
            "linecolor": "#506784",
            "ticks": ""
           }
          },
          "scene": {
           "xaxis": {
            "backgroundcolor": "rgb(17,17,17)",
            "gridcolor": "#506784",
            "gridwidth": 2,
            "linecolor": "#506784",
            "showbackground": true,
            "ticks": "",
            "zerolinecolor": "#C8D4E3"
           },
           "yaxis": {
            "backgroundcolor": "rgb(17,17,17)",
            "gridcolor": "#506784",
            "gridwidth": 2,
            "linecolor": "#506784",
            "showbackground": true,
            "ticks": "",
            "zerolinecolor": "#C8D4E3"
           },
           "zaxis": {
            "backgroundcolor": "rgb(17,17,17)",
            "gridcolor": "#506784",
            "gridwidth": 2,
            "linecolor": "#506784",
            "showbackground": true,
            "ticks": "",
            "zerolinecolor": "#C8D4E3"
           }
          },
          "shapedefaults": {
           "line": {
            "color": "#f2f5fa"
           }
          },
          "sliderdefaults": {
           "bgcolor": "#C8D4E3",
           "bordercolor": "rgb(17,17,17)",
           "borderwidth": 1,
           "tickwidth": 0
          },
          "ternary": {
           "aaxis": {
            "gridcolor": "#506784",
            "linecolor": "#506784",
            "ticks": ""
           },
           "baxis": {
            "gridcolor": "#506784",
            "linecolor": "#506784",
            "ticks": ""
           },
           "bgcolor": "rgb(17,17,17)",
           "caxis": {
            "gridcolor": "#506784",
            "linecolor": "#506784",
            "ticks": ""
           }
          },
          "title": {
           "x": 0.05
          },
          "updatemenudefaults": {
           "bgcolor": "#506784",
           "borderwidth": 0
          },
          "xaxis": {
           "automargin": true,
           "gridcolor": "#283442",
           "linecolor": "#506784",
           "ticks": "",
           "title": {
            "standoff": 15
           },
           "zerolinecolor": "#283442",
           "zerolinewidth": 2
          },
          "yaxis": {
           "automargin": true,
           "gridcolor": "#283442",
           "linecolor": "#506784",
           "ticks": "",
           "title": {
            "standoff": 15
           },
           "zerolinecolor": "#283442",
           "zerolinewidth": 2
          }
         }
        },
        "title": {
         "text": "Vietoris-Rips Complex on UMAP Embedding"
        }
       }
      }
     },
     "metadata": {},
     "output_type": "display_data"
    }
   ],
   "source": [
    "import plotly.graph_objects as go\n",
    "\n",
    "def vietoris_rips_3d():\n",
    "    \"\"\"\n",
    "    3D visualization of the Vietoris-Rips complex on the UMAP embedding.\n",
    "    \"\"\"\n",
    "    coords = df_space[['UMAP1', 'UMAP2', 'UMAP3']].values\n",
    "    ids = df_space['ID'].astype(str).tolist()\n",
    "\n",
    "    # Build all 1-simplex edges\n",
    "    edge_traces = []\n",
    "    for simplex, _ in simplex_tree.get_skeleton(1):\n",
    "        if len(simplex) == 2:\n",
    "            i, j = simplex\n",
    "            x0, y0, z0 = coords[i]\n",
    "            x1, y1, z1 = coords[j]\n",
    "            edge_traces.append(go.Scatter3d(\n",
    "                x=[x0, x1, None],\n",
    "                y=[y0, y1, None],\n",
    "                z=[z0, z1, None],\n",
    "                mode='lines',\n",
    "                line=dict(color='white', width=1),\n",
    "                hoverinfo='none',\n",
    "                showlegend=False\n",
    "            ))\n",
    "\n",
    "    # Point cloud trace\n",
    "    point_trace = go.Scatter3d(\n",
    "        x=df_space['UMAP1'],\n",
    "        y=df_space['UMAP2'],\n",
    "        z=df_space['UMAP3'],\n",
    "        mode='markers',\n",
    "        marker=dict(\n",
    "            size=4,\n",
    "            color=df_space['Base fee'],\n",
    "            opacity=0.85,\n",
    "            colorscale='amp',\n",
    "            cmin=40,\n",
    "            cmax=120,\n",
    "        ),\n",
    "        text=ids,\n",
    "        name='Points'\n",
    "    )\n",
    "\n",
    "    # Create the figure\n",
    "    fig = go.Figure(data=[point_trace] + edge_traces)\n",
    "    fig.update_layout(\n",
    "        title='Vietoris-Rips Complex on UMAP Embedding',\n",
    "        template='plotly_dark',\n",
    "        scene=dict(\n",
    "            xaxis_title='UMAP1',\n",
    "            yaxis_title='UMAP2',\n",
    "            zaxis_title='UMAP3'\n",
    "        ),\n",
    "    )\n",
    "    return fig\n",
    "\n",
    "vietoris_rips_3d()\n"
   ]
  },
  {
   "cell_type": "code",
   "execution_count": 10,
   "id": "0f9153b0",
   "metadata": {},
   "outputs": [
    {
     "data": {
      "application/vnd.plotly.v1+json": {
       "config": {
        "plotlyServerURL": "https://plot.ly"
       },
       "data": [
        {
         "hoverinfo": "none",
         "line": {
          "color": "gray",
          "width": 1
         },
         "mode": "lines",
         "showlegend": false,
         "type": "scatter",
         "x": [
          16.138208389282227,
          16.068498611450195,
          null
         ],
         "xaxis": "x",
         "y": [
          2.2051148414611816,
          2.369377613067627,
          null
         ],
         "yaxis": "y"
        },
        {
         "hoverinfo": "none",
         "line": {
          "color": "gray",
          "width": 1
         },
         "mode": "lines",
         "showlegend": false,
         "type": "scatter",
         "x": [
          16.138208389282227,
          15.856098175048828,
          null
         ],
         "xaxis": "x",
         "y": [
          2.2051148414611816,
          2.073357105255127,
          null
         ],
         "yaxis": "y"
        },
        {
         "hoverinfo": "none",
         "line": {
          "color": "gray",
          "width": 1
         },
         "mode": "lines",
         "showlegend": false,
         "type": "scatter",
         "x": [
          16.138208389282227,
          15.665180206298828,
          null
         ],
         "xaxis": "x",
         "y": [
          2.2051148414611816,
          1.9649934768676758,
          null
         ],
         "yaxis": "y"
        },
        {
         "hoverinfo": "none",
         "line": {
          "color": "gray",
          "width": 1
         },
         "mode": "lines",
         "showlegend": false,
         "type": "scatter",
         "x": [
          16.138208389282227,
          16.28561782836914,
          null
         ],
         "xaxis": "x",
         "y": [
          2.2051148414611816,
          2.6654276847839355,
          null
         ],
         "yaxis": "y"
        },
        {
         "hoverinfo": "none",
         "line": {
          "color": "gray",
          "width": 1
         },
         "mode": "lines",
         "showlegend": false,
         "type": "scatter",
         "x": [
          16.138208389282227,
          15.868021011352539,
          null
         ],
         "xaxis": "x",
         "y": [
          2.2051148414611816,
          2.4072930812835693,
          null
         ],
         "yaxis": "y"
        },
        {
         "hoverinfo": "none",
         "line": {
          "color": "gray",
          "width": 1
         },
         "mode": "lines",
         "showlegend": false,
         "type": "scatter",
         "x": [
          12.157439231872559,
          12.254372596740723,
          null
         ],
         "xaxis": "x",
         "y": [
          3.0596542358398438,
          2.8816325664520264,
          null
         ],
         "yaxis": "y"
        },
        {
         "hoverinfo": "none",
         "line": {
          "color": "gray",
          "width": 1
         },
         "mode": "lines",
         "showlegend": false,
         "type": "scatter",
         "x": [
          12.157439231872559,
          11.955601692199707,
          null
         ],
         "xaxis": "x",
         "y": [
          3.0596542358398438,
          2.644026517868042,
          null
         ],
         "yaxis": "y"
        },
        {
         "hoverinfo": "none",
         "line": {
          "color": "gray",
          "width": 1
         },
         "mode": "lines",
         "showlegend": false,
         "type": "scatter",
         "x": [
          12.157439231872559,
          12.290115356445312,
          null
         ],
         "xaxis": "x",
         "y": [
          3.0596542358398438,
          2.5310516357421875,
          null
         ],
         "yaxis": "y"
        },
        {
         "hoverinfo": "none",
         "line": {
          "color": "gray",
          "width": 1
         },
         "mode": "lines",
         "showlegend": false,
         "type": "scatter",
         "x": [
          12.157439231872559,
          12.037792205810547,
          null
         ],
         "xaxis": "x",
         "y": [
          3.0596542358398438,
          2.7387123107910156,
          null
         ],
         "yaxis": "y"
        },
        {
         "hoverinfo": "none",
         "line": {
          "color": "gray",
          "width": 1
         },
         "mode": "lines",
         "showlegend": false,
         "type": "scatter",
         "x": [
          12.157439231872559,
          12.12544059753418,
          null
         ],
         "xaxis": "x",
         "y": [
          3.0596542358398438,
          3.015486478805542,
          null
         ],
         "yaxis": "y"
        },
        {
         "hoverinfo": "none",
         "line": {
          "color": "gray",
          "width": 1
         },
         "mode": "lines",
         "showlegend": false,
         "type": "scatter",
         "x": [
          12.157439231872559,
          12.106332778930664,
          null
         ],
         "xaxis": "x",
         "y": [
          3.0596542358398438,
          3.092977285385132,
          null
         ],
         "yaxis": "y"
        },
        {
         "hoverinfo": "none",
         "line": {
          "color": "gray",
          "width": 1
         },
         "mode": "lines",
         "showlegend": false,
         "type": "scatter",
         "x": [
          16.068498611450195,
          15.856098175048828,
          null
         ],
         "xaxis": "x",
         "y": [
          2.369377613067627,
          2.073357105255127,
          null
         ],
         "yaxis": "y"
        },
        {
         "hoverinfo": "none",
         "line": {
          "color": "gray",
          "width": 1
         },
         "mode": "lines",
         "showlegend": false,
         "type": "scatter",
         "x": [
          16.068498611450195,
          16.28561782836914,
          null
         ],
         "xaxis": "x",
         "y": [
          2.369377613067627,
          2.6654276847839355,
          null
         ],
         "yaxis": "y"
        },
        {
         "hoverinfo": "none",
         "line": {
          "color": "gray",
          "width": 1
         },
         "mode": "lines",
         "showlegend": false,
         "type": "scatter",
         "x": [
          16.068498611450195,
          15.868021011352539,
          null
         ],
         "xaxis": "x",
         "y": [
          2.369377613067627,
          2.4072930812835693,
          null
         ],
         "yaxis": "y"
        },
        {
         "hoverinfo": "none",
         "line": {
          "color": "gray",
          "width": 1
         },
         "mode": "lines",
         "showlegend": false,
         "type": "scatter",
         "x": [
          16.068498611450195,
          16.13898277282715,
          null
         ],
         "xaxis": "x",
         "y": [
          2.369377613067627,
          2.7701735496520996,
          null
         ],
         "yaxis": "y"
        },
        {
         "hoverinfo": "none",
         "line": {
          "color": "gray",
          "width": 1
         },
         "mode": "lines",
         "showlegend": false,
         "type": "scatter",
         "x": [
          15.856098175048828,
          15.665180206298828,
          null
         ],
         "xaxis": "x",
         "y": [
          2.073357105255127,
          1.9649934768676758,
          null
         ],
         "yaxis": "y"
        },
        {
         "hoverinfo": "none",
         "line": {
          "color": "gray",
          "width": 1
         },
         "mode": "lines",
         "showlegend": false,
         "type": "scatter",
         "x": [
          15.856098175048828,
          15.868021011352539,
          null
         ],
         "xaxis": "x",
         "y": [
          2.073357105255127,
          2.4072930812835693,
          null
         ],
         "yaxis": "y"
        },
        {
         "hoverinfo": "none",
         "line": {
          "color": "gray",
          "width": 1
         },
         "mode": "lines",
         "showlegend": false,
         "type": "scatter",
         "x": [
          15.607089042663574,
          15.665180206298828,
          null
         ],
         "xaxis": "x",
         "y": [
          2.3330788612365723,
          1.9649934768676758,
          null
         ],
         "yaxis": "y"
        },
        {
         "hoverinfo": "none",
         "line": {
          "color": "gray",
          "width": 1
         },
         "mode": "lines",
         "showlegend": false,
         "type": "scatter",
         "x": [
          15.607089042663574,
          15.868021011352539,
          null
         ],
         "xaxis": "x",
         "y": [
          2.3330788612365723,
          2.4072930812835693,
          null
         ],
         "yaxis": "y"
        },
        {
         "hoverinfo": "none",
         "line": {
          "color": "gray",
          "width": 1
         },
         "mode": "lines",
         "showlegend": false,
         "type": "scatter",
         "x": [
          15.607089042663574,
          15.947989463806152,
          null
         ],
         "xaxis": "x",
         "y": [
          2.3330788612365723,
          2.73215913772583,
          null
         ],
         "yaxis": "y"
        },
        {
         "hoverinfo": "none",
         "line": {
          "color": "gray",
          "width": 1
         },
         "mode": "lines",
         "showlegend": false,
         "type": "scatter",
         "x": [
          13.83619499206543,
          13.720823287963867,
          null
         ],
         "xaxis": "x",
         "y": [
          2.7505178451538086,
          2.4799160957336426,
          null
         ],
         "yaxis": "y"
        },
        {
         "hoverinfo": "none",
         "line": {
          "color": "gray",
          "width": 1
         },
         "mode": "lines",
         "showlegend": false,
         "type": "scatter",
         "x": [
          13.83619499206543,
          13.796621322631836,
          null
         ],
         "xaxis": "x",
         "y": [
          2.7505178451538086,
          3.062056064605713,
          null
         ],
         "yaxis": "y"
        },
        {
         "hoverinfo": "none",
         "line": {
          "color": "gray",
          "width": 1
         },
         "mode": "lines",
         "showlegend": false,
         "type": "scatter",
         "x": [
          13.83619499206543,
          13.893813133239746,
          null
         ],
         "xaxis": "x",
         "y": [
          2.7505178451538086,
          3.190128803253174,
          null
         ],
         "yaxis": "y"
        },
        {
         "hoverinfo": "none",
         "line": {
          "color": "gray",
          "width": 1
         },
         "mode": "lines",
         "showlegend": false,
         "type": "scatter",
         "x": [
          13.83619499206543,
          13.970826148986816,
          null
         ],
         "xaxis": "x",
         "y": [
          2.7505178451538086,
          2.509368896484375,
          null
         ],
         "yaxis": "y"
        },
        {
         "hoverinfo": "none",
         "line": {
          "color": "gray",
          "width": 1
         },
         "mode": "lines",
         "showlegend": false,
         "type": "scatter",
         "x": [
          15.665180206298828,
          15.868021011352539,
          null
         ],
         "xaxis": "x",
         "y": [
          1.9649934768676758,
          2.4072930812835693,
          null
         ],
         "yaxis": "y"
        },
        {
         "hoverinfo": "none",
         "line": {
          "color": "gray",
          "width": 1
         },
         "mode": "lines",
         "showlegend": false,
         "type": "scatter",
         "x": [
          12.88857364654541,
          13.149152755737305,
          null
         ],
         "xaxis": "x",
         "y": [
          2.4653515815734863,
          2.599472999572754,
          null
         ],
         "yaxis": "y"
        },
        {
         "hoverinfo": "none",
         "line": {
          "color": "gray",
          "width": 1
         },
         "mode": "lines",
         "showlegend": false,
         "type": "scatter",
         "x": [
          12.88857364654541,
          12.678258895874023,
          null
         ],
         "xaxis": "x",
         "y": [
          2.4653515815734863,
          2.2918524742126465,
          null
         ],
         "yaxis": "y"
        },
        {
         "hoverinfo": "none",
         "line": {
          "color": "gray",
          "width": 1
         },
         "mode": "lines",
         "showlegend": false,
         "type": "scatter",
         "x": [
          12.88857364654541,
          12.663263320922852,
          null
         ],
         "xaxis": "x",
         "y": [
          2.4653515815734863,
          2.6263482570648193,
          null
         ],
         "yaxis": "y"
        },
        {
         "hoverinfo": "none",
         "line": {
          "color": "gray",
          "width": 1
         },
         "mode": "lines",
         "showlegend": false,
         "type": "scatter",
         "x": [
          16.28561782836914,
          15.868021011352539,
          null
         ],
         "xaxis": "x",
         "y": [
          2.6654276847839355,
          2.4072930812835693,
          null
         ],
         "yaxis": "y"
        },
        {
         "hoverinfo": "none",
         "line": {
          "color": "gray",
          "width": 1
         },
         "mode": "lines",
         "showlegend": false,
         "type": "scatter",
         "x": [
          16.28561782836914,
          16.13898277282715,
          null
         ],
         "xaxis": "x",
         "y": [
          2.6654276847839355,
          2.7701735496520996,
          null
         ],
         "yaxis": "y"
        },
        {
         "hoverinfo": "none",
         "line": {
          "color": "gray",
          "width": 1
         },
         "mode": "lines",
         "showlegend": false,
         "type": "scatter",
         "x": [
          16.28561782836914,
          15.947989463806152,
          null
         ],
         "xaxis": "x",
         "y": [
          2.6654276847839355,
          2.73215913772583,
          null
         ],
         "yaxis": "y"
        },
        {
         "hoverinfo": "none",
         "line": {
          "color": "gray",
          "width": 1
         },
         "mode": "lines",
         "showlegend": false,
         "type": "scatter",
         "x": [
          15.375694274902344,
          15.520991325378418,
          null
         ],
         "xaxis": "x",
         "y": [
          3.102842330932617,
          3.1968648433685303,
          null
         ],
         "yaxis": "y"
        },
        {
         "hoverinfo": "none",
         "line": {
          "color": "gray",
          "width": 1
         },
         "mode": "lines",
         "showlegend": false,
         "type": "scatter",
         "x": [
          14.128923416137695,
          14.379985809326172,
          null
         ],
         "xaxis": "x",
         "y": [
          2.231253147125244,
          2.4932076930999756,
          null
         ],
         "yaxis": "y"
        },
        {
         "hoverinfo": "none",
         "line": {
          "color": "gray",
          "width": 1
         },
         "mode": "lines",
         "showlegend": false,
         "type": "scatter",
         "x": [
          14.128923416137695,
          13.970826148986816,
          null
         ],
         "xaxis": "x",
         "y": [
          2.231253147125244,
          2.509368896484375,
          null
         ],
         "yaxis": "y"
        },
        {
         "hoverinfo": "none",
         "line": {
          "color": "gray",
          "width": 1
         },
         "mode": "lines",
         "showlegend": false,
         "type": "scatter",
         "x": [
          15.868021011352539,
          15.947989463806152,
          null
         ],
         "xaxis": "x",
         "y": [
          2.4072930812835693,
          2.73215913772583,
          null
         ],
         "yaxis": "y"
        },
        {
         "hoverinfo": "none",
         "line": {
          "color": "gray",
          "width": 1
         },
         "mode": "lines",
         "showlegend": false,
         "type": "scatter",
         "x": [
          13.149152755737305,
          13.088578224182129,
          null
         ],
         "xaxis": "x",
         "y": [
          2.599472999572754,
          3.1116368770599365,
          null
         ],
         "yaxis": "y"
        },
        {
         "hoverinfo": "none",
         "line": {
          "color": "gray",
          "width": 1
         },
         "mode": "lines",
         "showlegend": false,
         "type": "scatter",
         "x": [
          13.235340118408203,
          13.151102066040039,
          null
         ],
         "xaxis": "x",
         "y": [
          3.453808307647705,
          3.437163829803467,
          null
         ],
         "yaxis": "y"
        },
        {
         "hoverinfo": "none",
         "line": {
          "color": "gray",
          "width": 1
         },
         "mode": "lines",
         "showlegend": false,
         "type": "scatter",
         "x": [
          13.402872085571289,
          13.143538475036621,
          null
         ],
         "xaxis": "x",
         "y": [
          2.3595194816589355,
          2.7836971282958984,
          null
         ],
         "yaxis": "y"
        },
        {
         "hoverinfo": "none",
         "line": {
          "color": "gray",
          "width": 1
         },
         "mode": "lines",
         "showlegend": false,
         "type": "scatter",
         "x": [
          13.402872085571289,
          13.720823287963867,
          null
         ],
         "xaxis": "x",
         "y": [
          2.3595194816589355,
          2.4799160957336426,
          null
         ],
         "yaxis": "y"
        },
        {
         "hoverinfo": "none",
         "line": {
          "color": "gray",
          "width": 1
         },
         "mode": "lines",
         "showlegend": false,
         "type": "scatter",
         "x": [
          13.402872085571289,
          13.823026657104492,
          null
         ],
         "xaxis": "x",
         "y": [
          2.3595194816589355,
          2.5596189498901367,
          null
         ],
         "yaxis": "y"
        },
        {
         "hoverinfo": "none",
         "line": {
          "color": "gray",
          "width": 1
         },
         "mode": "lines",
         "showlegend": false,
         "type": "scatter",
         "x": [
          12.254372596740723,
          12.130707740783691,
          null
         ],
         "xaxis": "x",
         "y": [
          2.8816325664520264,
          2.5643606185913086,
          null
         ],
         "yaxis": "y"
        },
        {
         "hoverinfo": "none",
         "line": {
          "color": "gray",
          "width": 1
         },
         "mode": "lines",
         "showlegend": false,
         "type": "scatter",
         "x": [
          12.254372596740723,
          12.106332778930664,
          null
         ],
         "xaxis": "x",
         "y": [
          2.8816325664520264,
          3.092977285385132,
          null
         ],
         "yaxis": "y"
        },
        {
         "hoverinfo": "none",
         "line": {
          "color": "gray",
          "width": 1
         },
         "mode": "lines",
         "showlegend": false,
         "type": "scatter",
         "x": [
          12.130707740783691,
          11.955601692199707,
          null
         ],
         "xaxis": "x",
         "y": [
          2.5643606185913086,
          2.644026517868042,
          null
         ],
         "yaxis": "y"
        },
        {
         "hoverinfo": "none",
         "line": {
          "color": "gray",
          "width": 1
         },
         "mode": "lines",
         "showlegend": false,
         "type": "scatter",
         "x": [
          12.130707740783691,
          12.106332778930664,
          null
         ],
         "xaxis": "x",
         "y": [
          2.5643606185913086,
          3.092977285385132,
          null
         ],
         "yaxis": "y"
        },
        {
         "hoverinfo": "none",
         "line": {
          "color": "gray",
          "width": 1
         },
         "mode": "lines",
         "showlegend": false,
         "type": "scatter",
         "x": [
          11.955601692199707,
          12.290115356445312,
          null
         ],
         "xaxis": "x",
         "y": [
          2.644026517868042,
          2.5310516357421875,
          null
         ],
         "yaxis": "y"
        },
        {
         "hoverinfo": "none",
         "line": {
          "color": "gray",
          "width": 1
         },
         "mode": "lines",
         "showlegend": false,
         "type": "scatter",
         "x": [
          11.955601692199707,
          12.037792205810547,
          null
         ],
         "xaxis": "x",
         "y": [
          2.644026517868042,
          2.7387123107910156,
          null
         ],
         "yaxis": "y"
        },
        {
         "hoverinfo": "none",
         "line": {
          "color": "gray",
          "width": 1
         },
         "mode": "lines",
         "showlegend": false,
         "type": "scatter",
         "x": [
          11.955601692199707,
          12.12544059753418,
          null
         ],
         "xaxis": "x",
         "y": [
          2.644026517868042,
          3.015486478805542,
          null
         ],
         "yaxis": "y"
        },
        {
         "hoverinfo": "none",
         "line": {
          "color": "gray",
          "width": 1
         },
         "mode": "lines",
         "showlegend": false,
         "type": "scatter",
         "x": [
          11.955601692199707,
          12.106332778930664,
          null
         ],
         "xaxis": "x",
         "y": [
          2.644026517868042,
          3.092977285385132,
          null
         ],
         "yaxis": "y"
        },
        {
         "hoverinfo": "none",
         "line": {
          "color": "gray",
          "width": 1
         },
         "mode": "lines",
         "showlegend": false,
         "type": "scatter",
         "x": [
          14.379985809326172,
          14.709282875061035,
          null
         ],
         "xaxis": "x",
         "y": [
          2.4932076930999756,
          2.467365264892578,
          null
         ],
         "yaxis": "y"
        },
        {
         "hoverinfo": "none",
         "line": {
          "color": "gray",
          "width": 1
         },
         "mode": "lines",
         "showlegend": false,
         "type": "scatter",
         "x": [
          14.379985809326172,
          13.970826148986816,
          null
         ],
         "xaxis": "x",
         "y": [
          2.4932076930999756,
          2.509368896484375,
          null
         ],
         "yaxis": "y"
        },
        {
         "hoverinfo": "none",
         "line": {
          "color": "gray",
          "width": 1
         },
         "mode": "lines",
         "showlegend": false,
         "type": "scatter",
         "x": [
          13.295681953430176,
          13.796621322631836,
          null
         ],
         "xaxis": "x",
         "y": [
          2.8416807651519775,
          3.062056064605713,
          null
         ],
         "yaxis": "y"
        },
        {
         "hoverinfo": "none",
         "line": {
          "color": "gray",
          "width": 1
         },
         "mode": "lines",
         "showlegend": false,
         "type": "scatter",
         "x": [
          13.295681953430176,
          13.088578224182129,
          null
         ],
         "xaxis": "x",
         "y": [
          2.8416807651519775,
          3.1116368770599365,
          null
         ],
         "yaxis": "y"
        },
        {
         "hoverinfo": "none",
         "line": {
          "color": "gray",
          "width": 1
         },
         "mode": "lines",
         "showlegend": false,
         "type": "scatter",
         "x": [
          13.295681953430176,
          12.985790252685547,
          null
         ],
         "xaxis": "x",
         "y": [
          2.8416807651519775,
          3.240701198577881,
          null
         ],
         "yaxis": "y"
        },
        {
         "hoverinfo": "none",
         "line": {
          "color": "gray",
          "width": 1
         },
         "mode": "lines",
         "showlegend": false,
         "type": "scatter",
         "x": [
          13.295681953430176,
          12.917497634887695,
          null
         ],
         "xaxis": "x",
         "y": [
          2.8416807651519775,
          2.717097043991089,
          null
         ],
         "yaxis": "y"
        },
        {
         "hoverinfo": "none",
         "line": {
          "color": "gray",
          "width": 1
         },
         "mode": "lines",
         "showlegend": false,
         "type": "scatter",
         "x": [
          13.801664352416992,
          13.720823287963867,
          null
         ],
         "xaxis": "x",
         "y": [
          2.9154086112976074,
          2.4799160957336426,
          null
         ],
         "yaxis": "y"
        },
        {
         "hoverinfo": "none",
         "line": {
          "color": "gray",
          "width": 1
         },
         "mode": "lines",
         "showlegend": false,
         "type": "scatter",
         "x": [
          13.801664352416992,
          13.823026657104492,
          null
         ],
         "xaxis": "x",
         "y": [
          2.9154086112976074,
          2.5596189498901367,
          null
         ],
         "yaxis": "y"
        },
        {
         "hoverinfo": "none",
         "line": {
          "color": "gray",
          "width": 1
         },
         "mode": "lines",
         "showlegend": false,
         "type": "scatter",
         "x": [
          13.801664352416992,
          13.893813133239746,
          null
         ],
         "xaxis": "x",
         "y": [
          2.9154086112976074,
          3.190128803253174,
          null
         ],
         "yaxis": "y"
        },
        {
         "hoverinfo": "none",
         "line": {
          "color": "gray",
          "width": 1
         },
         "mode": "lines",
         "showlegend": false,
         "type": "scatter",
         "x": [
          12.901942253112793,
          13.143538475036621,
          null
         ],
         "xaxis": "x",
         "y": [
          2.999077081680298,
          2.7836971282958984,
          null
         ],
         "yaxis": "y"
        },
        {
         "hoverinfo": "none",
         "line": {
          "color": "gray",
          "width": 1
         },
         "mode": "lines",
         "showlegend": false,
         "type": "scatter",
         "x": [
          12.901942253112793,
          12.663263320922852,
          null
         ],
         "xaxis": "x",
         "y": [
          2.999077081680298,
          2.6263482570648193,
          null
         ],
         "yaxis": "y"
        },
        {
         "hoverinfo": "none",
         "line": {
          "color": "gray",
          "width": 1
         },
         "mode": "lines",
         "showlegend": false,
         "type": "scatter",
         "x": [
          13.143538475036621,
          12.663263320922852,
          null
         ],
         "xaxis": "x",
         "y": [
          2.7836971282958984,
          2.6263482570648193,
          null
         ],
         "yaxis": "y"
        },
        {
         "hoverinfo": "none",
         "line": {
          "color": "gray",
          "width": 1
         },
         "mode": "lines",
         "showlegend": false,
         "type": "scatter",
         "x": [
          13.720823287963867,
          13.823026657104492,
          null
         ],
         "xaxis": "x",
         "y": [
          2.4799160957336426,
          2.5596189498901367,
          null
         ],
         "yaxis": "y"
        },
        {
         "hoverinfo": "none",
         "line": {
          "color": "gray",
          "width": 1
         },
         "mode": "lines",
         "showlegend": false,
         "type": "scatter",
         "x": [
          15.520991325378418,
          15.412707328796387,
          null
         ],
         "xaxis": "x",
         "y": [
          3.1968648433685303,
          3.4614861011505127,
          null
         ],
         "yaxis": "y"
        },
        {
         "hoverinfo": "none",
         "line": {
          "color": "gray",
          "width": 1
         },
         "mode": "lines",
         "showlegend": false,
         "type": "scatter",
         "x": [
          15.032889366149902,
          14.709282875061035,
          null
         ],
         "xaxis": "x",
         "y": [
          2.8201053142547607,
          2.467365264892578,
          null
         ],
         "yaxis": "y"
        },
        {
         "hoverinfo": "none",
         "line": {
          "color": "gray",
          "width": 1
         },
         "mode": "lines",
         "showlegend": false,
         "type": "scatter",
         "x": [
          15.412707328796387,
          15.000568389892578,
          null
         ],
         "xaxis": "x",
         "y": [
          3.4614861011505127,
          3.6391336917877197,
          null
         ],
         "yaxis": "y"
        },
        {
         "hoverinfo": "none",
         "line": {
          "color": "gray",
          "width": 1
         },
         "mode": "lines",
         "showlegend": false,
         "type": "scatter",
         "x": [
          15.447225570678711,
          15.798046112060547,
          null
         ],
         "xaxis": "x",
         "y": [
          4.237733364105225,
          4.133271217346191,
          null
         ],
         "yaxis": "y"
        },
        {
         "hoverinfo": "none",
         "line": {
          "color": "gray",
          "width": 1
         },
         "mode": "lines",
         "showlegend": false,
         "type": "scatter",
         "x": [
          15.447225570678711,
          15.137975692749023,
          null
         ],
         "xaxis": "x",
         "y": [
          4.237733364105225,
          4.421077251434326,
          null
         ],
         "yaxis": "y"
        },
        {
         "hoverinfo": "none",
         "line": {
          "color": "gray",
          "width": 1
         },
         "mode": "lines",
         "showlegend": false,
         "type": "scatter",
         "x": [
          15.447225570678711,
          15.292060852050781,
          null
         ],
         "xaxis": "x",
         "y": [
          4.237733364105225,
          4.021561622619629,
          null
         ],
         "yaxis": "y"
        },
        {
         "hoverinfo": "none",
         "line": {
          "color": "gray",
          "width": 1
         },
         "mode": "lines",
         "showlegend": false,
         "type": "scatter",
         "x": [
          15.447225570678711,
          15.685861587524414,
          null
         ],
         "xaxis": "x",
         "y": [
          4.237733364105225,
          4.3434224128723145,
          null
         ],
         "yaxis": "y"
        },
        {
         "hoverinfo": "none",
         "line": {
          "color": "gray",
          "width": 1
         },
         "mode": "lines",
         "showlegend": false,
         "type": "scatter",
         "x": [
          12.678258895874023,
          12.290115356445312,
          null
         ],
         "xaxis": "x",
         "y": [
          2.2918524742126465,
          2.5310516357421875,
          null
         ],
         "yaxis": "y"
        },
        {
         "hoverinfo": "none",
         "line": {
          "color": "gray",
          "width": 1
         },
         "mode": "lines",
         "showlegend": false,
         "type": "scatter",
         "x": [
          12.678258895874023,
          12.683355331420898,
          null
         ],
         "xaxis": "x",
         "y": [
          2.2918524742126465,
          2.2097578048706055,
          null
         ],
         "yaxis": "y"
        },
        {
         "hoverinfo": "none",
         "line": {
          "color": "gray",
          "width": 1
         },
         "mode": "lines",
         "showlegend": false,
         "type": "scatter",
         "x": [
          12.678258895874023,
          12.663263320922852,
          null
         ],
         "xaxis": "x",
         "y": [
          2.2918524742126465,
          2.6263482570648193,
          null
         ],
         "yaxis": "y"
        },
        {
         "hoverinfo": "none",
         "line": {
          "color": "gray",
          "width": 1
         },
         "mode": "lines",
         "showlegend": false,
         "type": "scatter",
         "x": [
          13.796621322631836,
          13.970826148986816,
          null
         ],
         "xaxis": "x",
         "y": [
          3.062056064605713,
          2.509368896484375,
          null
         ],
         "yaxis": "y"
        },
        {
         "hoverinfo": "none",
         "line": {
          "color": "gray",
          "width": 1
         },
         "mode": "lines",
         "showlegend": false,
         "type": "scatter",
         "x": [
          13.325052261352539,
          13.495058059692383,
          null
         ],
         "xaxis": "x",
         "y": [
          3.9445645809173584,
          3.689070224761963,
          null
         ],
         "yaxis": "y"
        },
        {
         "hoverinfo": "none",
         "line": {
          "color": "gray",
          "width": 1
         },
         "mode": "lines",
         "showlegend": false,
         "type": "scatter",
         "x": [
          13.325052261352539,
          13.151102066040039,
          null
         ],
         "xaxis": "x",
         "y": [
          3.9445645809173584,
          3.437163829803467,
          null
         ],
         "yaxis": "y"
        },
        {
         "hoverinfo": "none",
         "line": {
          "color": "gray",
          "width": 1
         },
         "mode": "lines",
         "showlegend": false,
         "type": "scatter",
         "x": [
          16.13898277282715,
          15.947989463806152,
          null
         ],
         "xaxis": "x",
         "y": [
          2.7701735496520996,
          2.73215913772583,
          null
         ],
         "yaxis": "y"
        },
        {
         "hoverinfo": "none",
         "line": {
          "color": "gray",
          "width": 1
         },
         "mode": "lines",
         "showlegend": false,
         "type": "scatter",
         "x": [
          13.495058059692383,
          13.151102066040039,
          null
         ],
         "xaxis": "x",
         "y": [
          3.689070224761963,
          3.437163829803467,
          null
         ],
         "yaxis": "y"
        },
        {
         "hoverinfo": "none",
         "line": {
          "color": "gray",
          "width": 1
         },
         "mode": "lines",
         "showlegend": false,
         "type": "scatter",
         "x": [
          12.290115356445312,
          12.037792205810547,
          null
         ],
         "xaxis": "x",
         "y": [
          2.5310516357421875,
          2.7387123107910156,
          null
         ],
         "yaxis": "y"
        },
        {
         "hoverinfo": "none",
         "line": {
          "color": "gray",
          "width": 1
         },
         "mode": "lines",
         "showlegend": false,
         "type": "scatter",
         "x": [
          12.290115356445312,
          12.12544059753418,
          null
         ],
         "xaxis": "x",
         "y": [
          2.5310516357421875,
          3.015486478805542,
          null
         ],
         "yaxis": "y"
        },
        {
         "hoverinfo": "none",
         "line": {
          "color": "gray",
          "width": 1
         },
         "mode": "lines",
         "showlegend": false,
         "type": "scatter",
         "x": [
          12.290115356445312,
          12.683355331420898,
          null
         ],
         "xaxis": "x",
         "y": [
          2.5310516357421875,
          2.2097578048706055,
          null
         ],
         "yaxis": "y"
        },
        {
         "hoverinfo": "none",
         "line": {
          "color": "gray",
          "width": 1
         },
         "mode": "lines",
         "showlegend": false,
         "type": "scatter",
         "x": [
          12.290115356445312,
          12.663263320922852,
          null
         ],
         "xaxis": "x",
         "y": [
          2.5310516357421875,
          2.6263482570648193,
          null
         ],
         "yaxis": "y"
        },
        {
         "hoverinfo": "none",
         "line": {
          "color": "gray",
          "width": 1
         },
         "mode": "lines",
         "showlegend": false,
         "type": "scatter",
         "x": [
          12.037792205810547,
          12.12544059753418,
          null
         ],
         "xaxis": "x",
         "y": [
          2.7387123107910156,
          3.015486478805542,
          null
         ],
         "yaxis": "y"
        },
        {
         "hoverinfo": "none",
         "line": {
          "color": "gray",
          "width": 1
         },
         "mode": "lines",
         "showlegend": false,
         "type": "scatter",
         "x": [
          12.12544059753418,
          12.106332778930664,
          null
         ],
         "xaxis": "x",
         "y": [
          3.015486478805542,
          3.092977285385132,
          null
         ],
         "yaxis": "y"
        },
        {
         "hoverinfo": "none",
         "line": {
          "color": "gray",
          "width": 1
         },
         "mode": "lines",
         "showlegend": false,
         "type": "scatter",
         "x": [
          13.088578224182129,
          12.985790252685547,
          null
         ],
         "xaxis": "x",
         "y": [
          3.1116368770599365,
          3.240701198577881,
          null
         ],
         "yaxis": "y"
        },
        {
         "hoverinfo": "none",
         "line": {
          "color": "gray",
          "width": 1
         },
         "mode": "lines",
         "showlegend": false,
         "type": "scatter",
         "x": [
          13.088578224182129,
          13.151102066040039,
          null
         ],
         "xaxis": "x",
         "y": [
          3.1116368770599365,
          3.437163829803467,
          null
         ],
         "yaxis": "y"
        },
        {
         "hoverinfo": "none",
         "line": {
          "color": "gray",
          "width": 1
         },
         "mode": "lines",
         "showlegend": false,
         "type": "scatter",
         "x": [
          13.088578224182129,
          12.594107627868652,
          null
         ],
         "xaxis": "x",
         "y": [
          3.1116368770599365,
          3.388542890548706,
          null
         ],
         "yaxis": "y"
        },
        {
         "hoverinfo": "none",
         "line": {
          "color": "gray",
          "width": 1
         },
         "mode": "lines",
         "showlegend": false,
         "type": "scatter",
         "x": [
          13.088578224182129,
          12.917497634887695,
          null
         ],
         "xaxis": "x",
         "y": [
          3.1116368770599365,
          2.717097043991089,
          null
         ],
         "yaxis": "y"
        },
        {
         "hoverinfo": "none",
         "line": {
          "color": "gray",
          "width": 1
         },
         "mode": "lines",
         "showlegend": false,
         "type": "scatter",
         "x": [
          15.3019380569458,
          15.10970687866211,
          null
         ],
         "xaxis": "x",
         "y": [
          3.249851942062378,
          3.4468908309936523,
          null
         ],
         "yaxis": "y"
        },
        {
         "hoverinfo": "none",
         "line": {
          "color": "gray",
          "width": 1
         },
         "mode": "lines",
         "showlegend": false,
         "type": "scatter",
         "x": [
          15.3019380569458,
          15.47343921661377,
          null
         ],
         "xaxis": "x",
         "y": [
          3.249851942062378,
          3.527988910675049,
          null
         ],
         "yaxis": "y"
        },
        {
         "hoverinfo": "none",
         "line": {
          "color": "gray",
          "width": 1
         },
         "mode": "lines",
         "showlegend": false,
         "type": "scatter",
         "x": [
          15.3019380569458,
          15.018290519714355,
          null
         ],
         "xaxis": "x",
         "y": [
          3.249851942062378,
          3.6298110485076904,
          null
         ],
         "yaxis": "y"
        },
        {
         "hoverinfo": "none",
         "line": {
          "color": "gray",
          "width": 1
         },
         "mode": "lines",
         "showlegend": false,
         "type": "scatter",
         "x": [
          12.683355331420898,
          12.663263320922852,
          null
         ],
         "xaxis": "x",
         "y": [
          2.2097578048706055,
          2.6263482570648193,
          null
         ],
         "yaxis": "y"
        },
        {
         "hoverinfo": "none",
         "line": {
          "color": "gray",
          "width": 1
         },
         "mode": "lines",
         "showlegend": false,
         "type": "scatter",
         "x": [
          15.798046112060547,
          15.90407657623291,
          null
         ],
         "xaxis": "x",
         "y": [
          4.133271217346191,
          4.6356282234191895,
          null
         ],
         "yaxis": "y"
        },
        {
         "hoverinfo": "none",
         "line": {
          "color": "gray",
          "width": 1
         },
         "mode": "lines",
         "showlegend": false,
         "type": "scatter",
         "x": [
          15.798046112060547,
          15.685861587524414,
          null
         ],
         "xaxis": "x",
         "y": [
          4.133271217346191,
          4.3434224128723145,
          null
         ],
         "yaxis": "y"
        },
        {
         "hoverinfo": "none",
         "line": {
          "color": "gray",
          "width": 1
         },
         "mode": "lines",
         "showlegend": false,
         "type": "scatter",
         "x": [
          15.520845413208008,
          15.803252220153809,
          null
         ],
         "xaxis": "x",
         "y": [
          4.464594841003418,
          4.116236209869385,
          null
         ],
         "yaxis": "y"
        },
        {
         "hoverinfo": "none",
         "line": {
          "color": "gray",
          "width": 1
         },
         "mode": "lines",
         "showlegend": false,
         "type": "scatter",
         "x": [
          15.520845413208008,
          15.361220359802246,
          null
         ],
         "xaxis": "x",
         "y": [
          4.464594841003418,
          4.468945503234863,
          null
         ],
         "yaxis": "y"
        },
        {
         "hoverinfo": "none",
         "line": {
          "color": "gray",
          "width": 1
         },
         "mode": "lines",
         "showlegend": false,
         "type": "scatter",
         "x": [
          15.520845413208008,
          15.680750846862793,
          null
         ],
         "xaxis": "x",
         "y": [
          4.464594841003418,
          4.494410037994385,
          null
         ],
         "yaxis": "y"
        },
        {
         "hoverinfo": "none",
         "line": {
          "color": "gray",
          "width": 1
         },
         "mode": "lines",
         "showlegend": false,
         "type": "scatter",
         "x": [
          15.589012145996094,
          15.803252220153809,
          null
         ],
         "xaxis": "x",
         "y": [
          3.7654972076416016,
          4.116236209869385,
          null
         ],
         "yaxis": "y"
        },
        {
         "hoverinfo": "none",
         "line": {
          "color": "gray",
          "width": 1
         },
         "mode": "lines",
         "showlegend": false,
         "type": "scatter",
         "x": [
          15.589012145996094,
          15.10970687866211,
          null
         ],
         "xaxis": "x",
         "y": [
          3.7654972076416016,
          3.4468908309936523,
          null
         ],
         "yaxis": "y"
        },
        {
         "hoverinfo": "none",
         "line": {
          "color": "gray",
          "width": 1
         },
         "mode": "lines",
         "showlegend": false,
         "type": "scatter",
         "x": [
          15.589012145996094,
          15.589035987854004,
          null
         ],
         "xaxis": "x",
         "y": [
          3.7654972076416016,
          3.7863810062408447,
          null
         ],
         "yaxis": "y"
        },
        {
         "hoverinfo": "none",
         "line": {
          "color": "gray",
          "width": 1
         },
         "mode": "lines",
         "showlegend": false,
         "type": "scatter",
         "x": [
          15.589012145996094,
          15.47343921661377,
          null
         ],
         "xaxis": "x",
         "y": [
          3.7654972076416016,
          3.527988910675049,
          null
         ],
         "yaxis": "y"
        },
        {
         "hoverinfo": "none",
         "line": {
          "color": "gray",
          "width": 1
         },
         "mode": "lines",
         "showlegend": false,
         "type": "scatter",
         "x": [
          15.589012145996094,
          16.017879486083984,
          null
         ],
         "xaxis": "x",
         "y": [
          3.7654972076416016,
          3.5347118377685547,
          null
         ],
         "yaxis": "y"
        },
        {
         "hoverinfo": "none",
         "line": {
          "color": "gray",
          "width": 1
         },
         "mode": "lines",
         "showlegend": false,
         "type": "scatter",
         "x": [
          15.589012145996094,
          15.018290519714355,
          null
         ],
         "xaxis": "x",
         "y": [
          3.7654972076416016,
          3.6298110485076904,
          null
         ],
         "yaxis": "y"
        },
        {
         "hoverinfo": "none",
         "line": {
          "color": "gray",
          "width": 1
         },
         "mode": "lines",
         "showlegend": false,
         "type": "scatter",
         "x": [
          16.113054275512695,
          15.853175163269043,
          null
         ],
         "xaxis": "x",
         "y": [
          3.3814432621002197,
          3.1459829807281494,
          null
         ],
         "yaxis": "y"
        },
        {
         "hoverinfo": "none",
         "line": {
          "color": "gray",
          "width": 1
         },
         "mode": "lines",
         "showlegend": false,
         "type": "scatter",
         "x": [
          16.113054275512695,
          16.172090530395508,
          null
         ],
         "xaxis": "x",
         "y": [
          3.3814432621002197,
          3.8445358276367188,
          null
         ],
         "yaxis": "y"
        },
        {
         "hoverinfo": "none",
         "line": {
          "color": "gray",
          "width": 1
         },
         "mode": "lines",
         "showlegend": false,
         "type": "scatter",
         "x": [
          16.113054275512695,
          16.114877700805664,
          null
         ],
         "xaxis": "x",
         "y": [
          3.3814432621002197,
          3.7586185932159424,
          null
         ],
         "yaxis": "y"
        },
        {
         "hoverinfo": "none",
         "line": {
          "color": "gray",
          "width": 1
         },
         "mode": "lines",
         "showlegend": false,
         "type": "scatter",
         "x": [
          16.113054275512695,
          16.057140350341797,
          null
         ],
         "xaxis": "x",
         "y": [
          3.3814432621002197,
          3.5488908290863037,
          null
         ],
         "yaxis": "y"
        },
        {
         "hoverinfo": "none",
         "line": {
          "color": "gray",
          "width": 1
         },
         "mode": "lines",
         "showlegend": false,
         "type": "scatter",
         "x": [
          16.113054275512695,
          16.017879486083984,
          null
         ],
         "xaxis": "x",
         "y": [
          3.3814432621002197,
          3.5347118377685547,
          null
         ],
         "yaxis": "y"
        },
        {
         "hoverinfo": "none",
         "line": {
          "color": "gray",
          "width": 1
         },
         "mode": "lines",
         "showlegend": false,
         "type": "scatter",
         "x": [
          15.803252220153809,
          15.955046653747559,
          null
         ],
         "xaxis": "x",
         "y": [
          4.116236209869385,
          4.301332473754883,
          null
         ],
         "yaxis": "y"
        },
        {
         "hoverinfo": "none",
         "line": {
          "color": "gray",
          "width": 1
         },
         "mode": "lines",
         "showlegend": false,
         "type": "scatter",
         "x": [
          15.803252220153809,
          16.172090530395508,
          null
         ],
         "xaxis": "x",
         "y": [
          4.116236209869385,
          3.8445358276367188,
          null
         ],
         "yaxis": "y"
        },
        {
         "hoverinfo": "none",
         "line": {
          "color": "gray",
          "width": 1
         },
         "mode": "lines",
         "showlegend": false,
         "type": "scatter",
         "x": [
          15.803252220153809,
          15.589035987854004,
          null
         ],
         "xaxis": "x",
         "y": [
          4.116236209869385,
          3.7863810062408447,
          null
         ],
         "yaxis": "y"
        },
        {
         "hoverinfo": "none",
         "line": {
          "color": "gray",
          "width": 1
         },
         "mode": "lines",
         "showlegend": false,
         "type": "scatter",
         "x": [
          15.803252220153809,
          15.361220359802246,
          null
         ],
         "xaxis": "x",
         "y": [
          4.116236209869385,
          4.468945503234863,
          null
         ],
         "yaxis": "y"
        },
        {
         "hoverinfo": "none",
         "line": {
          "color": "gray",
          "width": 1
         },
         "mode": "lines",
         "showlegend": false,
         "type": "scatter",
         "x": [
          15.803252220153809,
          15.680750846862793,
          null
         ],
         "xaxis": "x",
         "y": [
          4.116236209869385,
          4.494410037994385,
          null
         ],
         "yaxis": "y"
        },
        {
         "hoverinfo": "none",
         "line": {
          "color": "gray",
          "width": 1
         },
         "mode": "lines",
         "showlegend": false,
         "type": "scatter",
         "x": [
          15.803252220153809,
          16.024120330810547,
          null
         ],
         "xaxis": "x",
         "y": [
          4.116236209869385,
          4.050853729248047,
          null
         ],
         "yaxis": "y"
        },
        {
         "hoverinfo": "none",
         "line": {
          "color": "gray",
          "width": 1
         },
         "mode": "lines",
         "showlegend": false,
         "type": "scatter",
         "x": [
          15.955046653747559,
          15.680750846862793,
          null
         ],
         "xaxis": "x",
         "y": [
          4.301332473754883,
          4.494410037994385,
          null
         ],
         "yaxis": "y"
        },
        {
         "hoverinfo": "none",
         "line": {
          "color": "gray",
          "width": 1
         },
         "mode": "lines",
         "showlegend": false,
         "type": "scatter",
         "x": [
          15.955046653747559,
          16.024120330810547,
          null
         ],
         "xaxis": "x",
         "y": [
          4.301332473754883,
          4.050853729248047,
          null
         ],
         "yaxis": "y"
        },
        {
         "hoverinfo": "none",
         "line": {
          "color": "gray",
          "width": 1
         },
         "mode": "lines",
         "showlegend": false,
         "type": "scatter",
         "x": [
          15.955046653747559,
          15.90407657623291,
          null
         ],
         "xaxis": "x",
         "y": [
          4.301332473754883,
          4.6356282234191895,
          null
         ],
         "yaxis": "y"
        },
        {
         "hoverinfo": "none",
         "line": {
          "color": "gray",
          "width": 1
         },
         "mode": "lines",
         "showlegend": false,
         "type": "scatter",
         "x": [
          15.955046653747559,
          15.685861587524414,
          null
         ],
         "xaxis": "x",
         "y": [
          4.301332473754883,
          4.3434224128723145,
          null
         ],
         "yaxis": "y"
        },
        {
         "hoverinfo": "none",
         "line": {
          "color": "gray",
          "width": 1
         },
         "mode": "lines",
         "showlegend": false,
         "type": "scatter",
         "x": [
          15.853175163269043,
          16.017879486083984,
          null
         ],
         "xaxis": "x",
         "y": [
          3.1459829807281494,
          3.5347118377685547,
          null
         ],
         "yaxis": "y"
        },
        {
         "hoverinfo": "none",
         "line": {
          "color": "gray",
          "width": 1
         },
         "mode": "lines",
         "showlegend": false,
         "type": "scatter",
         "x": [
          15.036585807800293,
          15.589035987854004,
          null
         ],
         "xaxis": "x",
         "y": [
          3.821197271347046,
          3.7863810062408447,
          null
         ],
         "yaxis": "y"
        },
        {
         "hoverinfo": "none",
         "line": {
          "color": "gray",
          "width": 1
         },
         "mode": "lines",
         "showlegend": false,
         "type": "scatter",
         "x": [
          15.036585807800293,
          15.018290519714355,
          null
         ],
         "xaxis": "x",
         "y": [
          3.821197271347046,
          3.6298110485076904,
          null
         ],
         "yaxis": "y"
        },
        {
         "hoverinfo": "none",
         "line": {
          "color": "gray",
          "width": 1
         },
         "mode": "lines",
         "showlegend": false,
         "type": "scatter",
         "x": [
          15.10970687866211,
          15.47343921661377,
          null
         ],
         "xaxis": "x",
         "y": [
          3.4468908309936523,
          3.527988910675049,
          null
         ],
         "yaxis": "y"
        },
        {
         "hoverinfo": "none",
         "line": {
          "color": "gray",
          "width": 1
         },
         "mode": "lines",
         "showlegend": false,
         "type": "scatter",
         "x": [
          15.10970687866211,
          15.018290519714355,
          null
         ],
         "xaxis": "x",
         "y": [
          3.4468908309936523,
          3.6298110485076904,
          null
         ],
         "yaxis": "y"
        },
        {
         "hoverinfo": "none",
         "line": {
          "color": "gray",
          "width": 1
         },
         "mode": "lines",
         "showlegend": false,
         "type": "scatter",
         "x": [
          16.172090530395508,
          16.114877700805664,
          null
         ],
         "xaxis": "x",
         "y": [
          3.8445358276367188,
          3.7586185932159424,
          null
         ],
         "yaxis": "y"
        },
        {
         "hoverinfo": "none",
         "line": {
          "color": "gray",
          "width": 1
         },
         "mode": "lines",
         "showlegend": false,
         "type": "scatter",
         "x": [
          16.172090530395508,
          16.024120330810547,
          null
         ],
         "xaxis": "x",
         "y": [
          3.8445358276367188,
          4.050853729248047,
          null
         ],
         "yaxis": "y"
        },
        {
         "hoverinfo": "none",
         "line": {
          "color": "gray",
          "width": 1
         },
         "mode": "lines",
         "showlegend": false,
         "type": "scatter",
         "x": [
          16.172090530395508,
          16.057140350341797,
          null
         ],
         "xaxis": "x",
         "y": [
          3.8445358276367188,
          3.5488908290863037,
          null
         ],
         "yaxis": "y"
        },
        {
         "hoverinfo": "none",
         "line": {
          "color": "gray",
          "width": 1
         },
         "mode": "lines",
         "showlegend": false,
         "type": "scatter",
         "x": [
          16.172090530395508,
          16.017879486083984,
          null
         ],
         "xaxis": "x",
         "y": [
          3.8445358276367188,
          3.5347118377685547,
          null
         ],
         "yaxis": "y"
        },
        {
         "hoverinfo": "none",
         "line": {
          "color": "gray",
          "width": 1
         },
         "mode": "lines",
         "showlegend": false,
         "type": "scatter",
         "x": [
          15.589035987854004,
          16.024120330810547,
          null
         ],
         "xaxis": "x",
         "y": [
          3.7863810062408447,
          4.050853729248047,
          null
         ],
         "yaxis": "y"
        },
        {
         "hoverinfo": "none",
         "line": {
          "color": "gray",
          "width": 1
         },
         "mode": "lines",
         "showlegend": false,
         "type": "scatter",
         "x": [
          15.589035987854004,
          16.057140350341797,
          null
         ],
         "xaxis": "x",
         "y": [
          3.7863810062408447,
          3.5488908290863037,
          null
         ],
         "yaxis": "y"
        },
        {
         "hoverinfo": "none",
         "line": {
          "color": "gray",
          "width": 1
         },
         "mode": "lines",
         "showlegend": false,
         "type": "scatter",
         "x": [
          15.361220359802246,
          15.680750846862793,
          null
         ],
         "xaxis": "x",
         "y": [
          4.468945503234863,
          4.494410037994385,
          null
         ],
         "yaxis": "y"
        },
        {
         "hoverinfo": "none",
         "line": {
          "color": "gray",
          "width": 1
         },
         "mode": "lines",
         "showlegend": false,
         "type": "scatter",
         "x": [
          15.361220359802246,
          15.406187057495117,
          null
         ],
         "xaxis": "x",
         "y": [
          4.468945503234863,
          4.649080276489258,
          null
         ],
         "yaxis": "y"
        },
        {
         "hoverinfo": "none",
         "line": {
          "color": "gray",
          "width": 1
         },
         "mode": "lines",
         "showlegend": false,
         "type": "scatter",
         "x": [
          15.680750846862793,
          16.024120330810547,
          null
         ],
         "xaxis": "x",
         "y": [
          4.494410037994385,
          4.050853729248047,
          null
         ],
         "yaxis": "y"
        },
        {
         "hoverinfo": "none",
         "line": {
          "color": "gray",
          "width": 1
         },
         "mode": "lines",
         "showlegend": false,
         "type": "scatter",
         "x": [
          15.680750846862793,
          15.406187057495117,
          null
         ],
         "xaxis": "x",
         "y": [
          4.494410037994385,
          4.649080276489258,
          null
         ],
         "yaxis": "y"
        },
        {
         "hoverinfo": "none",
         "line": {
          "color": "gray",
          "width": 1
         },
         "mode": "lines",
         "showlegend": false,
         "type": "scatter",
         "x": [
          15.680750846862793,
          15.90407657623291,
          null
         ],
         "xaxis": "x",
         "y": [
          4.494410037994385,
          4.6356282234191895,
          null
         ],
         "yaxis": "y"
        },
        {
         "hoverinfo": "none",
         "line": {
          "color": "gray",
          "width": 1
         },
         "mode": "lines",
         "showlegend": false,
         "type": "scatter",
         "x": [
          15.680750846862793,
          15.685861587524414,
          null
         ],
         "xaxis": "x",
         "y": [
          4.494410037994385,
          4.3434224128723145,
          null
         ],
         "yaxis": "y"
        },
        {
         "hoverinfo": "none",
         "line": {
          "color": "gray",
          "width": 1
         },
         "mode": "lines",
         "showlegend": false,
         "type": "scatter",
         "x": [
          15.47343921661377,
          16.017879486083984,
          null
         ],
         "xaxis": "x",
         "y": [
          3.527988910675049,
          3.5347118377685547,
          null
         ],
         "yaxis": "y"
        },
        {
         "hoverinfo": "none",
         "line": {
          "color": "gray",
          "width": 1
         },
         "mode": "lines",
         "showlegend": false,
         "type": "scatter",
         "x": [
          16.114877700805664,
          16.017879486083984,
          null
         ],
         "xaxis": "x",
         "y": [
          3.7586185932159424,
          3.5347118377685547,
          null
         ],
         "yaxis": "y"
        },
        {
         "hoverinfo": "none",
         "line": {
          "color": "gray",
          "width": 1
         },
         "mode": "lines",
         "showlegend": false,
         "type": "scatter",
         "x": [
          15.137975692749023,
          15.292060852050781,
          null
         ],
         "xaxis": "x",
         "y": [
          4.421077251434326,
          4.021561622619629,
          null
         ],
         "yaxis": "y"
        },
        {
         "hoverinfo": "none",
         "line": {
          "color": "gray",
          "width": 1
         },
         "mode": "lines",
         "showlegend": false,
         "type": "scatter",
         "x": [
          15.137975692749023,
          15.406187057495117,
          null
         ],
         "xaxis": "x",
         "y": [
          4.421077251434326,
          4.649080276489258,
          null
         ],
         "yaxis": "y"
        },
        {
         "hoverinfo": "none",
         "line": {
          "color": "gray",
          "width": 1
         },
         "mode": "lines",
         "showlegend": false,
         "type": "scatter",
         "x": [
          15.137975692749023,
          15.685861587524414,
          null
         ],
         "xaxis": "x",
         "y": [
          4.421077251434326,
          4.3434224128723145,
          null
         ],
         "yaxis": "y"
        },
        {
         "hoverinfo": "none",
         "line": {
          "color": "gray",
          "width": 1
         },
         "mode": "lines",
         "showlegend": false,
         "type": "scatter",
         "x": [
          15.137975692749023,
          14.66457462310791,
          null
         ],
         "xaxis": "x",
         "y": [
          4.421077251434326,
          4.199955940246582,
          null
         ],
         "yaxis": "y"
        },
        {
         "hoverinfo": "none",
         "line": {
          "color": "gray",
          "width": 1
         },
         "mode": "lines",
         "showlegend": false,
         "type": "scatter",
         "x": [
          16.024120330810547,
          16.057140350341797,
          null
         ],
         "xaxis": "x",
         "y": [
          4.050853729248047,
          3.5488908290863037,
          null
         ],
         "yaxis": "y"
        },
        {
         "hoverinfo": "none",
         "line": {
          "color": "gray",
          "width": 1
         },
         "mode": "lines",
         "showlegend": false,
         "type": "scatter",
         "x": [
          16.024120330810547,
          15.685861587524414,
          null
         ],
         "xaxis": "x",
         "y": [
          4.050853729248047,
          4.3434224128723145,
          null
         ],
         "yaxis": "y"
        },
        {
         "hoverinfo": "none",
         "line": {
          "color": "gray",
          "width": 1
         },
         "mode": "lines",
         "showlegend": false,
         "type": "scatter",
         "x": [
          15.292060852050781,
          15.685861587524414,
          null
         ],
         "xaxis": "x",
         "y": [
          4.021561622619629,
          4.3434224128723145,
          null
         ],
         "yaxis": "y"
        },
        {
         "hoverinfo": "none",
         "line": {
          "color": "gray",
          "width": 1
         },
         "mode": "lines",
         "showlegend": false,
         "type": "scatter",
         "x": [
          15.406187057495117,
          15.90407657623291,
          null
         ],
         "xaxis": "x",
         "y": [
          4.649080276489258,
          4.6356282234191895,
          null
         ],
         "yaxis": "y"
        },
        {
         "hoverinfo": "none",
         "line": {
          "color": "gray",
          "width": 1
         },
         "mode": "lines",
         "showlegend": false,
         "type": "scatter",
         "x": [
          15.406187057495117,
          15.685861587524414,
          null
         ],
         "xaxis": "x",
         "y": [
          4.649080276489258,
          4.3434224128723145,
          null
         ],
         "yaxis": "y"
        },
        {
         "hoverinfo": "none",
         "line": {
          "color": "gray",
          "width": 1
         },
         "mode": "lines",
         "showlegend": false,
         "type": "scatter",
         "x": [
          15.90407657623291,
          15.685861587524414,
          null
         ],
         "xaxis": "x",
         "y": [
          4.6356282234191895,
          4.3434224128723145,
          null
         ],
         "yaxis": "y"
        },
        {
         "hoverinfo": "none",
         "line": {
          "color": "gray",
          "width": 1
         },
         "mode": "lines",
         "showlegend": false,
         "type": "scatter",
         "x": [
          12.985790252685547,
          13.151102066040039,
          null
         ],
         "xaxis": "x",
         "y": [
          3.240701198577881,
          3.437163829803467,
          null
         ],
         "yaxis": "y"
        },
        {
         "hoverinfo": "none",
         "line": {
          "color": "gray",
          "width": 1
         },
         "mode": "lines",
         "showlegend": false,
         "type": "scatter",
         "x": [
          12.985790252685547,
          12.917497634887695,
          null
         ],
         "xaxis": "x",
         "y": [
          3.240701198577881,
          2.717097043991089,
          null
         ],
         "yaxis": "y"
        },
        {
         "hoverinfo": "none",
         "line": {
          "color": "gray",
          "width": 1
         },
         "mode": "lines",
         "showlegend": false,
         "type": "scatter",
         "x": [
          13.151102066040039,
          12.594107627868652,
          null
         ],
         "xaxis": "x",
         "y": [
          3.437163829803467,
          3.388542890548706,
          null
         ],
         "yaxis": "y"
        },
        {
         "hoverinfo": "none",
         "line": {
          "color": "gray",
          "width": 1
         },
         "mode": "lines",
         "showlegend": false,
         "type": "scatter",
         "x": [
          13.934502601623535,
          13.970826148986816,
          null
         ],
         "xaxis": "x",
         "y": [
          2.64432954788208,
          2.509368896484375,
          null
         ],
         "yaxis": "y"
        },
        {
         "hoverinfo": "text",
         "hovertext": [
          "1282890977555839180",
          "1255908021842197930",
          "1364376551860961934",
          "1279218191310817247",
          "1316158964673335895",
          "725951699224906993",
          "1254303583045546955",
          "1315344706047362032",
          "1338690952348756006",
          "986342579444462399",
          "994392265836559354",
          "1170314793845437727",
          "1144449787453177593",
          "50637762",
          "1370475063168875041",
          "1279264133273765767",
          "1038158992459515932",
          "1060659586771911271",
          "995879788500033068",
          "1082092672297397383",
          "1117493870268287084",
          "1331317275345198410",
          "1345885220314300035",
          "1252955190460839164",
          "807287853103474314",
          "1003680480548024835",
          "1101521186410665163",
          "1126871837482680826",
          "911113843317991706",
          "878352430199000952",
          "1216205629459955503",
          "1152493881820384873",
          "1317428120714655677",
          "823224593312108874",
          "802873898143599598",
          "985588880340118836",
          "846281101302571252",
          "1073830324762676707",
          "1291369680799235048",
          "1291386342035446932",
          "1291348254945757857",
          "1284922899449149869",
          "1300846874190721949",
          "1178368806182581245",
          "1354503288606231731",
          "839283791724610443",
          "852322227051781578",
          "852836475894493606",
          "852998646126710254",
          "928953902518668812",
          "853430725018525635",
          "865741394178687754",
          "1065446126459762366",
          "865494322261178427",
          "852722227526718255",
          "852423984035352397",
          "852707152905312617",
          "852764754959774056",
          "865501138503964861",
          "865484469517762048",
          "852958133808719190",
          "958267722202025656",
          "878789244081373209",
          "852846097719499069",
          "852947489018010555",
          "865417719613815681",
          "865433093370851067",
          "865505131391284959",
          "929051174009268462",
          "1229800644222284211",
          "890771974735264612",
          "897405006229683800",
          "943495681388968810",
          "982475106451734664",
          "982475113924685879",
          "1061083288618779943",
          "1131261936147332933",
          "1061118933427624758",
          "1374717540319611164"
         ],
         "marker": {
          "cmax": 125,
          "cmin": 40,
          "color": {
           "bdata": "AAAAAADAV0AAAAAAAABZQAAAAAAAwFBAAAAAAABAVkAAAAAAAIBZQAAAAAAAQF9AAAAAAADAVUAAAAAAAEBTQAAAAAAAQFRAAAAAAAAAW0AAAAAAAABTQAAAAAAAwFdAAAAAAABgYkA9CtejcB1TQAAAAAAAQF5AAAAAAACAX0AAAAAAAABPQAAAAAAAQFBASOF6FK6HVEAAAAAAAABSQAAAAAAAgFZAAAAAAADAUkAAAAAAAEBVQAAAAAAAQFVAAAAAAACATkAAAAAAAMBRQAAAAAAAgFhAAAAAAADAWEAAAAAAAIBVQAAAAAAAQFlAAAAAAABAV0AAAAAAAEBTQAAAAAAAwFhAAAAAAABAVEAAAAAAAMBVQAAAAAAAYGBAAAAAAABAU0BmZmZmZmZXQAAAAAAAQFJAAAAAAABAUkC4HoXrUdhVQAAAAAAAQFlAAAAAAACAWEAAAAAAAMBRQAAAAAAAQFhAAAAAAACAXkAAAAAAAEBXQAAAAAAAgFhAAAAAAABAUkAAAAAAAEBVQAAAAAAAwFlAAAAAAADAUUAAAAAAAEBVQAAAAAAAAFNAAAAAAACAW0AAAAAAAMBUQAAAAAAAQFdAAAAAAABAV0AAAAAAAIBTQAAAAAAAwFFAAAAAAABAWkAAAAAAAEBTQAAAAAAAQFpAAAAAAAAAWkAAAAAAAEBbQAAAAAAAwGdAAAAAAADAUUAAAAAAAMBRQAAAAAAAAF1AAAAAAADAVkAAAAAAAABWQAAAAAAAAFhAAAAAAAAAWUAAAAAAAABbQAAAAAAAAFhAFK5H4XpUVkB7FK5H4RpdQAAAAAAAQFhAAAAAAACAUkA=",
           "dtype": "f8"
          },
          "colorbar": {
           "title": {
            "text": "Base fee"
           }
          },
          "colorscale": [
           [
            0,
            "rgb(241, 236, 236)"
           ],
           [
            0.09090909090909091,
            "rgb(230, 209, 203)"
           ],
           [
            0.18181818181818182,
            "rgb(221, 182, 170)"
           ],
           [
            0.2727272727272727,
            "rgb(213, 156, 137)"
           ],
           [
            0.36363636363636365,
            "rgb(205, 129, 103)"
           ],
           [
            0.45454545454545453,
            "rgb(196, 102, 73)"
           ],
           [
            0.5454545454545454,
            "rgb(186, 74, 47)"
           ],
           [
            0.6363636363636364,
            "rgb(172, 44, 36)"
           ],
           [
            0.7272727272727273,
            "rgb(149, 19, 39)"
           ],
           [
            0.8181818181818182,
            "rgb(120, 14, 40)"
           ],
           [
            0.9090909090909091,
            "rgb(89, 13, 31)"
           ],
           [
            1,
            "rgb(60, 9, 17)"
           ]
          ],
          "showscale": true,
          "size": 6
         },
         "mode": "markers",
         "showlegend": false,
         "type": "scatter",
         "x": {
          "bdata": "DRuBQd+EQkFJjIBBlLJ9QaO2eUEOYV1BlKR6QZk3TkHySIJB2AJ2QRIQYkFq431B7mJSQfTDU0EqclZB6RFEQWEXQkElSj9BbBRmQR27VEGe01xBW25OQe9LUkF+iFtB3rtrQftVeEG3hnBBOVlrQXOadkHWJ3dBQ+JmQSbaSkEeK11B9r5cQWozVUGjHIFB9yp/QcLrV0FQpERBzJpAQc4BQkFUAnBB0WpRQb3UdEEG70pBzMR8QWJVeEGYbHlBieeAQR/afEHfR39Bm6Z9QduVcEFcwXFBcWCBQbFseUGPx3VBW+R6QTWTd0FF64BBJjVyQWYxgEFIrHRBBnWAQb5/dkEZd35BniSAQetKcEFK+XpBD01eQczFT0HqalJBd4FJQRmiakG5815BgYhfQYqzQUESrk5BupxKQQ==",
          "dtype": "f4"
         },
         "xaxis": "x",
         "y": {
          "bdata": "miANQGDRQ0DioxdA4rEEQCpRFUB8CDBA6IT7P1LIHUBelipA+JRGQNrMDkAXERpAxF0mQDILXUBeAhdAq2w4QHweJEC7NylAt5AfQBneNUAOljpA4fA/QBgoMkDyth5ALEgxQG+ZTECbfDRAUOkdQP2IXUCDm4dAKIdAQLatEkDM0CNAuvhDQL9zfECGSjFAstsuQLoZbEDA/CFAEEcvQLv9QECR52hADyVHQJP9T0CsbA1AwkOEQPbdjkDo/XBAkWlYQDW4g0CEpIlAyVdJQH+OdEDcmVxA4Ax2QBFUckCaAY9ANdKPQJLKYUA1jXBAd3mNQJiggUCisIBAByFjQETFlEARV5RAuDhiQNNOaEBR/YpAEitMQKZnT0B++ltA491YQApmhkCyPClAgJkgQFfzRUDr5C1AFxYoQA==",
          "dtype": "f4"
         },
         "yaxis": "y"
        },
        {
         "hoverinfo": "none",
         "line": {
          "color": "gray",
          "width": 1
         },
         "mode": "lines",
         "showlegend": false,
         "type": "scatter",
         "x": [
          16.138208389282227,
          16.068498611450195,
          null
         ],
         "xaxis": "x2",
         "y": [
          25.798473358154297,
          25.455060958862305,
          null
         ],
         "yaxis": "y2"
        },
        {
         "hoverinfo": "none",
         "line": {
          "color": "gray",
          "width": 1
         },
         "mode": "lines",
         "showlegend": false,
         "type": "scatter",
         "x": [
          16.138208389282227,
          15.856098175048828,
          null
         ],
         "xaxis": "x2",
         "y": [
          25.798473358154297,
          25.608213424682617,
          null
         ],
         "yaxis": "y2"
        },
        {
         "hoverinfo": "none",
         "line": {
          "color": "gray",
          "width": 1
         },
         "mode": "lines",
         "showlegend": false,
         "type": "scatter",
         "x": [
          16.138208389282227,
          15.665180206298828,
          null
         ],
         "xaxis": "x2",
         "y": [
          25.798473358154297,
          25.746952056884766,
          null
         ],
         "yaxis": "y2"
        },
        {
         "hoverinfo": "none",
         "line": {
          "color": "gray",
          "width": 1
         },
         "mode": "lines",
         "showlegend": false,
         "type": "scatter",
         "x": [
          16.138208389282227,
          16.28561782836914,
          null
         ],
         "xaxis": "x2",
         "y": [
          25.798473358154297,
          25.831939697265625,
          null
         ],
         "yaxis": "y2"
        },
        {
         "hoverinfo": "none",
         "line": {
          "color": "gray",
          "width": 1
         },
         "mode": "lines",
         "showlegend": false,
         "type": "scatter",
         "x": [
          16.138208389282227,
          15.868021011352539,
          null
         ],
         "xaxis": "x2",
         "y": [
          25.798473358154297,
          25.851036071777344,
          null
         ],
         "yaxis": "y2"
        },
        {
         "hoverinfo": "none",
         "line": {
          "color": "gray",
          "width": 1
         },
         "mode": "lines",
         "showlegend": false,
         "type": "scatter",
         "x": [
          12.157439231872559,
          12.254372596740723,
          null
         ],
         "xaxis": "x2",
         "y": [
          26.55778694152832,
          26.00374984741211,
          null
         ],
         "yaxis": "y2"
        },
        {
         "hoverinfo": "none",
         "line": {
          "color": "gray",
          "width": 1
         },
         "mode": "lines",
         "showlegend": false,
         "type": "scatter",
         "x": [
          12.157439231872559,
          11.955601692199707,
          null
         ],
         "xaxis": "x2",
         "y": [
          26.55778694152832,
          26.642757415771484,
          null
         ],
         "yaxis": "y2"
        },
        {
         "hoverinfo": "none",
         "line": {
          "color": "gray",
          "width": 1
         },
         "mode": "lines",
         "showlegend": false,
         "type": "scatter",
         "x": [
          12.157439231872559,
          12.290115356445312,
          null
         ],
         "xaxis": "x2",
         "y": [
          26.55778694152832,
          26.696672439575195,
          null
         ],
         "yaxis": "y2"
        },
        {
         "hoverinfo": "none",
         "line": {
          "color": "gray",
          "width": 1
         },
         "mode": "lines",
         "showlegend": false,
         "type": "scatter",
         "x": [
          12.157439231872559,
          12.037792205810547,
          null
         ],
         "xaxis": "x2",
         "y": [
          26.55778694152832,
          26.981489181518555,
          null
         ],
         "yaxis": "y2"
        },
        {
         "hoverinfo": "none",
         "line": {
          "color": "gray",
          "width": 1
         },
         "mode": "lines",
         "showlegend": false,
         "type": "scatter",
         "x": [
          12.157439231872559,
          12.12544059753418,
          null
         ],
         "xaxis": "x2",
         "y": [
          26.55778694152832,
          26.769025802612305,
          null
         ],
         "yaxis": "y2"
        },
        {
         "hoverinfo": "none",
         "line": {
          "color": "gray",
          "width": 1
         },
         "mode": "lines",
         "showlegend": false,
         "type": "scatter",
         "x": [
          12.157439231872559,
          12.106332778930664,
          null
         ],
         "xaxis": "x2",
         "y": [
          26.55778694152832,
          26.27896499633789,
          null
         ],
         "yaxis": "y2"
        },
        {
         "hoverinfo": "none",
         "line": {
          "color": "gray",
          "width": 1
         },
         "mode": "lines",
         "showlegend": false,
         "type": "scatter",
         "x": [
          16.068498611450195,
          15.856098175048828,
          null
         ],
         "xaxis": "x2",
         "y": [
          25.455060958862305,
          25.608213424682617,
          null
         ],
         "yaxis": "y2"
        },
        {
         "hoverinfo": "none",
         "line": {
          "color": "gray",
          "width": 1
         },
         "mode": "lines",
         "showlegend": false,
         "type": "scatter",
         "x": [
          16.068498611450195,
          16.28561782836914,
          null
         ],
         "xaxis": "x2",
         "y": [
          25.455060958862305,
          25.831939697265625,
          null
         ],
         "yaxis": "y2"
        },
        {
         "hoverinfo": "none",
         "line": {
          "color": "gray",
          "width": 1
         },
         "mode": "lines",
         "showlegend": false,
         "type": "scatter",
         "x": [
          16.068498611450195,
          15.868021011352539,
          null
         ],
         "xaxis": "x2",
         "y": [
          25.455060958862305,
          25.851036071777344,
          null
         ],
         "yaxis": "y2"
        },
        {
         "hoverinfo": "none",
         "line": {
          "color": "gray",
          "width": 1
         },
         "mode": "lines",
         "showlegend": false,
         "type": "scatter",
         "x": [
          16.068498611450195,
          16.13898277282715,
          null
         ],
         "xaxis": "x2",
         "y": [
          25.455060958862305,
          25.457178115844727,
          null
         ],
         "yaxis": "y2"
        },
        {
         "hoverinfo": "none",
         "line": {
          "color": "gray",
          "width": 1
         },
         "mode": "lines",
         "showlegend": false,
         "type": "scatter",
         "x": [
          15.856098175048828,
          15.665180206298828,
          null
         ],
         "xaxis": "x2",
         "y": [
          25.608213424682617,
          25.746952056884766,
          null
         ],
         "yaxis": "y2"
        },
        {
         "hoverinfo": "none",
         "line": {
          "color": "gray",
          "width": 1
         },
         "mode": "lines",
         "showlegend": false,
         "type": "scatter",
         "x": [
          15.856098175048828,
          15.868021011352539,
          null
         ],
         "xaxis": "x2",
         "y": [
          25.608213424682617,
          25.851036071777344,
          null
         ],
         "yaxis": "y2"
        },
        {
         "hoverinfo": "none",
         "line": {
          "color": "gray",
          "width": 1
         },
         "mode": "lines",
         "showlegend": false,
         "type": "scatter",
         "x": [
          15.607089042663574,
          15.665180206298828,
          null
         ],
         "xaxis": "x2",
         "y": [
          26.139482498168945,
          25.746952056884766,
          null
         ],
         "yaxis": "y2"
        },
        {
         "hoverinfo": "none",
         "line": {
          "color": "gray",
          "width": 1
         },
         "mode": "lines",
         "showlegend": false,
         "type": "scatter",
         "x": [
          15.607089042663574,
          15.868021011352539,
          null
         ],
         "xaxis": "x2",
         "y": [
          26.139482498168945,
          25.851036071777344,
          null
         ],
         "yaxis": "y2"
        },
        {
         "hoverinfo": "none",
         "line": {
          "color": "gray",
          "width": 1
         },
         "mode": "lines",
         "showlegend": false,
         "type": "scatter",
         "x": [
          15.607089042663574,
          15.947989463806152,
          null
         ],
         "xaxis": "x2",
         "y": [
          26.139482498168945,
          26.01463508605957,
          null
         ],
         "yaxis": "y2"
        },
        {
         "hoverinfo": "none",
         "line": {
          "color": "gray",
          "width": 1
         },
         "mode": "lines",
         "showlegend": false,
         "type": "scatter",
         "x": [
          13.83619499206543,
          13.720823287963867,
          null
         ],
         "xaxis": "x2",
         "y": [
          26.03950309753418,
          26.383668899536133,
          null
         ],
         "yaxis": "y2"
        },
        {
         "hoverinfo": "none",
         "line": {
          "color": "gray",
          "width": 1
         },
         "mode": "lines",
         "showlegend": false,
         "type": "scatter",
         "x": [
          13.83619499206543,
          13.796621322631836,
          null
         ],
         "xaxis": "x2",
         "y": [
          26.03950309753418,
          25.566347122192383,
          null
         ],
         "yaxis": "y2"
        },
        {
         "hoverinfo": "none",
         "line": {
          "color": "gray",
          "width": 1
         },
         "mode": "lines",
         "showlegend": false,
         "type": "scatter",
         "x": [
          13.83619499206543,
          13.893813133239746,
          null
         ],
         "xaxis": "x2",
         "y": [
          26.03950309753418,
          26.29039764404297,
          null
         ],
         "yaxis": "y2"
        },
        {
         "hoverinfo": "none",
         "line": {
          "color": "gray",
          "width": 1
         },
         "mode": "lines",
         "showlegend": false,
         "type": "scatter",
         "x": [
          13.83619499206543,
          13.970826148986816,
          null
         ],
         "xaxis": "x2",
         "y": [
          26.03950309753418,
          25.50810432434082,
          null
         ],
         "yaxis": "y2"
        },
        {
         "hoverinfo": "none",
         "line": {
          "color": "gray",
          "width": 1
         },
         "mode": "lines",
         "showlegend": false,
         "type": "scatter",
         "x": [
          15.665180206298828,
          15.868021011352539,
          null
         ],
         "xaxis": "x2",
         "y": [
          25.746952056884766,
          25.851036071777344,
          null
         ],
         "yaxis": "y2"
        },
        {
         "hoverinfo": "none",
         "line": {
          "color": "gray",
          "width": 1
         },
         "mode": "lines",
         "showlegend": false,
         "type": "scatter",
         "x": [
          12.88857364654541,
          13.149152755737305,
          null
         ],
         "xaxis": "x2",
         "y": [
          26.174638748168945,
          26.097122192382812,
          null
         ],
         "yaxis": "y2"
        },
        {
         "hoverinfo": "none",
         "line": {
          "color": "gray",
          "width": 1
         },
         "mode": "lines",
         "showlegend": false,
         "type": "scatter",
         "x": [
          12.88857364654541,
          12.678258895874023,
          null
         ],
         "xaxis": "x2",
         "y": [
          26.174638748168945,
          26.37531089782715,
          null
         ],
         "yaxis": "y2"
        },
        {
         "hoverinfo": "none",
         "line": {
          "color": "gray",
          "width": 1
         },
         "mode": "lines",
         "showlegend": false,
         "type": "scatter",
         "x": [
          12.88857364654541,
          12.663263320922852,
          null
         ],
         "xaxis": "x2",
         "y": [
          26.174638748168945,
          26.565710067749023,
          null
         ],
         "yaxis": "y2"
        },
        {
         "hoverinfo": "none",
         "line": {
          "color": "gray",
          "width": 1
         },
         "mode": "lines",
         "showlegend": false,
         "type": "scatter",
         "x": [
          16.28561782836914,
          15.868021011352539,
          null
         ],
         "xaxis": "x2",
         "y": [
          25.831939697265625,
          25.851036071777344,
          null
         ],
         "yaxis": "y2"
        },
        {
         "hoverinfo": "none",
         "line": {
          "color": "gray",
          "width": 1
         },
         "mode": "lines",
         "showlegend": false,
         "type": "scatter",
         "x": [
          16.28561782836914,
          16.13898277282715,
          null
         ],
         "xaxis": "x2",
         "y": [
          25.831939697265625,
          25.457178115844727,
          null
         ],
         "yaxis": "y2"
        },
        {
         "hoverinfo": "none",
         "line": {
          "color": "gray",
          "width": 1
         },
         "mode": "lines",
         "showlegend": false,
         "type": "scatter",
         "x": [
          16.28561782836914,
          15.947989463806152,
          null
         ],
         "xaxis": "x2",
         "y": [
          25.831939697265625,
          26.01463508605957,
          null
         ],
         "yaxis": "y2"
        },
        {
         "hoverinfo": "none",
         "line": {
          "color": "gray",
          "width": 1
         },
         "mode": "lines",
         "showlegend": false,
         "type": "scatter",
         "x": [
          15.375694274902344,
          15.520991325378418,
          null
         ],
         "xaxis": "x2",
         "y": [
          25.661088943481445,
          26.179553985595703,
          null
         ],
         "yaxis": "y2"
        },
        {
         "hoverinfo": "none",
         "line": {
          "color": "gray",
          "width": 1
         },
         "mode": "lines",
         "showlegend": false,
         "type": "scatter",
         "x": [
          14.128923416137695,
          14.379985809326172,
          null
         ],
         "xaxis": "x2",
         "y": [
          25.79670524597168,
          25.63113021850586,
          null
         ],
         "yaxis": "y2"
        },
        {
         "hoverinfo": "none",
         "line": {
          "color": "gray",
          "width": 1
         },
         "mode": "lines",
         "showlegend": false,
         "type": "scatter",
         "x": [
          14.128923416137695,
          13.970826148986816,
          null
         ],
         "xaxis": "x2",
         "y": [
          25.79670524597168,
          25.50810432434082,
          null
         ],
         "yaxis": "y2"
        },
        {
         "hoverinfo": "none",
         "line": {
          "color": "gray",
          "width": 1
         },
         "mode": "lines",
         "showlegend": false,
         "type": "scatter",
         "x": [
          15.868021011352539,
          15.947989463806152,
          null
         ],
         "xaxis": "x2",
         "y": [
          25.851036071777344,
          26.01463508605957,
          null
         ],
         "yaxis": "y2"
        },
        {
         "hoverinfo": "none",
         "line": {
          "color": "gray",
          "width": 1
         },
         "mode": "lines",
         "showlegend": false,
         "type": "scatter",
         "x": [
          13.149152755737305,
          13.088578224182129,
          null
         ],
         "xaxis": "x2",
         "y": [
          26.097122192382812,
          25.890640258789062,
          null
         ],
         "yaxis": "y2"
        },
        {
         "hoverinfo": "none",
         "line": {
          "color": "gray",
          "width": 1
         },
         "mode": "lines",
         "showlegend": false,
         "type": "scatter",
         "x": [
          13.235340118408203,
          13.151102066040039,
          null
         ],
         "xaxis": "x2",
         "y": [
          26.501331329345703,
          25.959421157836914,
          null
         ],
         "yaxis": "y2"
        },
        {
         "hoverinfo": "none",
         "line": {
          "color": "gray",
          "width": 1
         },
         "mode": "lines",
         "showlegend": false,
         "type": "scatter",
         "x": [
          13.402872085571289,
          13.143538475036621,
          null
         ],
         "xaxis": "x2",
         "y": [
          26.788827896118164,
          26.79020881652832,
          null
         ],
         "yaxis": "y2"
        },
        {
         "hoverinfo": "none",
         "line": {
          "color": "gray",
          "width": 1
         },
         "mode": "lines",
         "showlegend": false,
         "type": "scatter",
         "x": [
          13.402872085571289,
          13.720823287963867,
          null
         ],
         "xaxis": "x2",
         "y": [
          26.788827896118164,
          26.383668899536133,
          null
         ],
         "yaxis": "y2"
        },
        {
         "hoverinfo": "none",
         "line": {
          "color": "gray",
          "width": 1
         },
         "mode": "lines",
         "showlegend": false,
         "type": "scatter",
         "x": [
          13.402872085571289,
          13.823026657104492,
          null
         ],
         "xaxis": "x2",
         "y": [
          26.788827896118164,
          26.93404197692871,
          null
         ],
         "yaxis": "y2"
        },
        {
         "hoverinfo": "none",
         "line": {
          "color": "gray",
          "width": 1
         },
         "mode": "lines",
         "showlegend": false,
         "type": "scatter",
         "x": [
          12.254372596740723,
          12.130707740783691,
          null
         ],
         "xaxis": "x2",
         "y": [
          26.00374984741211,
          26.09347152709961,
          null
         ],
         "yaxis": "y2"
        },
        {
         "hoverinfo": "none",
         "line": {
          "color": "gray",
          "width": 1
         },
         "mode": "lines",
         "showlegend": false,
         "type": "scatter",
         "x": [
          12.254372596740723,
          12.106332778930664,
          null
         ],
         "xaxis": "x2",
         "y": [
          26.00374984741211,
          26.27896499633789,
          null
         ],
         "yaxis": "y2"
        },
        {
         "hoverinfo": "none",
         "line": {
          "color": "gray",
          "width": 1
         },
         "mode": "lines",
         "showlegend": false,
         "type": "scatter",
         "x": [
          12.130707740783691,
          11.955601692199707,
          null
         ],
         "xaxis": "x2",
         "y": [
          26.09347152709961,
          26.642757415771484,
          null
         ],
         "yaxis": "y2"
        },
        {
         "hoverinfo": "none",
         "line": {
          "color": "gray",
          "width": 1
         },
         "mode": "lines",
         "showlegend": false,
         "type": "scatter",
         "x": [
          12.130707740783691,
          12.106332778930664,
          null
         ],
         "xaxis": "x2",
         "y": [
          26.09347152709961,
          26.27896499633789,
          null
         ],
         "yaxis": "y2"
        },
        {
         "hoverinfo": "none",
         "line": {
          "color": "gray",
          "width": 1
         },
         "mode": "lines",
         "showlegend": false,
         "type": "scatter",
         "x": [
          11.955601692199707,
          12.290115356445312,
          null
         ],
         "xaxis": "x2",
         "y": [
          26.642757415771484,
          26.696672439575195,
          null
         ],
         "yaxis": "y2"
        },
        {
         "hoverinfo": "none",
         "line": {
          "color": "gray",
          "width": 1
         },
         "mode": "lines",
         "showlegend": false,
         "type": "scatter",
         "x": [
          11.955601692199707,
          12.037792205810547,
          null
         ],
         "xaxis": "x2",
         "y": [
          26.642757415771484,
          26.981489181518555,
          null
         ],
         "yaxis": "y2"
        },
        {
         "hoverinfo": "none",
         "line": {
          "color": "gray",
          "width": 1
         },
         "mode": "lines",
         "showlegend": false,
         "type": "scatter",
         "x": [
          11.955601692199707,
          12.12544059753418,
          null
         ],
         "xaxis": "x2",
         "y": [
          26.642757415771484,
          26.769025802612305,
          null
         ],
         "yaxis": "y2"
        },
        {
         "hoverinfo": "none",
         "line": {
          "color": "gray",
          "width": 1
         },
         "mode": "lines",
         "showlegend": false,
         "type": "scatter",
         "x": [
          11.955601692199707,
          12.106332778930664,
          null
         ],
         "xaxis": "x2",
         "y": [
          26.642757415771484,
          26.27896499633789,
          null
         ],
         "yaxis": "y2"
        },
        {
         "hoverinfo": "none",
         "line": {
          "color": "gray",
          "width": 1
         },
         "mode": "lines",
         "showlegend": false,
         "type": "scatter",
         "x": [
          14.379985809326172,
          14.709282875061035,
          null
         ],
         "xaxis": "x2",
         "y": [
          25.63113021850586,
          25.823932647705078,
          null
         ],
         "yaxis": "y2"
        },
        {
         "hoverinfo": "none",
         "line": {
          "color": "gray",
          "width": 1
         },
         "mode": "lines",
         "showlegend": false,
         "type": "scatter",
         "x": [
          14.379985809326172,
          13.970826148986816,
          null
         ],
         "xaxis": "x2",
         "y": [
          25.63113021850586,
          25.50810432434082,
          null
         ],
         "yaxis": "y2"
        },
        {
         "hoverinfo": "none",
         "line": {
          "color": "gray",
          "width": 1
         },
         "mode": "lines",
         "showlegend": false,
         "type": "scatter",
         "x": [
          13.295681953430176,
          13.796621322631836,
          null
         ],
         "xaxis": "x2",
         "y": [
          25.446285247802734,
          25.566347122192383,
          null
         ],
         "yaxis": "y2"
        },
        {
         "hoverinfo": "none",
         "line": {
          "color": "gray",
          "width": 1
         },
         "mode": "lines",
         "showlegend": false,
         "type": "scatter",
         "x": [
          13.295681953430176,
          13.088578224182129,
          null
         ],
         "xaxis": "x2",
         "y": [
          25.446285247802734,
          25.890640258789062,
          null
         ],
         "yaxis": "y2"
        },
        {
         "hoverinfo": "none",
         "line": {
          "color": "gray",
          "width": 1
         },
         "mode": "lines",
         "showlegend": false,
         "type": "scatter",
         "x": [
          13.295681953430176,
          12.985790252685547,
          null
         ],
         "xaxis": "x2",
         "y": [
          25.446285247802734,
          25.482351303100586,
          null
         ],
         "yaxis": "y2"
        },
        {
         "hoverinfo": "none",
         "line": {
          "color": "gray",
          "width": 1
         },
         "mode": "lines",
         "showlegend": false,
         "type": "scatter",
         "x": [
          13.295681953430176,
          12.917497634887695,
          null
         ],
         "xaxis": "x2",
         "y": [
          25.446285247802734,
          25.526226043701172,
          null
         ],
         "yaxis": "y2"
        },
        {
         "hoverinfo": "none",
         "line": {
          "color": "gray",
          "width": 1
         },
         "mode": "lines",
         "showlegend": false,
         "type": "scatter",
         "x": [
          13.801664352416992,
          13.720823287963867,
          null
         ],
         "xaxis": "x2",
         "y": [
          26.729570388793945,
          26.383668899536133,
          null
         ],
         "yaxis": "y2"
        },
        {
         "hoverinfo": "none",
         "line": {
          "color": "gray",
          "width": 1
         },
         "mode": "lines",
         "showlegend": false,
         "type": "scatter",
         "x": [
          13.801664352416992,
          13.823026657104492,
          null
         ],
         "xaxis": "x2",
         "y": [
          26.729570388793945,
          26.93404197692871,
          null
         ],
         "yaxis": "y2"
        },
        {
         "hoverinfo": "none",
         "line": {
          "color": "gray",
          "width": 1
         },
         "mode": "lines",
         "showlegend": false,
         "type": "scatter",
         "x": [
          13.801664352416992,
          13.893813133239746,
          null
         ],
         "xaxis": "x2",
         "y": [
          26.729570388793945,
          26.29039764404297,
          null
         ],
         "yaxis": "y2"
        },
        {
         "hoverinfo": "none",
         "line": {
          "color": "gray",
          "width": 1
         },
         "mode": "lines",
         "showlegend": false,
         "type": "scatter",
         "x": [
          12.901942253112793,
          13.143538475036621,
          null
         ],
         "xaxis": "x2",
         "y": [
          26.873645782470703,
          26.79020881652832,
          null
         ],
         "yaxis": "y2"
        },
        {
         "hoverinfo": "none",
         "line": {
          "color": "gray",
          "width": 1
         },
         "mode": "lines",
         "showlegend": false,
         "type": "scatter",
         "x": [
          12.901942253112793,
          12.663263320922852,
          null
         ],
         "xaxis": "x2",
         "y": [
          26.873645782470703,
          26.565710067749023,
          null
         ],
         "yaxis": "y2"
        },
        {
         "hoverinfo": "none",
         "line": {
          "color": "gray",
          "width": 1
         },
         "mode": "lines",
         "showlegend": false,
         "type": "scatter",
         "x": [
          13.143538475036621,
          12.663263320922852,
          null
         ],
         "xaxis": "x2",
         "y": [
          26.79020881652832,
          26.565710067749023,
          null
         ],
         "yaxis": "y2"
        },
        {
         "hoverinfo": "none",
         "line": {
          "color": "gray",
          "width": 1
         },
         "mode": "lines",
         "showlegend": false,
         "type": "scatter",
         "x": [
          13.720823287963867,
          13.823026657104492,
          null
         ],
         "xaxis": "x2",
         "y": [
          26.383668899536133,
          26.93404197692871,
          null
         ],
         "yaxis": "y2"
        },
        {
         "hoverinfo": "none",
         "line": {
          "color": "gray",
          "width": 1
         },
         "mode": "lines",
         "showlegend": false,
         "type": "scatter",
         "x": [
          15.520991325378418,
          15.412707328796387,
          null
         ],
         "xaxis": "x2",
         "y": [
          26.179553985595703,
          26.511104583740234,
          null
         ],
         "yaxis": "y2"
        },
        {
         "hoverinfo": "none",
         "line": {
          "color": "gray",
          "width": 1
         },
         "mode": "lines",
         "showlegend": false,
         "type": "scatter",
         "x": [
          15.032889366149902,
          14.709282875061035,
          null
         ],
         "xaxis": "x2",
         "y": [
          26.09606170654297,
          25.823932647705078,
          null
         ],
         "yaxis": "y2"
        },
        {
         "hoverinfo": "none",
         "line": {
          "color": "gray",
          "width": 1
         },
         "mode": "lines",
         "showlegend": false,
         "type": "scatter",
         "x": [
          15.412707328796387,
          15.000568389892578,
          null
         ],
         "xaxis": "x2",
         "y": [
          26.511104583740234,
          26.498859405517578,
          null
         ],
         "yaxis": "y2"
        },
        {
         "hoverinfo": "none",
         "line": {
          "color": "gray",
          "width": 1
         },
         "mode": "lines",
         "showlegend": false,
         "type": "scatter",
         "x": [
          15.447225570678711,
          15.798046112060547,
          null
         ],
         "xaxis": "x2",
         "y": [
          26.375652313232422,
          26.37876319885254,
          null
         ],
         "yaxis": "y2"
        },
        {
         "hoverinfo": "none",
         "line": {
          "color": "gray",
          "width": 1
         },
         "mode": "lines",
         "showlegend": false,
         "type": "scatter",
         "x": [
          15.447225570678711,
          15.137975692749023,
          null
         ],
         "xaxis": "x2",
         "y": [
          26.375652313232422,
          26.06161117553711,
          null
         ],
         "yaxis": "y2"
        },
        {
         "hoverinfo": "none",
         "line": {
          "color": "gray",
          "width": 1
         },
         "mode": "lines",
         "showlegend": false,
         "type": "scatter",
         "x": [
          15.447225570678711,
          15.292060852050781,
          null
         ],
         "xaxis": "x2",
         "y": [
          26.375652313232422,
          26.057388305664062,
          null
         ],
         "yaxis": "y2"
        },
        {
         "hoverinfo": "none",
         "line": {
          "color": "gray",
          "width": 1
         },
         "mode": "lines",
         "showlegend": false,
         "type": "scatter",
         "x": [
          15.447225570678711,
          15.685861587524414,
          null
         ],
         "xaxis": "x2",
         "y": [
          26.375652313232422,
          25.953838348388672,
          null
         ],
         "yaxis": "y2"
        },
        {
         "hoverinfo": "none",
         "line": {
          "color": "gray",
          "width": 1
         },
         "mode": "lines",
         "showlegend": false,
         "type": "scatter",
         "x": [
          12.678258895874023,
          12.290115356445312,
          null
         ],
         "xaxis": "x2",
         "y": [
          26.37531089782715,
          26.696672439575195,
          null
         ],
         "yaxis": "y2"
        },
        {
         "hoverinfo": "none",
         "line": {
          "color": "gray",
          "width": 1
         },
         "mode": "lines",
         "showlegend": false,
         "type": "scatter",
         "x": [
          12.678258895874023,
          12.683355331420898,
          null
         ],
         "xaxis": "x2",
         "y": [
          26.37531089782715,
          26.761436462402344,
          null
         ],
         "yaxis": "y2"
        },
        {
         "hoverinfo": "none",
         "line": {
          "color": "gray",
          "width": 1
         },
         "mode": "lines",
         "showlegend": false,
         "type": "scatter",
         "x": [
          12.678258895874023,
          12.663263320922852,
          null
         ],
         "xaxis": "x2",
         "y": [
          26.37531089782715,
          26.565710067749023,
          null
         ],
         "yaxis": "y2"
        },
        {
         "hoverinfo": "none",
         "line": {
          "color": "gray",
          "width": 1
         },
         "mode": "lines",
         "showlegend": false,
         "type": "scatter",
         "x": [
          13.796621322631836,
          13.970826148986816,
          null
         ],
         "xaxis": "x2",
         "y": [
          25.566347122192383,
          25.50810432434082,
          null
         ],
         "yaxis": "y2"
        },
        {
         "hoverinfo": "none",
         "line": {
          "color": "gray",
          "width": 1
         },
         "mode": "lines",
         "showlegend": false,
         "type": "scatter",
         "x": [
          13.325052261352539,
          13.495058059692383,
          null
         ],
         "xaxis": "x2",
         "y": [
          26.09099578857422,
          25.86381721496582,
          null
         ],
         "yaxis": "y2"
        },
        {
         "hoverinfo": "none",
         "line": {
          "color": "gray",
          "width": 1
         },
         "mode": "lines",
         "showlegend": false,
         "type": "scatter",
         "x": [
          13.325052261352539,
          13.151102066040039,
          null
         ],
         "xaxis": "x2",
         "y": [
          26.09099578857422,
          25.959421157836914,
          null
         ],
         "yaxis": "y2"
        },
        {
         "hoverinfo": "none",
         "line": {
          "color": "gray",
          "width": 1
         },
         "mode": "lines",
         "showlegend": false,
         "type": "scatter",
         "x": [
          16.13898277282715,
          15.947989463806152,
          null
         ],
         "xaxis": "x2",
         "y": [
          25.457178115844727,
          26.01463508605957,
          null
         ],
         "yaxis": "y2"
        },
        {
         "hoverinfo": "none",
         "line": {
          "color": "gray",
          "width": 1
         },
         "mode": "lines",
         "showlegend": false,
         "type": "scatter",
         "x": [
          13.495058059692383,
          13.151102066040039,
          null
         ],
         "xaxis": "x2",
         "y": [
          25.86381721496582,
          25.959421157836914,
          null
         ],
         "yaxis": "y2"
        },
        {
         "hoverinfo": "none",
         "line": {
          "color": "gray",
          "width": 1
         },
         "mode": "lines",
         "showlegend": false,
         "type": "scatter",
         "x": [
          12.290115356445312,
          12.037792205810547,
          null
         ],
         "xaxis": "x2",
         "y": [
          26.696672439575195,
          26.981489181518555,
          null
         ],
         "yaxis": "y2"
        },
        {
         "hoverinfo": "none",
         "line": {
          "color": "gray",
          "width": 1
         },
         "mode": "lines",
         "showlegend": false,
         "type": "scatter",
         "x": [
          12.290115356445312,
          12.12544059753418,
          null
         ],
         "xaxis": "x2",
         "y": [
          26.696672439575195,
          26.769025802612305,
          null
         ],
         "yaxis": "y2"
        },
        {
         "hoverinfo": "none",
         "line": {
          "color": "gray",
          "width": 1
         },
         "mode": "lines",
         "showlegend": false,
         "type": "scatter",
         "x": [
          12.290115356445312,
          12.683355331420898,
          null
         ],
         "xaxis": "x2",
         "y": [
          26.696672439575195,
          26.761436462402344,
          null
         ],
         "yaxis": "y2"
        },
        {
         "hoverinfo": "none",
         "line": {
          "color": "gray",
          "width": 1
         },
         "mode": "lines",
         "showlegend": false,
         "type": "scatter",
         "x": [
          12.290115356445312,
          12.663263320922852,
          null
         ],
         "xaxis": "x2",
         "y": [
          26.696672439575195,
          26.565710067749023,
          null
         ],
         "yaxis": "y2"
        },
        {
         "hoverinfo": "none",
         "line": {
          "color": "gray",
          "width": 1
         },
         "mode": "lines",
         "showlegend": false,
         "type": "scatter",
         "x": [
          12.037792205810547,
          12.12544059753418,
          null
         ],
         "xaxis": "x2",
         "y": [
          26.981489181518555,
          26.769025802612305,
          null
         ],
         "yaxis": "y2"
        },
        {
         "hoverinfo": "none",
         "line": {
          "color": "gray",
          "width": 1
         },
         "mode": "lines",
         "showlegend": false,
         "type": "scatter",
         "x": [
          12.12544059753418,
          12.106332778930664,
          null
         ],
         "xaxis": "x2",
         "y": [
          26.769025802612305,
          26.27896499633789,
          null
         ],
         "yaxis": "y2"
        },
        {
         "hoverinfo": "none",
         "line": {
          "color": "gray",
          "width": 1
         },
         "mode": "lines",
         "showlegend": false,
         "type": "scatter",
         "x": [
          13.088578224182129,
          12.985790252685547,
          null
         ],
         "xaxis": "x2",
         "y": [
          25.890640258789062,
          25.482351303100586,
          null
         ],
         "yaxis": "y2"
        },
        {
         "hoverinfo": "none",
         "line": {
          "color": "gray",
          "width": 1
         },
         "mode": "lines",
         "showlegend": false,
         "type": "scatter",
         "x": [
          13.088578224182129,
          13.151102066040039,
          null
         ],
         "xaxis": "x2",
         "y": [
          25.890640258789062,
          25.959421157836914,
          null
         ],
         "yaxis": "y2"
        },
        {
         "hoverinfo": "none",
         "line": {
          "color": "gray",
          "width": 1
         },
         "mode": "lines",
         "showlegend": false,
         "type": "scatter",
         "x": [
          13.088578224182129,
          12.594107627868652,
          null
         ],
         "xaxis": "x2",
         "y": [
          25.890640258789062,
          26.03948211669922,
          null
         ],
         "yaxis": "y2"
        },
        {
         "hoverinfo": "none",
         "line": {
          "color": "gray",
          "width": 1
         },
         "mode": "lines",
         "showlegend": false,
         "type": "scatter",
         "x": [
          13.088578224182129,
          12.917497634887695,
          null
         ],
         "xaxis": "x2",
         "y": [
          25.890640258789062,
          25.526226043701172,
          null
         ],
         "yaxis": "y2"
        },
        {
         "hoverinfo": "none",
         "line": {
          "color": "gray",
          "width": 1
         },
         "mode": "lines",
         "showlegend": false,
         "type": "scatter",
         "x": [
          15.3019380569458,
          15.10970687866211,
          null
         ],
         "xaxis": "x2",
         "y": [
          24.627212524414062,
          24.821517944335938,
          null
         ],
         "yaxis": "y2"
        },
        {
         "hoverinfo": "none",
         "line": {
          "color": "gray",
          "width": 1
         },
         "mode": "lines",
         "showlegend": false,
         "type": "scatter",
         "x": [
          15.3019380569458,
          15.47343921661377,
          null
         ],
         "xaxis": "x2",
         "y": [
          24.627212524414062,
          24.56098747253418,
          null
         ],
         "yaxis": "y2"
        },
        {
         "hoverinfo": "none",
         "line": {
          "color": "gray",
          "width": 1
         },
         "mode": "lines",
         "showlegend": false,
         "type": "scatter",
         "x": [
          15.3019380569458,
          15.018290519714355,
          null
         ],
         "xaxis": "x2",
         "y": [
          24.627212524414062,
          24.975488662719727,
          null
         ],
         "yaxis": "y2"
        },
        {
         "hoverinfo": "none",
         "line": {
          "color": "gray",
          "width": 1
         },
         "mode": "lines",
         "showlegend": false,
         "type": "scatter",
         "x": [
          12.683355331420898,
          12.663263320922852,
          null
         ],
         "xaxis": "x2",
         "y": [
          26.761436462402344,
          26.565710067749023,
          null
         ],
         "yaxis": "y2"
        },
        {
         "hoverinfo": "none",
         "line": {
          "color": "gray",
          "width": 1
         },
         "mode": "lines",
         "showlegend": false,
         "type": "scatter",
         "x": [
          15.798046112060547,
          15.90407657623291,
          null
         ],
         "xaxis": "x2",
         "y": [
          26.37876319885254,
          26.123125076293945,
          null
         ],
         "yaxis": "y2"
        },
        {
         "hoverinfo": "none",
         "line": {
          "color": "gray",
          "width": 1
         },
         "mode": "lines",
         "showlegend": false,
         "type": "scatter",
         "x": [
          15.798046112060547,
          15.685861587524414,
          null
         ],
         "xaxis": "x2",
         "y": [
          26.37876319885254,
          25.953838348388672,
          null
         ],
         "yaxis": "y2"
        },
        {
         "hoverinfo": "none",
         "line": {
          "color": "gray",
          "width": 1
         },
         "mode": "lines",
         "showlegend": false,
         "type": "scatter",
         "x": [
          15.520845413208008,
          15.803252220153809,
          null
         ],
         "xaxis": "x2",
         "y": [
          25.317459106445312,
          25.249439239501953,
          null
         ],
         "yaxis": "y2"
        },
        {
         "hoverinfo": "none",
         "line": {
          "color": "gray",
          "width": 1
         },
         "mode": "lines",
         "showlegend": false,
         "type": "scatter",
         "x": [
          15.520845413208008,
          15.361220359802246,
          null
         ],
         "xaxis": "x2",
         "y": [
          25.317459106445312,
          25.324378967285156,
          null
         ],
         "yaxis": "y2"
        },
        {
         "hoverinfo": "none",
         "line": {
          "color": "gray",
          "width": 1
         },
         "mode": "lines",
         "showlegend": false,
         "type": "scatter",
         "x": [
          15.520845413208008,
          15.680750846862793,
          null
         ],
         "xaxis": "x2",
         "y": [
          25.317459106445312,
          25.682954788208008,
          null
         ],
         "yaxis": "y2"
        },
        {
         "hoverinfo": "none",
         "line": {
          "color": "gray",
          "width": 1
         },
         "mode": "lines",
         "showlegend": false,
         "type": "scatter",
         "x": [
          15.589012145996094,
          15.803252220153809,
          null
         ],
         "xaxis": "x2",
         "y": [
          24.92674446105957,
          25.249439239501953,
          null
         ],
         "yaxis": "y2"
        },
        {
         "hoverinfo": "none",
         "line": {
          "color": "gray",
          "width": 1
         },
         "mode": "lines",
         "showlegend": false,
         "type": "scatter",
         "x": [
          15.589012145996094,
          15.10970687866211,
          null
         ],
         "xaxis": "x2",
         "y": [
          24.92674446105957,
          24.821517944335938,
          null
         ],
         "yaxis": "y2"
        },
        {
         "hoverinfo": "none",
         "line": {
          "color": "gray",
          "width": 1
         },
         "mode": "lines",
         "showlegend": false,
         "type": "scatter",
         "x": [
          15.589012145996094,
          15.589035987854004,
          null
         ],
         "xaxis": "x2",
         "y": [
          24.92674446105957,
          25.407686233520508,
          null
         ],
         "yaxis": "y2"
        },
        {
         "hoverinfo": "none",
         "line": {
          "color": "gray",
          "width": 1
         },
         "mode": "lines",
         "showlegend": false,
         "type": "scatter",
         "x": [
          15.589012145996094,
          15.47343921661377,
          null
         ],
         "xaxis": "x2",
         "y": [
          24.92674446105957,
          24.56098747253418,
          null
         ],
         "yaxis": "y2"
        },
        {
         "hoverinfo": "none",
         "line": {
          "color": "gray",
          "width": 1
         },
         "mode": "lines",
         "showlegend": false,
         "type": "scatter",
         "x": [
          15.589012145996094,
          16.017879486083984,
          null
         ],
         "xaxis": "x2",
         "y": [
          24.92674446105957,
          24.65528106689453,
          null
         ],
         "yaxis": "y2"
        },
        {
         "hoverinfo": "none",
         "line": {
          "color": "gray",
          "width": 1
         },
         "mode": "lines",
         "showlegend": false,
         "type": "scatter",
         "x": [
          15.589012145996094,
          15.018290519714355,
          null
         ],
         "xaxis": "x2",
         "y": [
          24.92674446105957,
          24.975488662719727,
          null
         ],
         "yaxis": "y2"
        },
        {
         "hoverinfo": "none",
         "line": {
          "color": "gray",
          "width": 1
         },
         "mode": "lines",
         "showlegend": false,
         "type": "scatter",
         "x": [
          16.113054275512695,
          15.853175163269043,
          null
         ],
         "xaxis": "x2",
         "y": [
          24.77926254272461,
          24.929733276367188,
          null
         ],
         "yaxis": "y2"
        },
        {
         "hoverinfo": "none",
         "line": {
          "color": "gray",
          "width": 1
         },
         "mode": "lines",
         "showlegend": false,
         "type": "scatter",
         "x": [
          16.113054275512695,
          16.172090530395508,
          null
         ],
         "xaxis": "x2",
         "y": [
          24.77926254272461,
          25.04435920715332,
          null
         ],
         "yaxis": "y2"
        },
        {
         "hoverinfo": "none",
         "line": {
          "color": "gray",
          "width": 1
         },
         "mode": "lines",
         "showlegend": false,
         "type": "scatter",
         "x": [
          16.113054275512695,
          16.114877700805664,
          null
         ],
         "xaxis": "x2",
         "y": [
          24.77926254272461,
          24.61121368408203,
          null
         ],
         "yaxis": "y2"
        },
        {
         "hoverinfo": "none",
         "line": {
          "color": "gray",
          "width": 1
         },
         "mode": "lines",
         "showlegend": false,
         "type": "scatter",
         "x": [
          16.113054275512695,
          16.057140350341797,
          null
         ],
         "xaxis": "x2",
         "y": [
          24.77926254272461,
          25.326587677001953,
          null
         ],
         "yaxis": "y2"
        },
        {
         "hoverinfo": "none",
         "line": {
          "color": "gray",
          "width": 1
         },
         "mode": "lines",
         "showlegend": false,
         "type": "scatter",
         "x": [
          16.113054275512695,
          16.017879486083984,
          null
         ],
         "xaxis": "x2",
         "y": [
          24.77926254272461,
          24.65528106689453,
          null
         ],
         "yaxis": "y2"
        },
        {
         "hoverinfo": "none",
         "line": {
          "color": "gray",
          "width": 1
         },
         "mode": "lines",
         "showlegend": false,
         "type": "scatter",
         "x": [
          15.803252220153809,
          15.955046653747559,
          null
         ],
         "xaxis": "x2",
         "y": [
          25.249439239501953,
          25.700136184692383,
          null
         ],
         "yaxis": "y2"
        },
        {
         "hoverinfo": "none",
         "line": {
          "color": "gray",
          "width": 1
         },
         "mode": "lines",
         "showlegend": false,
         "type": "scatter",
         "x": [
          15.803252220153809,
          16.172090530395508,
          null
         ],
         "xaxis": "x2",
         "y": [
          25.249439239501953,
          25.04435920715332,
          null
         ],
         "yaxis": "y2"
        },
        {
         "hoverinfo": "none",
         "line": {
          "color": "gray",
          "width": 1
         },
         "mode": "lines",
         "showlegend": false,
         "type": "scatter",
         "x": [
          15.803252220153809,
          15.589035987854004,
          null
         ],
         "xaxis": "x2",
         "y": [
          25.249439239501953,
          25.407686233520508,
          null
         ],
         "yaxis": "y2"
        },
        {
         "hoverinfo": "none",
         "line": {
          "color": "gray",
          "width": 1
         },
         "mode": "lines",
         "showlegend": false,
         "type": "scatter",
         "x": [
          15.803252220153809,
          15.361220359802246,
          null
         ],
         "xaxis": "x2",
         "y": [
          25.249439239501953,
          25.324378967285156,
          null
         ],
         "yaxis": "y2"
        },
        {
         "hoverinfo": "none",
         "line": {
          "color": "gray",
          "width": 1
         },
         "mode": "lines",
         "showlegend": false,
         "type": "scatter",
         "x": [
          15.803252220153809,
          15.680750846862793,
          null
         ],
         "xaxis": "x2",
         "y": [
          25.249439239501953,
          25.682954788208008,
          null
         ],
         "yaxis": "y2"
        },
        {
         "hoverinfo": "none",
         "line": {
          "color": "gray",
          "width": 1
         },
         "mode": "lines",
         "showlegend": false,
         "type": "scatter",
         "x": [
          15.803252220153809,
          16.024120330810547,
          null
         ],
         "xaxis": "x2",
         "y": [
          25.249439239501953,
          25.571704864501953,
          null
         ],
         "yaxis": "y2"
        },
        {
         "hoverinfo": "none",
         "line": {
          "color": "gray",
          "width": 1
         },
         "mode": "lines",
         "showlegend": false,
         "type": "scatter",
         "x": [
          15.955046653747559,
          15.680750846862793,
          null
         ],
         "xaxis": "x2",
         "y": [
          25.700136184692383,
          25.682954788208008,
          null
         ],
         "yaxis": "y2"
        },
        {
         "hoverinfo": "none",
         "line": {
          "color": "gray",
          "width": 1
         },
         "mode": "lines",
         "showlegend": false,
         "type": "scatter",
         "x": [
          15.955046653747559,
          16.024120330810547,
          null
         ],
         "xaxis": "x2",
         "y": [
          25.700136184692383,
          25.571704864501953,
          null
         ],
         "yaxis": "y2"
        },
        {
         "hoverinfo": "none",
         "line": {
          "color": "gray",
          "width": 1
         },
         "mode": "lines",
         "showlegend": false,
         "type": "scatter",
         "x": [
          15.955046653747559,
          15.90407657623291,
          null
         ],
         "xaxis": "x2",
         "y": [
          25.700136184692383,
          26.123125076293945,
          null
         ],
         "yaxis": "y2"
        },
        {
         "hoverinfo": "none",
         "line": {
          "color": "gray",
          "width": 1
         },
         "mode": "lines",
         "showlegend": false,
         "type": "scatter",
         "x": [
          15.955046653747559,
          15.685861587524414,
          null
         ],
         "xaxis": "x2",
         "y": [
          25.700136184692383,
          25.953838348388672,
          null
         ],
         "yaxis": "y2"
        },
        {
         "hoverinfo": "none",
         "line": {
          "color": "gray",
          "width": 1
         },
         "mode": "lines",
         "showlegend": false,
         "type": "scatter",
         "x": [
          15.853175163269043,
          16.017879486083984,
          null
         ],
         "xaxis": "x2",
         "y": [
          24.929733276367188,
          24.65528106689453,
          null
         ],
         "yaxis": "y2"
        },
        {
         "hoverinfo": "none",
         "line": {
          "color": "gray",
          "width": 1
         },
         "mode": "lines",
         "showlegend": false,
         "type": "scatter",
         "x": [
          15.036585807800293,
          15.589035987854004,
          null
         ],
         "xaxis": "x2",
         "y": [
          25.49928092956543,
          25.407686233520508,
          null
         ],
         "yaxis": "y2"
        },
        {
         "hoverinfo": "none",
         "line": {
          "color": "gray",
          "width": 1
         },
         "mode": "lines",
         "showlegend": false,
         "type": "scatter",
         "x": [
          15.036585807800293,
          15.018290519714355,
          null
         ],
         "xaxis": "x2",
         "y": [
          25.49928092956543,
          24.975488662719727,
          null
         ],
         "yaxis": "y2"
        },
        {
         "hoverinfo": "none",
         "line": {
          "color": "gray",
          "width": 1
         },
         "mode": "lines",
         "showlegend": false,
         "type": "scatter",
         "x": [
          15.10970687866211,
          15.47343921661377,
          null
         ],
         "xaxis": "x2",
         "y": [
          24.821517944335938,
          24.56098747253418,
          null
         ],
         "yaxis": "y2"
        },
        {
         "hoverinfo": "none",
         "line": {
          "color": "gray",
          "width": 1
         },
         "mode": "lines",
         "showlegend": false,
         "type": "scatter",
         "x": [
          15.10970687866211,
          15.018290519714355,
          null
         ],
         "xaxis": "x2",
         "y": [
          24.821517944335938,
          24.975488662719727,
          null
         ],
         "yaxis": "y2"
        },
        {
         "hoverinfo": "none",
         "line": {
          "color": "gray",
          "width": 1
         },
         "mode": "lines",
         "showlegend": false,
         "type": "scatter",
         "x": [
          16.172090530395508,
          16.114877700805664,
          null
         ],
         "xaxis": "x2",
         "y": [
          25.04435920715332,
          24.61121368408203,
          null
         ],
         "yaxis": "y2"
        },
        {
         "hoverinfo": "none",
         "line": {
          "color": "gray",
          "width": 1
         },
         "mode": "lines",
         "showlegend": false,
         "type": "scatter",
         "x": [
          16.172090530395508,
          16.024120330810547,
          null
         ],
         "xaxis": "x2",
         "y": [
          25.04435920715332,
          25.571704864501953,
          null
         ],
         "yaxis": "y2"
        },
        {
         "hoverinfo": "none",
         "line": {
          "color": "gray",
          "width": 1
         },
         "mode": "lines",
         "showlegend": false,
         "type": "scatter",
         "x": [
          16.172090530395508,
          16.057140350341797,
          null
         ],
         "xaxis": "x2",
         "y": [
          25.04435920715332,
          25.326587677001953,
          null
         ],
         "yaxis": "y2"
        },
        {
         "hoverinfo": "none",
         "line": {
          "color": "gray",
          "width": 1
         },
         "mode": "lines",
         "showlegend": false,
         "type": "scatter",
         "x": [
          16.172090530395508,
          16.017879486083984,
          null
         ],
         "xaxis": "x2",
         "y": [
          25.04435920715332,
          24.65528106689453,
          null
         ],
         "yaxis": "y2"
        },
        {
         "hoverinfo": "none",
         "line": {
          "color": "gray",
          "width": 1
         },
         "mode": "lines",
         "showlegend": false,
         "type": "scatter",
         "x": [
          15.589035987854004,
          16.024120330810547,
          null
         ],
         "xaxis": "x2",
         "y": [
          25.407686233520508,
          25.571704864501953,
          null
         ],
         "yaxis": "y2"
        },
        {
         "hoverinfo": "none",
         "line": {
          "color": "gray",
          "width": 1
         },
         "mode": "lines",
         "showlegend": false,
         "type": "scatter",
         "x": [
          15.589035987854004,
          16.057140350341797,
          null
         ],
         "xaxis": "x2",
         "y": [
          25.407686233520508,
          25.326587677001953,
          null
         ],
         "yaxis": "y2"
        },
        {
         "hoverinfo": "none",
         "line": {
          "color": "gray",
          "width": 1
         },
         "mode": "lines",
         "showlegend": false,
         "type": "scatter",
         "x": [
          15.361220359802246,
          15.680750846862793,
          null
         ],
         "xaxis": "x2",
         "y": [
          25.324378967285156,
          25.682954788208008,
          null
         ],
         "yaxis": "y2"
        },
        {
         "hoverinfo": "none",
         "line": {
          "color": "gray",
          "width": 1
         },
         "mode": "lines",
         "showlegend": false,
         "type": "scatter",
         "x": [
          15.361220359802246,
          15.406187057495117,
          null
         ],
         "xaxis": "x2",
         "y": [
          25.324378967285156,
          25.892412185668945,
          null
         ],
         "yaxis": "y2"
        },
        {
         "hoverinfo": "none",
         "line": {
          "color": "gray",
          "width": 1
         },
         "mode": "lines",
         "showlegend": false,
         "type": "scatter",
         "x": [
          15.680750846862793,
          16.024120330810547,
          null
         ],
         "xaxis": "x2",
         "y": [
          25.682954788208008,
          25.571704864501953,
          null
         ],
         "yaxis": "y2"
        },
        {
         "hoverinfo": "none",
         "line": {
          "color": "gray",
          "width": 1
         },
         "mode": "lines",
         "showlegend": false,
         "type": "scatter",
         "x": [
          15.680750846862793,
          15.406187057495117,
          null
         ],
         "xaxis": "x2",
         "y": [
          25.682954788208008,
          25.892412185668945,
          null
         ],
         "yaxis": "y2"
        },
        {
         "hoverinfo": "none",
         "line": {
          "color": "gray",
          "width": 1
         },
         "mode": "lines",
         "showlegend": false,
         "type": "scatter",
         "x": [
          15.680750846862793,
          15.90407657623291,
          null
         ],
         "xaxis": "x2",
         "y": [
          25.682954788208008,
          26.123125076293945,
          null
         ],
         "yaxis": "y2"
        },
        {
         "hoverinfo": "none",
         "line": {
          "color": "gray",
          "width": 1
         },
         "mode": "lines",
         "showlegend": false,
         "type": "scatter",
         "x": [
          15.680750846862793,
          15.685861587524414,
          null
         ],
         "xaxis": "x2",
         "y": [
          25.682954788208008,
          25.953838348388672,
          null
         ],
         "yaxis": "y2"
        },
        {
         "hoverinfo": "none",
         "line": {
          "color": "gray",
          "width": 1
         },
         "mode": "lines",
         "showlegend": false,
         "type": "scatter",
         "x": [
          15.47343921661377,
          16.017879486083984,
          null
         ],
         "xaxis": "x2",
         "y": [
          24.56098747253418,
          24.65528106689453,
          null
         ],
         "yaxis": "y2"
        },
        {
         "hoverinfo": "none",
         "line": {
          "color": "gray",
          "width": 1
         },
         "mode": "lines",
         "showlegend": false,
         "type": "scatter",
         "x": [
          16.114877700805664,
          16.017879486083984,
          null
         ],
         "xaxis": "x2",
         "y": [
          24.61121368408203,
          24.65528106689453,
          null
         ],
         "yaxis": "y2"
        },
        {
         "hoverinfo": "none",
         "line": {
          "color": "gray",
          "width": 1
         },
         "mode": "lines",
         "showlegend": false,
         "type": "scatter",
         "x": [
          15.137975692749023,
          15.292060852050781,
          null
         ],
         "xaxis": "x2",
         "y": [
          26.06161117553711,
          26.057388305664062,
          null
         ],
         "yaxis": "y2"
        },
        {
         "hoverinfo": "none",
         "line": {
          "color": "gray",
          "width": 1
         },
         "mode": "lines",
         "showlegend": false,
         "type": "scatter",
         "x": [
          15.137975692749023,
          15.406187057495117,
          null
         ],
         "xaxis": "x2",
         "y": [
          26.06161117553711,
          25.892412185668945,
          null
         ],
         "yaxis": "y2"
        },
        {
         "hoverinfo": "none",
         "line": {
          "color": "gray",
          "width": 1
         },
         "mode": "lines",
         "showlegend": false,
         "type": "scatter",
         "x": [
          15.137975692749023,
          15.685861587524414,
          null
         ],
         "xaxis": "x2",
         "y": [
          26.06161117553711,
          25.953838348388672,
          null
         ],
         "yaxis": "y2"
        },
        {
         "hoverinfo": "none",
         "line": {
          "color": "gray",
          "width": 1
         },
         "mode": "lines",
         "showlegend": false,
         "type": "scatter",
         "x": [
          15.137975692749023,
          14.66457462310791,
          null
         ],
         "xaxis": "x2",
         "y": [
          26.06161117553711,
          26.152273178100586,
          null
         ],
         "yaxis": "y2"
        },
        {
         "hoverinfo": "none",
         "line": {
          "color": "gray",
          "width": 1
         },
         "mode": "lines",
         "showlegend": false,
         "type": "scatter",
         "x": [
          16.024120330810547,
          16.057140350341797,
          null
         ],
         "xaxis": "x2",
         "y": [
          25.571704864501953,
          25.326587677001953,
          null
         ],
         "yaxis": "y2"
        },
        {
         "hoverinfo": "none",
         "line": {
          "color": "gray",
          "width": 1
         },
         "mode": "lines",
         "showlegend": false,
         "type": "scatter",
         "x": [
          16.024120330810547,
          15.685861587524414,
          null
         ],
         "xaxis": "x2",
         "y": [
          25.571704864501953,
          25.953838348388672,
          null
         ],
         "yaxis": "y2"
        },
        {
         "hoverinfo": "none",
         "line": {
          "color": "gray",
          "width": 1
         },
         "mode": "lines",
         "showlegend": false,
         "type": "scatter",
         "x": [
          15.292060852050781,
          15.685861587524414,
          null
         ],
         "xaxis": "x2",
         "y": [
          26.057388305664062,
          25.953838348388672,
          null
         ],
         "yaxis": "y2"
        },
        {
         "hoverinfo": "none",
         "line": {
          "color": "gray",
          "width": 1
         },
         "mode": "lines",
         "showlegend": false,
         "type": "scatter",
         "x": [
          15.406187057495117,
          15.90407657623291,
          null
         ],
         "xaxis": "x2",
         "y": [
          25.892412185668945,
          26.123125076293945,
          null
         ],
         "yaxis": "y2"
        },
        {
         "hoverinfo": "none",
         "line": {
          "color": "gray",
          "width": 1
         },
         "mode": "lines",
         "showlegend": false,
         "type": "scatter",
         "x": [
          15.406187057495117,
          15.685861587524414,
          null
         ],
         "xaxis": "x2",
         "y": [
          25.892412185668945,
          25.953838348388672,
          null
         ],
         "yaxis": "y2"
        },
        {
         "hoverinfo": "none",
         "line": {
          "color": "gray",
          "width": 1
         },
         "mode": "lines",
         "showlegend": false,
         "type": "scatter",
         "x": [
          15.90407657623291,
          15.685861587524414,
          null
         ],
         "xaxis": "x2",
         "y": [
          26.123125076293945,
          25.953838348388672,
          null
         ],
         "yaxis": "y2"
        },
        {
         "hoverinfo": "none",
         "line": {
          "color": "gray",
          "width": 1
         },
         "mode": "lines",
         "showlegend": false,
         "type": "scatter",
         "x": [
          12.985790252685547,
          13.151102066040039,
          null
         ],
         "xaxis": "x2",
         "y": [
          25.482351303100586,
          25.959421157836914,
          null
         ],
         "yaxis": "y2"
        },
        {
         "hoverinfo": "none",
         "line": {
          "color": "gray",
          "width": 1
         },
         "mode": "lines",
         "showlegend": false,
         "type": "scatter",
         "x": [
          12.985790252685547,
          12.917497634887695,
          null
         ],
         "xaxis": "x2",
         "y": [
          25.482351303100586,
          25.526226043701172,
          null
         ],
         "yaxis": "y2"
        },
        {
         "hoverinfo": "none",
         "line": {
          "color": "gray",
          "width": 1
         },
         "mode": "lines",
         "showlegend": false,
         "type": "scatter",
         "x": [
          13.151102066040039,
          12.594107627868652,
          null
         ],
         "xaxis": "x2",
         "y": [
          25.959421157836914,
          26.03948211669922,
          null
         ],
         "yaxis": "y2"
        },
        {
         "hoverinfo": "none",
         "line": {
          "color": "gray",
          "width": 1
         },
         "mode": "lines",
         "showlegend": false,
         "type": "scatter",
         "x": [
          13.934502601623535,
          13.970826148986816,
          null
         ],
         "xaxis": "x2",
         "y": [
          25.027257919311523,
          25.50810432434082,
          null
         ],
         "yaxis": "y2"
        },
        {
         "hoverinfo": "text",
         "hovertext": [
          "1282890977555839180",
          "1255908021842197930",
          "1364376551860961934",
          "1279218191310817247",
          "1316158964673335895",
          "725951699224906993",
          "1254303583045546955",
          "1315344706047362032",
          "1338690952348756006",
          "986342579444462399",
          "994392265836559354",
          "1170314793845437727",
          "1144449787453177593",
          "50637762",
          "1370475063168875041",
          "1279264133273765767",
          "1038158992459515932",
          "1060659586771911271",
          "995879788500033068",
          "1082092672297397383",
          "1117493870268287084",
          "1331317275345198410",
          "1345885220314300035",
          "1252955190460839164",
          "807287853103474314",
          "1003680480548024835",
          "1101521186410665163",
          "1126871837482680826",
          "911113843317991706",
          "878352430199000952",
          "1216205629459955503",
          "1152493881820384873",
          "1317428120714655677",
          "823224593312108874",
          "802873898143599598",
          "985588880340118836",
          "846281101302571252",
          "1073830324762676707",
          "1291369680799235048",
          "1291386342035446932",
          "1291348254945757857",
          "1284922899449149869",
          "1300846874190721949",
          "1178368806182581245",
          "1354503288606231731",
          "839283791724610443",
          "852322227051781578",
          "852836475894493606",
          "852998646126710254",
          "928953902518668812",
          "853430725018525635",
          "865741394178687754",
          "1065446126459762366",
          "865494322261178427",
          "852722227526718255",
          "852423984035352397",
          "852707152905312617",
          "852764754959774056",
          "865501138503964861",
          "865484469517762048",
          "852958133808719190",
          "958267722202025656",
          "878789244081373209",
          "852846097719499069",
          "852947489018010555",
          "865417719613815681",
          "865433093370851067",
          "865505131391284959",
          "929051174009268462",
          "1229800644222284211",
          "890771974735264612",
          "897405006229683800",
          "943495681388968810",
          "982475106451734664",
          "982475113924685879",
          "1061083288618779943",
          "1131261936147332933",
          "1061118933427624758",
          "1374717540319611164"
         ],
         "marker": {
          "cmax": 125,
          "cmin": 40,
          "color": {
           "bdata": "AAAAAADAV0AAAAAAAABZQAAAAAAAwFBAAAAAAABAVkAAAAAAAIBZQAAAAAAAQF9AAAAAAADAVUAAAAAAAEBTQAAAAAAAQFRAAAAAAAAAW0AAAAAAAABTQAAAAAAAwFdAAAAAAABgYkA9CtejcB1TQAAAAAAAQF5AAAAAAACAX0AAAAAAAABPQAAAAAAAQFBASOF6FK6HVEAAAAAAAABSQAAAAAAAgFZAAAAAAADAUkAAAAAAAEBVQAAAAAAAQFVAAAAAAACATkAAAAAAAMBRQAAAAAAAgFhAAAAAAADAWEAAAAAAAIBVQAAAAAAAQFlAAAAAAABAV0AAAAAAAEBTQAAAAAAAwFhAAAAAAABAVEAAAAAAAMBVQAAAAAAAYGBAAAAAAABAU0BmZmZmZmZXQAAAAAAAQFJAAAAAAABAUkC4HoXrUdhVQAAAAAAAQFlAAAAAAACAWEAAAAAAAMBRQAAAAAAAQFhAAAAAAACAXkAAAAAAAEBXQAAAAAAAgFhAAAAAAABAUkAAAAAAAEBVQAAAAAAAwFlAAAAAAADAUUAAAAAAAEBVQAAAAAAAAFNAAAAAAACAW0AAAAAAAMBUQAAAAAAAQFdAAAAAAABAV0AAAAAAAIBTQAAAAAAAwFFAAAAAAABAWkAAAAAAAEBTQAAAAAAAQFpAAAAAAAAAWkAAAAAAAEBbQAAAAAAAwGdAAAAAAADAUUAAAAAAAMBRQAAAAAAAAF1AAAAAAADAVkAAAAAAAABWQAAAAAAAAFhAAAAAAAAAWUAAAAAAAABbQAAAAAAAAFhAFK5H4XpUVkB7FK5H4RpdQAAAAAAAQFhAAAAAAACAUkA=",
           "dtype": "f8"
          },
          "colorbar": {
           "title": {
            "text": "Base fee"
           }
          },
          "colorscale": [
           [
            0,
            "rgb(241, 236, 236)"
           ],
           [
            0.09090909090909091,
            "rgb(230, 209, 203)"
           ],
           [
            0.18181818181818182,
            "rgb(221, 182, 170)"
           ],
           [
            0.2727272727272727,
            "rgb(213, 156, 137)"
           ],
           [
            0.36363636363636365,
            "rgb(205, 129, 103)"
           ],
           [
            0.45454545454545453,
            "rgb(196, 102, 73)"
           ],
           [
            0.5454545454545454,
            "rgb(186, 74, 47)"
           ],
           [
            0.6363636363636364,
            "rgb(172, 44, 36)"
           ],
           [
            0.7272727272727273,
            "rgb(149, 19, 39)"
           ],
           [
            0.8181818181818182,
            "rgb(120, 14, 40)"
           ],
           [
            0.9090909090909091,
            "rgb(89, 13, 31)"
           ],
           [
            1,
            "rgb(60, 9, 17)"
           ]
          ],
          "showscale": true,
          "size": 6
         },
         "mode": "markers",
         "showlegend": false,
         "type": "scatter",
         "x": {
          "bdata": "DRuBQd+EQkFJjIBBlLJ9QaO2eUEOYV1BlKR6QZk3TkHySIJB2AJ2QRIQYkFq431B7mJSQfTDU0EqclZB6RFEQWEXQkElSj9BbBRmQR27VEGe01xBW25OQe9LUkF+iFtB3rtrQftVeEG3hnBBOVlrQXOadkHWJ3dBQ+JmQSbaSkEeK11B9r5cQWozVUGjHIFB9yp/QcLrV0FQpERBzJpAQc4BQkFUAnBB0WpRQb3UdEEG70pBzMR8QWJVeEGYbHlBieeAQR/afEHfR39Bm6Z9QduVcEFcwXFBcWCBQbFseUGPx3VBW+R6QTWTd0FF64BBJjVyQWYxgEFIrHRBBnWAQb5/dkEZd35BniSAQetKcEFK+XpBD01eQczFT0HqalJBd4FJQRmiakG5815BgYhfQYqzQUESrk5BupxKQQ==",
          "dtype": "f4"
         },
         "xaxis": "x2",
         "y": {
          "bdata": "RmPOQVl21EH3o8tBn93MQakd0UHnUNBBwvnNQall0UHQp85B6UnNQadfzkHszs5B6MbQQboC1EGFT9ZBrgfQQW6/0EFeJNVBjgzNQf6Ry0Ep1tVBOv3WQVlS1kHBEdNBgEPHQbpv0UG8xNBBapfOQb4W1EFWAdNBxNvUQaMA00HreNdB4YfMQVy60EFNqMtB+R3QQRnpzkHJktVBF9rXQfcm1kGq/dNBCCDPQYgExUFsF9ZBtQfTQSiKykH5acdB7jvGQdr+yUHhmc1BGHDHQYf+y0F4ksZB2VrIQfFCy0FUmMpBsXbNQed8xEHE48RBLn7QQdqSzEGIddBB2pzKQakjz0Ep/NBBBD7FQc3Nx0F2oc9BvFLSQdvby0HlrM9B3FDQQds30UHTN8hBmRDMQVI70kG2NcxBk4bUQQ==",
          "dtype": "f4"
         },
         "yaxis": "y2"
        },
        {
         "hoverinfo": "none",
         "line": {
          "color": "gray",
          "width": 1
         },
         "mode": "lines",
         "showlegend": false,
         "type": "scatter",
         "x": [
          2.2051148414611816,
          2.369377613067627,
          null
         ],
         "xaxis": "x3",
         "y": [
          25.798473358154297,
          25.455060958862305,
          null
         ],
         "yaxis": "y3"
        },
        {
         "hoverinfo": "none",
         "line": {
          "color": "gray",
          "width": 1
         },
         "mode": "lines",
         "showlegend": false,
         "type": "scatter",
         "x": [
          2.2051148414611816,
          2.073357105255127,
          null
         ],
         "xaxis": "x3",
         "y": [
          25.798473358154297,
          25.608213424682617,
          null
         ],
         "yaxis": "y3"
        },
        {
         "hoverinfo": "none",
         "line": {
          "color": "gray",
          "width": 1
         },
         "mode": "lines",
         "showlegend": false,
         "type": "scatter",
         "x": [
          2.2051148414611816,
          1.9649934768676758,
          null
         ],
         "xaxis": "x3",
         "y": [
          25.798473358154297,
          25.746952056884766,
          null
         ],
         "yaxis": "y3"
        },
        {
         "hoverinfo": "none",
         "line": {
          "color": "gray",
          "width": 1
         },
         "mode": "lines",
         "showlegend": false,
         "type": "scatter",
         "x": [
          2.2051148414611816,
          2.6654276847839355,
          null
         ],
         "xaxis": "x3",
         "y": [
          25.798473358154297,
          25.831939697265625,
          null
         ],
         "yaxis": "y3"
        },
        {
         "hoverinfo": "none",
         "line": {
          "color": "gray",
          "width": 1
         },
         "mode": "lines",
         "showlegend": false,
         "type": "scatter",
         "x": [
          2.2051148414611816,
          2.4072930812835693,
          null
         ],
         "xaxis": "x3",
         "y": [
          25.798473358154297,
          25.851036071777344,
          null
         ],
         "yaxis": "y3"
        },
        {
         "hoverinfo": "none",
         "line": {
          "color": "gray",
          "width": 1
         },
         "mode": "lines",
         "showlegend": false,
         "type": "scatter",
         "x": [
          3.0596542358398438,
          2.8816325664520264,
          null
         ],
         "xaxis": "x3",
         "y": [
          26.55778694152832,
          26.00374984741211,
          null
         ],
         "yaxis": "y3"
        },
        {
         "hoverinfo": "none",
         "line": {
          "color": "gray",
          "width": 1
         },
         "mode": "lines",
         "showlegend": false,
         "type": "scatter",
         "x": [
          3.0596542358398438,
          2.644026517868042,
          null
         ],
         "xaxis": "x3",
         "y": [
          26.55778694152832,
          26.642757415771484,
          null
         ],
         "yaxis": "y3"
        },
        {
         "hoverinfo": "none",
         "line": {
          "color": "gray",
          "width": 1
         },
         "mode": "lines",
         "showlegend": false,
         "type": "scatter",
         "x": [
          3.0596542358398438,
          2.5310516357421875,
          null
         ],
         "xaxis": "x3",
         "y": [
          26.55778694152832,
          26.696672439575195,
          null
         ],
         "yaxis": "y3"
        },
        {
         "hoverinfo": "none",
         "line": {
          "color": "gray",
          "width": 1
         },
         "mode": "lines",
         "showlegend": false,
         "type": "scatter",
         "x": [
          3.0596542358398438,
          2.7387123107910156,
          null
         ],
         "xaxis": "x3",
         "y": [
          26.55778694152832,
          26.981489181518555,
          null
         ],
         "yaxis": "y3"
        },
        {
         "hoverinfo": "none",
         "line": {
          "color": "gray",
          "width": 1
         },
         "mode": "lines",
         "showlegend": false,
         "type": "scatter",
         "x": [
          3.0596542358398438,
          3.015486478805542,
          null
         ],
         "xaxis": "x3",
         "y": [
          26.55778694152832,
          26.769025802612305,
          null
         ],
         "yaxis": "y3"
        },
        {
         "hoverinfo": "none",
         "line": {
          "color": "gray",
          "width": 1
         },
         "mode": "lines",
         "showlegend": false,
         "type": "scatter",
         "x": [
          3.0596542358398438,
          3.092977285385132,
          null
         ],
         "xaxis": "x3",
         "y": [
          26.55778694152832,
          26.27896499633789,
          null
         ],
         "yaxis": "y3"
        },
        {
         "hoverinfo": "none",
         "line": {
          "color": "gray",
          "width": 1
         },
         "mode": "lines",
         "showlegend": false,
         "type": "scatter",
         "x": [
          2.369377613067627,
          2.073357105255127,
          null
         ],
         "xaxis": "x3",
         "y": [
          25.455060958862305,
          25.608213424682617,
          null
         ],
         "yaxis": "y3"
        },
        {
         "hoverinfo": "none",
         "line": {
          "color": "gray",
          "width": 1
         },
         "mode": "lines",
         "showlegend": false,
         "type": "scatter",
         "x": [
          2.369377613067627,
          2.6654276847839355,
          null
         ],
         "xaxis": "x3",
         "y": [
          25.455060958862305,
          25.831939697265625,
          null
         ],
         "yaxis": "y3"
        },
        {
         "hoverinfo": "none",
         "line": {
          "color": "gray",
          "width": 1
         },
         "mode": "lines",
         "showlegend": false,
         "type": "scatter",
         "x": [
          2.369377613067627,
          2.4072930812835693,
          null
         ],
         "xaxis": "x3",
         "y": [
          25.455060958862305,
          25.851036071777344,
          null
         ],
         "yaxis": "y3"
        },
        {
         "hoverinfo": "none",
         "line": {
          "color": "gray",
          "width": 1
         },
         "mode": "lines",
         "showlegend": false,
         "type": "scatter",
         "x": [
          2.369377613067627,
          2.7701735496520996,
          null
         ],
         "xaxis": "x3",
         "y": [
          25.455060958862305,
          25.457178115844727,
          null
         ],
         "yaxis": "y3"
        },
        {
         "hoverinfo": "none",
         "line": {
          "color": "gray",
          "width": 1
         },
         "mode": "lines",
         "showlegend": false,
         "type": "scatter",
         "x": [
          2.073357105255127,
          1.9649934768676758,
          null
         ],
         "xaxis": "x3",
         "y": [
          25.608213424682617,
          25.746952056884766,
          null
         ],
         "yaxis": "y3"
        },
        {
         "hoverinfo": "none",
         "line": {
          "color": "gray",
          "width": 1
         },
         "mode": "lines",
         "showlegend": false,
         "type": "scatter",
         "x": [
          2.073357105255127,
          2.4072930812835693,
          null
         ],
         "xaxis": "x3",
         "y": [
          25.608213424682617,
          25.851036071777344,
          null
         ],
         "yaxis": "y3"
        },
        {
         "hoverinfo": "none",
         "line": {
          "color": "gray",
          "width": 1
         },
         "mode": "lines",
         "showlegend": false,
         "type": "scatter",
         "x": [
          2.3330788612365723,
          1.9649934768676758,
          null
         ],
         "xaxis": "x3",
         "y": [
          26.139482498168945,
          25.746952056884766,
          null
         ],
         "yaxis": "y3"
        },
        {
         "hoverinfo": "none",
         "line": {
          "color": "gray",
          "width": 1
         },
         "mode": "lines",
         "showlegend": false,
         "type": "scatter",
         "x": [
          2.3330788612365723,
          2.4072930812835693,
          null
         ],
         "xaxis": "x3",
         "y": [
          26.139482498168945,
          25.851036071777344,
          null
         ],
         "yaxis": "y3"
        },
        {
         "hoverinfo": "none",
         "line": {
          "color": "gray",
          "width": 1
         },
         "mode": "lines",
         "showlegend": false,
         "type": "scatter",
         "x": [
          2.3330788612365723,
          2.73215913772583,
          null
         ],
         "xaxis": "x3",
         "y": [
          26.139482498168945,
          26.01463508605957,
          null
         ],
         "yaxis": "y3"
        },
        {
         "hoverinfo": "none",
         "line": {
          "color": "gray",
          "width": 1
         },
         "mode": "lines",
         "showlegend": false,
         "type": "scatter",
         "x": [
          2.7505178451538086,
          2.4799160957336426,
          null
         ],
         "xaxis": "x3",
         "y": [
          26.03950309753418,
          26.383668899536133,
          null
         ],
         "yaxis": "y3"
        },
        {
         "hoverinfo": "none",
         "line": {
          "color": "gray",
          "width": 1
         },
         "mode": "lines",
         "showlegend": false,
         "type": "scatter",
         "x": [
          2.7505178451538086,
          3.062056064605713,
          null
         ],
         "xaxis": "x3",
         "y": [
          26.03950309753418,
          25.566347122192383,
          null
         ],
         "yaxis": "y3"
        },
        {
         "hoverinfo": "none",
         "line": {
          "color": "gray",
          "width": 1
         },
         "mode": "lines",
         "showlegend": false,
         "type": "scatter",
         "x": [
          2.7505178451538086,
          3.190128803253174,
          null
         ],
         "xaxis": "x3",
         "y": [
          26.03950309753418,
          26.29039764404297,
          null
         ],
         "yaxis": "y3"
        },
        {
         "hoverinfo": "none",
         "line": {
          "color": "gray",
          "width": 1
         },
         "mode": "lines",
         "showlegend": false,
         "type": "scatter",
         "x": [
          2.7505178451538086,
          2.509368896484375,
          null
         ],
         "xaxis": "x3",
         "y": [
          26.03950309753418,
          25.50810432434082,
          null
         ],
         "yaxis": "y3"
        },
        {
         "hoverinfo": "none",
         "line": {
          "color": "gray",
          "width": 1
         },
         "mode": "lines",
         "showlegend": false,
         "type": "scatter",
         "x": [
          1.9649934768676758,
          2.4072930812835693,
          null
         ],
         "xaxis": "x3",
         "y": [
          25.746952056884766,
          25.851036071777344,
          null
         ],
         "yaxis": "y3"
        },
        {
         "hoverinfo": "none",
         "line": {
          "color": "gray",
          "width": 1
         },
         "mode": "lines",
         "showlegend": false,
         "type": "scatter",
         "x": [
          2.4653515815734863,
          2.599472999572754,
          null
         ],
         "xaxis": "x3",
         "y": [
          26.174638748168945,
          26.097122192382812,
          null
         ],
         "yaxis": "y3"
        },
        {
         "hoverinfo": "none",
         "line": {
          "color": "gray",
          "width": 1
         },
         "mode": "lines",
         "showlegend": false,
         "type": "scatter",
         "x": [
          2.4653515815734863,
          2.2918524742126465,
          null
         ],
         "xaxis": "x3",
         "y": [
          26.174638748168945,
          26.37531089782715,
          null
         ],
         "yaxis": "y3"
        },
        {
         "hoverinfo": "none",
         "line": {
          "color": "gray",
          "width": 1
         },
         "mode": "lines",
         "showlegend": false,
         "type": "scatter",
         "x": [
          2.4653515815734863,
          2.6263482570648193,
          null
         ],
         "xaxis": "x3",
         "y": [
          26.174638748168945,
          26.565710067749023,
          null
         ],
         "yaxis": "y3"
        },
        {
         "hoverinfo": "none",
         "line": {
          "color": "gray",
          "width": 1
         },
         "mode": "lines",
         "showlegend": false,
         "type": "scatter",
         "x": [
          2.6654276847839355,
          2.4072930812835693,
          null
         ],
         "xaxis": "x3",
         "y": [
          25.831939697265625,
          25.851036071777344,
          null
         ],
         "yaxis": "y3"
        },
        {
         "hoverinfo": "none",
         "line": {
          "color": "gray",
          "width": 1
         },
         "mode": "lines",
         "showlegend": false,
         "type": "scatter",
         "x": [
          2.6654276847839355,
          2.7701735496520996,
          null
         ],
         "xaxis": "x3",
         "y": [
          25.831939697265625,
          25.457178115844727,
          null
         ],
         "yaxis": "y3"
        },
        {
         "hoverinfo": "none",
         "line": {
          "color": "gray",
          "width": 1
         },
         "mode": "lines",
         "showlegend": false,
         "type": "scatter",
         "x": [
          2.6654276847839355,
          2.73215913772583,
          null
         ],
         "xaxis": "x3",
         "y": [
          25.831939697265625,
          26.01463508605957,
          null
         ],
         "yaxis": "y3"
        },
        {
         "hoverinfo": "none",
         "line": {
          "color": "gray",
          "width": 1
         },
         "mode": "lines",
         "showlegend": false,
         "type": "scatter",
         "x": [
          3.102842330932617,
          3.1968648433685303,
          null
         ],
         "xaxis": "x3",
         "y": [
          25.661088943481445,
          26.179553985595703,
          null
         ],
         "yaxis": "y3"
        },
        {
         "hoverinfo": "none",
         "line": {
          "color": "gray",
          "width": 1
         },
         "mode": "lines",
         "showlegend": false,
         "type": "scatter",
         "x": [
          2.231253147125244,
          2.4932076930999756,
          null
         ],
         "xaxis": "x3",
         "y": [
          25.79670524597168,
          25.63113021850586,
          null
         ],
         "yaxis": "y3"
        },
        {
         "hoverinfo": "none",
         "line": {
          "color": "gray",
          "width": 1
         },
         "mode": "lines",
         "showlegend": false,
         "type": "scatter",
         "x": [
          2.231253147125244,
          2.509368896484375,
          null
         ],
         "xaxis": "x3",
         "y": [
          25.79670524597168,
          25.50810432434082,
          null
         ],
         "yaxis": "y3"
        },
        {
         "hoverinfo": "none",
         "line": {
          "color": "gray",
          "width": 1
         },
         "mode": "lines",
         "showlegend": false,
         "type": "scatter",
         "x": [
          2.4072930812835693,
          2.73215913772583,
          null
         ],
         "xaxis": "x3",
         "y": [
          25.851036071777344,
          26.01463508605957,
          null
         ],
         "yaxis": "y3"
        },
        {
         "hoverinfo": "none",
         "line": {
          "color": "gray",
          "width": 1
         },
         "mode": "lines",
         "showlegend": false,
         "type": "scatter",
         "x": [
          2.599472999572754,
          3.1116368770599365,
          null
         ],
         "xaxis": "x3",
         "y": [
          26.097122192382812,
          25.890640258789062,
          null
         ],
         "yaxis": "y3"
        },
        {
         "hoverinfo": "none",
         "line": {
          "color": "gray",
          "width": 1
         },
         "mode": "lines",
         "showlegend": false,
         "type": "scatter",
         "x": [
          3.453808307647705,
          3.437163829803467,
          null
         ],
         "xaxis": "x3",
         "y": [
          26.501331329345703,
          25.959421157836914,
          null
         ],
         "yaxis": "y3"
        },
        {
         "hoverinfo": "none",
         "line": {
          "color": "gray",
          "width": 1
         },
         "mode": "lines",
         "showlegend": false,
         "type": "scatter",
         "x": [
          2.3595194816589355,
          2.7836971282958984,
          null
         ],
         "xaxis": "x3",
         "y": [
          26.788827896118164,
          26.79020881652832,
          null
         ],
         "yaxis": "y3"
        },
        {
         "hoverinfo": "none",
         "line": {
          "color": "gray",
          "width": 1
         },
         "mode": "lines",
         "showlegend": false,
         "type": "scatter",
         "x": [
          2.3595194816589355,
          2.4799160957336426,
          null
         ],
         "xaxis": "x3",
         "y": [
          26.788827896118164,
          26.383668899536133,
          null
         ],
         "yaxis": "y3"
        },
        {
         "hoverinfo": "none",
         "line": {
          "color": "gray",
          "width": 1
         },
         "mode": "lines",
         "showlegend": false,
         "type": "scatter",
         "x": [
          2.3595194816589355,
          2.5596189498901367,
          null
         ],
         "xaxis": "x3",
         "y": [
          26.788827896118164,
          26.93404197692871,
          null
         ],
         "yaxis": "y3"
        },
        {
         "hoverinfo": "none",
         "line": {
          "color": "gray",
          "width": 1
         },
         "mode": "lines",
         "showlegend": false,
         "type": "scatter",
         "x": [
          2.8816325664520264,
          2.5643606185913086,
          null
         ],
         "xaxis": "x3",
         "y": [
          26.00374984741211,
          26.09347152709961,
          null
         ],
         "yaxis": "y3"
        },
        {
         "hoverinfo": "none",
         "line": {
          "color": "gray",
          "width": 1
         },
         "mode": "lines",
         "showlegend": false,
         "type": "scatter",
         "x": [
          2.8816325664520264,
          3.092977285385132,
          null
         ],
         "xaxis": "x3",
         "y": [
          26.00374984741211,
          26.27896499633789,
          null
         ],
         "yaxis": "y3"
        },
        {
         "hoverinfo": "none",
         "line": {
          "color": "gray",
          "width": 1
         },
         "mode": "lines",
         "showlegend": false,
         "type": "scatter",
         "x": [
          2.5643606185913086,
          2.644026517868042,
          null
         ],
         "xaxis": "x3",
         "y": [
          26.09347152709961,
          26.642757415771484,
          null
         ],
         "yaxis": "y3"
        },
        {
         "hoverinfo": "none",
         "line": {
          "color": "gray",
          "width": 1
         },
         "mode": "lines",
         "showlegend": false,
         "type": "scatter",
         "x": [
          2.5643606185913086,
          3.092977285385132,
          null
         ],
         "xaxis": "x3",
         "y": [
          26.09347152709961,
          26.27896499633789,
          null
         ],
         "yaxis": "y3"
        },
        {
         "hoverinfo": "none",
         "line": {
          "color": "gray",
          "width": 1
         },
         "mode": "lines",
         "showlegend": false,
         "type": "scatter",
         "x": [
          2.644026517868042,
          2.5310516357421875,
          null
         ],
         "xaxis": "x3",
         "y": [
          26.642757415771484,
          26.696672439575195,
          null
         ],
         "yaxis": "y3"
        },
        {
         "hoverinfo": "none",
         "line": {
          "color": "gray",
          "width": 1
         },
         "mode": "lines",
         "showlegend": false,
         "type": "scatter",
         "x": [
          2.644026517868042,
          2.7387123107910156,
          null
         ],
         "xaxis": "x3",
         "y": [
          26.642757415771484,
          26.981489181518555,
          null
         ],
         "yaxis": "y3"
        },
        {
         "hoverinfo": "none",
         "line": {
          "color": "gray",
          "width": 1
         },
         "mode": "lines",
         "showlegend": false,
         "type": "scatter",
         "x": [
          2.644026517868042,
          3.015486478805542,
          null
         ],
         "xaxis": "x3",
         "y": [
          26.642757415771484,
          26.769025802612305,
          null
         ],
         "yaxis": "y3"
        },
        {
         "hoverinfo": "none",
         "line": {
          "color": "gray",
          "width": 1
         },
         "mode": "lines",
         "showlegend": false,
         "type": "scatter",
         "x": [
          2.644026517868042,
          3.092977285385132,
          null
         ],
         "xaxis": "x3",
         "y": [
          26.642757415771484,
          26.27896499633789,
          null
         ],
         "yaxis": "y3"
        },
        {
         "hoverinfo": "none",
         "line": {
          "color": "gray",
          "width": 1
         },
         "mode": "lines",
         "showlegend": false,
         "type": "scatter",
         "x": [
          2.4932076930999756,
          2.467365264892578,
          null
         ],
         "xaxis": "x3",
         "y": [
          25.63113021850586,
          25.823932647705078,
          null
         ],
         "yaxis": "y3"
        },
        {
         "hoverinfo": "none",
         "line": {
          "color": "gray",
          "width": 1
         },
         "mode": "lines",
         "showlegend": false,
         "type": "scatter",
         "x": [
          2.4932076930999756,
          2.509368896484375,
          null
         ],
         "xaxis": "x3",
         "y": [
          25.63113021850586,
          25.50810432434082,
          null
         ],
         "yaxis": "y3"
        },
        {
         "hoverinfo": "none",
         "line": {
          "color": "gray",
          "width": 1
         },
         "mode": "lines",
         "showlegend": false,
         "type": "scatter",
         "x": [
          2.8416807651519775,
          3.062056064605713,
          null
         ],
         "xaxis": "x3",
         "y": [
          25.446285247802734,
          25.566347122192383,
          null
         ],
         "yaxis": "y3"
        },
        {
         "hoverinfo": "none",
         "line": {
          "color": "gray",
          "width": 1
         },
         "mode": "lines",
         "showlegend": false,
         "type": "scatter",
         "x": [
          2.8416807651519775,
          3.1116368770599365,
          null
         ],
         "xaxis": "x3",
         "y": [
          25.446285247802734,
          25.890640258789062,
          null
         ],
         "yaxis": "y3"
        },
        {
         "hoverinfo": "none",
         "line": {
          "color": "gray",
          "width": 1
         },
         "mode": "lines",
         "showlegend": false,
         "type": "scatter",
         "x": [
          2.8416807651519775,
          3.240701198577881,
          null
         ],
         "xaxis": "x3",
         "y": [
          25.446285247802734,
          25.482351303100586,
          null
         ],
         "yaxis": "y3"
        },
        {
         "hoverinfo": "none",
         "line": {
          "color": "gray",
          "width": 1
         },
         "mode": "lines",
         "showlegend": false,
         "type": "scatter",
         "x": [
          2.8416807651519775,
          2.717097043991089,
          null
         ],
         "xaxis": "x3",
         "y": [
          25.446285247802734,
          25.526226043701172,
          null
         ],
         "yaxis": "y3"
        },
        {
         "hoverinfo": "none",
         "line": {
          "color": "gray",
          "width": 1
         },
         "mode": "lines",
         "showlegend": false,
         "type": "scatter",
         "x": [
          2.9154086112976074,
          2.4799160957336426,
          null
         ],
         "xaxis": "x3",
         "y": [
          26.729570388793945,
          26.383668899536133,
          null
         ],
         "yaxis": "y3"
        },
        {
         "hoverinfo": "none",
         "line": {
          "color": "gray",
          "width": 1
         },
         "mode": "lines",
         "showlegend": false,
         "type": "scatter",
         "x": [
          2.9154086112976074,
          2.5596189498901367,
          null
         ],
         "xaxis": "x3",
         "y": [
          26.729570388793945,
          26.93404197692871,
          null
         ],
         "yaxis": "y3"
        },
        {
         "hoverinfo": "none",
         "line": {
          "color": "gray",
          "width": 1
         },
         "mode": "lines",
         "showlegend": false,
         "type": "scatter",
         "x": [
          2.9154086112976074,
          3.190128803253174,
          null
         ],
         "xaxis": "x3",
         "y": [
          26.729570388793945,
          26.29039764404297,
          null
         ],
         "yaxis": "y3"
        },
        {
         "hoverinfo": "none",
         "line": {
          "color": "gray",
          "width": 1
         },
         "mode": "lines",
         "showlegend": false,
         "type": "scatter",
         "x": [
          2.999077081680298,
          2.7836971282958984,
          null
         ],
         "xaxis": "x3",
         "y": [
          26.873645782470703,
          26.79020881652832,
          null
         ],
         "yaxis": "y3"
        },
        {
         "hoverinfo": "none",
         "line": {
          "color": "gray",
          "width": 1
         },
         "mode": "lines",
         "showlegend": false,
         "type": "scatter",
         "x": [
          2.999077081680298,
          2.6263482570648193,
          null
         ],
         "xaxis": "x3",
         "y": [
          26.873645782470703,
          26.565710067749023,
          null
         ],
         "yaxis": "y3"
        },
        {
         "hoverinfo": "none",
         "line": {
          "color": "gray",
          "width": 1
         },
         "mode": "lines",
         "showlegend": false,
         "type": "scatter",
         "x": [
          2.7836971282958984,
          2.6263482570648193,
          null
         ],
         "xaxis": "x3",
         "y": [
          26.79020881652832,
          26.565710067749023,
          null
         ],
         "yaxis": "y3"
        },
        {
         "hoverinfo": "none",
         "line": {
          "color": "gray",
          "width": 1
         },
         "mode": "lines",
         "showlegend": false,
         "type": "scatter",
         "x": [
          2.4799160957336426,
          2.5596189498901367,
          null
         ],
         "xaxis": "x3",
         "y": [
          26.383668899536133,
          26.93404197692871,
          null
         ],
         "yaxis": "y3"
        },
        {
         "hoverinfo": "none",
         "line": {
          "color": "gray",
          "width": 1
         },
         "mode": "lines",
         "showlegend": false,
         "type": "scatter",
         "x": [
          3.1968648433685303,
          3.4614861011505127,
          null
         ],
         "xaxis": "x3",
         "y": [
          26.179553985595703,
          26.511104583740234,
          null
         ],
         "yaxis": "y3"
        },
        {
         "hoverinfo": "none",
         "line": {
          "color": "gray",
          "width": 1
         },
         "mode": "lines",
         "showlegend": false,
         "type": "scatter",
         "x": [
          2.8201053142547607,
          2.467365264892578,
          null
         ],
         "xaxis": "x3",
         "y": [
          26.09606170654297,
          25.823932647705078,
          null
         ],
         "yaxis": "y3"
        },
        {
         "hoverinfo": "none",
         "line": {
          "color": "gray",
          "width": 1
         },
         "mode": "lines",
         "showlegend": false,
         "type": "scatter",
         "x": [
          3.4614861011505127,
          3.6391336917877197,
          null
         ],
         "xaxis": "x3",
         "y": [
          26.511104583740234,
          26.498859405517578,
          null
         ],
         "yaxis": "y3"
        },
        {
         "hoverinfo": "none",
         "line": {
          "color": "gray",
          "width": 1
         },
         "mode": "lines",
         "showlegend": false,
         "type": "scatter",
         "x": [
          4.237733364105225,
          4.133271217346191,
          null
         ],
         "xaxis": "x3",
         "y": [
          26.375652313232422,
          26.37876319885254,
          null
         ],
         "yaxis": "y3"
        },
        {
         "hoverinfo": "none",
         "line": {
          "color": "gray",
          "width": 1
         },
         "mode": "lines",
         "showlegend": false,
         "type": "scatter",
         "x": [
          4.237733364105225,
          4.421077251434326,
          null
         ],
         "xaxis": "x3",
         "y": [
          26.375652313232422,
          26.06161117553711,
          null
         ],
         "yaxis": "y3"
        },
        {
         "hoverinfo": "none",
         "line": {
          "color": "gray",
          "width": 1
         },
         "mode": "lines",
         "showlegend": false,
         "type": "scatter",
         "x": [
          4.237733364105225,
          4.021561622619629,
          null
         ],
         "xaxis": "x3",
         "y": [
          26.375652313232422,
          26.057388305664062,
          null
         ],
         "yaxis": "y3"
        },
        {
         "hoverinfo": "none",
         "line": {
          "color": "gray",
          "width": 1
         },
         "mode": "lines",
         "showlegend": false,
         "type": "scatter",
         "x": [
          4.237733364105225,
          4.3434224128723145,
          null
         ],
         "xaxis": "x3",
         "y": [
          26.375652313232422,
          25.953838348388672,
          null
         ],
         "yaxis": "y3"
        },
        {
         "hoverinfo": "none",
         "line": {
          "color": "gray",
          "width": 1
         },
         "mode": "lines",
         "showlegend": false,
         "type": "scatter",
         "x": [
          2.2918524742126465,
          2.5310516357421875,
          null
         ],
         "xaxis": "x3",
         "y": [
          26.37531089782715,
          26.696672439575195,
          null
         ],
         "yaxis": "y3"
        },
        {
         "hoverinfo": "none",
         "line": {
          "color": "gray",
          "width": 1
         },
         "mode": "lines",
         "showlegend": false,
         "type": "scatter",
         "x": [
          2.2918524742126465,
          2.2097578048706055,
          null
         ],
         "xaxis": "x3",
         "y": [
          26.37531089782715,
          26.761436462402344,
          null
         ],
         "yaxis": "y3"
        },
        {
         "hoverinfo": "none",
         "line": {
          "color": "gray",
          "width": 1
         },
         "mode": "lines",
         "showlegend": false,
         "type": "scatter",
         "x": [
          2.2918524742126465,
          2.6263482570648193,
          null
         ],
         "xaxis": "x3",
         "y": [
          26.37531089782715,
          26.565710067749023,
          null
         ],
         "yaxis": "y3"
        },
        {
         "hoverinfo": "none",
         "line": {
          "color": "gray",
          "width": 1
         },
         "mode": "lines",
         "showlegend": false,
         "type": "scatter",
         "x": [
          3.062056064605713,
          2.509368896484375,
          null
         ],
         "xaxis": "x3",
         "y": [
          25.566347122192383,
          25.50810432434082,
          null
         ],
         "yaxis": "y3"
        },
        {
         "hoverinfo": "none",
         "line": {
          "color": "gray",
          "width": 1
         },
         "mode": "lines",
         "showlegend": false,
         "type": "scatter",
         "x": [
          3.9445645809173584,
          3.689070224761963,
          null
         ],
         "xaxis": "x3",
         "y": [
          26.09099578857422,
          25.86381721496582,
          null
         ],
         "yaxis": "y3"
        },
        {
         "hoverinfo": "none",
         "line": {
          "color": "gray",
          "width": 1
         },
         "mode": "lines",
         "showlegend": false,
         "type": "scatter",
         "x": [
          3.9445645809173584,
          3.437163829803467,
          null
         ],
         "xaxis": "x3",
         "y": [
          26.09099578857422,
          25.959421157836914,
          null
         ],
         "yaxis": "y3"
        },
        {
         "hoverinfo": "none",
         "line": {
          "color": "gray",
          "width": 1
         },
         "mode": "lines",
         "showlegend": false,
         "type": "scatter",
         "x": [
          2.7701735496520996,
          2.73215913772583,
          null
         ],
         "xaxis": "x3",
         "y": [
          25.457178115844727,
          26.01463508605957,
          null
         ],
         "yaxis": "y3"
        },
        {
         "hoverinfo": "none",
         "line": {
          "color": "gray",
          "width": 1
         },
         "mode": "lines",
         "showlegend": false,
         "type": "scatter",
         "x": [
          3.689070224761963,
          3.437163829803467,
          null
         ],
         "xaxis": "x3",
         "y": [
          25.86381721496582,
          25.959421157836914,
          null
         ],
         "yaxis": "y3"
        },
        {
         "hoverinfo": "none",
         "line": {
          "color": "gray",
          "width": 1
         },
         "mode": "lines",
         "showlegend": false,
         "type": "scatter",
         "x": [
          2.5310516357421875,
          2.7387123107910156,
          null
         ],
         "xaxis": "x3",
         "y": [
          26.696672439575195,
          26.981489181518555,
          null
         ],
         "yaxis": "y3"
        },
        {
         "hoverinfo": "none",
         "line": {
          "color": "gray",
          "width": 1
         },
         "mode": "lines",
         "showlegend": false,
         "type": "scatter",
         "x": [
          2.5310516357421875,
          3.015486478805542,
          null
         ],
         "xaxis": "x3",
         "y": [
          26.696672439575195,
          26.769025802612305,
          null
         ],
         "yaxis": "y3"
        },
        {
         "hoverinfo": "none",
         "line": {
          "color": "gray",
          "width": 1
         },
         "mode": "lines",
         "showlegend": false,
         "type": "scatter",
         "x": [
          2.5310516357421875,
          2.2097578048706055,
          null
         ],
         "xaxis": "x3",
         "y": [
          26.696672439575195,
          26.761436462402344,
          null
         ],
         "yaxis": "y3"
        },
        {
         "hoverinfo": "none",
         "line": {
          "color": "gray",
          "width": 1
         },
         "mode": "lines",
         "showlegend": false,
         "type": "scatter",
         "x": [
          2.5310516357421875,
          2.6263482570648193,
          null
         ],
         "xaxis": "x3",
         "y": [
          26.696672439575195,
          26.565710067749023,
          null
         ],
         "yaxis": "y3"
        },
        {
         "hoverinfo": "none",
         "line": {
          "color": "gray",
          "width": 1
         },
         "mode": "lines",
         "showlegend": false,
         "type": "scatter",
         "x": [
          2.7387123107910156,
          3.015486478805542,
          null
         ],
         "xaxis": "x3",
         "y": [
          26.981489181518555,
          26.769025802612305,
          null
         ],
         "yaxis": "y3"
        },
        {
         "hoverinfo": "none",
         "line": {
          "color": "gray",
          "width": 1
         },
         "mode": "lines",
         "showlegend": false,
         "type": "scatter",
         "x": [
          3.015486478805542,
          3.092977285385132,
          null
         ],
         "xaxis": "x3",
         "y": [
          26.769025802612305,
          26.27896499633789,
          null
         ],
         "yaxis": "y3"
        },
        {
         "hoverinfo": "none",
         "line": {
          "color": "gray",
          "width": 1
         },
         "mode": "lines",
         "showlegend": false,
         "type": "scatter",
         "x": [
          3.1116368770599365,
          3.240701198577881,
          null
         ],
         "xaxis": "x3",
         "y": [
          25.890640258789062,
          25.482351303100586,
          null
         ],
         "yaxis": "y3"
        },
        {
         "hoverinfo": "none",
         "line": {
          "color": "gray",
          "width": 1
         },
         "mode": "lines",
         "showlegend": false,
         "type": "scatter",
         "x": [
          3.1116368770599365,
          3.437163829803467,
          null
         ],
         "xaxis": "x3",
         "y": [
          25.890640258789062,
          25.959421157836914,
          null
         ],
         "yaxis": "y3"
        },
        {
         "hoverinfo": "none",
         "line": {
          "color": "gray",
          "width": 1
         },
         "mode": "lines",
         "showlegend": false,
         "type": "scatter",
         "x": [
          3.1116368770599365,
          3.388542890548706,
          null
         ],
         "xaxis": "x3",
         "y": [
          25.890640258789062,
          26.03948211669922,
          null
         ],
         "yaxis": "y3"
        },
        {
         "hoverinfo": "none",
         "line": {
          "color": "gray",
          "width": 1
         },
         "mode": "lines",
         "showlegend": false,
         "type": "scatter",
         "x": [
          3.1116368770599365,
          2.717097043991089,
          null
         ],
         "xaxis": "x3",
         "y": [
          25.890640258789062,
          25.526226043701172,
          null
         ],
         "yaxis": "y3"
        },
        {
         "hoverinfo": "none",
         "line": {
          "color": "gray",
          "width": 1
         },
         "mode": "lines",
         "showlegend": false,
         "type": "scatter",
         "x": [
          3.249851942062378,
          3.4468908309936523,
          null
         ],
         "xaxis": "x3",
         "y": [
          24.627212524414062,
          24.821517944335938,
          null
         ],
         "yaxis": "y3"
        },
        {
         "hoverinfo": "none",
         "line": {
          "color": "gray",
          "width": 1
         },
         "mode": "lines",
         "showlegend": false,
         "type": "scatter",
         "x": [
          3.249851942062378,
          3.527988910675049,
          null
         ],
         "xaxis": "x3",
         "y": [
          24.627212524414062,
          24.56098747253418,
          null
         ],
         "yaxis": "y3"
        },
        {
         "hoverinfo": "none",
         "line": {
          "color": "gray",
          "width": 1
         },
         "mode": "lines",
         "showlegend": false,
         "type": "scatter",
         "x": [
          3.249851942062378,
          3.6298110485076904,
          null
         ],
         "xaxis": "x3",
         "y": [
          24.627212524414062,
          24.975488662719727,
          null
         ],
         "yaxis": "y3"
        },
        {
         "hoverinfo": "none",
         "line": {
          "color": "gray",
          "width": 1
         },
         "mode": "lines",
         "showlegend": false,
         "type": "scatter",
         "x": [
          2.2097578048706055,
          2.6263482570648193,
          null
         ],
         "xaxis": "x3",
         "y": [
          26.761436462402344,
          26.565710067749023,
          null
         ],
         "yaxis": "y3"
        },
        {
         "hoverinfo": "none",
         "line": {
          "color": "gray",
          "width": 1
         },
         "mode": "lines",
         "showlegend": false,
         "type": "scatter",
         "x": [
          4.133271217346191,
          4.6356282234191895,
          null
         ],
         "xaxis": "x3",
         "y": [
          26.37876319885254,
          26.123125076293945,
          null
         ],
         "yaxis": "y3"
        },
        {
         "hoverinfo": "none",
         "line": {
          "color": "gray",
          "width": 1
         },
         "mode": "lines",
         "showlegend": false,
         "type": "scatter",
         "x": [
          4.133271217346191,
          4.3434224128723145,
          null
         ],
         "xaxis": "x3",
         "y": [
          26.37876319885254,
          25.953838348388672,
          null
         ],
         "yaxis": "y3"
        },
        {
         "hoverinfo": "none",
         "line": {
          "color": "gray",
          "width": 1
         },
         "mode": "lines",
         "showlegend": false,
         "type": "scatter",
         "x": [
          4.464594841003418,
          4.116236209869385,
          null
         ],
         "xaxis": "x3",
         "y": [
          25.317459106445312,
          25.249439239501953,
          null
         ],
         "yaxis": "y3"
        },
        {
         "hoverinfo": "none",
         "line": {
          "color": "gray",
          "width": 1
         },
         "mode": "lines",
         "showlegend": false,
         "type": "scatter",
         "x": [
          4.464594841003418,
          4.468945503234863,
          null
         ],
         "xaxis": "x3",
         "y": [
          25.317459106445312,
          25.324378967285156,
          null
         ],
         "yaxis": "y3"
        },
        {
         "hoverinfo": "none",
         "line": {
          "color": "gray",
          "width": 1
         },
         "mode": "lines",
         "showlegend": false,
         "type": "scatter",
         "x": [
          4.464594841003418,
          4.494410037994385,
          null
         ],
         "xaxis": "x3",
         "y": [
          25.317459106445312,
          25.682954788208008,
          null
         ],
         "yaxis": "y3"
        },
        {
         "hoverinfo": "none",
         "line": {
          "color": "gray",
          "width": 1
         },
         "mode": "lines",
         "showlegend": false,
         "type": "scatter",
         "x": [
          3.7654972076416016,
          4.116236209869385,
          null
         ],
         "xaxis": "x3",
         "y": [
          24.92674446105957,
          25.249439239501953,
          null
         ],
         "yaxis": "y3"
        },
        {
         "hoverinfo": "none",
         "line": {
          "color": "gray",
          "width": 1
         },
         "mode": "lines",
         "showlegend": false,
         "type": "scatter",
         "x": [
          3.7654972076416016,
          3.4468908309936523,
          null
         ],
         "xaxis": "x3",
         "y": [
          24.92674446105957,
          24.821517944335938,
          null
         ],
         "yaxis": "y3"
        },
        {
         "hoverinfo": "none",
         "line": {
          "color": "gray",
          "width": 1
         },
         "mode": "lines",
         "showlegend": false,
         "type": "scatter",
         "x": [
          3.7654972076416016,
          3.7863810062408447,
          null
         ],
         "xaxis": "x3",
         "y": [
          24.92674446105957,
          25.407686233520508,
          null
         ],
         "yaxis": "y3"
        },
        {
         "hoverinfo": "none",
         "line": {
          "color": "gray",
          "width": 1
         },
         "mode": "lines",
         "showlegend": false,
         "type": "scatter",
         "x": [
          3.7654972076416016,
          3.527988910675049,
          null
         ],
         "xaxis": "x3",
         "y": [
          24.92674446105957,
          24.56098747253418,
          null
         ],
         "yaxis": "y3"
        },
        {
         "hoverinfo": "none",
         "line": {
          "color": "gray",
          "width": 1
         },
         "mode": "lines",
         "showlegend": false,
         "type": "scatter",
         "x": [
          3.7654972076416016,
          3.5347118377685547,
          null
         ],
         "xaxis": "x3",
         "y": [
          24.92674446105957,
          24.65528106689453,
          null
         ],
         "yaxis": "y3"
        },
        {
         "hoverinfo": "none",
         "line": {
          "color": "gray",
          "width": 1
         },
         "mode": "lines",
         "showlegend": false,
         "type": "scatter",
         "x": [
          3.7654972076416016,
          3.6298110485076904,
          null
         ],
         "xaxis": "x3",
         "y": [
          24.92674446105957,
          24.975488662719727,
          null
         ],
         "yaxis": "y3"
        },
        {
         "hoverinfo": "none",
         "line": {
          "color": "gray",
          "width": 1
         },
         "mode": "lines",
         "showlegend": false,
         "type": "scatter",
         "x": [
          3.3814432621002197,
          3.1459829807281494,
          null
         ],
         "xaxis": "x3",
         "y": [
          24.77926254272461,
          24.929733276367188,
          null
         ],
         "yaxis": "y3"
        },
        {
         "hoverinfo": "none",
         "line": {
          "color": "gray",
          "width": 1
         },
         "mode": "lines",
         "showlegend": false,
         "type": "scatter",
         "x": [
          3.3814432621002197,
          3.8445358276367188,
          null
         ],
         "xaxis": "x3",
         "y": [
          24.77926254272461,
          25.04435920715332,
          null
         ],
         "yaxis": "y3"
        },
        {
         "hoverinfo": "none",
         "line": {
          "color": "gray",
          "width": 1
         },
         "mode": "lines",
         "showlegend": false,
         "type": "scatter",
         "x": [
          3.3814432621002197,
          3.7586185932159424,
          null
         ],
         "xaxis": "x3",
         "y": [
          24.77926254272461,
          24.61121368408203,
          null
         ],
         "yaxis": "y3"
        },
        {
         "hoverinfo": "none",
         "line": {
          "color": "gray",
          "width": 1
         },
         "mode": "lines",
         "showlegend": false,
         "type": "scatter",
         "x": [
          3.3814432621002197,
          3.5488908290863037,
          null
         ],
         "xaxis": "x3",
         "y": [
          24.77926254272461,
          25.326587677001953,
          null
         ],
         "yaxis": "y3"
        },
        {
         "hoverinfo": "none",
         "line": {
          "color": "gray",
          "width": 1
         },
         "mode": "lines",
         "showlegend": false,
         "type": "scatter",
         "x": [
          3.3814432621002197,
          3.5347118377685547,
          null
         ],
         "xaxis": "x3",
         "y": [
          24.77926254272461,
          24.65528106689453,
          null
         ],
         "yaxis": "y3"
        },
        {
         "hoverinfo": "none",
         "line": {
          "color": "gray",
          "width": 1
         },
         "mode": "lines",
         "showlegend": false,
         "type": "scatter",
         "x": [
          4.116236209869385,
          4.301332473754883,
          null
         ],
         "xaxis": "x3",
         "y": [
          25.249439239501953,
          25.700136184692383,
          null
         ],
         "yaxis": "y3"
        },
        {
         "hoverinfo": "none",
         "line": {
          "color": "gray",
          "width": 1
         },
         "mode": "lines",
         "showlegend": false,
         "type": "scatter",
         "x": [
          4.116236209869385,
          3.8445358276367188,
          null
         ],
         "xaxis": "x3",
         "y": [
          25.249439239501953,
          25.04435920715332,
          null
         ],
         "yaxis": "y3"
        },
        {
         "hoverinfo": "none",
         "line": {
          "color": "gray",
          "width": 1
         },
         "mode": "lines",
         "showlegend": false,
         "type": "scatter",
         "x": [
          4.116236209869385,
          3.7863810062408447,
          null
         ],
         "xaxis": "x3",
         "y": [
          25.249439239501953,
          25.407686233520508,
          null
         ],
         "yaxis": "y3"
        },
        {
         "hoverinfo": "none",
         "line": {
          "color": "gray",
          "width": 1
         },
         "mode": "lines",
         "showlegend": false,
         "type": "scatter",
         "x": [
          4.116236209869385,
          4.468945503234863,
          null
         ],
         "xaxis": "x3",
         "y": [
          25.249439239501953,
          25.324378967285156,
          null
         ],
         "yaxis": "y3"
        },
        {
         "hoverinfo": "none",
         "line": {
          "color": "gray",
          "width": 1
         },
         "mode": "lines",
         "showlegend": false,
         "type": "scatter",
         "x": [
          4.116236209869385,
          4.494410037994385,
          null
         ],
         "xaxis": "x3",
         "y": [
          25.249439239501953,
          25.682954788208008,
          null
         ],
         "yaxis": "y3"
        },
        {
         "hoverinfo": "none",
         "line": {
          "color": "gray",
          "width": 1
         },
         "mode": "lines",
         "showlegend": false,
         "type": "scatter",
         "x": [
          4.116236209869385,
          4.050853729248047,
          null
         ],
         "xaxis": "x3",
         "y": [
          25.249439239501953,
          25.571704864501953,
          null
         ],
         "yaxis": "y3"
        },
        {
         "hoverinfo": "none",
         "line": {
          "color": "gray",
          "width": 1
         },
         "mode": "lines",
         "showlegend": false,
         "type": "scatter",
         "x": [
          4.301332473754883,
          4.494410037994385,
          null
         ],
         "xaxis": "x3",
         "y": [
          25.700136184692383,
          25.682954788208008,
          null
         ],
         "yaxis": "y3"
        },
        {
         "hoverinfo": "none",
         "line": {
          "color": "gray",
          "width": 1
         },
         "mode": "lines",
         "showlegend": false,
         "type": "scatter",
         "x": [
          4.301332473754883,
          4.050853729248047,
          null
         ],
         "xaxis": "x3",
         "y": [
          25.700136184692383,
          25.571704864501953,
          null
         ],
         "yaxis": "y3"
        },
        {
         "hoverinfo": "none",
         "line": {
          "color": "gray",
          "width": 1
         },
         "mode": "lines",
         "showlegend": false,
         "type": "scatter",
         "x": [
          4.301332473754883,
          4.6356282234191895,
          null
         ],
         "xaxis": "x3",
         "y": [
          25.700136184692383,
          26.123125076293945,
          null
         ],
         "yaxis": "y3"
        },
        {
         "hoverinfo": "none",
         "line": {
          "color": "gray",
          "width": 1
         },
         "mode": "lines",
         "showlegend": false,
         "type": "scatter",
         "x": [
          4.301332473754883,
          4.3434224128723145,
          null
         ],
         "xaxis": "x3",
         "y": [
          25.700136184692383,
          25.953838348388672,
          null
         ],
         "yaxis": "y3"
        },
        {
         "hoverinfo": "none",
         "line": {
          "color": "gray",
          "width": 1
         },
         "mode": "lines",
         "showlegend": false,
         "type": "scatter",
         "x": [
          3.1459829807281494,
          3.5347118377685547,
          null
         ],
         "xaxis": "x3",
         "y": [
          24.929733276367188,
          24.65528106689453,
          null
         ],
         "yaxis": "y3"
        },
        {
         "hoverinfo": "none",
         "line": {
          "color": "gray",
          "width": 1
         },
         "mode": "lines",
         "showlegend": false,
         "type": "scatter",
         "x": [
          3.821197271347046,
          3.7863810062408447,
          null
         ],
         "xaxis": "x3",
         "y": [
          25.49928092956543,
          25.407686233520508,
          null
         ],
         "yaxis": "y3"
        },
        {
         "hoverinfo": "none",
         "line": {
          "color": "gray",
          "width": 1
         },
         "mode": "lines",
         "showlegend": false,
         "type": "scatter",
         "x": [
          3.821197271347046,
          3.6298110485076904,
          null
         ],
         "xaxis": "x3",
         "y": [
          25.49928092956543,
          24.975488662719727,
          null
         ],
         "yaxis": "y3"
        },
        {
         "hoverinfo": "none",
         "line": {
          "color": "gray",
          "width": 1
         },
         "mode": "lines",
         "showlegend": false,
         "type": "scatter",
         "x": [
          3.4468908309936523,
          3.527988910675049,
          null
         ],
         "xaxis": "x3",
         "y": [
          24.821517944335938,
          24.56098747253418,
          null
         ],
         "yaxis": "y3"
        },
        {
         "hoverinfo": "none",
         "line": {
          "color": "gray",
          "width": 1
         },
         "mode": "lines",
         "showlegend": false,
         "type": "scatter",
         "x": [
          3.4468908309936523,
          3.6298110485076904,
          null
         ],
         "xaxis": "x3",
         "y": [
          24.821517944335938,
          24.975488662719727,
          null
         ],
         "yaxis": "y3"
        },
        {
         "hoverinfo": "none",
         "line": {
          "color": "gray",
          "width": 1
         },
         "mode": "lines",
         "showlegend": false,
         "type": "scatter",
         "x": [
          3.8445358276367188,
          3.7586185932159424,
          null
         ],
         "xaxis": "x3",
         "y": [
          25.04435920715332,
          24.61121368408203,
          null
         ],
         "yaxis": "y3"
        },
        {
         "hoverinfo": "none",
         "line": {
          "color": "gray",
          "width": 1
         },
         "mode": "lines",
         "showlegend": false,
         "type": "scatter",
         "x": [
          3.8445358276367188,
          4.050853729248047,
          null
         ],
         "xaxis": "x3",
         "y": [
          25.04435920715332,
          25.571704864501953,
          null
         ],
         "yaxis": "y3"
        },
        {
         "hoverinfo": "none",
         "line": {
          "color": "gray",
          "width": 1
         },
         "mode": "lines",
         "showlegend": false,
         "type": "scatter",
         "x": [
          3.8445358276367188,
          3.5488908290863037,
          null
         ],
         "xaxis": "x3",
         "y": [
          25.04435920715332,
          25.326587677001953,
          null
         ],
         "yaxis": "y3"
        },
        {
         "hoverinfo": "none",
         "line": {
          "color": "gray",
          "width": 1
         },
         "mode": "lines",
         "showlegend": false,
         "type": "scatter",
         "x": [
          3.8445358276367188,
          3.5347118377685547,
          null
         ],
         "xaxis": "x3",
         "y": [
          25.04435920715332,
          24.65528106689453,
          null
         ],
         "yaxis": "y3"
        },
        {
         "hoverinfo": "none",
         "line": {
          "color": "gray",
          "width": 1
         },
         "mode": "lines",
         "showlegend": false,
         "type": "scatter",
         "x": [
          3.7863810062408447,
          4.050853729248047,
          null
         ],
         "xaxis": "x3",
         "y": [
          25.407686233520508,
          25.571704864501953,
          null
         ],
         "yaxis": "y3"
        },
        {
         "hoverinfo": "none",
         "line": {
          "color": "gray",
          "width": 1
         },
         "mode": "lines",
         "showlegend": false,
         "type": "scatter",
         "x": [
          3.7863810062408447,
          3.5488908290863037,
          null
         ],
         "xaxis": "x3",
         "y": [
          25.407686233520508,
          25.326587677001953,
          null
         ],
         "yaxis": "y3"
        },
        {
         "hoverinfo": "none",
         "line": {
          "color": "gray",
          "width": 1
         },
         "mode": "lines",
         "showlegend": false,
         "type": "scatter",
         "x": [
          4.468945503234863,
          4.494410037994385,
          null
         ],
         "xaxis": "x3",
         "y": [
          25.324378967285156,
          25.682954788208008,
          null
         ],
         "yaxis": "y3"
        },
        {
         "hoverinfo": "none",
         "line": {
          "color": "gray",
          "width": 1
         },
         "mode": "lines",
         "showlegend": false,
         "type": "scatter",
         "x": [
          4.468945503234863,
          4.649080276489258,
          null
         ],
         "xaxis": "x3",
         "y": [
          25.324378967285156,
          25.892412185668945,
          null
         ],
         "yaxis": "y3"
        },
        {
         "hoverinfo": "none",
         "line": {
          "color": "gray",
          "width": 1
         },
         "mode": "lines",
         "showlegend": false,
         "type": "scatter",
         "x": [
          4.494410037994385,
          4.050853729248047,
          null
         ],
         "xaxis": "x3",
         "y": [
          25.682954788208008,
          25.571704864501953,
          null
         ],
         "yaxis": "y3"
        },
        {
         "hoverinfo": "none",
         "line": {
          "color": "gray",
          "width": 1
         },
         "mode": "lines",
         "showlegend": false,
         "type": "scatter",
         "x": [
          4.494410037994385,
          4.649080276489258,
          null
         ],
         "xaxis": "x3",
         "y": [
          25.682954788208008,
          25.892412185668945,
          null
         ],
         "yaxis": "y3"
        },
        {
         "hoverinfo": "none",
         "line": {
          "color": "gray",
          "width": 1
         },
         "mode": "lines",
         "showlegend": false,
         "type": "scatter",
         "x": [
          4.494410037994385,
          4.6356282234191895,
          null
         ],
         "xaxis": "x3",
         "y": [
          25.682954788208008,
          26.123125076293945,
          null
         ],
         "yaxis": "y3"
        },
        {
         "hoverinfo": "none",
         "line": {
          "color": "gray",
          "width": 1
         },
         "mode": "lines",
         "showlegend": false,
         "type": "scatter",
         "x": [
          4.494410037994385,
          4.3434224128723145,
          null
         ],
         "xaxis": "x3",
         "y": [
          25.682954788208008,
          25.953838348388672,
          null
         ],
         "yaxis": "y3"
        },
        {
         "hoverinfo": "none",
         "line": {
          "color": "gray",
          "width": 1
         },
         "mode": "lines",
         "showlegend": false,
         "type": "scatter",
         "x": [
          3.527988910675049,
          3.5347118377685547,
          null
         ],
         "xaxis": "x3",
         "y": [
          24.56098747253418,
          24.65528106689453,
          null
         ],
         "yaxis": "y3"
        },
        {
         "hoverinfo": "none",
         "line": {
          "color": "gray",
          "width": 1
         },
         "mode": "lines",
         "showlegend": false,
         "type": "scatter",
         "x": [
          3.7586185932159424,
          3.5347118377685547,
          null
         ],
         "xaxis": "x3",
         "y": [
          24.61121368408203,
          24.65528106689453,
          null
         ],
         "yaxis": "y3"
        },
        {
         "hoverinfo": "none",
         "line": {
          "color": "gray",
          "width": 1
         },
         "mode": "lines",
         "showlegend": false,
         "type": "scatter",
         "x": [
          4.421077251434326,
          4.021561622619629,
          null
         ],
         "xaxis": "x3",
         "y": [
          26.06161117553711,
          26.057388305664062,
          null
         ],
         "yaxis": "y3"
        },
        {
         "hoverinfo": "none",
         "line": {
          "color": "gray",
          "width": 1
         },
         "mode": "lines",
         "showlegend": false,
         "type": "scatter",
         "x": [
          4.421077251434326,
          4.649080276489258,
          null
         ],
         "xaxis": "x3",
         "y": [
          26.06161117553711,
          25.892412185668945,
          null
         ],
         "yaxis": "y3"
        },
        {
         "hoverinfo": "none",
         "line": {
          "color": "gray",
          "width": 1
         },
         "mode": "lines",
         "showlegend": false,
         "type": "scatter",
         "x": [
          4.421077251434326,
          4.3434224128723145,
          null
         ],
         "xaxis": "x3",
         "y": [
          26.06161117553711,
          25.953838348388672,
          null
         ],
         "yaxis": "y3"
        },
        {
         "hoverinfo": "none",
         "line": {
          "color": "gray",
          "width": 1
         },
         "mode": "lines",
         "showlegend": false,
         "type": "scatter",
         "x": [
          4.421077251434326,
          4.199955940246582,
          null
         ],
         "xaxis": "x3",
         "y": [
          26.06161117553711,
          26.152273178100586,
          null
         ],
         "yaxis": "y3"
        },
        {
         "hoverinfo": "none",
         "line": {
          "color": "gray",
          "width": 1
         },
         "mode": "lines",
         "showlegend": false,
         "type": "scatter",
         "x": [
          4.050853729248047,
          3.5488908290863037,
          null
         ],
         "xaxis": "x3",
         "y": [
          25.571704864501953,
          25.326587677001953,
          null
         ],
         "yaxis": "y3"
        },
        {
         "hoverinfo": "none",
         "line": {
          "color": "gray",
          "width": 1
         },
         "mode": "lines",
         "showlegend": false,
         "type": "scatter",
         "x": [
          4.050853729248047,
          4.3434224128723145,
          null
         ],
         "xaxis": "x3",
         "y": [
          25.571704864501953,
          25.953838348388672,
          null
         ],
         "yaxis": "y3"
        },
        {
         "hoverinfo": "none",
         "line": {
          "color": "gray",
          "width": 1
         },
         "mode": "lines",
         "showlegend": false,
         "type": "scatter",
         "x": [
          4.021561622619629,
          4.3434224128723145,
          null
         ],
         "xaxis": "x3",
         "y": [
          26.057388305664062,
          25.953838348388672,
          null
         ],
         "yaxis": "y3"
        },
        {
         "hoverinfo": "none",
         "line": {
          "color": "gray",
          "width": 1
         },
         "mode": "lines",
         "showlegend": false,
         "type": "scatter",
         "x": [
          4.649080276489258,
          4.6356282234191895,
          null
         ],
         "xaxis": "x3",
         "y": [
          25.892412185668945,
          26.123125076293945,
          null
         ],
         "yaxis": "y3"
        },
        {
         "hoverinfo": "none",
         "line": {
          "color": "gray",
          "width": 1
         },
         "mode": "lines",
         "showlegend": false,
         "type": "scatter",
         "x": [
          4.649080276489258,
          4.3434224128723145,
          null
         ],
         "xaxis": "x3",
         "y": [
          25.892412185668945,
          25.953838348388672,
          null
         ],
         "yaxis": "y3"
        },
        {
         "hoverinfo": "none",
         "line": {
          "color": "gray",
          "width": 1
         },
         "mode": "lines",
         "showlegend": false,
         "type": "scatter",
         "x": [
          4.6356282234191895,
          4.3434224128723145,
          null
         ],
         "xaxis": "x3",
         "y": [
          26.123125076293945,
          25.953838348388672,
          null
         ],
         "yaxis": "y3"
        },
        {
         "hoverinfo": "none",
         "line": {
          "color": "gray",
          "width": 1
         },
         "mode": "lines",
         "showlegend": false,
         "type": "scatter",
         "x": [
          3.240701198577881,
          3.437163829803467,
          null
         ],
         "xaxis": "x3",
         "y": [
          25.482351303100586,
          25.959421157836914,
          null
         ],
         "yaxis": "y3"
        },
        {
         "hoverinfo": "none",
         "line": {
          "color": "gray",
          "width": 1
         },
         "mode": "lines",
         "showlegend": false,
         "type": "scatter",
         "x": [
          3.240701198577881,
          2.717097043991089,
          null
         ],
         "xaxis": "x3",
         "y": [
          25.482351303100586,
          25.526226043701172,
          null
         ],
         "yaxis": "y3"
        },
        {
         "hoverinfo": "none",
         "line": {
          "color": "gray",
          "width": 1
         },
         "mode": "lines",
         "showlegend": false,
         "type": "scatter",
         "x": [
          3.437163829803467,
          3.388542890548706,
          null
         ],
         "xaxis": "x3",
         "y": [
          25.959421157836914,
          26.03948211669922,
          null
         ],
         "yaxis": "y3"
        },
        {
         "hoverinfo": "none",
         "line": {
          "color": "gray",
          "width": 1
         },
         "mode": "lines",
         "showlegend": false,
         "type": "scatter",
         "x": [
          2.64432954788208,
          2.509368896484375,
          null
         ],
         "xaxis": "x3",
         "y": [
          25.027257919311523,
          25.50810432434082,
          null
         ],
         "yaxis": "y3"
        },
        {
         "hoverinfo": "text",
         "hovertext": [
          "1282890977555839180",
          "1255908021842197930",
          "1364376551860961934",
          "1279218191310817247",
          "1316158964673335895",
          "725951699224906993",
          "1254303583045546955",
          "1315344706047362032",
          "1338690952348756006",
          "986342579444462399",
          "994392265836559354",
          "1170314793845437727",
          "1144449787453177593",
          "50637762",
          "1370475063168875041",
          "1279264133273765767",
          "1038158992459515932",
          "1060659586771911271",
          "995879788500033068",
          "1082092672297397383",
          "1117493870268287084",
          "1331317275345198410",
          "1345885220314300035",
          "1252955190460839164",
          "807287853103474314",
          "1003680480548024835",
          "1101521186410665163",
          "1126871837482680826",
          "911113843317991706",
          "878352430199000952",
          "1216205629459955503",
          "1152493881820384873",
          "1317428120714655677",
          "823224593312108874",
          "802873898143599598",
          "985588880340118836",
          "846281101302571252",
          "1073830324762676707",
          "1291369680799235048",
          "1291386342035446932",
          "1291348254945757857",
          "1284922899449149869",
          "1300846874190721949",
          "1178368806182581245",
          "1354503288606231731",
          "839283791724610443",
          "852322227051781578",
          "852836475894493606",
          "852998646126710254",
          "928953902518668812",
          "853430725018525635",
          "865741394178687754",
          "1065446126459762366",
          "865494322261178427",
          "852722227526718255",
          "852423984035352397",
          "852707152905312617",
          "852764754959774056",
          "865501138503964861",
          "865484469517762048",
          "852958133808719190",
          "958267722202025656",
          "878789244081373209",
          "852846097719499069",
          "852947489018010555",
          "865417719613815681",
          "865433093370851067",
          "865505131391284959",
          "929051174009268462",
          "1229800644222284211",
          "890771974735264612",
          "897405006229683800",
          "943495681388968810",
          "982475106451734664",
          "982475113924685879",
          "1061083288618779943",
          "1131261936147332933",
          "1061118933427624758",
          "1374717540319611164"
         ],
         "marker": {
          "cmax": 125,
          "cmin": 40,
          "color": {
           "bdata": "AAAAAADAV0AAAAAAAABZQAAAAAAAwFBAAAAAAABAVkAAAAAAAIBZQAAAAAAAQF9AAAAAAADAVUAAAAAAAEBTQAAAAAAAQFRAAAAAAAAAW0AAAAAAAABTQAAAAAAAwFdAAAAAAABgYkA9CtejcB1TQAAAAAAAQF5AAAAAAACAX0AAAAAAAABPQAAAAAAAQFBASOF6FK6HVEAAAAAAAABSQAAAAAAAgFZAAAAAAADAUkAAAAAAAEBVQAAAAAAAQFVAAAAAAACATkAAAAAAAMBRQAAAAAAAgFhAAAAAAADAWEAAAAAAAIBVQAAAAAAAQFlAAAAAAABAV0AAAAAAAEBTQAAAAAAAwFhAAAAAAABAVEAAAAAAAMBVQAAAAAAAYGBAAAAAAABAU0BmZmZmZmZXQAAAAAAAQFJAAAAAAABAUkC4HoXrUdhVQAAAAAAAQFlAAAAAAACAWEAAAAAAAMBRQAAAAAAAQFhAAAAAAACAXkAAAAAAAEBXQAAAAAAAgFhAAAAAAABAUkAAAAAAAEBVQAAAAAAAwFlAAAAAAADAUUAAAAAAAEBVQAAAAAAAAFNAAAAAAACAW0AAAAAAAMBUQAAAAAAAQFdAAAAAAABAV0AAAAAAAIBTQAAAAAAAwFFAAAAAAABAWkAAAAAAAEBTQAAAAAAAQFpAAAAAAAAAWkAAAAAAAEBbQAAAAAAAwGdAAAAAAADAUUAAAAAAAMBRQAAAAAAAAF1AAAAAAADAVkAAAAAAAABWQAAAAAAAAFhAAAAAAAAAWUAAAAAAAABbQAAAAAAAAFhAFK5H4XpUVkB7FK5H4RpdQAAAAAAAQFhAAAAAAACAUkA=",
           "dtype": "f8"
          },
          "colorbar": {
           "title": {
            "text": "Base fee"
           }
          },
          "colorscale": [
           [
            0,
            "rgb(241, 236, 236)"
           ],
           [
            0.09090909090909091,
            "rgb(230, 209, 203)"
           ],
           [
            0.18181818181818182,
            "rgb(221, 182, 170)"
           ],
           [
            0.2727272727272727,
            "rgb(213, 156, 137)"
           ],
           [
            0.36363636363636365,
            "rgb(205, 129, 103)"
           ],
           [
            0.45454545454545453,
            "rgb(196, 102, 73)"
           ],
           [
            0.5454545454545454,
            "rgb(186, 74, 47)"
           ],
           [
            0.6363636363636364,
            "rgb(172, 44, 36)"
           ],
           [
            0.7272727272727273,
            "rgb(149, 19, 39)"
           ],
           [
            0.8181818181818182,
            "rgb(120, 14, 40)"
           ],
           [
            0.9090909090909091,
            "rgb(89, 13, 31)"
           ],
           [
            1,
            "rgb(60, 9, 17)"
           ]
          ],
          "showscale": true,
          "size": 6
         },
         "mode": "markers",
         "showlegend": false,
         "type": "scatter",
         "x": {
          "bdata": "miANQGDRQ0DioxdA4rEEQCpRFUB8CDBA6IT7P1LIHUBelipA+JRGQNrMDkAXERpAxF0mQDILXUBeAhdAq2w4QHweJEC7NylAt5AfQBneNUAOljpA4fA/QBgoMkDyth5ALEgxQG+ZTECbfDRAUOkdQP2IXUCDm4dAKIdAQLatEkDM0CNAuvhDQL9zfECGSjFAstsuQLoZbEDA/CFAEEcvQLv9QECR52hADyVHQJP9T0CsbA1AwkOEQPbdjkDo/XBAkWlYQDW4g0CEpIlAyVdJQH+OdEDcmVxA4Ax2QBFUckCaAY9ANdKPQJLKYUA1jXBAd3mNQJiggUCisIBAByFjQETFlEARV5RAuDhiQNNOaEBR/YpAEitMQKZnT0B++ltA491YQApmhkCyPClAgJkgQFfzRUDr5C1AFxYoQA==",
          "dtype": "f4"
         },
         "xaxis": "x3",
         "y": {
          "bdata": "RmPOQVl21EH3o8tBn93MQakd0UHnUNBBwvnNQall0UHQp85B6UnNQadfzkHszs5B6MbQQboC1EGFT9ZBrgfQQW6/0EFeJNVBjgzNQf6Ry0Ep1tVBOv3WQVlS1kHBEdNBgEPHQbpv0UG8xNBBapfOQb4W1EFWAdNBxNvUQaMA00HreNdB4YfMQVy60EFNqMtB+R3QQRnpzkHJktVBF9rXQfcm1kGq/dNBCCDPQYgExUFsF9ZBtQfTQSiKykH5acdB7jvGQdr+yUHhmc1BGHDHQYf+y0F4ksZB2VrIQfFCy0FUmMpBsXbNQed8xEHE48RBLn7QQdqSzEGIddBB2pzKQakjz0Ep/NBBBD7FQc3Nx0F2oc9BvFLSQdvby0HlrM9B3FDQQds30UHTN8hBmRDMQVI70kG2NcxBk4bUQQ==",
          "dtype": "f4"
         },
         "yaxis": "y3"
        }
       ],
       "layout": {
        "annotations": [
         {
          "font": {
           "size": 16
          },
          "showarrow": false,
          "text": "UMAP1 vs UMAP2",
          "x": 0.15,
          "xanchor": "center",
          "xref": "paper",
          "y": 1,
          "yanchor": "bottom",
          "yref": "paper"
         },
         {
          "font": {
           "size": 16
          },
          "showarrow": false,
          "text": "UMAP1 vs UMAP3",
          "x": 0.49999999999999994,
          "xanchor": "center",
          "xref": "paper",
          "y": 1,
          "yanchor": "bottom",
          "yref": "paper"
         },
         {
          "font": {
           "size": 16
          },
          "showarrow": false,
          "text": "UMAP2 vs UMAP3",
          "x": 0.85,
          "xanchor": "center",
          "xref": "paper",
          "y": 1,
          "yanchor": "bottom",
          "yref": "paper"
         }
        ],
        "height": 500,
        "template": {
         "data": {
          "bar": [
           {
            "error_x": {
             "color": "#f2f5fa"
            },
            "error_y": {
             "color": "#f2f5fa"
            },
            "marker": {
             "line": {
              "color": "rgb(17,17,17)",
              "width": 0.5
             },
             "pattern": {
              "fillmode": "overlay",
              "size": 10,
              "solidity": 0.2
             }
            },
            "type": "bar"
           }
          ],
          "barpolar": [
           {
            "marker": {
             "line": {
              "color": "rgb(17,17,17)",
              "width": 0.5
             },
             "pattern": {
              "fillmode": "overlay",
              "size": 10,
              "solidity": 0.2
             }
            },
            "type": "barpolar"
           }
          ],
          "carpet": [
           {
            "aaxis": {
             "endlinecolor": "#A2B1C6",
             "gridcolor": "#506784",
             "linecolor": "#506784",
             "minorgridcolor": "#506784",
             "startlinecolor": "#A2B1C6"
            },
            "baxis": {
             "endlinecolor": "#A2B1C6",
             "gridcolor": "#506784",
             "linecolor": "#506784",
             "minorgridcolor": "#506784",
             "startlinecolor": "#A2B1C6"
            },
            "type": "carpet"
           }
          ],
          "choropleth": [
           {
            "colorbar": {
             "outlinewidth": 0,
             "ticks": ""
            },
            "type": "choropleth"
           }
          ],
          "contour": [
           {
            "colorbar": {
             "outlinewidth": 0,
             "ticks": ""
            },
            "colorscale": [
             [
              0,
              "#0d0887"
             ],
             [
              0.1111111111111111,
              "#46039f"
             ],
             [
              0.2222222222222222,
              "#7201a8"
             ],
             [
              0.3333333333333333,
              "#9c179e"
             ],
             [
              0.4444444444444444,
              "#bd3786"
             ],
             [
              0.5555555555555556,
              "#d8576b"
             ],
             [
              0.6666666666666666,
              "#ed7953"
             ],
             [
              0.7777777777777778,
              "#fb9f3a"
             ],
             [
              0.8888888888888888,
              "#fdca26"
             ],
             [
              1,
              "#f0f921"
             ]
            ],
            "type": "contour"
           }
          ],
          "contourcarpet": [
           {
            "colorbar": {
             "outlinewidth": 0,
             "ticks": ""
            },
            "type": "contourcarpet"
           }
          ],
          "heatmap": [
           {
            "colorbar": {
             "outlinewidth": 0,
             "ticks": ""
            },
            "colorscale": [
             [
              0,
              "#0d0887"
             ],
             [
              0.1111111111111111,
              "#46039f"
             ],
             [
              0.2222222222222222,
              "#7201a8"
             ],
             [
              0.3333333333333333,
              "#9c179e"
             ],
             [
              0.4444444444444444,
              "#bd3786"
             ],
             [
              0.5555555555555556,
              "#d8576b"
             ],
             [
              0.6666666666666666,
              "#ed7953"
             ],
             [
              0.7777777777777778,
              "#fb9f3a"
             ],
             [
              0.8888888888888888,
              "#fdca26"
             ],
             [
              1,
              "#f0f921"
             ]
            ],
            "type": "heatmap"
           }
          ],
          "histogram": [
           {
            "marker": {
             "pattern": {
              "fillmode": "overlay",
              "size": 10,
              "solidity": 0.2
             }
            },
            "type": "histogram"
           }
          ],
          "histogram2d": [
           {
            "colorbar": {
             "outlinewidth": 0,
             "ticks": ""
            },
            "colorscale": [
             [
              0,
              "#0d0887"
             ],
             [
              0.1111111111111111,
              "#46039f"
             ],
             [
              0.2222222222222222,
              "#7201a8"
             ],
             [
              0.3333333333333333,
              "#9c179e"
             ],
             [
              0.4444444444444444,
              "#bd3786"
             ],
             [
              0.5555555555555556,
              "#d8576b"
             ],
             [
              0.6666666666666666,
              "#ed7953"
             ],
             [
              0.7777777777777778,
              "#fb9f3a"
             ],
             [
              0.8888888888888888,
              "#fdca26"
             ],
             [
              1,
              "#f0f921"
             ]
            ],
            "type": "histogram2d"
           }
          ],
          "histogram2dcontour": [
           {
            "colorbar": {
             "outlinewidth": 0,
             "ticks": ""
            },
            "colorscale": [
             [
              0,
              "#0d0887"
             ],
             [
              0.1111111111111111,
              "#46039f"
             ],
             [
              0.2222222222222222,
              "#7201a8"
             ],
             [
              0.3333333333333333,
              "#9c179e"
             ],
             [
              0.4444444444444444,
              "#bd3786"
             ],
             [
              0.5555555555555556,
              "#d8576b"
             ],
             [
              0.6666666666666666,
              "#ed7953"
             ],
             [
              0.7777777777777778,
              "#fb9f3a"
             ],
             [
              0.8888888888888888,
              "#fdca26"
             ],
             [
              1,
              "#f0f921"
             ]
            ],
            "type": "histogram2dcontour"
           }
          ],
          "mesh3d": [
           {
            "colorbar": {
             "outlinewidth": 0,
             "ticks": ""
            },
            "type": "mesh3d"
           }
          ],
          "parcoords": [
           {
            "line": {
             "colorbar": {
              "outlinewidth": 0,
              "ticks": ""
             }
            },
            "type": "parcoords"
           }
          ],
          "pie": [
           {
            "automargin": true,
            "type": "pie"
           }
          ],
          "scatter": [
           {
            "marker": {
             "line": {
              "color": "#283442"
             }
            },
            "type": "scatter"
           }
          ],
          "scatter3d": [
           {
            "line": {
             "colorbar": {
              "outlinewidth": 0,
              "ticks": ""
             }
            },
            "marker": {
             "colorbar": {
              "outlinewidth": 0,
              "ticks": ""
             }
            },
            "type": "scatter3d"
           }
          ],
          "scattercarpet": [
           {
            "marker": {
             "colorbar": {
              "outlinewidth": 0,
              "ticks": ""
             }
            },
            "type": "scattercarpet"
           }
          ],
          "scattergeo": [
           {
            "marker": {
             "colorbar": {
              "outlinewidth": 0,
              "ticks": ""
             }
            },
            "type": "scattergeo"
           }
          ],
          "scattergl": [
           {
            "marker": {
             "line": {
              "color": "#283442"
             }
            },
            "type": "scattergl"
           }
          ],
          "scattermap": [
           {
            "marker": {
             "colorbar": {
              "outlinewidth": 0,
              "ticks": ""
             }
            },
            "type": "scattermap"
           }
          ],
          "scattermapbox": [
           {
            "marker": {
             "colorbar": {
              "outlinewidth": 0,
              "ticks": ""
             }
            },
            "type": "scattermapbox"
           }
          ],
          "scatterpolar": [
           {
            "marker": {
             "colorbar": {
              "outlinewidth": 0,
              "ticks": ""
             }
            },
            "type": "scatterpolar"
           }
          ],
          "scatterpolargl": [
           {
            "marker": {
             "colorbar": {
              "outlinewidth": 0,
              "ticks": ""
             }
            },
            "type": "scatterpolargl"
           }
          ],
          "scatterternary": [
           {
            "marker": {
             "colorbar": {
              "outlinewidth": 0,
              "ticks": ""
             }
            },
            "type": "scatterternary"
           }
          ],
          "surface": [
           {
            "colorbar": {
             "outlinewidth": 0,
             "ticks": ""
            },
            "colorscale": [
             [
              0,
              "#0d0887"
             ],
             [
              0.1111111111111111,
              "#46039f"
             ],
             [
              0.2222222222222222,
              "#7201a8"
             ],
             [
              0.3333333333333333,
              "#9c179e"
             ],
             [
              0.4444444444444444,
              "#bd3786"
             ],
             [
              0.5555555555555556,
              "#d8576b"
             ],
             [
              0.6666666666666666,
              "#ed7953"
             ],
             [
              0.7777777777777778,
              "#fb9f3a"
             ],
             [
              0.8888888888888888,
              "#fdca26"
             ],
             [
              1,
              "#f0f921"
             ]
            ],
            "type": "surface"
           }
          ],
          "table": [
           {
            "cells": {
             "fill": {
              "color": "#506784"
             },
             "line": {
              "color": "rgb(17,17,17)"
             }
            },
            "header": {
             "fill": {
              "color": "#2a3f5f"
             },
             "line": {
              "color": "rgb(17,17,17)"
             }
            },
            "type": "table"
           }
          ]
         },
         "layout": {
          "annotationdefaults": {
           "arrowcolor": "#f2f5fa",
           "arrowhead": 0,
           "arrowwidth": 1
          },
          "autotypenumbers": "strict",
          "coloraxis": {
           "colorbar": {
            "outlinewidth": 0,
            "ticks": ""
           }
          },
          "colorscale": {
           "diverging": [
            [
             0,
             "#8e0152"
            ],
            [
             0.1,
             "#c51b7d"
            ],
            [
             0.2,
             "#de77ae"
            ],
            [
             0.3,
             "#f1b6da"
            ],
            [
             0.4,
             "#fde0ef"
            ],
            [
             0.5,
             "#f7f7f7"
            ],
            [
             0.6,
             "#e6f5d0"
            ],
            [
             0.7,
             "#b8e186"
            ],
            [
             0.8,
             "#7fbc41"
            ],
            [
             0.9,
             "#4d9221"
            ],
            [
             1,
             "#276419"
            ]
           ],
           "sequential": [
            [
             0,
             "#0d0887"
            ],
            [
             0.1111111111111111,
             "#46039f"
            ],
            [
             0.2222222222222222,
             "#7201a8"
            ],
            [
             0.3333333333333333,
             "#9c179e"
            ],
            [
             0.4444444444444444,
             "#bd3786"
            ],
            [
             0.5555555555555556,
             "#d8576b"
            ],
            [
             0.6666666666666666,
             "#ed7953"
            ],
            [
             0.7777777777777778,
             "#fb9f3a"
            ],
            [
             0.8888888888888888,
             "#fdca26"
            ],
            [
             1,
             "#f0f921"
            ]
           ],
           "sequentialminus": [
            [
             0,
             "#0d0887"
            ],
            [
             0.1111111111111111,
             "#46039f"
            ],
            [
             0.2222222222222222,
             "#7201a8"
            ],
            [
             0.3333333333333333,
             "#9c179e"
            ],
            [
             0.4444444444444444,
             "#bd3786"
            ],
            [
             0.5555555555555556,
             "#d8576b"
            ],
            [
             0.6666666666666666,
             "#ed7953"
            ],
            [
             0.7777777777777778,
             "#fb9f3a"
            ],
            [
             0.8888888888888888,
             "#fdca26"
            ],
            [
             1,
             "#f0f921"
            ]
           ]
          },
          "colorway": [
           "#636efa",
           "#EF553B",
           "#00cc96",
           "#ab63fa",
           "#FFA15A",
           "#19d3f3",
           "#FF6692",
           "#B6E880",
           "#FF97FF",
           "#FECB52"
          ],
          "font": {
           "color": "#f2f5fa"
          },
          "geo": {
           "bgcolor": "rgb(17,17,17)",
           "lakecolor": "rgb(17,17,17)",
           "landcolor": "rgb(17,17,17)",
           "showlakes": true,
           "showland": true,
           "subunitcolor": "#506784"
          },
          "hoverlabel": {
           "align": "left"
          },
          "hovermode": "closest",
          "mapbox": {
           "style": "dark"
          },
          "paper_bgcolor": "rgb(17,17,17)",
          "plot_bgcolor": "rgb(17,17,17)",
          "polar": {
           "angularaxis": {
            "gridcolor": "#506784",
            "linecolor": "#506784",
            "ticks": ""
           },
           "bgcolor": "rgb(17,17,17)",
           "radialaxis": {
            "gridcolor": "#506784",
            "linecolor": "#506784",
            "ticks": ""
           }
          },
          "scene": {
           "xaxis": {
            "backgroundcolor": "rgb(17,17,17)",
            "gridcolor": "#506784",
            "gridwidth": 2,
            "linecolor": "#506784",
            "showbackground": true,
            "ticks": "",
            "zerolinecolor": "#C8D4E3"
           },
           "yaxis": {
            "backgroundcolor": "rgb(17,17,17)",
            "gridcolor": "#506784",
            "gridwidth": 2,
            "linecolor": "#506784",
            "showbackground": true,
            "ticks": "",
            "zerolinecolor": "#C8D4E3"
           },
           "zaxis": {
            "backgroundcolor": "rgb(17,17,17)",
            "gridcolor": "#506784",
            "gridwidth": 2,
            "linecolor": "#506784",
            "showbackground": true,
            "ticks": "",
            "zerolinecolor": "#C8D4E3"
           }
          },
          "shapedefaults": {
           "line": {
            "color": "#f2f5fa"
           }
          },
          "sliderdefaults": {
           "bgcolor": "#C8D4E3",
           "bordercolor": "rgb(17,17,17)",
           "borderwidth": 1,
           "tickwidth": 0
          },
          "ternary": {
           "aaxis": {
            "gridcolor": "#506784",
            "linecolor": "#506784",
            "ticks": ""
           },
           "baxis": {
            "gridcolor": "#506784",
            "linecolor": "#506784",
            "ticks": ""
           },
           "bgcolor": "rgb(17,17,17)",
           "caxis": {
            "gridcolor": "#506784",
            "linecolor": "#506784",
            "ticks": ""
           }
          },
          "title": {
           "x": 0.05
          },
          "updatemenudefaults": {
           "bgcolor": "#506784",
           "borderwidth": 0
          },
          "xaxis": {
           "automargin": true,
           "gridcolor": "#283442",
           "linecolor": "#506784",
           "ticks": "",
           "title": {
            "standoff": 15
           },
           "zerolinecolor": "#283442",
           "zerolinewidth": 2
          },
          "yaxis": {
           "automargin": true,
           "gridcolor": "#283442",
           "linecolor": "#506784",
           "ticks": "",
           "title": {
            "standoff": 15
           },
           "zerolinecolor": "#283442",
           "zerolinewidth": 2
          }
         }
        },
        "title": {
         "text": "Vietoris-Rips Complex Projections"
        },
        "width": 1200,
        "xaxis": {
         "anchor": "y",
         "domain": [
          0,
          0.3
         ]
        },
        "xaxis2": {
         "anchor": "y2",
         "domain": [
          0.35,
          0.6499999999999999
         ]
        },
        "xaxis3": {
         "anchor": "y3",
         "domain": [
          0.7,
          1
         ]
        },
        "yaxis": {
         "anchor": "x",
         "domain": [
          0,
          1
         ]
        },
        "yaxis2": {
         "anchor": "x2",
         "domain": [
          0,
          1
         ]
        },
        "yaxis3": {
         "anchor": "x3",
         "domain": [
          0,
          1
         ]
        }
       }
      }
     },
     "metadata": {},
     "output_type": "display_data"
    }
   ],
   "source": [
    "from plotly.subplots import make_subplots\n",
    "\n",
    "def rips_projections():\n",
    "    \"\"\"\n",
    "    Show XY, XZ and YZ projections of the Vietoris-Rips complex on the UMAP embedding.\n",
    "    \"\"\"\n",
    "    coords = df_space[[\"UMAP1\", \"UMAP2\", \"UMAP3\"]].values\n",
    "    ids = df_space[\"ID\"].astype(str).tolist()\n",
    "\n",
    "    # Prepare subplot grid and scatter plot parameters\n",
    "    fig = make_subplots(\n",
    "        rows=1, cols=3,\n",
    "        subplot_titles=(\"UMAP1 vs UMAP2\", \"UMAP1 vs UMAP3\", \"UMAP2 vs UMAP3\"),\n",
    "        horizontal_spacing=0.05\n",
    "    )\n",
    "    scatter_kwargs = dict(\n",
    "        mode=\"markers\",\n",
    "        xaxis=None, yaxis=None,\n",
    "        marker=dict(size=6, color=df_space[\"Base fee\"], showscale=True, \n",
    "                    colorbar=dict(title=\"Base fee\"), colorscale=\"amp\", cmin=40, cmax=125),\n",
    "        hovertext=ids,\n",
    "        hoverinfo=\"text\",\n",
    "        showlegend=False \n",
    "    )\n",
    "\n",
    "    # The three projection pairs\n",
    "    dims = [(0,1), (0,2), (1,2)]\n",
    "    for col, (i, j) in enumerate(dims, start=1):\n",
    "        # Add the edges for the current projection\n",
    "        for simplex, _ in simplex_tree.get_skeleton(1):\n",
    "            if len(simplex) == 2:\n",
    "                a, b = simplex\n",
    "                fig.add_trace(\n",
    "                    go.Scatter(\n",
    "                        x=[coords[a,i], coords[b,i], None],\n",
    "                        y=[coords[a,j], coords[b,j], None],\n",
    "                        mode=\"lines\",\n",
    "                        line=dict(color=\"gray\", width=1),\n",
    "                        hoverinfo=\"none\",\n",
    "                        showlegend=False\n",
    "                    ),\n",
    "                    row=1, col=col\n",
    "                )\n",
    "        # Add the scatter points for the current projection\n",
    "        fig.add_trace(\n",
    "            go.Scatter(\n",
    "                x=coords[:,i],\n",
    "                y=coords[:,j],\n",
    "                **scatter_kwargs\n",
    "            ),\n",
    "            row=1, col=col\n",
    "        )\n",
    "\n",
    "    fig.update_layout(\n",
    "        title=\"Vietoris-Rips Complex Projections\",\n",
    "        template=\"plotly_dark\",\n",
    "        height=500, width=1200,\n",
    "        #margin=dict(l=20, r=20, t=60, b=20)\n",
    "    )\n",
    "    for idx in range(1, 4):\n",
    "        fig.update_xaxes(matches=None, row=1, col=idx)\n",
    "        fig.update_yaxes(matches=None, row=1, col=idx)\n",
    "\n",
    "    return fig\n",
    "\n",
    "rips_projections()"
   ]
  },
  {
   "cell_type": "code",
   "execution_count": 11,
   "id": "f8159185",
   "metadata": {},
   "outputs": [
    {
     "data": {
      "application/vnd.plotly.v1+json": {
       "config": {
        "plotlyServerURL": "https://plot.ly"
       },
       "data": [
        {
         "legendgroup": "2",
         "marker": {
          "color": "#fac9c9",
          "opacity": 0.85,
          "size": 9
         },
         "mode": "markers",
         "name": "H2",
         "type": "scatter",
         "x": [
          0.8284631583926967,
          0.9490532685323683
         ],
         "xaxis": "x",
         "y": [
          0.8615323930633445,
          0.9699220362781117
         ],
         "yaxis": "y"
        },
        {
         "legendgroup": "1",
         "marker": {
          "color": "#ff657f",
          "opacity": 0.85,
          "size": 9
         },
         "mode": "markers",
         "name": "H1",
         "type": "scatter",
         "x": [
          0.8174445512333319,
          0.7078960212195783,
          0.6112730675563113,
          0.5678897027534038,
          0.5289065364456168,
          0.8123773717650855,
          0.5610730452453446,
          0.6756868183257133,
          0.4535791472211796,
          0.6456757814502359,
          0.6505459753562437,
          0.7595740520468179,
          0.7541786257865637,
          0.4158362401593631,
          0.4871447639749368,
          0.8573511256287353,
          0.5311311083851064,
          0.5525863613109713,
          0.7400044674827849,
          0.6373146113800915,
          0.5819998034813404,
          0.673909937714447,
          0.7566872634621088,
          0.4844971128018321,
          0.5619936379398943,
          0.7354476255849727
         ],
         "xaxis": "x",
         "y": [
          1,
          0.9736216971045422,
          0.8726939846198123,
          0.8076957596504439,
          0.710333862560845,
          0.9920164731209585,
          0.7328432856161026,
          0.8140580073393647,
          0.5881817420719666,
          0.7651728578357982,
          0.7686451555100381,
          0.8744885512345911,
          0.8689906581511557,
          0.5261406492366901,
          0.5637589998549819,
          0.9132897212876853,
          0.5852825803105509,
          0.6000506097849253,
          0.7803520517494621,
          0.6527644196348504,
          0.5971780108130466,
          0.6867018630531407,
          0.7680618550928162,
          0.4913097257598104,
          0.565427800822495,
          0.7362083407595179
         ],
         "yaxis": "y"
        },
        {
         "legendgroup": "0",
         "marker": {
          "color": "#7e0d24",
          "opacity": 0.85,
          "size": 9
         },
         "mode": "markers",
         "name": "H0",
         "type": "scatter",
         "x": [
          0,
          0,
          0,
          0,
          0,
          0,
          0,
          0,
          0,
          0,
          0,
          0,
          0,
          0,
          0,
          0,
          0,
          0,
          0,
          0,
          0,
          0,
          0,
          0,
          0,
          0,
          0,
          0,
          0,
          0,
          0,
          0,
          0,
          0,
          0,
          0,
          0,
          0,
          0,
          0,
          0,
          0,
          0,
          0,
          0,
          0,
          0,
          0,
          0,
          0,
          0,
          0,
          0,
          0,
          0,
          0,
          0,
          0,
          0,
          0,
          0,
          0,
          0,
          0,
          0,
          0,
          0,
          0,
          0,
          0,
          0,
          0,
          0,
          0,
          0,
          0,
          0,
          0,
          0
         ],
         "xaxis": "x",
         "y": [
          1,
          0.7792592996514279,
          0.6527753899936024,
          0.6522860158717491,
          0.6470506623139788,
          0.6218172807746986,
          0.5824110668874097,
          0.5648155070656484,
          0.5602859786818125,
          0.5579621337207599,
          0.5555320874409043,
          0.5506368387266514,
          0.5486708686400018,
          0.5465871070710938,
          0.5391834694904124,
          0.5303044462453216,
          0.5261513863968521,
          0.5094366674487382,
          0.5065085713258385,
          0.5019169418095438,
          0.5007464855077308,
          0.497174521069411,
          0.48750055428923467,
          0.4813949751609754,
          0.4527538361672935,
          0.451160135416602,
          0.448962265462997,
          0.44527533414382137,
          0.44036670799511657,
          0.43780775817234235,
          0.43692410242839236,
          0.4282205116691816,
          0.4275607357779197,
          0.42458499532526595,
          0.4239518376625557,
          0.41484730954565985,
          0.4109151513151559,
          0.4069519408251117,
          0.40678248765596625,
          0.40612191915557827,
          0.4020696621970867,
          0.400057229744836,
          0.39883279598179994,
          0.3961221076056188,
          0.39597295821705886,
          0.3947891335994138,
          0.39057779479326393,
          0.38964548560940016,
          0.3870061850264218,
          0.38518065880952956,
          0.38246197889772665,
          0.3818238360856669,
          0.3816020686098269,
          0.3783920697624456,
          0.37726085945455384,
          0.3724211936642276,
          0.3660561022169849,
          0.36489055387829133,
          0.3611923158584551,
          0.3597594585666003,
          0.3571687911200069,
          0.3521426774819457,
          0.34152613181661096,
          0.33853779676277257,
          0.3385314553382301,
          0.33694472227150796,
          0.3358754767356154,
          0.33424390204370824,
          0.3334045269233715,
          0.31016332114914014,
          0.30314822007447145,
          0.28983681325632094,
          0.28541894170337534,
          0.2596935786927405,
          0.2559760511810972,
          0.24796133372385457,
          0.21890843560540063,
          0.21816635806883986,
          0.1598341966247749
         ],
         "yaxis": "y"
        },
        {
         "line": {
          "color": "white",
          "dash": "dash"
         },
         "mode": "lines",
         "showlegend": false,
         "type": "scatter",
         "x": [
          0,
          1
         ],
         "xaxis": "x",
         "y": [
          0,
          1
         ],
         "yaxis": "y"
        },
        {
         "line": {
          "color": "#fac9c9",
          "width": 4
         },
         "mode": "lines",
         "showlegend": false,
         "type": "scatter",
         "x": [
          0.8284631583926967,
          0.8615323930633445
         ],
         "xaxis": "x2",
         "y": [
          0,
          0
         ],
         "yaxis": "y2"
        },
        {
         "line": {
          "color": "#fac9c9",
          "width": 4
         },
         "mode": "lines",
         "showlegend": false,
         "type": "scatter",
         "x": [
          0.9490532685323683,
          0.9699220362781117
         ],
         "xaxis": "x2",
         "y": [
          1,
          1
         ],
         "yaxis": "y2"
        },
        {
         "line": {
          "color": "#ff657f",
          "width": 4
         },
         "mode": "lines",
         "showlegend": false,
         "type": "scatter",
         "x": [
          0.8174445512333319,
          1
         ],
         "xaxis": "x2",
         "y": [
          2,
          2
         ],
         "yaxis": "y2"
        },
        {
         "line": {
          "color": "#ff657f",
          "width": 4
         },
         "mode": "lines",
         "showlegend": false,
         "type": "scatter",
         "x": [
          0.7078960212195783,
          0.9736216971045422
         ],
         "xaxis": "x2",
         "y": [
          3,
          3
         ],
         "yaxis": "y2"
        },
        {
         "line": {
          "color": "#ff657f",
          "width": 4
         },
         "mode": "lines",
         "showlegend": false,
         "type": "scatter",
         "x": [
          0.6112730675563113,
          0.8726939846198123
         ],
         "xaxis": "x2",
         "y": [
          4,
          4
         ],
         "yaxis": "y2"
        },
        {
         "line": {
          "color": "#ff657f",
          "width": 4
         },
         "mode": "lines",
         "showlegend": false,
         "type": "scatter",
         "x": [
          0.5678897027534038,
          0.8076957596504439
         ],
         "xaxis": "x2",
         "y": [
          5,
          5
         ],
         "yaxis": "y2"
        },
        {
         "line": {
          "color": "#ff657f",
          "width": 4
         },
         "mode": "lines",
         "showlegend": false,
         "type": "scatter",
         "x": [
          0.5289065364456168,
          0.710333862560845
         ],
         "xaxis": "x2",
         "y": [
          6,
          6
         ],
         "yaxis": "y2"
        },
        {
         "line": {
          "color": "#ff657f",
          "width": 4
         },
         "mode": "lines",
         "showlegend": false,
         "type": "scatter",
         "x": [
          0.8123773717650855,
          0.9920164731209585
         ],
         "xaxis": "x2",
         "y": [
          7,
          7
         ],
         "yaxis": "y2"
        },
        {
         "line": {
          "color": "#ff657f",
          "width": 4
         },
         "mode": "lines",
         "showlegend": false,
         "type": "scatter",
         "x": [
          0.5610730452453446,
          0.7328432856161026
         ],
         "xaxis": "x2",
         "y": [
          8,
          8
         ],
         "yaxis": "y2"
        },
        {
         "line": {
          "color": "#ff657f",
          "width": 4
         },
         "mode": "lines",
         "showlegend": false,
         "type": "scatter",
         "x": [
          0.6756868183257133,
          0.8140580073393647
         ],
         "xaxis": "x2",
         "y": [
          9,
          9
         ],
         "yaxis": "y2"
        },
        {
         "line": {
          "color": "#ff657f",
          "width": 4
         },
         "mode": "lines",
         "showlegend": false,
         "type": "scatter",
         "x": [
          0.4535791472211796,
          0.5881817420719666
         ],
         "xaxis": "x2",
         "y": [
          10,
          10
         ],
         "yaxis": "y2"
        },
        {
         "line": {
          "color": "#ff657f",
          "width": 4
         },
         "mode": "lines",
         "showlegend": false,
         "type": "scatter",
         "x": [
          0.6456757814502359,
          0.7651728578357982
         ],
         "xaxis": "x2",
         "y": [
          11,
          11
         ],
         "yaxis": "y2"
        },
        {
         "line": {
          "color": "#ff657f",
          "width": 4
         },
         "mode": "lines",
         "showlegend": false,
         "type": "scatter",
         "x": [
          0.6505459753562437,
          0.7686451555100381
         ],
         "xaxis": "x2",
         "y": [
          12,
          12
         ],
         "yaxis": "y2"
        },
        {
         "line": {
          "color": "#ff657f",
          "width": 4
         },
         "mode": "lines",
         "showlegend": false,
         "type": "scatter",
         "x": [
          0.7595740520468179,
          0.8744885512345911
         ],
         "xaxis": "x2",
         "y": [
          13,
          13
         ],
         "yaxis": "y2"
        },
        {
         "line": {
          "color": "#ff657f",
          "width": 4
         },
         "mode": "lines",
         "showlegend": false,
         "type": "scatter",
         "x": [
          0.7541786257865637,
          0.8689906581511557
         ],
         "xaxis": "x2",
         "y": [
          14,
          14
         ],
         "yaxis": "y2"
        },
        {
         "line": {
          "color": "#ff657f",
          "width": 4
         },
         "mode": "lines",
         "showlegend": false,
         "type": "scatter",
         "x": [
          0.4158362401593631,
          0.5261406492366901
         ],
         "xaxis": "x2",
         "y": [
          15,
          15
         ],
         "yaxis": "y2"
        },
        {
         "line": {
          "color": "#ff657f",
          "width": 4
         },
         "mode": "lines",
         "showlegend": false,
         "type": "scatter",
         "x": [
          0.4871447639749368,
          0.5637589998549819
         ],
         "xaxis": "x2",
         "y": [
          16,
          16
         ],
         "yaxis": "y2"
        },
        {
         "line": {
          "color": "#ff657f",
          "width": 4
         },
         "mode": "lines",
         "showlegend": false,
         "type": "scatter",
         "x": [
          0.8573511256287353,
          0.9132897212876853
         ],
         "xaxis": "x2",
         "y": [
          17,
          17
         ],
         "yaxis": "y2"
        },
        {
         "line": {
          "color": "#ff657f",
          "width": 4
         },
         "mode": "lines",
         "showlegend": false,
         "type": "scatter",
         "x": [
          0.5311311083851064,
          0.5852825803105509
         ],
         "xaxis": "x2",
         "y": [
          18,
          18
         ],
         "yaxis": "y2"
        },
        {
         "line": {
          "color": "#ff657f",
          "width": 4
         },
         "mode": "lines",
         "showlegend": false,
         "type": "scatter",
         "x": [
          0.5525863613109713,
          0.6000506097849253
         ],
         "xaxis": "x2",
         "y": [
          19,
          19
         ],
         "yaxis": "y2"
        },
        {
         "line": {
          "color": "#ff657f",
          "width": 4
         },
         "mode": "lines",
         "showlegend": false,
         "type": "scatter",
         "x": [
          0.7400044674827849,
          0.7803520517494621
         ],
         "xaxis": "x2",
         "y": [
          20,
          20
         ],
         "yaxis": "y2"
        },
        {
         "line": {
          "color": "#ff657f",
          "width": 4
         },
         "mode": "lines",
         "showlegend": false,
         "type": "scatter",
         "x": [
          0.6373146113800915,
          0.6527644196348504
         ],
         "xaxis": "x2",
         "y": [
          21,
          21
         ],
         "yaxis": "y2"
        },
        {
         "line": {
          "color": "#ff657f",
          "width": 4
         },
         "mode": "lines",
         "showlegend": false,
         "type": "scatter",
         "x": [
          0.5819998034813404,
          0.5971780108130466
         ],
         "xaxis": "x2",
         "y": [
          22,
          22
         ],
         "yaxis": "y2"
        },
        {
         "line": {
          "color": "#ff657f",
          "width": 4
         },
         "mode": "lines",
         "showlegend": false,
         "type": "scatter",
         "x": [
          0.673909937714447,
          0.6867018630531407
         ],
         "xaxis": "x2",
         "y": [
          23,
          23
         ],
         "yaxis": "y2"
        },
        {
         "line": {
          "color": "#ff657f",
          "width": 4
         },
         "mode": "lines",
         "showlegend": false,
         "type": "scatter",
         "x": [
          0.7566872634621088,
          0.7680618550928162
         ],
         "xaxis": "x2",
         "y": [
          24,
          24
         ],
         "yaxis": "y2"
        },
        {
         "line": {
          "color": "#ff657f",
          "width": 4
         },
         "mode": "lines",
         "showlegend": false,
         "type": "scatter",
         "x": [
          0.4844971128018321,
          0.4913097257598104
         ],
         "xaxis": "x2",
         "y": [
          25,
          25
         ],
         "yaxis": "y2"
        },
        {
         "line": {
          "color": "#ff657f",
          "width": 4
         },
         "mode": "lines",
         "showlegend": false,
         "type": "scatter",
         "x": [
          0.5619936379398943,
          0.565427800822495
         ],
         "xaxis": "x2",
         "y": [
          26,
          26
         ],
         "yaxis": "y2"
        },
        {
         "line": {
          "color": "#ff657f",
          "width": 4
         },
         "mode": "lines",
         "showlegend": false,
         "type": "scatter",
         "x": [
          0.7354476255849727,
          0.7362083407595179
         ],
         "xaxis": "x2",
         "y": [
          27,
          27
         ],
         "yaxis": "y2"
        },
        {
         "line": {
          "color": "#7e0d24",
          "width": 4
         },
         "mode": "lines",
         "showlegend": false,
         "type": "scatter",
         "x": [
          0,
          1
         ],
         "xaxis": "x2",
         "y": [
          28,
          28
         ],
         "yaxis": "y2"
        },
        {
         "line": {
          "color": "#7e0d24",
          "width": 4
         },
         "mode": "lines",
         "showlegend": false,
         "type": "scatter",
         "x": [
          0,
          0.7792592996514279
         ],
         "xaxis": "x2",
         "y": [
          29,
          29
         ],
         "yaxis": "y2"
        },
        {
         "line": {
          "color": "#7e0d24",
          "width": 4
         },
         "mode": "lines",
         "showlegend": false,
         "type": "scatter",
         "x": [
          0,
          0.6527753899936024
         ],
         "xaxis": "x2",
         "y": [
          30,
          30
         ],
         "yaxis": "y2"
        },
        {
         "line": {
          "color": "#7e0d24",
          "width": 4
         },
         "mode": "lines",
         "showlegend": false,
         "type": "scatter",
         "x": [
          0,
          0.6522860158717491
         ],
         "xaxis": "x2",
         "y": [
          31,
          31
         ],
         "yaxis": "y2"
        },
        {
         "line": {
          "color": "#7e0d24",
          "width": 4
         },
         "mode": "lines",
         "showlegend": false,
         "type": "scatter",
         "x": [
          0,
          0.6470506623139788
         ],
         "xaxis": "x2",
         "y": [
          32,
          32
         ],
         "yaxis": "y2"
        },
        {
         "line": {
          "color": "#7e0d24",
          "width": 4
         },
         "mode": "lines",
         "showlegend": false,
         "type": "scatter",
         "x": [
          0,
          0.6218172807746986
         ],
         "xaxis": "x2",
         "y": [
          33,
          33
         ],
         "yaxis": "y2"
        },
        {
         "line": {
          "color": "#7e0d24",
          "width": 4
         },
         "mode": "lines",
         "showlegend": false,
         "type": "scatter",
         "x": [
          0,
          0.5824110668874097
         ],
         "xaxis": "x2",
         "y": [
          34,
          34
         ],
         "yaxis": "y2"
        },
        {
         "line": {
          "color": "#7e0d24",
          "width": 4
         },
         "mode": "lines",
         "showlegend": false,
         "type": "scatter",
         "x": [
          0,
          0.5648155070656484
         ],
         "xaxis": "x2",
         "y": [
          35,
          35
         ],
         "yaxis": "y2"
        },
        {
         "line": {
          "color": "#7e0d24",
          "width": 4
         },
         "mode": "lines",
         "showlegend": false,
         "type": "scatter",
         "x": [
          0,
          0.5602859786818125
         ],
         "xaxis": "x2",
         "y": [
          36,
          36
         ],
         "yaxis": "y2"
        },
        {
         "line": {
          "color": "#7e0d24",
          "width": 4
         },
         "mode": "lines",
         "showlegend": false,
         "type": "scatter",
         "x": [
          0,
          0.5579621337207599
         ],
         "xaxis": "x2",
         "y": [
          37,
          37
         ],
         "yaxis": "y2"
        },
        {
         "line": {
          "color": "#7e0d24",
          "width": 4
         },
         "mode": "lines",
         "showlegend": false,
         "type": "scatter",
         "x": [
          0,
          0.5555320874409043
         ],
         "xaxis": "x2",
         "y": [
          38,
          38
         ],
         "yaxis": "y2"
        },
        {
         "line": {
          "color": "#7e0d24",
          "width": 4
         },
         "mode": "lines",
         "showlegend": false,
         "type": "scatter",
         "x": [
          0,
          0.5506368387266514
         ],
         "xaxis": "x2",
         "y": [
          39,
          39
         ],
         "yaxis": "y2"
        },
        {
         "line": {
          "color": "#7e0d24",
          "width": 4
         },
         "mode": "lines",
         "showlegend": false,
         "type": "scatter",
         "x": [
          0,
          0.5486708686400018
         ],
         "xaxis": "x2",
         "y": [
          40,
          40
         ],
         "yaxis": "y2"
        },
        {
         "line": {
          "color": "#7e0d24",
          "width": 4
         },
         "mode": "lines",
         "showlegend": false,
         "type": "scatter",
         "x": [
          0,
          0.5465871070710938
         ],
         "xaxis": "x2",
         "y": [
          41,
          41
         ],
         "yaxis": "y2"
        },
        {
         "line": {
          "color": "#7e0d24",
          "width": 4
         },
         "mode": "lines",
         "showlegend": false,
         "type": "scatter",
         "x": [
          0,
          0.5391834694904124
         ],
         "xaxis": "x2",
         "y": [
          42,
          42
         ],
         "yaxis": "y2"
        },
        {
         "line": {
          "color": "#7e0d24",
          "width": 4
         },
         "mode": "lines",
         "showlegend": false,
         "type": "scatter",
         "x": [
          0,
          0.5303044462453216
         ],
         "xaxis": "x2",
         "y": [
          43,
          43
         ],
         "yaxis": "y2"
        },
        {
         "line": {
          "color": "#7e0d24",
          "width": 4
         },
         "mode": "lines",
         "showlegend": false,
         "type": "scatter",
         "x": [
          0,
          0.5261513863968521
         ],
         "xaxis": "x2",
         "y": [
          44,
          44
         ],
         "yaxis": "y2"
        },
        {
         "line": {
          "color": "#7e0d24",
          "width": 4
         },
         "mode": "lines",
         "showlegend": false,
         "type": "scatter",
         "x": [
          0,
          0.5094366674487382
         ],
         "xaxis": "x2",
         "y": [
          45,
          45
         ],
         "yaxis": "y2"
        },
        {
         "line": {
          "color": "#7e0d24",
          "width": 4
         },
         "mode": "lines",
         "showlegend": false,
         "type": "scatter",
         "x": [
          0,
          0.5065085713258385
         ],
         "xaxis": "x2",
         "y": [
          46,
          46
         ],
         "yaxis": "y2"
        },
        {
         "line": {
          "color": "#7e0d24",
          "width": 4
         },
         "mode": "lines",
         "showlegend": false,
         "type": "scatter",
         "x": [
          0,
          0.5019169418095438
         ],
         "xaxis": "x2",
         "y": [
          47,
          47
         ],
         "yaxis": "y2"
        },
        {
         "line": {
          "color": "#7e0d24",
          "width": 4
         },
         "mode": "lines",
         "showlegend": false,
         "type": "scatter",
         "x": [
          0,
          0.5007464855077308
         ],
         "xaxis": "x2",
         "y": [
          48,
          48
         ],
         "yaxis": "y2"
        },
        {
         "line": {
          "color": "#7e0d24",
          "width": 4
         },
         "mode": "lines",
         "showlegend": false,
         "type": "scatter",
         "x": [
          0,
          0.497174521069411
         ],
         "xaxis": "x2",
         "y": [
          49,
          49
         ],
         "yaxis": "y2"
        },
        {
         "line": {
          "color": "#7e0d24",
          "width": 4
         },
         "mode": "lines",
         "showlegend": false,
         "type": "scatter",
         "x": [
          0,
          0.48750055428923467
         ],
         "xaxis": "x2",
         "y": [
          50,
          50
         ],
         "yaxis": "y2"
        },
        {
         "line": {
          "color": "#7e0d24",
          "width": 4
         },
         "mode": "lines",
         "showlegend": false,
         "type": "scatter",
         "x": [
          0,
          0.4813949751609754
         ],
         "xaxis": "x2",
         "y": [
          51,
          51
         ],
         "yaxis": "y2"
        },
        {
         "line": {
          "color": "#7e0d24",
          "width": 4
         },
         "mode": "lines",
         "showlegend": false,
         "type": "scatter",
         "x": [
          0,
          0.4527538361672935
         ],
         "xaxis": "x2",
         "y": [
          52,
          52
         ],
         "yaxis": "y2"
        },
        {
         "line": {
          "color": "#7e0d24",
          "width": 4
         },
         "mode": "lines",
         "showlegend": false,
         "type": "scatter",
         "x": [
          0,
          0.451160135416602
         ],
         "xaxis": "x2",
         "y": [
          53,
          53
         ],
         "yaxis": "y2"
        },
        {
         "line": {
          "color": "#7e0d24",
          "width": 4
         },
         "mode": "lines",
         "showlegend": false,
         "type": "scatter",
         "x": [
          0,
          0.448962265462997
         ],
         "xaxis": "x2",
         "y": [
          54,
          54
         ],
         "yaxis": "y2"
        },
        {
         "line": {
          "color": "#7e0d24",
          "width": 4
         },
         "mode": "lines",
         "showlegend": false,
         "type": "scatter",
         "x": [
          0,
          0.44527533414382137
         ],
         "xaxis": "x2",
         "y": [
          55,
          55
         ],
         "yaxis": "y2"
        },
        {
         "line": {
          "color": "#7e0d24",
          "width": 4
         },
         "mode": "lines",
         "showlegend": false,
         "type": "scatter",
         "x": [
          0,
          0.44036670799511657
         ],
         "xaxis": "x2",
         "y": [
          56,
          56
         ],
         "yaxis": "y2"
        },
        {
         "line": {
          "color": "#7e0d24",
          "width": 4
         },
         "mode": "lines",
         "showlegend": false,
         "type": "scatter",
         "x": [
          0,
          0.43780775817234235
         ],
         "xaxis": "x2",
         "y": [
          57,
          57
         ],
         "yaxis": "y2"
        },
        {
         "line": {
          "color": "#7e0d24",
          "width": 4
         },
         "mode": "lines",
         "showlegend": false,
         "type": "scatter",
         "x": [
          0,
          0.43692410242839236
         ],
         "xaxis": "x2",
         "y": [
          58,
          58
         ],
         "yaxis": "y2"
        },
        {
         "line": {
          "color": "#7e0d24",
          "width": 4
         },
         "mode": "lines",
         "showlegend": false,
         "type": "scatter",
         "x": [
          0,
          0.4282205116691816
         ],
         "xaxis": "x2",
         "y": [
          59,
          59
         ],
         "yaxis": "y2"
        },
        {
         "line": {
          "color": "#7e0d24",
          "width": 4
         },
         "mode": "lines",
         "showlegend": false,
         "type": "scatter",
         "x": [
          0,
          0.4275607357779197
         ],
         "xaxis": "x2",
         "y": [
          60,
          60
         ],
         "yaxis": "y2"
        },
        {
         "line": {
          "color": "#7e0d24",
          "width": 4
         },
         "mode": "lines",
         "showlegend": false,
         "type": "scatter",
         "x": [
          0,
          0.42458499532526595
         ],
         "xaxis": "x2",
         "y": [
          61,
          61
         ],
         "yaxis": "y2"
        },
        {
         "line": {
          "color": "#7e0d24",
          "width": 4
         },
         "mode": "lines",
         "showlegend": false,
         "type": "scatter",
         "x": [
          0,
          0.4239518376625557
         ],
         "xaxis": "x2",
         "y": [
          62,
          62
         ],
         "yaxis": "y2"
        },
        {
         "line": {
          "color": "#7e0d24",
          "width": 4
         },
         "mode": "lines",
         "showlegend": false,
         "type": "scatter",
         "x": [
          0,
          0.41484730954565985
         ],
         "xaxis": "x2",
         "y": [
          63,
          63
         ],
         "yaxis": "y2"
        },
        {
         "line": {
          "color": "#7e0d24",
          "width": 4
         },
         "mode": "lines",
         "showlegend": false,
         "type": "scatter",
         "x": [
          0,
          0.4109151513151559
         ],
         "xaxis": "x2",
         "y": [
          64,
          64
         ],
         "yaxis": "y2"
        },
        {
         "line": {
          "color": "#7e0d24",
          "width": 4
         },
         "mode": "lines",
         "showlegend": false,
         "type": "scatter",
         "x": [
          0,
          0.4069519408251117
         ],
         "xaxis": "x2",
         "y": [
          65,
          65
         ],
         "yaxis": "y2"
        },
        {
         "line": {
          "color": "#7e0d24",
          "width": 4
         },
         "mode": "lines",
         "showlegend": false,
         "type": "scatter",
         "x": [
          0,
          0.40678248765596625
         ],
         "xaxis": "x2",
         "y": [
          66,
          66
         ],
         "yaxis": "y2"
        },
        {
         "line": {
          "color": "#7e0d24",
          "width": 4
         },
         "mode": "lines",
         "showlegend": false,
         "type": "scatter",
         "x": [
          0,
          0.40612191915557827
         ],
         "xaxis": "x2",
         "y": [
          67,
          67
         ],
         "yaxis": "y2"
        },
        {
         "line": {
          "color": "#7e0d24",
          "width": 4
         },
         "mode": "lines",
         "showlegend": false,
         "type": "scatter",
         "x": [
          0,
          0.4020696621970867
         ],
         "xaxis": "x2",
         "y": [
          68,
          68
         ],
         "yaxis": "y2"
        },
        {
         "line": {
          "color": "#7e0d24",
          "width": 4
         },
         "mode": "lines",
         "showlegend": false,
         "type": "scatter",
         "x": [
          0,
          0.400057229744836
         ],
         "xaxis": "x2",
         "y": [
          69,
          69
         ],
         "yaxis": "y2"
        },
        {
         "line": {
          "color": "#7e0d24",
          "width": 4
         },
         "mode": "lines",
         "showlegend": false,
         "type": "scatter",
         "x": [
          0,
          0.39883279598179994
         ],
         "xaxis": "x2",
         "y": [
          70,
          70
         ],
         "yaxis": "y2"
        },
        {
         "line": {
          "color": "#7e0d24",
          "width": 4
         },
         "mode": "lines",
         "showlegend": false,
         "type": "scatter",
         "x": [
          0,
          0.3961221076056188
         ],
         "xaxis": "x2",
         "y": [
          71,
          71
         ],
         "yaxis": "y2"
        },
        {
         "line": {
          "color": "#7e0d24",
          "width": 4
         },
         "mode": "lines",
         "showlegend": false,
         "type": "scatter",
         "x": [
          0,
          0.39597295821705886
         ],
         "xaxis": "x2",
         "y": [
          72,
          72
         ],
         "yaxis": "y2"
        },
        {
         "line": {
          "color": "#7e0d24",
          "width": 4
         },
         "mode": "lines",
         "showlegend": false,
         "type": "scatter",
         "x": [
          0,
          0.3947891335994138
         ],
         "xaxis": "x2",
         "y": [
          73,
          73
         ],
         "yaxis": "y2"
        },
        {
         "line": {
          "color": "#7e0d24",
          "width": 4
         },
         "mode": "lines",
         "showlegend": false,
         "type": "scatter",
         "x": [
          0,
          0.39057779479326393
         ],
         "xaxis": "x2",
         "y": [
          74,
          74
         ],
         "yaxis": "y2"
        },
        {
         "line": {
          "color": "#7e0d24",
          "width": 4
         },
         "mode": "lines",
         "showlegend": false,
         "type": "scatter",
         "x": [
          0,
          0.38964548560940016
         ],
         "xaxis": "x2",
         "y": [
          75,
          75
         ],
         "yaxis": "y2"
        },
        {
         "line": {
          "color": "#7e0d24",
          "width": 4
         },
         "mode": "lines",
         "showlegend": false,
         "type": "scatter",
         "x": [
          0,
          0.3870061850264218
         ],
         "xaxis": "x2",
         "y": [
          76,
          76
         ],
         "yaxis": "y2"
        },
        {
         "line": {
          "color": "#7e0d24",
          "width": 4
         },
         "mode": "lines",
         "showlegend": false,
         "type": "scatter",
         "x": [
          0,
          0.38518065880952956
         ],
         "xaxis": "x2",
         "y": [
          77,
          77
         ],
         "yaxis": "y2"
        },
        {
         "line": {
          "color": "#7e0d24",
          "width": 4
         },
         "mode": "lines",
         "showlegend": false,
         "type": "scatter",
         "x": [
          0,
          0.38246197889772665
         ],
         "xaxis": "x2",
         "y": [
          78,
          78
         ],
         "yaxis": "y2"
        },
        {
         "line": {
          "color": "#7e0d24",
          "width": 4
         },
         "mode": "lines",
         "showlegend": false,
         "type": "scatter",
         "x": [
          0,
          0.3818238360856669
         ],
         "xaxis": "x2",
         "y": [
          79,
          79
         ],
         "yaxis": "y2"
        },
        {
         "line": {
          "color": "#7e0d24",
          "width": 4
         },
         "mode": "lines",
         "showlegend": false,
         "type": "scatter",
         "x": [
          0,
          0.3816020686098269
         ],
         "xaxis": "x2",
         "y": [
          80,
          80
         ],
         "yaxis": "y2"
        },
        {
         "line": {
          "color": "#7e0d24",
          "width": 4
         },
         "mode": "lines",
         "showlegend": false,
         "type": "scatter",
         "x": [
          0,
          0.3783920697624456
         ],
         "xaxis": "x2",
         "y": [
          81,
          81
         ],
         "yaxis": "y2"
        },
        {
         "line": {
          "color": "#7e0d24",
          "width": 4
         },
         "mode": "lines",
         "showlegend": false,
         "type": "scatter",
         "x": [
          0,
          0.37726085945455384
         ],
         "xaxis": "x2",
         "y": [
          82,
          82
         ],
         "yaxis": "y2"
        },
        {
         "line": {
          "color": "#7e0d24",
          "width": 4
         },
         "mode": "lines",
         "showlegend": false,
         "type": "scatter",
         "x": [
          0,
          0.3724211936642276
         ],
         "xaxis": "x2",
         "y": [
          83,
          83
         ],
         "yaxis": "y2"
        },
        {
         "line": {
          "color": "#7e0d24",
          "width": 4
         },
         "mode": "lines",
         "showlegend": false,
         "type": "scatter",
         "x": [
          0,
          0.3660561022169849
         ],
         "xaxis": "x2",
         "y": [
          84,
          84
         ],
         "yaxis": "y2"
        },
        {
         "line": {
          "color": "#7e0d24",
          "width": 4
         },
         "mode": "lines",
         "showlegend": false,
         "type": "scatter",
         "x": [
          0,
          0.36489055387829133
         ],
         "xaxis": "x2",
         "y": [
          85,
          85
         ],
         "yaxis": "y2"
        },
        {
         "line": {
          "color": "#7e0d24",
          "width": 4
         },
         "mode": "lines",
         "showlegend": false,
         "type": "scatter",
         "x": [
          0,
          0.3611923158584551
         ],
         "xaxis": "x2",
         "y": [
          86,
          86
         ],
         "yaxis": "y2"
        },
        {
         "line": {
          "color": "#7e0d24",
          "width": 4
         },
         "mode": "lines",
         "showlegend": false,
         "type": "scatter",
         "x": [
          0,
          0.3597594585666003
         ],
         "xaxis": "x2",
         "y": [
          87,
          87
         ],
         "yaxis": "y2"
        },
        {
         "line": {
          "color": "#7e0d24",
          "width": 4
         },
         "mode": "lines",
         "showlegend": false,
         "type": "scatter",
         "x": [
          0,
          0.3571687911200069
         ],
         "xaxis": "x2",
         "y": [
          88,
          88
         ],
         "yaxis": "y2"
        },
        {
         "line": {
          "color": "#7e0d24",
          "width": 4
         },
         "mode": "lines",
         "showlegend": false,
         "type": "scatter",
         "x": [
          0,
          0.3521426774819457
         ],
         "xaxis": "x2",
         "y": [
          89,
          89
         ],
         "yaxis": "y2"
        },
        {
         "line": {
          "color": "#7e0d24",
          "width": 4
         },
         "mode": "lines",
         "showlegend": false,
         "type": "scatter",
         "x": [
          0,
          0.34152613181661096
         ],
         "xaxis": "x2",
         "y": [
          90,
          90
         ],
         "yaxis": "y2"
        },
        {
         "line": {
          "color": "#7e0d24",
          "width": 4
         },
         "mode": "lines",
         "showlegend": false,
         "type": "scatter",
         "x": [
          0,
          0.33853779676277257
         ],
         "xaxis": "x2",
         "y": [
          91,
          91
         ],
         "yaxis": "y2"
        },
        {
         "line": {
          "color": "#7e0d24",
          "width": 4
         },
         "mode": "lines",
         "showlegend": false,
         "type": "scatter",
         "x": [
          0,
          0.3385314553382301
         ],
         "xaxis": "x2",
         "y": [
          92,
          92
         ],
         "yaxis": "y2"
        },
        {
         "line": {
          "color": "#7e0d24",
          "width": 4
         },
         "mode": "lines",
         "showlegend": false,
         "type": "scatter",
         "x": [
          0,
          0.33694472227150796
         ],
         "xaxis": "x2",
         "y": [
          93,
          93
         ],
         "yaxis": "y2"
        },
        {
         "line": {
          "color": "#7e0d24",
          "width": 4
         },
         "mode": "lines",
         "showlegend": false,
         "type": "scatter",
         "x": [
          0,
          0.3358754767356154
         ],
         "xaxis": "x2",
         "y": [
          94,
          94
         ],
         "yaxis": "y2"
        },
        {
         "line": {
          "color": "#7e0d24",
          "width": 4
         },
         "mode": "lines",
         "showlegend": false,
         "type": "scatter",
         "x": [
          0,
          0.33424390204370824
         ],
         "xaxis": "x2",
         "y": [
          95,
          95
         ],
         "yaxis": "y2"
        },
        {
         "line": {
          "color": "#7e0d24",
          "width": 4
         },
         "mode": "lines",
         "showlegend": false,
         "type": "scatter",
         "x": [
          0,
          0.3334045269233715
         ],
         "xaxis": "x2",
         "y": [
          96,
          96
         ],
         "yaxis": "y2"
        },
        {
         "line": {
          "color": "#7e0d24",
          "width": 4
         },
         "mode": "lines",
         "showlegend": false,
         "type": "scatter",
         "x": [
          0,
          0.31016332114914014
         ],
         "xaxis": "x2",
         "y": [
          97,
          97
         ],
         "yaxis": "y2"
        },
        {
         "line": {
          "color": "#7e0d24",
          "width": 4
         },
         "mode": "lines",
         "showlegend": false,
         "type": "scatter",
         "x": [
          0,
          0.30314822007447145
         ],
         "xaxis": "x2",
         "y": [
          98,
          98
         ],
         "yaxis": "y2"
        },
        {
         "line": {
          "color": "#7e0d24",
          "width": 4
         },
         "mode": "lines",
         "showlegend": false,
         "type": "scatter",
         "x": [
          0,
          0.28983681325632094
         ],
         "xaxis": "x2",
         "y": [
          99,
          99
         ],
         "yaxis": "y2"
        },
        {
         "line": {
          "color": "#7e0d24",
          "width": 4
         },
         "mode": "lines",
         "showlegend": false,
         "type": "scatter",
         "x": [
          0,
          0.28541894170337534
         ],
         "xaxis": "x2",
         "y": [
          100,
          100
         ],
         "yaxis": "y2"
        },
        {
         "line": {
          "color": "#7e0d24",
          "width": 4
         },
         "mode": "lines",
         "showlegend": false,
         "type": "scatter",
         "x": [
          0,
          0.2596935786927405
         ],
         "xaxis": "x2",
         "y": [
          101,
          101
         ],
         "yaxis": "y2"
        },
        {
         "line": {
          "color": "#7e0d24",
          "width": 4
         },
         "mode": "lines",
         "showlegend": false,
         "type": "scatter",
         "x": [
          0,
          0.2559760511810972
         ],
         "xaxis": "x2",
         "y": [
          102,
          102
         ],
         "yaxis": "y2"
        },
        {
         "line": {
          "color": "#7e0d24",
          "width": 4
         },
         "mode": "lines",
         "showlegend": false,
         "type": "scatter",
         "x": [
          0,
          0.24796133372385457
         ],
         "xaxis": "x2",
         "y": [
          103,
          103
         ],
         "yaxis": "y2"
        },
        {
         "line": {
          "color": "#7e0d24",
          "width": 4
         },
         "mode": "lines",
         "showlegend": false,
         "type": "scatter",
         "x": [
          0,
          0.21890843560540063
         ],
         "xaxis": "x2",
         "y": [
          104,
          104
         ],
         "yaxis": "y2"
        },
        {
         "line": {
          "color": "#7e0d24",
          "width": 4
         },
         "mode": "lines",
         "showlegend": false,
         "type": "scatter",
         "x": [
          0,
          0.21816635806883986
         ],
         "xaxis": "x2",
         "y": [
          105,
          105
         ],
         "yaxis": "y2"
        },
        {
         "line": {
          "color": "#7e0d24",
          "width": 4
         },
         "mode": "lines",
         "showlegend": false,
         "type": "scatter",
         "x": [
          0,
          0.1598341966247749
         ],
         "xaxis": "x2",
         "y": [
          106,
          106
         ],
         "yaxis": "y2"
        }
       ],
       "layout": {
        "annotations": [
         {
          "font": {
           "size": 16
          },
          "showarrow": false,
          "text": "Persistence Diagram",
          "x": 0.225,
          "xanchor": "center",
          "xref": "paper",
          "y": 1,
          "yanchor": "bottom",
          "yref": "paper"
         },
         {
          "font": {
           "size": 16
          },
          "showarrow": false,
          "text": "Barcode",
          "x": 0.775,
          "xanchor": "center",
          "xref": "paper",
          "y": 1,
          "yanchor": "bottom",
          "yref": "paper"
         }
        ],
        "height": 600,
        "template": {
         "data": {
          "bar": [
           {
            "error_x": {
             "color": "#f2f5fa"
            },
            "error_y": {
             "color": "#f2f5fa"
            },
            "marker": {
             "line": {
              "color": "rgb(17,17,17)",
              "width": 0.5
             },
             "pattern": {
              "fillmode": "overlay",
              "size": 10,
              "solidity": 0.2
             }
            },
            "type": "bar"
           }
          ],
          "barpolar": [
           {
            "marker": {
             "line": {
              "color": "rgb(17,17,17)",
              "width": 0.5
             },
             "pattern": {
              "fillmode": "overlay",
              "size": 10,
              "solidity": 0.2
             }
            },
            "type": "barpolar"
           }
          ],
          "carpet": [
           {
            "aaxis": {
             "endlinecolor": "#A2B1C6",
             "gridcolor": "#506784",
             "linecolor": "#506784",
             "minorgridcolor": "#506784",
             "startlinecolor": "#A2B1C6"
            },
            "baxis": {
             "endlinecolor": "#A2B1C6",
             "gridcolor": "#506784",
             "linecolor": "#506784",
             "minorgridcolor": "#506784",
             "startlinecolor": "#A2B1C6"
            },
            "type": "carpet"
           }
          ],
          "choropleth": [
           {
            "colorbar": {
             "outlinewidth": 0,
             "ticks": ""
            },
            "type": "choropleth"
           }
          ],
          "contour": [
           {
            "colorbar": {
             "outlinewidth": 0,
             "ticks": ""
            },
            "colorscale": [
             [
              0,
              "#0d0887"
             ],
             [
              0.1111111111111111,
              "#46039f"
             ],
             [
              0.2222222222222222,
              "#7201a8"
             ],
             [
              0.3333333333333333,
              "#9c179e"
             ],
             [
              0.4444444444444444,
              "#bd3786"
             ],
             [
              0.5555555555555556,
              "#d8576b"
             ],
             [
              0.6666666666666666,
              "#ed7953"
             ],
             [
              0.7777777777777778,
              "#fb9f3a"
             ],
             [
              0.8888888888888888,
              "#fdca26"
             ],
             [
              1,
              "#f0f921"
             ]
            ],
            "type": "contour"
           }
          ],
          "contourcarpet": [
           {
            "colorbar": {
             "outlinewidth": 0,
             "ticks": ""
            },
            "type": "contourcarpet"
           }
          ],
          "heatmap": [
           {
            "colorbar": {
             "outlinewidth": 0,
             "ticks": ""
            },
            "colorscale": [
             [
              0,
              "#0d0887"
             ],
             [
              0.1111111111111111,
              "#46039f"
             ],
             [
              0.2222222222222222,
              "#7201a8"
             ],
             [
              0.3333333333333333,
              "#9c179e"
             ],
             [
              0.4444444444444444,
              "#bd3786"
             ],
             [
              0.5555555555555556,
              "#d8576b"
             ],
             [
              0.6666666666666666,
              "#ed7953"
             ],
             [
              0.7777777777777778,
              "#fb9f3a"
             ],
             [
              0.8888888888888888,
              "#fdca26"
             ],
             [
              1,
              "#f0f921"
             ]
            ],
            "type": "heatmap"
           }
          ],
          "histogram": [
           {
            "marker": {
             "pattern": {
              "fillmode": "overlay",
              "size": 10,
              "solidity": 0.2
             }
            },
            "type": "histogram"
           }
          ],
          "histogram2d": [
           {
            "colorbar": {
             "outlinewidth": 0,
             "ticks": ""
            },
            "colorscale": [
             [
              0,
              "#0d0887"
             ],
             [
              0.1111111111111111,
              "#46039f"
             ],
             [
              0.2222222222222222,
              "#7201a8"
             ],
             [
              0.3333333333333333,
              "#9c179e"
             ],
             [
              0.4444444444444444,
              "#bd3786"
             ],
             [
              0.5555555555555556,
              "#d8576b"
             ],
             [
              0.6666666666666666,
              "#ed7953"
             ],
             [
              0.7777777777777778,
              "#fb9f3a"
             ],
             [
              0.8888888888888888,
              "#fdca26"
             ],
             [
              1,
              "#f0f921"
             ]
            ],
            "type": "histogram2d"
           }
          ],
          "histogram2dcontour": [
           {
            "colorbar": {
             "outlinewidth": 0,
             "ticks": ""
            },
            "colorscale": [
             [
              0,
              "#0d0887"
             ],
             [
              0.1111111111111111,
              "#46039f"
             ],
             [
              0.2222222222222222,
              "#7201a8"
             ],
             [
              0.3333333333333333,
              "#9c179e"
             ],
             [
              0.4444444444444444,
              "#bd3786"
             ],
             [
              0.5555555555555556,
              "#d8576b"
             ],
             [
              0.6666666666666666,
              "#ed7953"
             ],
             [
              0.7777777777777778,
              "#fb9f3a"
             ],
             [
              0.8888888888888888,
              "#fdca26"
             ],
             [
              1,
              "#f0f921"
             ]
            ],
            "type": "histogram2dcontour"
           }
          ],
          "mesh3d": [
           {
            "colorbar": {
             "outlinewidth": 0,
             "ticks": ""
            },
            "type": "mesh3d"
           }
          ],
          "parcoords": [
           {
            "line": {
             "colorbar": {
              "outlinewidth": 0,
              "ticks": ""
             }
            },
            "type": "parcoords"
           }
          ],
          "pie": [
           {
            "automargin": true,
            "type": "pie"
           }
          ],
          "scatter": [
           {
            "marker": {
             "line": {
              "color": "#283442"
             }
            },
            "type": "scatter"
           }
          ],
          "scatter3d": [
           {
            "line": {
             "colorbar": {
              "outlinewidth": 0,
              "ticks": ""
             }
            },
            "marker": {
             "colorbar": {
              "outlinewidth": 0,
              "ticks": ""
             }
            },
            "type": "scatter3d"
           }
          ],
          "scattercarpet": [
           {
            "marker": {
             "colorbar": {
              "outlinewidth": 0,
              "ticks": ""
             }
            },
            "type": "scattercarpet"
           }
          ],
          "scattergeo": [
           {
            "marker": {
             "colorbar": {
              "outlinewidth": 0,
              "ticks": ""
             }
            },
            "type": "scattergeo"
           }
          ],
          "scattergl": [
           {
            "marker": {
             "line": {
              "color": "#283442"
             }
            },
            "type": "scattergl"
           }
          ],
          "scattermap": [
           {
            "marker": {
             "colorbar": {
              "outlinewidth": 0,
              "ticks": ""
             }
            },
            "type": "scattermap"
           }
          ],
          "scattermapbox": [
           {
            "marker": {
             "colorbar": {
              "outlinewidth": 0,
              "ticks": ""
             }
            },
            "type": "scattermapbox"
           }
          ],
          "scatterpolar": [
           {
            "marker": {
             "colorbar": {
              "outlinewidth": 0,
              "ticks": ""
             }
            },
            "type": "scatterpolar"
           }
          ],
          "scatterpolargl": [
           {
            "marker": {
             "colorbar": {
              "outlinewidth": 0,
              "ticks": ""
             }
            },
            "type": "scatterpolargl"
           }
          ],
          "scatterternary": [
           {
            "marker": {
             "colorbar": {
              "outlinewidth": 0,
              "ticks": ""
             }
            },
            "type": "scatterternary"
           }
          ],
          "surface": [
           {
            "colorbar": {
             "outlinewidth": 0,
             "ticks": ""
            },
            "colorscale": [
             [
              0,
              "#0d0887"
             ],
             [
              0.1111111111111111,
              "#46039f"
             ],
             [
              0.2222222222222222,
              "#7201a8"
             ],
             [
              0.3333333333333333,
              "#9c179e"
             ],
             [
              0.4444444444444444,
              "#bd3786"
             ],
             [
              0.5555555555555556,
              "#d8576b"
             ],
             [
              0.6666666666666666,
              "#ed7953"
             ],
             [
              0.7777777777777778,
              "#fb9f3a"
             ],
             [
              0.8888888888888888,
              "#fdca26"
             ],
             [
              1,
              "#f0f921"
             ]
            ],
            "type": "surface"
           }
          ],
          "table": [
           {
            "cells": {
             "fill": {
              "color": "#506784"
             },
             "line": {
              "color": "rgb(17,17,17)"
             }
            },
            "header": {
             "fill": {
              "color": "#2a3f5f"
             },
             "line": {
              "color": "rgb(17,17,17)"
             }
            },
            "type": "table"
           }
          ]
         },
         "layout": {
          "annotationdefaults": {
           "arrowcolor": "#f2f5fa",
           "arrowhead": 0,
           "arrowwidth": 1
          },
          "autotypenumbers": "strict",
          "coloraxis": {
           "colorbar": {
            "outlinewidth": 0,
            "ticks": ""
           }
          },
          "colorscale": {
           "diverging": [
            [
             0,
             "#8e0152"
            ],
            [
             0.1,
             "#c51b7d"
            ],
            [
             0.2,
             "#de77ae"
            ],
            [
             0.3,
             "#f1b6da"
            ],
            [
             0.4,
             "#fde0ef"
            ],
            [
             0.5,
             "#f7f7f7"
            ],
            [
             0.6,
             "#e6f5d0"
            ],
            [
             0.7,
             "#b8e186"
            ],
            [
             0.8,
             "#7fbc41"
            ],
            [
             0.9,
             "#4d9221"
            ],
            [
             1,
             "#276419"
            ]
           ],
           "sequential": [
            [
             0,
             "#0d0887"
            ],
            [
             0.1111111111111111,
             "#46039f"
            ],
            [
             0.2222222222222222,
             "#7201a8"
            ],
            [
             0.3333333333333333,
             "#9c179e"
            ],
            [
             0.4444444444444444,
             "#bd3786"
            ],
            [
             0.5555555555555556,
             "#d8576b"
            ],
            [
             0.6666666666666666,
             "#ed7953"
            ],
            [
             0.7777777777777778,
             "#fb9f3a"
            ],
            [
             0.8888888888888888,
             "#fdca26"
            ],
            [
             1,
             "#f0f921"
            ]
           ],
           "sequentialminus": [
            [
             0,
             "#0d0887"
            ],
            [
             0.1111111111111111,
             "#46039f"
            ],
            [
             0.2222222222222222,
             "#7201a8"
            ],
            [
             0.3333333333333333,
             "#9c179e"
            ],
            [
             0.4444444444444444,
             "#bd3786"
            ],
            [
             0.5555555555555556,
             "#d8576b"
            ],
            [
             0.6666666666666666,
             "#ed7953"
            ],
            [
             0.7777777777777778,
             "#fb9f3a"
            ],
            [
             0.8888888888888888,
             "#fdca26"
            ],
            [
             1,
             "#f0f921"
            ]
           ]
          },
          "colorway": [
           "#636efa",
           "#EF553B",
           "#00cc96",
           "#ab63fa",
           "#FFA15A",
           "#19d3f3",
           "#FF6692",
           "#B6E880",
           "#FF97FF",
           "#FECB52"
          ],
          "font": {
           "color": "#f2f5fa"
          },
          "geo": {
           "bgcolor": "rgb(17,17,17)",
           "lakecolor": "rgb(17,17,17)",
           "landcolor": "rgb(17,17,17)",
           "showlakes": true,
           "showland": true,
           "subunitcolor": "#506784"
          },
          "hoverlabel": {
           "align": "left"
          },
          "hovermode": "closest",
          "mapbox": {
           "style": "dark"
          },
          "paper_bgcolor": "rgb(17,17,17)",
          "plot_bgcolor": "rgb(17,17,17)",
          "polar": {
           "angularaxis": {
            "gridcolor": "#506784",
            "linecolor": "#506784",
            "ticks": ""
           },
           "bgcolor": "rgb(17,17,17)",
           "radialaxis": {
            "gridcolor": "#506784",
            "linecolor": "#506784",
            "ticks": ""
           }
          },
          "scene": {
           "xaxis": {
            "backgroundcolor": "rgb(17,17,17)",
            "gridcolor": "#506784",
            "gridwidth": 2,
            "linecolor": "#506784",
            "showbackground": true,
            "ticks": "",
            "zerolinecolor": "#C8D4E3"
           },
           "yaxis": {
            "backgroundcolor": "rgb(17,17,17)",
            "gridcolor": "#506784",
            "gridwidth": 2,
            "linecolor": "#506784",
            "showbackground": true,
            "ticks": "",
            "zerolinecolor": "#C8D4E3"
           },
           "zaxis": {
            "backgroundcolor": "rgb(17,17,17)",
            "gridcolor": "#506784",
            "gridwidth": 2,
            "linecolor": "#506784",
            "showbackground": true,
            "ticks": "",
            "zerolinecolor": "#C8D4E3"
           }
          },
          "shapedefaults": {
           "line": {
            "color": "#f2f5fa"
           }
          },
          "sliderdefaults": {
           "bgcolor": "#C8D4E3",
           "bordercolor": "rgb(17,17,17)",
           "borderwidth": 1,
           "tickwidth": 0
          },
          "ternary": {
           "aaxis": {
            "gridcolor": "#506784",
            "linecolor": "#506784",
            "ticks": ""
           },
           "baxis": {
            "gridcolor": "#506784",
            "linecolor": "#506784",
            "ticks": ""
           },
           "bgcolor": "rgb(17,17,17)",
           "caxis": {
            "gridcolor": "#506784",
            "linecolor": "#506784",
            "ticks": ""
           }
          },
          "title": {
           "x": 0.05
          },
          "updatemenudefaults": {
           "bgcolor": "#506784",
           "borderwidth": 0
          },
          "xaxis": {
           "automargin": true,
           "gridcolor": "#283442",
           "linecolor": "#506784",
           "ticks": "",
           "title": {
            "standoff": 15
           },
           "zerolinecolor": "#283442",
           "zerolinewidth": 2
          },
          "yaxis": {
           "automargin": true,
           "gridcolor": "#283442",
           "linecolor": "#506784",
           "ticks": "",
           "title": {
            "standoff": 15
           },
           "zerolinecolor": "#283442",
           "zerolinewidth": 2
          }
         }
        },
        "title": {
         "text": "Persistent Homology: Diagram & Barcode"
        },
        "width": 1000,
        "xaxis": {
         "anchor": "y",
         "domain": [
          0,
          0.45
         ],
         "title": {
          "text": "Birth"
         }
        },
        "xaxis2": {
         "anchor": "y2",
         "domain": [
          0.55,
          1
         ],
         "title": {
          "text": "Filtration"
         }
        },
        "yaxis": {
         "anchor": "x",
         "domain": [
          0,
          1
         ],
         "title": {
          "text": "Death"
         }
        },
        "yaxis2": {
         "anchor": "x2",
         "domain": [
          0,
          1
         ],
         "visible": false
        }
       }
      }
     },
     "metadata": {},
     "output_type": "display_data"
    }
   ],
   "source": [
    "def persistence_and_barcode(max_edge=1.0):\n",
    "    \"\"\"\n",
    "    Compute Vietoris-Rips persistence and plot the persistence diagram and barcode.\n",
    "    \"\"\"\n",
    "    # Build Rips complex and compute persistence up to dimension 2\n",
    "    rips = gd.RipsComplex(distance_matrix=dist_matrix, max_edge_length=max_edge)\n",
    "    st = rips.create_simplex_tree(max_dimension=4)\n",
    "    st.compute_persistence()\n",
    "    pairs = st.persistence()\n",
    "\n",
    "    # Group (birth, death) by homology dimension\n",
    "    dims = {}\n",
    "    for dim, (b, d) in pairs:\n",
    "        if d == float('inf'):\n",
    "            d = max_edge\n",
    "        dims.setdefault(dim, []).append((b, d))\n",
    "\n",
    "    colors = {0: red, 1: \"#ff657f\", 2: \"#fac9c9\"}\n",
    "    fig = make_subplots(\n",
    "        rows=1, cols=2,\n",
    "        subplot_titles=(\"Persistence Diagram\", \"Barcode\"),\n",
    "        horizontal_spacing=0.1\n",
    "    )\n",
    "\n",
    "    # Persistence diagram\n",
    "    for dim, bd in dims.items():\n",
    "        births, deaths = zip(*bd)\n",
    "        fig.add_trace(\n",
    "            go.Scatter(\n",
    "                x=births, y=deaths, mode=\"markers\",\n",
    "                marker=dict(color=colors.get(dim, \"gray\"), size=9, opacity=0.85),\n",
    "                name=f\"H{dim}\", legendgroup=str(dim)\n",
    "            ),\n",
    "            row=1, col=1\n",
    "        )\n",
    "    # Diagonal\n",
    "    fig.add_trace(\n",
    "        go.Scatter(\n",
    "            x=[0, max_edge], y=[0, max_edge], mode=\"lines\",\n",
    "            line=dict(color=\"white\", dash=\"dash\"), showlegend=False\n",
    "        ),\n",
    "        row=1, col=1\n",
    "    )\n",
    "\n",
    "    # Barcode\n",
    "    y = 0\n",
    "    for dim, bd in dims.items():\n",
    "        for b, d in bd:\n",
    "            fig.add_trace(\n",
    "                go.Scatter(\n",
    "                    x=[b, d], y=[y, y], mode=\"lines\",\n",
    "                    line=dict(color=colors.get(dim, \"gray\"), width=4),\n",
    "                    showlegend=False\n",
    "                ),\n",
    "                row=1, col=2\n",
    "            )\n",
    "            y += 1\n",
    "\n",
    "    fig.update_xaxes(title_text=\"Birth\", row=1, col=1)\n",
    "    fig.update_yaxes(title_text=\"Death\", row=1, col=1)\n",
    "    fig.update_xaxes(title_text=\"Filtration\", row=1, col=2)\n",
    "    fig.update_yaxes(visible=False, row=1, col=2)\n",
    "    fig.update_layout(\n",
    "        title=\"Persistent Homology: Diagram & Barcode\",\n",
    "        template=\"plotly_dark\",\n",
    "        width=1000, height=600,\n",
    "    )\n",
    "    return fig\n",
    "\n",
    "persistence_and_barcode()"
   ]
  },
  {
   "cell_type": "code",
   "execution_count": 12,
   "id": "53653b8a",
   "metadata": {},
   "outputs": [
    {
     "data": {
      "application/vnd.plotly.v1+json": {
       "config": {
        "plotlyServerURL": "https://plot.ly"
       },
       "data": [
        {
         "hovertemplate": "Homology dim=H0<br>Max edge length=%{x}<br>Betti count=%{y}<extra></extra>",
         "legendgroup": "H0",
         "line": {
          "color": "#7e0d24",
          "dash": "solid"
         },
         "marker": {
          "symbol": "circle"
         },
         "mode": "lines",
         "name": "H0",
         "orientation": "v",
         "showlegend": true,
         "type": "scatter",
         "x": {
          "bdata": "mpmZmZmZuT+F8aNtlC+8P3FJrkGPxb4/rlDcCsWtwD+kfOF0wvjBP5qo5t6/Q8M/j9TrSL2OxD+FAPGyutnFP3os9hy4JMc/cFj7hrVvyD9mhADxsrrJP1ywBVuwBcs/UdwKxa1QzD9HCBAvq5vNPz00FZmo5s4/GTCNAdMY0D8Uxo+2Ub7QPw9ckmvQY9E/CvKUIE8J0j8EiJfVza7SPwAemopMVNM/+rOcP8v50z/1SZ/0SZ/UP/DfoanIRNU/6nWkXkfq1T/mC6cTxo/WP+ChqchENdc/3DesfcPa1z/Wza4yQoDYP9BjsefAJdk/zPmznD/L2T/Gj7ZRvnDaP8IluQY9Fts/vLu7u7u72z+4Ub5wOmHcP7LnwCW5Bt0/rH3D2jes3T+oE8aPtlHeP6KpyEQ1994/nj/L+bOc3z/M6mZXGSHgP8o16LHYc+A/x4BpDJjG4D/Ey+pmVxnhP8IWbMEWbOE/v2HtG9a+4T+9rG52lRHiP7r379BUZOI/t0JxKxS34j+1jfKF0wnjP7LYc+CSXOM/sCP1OlKv4z+tbnaVEQLkP6q59+/QVOQ/qAR5SpCn5D+lT/qkT/rkP6Oae/8OTeU/oOX8Wc6f5T+dMH60jfLlP5t7/w5NReY/mMaAaQyY5j+WEQLEy+rmP5Ncgx6LPec/kacEeUqQ5z+O8oXTCePnP4s9By7JNeg/iYiIiIiI6D+G0wnjR9voP4Qeiz0HLuk/gWkMmMaA6T9/tI3yhdPpP3z/Dk1FJuo/eUqQpwR56j93lRECxMvqP3TgklyDHus/cisUt0Jx6z9vdpURAsTrP2zBFmzBFuw/agyYxoBp7D9nVxkhQLzsP2Wimnv/Du0/Yu0b1r5h7T9gOJ0wfrTtP12DHos9B+4/Ws6f5fxZ7j9YGSFAvKzuP1Vkopp7/+4/U68j9TpS7z9Q+qRP+qTvP05FJqq59+8/JshTgjwl8D+kbZQvnE7wPyMT1dz7d/A/orgViluh8D8hXlY3u8rwP58Dl+Qa9PA/HqnXkXod8T+dThg/2kbxPxv0WOw5cPE/mpmZmZmZ8T8=",
          "dtype": "f8"
         },
         "xaxis": "x",
         "y": {
          "bdata": "AAAAAAAATk5OTk5OTExMS0lJSUdHRUVFPj06NzIuKCQjHxwYGBgXFhMREQ8OCwgHBgYGBgUFBQICAgICAgICAgICAgIBAQEBAQEBAQEBAQEBAQEBAQEBAQEBAQEBAQEBAQEBAQ==",
          "dtype": "i1"
         },
         "yaxis": "y"
        },
        {
         "hovertemplate": "Homology dim=H1<br>Max edge length=%{x}<br>Betti count=%{y}<extra></extra>",
         "legendgroup": "H1",
         "line": {
          "color": "#ff657f",
          "dash": "solid"
         },
         "marker": {
          "symbol": "circle"
         },
         "mode": "lines",
         "name": "H1",
         "orientation": "v",
         "showlegend": true,
         "type": "scatter",
         "x": {
          "bdata": "mpmZmZmZuT+F8aNtlC+8P3FJrkGPxb4/rlDcCsWtwD+kfOF0wvjBP5qo5t6/Q8M/j9TrSL2OxD+FAPGyutnFP3os9hy4JMc/cFj7hrVvyD9mhADxsrrJP1ywBVuwBcs/UdwKxa1QzD9HCBAvq5vNPz00FZmo5s4/GTCNAdMY0D8Uxo+2Ub7QPw9ckmvQY9E/CvKUIE8J0j8EiJfVza7SPwAemopMVNM/+rOcP8v50z/1SZ/0SZ/UP/DfoanIRNU/6nWkXkfq1T/mC6cTxo/WP+ChqchENdc/3DesfcPa1z/Wza4yQoDYP9BjsefAJdk/zPmznD/L2T/Gj7ZRvnDaP8IluQY9Fts/vLu7u7u72z+4Ub5wOmHcP7LnwCW5Bt0/rH3D2jes3T+oE8aPtlHeP6KpyEQ1994/nj/L+bOc3z/M6mZXGSHgP8o16LHYc+A/x4BpDJjG4D/Ey+pmVxnhP8IWbMEWbOE/v2HtG9a+4T+9rG52lRHiP7r379BUZOI/t0JxKxS34j+1jfKF0wnjP7LYc+CSXOM/sCP1OlKv4z+tbnaVEQLkP6q59+/QVOQ/qAR5SpCn5D+lT/qkT/rkP6Oae/8OTeU/oOX8Wc6f5T+dMH60jfLlP5t7/w5NReY/mMaAaQyY5j+WEQLEy+rmP5Ncgx6LPec/kacEeUqQ5z+O8oXTCePnP4s9By7JNeg/iYiIiIiI6D+G0wnjR9voP4Qeiz0HLuk/gWkMmMaA6T9/tI3yhdPpP3z/Dk1FJuo/eUqQpwR56j93lRECxMvqP3TgklyDHus/cisUt0Jx6z9vdpURAsTrP2zBFmzBFuw/agyYxoBp7D9nVxkhQLzsP2Wimnv/Du0/Yu0b1r5h7T9gOJ0wfrTtP12DHos9B+4/Ws6f5fxZ7j9YGSFAvKzuP1Vkopp7/+4/U68j9TpS7z9Q+qRP+qTvP05FJqq59+8/JshTgjwl8D+kbZQvnE7wPyMT1dz7d/A/orgViluh8D8hXlY3u8rwP58Dl+Qa9PA/HqnXkXod8T+dThg/2kbxPxv0WOw5cPE/mpmZmZmZ8T8=",
          "dtype": "f8"
         },
         "xaxis": "x",
         "y": {
          "bdata": "AAAAAAAAAAAAAAAAAAAAAAAAAAAAAAAAAAAAAAAAAAABAQEBAgICAwMDAwQEBQYGBwUDBAQEBQYGCAgHBwcHBgcICQcGBgYFBgYGBwcEBAQEAwMDAwMDAgIBAQEBAQAAAAAAAA==",
          "dtype": "i1"
         },
         "yaxis": "y"
        },
        {
         "hovertemplate": "Homology dim=H2<br>Max edge length=%{x}<br>Betti count=%{y}<extra></extra>",
         "legendgroup": "H2",
         "line": {
          "color": "#d79c9c",
          "dash": "solid"
         },
         "marker": {
          "symbol": "circle"
         },
         "mode": "lines",
         "name": "H2",
         "orientation": "v",
         "showlegend": true,
         "type": "scatter",
         "x": {
          "bdata": "mpmZmZmZuT+F8aNtlC+8P3FJrkGPxb4/rlDcCsWtwD+kfOF0wvjBP5qo5t6/Q8M/j9TrSL2OxD+FAPGyutnFP3os9hy4JMc/cFj7hrVvyD9mhADxsrrJP1ywBVuwBcs/UdwKxa1QzD9HCBAvq5vNPz00FZmo5s4/GTCNAdMY0D8Uxo+2Ub7QPw9ckmvQY9E/CvKUIE8J0j8EiJfVza7SPwAemopMVNM/+rOcP8v50z/1SZ/0SZ/UP/DfoanIRNU/6nWkXkfq1T/mC6cTxo/WP+ChqchENdc/3DesfcPa1z/Wza4yQoDYP9BjsefAJdk/zPmznD/L2T/Gj7ZRvnDaP8IluQY9Fts/vLu7u7u72z+4Ub5wOmHcP7LnwCW5Bt0/rH3D2jes3T+oE8aPtlHeP6KpyEQ1994/nj/L+bOc3z/M6mZXGSHgP8o16LHYc+A/x4BpDJjG4D/Ey+pmVxnhP8IWbMEWbOE/v2HtG9a+4T+9rG52lRHiP7r379BUZOI/t0JxKxS34j+1jfKF0wnjP7LYc+CSXOM/sCP1OlKv4z+tbnaVEQLkP6q59+/QVOQ/qAR5SpCn5D+lT/qkT/rkP6Oae/8OTeU/oOX8Wc6f5T+dMH60jfLlP5t7/w5NReY/mMaAaQyY5j+WEQLEy+rmP5Ncgx6LPec/kacEeUqQ5z+O8oXTCePnP4s9By7JNeg/iYiIiIiI6D+G0wnjR9voP4Qeiz0HLuk/gWkMmMaA6T9/tI3yhdPpP3z/Dk1FJuo/eUqQpwR56j93lRECxMvqP3TgklyDHus/cisUt0Jx6z9vdpURAsTrP2zBFmzBFuw/agyYxoBp7D9nVxkhQLzsP2Wimnv/Du0/Yu0b1r5h7T9gOJ0wfrTtP12DHos9B+4/Ws6f5fxZ7j9YGSFAvKzuP1Vkopp7/+4/U68j9TpS7z9Q+qRP+qTvP05FJqq59+8/JshTgjwl8D+kbZQvnE7wPyMT1dz7d/A/orgViluh8D8hXlY3u8rwP58Dl+Qa9PA/HqnXkXod8T+dThg/2kbxPxv0WOw5cPE/mpmZmZmZ8T8=",
          "dtype": "f8"
         },
         "xaxis": "x",
         "y": {
          "bdata": "AAAAAAAAAAAAAAAAAAAAAAAAAAAAAAAAAAAAAAAAAAAAAAAAAAAAAAAAAAAAAAAAAAAAAAAAAAAAAAAAAAAAAAAAAAAAAAAAAAEBAQAAAAAAAAAAAAEBAAAAAAAAAAAAAAAAAA==",
          "dtype": "i1"
         },
         "yaxis": "y"
        }
       ],
       "layout": {
        "font": {
         "color": "white"
        },
        "legend": {
         "title": {
          "text": "k-th homology group"
         },
         "tracegroupgap": 0
        },
        "template": {
         "data": {
          "bar": [
           {
            "error_x": {
             "color": "#f2f5fa"
            },
            "error_y": {
             "color": "#f2f5fa"
            },
            "marker": {
             "line": {
              "color": "rgb(17,17,17)",
              "width": 0.5
             },
             "pattern": {
              "fillmode": "overlay",
              "size": 10,
              "solidity": 0.2
             }
            },
            "type": "bar"
           }
          ],
          "barpolar": [
           {
            "marker": {
             "line": {
              "color": "rgb(17,17,17)",
              "width": 0.5
             },
             "pattern": {
              "fillmode": "overlay",
              "size": 10,
              "solidity": 0.2
             }
            },
            "type": "barpolar"
           }
          ],
          "carpet": [
           {
            "aaxis": {
             "endlinecolor": "#A2B1C6",
             "gridcolor": "#506784",
             "linecolor": "#506784",
             "minorgridcolor": "#506784",
             "startlinecolor": "#A2B1C6"
            },
            "baxis": {
             "endlinecolor": "#A2B1C6",
             "gridcolor": "#506784",
             "linecolor": "#506784",
             "minorgridcolor": "#506784",
             "startlinecolor": "#A2B1C6"
            },
            "type": "carpet"
           }
          ],
          "choropleth": [
           {
            "colorbar": {
             "outlinewidth": 0,
             "ticks": ""
            },
            "type": "choropleth"
           }
          ],
          "contour": [
           {
            "colorbar": {
             "outlinewidth": 0,
             "ticks": ""
            },
            "colorscale": [
             [
              0,
              "#0d0887"
             ],
             [
              0.1111111111111111,
              "#46039f"
             ],
             [
              0.2222222222222222,
              "#7201a8"
             ],
             [
              0.3333333333333333,
              "#9c179e"
             ],
             [
              0.4444444444444444,
              "#bd3786"
             ],
             [
              0.5555555555555556,
              "#d8576b"
             ],
             [
              0.6666666666666666,
              "#ed7953"
             ],
             [
              0.7777777777777778,
              "#fb9f3a"
             ],
             [
              0.8888888888888888,
              "#fdca26"
             ],
             [
              1,
              "#f0f921"
             ]
            ],
            "type": "contour"
           }
          ],
          "contourcarpet": [
           {
            "colorbar": {
             "outlinewidth": 0,
             "ticks": ""
            },
            "type": "contourcarpet"
           }
          ],
          "heatmap": [
           {
            "colorbar": {
             "outlinewidth": 0,
             "ticks": ""
            },
            "colorscale": [
             [
              0,
              "#0d0887"
             ],
             [
              0.1111111111111111,
              "#46039f"
             ],
             [
              0.2222222222222222,
              "#7201a8"
             ],
             [
              0.3333333333333333,
              "#9c179e"
             ],
             [
              0.4444444444444444,
              "#bd3786"
             ],
             [
              0.5555555555555556,
              "#d8576b"
             ],
             [
              0.6666666666666666,
              "#ed7953"
             ],
             [
              0.7777777777777778,
              "#fb9f3a"
             ],
             [
              0.8888888888888888,
              "#fdca26"
             ],
             [
              1,
              "#f0f921"
             ]
            ],
            "type": "heatmap"
           }
          ],
          "histogram": [
           {
            "marker": {
             "pattern": {
              "fillmode": "overlay",
              "size": 10,
              "solidity": 0.2
             }
            },
            "type": "histogram"
           }
          ],
          "histogram2d": [
           {
            "colorbar": {
             "outlinewidth": 0,
             "ticks": ""
            },
            "colorscale": [
             [
              0,
              "#0d0887"
             ],
             [
              0.1111111111111111,
              "#46039f"
             ],
             [
              0.2222222222222222,
              "#7201a8"
             ],
             [
              0.3333333333333333,
              "#9c179e"
             ],
             [
              0.4444444444444444,
              "#bd3786"
             ],
             [
              0.5555555555555556,
              "#d8576b"
             ],
             [
              0.6666666666666666,
              "#ed7953"
             ],
             [
              0.7777777777777778,
              "#fb9f3a"
             ],
             [
              0.8888888888888888,
              "#fdca26"
             ],
             [
              1,
              "#f0f921"
             ]
            ],
            "type": "histogram2d"
           }
          ],
          "histogram2dcontour": [
           {
            "colorbar": {
             "outlinewidth": 0,
             "ticks": ""
            },
            "colorscale": [
             [
              0,
              "#0d0887"
             ],
             [
              0.1111111111111111,
              "#46039f"
             ],
             [
              0.2222222222222222,
              "#7201a8"
             ],
             [
              0.3333333333333333,
              "#9c179e"
             ],
             [
              0.4444444444444444,
              "#bd3786"
             ],
             [
              0.5555555555555556,
              "#d8576b"
             ],
             [
              0.6666666666666666,
              "#ed7953"
             ],
             [
              0.7777777777777778,
              "#fb9f3a"
             ],
             [
              0.8888888888888888,
              "#fdca26"
             ],
             [
              1,
              "#f0f921"
             ]
            ],
            "type": "histogram2dcontour"
           }
          ],
          "mesh3d": [
           {
            "colorbar": {
             "outlinewidth": 0,
             "ticks": ""
            },
            "type": "mesh3d"
           }
          ],
          "parcoords": [
           {
            "line": {
             "colorbar": {
              "outlinewidth": 0,
              "ticks": ""
             }
            },
            "type": "parcoords"
           }
          ],
          "pie": [
           {
            "automargin": true,
            "type": "pie"
           }
          ],
          "scatter": [
           {
            "marker": {
             "line": {
              "color": "#283442"
             }
            },
            "type": "scatter"
           }
          ],
          "scatter3d": [
           {
            "line": {
             "colorbar": {
              "outlinewidth": 0,
              "ticks": ""
             }
            },
            "marker": {
             "colorbar": {
              "outlinewidth": 0,
              "ticks": ""
             }
            },
            "type": "scatter3d"
           }
          ],
          "scattercarpet": [
           {
            "marker": {
             "colorbar": {
              "outlinewidth": 0,
              "ticks": ""
             }
            },
            "type": "scattercarpet"
           }
          ],
          "scattergeo": [
           {
            "marker": {
             "colorbar": {
              "outlinewidth": 0,
              "ticks": ""
             }
            },
            "type": "scattergeo"
           }
          ],
          "scattergl": [
           {
            "marker": {
             "line": {
              "color": "#283442"
             }
            },
            "type": "scattergl"
           }
          ],
          "scattermap": [
           {
            "marker": {
             "colorbar": {
              "outlinewidth": 0,
              "ticks": ""
             }
            },
            "type": "scattermap"
           }
          ],
          "scattermapbox": [
           {
            "marker": {
             "colorbar": {
              "outlinewidth": 0,
              "ticks": ""
             }
            },
            "type": "scattermapbox"
           }
          ],
          "scatterpolar": [
           {
            "marker": {
             "colorbar": {
              "outlinewidth": 0,
              "ticks": ""
             }
            },
            "type": "scatterpolar"
           }
          ],
          "scatterpolargl": [
           {
            "marker": {
             "colorbar": {
              "outlinewidth": 0,
              "ticks": ""
             }
            },
            "type": "scatterpolargl"
           }
          ],
          "scatterternary": [
           {
            "marker": {
             "colorbar": {
              "outlinewidth": 0,
              "ticks": ""
             }
            },
            "type": "scatterternary"
           }
          ],
          "surface": [
           {
            "colorbar": {
             "outlinewidth": 0,
             "ticks": ""
            },
            "colorscale": [
             [
              0,
              "#0d0887"
             ],
             [
              0.1111111111111111,
              "#46039f"
             ],
             [
              0.2222222222222222,
              "#7201a8"
             ],
             [
              0.3333333333333333,
              "#9c179e"
             ],
             [
              0.4444444444444444,
              "#bd3786"
             ],
             [
              0.5555555555555556,
              "#d8576b"
             ],
             [
              0.6666666666666666,
              "#ed7953"
             ],
             [
              0.7777777777777778,
              "#fb9f3a"
             ],
             [
              0.8888888888888888,
              "#fdca26"
             ],
             [
              1,
              "#f0f921"
             ]
            ],
            "type": "surface"
           }
          ],
          "table": [
           {
            "cells": {
             "fill": {
              "color": "#506784"
             },
             "line": {
              "color": "rgb(17,17,17)"
             }
            },
            "header": {
             "fill": {
              "color": "#2a3f5f"
             },
             "line": {
              "color": "rgb(17,17,17)"
             }
            },
            "type": "table"
           }
          ]
         },
         "layout": {
          "annotationdefaults": {
           "arrowcolor": "#f2f5fa",
           "arrowhead": 0,
           "arrowwidth": 1
          },
          "autotypenumbers": "strict",
          "coloraxis": {
           "colorbar": {
            "outlinewidth": 0,
            "ticks": ""
           }
          },
          "colorscale": {
           "diverging": [
            [
             0,
             "#8e0152"
            ],
            [
             0.1,
             "#c51b7d"
            ],
            [
             0.2,
             "#de77ae"
            ],
            [
             0.3,
             "#f1b6da"
            ],
            [
             0.4,
             "#fde0ef"
            ],
            [
             0.5,
             "#f7f7f7"
            ],
            [
             0.6,
             "#e6f5d0"
            ],
            [
             0.7,
             "#b8e186"
            ],
            [
             0.8,
             "#7fbc41"
            ],
            [
             0.9,
             "#4d9221"
            ],
            [
             1,
             "#276419"
            ]
           ],
           "sequential": [
            [
             0,
             "#0d0887"
            ],
            [
             0.1111111111111111,
             "#46039f"
            ],
            [
             0.2222222222222222,
             "#7201a8"
            ],
            [
             0.3333333333333333,
             "#9c179e"
            ],
            [
             0.4444444444444444,
             "#bd3786"
            ],
            [
             0.5555555555555556,
             "#d8576b"
            ],
            [
             0.6666666666666666,
             "#ed7953"
            ],
            [
             0.7777777777777778,
             "#fb9f3a"
            ],
            [
             0.8888888888888888,
             "#fdca26"
            ],
            [
             1,
             "#f0f921"
            ]
           ],
           "sequentialminus": [
            [
             0,
             "#0d0887"
            ],
            [
             0.1111111111111111,
             "#46039f"
            ],
            [
             0.2222222222222222,
             "#7201a8"
            ],
            [
             0.3333333333333333,
             "#9c179e"
            ],
            [
             0.4444444444444444,
             "#bd3786"
            ],
            [
             0.5555555555555556,
             "#d8576b"
            ],
            [
             0.6666666666666666,
             "#ed7953"
            ],
            [
             0.7777777777777778,
             "#fb9f3a"
            ],
            [
             0.8888888888888888,
             "#fdca26"
            ],
            [
             1,
             "#f0f921"
            ]
           ]
          },
          "colorway": [
           "#636efa",
           "#EF553B",
           "#00cc96",
           "#ab63fa",
           "#FFA15A",
           "#19d3f3",
           "#FF6692",
           "#B6E880",
           "#FF97FF",
           "#FECB52"
          ],
          "font": {
           "color": "#f2f5fa"
          },
          "geo": {
           "bgcolor": "rgb(17,17,17)",
           "lakecolor": "rgb(17,17,17)",
           "landcolor": "rgb(17,17,17)",
           "showlakes": true,
           "showland": true,
           "subunitcolor": "#506784"
          },
          "hoverlabel": {
           "align": "left"
          },
          "hovermode": "closest",
          "mapbox": {
           "style": "dark"
          },
          "paper_bgcolor": "rgb(17,17,17)",
          "plot_bgcolor": "rgb(17,17,17)",
          "polar": {
           "angularaxis": {
            "gridcolor": "#506784",
            "linecolor": "#506784",
            "ticks": ""
           },
           "bgcolor": "rgb(17,17,17)",
           "radialaxis": {
            "gridcolor": "#506784",
            "linecolor": "#506784",
            "ticks": ""
           }
          },
          "scene": {
           "xaxis": {
            "backgroundcolor": "rgb(17,17,17)",
            "gridcolor": "#506784",
            "gridwidth": 2,
            "linecolor": "#506784",
            "showbackground": true,
            "ticks": "",
            "zerolinecolor": "#C8D4E3"
           },
           "yaxis": {
            "backgroundcolor": "rgb(17,17,17)",
            "gridcolor": "#506784",
            "gridwidth": 2,
            "linecolor": "#506784",
            "showbackground": true,
            "ticks": "",
            "zerolinecolor": "#C8D4E3"
           },
           "zaxis": {
            "backgroundcolor": "rgb(17,17,17)",
            "gridcolor": "#506784",
            "gridwidth": 2,
            "linecolor": "#506784",
            "showbackground": true,
            "ticks": "",
            "zerolinecolor": "#C8D4E3"
           }
          },
          "shapedefaults": {
           "line": {
            "color": "#f2f5fa"
           }
          },
          "sliderdefaults": {
           "bgcolor": "#C8D4E3",
           "bordercolor": "rgb(17,17,17)",
           "borderwidth": 1,
           "tickwidth": 0
          },
          "ternary": {
           "aaxis": {
            "gridcolor": "#506784",
            "linecolor": "#506784",
            "ticks": ""
           },
           "baxis": {
            "gridcolor": "#506784",
            "linecolor": "#506784",
            "ticks": ""
           },
           "bgcolor": "rgb(17,17,17)",
           "caxis": {
            "gridcolor": "#506784",
            "linecolor": "#506784",
            "ticks": ""
           }
          },
          "title": {
           "x": 0.05
          },
          "updatemenudefaults": {
           "bgcolor": "#506784",
           "borderwidth": 0
          },
          "xaxis": {
           "automargin": true,
           "gridcolor": "#283442",
           "linecolor": "#506784",
           "ticks": "",
           "title": {
            "standoff": 15
           },
           "zerolinecolor": "#283442",
           "zerolinewidth": 2
          },
          "yaxis": {
           "automargin": true,
           "gridcolor": "#283442",
           "linecolor": "#506784",
           "ticks": "",
           "title": {
            "standoff": 15
           },
           "zerolinecolor": "#283442",
           "zerolinewidth": 2
          }
         }
        },
        "title": {
         "text": "Evolution of Betti Numbers vs. Rips Scale"
        },
        "xaxis": {
         "anchor": "y",
         "domain": [
          0,
          1
         ],
         "title": {
          "text": "Max edge length"
         }
        },
        "yaxis": {
         "anchor": "x",
         "domain": [
          0,
          1
         ],
         "title": {
          "text": "Betti count"
         }
        }
       }
      }
     },
     "metadata": {},
     "output_type": "display_data"
    }
   ],
   "source": [
    "def betti_evolution(edge_lengths=np.linspace(0.1, 1.1, 100), max_dim=2):\n",
    "    \"\"\"\n",
    "    Compute and plot Betti numbers (H₀, H₁, … H_max_dim) \n",
    "    for a Vietoris-Rips complex as the max-edge threshold varies.\n",
    "    \"\"\"\n",
    "    # For each threshold, build Rips complex and read off its Betti numbers\n",
    "    records = []\n",
    "    for eps in edge_lengths:\n",
    "        st = (\n",
    "            gd.RipsComplex(distance_matrix=distance_matrix, max_edge_length=eps)\n",
    "              .create_simplex_tree(max_dimension=max_dim + 1)\n",
    "        )\n",
    "        st.compute_persistence()\n",
    "        bettis = st.betti_numbers()\n",
    "        # pad with zeros if some dimensions are missing\n",
    "        bettis += [0] * (max_dim + 1 - len(bettis))\n",
    "        records.append((eps, *bettis[: max_dim + 1]))\n",
    "    cols = [\"epsilon\"] + [f\"H{d}\" for d in range(max_dim + 1)]\n",
    "    df = pd.DataFrame(records, columns=cols)\n",
    "    df_long = df.melt(id_vars=\"epsilon\", var_name=\"Homology dim\", value_name=\"Count\")\n",
    "\n",
    "    # Create the line plot\n",
    "    fig = px.line(\n",
    "        df_long,\n",
    "        x=\"epsilon\",\n",
    "        y=\"Count\",\n",
    "        color=\"Homology dim\",\n",
    "        title=\"Evolution of Betti Numbers vs. Rips Scale\",\n",
    "        labels={\"epsilon\": \"Max edge length\", \"Count\": \"Betti count\"},\n",
    "        color_discrete_map={\"H0\": red, \"H1\": \"#ff657f\", \"H2\": \"#d79c9c\"},\n",
    "        template=\"plotly_dark\"\n",
    "    )\n",
    "    fig.update_layout(\n",
    "        font=dict(color=\"white\"),\n",
    "        legend_title_text=\"k-th homology group\",\n",
    "    )\n",
    "    return fig\n",
    "\n",
    "betti_evolution()\n"
   ]
  },
  {
   "cell_type": "code",
   "execution_count": 13,
   "id": "58b26943",
   "metadata": {},
   "outputs": [],
   "source": [
    "def compute_volatility_features(spike_thresh=0.1):\n",
    "    \"\"\"\n",
    "    For each listing (row), compute:\n",
    "      - std_dev:  standard deviation of (price - mean)/mean\n",
    "      - max_dev:  maximum absolute deviation\n",
    "      - spike_freq: fraction of days with |dev| > spike_thresh\n",
    "    Returns a DataFrame indexed by ID.\n",
    "    \"\"\"\n",
    "    # Build deviation matrix\n",
    "    mat = df_ts_interp.set_index(\"ID\")[dates].astype(float)\n",
    "    row_means = mat.mean(axis=1)\n",
    "    dev = mat.sub(row_means, axis=0).div(row_means, axis=0)\n",
    "\n",
    "    # Extract features\n",
    "    std_dev    = dev.std(axis=1)\n",
    "    max_dev    = dev.abs().max(axis=1)\n",
    "    spike_freq = (dev.abs() > spike_thresh).sum(axis=1) / dev.shape[1]\n",
    "    \n",
    "    feats = pd.DataFrame({\n",
    "        \"std_dev\":    std_dev,\n",
    "        \"max_dev\":    max_dev,\n",
    "        \"spike_freq\": spike_freq\n",
    "    }).round(3)\n",
    "    return feats"
   ]
  },
  {
   "cell_type": "code",
   "execution_count": 14,
   "id": "52235b91",
   "metadata": {},
   "outputs": [
    {
     "data": {
      "application/vnd.plotly.v1+json": {
       "config": {
        "plotlyServerURL": "https://plot.ly"
       },
       "data": [
        {
         "coloraxis": "coloraxis",
         "hovertemplate": "price_mean ≤ p: %{x}<br>price_std ≤ v: %{y}<br>β₀ count: %{z}<extra></extra>",
         "name": "0",
         "type": "heatmap",
         "x": {
          "bdata": "Di2yne/vU0DXo3A9Cp9UQJHtfD81TlVATDeJQWD9VUAUrkfheqxWQM/3U+OlW1dAiUFg5dAKWEBSuB6F67lYQAwCK4cWaVlAx0s3iUEYWkCBlUOLbMdaQEoMAiuHdltABFYOLbIlXEC+nxov3dRcQIcW2c73g11AQmDl0CIzXkD8qfHSTeJeQMUgsHJokV9APzVeukkgYEAdWmQ733dgQPp+arx0z2BAXrpJDAInYUA730+Nl35hQBkEVg4t1mFAfT81XrotYkBaZDvfT4ViQDeJQWDl3GJAnMQgsHI0Y0B56SYxCIxjQFYOLbKd42NAMzMzMzM7ZECYbhKDwJJkQHWTGARW6mRAUrgehetBZUC28/3UeJllQJMYBFYO8WVAcT0K16NIZkDVeOkmMaBmQLKd76fG92ZAj8L1KFxPZ0A=",
          "dtype": "f8"
         },
         "xaxis": "x",
         "y": {
          "bdata": "Di2yne+n3j+mm8QgsHL6Pzm0yHa+nwZANV66SQwCEEBoke18P7UUQJzEILByaBlAtMh2vp8aHkD0/dR46WYhQI2XbhKDwCNAmpmZmZkZJkAzMzMzM3MoQM3MzMzMzCpA2c73U+MlLUBzaJHtfH8vQAaBlUOL7DBADAIrhxYZMkDZzvdT40UzQKabxCCwcjRArBxaZDufNUB56SYxCMw2QEa28/3U+DdATDeJQWAlOUAZBFYOLVI6QOXQItv5fjtA7FG4HoWrPEC4HoXrUdg9QIXrUbgeBT9ARrbz/dQYQECsHFpkO69AQBKDwMqhRUFAlkOLbOfbQUD8qfHSTXJCQGIQWDm0CENA5dAi2/meQ0BMN4lBYDVEQLKd76fGy0RANV66SQxiRUCcxCCwcvhFQAIrhxbZjkZAhetRuB4lR0A=",
          "dtype": "f8"
         },
         "yaxis": "y",
         "z": {
          "bdata": "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",
          "dtype": "i1",
          "shape": "40, 40"
         }
        }
       ],
       "layout": {
        "coloraxis": {
         "colorbar": {
          "title": {
           "text": "β₀ count"
          }
         },
         "colorscale": [
          [
           0,
           "rgb(60, 9, 17)"
          ],
          [
           0.09090909090909091,
           "rgb(89, 13, 31)"
          ],
          [
           0.18181818181818182,
           "rgb(120, 14, 40)"
          ],
          [
           0.2727272727272727,
           "rgb(149, 19, 39)"
          ],
          [
           0.36363636363636365,
           "rgb(172, 44, 36)"
          ],
          [
           0.45454545454545453,
           "rgb(186, 74, 47)"
          ],
          [
           0.5454545454545454,
           "rgb(196, 102, 73)"
          ],
          [
           0.6363636363636364,
           "rgb(205, 129, 103)"
          ],
          [
           0.7272727272727273,
           "rgb(213, 156, 137)"
          ],
          [
           0.8181818181818182,
           "rgb(221, 182, 170)"
          ],
          [
           0.9090909090909091,
           "rgb(230, 209, 203)"
          ],
          [
           1,
           "rgb(241, 236, 236)"
          ]
         ]
        },
        "template": {
         "data": {
          "bar": [
           {
            "error_x": {
             "color": "#f2f5fa"
            },
            "error_y": {
             "color": "#f2f5fa"
            },
            "marker": {
             "line": {
              "color": "rgb(17,17,17)",
              "width": 0.5
             },
             "pattern": {
              "fillmode": "overlay",
              "size": 10,
              "solidity": 0.2
             }
            },
            "type": "bar"
           }
          ],
          "barpolar": [
           {
            "marker": {
             "line": {
              "color": "rgb(17,17,17)",
              "width": 0.5
             },
             "pattern": {
              "fillmode": "overlay",
              "size": 10,
              "solidity": 0.2
             }
            },
            "type": "barpolar"
           }
          ],
          "carpet": [
           {
            "aaxis": {
             "endlinecolor": "#A2B1C6",
             "gridcolor": "#506784",
             "linecolor": "#506784",
             "minorgridcolor": "#506784",
             "startlinecolor": "#A2B1C6"
            },
            "baxis": {
             "endlinecolor": "#A2B1C6",
             "gridcolor": "#506784",
             "linecolor": "#506784",
             "minorgridcolor": "#506784",
             "startlinecolor": "#A2B1C6"
            },
            "type": "carpet"
           }
          ],
          "choropleth": [
           {
            "colorbar": {
             "outlinewidth": 0,
             "ticks": ""
            },
            "type": "choropleth"
           }
          ],
          "contour": [
           {
            "colorbar": {
             "outlinewidth": 0,
             "ticks": ""
            },
            "colorscale": [
             [
              0,
              "#0d0887"
             ],
             [
              0.1111111111111111,
              "#46039f"
             ],
             [
              0.2222222222222222,
              "#7201a8"
             ],
             [
              0.3333333333333333,
              "#9c179e"
             ],
             [
              0.4444444444444444,
              "#bd3786"
             ],
             [
              0.5555555555555556,
              "#d8576b"
             ],
             [
              0.6666666666666666,
              "#ed7953"
             ],
             [
              0.7777777777777778,
              "#fb9f3a"
             ],
             [
              0.8888888888888888,
              "#fdca26"
             ],
             [
              1,
              "#f0f921"
             ]
            ],
            "type": "contour"
           }
          ],
          "contourcarpet": [
           {
            "colorbar": {
             "outlinewidth": 0,
             "ticks": ""
            },
            "type": "contourcarpet"
           }
          ],
          "heatmap": [
           {
            "colorbar": {
             "outlinewidth": 0,
             "ticks": ""
            },
            "colorscale": [
             [
              0,
              "#0d0887"
             ],
             [
              0.1111111111111111,
              "#46039f"
             ],
             [
              0.2222222222222222,
              "#7201a8"
             ],
             [
              0.3333333333333333,
              "#9c179e"
             ],
             [
              0.4444444444444444,
              "#bd3786"
             ],
             [
              0.5555555555555556,
              "#d8576b"
             ],
             [
              0.6666666666666666,
              "#ed7953"
             ],
             [
              0.7777777777777778,
              "#fb9f3a"
             ],
             [
              0.8888888888888888,
              "#fdca26"
             ],
             [
              1,
              "#f0f921"
             ]
            ],
            "type": "heatmap"
           }
          ],
          "histogram": [
           {
            "marker": {
             "pattern": {
              "fillmode": "overlay",
              "size": 10,
              "solidity": 0.2
             }
            },
            "type": "histogram"
           }
          ],
          "histogram2d": [
           {
            "colorbar": {
             "outlinewidth": 0,
             "ticks": ""
            },
            "colorscale": [
             [
              0,
              "#0d0887"
             ],
             [
              0.1111111111111111,
              "#46039f"
             ],
             [
              0.2222222222222222,
              "#7201a8"
             ],
             [
              0.3333333333333333,
              "#9c179e"
             ],
             [
              0.4444444444444444,
              "#bd3786"
             ],
             [
              0.5555555555555556,
              "#d8576b"
             ],
             [
              0.6666666666666666,
              "#ed7953"
             ],
             [
              0.7777777777777778,
              "#fb9f3a"
             ],
             [
              0.8888888888888888,
              "#fdca26"
             ],
             [
              1,
              "#f0f921"
             ]
            ],
            "type": "histogram2d"
           }
          ],
          "histogram2dcontour": [
           {
            "colorbar": {
             "outlinewidth": 0,
             "ticks": ""
            },
            "colorscale": [
             [
              0,
              "#0d0887"
             ],
             [
              0.1111111111111111,
              "#46039f"
             ],
             [
              0.2222222222222222,
              "#7201a8"
             ],
             [
              0.3333333333333333,
              "#9c179e"
             ],
             [
              0.4444444444444444,
              "#bd3786"
             ],
             [
              0.5555555555555556,
              "#d8576b"
             ],
             [
              0.6666666666666666,
              "#ed7953"
             ],
             [
              0.7777777777777778,
              "#fb9f3a"
             ],
             [
              0.8888888888888888,
              "#fdca26"
             ],
             [
              1,
              "#f0f921"
             ]
            ],
            "type": "histogram2dcontour"
           }
          ],
          "mesh3d": [
           {
            "colorbar": {
             "outlinewidth": 0,
             "ticks": ""
            },
            "type": "mesh3d"
           }
          ],
          "parcoords": [
           {
            "line": {
             "colorbar": {
              "outlinewidth": 0,
              "ticks": ""
             }
            },
            "type": "parcoords"
           }
          ],
          "pie": [
           {
            "automargin": true,
            "type": "pie"
           }
          ],
          "scatter": [
           {
            "marker": {
             "line": {
              "color": "#283442"
             }
            },
            "type": "scatter"
           }
          ],
          "scatter3d": [
           {
            "line": {
             "colorbar": {
              "outlinewidth": 0,
              "ticks": ""
             }
            },
            "marker": {
             "colorbar": {
              "outlinewidth": 0,
              "ticks": ""
             }
            },
            "type": "scatter3d"
           }
          ],
          "scattercarpet": [
           {
            "marker": {
             "colorbar": {
              "outlinewidth": 0,
              "ticks": ""
             }
            },
            "type": "scattercarpet"
           }
          ],
          "scattergeo": [
           {
            "marker": {
             "colorbar": {
              "outlinewidth": 0,
              "ticks": ""
             }
            },
            "type": "scattergeo"
           }
          ],
          "scattergl": [
           {
            "marker": {
             "line": {
              "color": "#283442"
             }
            },
            "type": "scattergl"
           }
          ],
          "scattermap": [
           {
            "marker": {
             "colorbar": {
              "outlinewidth": 0,
              "ticks": ""
             }
            },
            "type": "scattermap"
           }
          ],
          "scattermapbox": [
           {
            "marker": {
             "colorbar": {
              "outlinewidth": 0,
              "ticks": ""
             }
            },
            "type": "scattermapbox"
           }
          ],
          "scatterpolar": [
           {
            "marker": {
             "colorbar": {
              "outlinewidth": 0,
              "ticks": ""
             }
            },
            "type": "scatterpolar"
           }
          ],
          "scatterpolargl": [
           {
            "marker": {
             "colorbar": {
              "outlinewidth": 0,
              "ticks": ""
             }
            },
            "type": "scatterpolargl"
           }
          ],
          "scatterternary": [
           {
            "marker": {
             "colorbar": {
              "outlinewidth": 0,
              "ticks": ""
             }
            },
            "type": "scatterternary"
           }
          ],
          "surface": [
           {
            "colorbar": {
             "outlinewidth": 0,
             "ticks": ""
            },
            "colorscale": [
             [
              0,
              "#0d0887"
             ],
             [
              0.1111111111111111,
              "#46039f"
             ],
             [
              0.2222222222222222,
              "#7201a8"
             ],
             [
              0.3333333333333333,
              "#9c179e"
             ],
             [
              0.4444444444444444,
              "#bd3786"
             ],
             [
              0.5555555555555556,
              "#d8576b"
             ],
             [
              0.6666666666666666,
              "#ed7953"
             ],
             [
              0.7777777777777778,
              "#fb9f3a"
             ],
             [
              0.8888888888888888,
              "#fdca26"
             ],
             [
              1,
              "#f0f921"
             ]
            ],
            "type": "surface"
           }
          ],
          "table": [
           {
            "cells": {
             "fill": {
              "color": "#506784"
             },
             "line": {
              "color": "rgb(17,17,17)"
             }
            },
            "header": {
             "fill": {
              "color": "#2a3f5f"
             },
             "line": {
              "color": "rgb(17,17,17)"
             }
            },
            "type": "table"
           }
          ]
         },
         "layout": {
          "annotationdefaults": {
           "arrowcolor": "#f2f5fa",
           "arrowhead": 0,
           "arrowwidth": 1
          },
          "autotypenumbers": "strict",
          "coloraxis": {
           "colorbar": {
            "outlinewidth": 0,
            "ticks": ""
           }
          },
          "colorscale": {
           "diverging": [
            [
             0,
             "#8e0152"
            ],
            [
             0.1,
             "#c51b7d"
            ],
            [
             0.2,
             "#de77ae"
            ],
            [
             0.3,
             "#f1b6da"
            ],
            [
             0.4,
             "#fde0ef"
            ],
            [
             0.5,
             "#f7f7f7"
            ],
            [
             0.6,
             "#e6f5d0"
            ],
            [
             0.7,
             "#b8e186"
            ],
            [
             0.8,
             "#7fbc41"
            ],
            [
             0.9,
             "#4d9221"
            ],
            [
             1,
             "#276419"
            ]
           ],
           "sequential": [
            [
             0,
             "#0d0887"
            ],
            [
             0.1111111111111111,
             "#46039f"
            ],
            [
             0.2222222222222222,
             "#7201a8"
            ],
            [
             0.3333333333333333,
             "#9c179e"
            ],
            [
             0.4444444444444444,
             "#bd3786"
            ],
            [
             0.5555555555555556,
             "#d8576b"
            ],
            [
             0.6666666666666666,
             "#ed7953"
            ],
            [
             0.7777777777777778,
             "#fb9f3a"
            ],
            [
             0.8888888888888888,
             "#fdca26"
            ],
            [
             1,
             "#f0f921"
            ]
           ],
           "sequentialminus": [
            [
             0,
             "#0d0887"
            ],
            [
             0.1111111111111111,
             "#46039f"
            ],
            [
             0.2222222222222222,
             "#7201a8"
            ],
            [
             0.3333333333333333,
             "#9c179e"
            ],
            [
             0.4444444444444444,
             "#bd3786"
            ],
            [
             0.5555555555555556,
             "#d8576b"
            ],
            [
             0.6666666666666666,
             "#ed7953"
            ],
            [
             0.7777777777777778,
             "#fb9f3a"
            ],
            [
             0.8888888888888888,
             "#fdca26"
            ],
            [
             1,
             "#f0f921"
            ]
           ]
          },
          "colorway": [
           "#636efa",
           "#EF553B",
           "#00cc96",
           "#ab63fa",
           "#FFA15A",
           "#19d3f3",
           "#FF6692",
           "#B6E880",
           "#FF97FF",
           "#FECB52"
          ],
          "font": {
           "color": "#f2f5fa"
          },
          "geo": {
           "bgcolor": "rgb(17,17,17)",
           "lakecolor": "rgb(17,17,17)",
           "landcolor": "rgb(17,17,17)",
           "showlakes": true,
           "showland": true,
           "subunitcolor": "#506784"
          },
          "hoverlabel": {
           "align": "left"
          },
          "hovermode": "closest",
          "mapbox": {
           "style": "dark"
          },
          "paper_bgcolor": "rgb(17,17,17)",
          "plot_bgcolor": "rgb(17,17,17)",
          "polar": {
           "angularaxis": {
            "gridcolor": "#506784",
            "linecolor": "#506784",
            "ticks": ""
           },
           "bgcolor": "rgb(17,17,17)",
           "radialaxis": {
            "gridcolor": "#506784",
            "linecolor": "#506784",
            "ticks": ""
           }
          },
          "scene": {
           "xaxis": {
            "backgroundcolor": "rgb(17,17,17)",
            "gridcolor": "#506784",
            "gridwidth": 2,
            "linecolor": "#506784",
            "showbackground": true,
            "ticks": "",
            "zerolinecolor": "#C8D4E3"
           },
           "yaxis": {
            "backgroundcolor": "rgb(17,17,17)",
            "gridcolor": "#506784",
            "gridwidth": 2,
            "linecolor": "#506784",
            "showbackground": true,
            "ticks": "",
            "zerolinecolor": "#C8D4E3"
           },
           "zaxis": {
            "backgroundcolor": "rgb(17,17,17)",
            "gridcolor": "#506784",
            "gridwidth": 2,
            "linecolor": "#506784",
            "showbackground": true,
            "ticks": "",
            "zerolinecolor": "#C8D4E3"
           }
          },
          "shapedefaults": {
           "line": {
            "color": "#f2f5fa"
           }
          },
          "sliderdefaults": {
           "bgcolor": "#C8D4E3",
           "bordercolor": "rgb(17,17,17)",
           "borderwidth": 1,
           "tickwidth": 0
          },
          "ternary": {
           "aaxis": {
            "gridcolor": "#506784",
            "linecolor": "#506784",
            "ticks": ""
           },
           "baxis": {
            "gridcolor": "#506784",
            "linecolor": "#506784",
            "ticks": ""
           },
           "bgcolor": "rgb(17,17,17)",
           "caxis": {
            "gridcolor": "#506784",
            "linecolor": "#506784",
            "ticks": ""
           }
          },
          "title": {
           "x": 0.05
          },
          "updatemenudefaults": {
           "bgcolor": "#506784",
           "borderwidth": 0
          },
          "xaxis": {
           "automargin": true,
           "gridcolor": "#283442",
           "linecolor": "#506784",
           "ticks": "",
           "title": {
            "standoff": 15
           },
           "zerolinecolor": "#283442",
           "zerolinewidth": 2
          },
          "yaxis": {
           "automargin": true,
           "gridcolor": "#283442",
           "linecolor": "#506784",
           "ticks": "",
           "title": {
            "standoff": 15
           },
           "zerolinecolor": "#283442",
           "zerolinewidth": 2
          }
         }
        },
        "title": {
         "text": "Approximate β₀(p,v) — Price vs Volatility"
        },
        "xaxis": {
         "anchor": "y",
         "domain": [
          0,
          1
         ],
         "side": "bottom",
         "title": {
          "text": "price_mean ≤ p"
         }
        },
        "yaxis": {
         "anchor": "x",
         "autorange": "reversed",
         "domain": [
          0,
          1
         ],
         "title": {
          "text": "price_std ≤ v"
         }
        }
       }
      }
     },
     "metadata": {},
     "output_type": "display_data"
    }
   ],
   "source": [
    "import numpy as np\n",
    "import pandas as pd\n",
    "import plotly.express as px\n",
    "\n",
    "# 3. Multiparameter “persistence” via Betti₀ rank‐invariant\n",
    "def bipersistence_heatmap(df_summary, n_steps=40):\n",
    "    \"\"\"\n",
    "    Approximate a 2-parameter persistence surface β₀(p, v)\n",
    "    \"\"\"\n",
    "    # compute β₀(p, v) as the count of listings with price_mean ≤ p and price_std ≤ v\n",
    "    P = df_summary[\"price_mean\"].values\n",
    "    V = df_summary[\"price_std\"].values\n",
    "    p_grid = np.linspace(P.min(), P.max(), n_steps)\n",
    "    v_grid = np.linspace(V.min(), V.max(), n_steps)\n",
    "    comp_counts = np.zeros((len(v_grid), len(p_grid)), dtype=int)\n",
    "    for i, v_thr in enumerate(v_grid):\n",
    "        for j, p_thr in enumerate(p_grid):\n",
    "            mask = (P <= p_thr) & (V <= v_thr)\n",
    "            comp_counts[i, j] = mask.sum()\n",
    "\n",
    "    # Create a heatmap\n",
    "    df = pd.DataFrame(\n",
    "        comp_counts, \n",
    "        index=np.round(v_grid,3), \n",
    "        columns=np.round(p_grid,3)\n",
    "    )\n",
    "    fig = px.imshow(\n",
    "        df,\n",
    "        labels=dict(x=f\"price_mean ≤ p\", y=f\"price_std ≤ v\", color=\"β₀ count\"),\n",
    "        x=df.columns, \n",
    "        y=df.index,\n",
    "        title=f\"Approximate β₀(p,v) — Price vs Volatility\",\n",
    "        aspect=\"auto\",\n",
    "        template=\"plotly_dark\",\n",
    "        color_continuous_scale=\"amp_r\"\n",
    "    )\n",
    "    fig.update_xaxes(side=\"bottom\")\n",
    "    return fig\n",
    "\n",
    "\n",
    "price_summary = df_prices.groupby(\"ID\").apply(\n",
    "    lambda g: pd.Series({\n",
    "        \"price_mean\": g[\"Value\"].mean(),\n",
    "        \"price_std\":  g[\"Value\"].std()\n",
    "    })\n",
    ")\n",
    "dfa = price_summary.reset_index().merge(compute_volatility_features(), left_on=\"ID\", right_index=True)\n",
    "bipersistence_heatmap(dfa)"
   ]
  },
  {
   "cell_type": "code",
   "execution_count": 20,
   "id": "044fca5f",
   "metadata": {},
   "outputs": [
    {
     "data": {
      "application/vnd.plotly.v1+json": {
       "config": {
        "plotlyServerURL": "https://plot.ly"
       },
       "data": [
        {
         "legendgroup": "dim0",
         "marker": {
          "color": "#ff4136",
          "size": 6
         },
         "mode": "markers",
         "name": "H0",
         "showlegend": true,
         "type": "scatter",
         "x": [
          0,
          0,
          0,
          0,
          0,
          0,
          0,
          0,
          0,
          0,
          0,
          0,
          0,
          0,
          0,
          0,
          0,
          0,
          0,
          0
         ],
         "xaxis": "x",
         "y": [
          1.7830120902133593,
          1.7830120902133593,
          1.7830120902133593,
          1.141410252280938,
          1.1204651655178173,
          0.9999428730707622,
          0.6705150472035172,
          0.6158916495083901,
          0.6106894535983866,
          0.5464266210966682,
          0.5464266210966682,
          0.3809021910859367,
          0.3445532391365934,
          0.24682461982368686,
          0.2070616697271957,
          0.2067754751609372,
          0.1382069107834863,
          0.13777776397565622,
          0.10317306390940696,
          0.09863984527490322
         ],
         "yaxis": "y"
        },
        {
         "line": {
          "color": "white",
          "dash": "dash"
         },
         "mode": "lines",
         "showlegend": false,
         "type": "scatter",
         "x": [
          0,
          1.7830120902133593
         ],
         "xaxis": "x",
         "y": [
          0,
          1.7830120902133593
         ],
         "yaxis": "y"
        },
        {
         "legendgroup": "dim1",
         "marker": {
          "color": "#0074D9",
          "size": 6
         },
         "mode": "markers",
         "name": "H1",
         "showlegend": false,
         "type": "scatter",
         "x": [
          1.182084308202816,
          0.6251347202079762,
          0.5391495561554556
         ],
         "xaxis": "x2",
         "y": [
          1.2631695177389777,
          0.8390933426490506,
          0.5644509543056571
         ],
         "yaxis": "y2"
        },
        {
         "legendgroup": "dim0",
         "marker": {
          "color": "#ff4136",
          "size": 6
         },
         "mode": "markers",
         "name": "H0",
         "showlegend": false,
         "type": "scatter",
         "x": [
          0,
          0,
          0,
          0,
          0,
          0,
          0,
          0,
          0,
          0,
          0,
          0,
          0,
          0,
          0,
          0,
          0,
          0,
          0,
          0,
          0,
          0,
          0,
          0,
          0,
          0,
          0,
          0,
          0,
          0,
          0,
          0,
          0,
          0,
          0,
          0
         ],
         "xaxis": "x2",
         "y": [
          1.2631695177389777,
          1.2631695177389777,
          1.2631695177389777,
          1.2631695177389777,
          1.2631695177389777,
          1.2631695177389777,
          1.2631695177389777,
          0.9874440276418704,
          0.9343620499574148,
          0.7989771254290855,
          0.7718536137844518,
          0.7637813181163325,
          0.7109118045834959,
          0.6981678627280677,
          0.6113123147394844,
          0.5520541609807716,
          0.5407985010406066,
          0.49913441486380294,
          0.47714153638239254,
          0.45238547959600073,
          0.4343604224346967,
          0.4185566640293701,
          0.40653651137311997,
          0.39463883116291626,
          0.38095207399117875,
          0.37525395072616013,
          0.37525395072616013,
          0.2943734180469963,
          0.2943734180469963,
          0.24408154397908033,
          0.2081534401020935,
          0.1771690274400383,
          0.1645597433805118,
          0.14718670902349817,
          0.09861509504574406,
          0.07359335451174909
         ],
         "yaxis": "y2"
        },
        {
         "line": {
          "color": "white",
          "dash": "dash"
         },
         "mode": "lines",
         "showlegend": false,
         "type": "scatter",
         "x": [
          0,
          1.2631695177389777
         ],
         "xaxis": "x2",
         "y": [
          0,
          1.2631695177389777
         ],
         "yaxis": "y2"
        },
        {
         "legendgroup": "dim2",
         "marker": {
          "color": "#2ECC40",
          "size": 6
         },
         "mode": "markers",
         "name": "H2",
         "showlegend": false,
         "type": "scatter",
         "x": [
          0.7616459387734884
         ],
         "xaxis": "x3",
         "y": [
          0.7940829720905624
         ],
         "yaxis": "y3"
        },
        {
         "legendgroup": "dim1",
         "marker": {
          "color": "#0074D9",
          "size": 6
         },
         "mode": "markers",
         "name": "H1",
         "showlegend": false,
         "type": "scatter",
         "x": [
          0.5920472331342838,
          0.7075850101857788,
          0.6656274094737072,
          0.7728634280906762,
          0.6450294860097907,
          0.7336290369875779,
          0.5427490795613643
         ],
         "xaxis": "x3",
         "y": [
          0.697085139283221,
          0.7711246715756382,
          0.7208590051999082,
          0.8278712131276523,
          0.6813556343526656,
          0.7501625738012543,
          0.5500358073504196
         ],
         "yaxis": "y3"
        },
        {
         "legendgroup": "dim0",
         "marker": {
          "color": "#ff4136",
          "size": 6
         },
         "mode": "markers",
         "name": "H0",
         "showlegend": false,
         "type": "scatter",
         "x": [
          0,
          0,
          0,
          0,
          0,
          0,
          0,
          0,
          0,
          0,
          0,
          0,
          0,
          0,
          0,
          0,
          0,
          0,
          0,
          0,
          0,
          0,
          0,
          0,
          0,
          0,
          0,
          0,
          0,
          0,
          0,
          0,
          0,
          0,
          0
         ],
         "xaxis": "x3",
         "y": [
          2.520039531527315,
          2.520039531527315,
          2.520039531527315,
          2.520039531527315,
          2.520039531527315,
          2.520039531527315,
          2.520039531527315,
          2.520039531527315,
          0.8898187112759187,
          0.8597455673738379,
          0.8581076396252993,
          0.6928112536197029,
          0.666483482299945,
          0.646055060413503,
          0.6446585960940818,
          0.6146339860592095,
          0.5973352632862068,
          0.5522880434948129,
          0.5272810185913245,
          0.5085865337708427,
          0.48010921836240217,
          0.4532946057607744,
          0.38828346958109733,
          0.29079011255185505,
          0.2649134351304496,
          0.2615937916013028,
          0.2588364636061907,
          0.25192444217452387,
          0.2462766840959257,
          0.17249901621937097,
          0.14997182757240465,
          0.128226566197246,
          0.10504639724916319,
          0.07353439129895427,
          0.021870809405742472
         ],
         "yaxis": "y3"
        },
        {
         "line": {
          "color": "white",
          "dash": "dash"
         },
         "mode": "lines",
         "showlegend": false,
         "type": "scatter",
         "x": [
          0,
          2.520039531527315
         ],
         "xaxis": "x3",
         "y": [
          0,
          2.520039531527315
         ],
         "yaxis": "y3"
        },
        {
         "legendgroup": "dim1",
         "marker": {
          "color": "#0074D9",
          "size": 6
         },
         "mode": "markers",
         "name": "H1",
         "showlegend": false,
         "type": "scatter",
         "x": [
          1.2052700520137178,
          0.8240594064665077,
          0.907630605273858,
          0.35959711084822765,
          1.3045984093235605,
          0.968691307248863,
          0.9661414143287707,
          1.1023581717342674
         ],
         "xaxis": "x4",
         "y": [
          2.3499899152374195,
          1.1117934442806143,
          1.1498210981363306,
          0.4380215228615634,
          1.3652144836888918,
          1.0247885069261597,
          0.9757393803398206,
          1.1056130304672271
         ],
         "yaxis": "y4"
        },
        {
         "legendgroup": "dim0",
         "marker": {
          "color": "#ff4136",
          "size": 6
         },
         "mode": "markers",
         "name": "H0",
         "showlegend": false,
         "type": "scatter",
         "x": [
          0,
          0,
          0,
          0,
          0,
          0,
          0,
          0,
          0,
          0,
          0,
          0,
          0,
          0,
          0,
          0,
          0,
          0,
          0,
          0,
          0,
          0,
          0,
          0,
          0,
          0,
          0,
          0,
          0,
          0,
          0,
          0,
          0,
          0,
          0
         ],
         "xaxis": "x4",
         "y": [
          2.3499899152374195,
          2.3499899152374195,
          2.3499899152374195,
          2.3499899152374195,
          1.2987024221315548,
          1.0981780754347097,
          1.0981780754347095,
          0.8992023614176792,
          0.8760430457231269,
          0.8760430457231266,
          0.823097604411184,
          0.8194632332904698,
          0.7890954998995535,
          0.7844901362399961,
          0.772203851429867,
          0.753884360738443,
          0.7414199373508048,
          0.7321195489090873,
          0.6517043641795475,
          0.5735047955808413,
          0.5364646136838336,
          0.49666972216521005,
          0.4837482637937696,
          0.3788967554902995,
          0.3685484193253431,
          0.3326739789428278,
          0.30775715843491136,
          0.3077571584349113,
          0.2979006426568631,
          0.2846225201235931,
          0.27293245264110444,
          0.23413235236870578,
          0.23413235236870555,
          0.23413235236870555,
          0.18269826185656768
         ],
         "yaxis": "y4"
        },
        {
         "line": {
          "color": "white",
          "dash": "dash"
         },
         "mode": "lines",
         "showlegend": false,
         "type": "scatter",
         "x": [
          0,
          2.3499899152374195
         ],
         "xaxis": "x4",
         "y": [
          0,
          2.3499899152374195
         ],
         "yaxis": "y4"
        },
        {
         "legendgroup": "dim2",
         "marker": {
          "color": "#2ECC40",
          "size": 6
         },
         "mode": "markers",
         "name": "H2",
         "showlegend": false,
         "type": "scatter",
         "x": [
          0.9567363025077337
         ],
         "xaxis": "x5",
         "y": [
          1.0096535494862289
         ],
         "yaxis": "y5"
        },
        {
         "legendgroup": "dim1",
         "marker": {
          "color": "#0074D9",
          "size": 6
         },
         "mode": "markers",
         "name": "H1",
         "showlegend": false,
         "type": "scatter",
         "x": [
          0.7190953458829074,
          0.6389053332910982,
          0.8932725068608813,
          0.8385296668430683,
          0.684748498842672,
          0.5612138118588587
         ],
         "xaxis": "x5",
         "y": [
          1.0817971909355886,
          0.8271853382240901,
          1.0276870611755722,
          0.9429340465133528,
          0.7765224886704252,
          0.6115298049191761
         ],
         "yaxis": "y5"
        },
        {
         "legendgroup": "dim0",
         "marker": {
          "color": "#ff4136",
          "size": 6
         },
         "mode": "markers",
         "name": "H0",
         "showlegend": false,
         "type": "scatter",
         "x": [
          0,
          0,
          0,
          0,
          0,
          0,
          0,
          0,
          0,
          0,
          0,
          0,
          0,
          0,
          0,
          0,
          0,
          0,
          0,
          0,
          0,
          0,
          0,
          0,
          0,
          0,
          0,
          0,
          0,
          0,
          0,
          0,
          0,
          0,
          0
         ],
         "xaxis": "x5",
         "y": [
          1.598293035128054,
          1.598293035128054,
          1.598293035128054,
          1.2682218306278086,
          1.0103145818738848,
          0.7757490904708929,
          0.7360668703922639,
          0.722342595296454,
          0.7214455062951465,
          0.7154194826376473,
          0.6902511137723571,
          0.6769438797000225,
          0.6264447147247589,
          0.6150598348541403,
          0.6072810752470504,
          0.600951646323089,
          0.5961625127603376,
          0.5958682163514598,
          0.5546990491576058,
          0.532150428620598,
          0.528220446415105,
          0.4770623925315093,
          0.44527220322828454,
          0.4038460304387512,
          0.385984379777847,
          0.365726480283783,
          0.35477550635347765,
          0.3372341812861731,
          0.330528216534532,
          0.30440115490329056,
          0.28598703377632284,
          0.22105614661118908,
          0.2203521443563547,
          0.18373986624670285,
          0.16620161826383748
         ],
         "yaxis": "y5"
        },
        {
         "line": {
          "color": "white",
          "dash": "dash"
         },
         "mode": "lines",
         "showlegend": false,
         "type": "scatter",
         "x": [
          0,
          1.598293035128054
         ],
         "xaxis": "x5",
         "y": [
          0,
          1.598293035128054
         ],
         "yaxis": "y5"
        },
        {
         "legendgroup": "dim1",
         "marker": {
          "color": "#0074D9",
          "size": 6
         },
         "mode": "markers",
         "name": "H1",
         "showlegend": false,
         "type": "scatter",
         "x": [
          0.8580192767248377,
          1.1341968874824822,
          0.6355751886345622,
          0.8541048416950706
         ],
         "xaxis": "x6",
         "y": [
          1.0502515289603431,
          1.279920762238055,
          0.7438024238276361,
          0.9125550286235763
         ],
         "yaxis": "y6"
        },
        {
         "legendgroup": "dim0",
         "marker": {
          "color": "#ff4136",
          "size": 6
         },
         "mode": "markers",
         "name": "H0",
         "showlegend": false,
         "type": "scatter",
         "x": [
          0,
          0,
          0,
          0,
          0,
          0,
          0,
          0,
          0,
          0,
          0,
          0,
          0,
          0,
          0,
          0,
          0,
          0,
          0,
          0,
          0,
          0,
          0,
          0,
          0,
          0
         ],
         "xaxis": "x6",
         "y": [
          2.9887874862515176,
          2.9887874862515176,
          2.9887874862515176,
          2.9887874862515176,
          2.9887874862515176,
          1.3541741110918555,
          1.2243957609828025,
          0.8711639920856301,
          0.8393056967370364,
          0.8368649680455784,
          0.77535311498441,
          0.6301093819347123,
          0.5931227343755201,
          0.5931227343755201,
          0.5176293921917505,
          0.5109033181092946,
          0.5040875055477698,
          0.4711600506197275,
          0.46376050510394917,
          0.46376050510394917,
          0.46376050510394917,
          0.3445632612967298,
          0.32069039229037205,
          0.1260218763869424,
          0.1260218763869424,
          0.08317443841538158
         ],
         "yaxis": "y6"
        },
        {
         "line": {
          "color": "white",
          "dash": "dash"
         },
         "mode": "lines",
         "showlegend": false,
         "type": "scatter",
         "x": [
          0,
          2.9887874862515176
         ],
         "xaxis": "x6",
         "y": [
          0,
          2.9887874862515176
         ],
         "yaxis": "y6"
        },
        {
         "legendgroup": "dim1",
         "marker": {
          "color": "#0074D9",
          "size": 6
         },
         "mode": "markers",
         "name": "H1",
         "showlegend": false,
         "type": "scatter",
         "x": [
          0.7880165981336893,
          0.7920027766973708,
          0.6907514134656837
         ],
         "xaxis": "x7",
         "y": [
          1.0447111838476946,
          1.0224711880996495,
          0.8850779500158426
         ],
         "yaxis": "y7"
        },
        {
         "legendgroup": "dim0",
         "marker": {
          "color": "#ff4136",
          "size": 6
         },
         "mode": "markers",
         "name": "H0",
         "showlegend": false,
         "type": "scatter",
         "x": [
          0,
          0,
          0,
          0,
          0,
          0,
          0,
          0,
          0,
          0,
          0,
          0,
          0,
          0,
          0,
          0,
          0,
          0,
          0,
          0,
          0,
          0,
          0,
          0,
          0,
          0,
          0,
          0,
          0,
          0,
          0,
          0,
          0
         ],
         "xaxis": "x7",
         "y": [
          2.3166627862913507,
          2.3166627862913507,
          2.3166627862913507,
          2.3166627862913507,
          1.2452898753165726,
          0.8689334233677519,
          0.8383155299294565,
          0.7920027766973708,
          0.7049005984319525,
          0.6858945244877371,
          0.685894524487737,
          0.6466675592586685,
          0.6466675592586685,
          0.5853839789172602,
          0.5645526721280782,
          0.5593850899711104,
          0.5390340357897052,
          0.538889632715557,
          0.5334735190460177,
          0.46852789033795106,
          0.4572630163251581,
          0.4572630163251581,
          0.38105251360429826,
          0.35412225134957204,
          0.22863150816257893,
          0.2269896272504974,
          0.22216374609904802,
          0.21657195958511488,
          0.18184790532658718,
          0.1783325763668119,
          0.15242100544171938,
          0.1265094345166268,
          0.10212207364595224
         ],
         "yaxis": "y7"
        },
        {
         "line": {
          "color": "white",
          "dash": "dash"
         },
         "mode": "lines",
         "showlegend": false,
         "type": "scatter",
         "x": [
          0,
          2.3166627862913507
         ],
         "xaxis": "x7",
         "y": [
          0,
          2.3166627862913507
         ],
         "yaxis": "y7"
        },
        {
         "legendgroup": "dim2",
         "marker": {
          "color": "#2ECC40",
          "size": 6
         },
         "mode": "markers",
         "name": "H2",
         "showlegend": false,
         "type": "scatter",
         "x": [
          0.7420863365878949
         ],
         "xaxis": "x8",
         "y": [
          0.8568874923819287
         ],
         "yaxis": "y8"
        },
        {
         "legendgroup": "dim1",
         "marker": {
          "color": "#0074D9",
          "size": 6
         },
         "mode": "markers",
         "name": "H1",
         "showlegend": false,
         "type": "scatter",
         "x": [
          1.3562457297982764,
          0.42844374619096437,
          1.210385810629821
         ],
         "xaxis": "x8",
         "y": [
          2.1794707542552945,
          0.7420863365878949,
          1.3870630554157866
         ],
         "yaxis": "y8"
        },
        {
         "legendgroup": "dim0",
         "marker": {
          "color": "#ff4136",
          "size": 6
         },
         "mode": "markers",
         "name": "H0",
         "showlegend": false,
         "type": "scatter",
         "x": [
          0,
          0,
          0,
          0,
          0,
          0,
          0,
          0,
          0,
          0,
          0,
          0,
          0,
          0,
          0,
          0,
          0,
          0,
          0,
          0,
          0,
          0,
          0,
          0,
          0,
          0,
          0,
          0
         ],
         "xaxis": "x8",
         "y": [
          2.1794707542552945,
          2.1794707542552945,
          2.1794707542552945,
          1.2501330544505405,
          1.241953246616993,
          1.168987735158542,
          1.146970929372692,
          0.9764800186067638,
          0.9593590145805632,
          0.9553527000186361,
          0.9074627793024964,
          0.8928738659932897,
          0.8293568761163479,
          0.6633326098052928,
          0.5995661643901687,
          0.5814228775911334,
          0.5554183768624315,
          0.5222993058285345,
          0.46276001677165707,
          0.42844374619096437,
          0.42844374619096437,
          0.42844374619096437,
          0.42844374619096437,
          0.38454003063740794,
          0.3641071703840869,
          0.3029554782885989,
          0.2524628985738324,
          0.05049257971476648
         ],
         "yaxis": "y8"
        },
        {
         "line": {
          "color": "white",
          "dash": "dash"
         },
         "mode": "lines",
         "showlegend": false,
         "type": "scatter",
         "x": [
          0,
          2.1794707542552945
         ],
         "xaxis": "x8",
         "y": [
          0,
          2.1794707542552945
         ],
         "yaxis": "y8"
        },
        {
         "legendgroup": "dim1",
         "marker": {
          "color": "#0074D9",
          "size": 6
         },
         "mode": "markers",
         "name": "H1",
         "showlegend": false,
         "type": "scatter",
         "x": [
          1.2052700520137178,
          0.8240594064665077,
          0.907630605273858,
          0.35959711084822765,
          1.3045984093235605,
          0.968691307248863,
          0.9661414143287707,
          1.1023581717342674
         ],
         "xaxis": "x9",
         "y": [
          2.3499899152374195,
          1.1117934442806143,
          1.1498210981363306,
          0.4380215228615634,
          1.3652144836888918,
          1.0247885069261597,
          0.9757393803398206,
          1.1056130304672271
         ],
         "yaxis": "y9"
        },
        {
         "legendgroup": "dim0",
         "marker": {
          "color": "#ff4136",
          "size": 6
         },
         "mode": "markers",
         "name": "H0",
         "showlegend": false,
         "type": "scatter",
         "x": [
          0,
          0,
          0,
          0,
          0,
          0,
          0,
          0,
          0,
          0,
          0,
          0,
          0,
          0,
          0,
          0,
          0,
          0,
          0,
          0,
          0,
          0,
          0,
          0,
          0,
          0,
          0,
          0,
          0,
          0,
          0,
          0,
          0,
          0,
          0
         ],
         "xaxis": "x9",
         "y": [
          2.3499899152374195,
          2.3499899152374195,
          2.3499899152374195,
          2.3499899152374195,
          1.2987024221315548,
          1.0981780754347097,
          1.0981780754347095,
          0.8992023614176792,
          0.8760430457231269,
          0.8760430457231266,
          0.823097604411184,
          0.8194632332904698,
          0.7890954998995535,
          0.7844901362399961,
          0.772203851429867,
          0.753884360738443,
          0.7414199373508048,
          0.7321195489090873,
          0.6517043641795475,
          0.5735047955808413,
          0.5364646136838336,
          0.49666972216521005,
          0.4837482637937696,
          0.3788967554902995,
          0.3685484193253431,
          0.3326739789428278,
          0.30775715843491136,
          0.3077571584349113,
          0.2979006426568631,
          0.2846225201235931,
          0.27293245264110444,
          0.23413235236870578,
          0.23413235236870555,
          0.23413235236870555,
          0.18269826185656768
         ],
         "yaxis": "y9"
        },
        {
         "line": {
          "color": "white",
          "dash": "dash"
         },
         "mode": "lines",
         "showlegend": false,
         "type": "scatter",
         "x": [
          0,
          2.3499899152374195
         ],
         "xaxis": "x9",
         "y": [
          0,
          2.3499899152374195
         ],
         "yaxis": "y9"
        }
       ],
       "layout": {
        "annotations": [
         {
          "font": {
           "size": 16
          },
          "showarrow": false,
          "text": "865417719613815681",
          "x": 0.15,
          "xanchor": "center",
          "xref": "paper",
          "y": 1,
          "yanchor": "bottom",
          "yref": "paper"
         },
         {
          "font": {
           "size": 16
          },
          "showarrow": false,
          "text": "1364376551860961934",
          "x": 0.49999999999999994,
          "xanchor": "center",
          "xref": "paper",
          "y": 1,
          "yanchor": "bottom",
          "yref": "paper"
         },
         {
          "font": {
           "size": 16
          },
          "showarrow": false,
          "text": "1316158964673335895",
          "x": 0.85,
          "xanchor": "center",
          "xref": "paper",
          "y": 1,
          "yanchor": "bottom",
          "yref": "paper"
         },
         {
          "font": {
           "size": 16
          },
          "showarrow": false,
          "text": "1315344706047362032",
          "x": 0.15,
          "xanchor": "center",
          "xref": "paper",
          "y": 0.6333333333333333,
          "yanchor": "bottom",
          "yref": "paper"
         },
         {
          "font": {
           "size": 16
          },
          "showarrow": false,
          "text": "1282890977555839180",
          "x": 0.49999999999999994,
          "xanchor": "center",
          "xref": "paper",
          "y": 0.6333333333333333,
          "yanchor": "bottom",
          "yref": "paper"
         },
         {
          "font": {
           "size": 16
          },
          "showarrow": false,
          "text": "1038158992459515932",
          "x": 0.85,
          "xanchor": "center",
          "xref": "paper",
          "y": 0.6333333333333333,
          "yanchor": "bottom",
          "yref": "paper"
         },
         {
          "font": {
           "size": 16
          },
          "showarrow": false,
          "text": "846281101302571252",
          "x": 0.15,
          "xanchor": "center",
          "xref": "paper",
          "y": 0.26666666666666666,
          "yanchor": "bottom",
          "yref": "paper"
         },
         {
          "font": {
           "size": 16
          },
          "showarrow": false,
          "text": "897405006229683800",
          "x": 0.49999999999999994,
          "xanchor": "center",
          "xref": "paper",
          "y": 0.26666666666666666,
          "yanchor": "bottom",
          "yref": "paper"
         },
         {
          "font": {
           "size": 16
          },
          "showarrow": false,
          "text": "1315344706047362032",
          "x": 0.85,
          "xanchor": "center",
          "xref": "paper",
          "y": 0.26666666666666666,
          "yanchor": "bottom",
          "yref": "paper"
         }
        ],
        "height": 900,
        "template": {
         "data": {
          "bar": [
           {
            "error_x": {
             "color": "#f2f5fa"
            },
            "error_y": {
             "color": "#f2f5fa"
            },
            "marker": {
             "line": {
              "color": "rgb(17,17,17)",
              "width": 0.5
             },
             "pattern": {
              "fillmode": "overlay",
              "size": 10,
              "solidity": 0.2
             }
            },
            "type": "bar"
           }
          ],
          "barpolar": [
           {
            "marker": {
             "line": {
              "color": "rgb(17,17,17)",
              "width": 0.5
             },
             "pattern": {
              "fillmode": "overlay",
              "size": 10,
              "solidity": 0.2
             }
            },
            "type": "barpolar"
           }
          ],
          "carpet": [
           {
            "aaxis": {
             "endlinecolor": "#A2B1C6",
             "gridcolor": "#506784",
             "linecolor": "#506784",
             "minorgridcolor": "#506784",
             "startlinecolor": "#A2B1C6"
            },
            "baxis": {
             "endlinecolor": "#A2B1C6",
             "gridcolor": "#506784",
             "linecolor": "#506784",
             "minorgridcolor": "#506784",
             "startlinecolor": "#A2B1C6"
            },
            "type": "carpet"
           }
          ],
          "choropleth": [
           {
            "colorbar": {
             "outlinewidth": 0,
             "ticks": ""
            },
            "type": "choropleth"
           }
          ],
          "contour": [
           {
            "colorbar": {
             "outlinewidth": 0,
             "ticks": ""
            },
            "colorscale": [
             [
              0,
              "#0d0887"
             ],
             [
              0.1111111111111111,
              "#46039f"
             ],
             [
              0.2222222222222222,
              "#7201a8"
             ],
             [
              0.3333333333333333,
              "#9c179e"
             ],
             [
              0.4444444444444444,
              "#bd3786"
             ],
             [
              0.5555555555555556,
              "#d8576b"
             ],
             [
              0.6666666666666666,
              "#ed7953"
             ],
             [
              0.7777777777777778,
              "#fb9f3a"
             ],
             [
              0.8888888888888888,
              "#fdca26"
             ],
             [
              1,
              "#f0f921"
             ]
            ],
            "type": "contour"
           }
          ],
          "contourcarpet": [
           {
            "colorbar": {
             "outlinewidth": 0,
             "ticks": ""
            },
            "type": "contourcarpet"
           }
          ],
          "heatmap": [
           {
            "colorbar": {
             "outlinewidth": 0,
             "ticks": ""
            },
            "colorscale": [
             [
              0,
              "#0d0887"
             ],
             [
              0.1111111111111111,
              "#46039f"
             ],
             [
              0.2222222222222222,
              "#7201a8"
             ],
             [
              0.3333333333333333,
              "#9c179e"
             ],
             [
              0.4444444444444444,
              "#bd3786"
             ],
             [
              0.5555555555555556,
              "#d8576b"
             ],
             [
              0.6666666666666666,
              "#ed7953"
             ],
             [
              0.7777777777777778,
              "#fb9f3a"
             ],
             [
              0.8888888888888888,
              "#fdca26"
             ],
             [
              1,
              "#f0f921"
             ]
            ],
            "type": "heatmap"
           }
          ],
          "histogram": [
           {
            "marker": {
             "pattern": {
              "fillmode": "overlay",
              "size": 10,
              "solidity": 0.2
             }
            },
            "type": "histogram"
           }
          ],
          "histogram2d": [
           {
            "colorbar": {
             "outlinewidth": 0,
             "ticks": ""
            },
            "colorscale": [
             [
              0,
              "#0d0887"
             ],
             [
              0.1111111111111111,
              "#46039f"
             ],
             [
              0.2222222222222222,
              "#7201a8"
             ],
             [
              0.3333333333333333,
              "#9c179e"
             ],
             [
              0.4444444444444444,
              "#bd3786"
             ],
             [
              0.5555555555555556,
              "#d8576b"
             ],
             [
              0.6666666666666666,
              "#ed7953"
             ],
             [
              0.7777777777777778,
              "#fb9f3a"
             ],
             [
              0.8888888888888888,
              "#fdca26"
             ],
             [
              1,
              "#f0f921"
             ]
            ],
            "type": "histogram2d"
           }
          ],
          "histogram2dcontour": [
           {
            "colorbar": {
             "outlinewidth": 0,
             "ticks": ""
            },
            "colorscale": [
             [
              0,
              "#0d0887"
             ],
             [
              0.1111111111111111,
              "#46039f"
             ],
             [
              0.2222222222222222,
              "#7201a8"
             ],
             [
              0.3333333333333333,
              "#9c179e"
             ],
             [
              0.4444444444444444,
              "#bd3786"
             ],
             [
              0.5555555555555556,
              "#d8576b"
             ],
             [
              0.6666666666666666,
              "#ed7953"
             ],
             [
              0.7777777777777778,
              "#fb9f3a"
             ],
             [
              0.8888888888888888,
              "#fdca26"
             ],
             [
              1,
              "#f0f921"
             ]
            ],
            "type": "histogram2dcontour"
           }
          ],
          "mesh3d": [
           {
            "colorbar": {
             "outlinewidth": 0,
             "ticks": ""
            },
            "type": "mesh3d"
           }
          ],
          "parcoords": [
           {
            "line": {
             "colorbar": {
              "outlinewidth": 0,
              "ticks": ""
             }
            },
            "type": "parcoords"
           }
          ],
          "pie": [
           {
            "automargin": true,
            "type": "pie"
           }
          ],
          "scatter": [
           {
            "marker": {
             "line": {
              "color": "#283442"
             }
            },
            "type": "scatter"
           }
          ],
          "scatter3d": [
           {
            "line": {
             "colorbar": {
              "outlinewidth": 0,
              "ticks": ""
             }
            },
            "marker": {
             "colorbar": {
              "outlinewidth": 0,
              "ticks": ""
             }
            },
            "type": "scatter3d"
           }
          ],
          "scattercarpet": [
           {
            "marker": {
             "colorbar": {
              "outlinewidth": 0,
              "ticks": ""
             }
            },
            "type": "scattercarpet"
           }
          ],
          "scattergeo": [
           {
            "marker": {
             "colorbar": {
              "outlinewidth": 0,
              "ticks": ""
             }
            },
            "type": "scattergeo"
           }
          ],
          "scattergl": [
           {
            "marker": {
             "line": {
              "color": "#283442"
             }
            },
            "type": "scattergl"
           }
          ],
          "scattermap": [
           {
            "marker": {
             "colorbar": {
              "outlinewidth": 0,
              "ticks": ""
             }
            },
            "type": "scattermap"
           }
          ],
          "scattermapbox": [
           {
            "marker": {
             "colorbar": {
              "outlinewidth": 0,
              "ticks": ""
             }
            },
            "type": "scattermapbox"
           }
          ],
          "scatterpolar": [
           {
            "marker": {
             "colorbar": {
              "outlinewidth": 0,
              "ticks": ""
             }
            },
            "type": "scatterpolar"
           }
          ],
          "scatterpolargl": [
           {
            "marker": {
             "colorbar": {
              "outlinewidth": 0,
              "ticks": ""
             }
            },
            "type": "scatterpolargl"
           }
          ],
          "scatterternary": [
           {
            "marker": {
             "colorbar": {
              "outlinewidth": 0,
              "ticks": ""
             }
            },
            "type": "scatterternary"
           }
          ],
          "surface": [
           {
            "colorbar": {
             "outlinewidth": 0,
             "ticks": ""
            },
            "colorscale": [
             [
              0,
              "#0d0887"
             ],
             [
              0.1111111111111111,
              "#46039f"
             ],
             [
              0.2222222222222222,
              "#7201a8"
             ],
             [
              0.3333333333333333,
              "#9c179e"
             ],
             [
              0.4444444444444444,
              "#bd3786"
             ],
             [
              0.5555555555555556,
              "#d8576b"
             ],
             [
              0.6666666666666666,
              "#ed7953"
             ],
             [
              0.7777777777777778,
              "#fb9f3a"
             ],
             [
              0.8888888888888888,
              "#fdca26"
             ],
             [
              1,
              "#f0f921"
             ]
            ],
            "type": "surface"
           }
          ],
          "table": [
           {
            "cells": {
             "fill": {
              "color": "#506784"
             },
             "line": {
              "color": "rgb(17,17,17)"
             }
            },
            "header": {
             "fill": {
              "color": "#2a3f5f"
             },
             "line": {
              "color": "rgb(17,17,17)"
             }
            },
            "type": "table"
           }
          ]
         },
         "layout": {
          "annotationdefaults": {
           "arrowcolor": "#f2f5fa",
           "arrowhead": 0,
           "arrowwidth": 1
          },
          "autotypenumbers": "strict",
          "coloraxis": {
           "colorbar": {
            "outlinewidth": 0,
            "ticks": ""
           }
          },
          "colorscale": {
           "diverging": [
            [
             0,
             "#8e0152"
            ],
            [
             0.1,
             "#c51b7d"
            ],
            [
             0.2,
             "#de77ae"
            ],
            [
             0.3,
             "#f1b6da"
            ],
            [
             0.4,
             "#fde0ef"
            ],
            [
             0.5,
             "#f7f7f7"
            ],
            [
             0.6,
             "#e6f5d0"
            ],
            [
             0.7,
             "#b8e186"
            ],
            [
             0.8,
             "#7fbc41"
            ],
            [
             0.9,
             "#4d9221"
            ],
            [
             1,
             "#276419"
            ]
           ],
           "sequential": [
            [
             0,
             "#0d0887"
            ],
            [
             0.1111111111111111,
             "#46039f"
            ],
            [
             0.2222222222222222,
             "#7201a8"
            ],
            [
             0.3333333333333333,
             "#9c179e"
            ],
            [
             0.4444444444444444,
             "#bd3786"
            ],
            [
             0.5555555555555556,
             "#d8576b"
            ],
            [
             0.6666666666666666,
             "#ed7953"
            ],
            [
             0.7777777777777778,
             "#fb9f3a"
            ],
            [
             0.8888888888888888,
             "#fdca26"
            ],
            [
             1,
             "#f0f921"
            ]
           ],
           "sequentialminus": [
            [
             0,
             "#0d0887"
            ],
            [
             0.1111111111111111,
             "#46039f"
            ],
            [
             0.2222222222222222,
             "#7201a8"
            ],
            [
             0.3333333333333333,
             "#9c179e"
            ],
            [
             0.4444444444444444,
             "#bd3786"
            ],
            [
             0.5555555555555556,
             "#d8576b"
            ],
            [
             0.6666666666666666,
             "#ed7953"
            ],
            [
             0.7777777777777778,
             "#fb9f3a"
            ],
            [
             0.8888888888888888,
             "#fdca26"
            ],
            [
             1,
             "#f0f921"
            ]
           ]
          },
          "colorway": [
           "#636efa",
           "#EF553B",
           "#00cc96",
           "#ab63fa",
           "#FFA15A",
           "#19d3f3",
           "#FF6692",
           "#B6E880",
           "#FF97FF",
           "#FECB52"
          ],
          "font": {
           "color": "#f2f5fa"
          },
          "geo": {
           "bgcolor": "rgb(17,17,17)",
           "lakecolor": "rgb(17,17,17)",
           "landcolor": "rgb(17,17,17)",
           "showlakes": true,
           "showland": true,
           "subunitcolor": "#506784"
          },
          "hoverlabel": {
           "align": "left"
          },
          "hovermode": "closest",
          "mapbox": {
           "style": "dark"
          },
          "paper_bgcolor": "rgb(17,17,17)",
          "plot_bgcolor": "rgb(17,17,17)",
          "polar": {
           "angularaxis": {
            "gridcolor": "#506784",
            "linecolor": "#506784",
            "ticks": ""
           },
           "bgcolor": "rgb(17,17,17)",
           "radialaxis": {
            "gridcolor": "#506784",
            "linecolor": "#506784",
            "ticks": ""
           }
          },
          "scene": {
           "xaxis": {
            "backgroundcolor": "rgb(17,17,17)",
            "gridcolor": "#506784",
            "gridwidth": 2,
            "linecolor": "#506784",
            "showbackground": true,
            "ticks": "",
            "zerolinecolor": "#C8D4E3"
           },
           "yaxis": {
            "backgroundcolor": "rgb(17,17,17)",
            "gridcolor": "#506784",
            "gridwidth": 2,
            "linecolor": "#506784",
            "showbackground": true,
            "ticks": "",
            "zerolinecolor": "#C8D4E3"
           },
           "zaxis": {
            "backgroundcolor": "rgb(17,17,17)",
            "gridcolor": "#506784",
            "gridwidth": 2,
            "linecolor": "#506784",
            "showbackground": true,
            "ticks": "",
            "zerolinecolor": "#C8D4E3"
           }
          },
          "shapedefaults": {
           "line": {
            "color": "#f2f5fa"
           }
          },
          "sliderdefaults": {
           "bgcolor": "#C8D4E3",
           "bordercolor": "rgb(17,17,17)",
           "borderwidth": 1,
           "tickwidth": 0
          },
          "ternary": {
           "aaxis": {
            "gridcolor": "#506784",
            "linecolor": "#506784",
            "ticks": ""
           },
           "baxis": {
            "gridcolor": "#506784",
            "linecolor": "#506784",
            "ticks": ""
           },
           "bgcolor": "rgb(17,17,17)",
           "caxis": {
            "gridcolor": "#506784",
            "linecolor": "#506784",
            "ticks": ""
           }
          },
          "title": {
           "x": 0.05
          },
          "updatemenudefaults": {
           "bgcolor": "#506784",
           "borderwidth": 0
          },
          "xaxis": {
           "automargin": true,
           "gridcolor": "#283442",
           "linecolor": "#506784",
           "ticks": "",
           "title": {
            "standoff": 15
           },
           "zerolinecolor": "#283442",
           "zerolinewidth": 2
          },
          "yaxis": {
           "automargin": true,
           "gridcolor": "#283442",
           "linecolor": "#506784",
           "ticks": "",
           "title": {
            "standoff": 15
           },
           "zerolinecolor": "#283442",
           "zerolinewidth": 2
          }
         }
        },
        "title": {
         "text": "Sliding‐Window Persistence (embed=3, edge≤1.4)"
        },
        "width": 900,
        "xaxis": {
         "anchor": "y",
         "domain": [
          0,
          0.3
         ],
         "title": {
          "text": "Birth"
         }
        },
        "xaxis2": {
         "anchor": "y2",
         "domain": [
          0.35,
          0.6499999999999999
         ],
         "title": {
          "text": "Birth"
         }
        },
        "xaxis3": {
         "anchor": "y3",
         "domain": [
          0.7,
          1
         ],
         "title": {
          "text": "Birth"
         }
        },
        "xaxis4": {
         "anchor": "y4",
         "domain": [
          0,
          0.3
         ],
         "title": {
          "text": "Birth"
         }
        },
        "xaxis5": {
         "anchor": "y5",
         "domain": [
          0.35,
          0.6499999999999999
         ],
         "title": {
          "text": "Birth"
         }
        },
        "xaxis6": {
         "anchor": "y6",
         "domain": [
          0.7,
          1
         ],
         "title": {
          "text": "Birth"
         }
        },
        "xaxis7": {
         "anchor": "y7",
         "domain": [
          0,
          0.3
         ],
         "title": {
          "text": "Birth"
         }
        },
        "xaxis8": {
         "anchor": "y8",
         "domain": [
          0.35,
          0.6499999999999999
         ],
         "title": {
          "text": "Birth"
         }
        },
        "xaxis9": {
         "anchor": "y9",
         "domain": [
          0.7,
          1
         ],
         "title": {
          "text": "Birth"
         }
        },
        "yaxis": {
         "anchor": "x",
         "domain": [
          0.7333333333333334,
          1
         ],
         "title": {
          "text": "Death"
         }
        },
        "yaxis2": {
         "anchor": "x2",
         "domain": [
          0.7333333333333334,
          1
         ],
         "title": {
          "text": "Death"
         }
        },
        "yaxis3": {
         "anchor": "x3",
         "domain": [
          0.7333333333333334,
          1
         ],
         "title": {
          "text": "Death"
         }
        },
        "yaxis4": {
         "anchor": "x4",
         "domain": [
          0.3666666666666667,
          0.6333333333333333
         ],
         "title": {
          "text": "Death"
         }
        },
        "yaxis5": {
         "anchor": "x5",
         "domain": [
          0.3666666666666667,
          0.6333333333333333
         ],
         "title": {
          "text": "Death"
         }
        },
        "yaxis6": {
         "anchor": "x6",
         "domain": [
          0.3666666666666667,
          0.6333333333333333
         ],
         "title": {
          "text": "Death"
         }
        },
        "yaxis7": {
         "anchor": "x7",
         "domain": [
          0,
          0.26666666666666666
         ],
         "title": {
          "text": "Death"
         }
        },
        "yaxis8": {
         "anchor": "x8",
         "domain": [
          0,
          0.26666666666666666
         ],
         "title": {
          "text": "Death"
         }
        },
        "yaxis9": {
         "anchor": "x9",
         "domain": [
          0,
          0.26666666666666666
         ],
         "title": {
          "text": "Death"
         }
        }
       }
      }
     },
     "metadata": {},
     "output_type": "display_data"
    }
   ],
   "source": [
    "import numpy as np\n",
    "import plotly.graph_objects as go\n",
    "from plotly.subplots import make_subplots\n",
    "from sklearn.preprocessing import StandardScaler\n",
    "import gudhi as gd\n",
    "\n",
    "def sliding_window_persistence_multi(listing_ids, embedding_dim=3, max_edge_length=1.4):\n",
    "    \"\"\"\n",
    "    Compute sliding-window persistence diagrams for up to 9 listing IDs\n",
    "    \"\"\"\n",
    "    n = len(listing_ids)\n",
    "    cols = 3\n",
    "    rows = int(np.ceil(n/cols))\n",
    "    fig = make_subplots(\n",
    "        rows=rows, cols=cols,\n",
    "        subplot_titles=listing_ids,\n",
    "        horizontal_spacing=0.05, vertical_spacing=0.1\n",
    "    )\n",
    "    color_map = {0: \"#ff4136\", 1: \"#0074D9\", 2: \"#2ECC40\"}\n",
    "\n",
    "    for idx, lid in enumerate(listing_ids):\n",
    "        # Calculate row and column for the subplot\n",
    "        r = idx//cols + 1\n",
    "        c = idx%cols + 1    \n",
    "        raw = df_ts_interp.loc[df_ts_interp[\"ID\"] == lid, dates] \\\n",
    "                .values.flatten().astype(float)\n",
    "        if len(raw) < embedding_dim:\n",
    "            continue\n",
    "        \n",
    "        # Build the sliding window persistence diagram\n",
    "        series = StandardScaler().fit_transform(raw.reshape(-1,1)).flatten()\n",
    "        N = len(series) - embedding_dim + 1\n",
    "        cloud = np.stack([series[i:i+embedding_dim] for i in range(N)])\n",
    "        rips = gd.RipsComplex(points=cloud, max_edge_length=max_edge_length)\n",
    "        st = rips.create_simplex_tree(max_dimension=3)\n",
    "        st.compute_persistence()\n",
    "\n",
    "        # Collect births/deaths by dimension\n",
    "        dims = {}\n",
    "        for d,(b,e) in st.persistence():\n",
    "            e = e if e!=float(\"inf\") else np.nanmax(series)\n",
    "            dims.setdefault(d,[]).append((b,e))\n",
    "\n",
    "        # Create figure\n",
    "        for d,pts in dims.items():\n",
    "            births, deaths = zip(*pts)\n",
    "            fig.add_trace(\n",
    "                go.Scatter(\n",
    "                    x=births, y=deaths, mode=\"markers\",\n",
    "                    marker=dict(color=color_map.get(d,\"gray\"), size=6),\n",
    "                    name=f\"H{d}\", legendgroup=f\"dim{d}\",\n",
    "                    showlegend=(idx==0)\n",
    "                ),\n",
    "                row=r, col=c\n",
    "            )\n",
    "        mn, mx = 0, np.nanmax(series)\n",
    "        fig.add_trace(\n",
    "            go.Scatter(\n",
    "                x=[mn,mx], y=[mn,mx], mode=\"lines\",\n",
    "                line=dict(color=\"white\", dash=\"dash\"),\n",
    "                showlegend=False\n",
    "            ),\n",
    "            row=r, col=c\n",
    "        )\n",
    "        fig.update_xaxes(title_text=\"Birth\", row=r, col=c)\n",
    "        fig.update_yaxes(title_text=\"Death\", row=r, col=c)\n",
    "\n",
    "    fig.update_layout(\n",
    "        title=f\"Sliding‐Window Persistence (embed={embedding_dim}, edge≤{max_edge_length})\",\n",
    "        template=\"plotly_dark\",\n",
    "        height=300*rows, width=300*cols\n",
    "    )\n",
    "    return fig\n",
    "\n",
    "# example usage:\n",
    "listing_ids = [\n",
    "    \"865417719613815681\",\"1364376551860961934\",\"1316158964673335895\",\n",
    "    \"1315344706047362032\",\"1282890977555839180\",\"1038158992459515932\",\n",
    "    \"846281101302571252\",\"897405006229683800\",\"1315344706047362032\"\n",
    "]\n",
    "sliding_window_persistence_multi(listing_ids)"
   ]
  },
  {
   "cell_type": "code",
   "execution_count": 16,
   "id": "9a58952b",
   "metadata": {},
   "outputs": [
    {
     "data": {
      "application/vnd.microsoft.datawrangler.viewer.v0+json": {
       "columns": [
        {
         "name": "index",
         "rawType": "int64",
         "type": "integer"
        },
        {
         "name": "ID",
         "rawType": "object",
         "type": "string"
        },
        {
         "name": "Date",
         "rawType": "datetime64[ns]",
         "type": "datetime"
        },
        {
         "name": "Value",
         "rawType": "float64",
         "type": "float"
        }
       ],
       "ref": "202caebf-fb4b-488b-b1f1-91fdde3a6087",
       "rows": [
        [
         "0",
         "1282890977555839180",
         "2025-05-26 00:00:00",
         "113.17"
        ],
        [
         "1",
         "1255908021842197930",
         "2025-05-26 00:00:00",
         "114.5"
        ],
        [
         "2",
         "1364376551860961934",
         "2025-05-26 00:00:00",
         "111.0"
        ],
        [
         "3",
         "1279218191310817247",
         "2025-05-26 00:00:00",
         "117.5"
        ],
        [
         "4",
         "1316158964673335895",
         "2025-05-26 00:00:00",
         "90.5"
        ]
       ],
       "shape": {
        "columns": 3,
        "rows": 5
       }
      },
      "text/html": [
       "<div>\n",
       "<style scoped>\n",
       "    .dataframe tbody tr th:only-of-type {\n",
       "        vertical-align: middle;\n",
       "    }\n",
       "\n",
       "    .dataframe tbody tr th {\n",
       "        vertical-align: top;\n",
       "    }\n",
       "\n",
       "    .dataframe thead th {\n",
       "        text-align: right;\n",
       "    }\n",
       "</style>\n",
       "<table border=\"1\" class=\"dataframe\">\n",
       "  <thead>\n",
       "    <tr style=\"text-align: right;\">\n",
       "      <th></th>\n",
       "      <th>ID</th>\n",
       "      <th>Date</th>\n",
       "      <th>Value</th>\n",
       "    </tr>\n",
       "  </thead>\n",
       "  <tbody>\n",
       "    <tr>\n",
       "      <th>0</th>\n",
       "      <td>1282890977555839180</td>\n",
       "      <td>2025-05-26</td>\n",
       "      <td>113.17</td>\n",
       "    </tr>\n",
       "    <tr>\n",
       "      <th>1</th>\n",
       "      <td>1255908021842197930</td>\n",
       "      <td>2025-05-26</td>\n",
       "      <td>114.50</td>\n",
       "    </tr>\n",
       "    <tr>\n",
       "      <th>2</th>\n",
       "      <td>1364376551860961934</td>\n",
       "      <td>2025-05-26</td>\n",
       "      <td>111.00</td>\n",
       "    </tr>\n",
       "    <tr>\n",
       "      <th>3</th>\n",
       "      <td>1279218191310817247</td>\n",
       "      <td>2025-05-26</td>\n",
       "      <td>117.50</td>\n",
       "    </tr>\n",
       "    <tr>\n",
       "      <th>4</th>\n",
       "      <td>1316158964673335895</td>\n",
       "      <td>2025-05-26</td>\n",
       "      <td>90.50</td>\n",
       "    </tr>\n",
       "  </tbody>\n",
       "</table>\n",
       "</div>"
      ],
      "text/plain": [
       "                    ID       Date   Value\n",
       "0  1282890977555839180 2025-05-26  113.17\n",
       "1  1255908021842197930 2025-05-26  114.50\n",
       "2  1364376551860961934 2025-05-26  111.00\n",
       "3  1279218191310817247 2025-05-26  117.50\n",
       "4  1316158964673335895 2025-05-26   90.50"
      ]
     },
     "execution_count": 16,
     "metadata": {},
     "output_type": "execute_result"
    }
   ],
   "source": [
    "df_prices.head()"
   ]
  }
 ],
 "metadata": {
  "kernelspec": {
   "display_name": "global_env",
   "language": "python",
   "name": "python3"
  },
  "language_info": {
   "codemirror_mode": {
    "name": "ipython",
    "version": 3
   },
   "file_extension": ".py",
   "mimetype": "text/x-python",
   "name": "python",
   "nbconvert_exporter": "python",
   "pygments_lexer": "ipython3",
   "version": "3.11.8"
  }
 },
 "nbformat": 4,
 "nbformat_minor": 5
}
