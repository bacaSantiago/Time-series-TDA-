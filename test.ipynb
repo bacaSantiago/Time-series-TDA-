{
 "cells": [
  {
   "cell_type": "code",
   "execution_count": 1,
   "id": "23b91b27",
   "metadata": {},
   "outputs": [],
   "source": [
    "import dash\n",
    "import dash_bootstrap_components as dbc\n",
    "from dash import html, dcc\n",
    "import sqlite3\n",
    "import pandas as pd\n",
    "import plotly.express as px\n",
    "import numpy as np\n",
    "import plotly.graph_objects as go\n",
    "import scipy.stats as stats\n",
    "import plotly.express as px\n",
    "\n",
    "_conn = sqlite3.connect(\"airbnb_cartagena.sqlite\")\n",
    "df_attr = pd.read_sql_query(\"SELECT * FROM Attributes\", _conn, dtype={\"ID\": str})\n",
    "df_ts = pd.read_sql_query(\"SELECT * FROM TimeSeriesRaw\", _conn, dtype={\"ID\": str})\n",
    "df_ts_interp = pd.read_sql_query(\"SELECT * FROM TimeSeriesInterpolated\", _conn, dtype={\"ID\": str})\n",
    "_conn.close()"
   ]
  },
  {
   "cell_type": "code",
   "execution_count": 2,
   "id": "fed65172",
   "metadata": {},
   "outputs": [],
   "source": [
    "red = \"#7e0d24\"  # dark red color for plots"
   ]
  },
  {
   "cell_type": "code",
   "execution_count": 12,
   "id": "2bb43938",
   "metadata": {},
   "outputs": [],
   "source": [
    "import re\n",
    "dates = [col for col in df_ts.columns if re.fullmatch(r\"\\d{1,2}/\\d{1,2}/\\d{4}\", col)]"
   ]
  },
  {
   "cell_type": "code",
   "execution_count": null,
   "id": "79e560b7",
   "metadata": {},
   "outputs": [],
   "source": []
  },
  {
   "cell_type": "code",
   "execution_count": 25,
   "id": "e3c6155f",
   "metadata": {},
   "outputs": [
    {
     "ename": "KeyError",
     "evalue": "'barrio'",
     "output_type": "error",
     "traceback": [
      "\u001b[0;31m---------------------------------------------------------------------------\u001b[0m",
      "\u001b[0;31mKeyError\u001b[0m                                  Traceback (most recent call last)",
      "Cell \u001b[0;32mIn[25], line 17\u001b[0m\n\u001b[1;32m     11\u001b[0m \u001b[38;5;28;01mwith\u001b[39;00m \u001b[38;5;28mopen\u001b[39m(\u001b[38;5;124m\"\u001b[39m\u001b[38;5;124massets/cartagena.geojson\u001b[39m\u001b[38;5;124m\"\u001b[39m) \u001b[38;5;28;01mas\u001b[39;00m f:\n\u001b[1;32m     12\u001b[0m     cartagena_geo \u001b[38;5;241m=\u001b[39m json\u001b[38;5;241m.\u001b[39mload(f)\n\u001b[1;32m     15\u001b[0m df_region \u001b[38;5;241m=\u001b[39m (\n\u001b[1;32m     16\u001b[0m     \u001b[43mdf_attr\u001b[49m\n\u001b[0;32m---> 17\u001b[0m \u001b[43m    \u001b[49m\u001b[38;5;241;43m.\u001b[39;49m\u001b[43mgroupby\u001b[49m\u001b[43m(\u001b[49m\u001b[38;5;124;43m\"\u001b[39;49m\u001b[38;5;124;43mbarrio\u001b[39;49m\u001b[38;5;124;43m\"\u001b[39;49m\u001b[43m)\u001b[49m[\u001b[38;5;124m\"\u001b[39m\u001b[38;5;124mBase fee\u001b[39m\u001b[38;5;124m\"\u001b[39m]\n\u001b[1;32m     18\u001b[0m     \u001b[38;5;241m.\u001b[39mmean()\n\u001b[1;32m     19\u001b[0m     \u001b[38;5;241m.\u001b[39mreset_index(name\u001b[38;5;241m=\u001b[39m\u001b[38;5;124m\"\u001b[39m\u001b[38;5;124mavg_base_fee\u001b[39m\u001b[38;5;124m\"\u001b[39m)\n\u001b[1;32m     20\u001b[0m )\n\u001b[1;32m     22\u001b[0m fig \u001b[38;5;241m=\u001b[39m px\u001b[38;5;241m.\u001b[39mchoropleth_mapbox(\n\u001b[1;32m     23\u001b[0m     df_region,\n\u001b[1;32m     24\u001b[0m     geojson\u001b[38;5;241m=\u001b[39mcartagena_geo,\n\u001b[0;32m   (...)\u001b[0m\n\u001b[1;32m     34\u001b[0m     title\u001b[38;5;241m=\u001b[39m\u001b[38;5;124m\"\u001b[39m\u001b[38;5;124mAverage Nightly Base Fee by Neighborhood\u001b[39m\u001b[38;5;124m\"\u001b[39m\n\u001b[1;32m     35\u001b[0m )\n\u001b[1;32m     37\u001b[0m fig\u001b[38;5;241m.\u001b[39mupdate_layout(margin\u001b[38;5;241m=\u001b[39m{\u001b[38;5;124m\"\u001b[39m\u001b[38;5;124mr\u001b[39m\u001b[38;5;124m\"\u001b[39m:\u001b[38;5;241m0\u001b[39m,\u001b[38;5;124m\"\u001b[39m\u001b[38;5;124mt\u001b[39m\u001b[38;5;124m\"\u001b[39m:\u001b[38;5;241m40\u001b[39m,\u001b[38;5;124m\"\u001b[39m\u001b[38;5;124ml\u001b[39m\u001b[38;5;124m\"\u001b[39m:\u001b[38;5;241m0\u001b[39m,\u001b[38;5;124m\"\u001b[39m\u001b[38;5;124mb\u001b[39m\u001b[38;5;124m\"\u001b[39m:\u001b[38;5;241m0\u001b[39m})\n",
      "File \u001b[0;32m~/micromamba/envs/global_env/lib/python3.11/site-packages/pandas/core/frame.py:9183\u001b[0m, in \u001b[0;36mDataFrame.groupby\u001b[0;34m(self, by, axis, level, as_index, sort, group_keys, observed, dropna)\u001b[0m\n\u001b[1;32m   9180\u001b[0m \u001b[38;5;28;01mif\u001b[39;00m level \u001b[38;5;129;01mis\u001b[39;00m \u001b[38;5;28;01mNone\u001b[39;00m \u001b[38;5;129;01mand\u001b[39;00m by \u001b[38;5;129;01mis\u001b[39;00m \u001b[38;5;28;01mNone\u001b[39;00m:\n\u001b[1;32m   9181\u001b[0m     \u001b[38;5;28;01mraise\u001b[39;00m \u001b[38;5;167;01mTypeError\u001b[39;00m(\u001b[38;5;124m\"\u001b[39m\u001b[38;5;124mYou have to supply one of \u001b[39m\u001b[38;5;124m'\u001b[39m\u001b[38;5;124mby\u001b[39m\u001b[38;5;124m'\u001b[39m\u001b[38;5;124m and \u001b[39m\u001b[38;5;124m'\u001b[39m\u001b[38;5;124mlevel\u001b[39m\u001b[38;5;124m'\u001b[39m\u001b[38;5;124m\"\u001b[39m)\n\u001b[0;32m-> 9183\u001b[0m \u001b[38;5;28;01mreturn\u001b[39;00m \u001b[43mDataFrameGroupBy\u001b[49m\u001b[43m(\u001b[49m\n\u001b[1;32m   9184\u001b[0m \u001b[43m    \u001b[49m\u001b[43mobj\u001b[49m\u001b[38;5;241;43m=\u001b[39;49m\u001b[38;5;28;43mself\u001b[39;49m\u001b[43m,\u001b[49m\n\u001b[1;32m   9185\u001b[0m \u001b[43m    \u001b[49m\u001b[43mkeys\u001b[49m\u001b[38;5;241;43m=\u001b[39;49m\u001b[43mby\u001b[49m\u001b[43m,\u001b[49m\n\u001b[1;32m   9186\u001b[0m \u001b[43m    \u001b[49m\u001b[43maxis\u001b[49m\u001b[38;5;241;43m=\u001b[39;49m\u001b[43maxis\u001b[49m\u001b[43m,\u001b[49m\n\u001b[1;32m   9187\u001b[0m \u001b[43m    \u001b[49m\u001b[43mlevel\u001b[49m\u001b[38;5;241;43m=\u001b[39;49m\u001b[43mlevel\u001b[49m\u001b[43m,\u001b[49m\n\u001b[1;32m   9188\u001b[0m \u001b[43m    \u001b[49m\u001b[43mas_index\u001b[49m\u001b[38;5;241;43m=\u001b[39;49m\u001b[43mas_index\u001b[49m\u001b[43m,\u001b[49m\n\u001b[1;32m   9189\u001b[0m \u001b[43m    \u001b[49m\u001b[43msort\u001b[49m\u001b[38;5;241;43m=\u001b[39;49m\u001b[43msort\u001b[49m\u001b[43m,\u001b[49m\n\u001b[1;32m   9190\u001b[0m \u001b[43m    \u001b[49m\u001b[43mgroup_keys\u001b[49m\u001b[38;5;241;43m=\u001b[39;49m\u001b[43mgroup_keys\u001b[49m\u001b[43m,\u001b[49m\n\u001b[1;32m   9191\u001b[0m \u001b[43m    \u001b[49m\u001b[43mobserved\u001b[49m\u001b[38;5;241;43m=\u001b[39;49m\u001b[43mobserved\u001b[49m\u001b[43m,\u001b[49m\n\u001b[1;32m   9192\u001b[0m \u001b[43m    \u001b[49m\u001b[43mdropna\u001b[49m\u001b[38;5;241;43m=\u001b[39;49m\u001b[43mdropna\u001b[49m\u001b[43m,\u001b[49m\n\u001b[1;32m   9193\u001b[0m \u001b[43m\u001b[49m\u001b[43m)\u001b[49m\n",
      "File \u001b[0;32m~/micromamba/envs/global_env/lib/python3.11/site-packages/pandas/core/groupby/groupby.py:1329\u001b[0m, in \u001b[0;36mGroupBy.__init__\u001b[0;34m(self, obj, keys, axis, level, grouper, exclusions, selection, as_index, sort, group_keys, observed, dropna)\u001b[0m\n\u001b[1;32m   1326\u001b[0m \u001b[38;5;28mself\u001b[39m\u001b[38;5;241m.\u001b[39mdropna \u001b[38;5;241m=\u001b[39m dropna\n\u001b[1;32m   1328\u001b[0m \u001b[38;5;28;01mif\u001b[39;00m grouper \u001b[38;5;129;01mis\u001b[39;00m \u001b[38;5;28;01mNone\u001b[39;00m:\n\u001b[0;32m-> 1329\u001b[0m     grouper, exclusions, obj \u001b[38;5;241m=\u001b[39m \u001b[43mget_grouper\u001b[49m\u001b[43m(\u001b[49m\n\u001b[1;32m   1330\u001b[0m \u001b[43m        \u001b[49m\u001b[43mobj\u001b[49m\u001b[43m,\u001b[49m\n\u001b[1;32m   1331\u001b[0m \u001b[43m        \u001b[49m\u001b[43mkeys\u001b[49m\u001b[43m,\u001b[49m\n\u001b[1;32m   1332\u001b[0m \u001b[43m        \u001b[49m\u001b[43maxis\u001b[49m\u001b[38;5;241;43m=\u001b[39;49m\u001b[43maxis\u001b[49m\u001b[43m,\u001b[49m\n\u001b[1;32m   1333\u001b[0m \u001b[43m        \u001b[49m\u001b[43mlevel\u001b[49m\u001b[38;5;241;43m=\u001b[39;49m\u001b[43mlevel\u001b[49m\u001b[43m,\u001b[49m\n\u001b[1;32m   1334\u001b[0m \u001b[43m        \u001b[49m\u001b[43msort\u001b[49m\u001b[38;5;241;43m=\u001b[39;49m\u001b[43msort\u001b[49m\u001b[43m,\u001b[49m\n\u001b[1;32m   1335\u001b[0m \u001b[43m        \u001b[49m\u001b[43mobserved\u001b[49m\u001b[38;5;241;43m=\u001b[39;49m\u001b[38;5;28;43;01mFalse\u001b[39;49;00m\u001b[43m \u001b[49m\u001b[38;5;28;43;01mif\u001b[39;49;00m\u001b[43m \u001b[49m\u001b[43mobserved\u001b[49m\u001b[43m \u001b[49m\u001b[38;5;129;43;01mis\u001b[39;49;00m\u001b[43m \u001b[49m\u001b[43mlib\u001b[49m\u001b[38;5;241;43m.\u001b[39;49m\u001b[43mno_default\u001b[49m\u001b[43m \u001b[49m\u001b[38;5;28;43;01melse\u001b[39;49;00m\u001b[43m \u001b[49m\u001b[43mobserved\u001b[49m\u001b[43m,\u001b[49m\n\u001b[1;32m   1336\u001b[0m \u001b[43m        \u001b[49m\u001b[43mdropna\u001b[49m\u001b[38;5;241;43m=\u001b[39;49m\u001b[38;5;28;43mself\u001b[39;49m\u001b[38;5;241;43m.\u001b[39;49m\u001b[43mdropna\u001b[49m\u001b[43m,\u001b[49m\n\u001b[1;32m   1337\u001b[0m \u001b[43m    \u001b[49m\u001b[43m)\u001b[49m\n\u001b[1;32m   1339\u001b[0m \u001b[38;5;28;01mif\u001b[39;00m observed \u001b[38;5;129;01mis\u001b[39;00m lib\u001b[38;5;241m.\u001b[39mno_default:\n\u001b[1;32m   1340\u001b[0m     \u001b[38;5;28;01mif\u001b[39;00m \u001b[38;5;28many\u001b[39m(ping\u001b[38;5;241m.\u001b[39m_passed_categorical \u001b[38;5;28;01mfor\u001b[39;00m ping \u001b[38;5;129;01min\u001b[39;00m grouper\u001b[38;5;241m.\u001b[39mgroupings):\n",
      "File \u001b[0;32m~/micromamba/envs/global_env/lib/python3.11/site-packages/pandas/core/groupby/grouper.py:1043\u001b[0m, in \u001b[0;36mget_grouper\u001b[0;34m(obj, key, axis, level, sort, observed, validate, dropna)\u001b[0m\n\u001b[1;32m   1041\u001b[0m         in_axis, level, gpr \u001b[38;5;241m=\u001b[39m \u001b[38;5;28;01mFalse\u001b[39;00m, gpr, \u001b[38;5;28;01mNone\u001b[39;00m\n\u001b[1;32m   1042\u001b[0m     \u001b[38;5;28;01melse\u001b[39;00m:\n\u001b[0;32m-> 1043\u001b[0m         \u001b[38;5;28;01mraise\u001b[39;00m \u001b[38;5;167;01mKeyError\u001b[39;00m(gpr)\n\u001b[1;32m   1044\u001b[0m \u001b[38;5;28;01melif\u001b[39;00m \u001b[38;5;28misinstance\u001b[39m(gpr, Grouper) \u001b[38;5;129;01mand\u001b[39;00m gpr\u001b[38;5;241m.\u001b[39mkey \u001b[38;5;129;01mis\u001b[39;00m \u001b[38;5;129;01mnot\u001b[39;00m \u001b[38;5;28;01mNone\u001b[39;00m:\n\u001b[1;32m   1045\u001b[0m     \u001b[38;5;66;03m# Add key to exclusions\u001b[39;00m\n\u001b[1;32m   1046\u001b[0m     exclusions\u001b[38;5;241m.\u001b[39madd(gpr\u001b[38;5;241m.\u001b[39mkey)\n",
      "\u001b[0;31mKeyError\u001b[0m: 'barrio'"
     ]
    }
   ],
   "source": [
    "import json\n",
    "import pandas as pd\n",
    "import plotly.express as px\n",
    "\n",
    "_conn = sqlite3.connect(\"airbnb_cartagena.sqlite\")\n",
    "df_attr = pd.read_sql_query(\"SELECT * FROM Attributes\", _conn, dtype={\"ID\": str})\n",
    "df_ts = pd.read_sql_query(\"SELECT * FROM TimeSeriesRaw\", _conn, dtype={\"ID\": str})\n",
    "df_ts_interp = pd.read_sql_query(\"SELECT * FROM TimeSeriesInterpolated\", _conn, dtype={\"ID\": str})\n",
    "_conn.close()\n",
    "\n",
    "with open(\"assets/cartagena.geojson\") as f:\n",
    "    cartagena_geo = json.load(f)\n",
    "\n",
    "\n",
    "df_region = (\n",
    "    df_attr\n",
    "    .groupby(\"barrio\")[\"Base fee\"]\n",
    "    .mean()\n",
    "    .reset_index(name=\"avg_base_fee\")\n",
    ")\n",
    "\n",
    "fig = px.choropleth_mapbox(\n",
    "    df_region,\n",
    "    geojson=cartagena_geo,\n",
    "    locations=\"barrio\",                   # matches df_region.barrio -> geojson.properties.name\n",
    "    color=\"avg_base_fee\",\n",
    "    featureidkey=\"properties.name\",       # path in geojson to match ‘locations’\n",
    "    mapbox_style=\"carto-darkmatter\",      # or \"open-street-map\", etc.\n",
    "    center={\"lat\": 10.4, \"lon\": -75.5},    # approximate Cartagena center\n",
    "    zoom=11,\n",
    "    opacity=0.7,\n",
    "    color_continuous_scale=\"Viridis\",\n",
    "    labels={\"avg_base_fee\": \"Avg. Base Fee (USD)\"},\n",
    "    title=\"Average Nightly Base Fee by Neighborhood\"\n",
    ")\n",
    "\n",
    "fig.update_layout(margin={\"r\":0,\"t\":40,\"l\":0,\"b\":0})\n",
    "\n",
    "fig\n"
   ]
  },
  {
   "cell_type": "code",
   "execution_count": 40,
   "id": "cfa309b5",
   "metadata": {},
   "outputs": [
    {
     "data": {
      "application/vnd.plotly.v1+json": {
       "config": {
        "plotlyServerURL": "https://plot.ly"
       },
       "data": [
        {
         "customdata": [
          [
           "Entire serviced apartment",
           38,
           5
          ],
          [
           "Entire rental unit",
           35,
           6
          ],
          [
           "Entire serviced apartment",
           36,
           4
          ],
          [
           "Entire serviced apartment",
           36,
           5
          ],
          [
           "Entire serviced apartment",
           36,
           4
          ],
          [
           "Entire serviced apartment",
           36,
           6
          ],
          [
           "Entire serviced apartment",
           31,
           4
          ],
          [
           "Entire serviced apartment",
           19,
           4
          ],
          [
           "Entire serviced apartment",
           44,
           4
          ],
          [
           "Entire rental unit",
           46,
           4
          ],
          [
           "Entire serviced apartment",
           41,
           4
          ],
          [
           "Entire rental unit",
           35,
           4
          ],
          [
           "Entire serviced apartment",
           46,
           5
          ],
          [
           "Entire serviced apartment",
           46,
           5
          ],
          [
           "Entire serviced apartment",
           4.85,
           6
          ],
          [
           "Entire rental unit",
           0,
           6
          ],
          [
           "Entire loft",
           40,
           6
          ],
          [
           "Entire rental unit",
           45,
           4
          ],
          [
           "Entire rental unit",
           30,
           4
          ],
          [
           "Entire rental unit",
           32,
           4
          ],
          [
           "Entire serviced apartment",
           36.32,
           4
          ],
          [
           "Entire rental unit",
           39,
           4
          ],
          [
           "Entire rental unit",
           19,
           6
          ],
          [
           "Entire rental unit",
           20,
           5
          ],
          [
           "Entire rental unit",
           20,
           5
          ],
          [
           "Entire rental unit",
           29,
           4
          ],
          [
           "Entire rental unit",
           12,
           3
          ],
          [
           "Entire rental unit",
           35,
           4
          ],
          [
           "Entire rental unit",
           17,
           6
          ],
          [
           "Entire condo",
           50,
           6
          ],
          [
           "Entire serviced apartment",
           22,
           6
          ],
          [
           "Entire condo",
           27,
           6
          ],
          [
           "Entire rental unit",
           35,
           5
          ],
          [
           "Entire rental unit",
           40,
           4
          ],
          [
           "Entire rental unit",
           0,
           6
          ],
          [
           "Entire rental unit",
           36,
           4
          ],
          [
           "Entire rental unit",
           35,
           8
          ],
          [
           "Entire rental unit",
           40,
           4
          ],
          [
           "Entire serviced apartment",
           46,
           4
          ],
          [
           "Entire rental unit",
           45,
           5
          ],
          [
           "Entire rental unit",
           29,
           3
          ],
          [
           "Entire rental unit",
           29,
           4
          ],
          [
           "Entire rental unit",
           29.13,
           6
          ],
          [
           "Entire condo",
           38,
           4
          ],
          [
           "Entire rental unit",
           38,
           6
          ],
          [
           "Entire condo",
           40,
           4
          ],
          [
           "Entire rental unit",
           41,
           6
          ],
          [
           "Entire serviced apartment",
           42,
           2
          ],
          [
           "Entire rental unit",
           41,
           6
          ],
          [
           "Entire rental unit",
           40,
           6
          ],
          [
           "Entire condo",
           40,
           5
          ],
          [
           "Entire condo",
           40,
           4
          ],
          [
           "Entire condo",
           40,
           4
          ],
          [
           "Entire condo",
           44,
           5
          ],
          [
           "Entire condo",
           41,
           6
          ],
          [
           "Entire condo",
           41,
           4
          ],
          [
           "Entire rental unit",
           41,
           4
          ],
          [
           "Entire rental unit",
           41,
           4
          ],
          [
           "Entire condo",
           41,
           4
          ],
          [
           "Entire condo",
           40,
           4
          ],
          [
           "Entire rental unit",
           40,
           6
          ],
          [
           "Entire condo",
           42,
           6
          ],
          [
           "Entire serviced apartment",
           40,
           4
          ],
          [
           "Entire condo",
           40,
           4
          ],
          [
           "Entire condo",
           41,
           4
          ],
          [
           "Entire condo",
           40,
           6
          ],
          [
           "Entire condo",
           44,
           6
          ],
          [
           "Entire condo",
           40,
           6
          ],
          [
           "Entire condo",
           41,
           4
          ],
          [
           "Entire condo",
           41,
           6
          ],
          [
           "Entire condo",
           40,
           8
          ],
          [
           "Entire condo",
           41,
           4
          ],
          [
           "Entire condo",
           41,
           4
          ],
          [
           "Entire rental unit",
           40,
           6
          ],
          [
           "Entire rental unit",
           40,
           4
          ],
          [
           "Entire condo",
           41,
           6
          ],
          [
           "Entire condo",
           40,
           4
          ],
          [
           "Entire rental unit",
           39,
           4
          ],
          [
           "Entire rental unit",
           39,
           4
          ],
          [
           "Entire rental unit",
           38,
           6
          ],
          [
           "Entire rental unit",
           38,
           6
          ],
          [
           "Entire rental unit",
           36,
           6
          ],
          [
           "Entire rental unit",
           36.41,
           4
          ],
          [
           "Entire rental unit",
           36.32,
           4
          ],
          [
           "Entire rental unit",
           36.35,
           6
          ],
          [
           "Entire rental unit",
           36,
           4
          ],
          [
           "Entire rental unit",
           37,
           4
          ]
         ],
         "hovertemplate": "<b>%{hovertext}</b><br><br>Base fee=%{marker.color}<br>latitude=%{lat}<br>longitude=%{lon}<br>Property type=%{customdata[0]}<br>Cleaning fee=%{customdata[1]}<br>Person capacity=%{customdata[2]}<extra></extra>",
         "hovertext": [
          "14th Floor/Jacuzzi balcony/SeaViews/Parking/King",
          "2 BR Modern APT jacuzzi / Rooftop near to beach",
          "Piso 12/ Jacuzzi/ Vistas/ 1BR/Parqueadero/Piscinas",
          "Piso 14/ Jacuzzi/ Vistas/ 2BR/Parqueadero/Piscinas",
          "Luxury /Jacuzzi/ Decoration/ Caribbean/ Pools/",
          "14th Floor/Hot water Jacuzzi/ Views/ Parking",
          "Apartamento VIP Cartagena con jacuzzi privado",
          "13th floor, apartment with Jacuzzi",
          "Piso 8 con Jacuzzi Privado y Vistas Increíbles",
          "Relax y Confort | Apartamento con Jacuzzi Privado",
          "09Jacuzzi&Beachfront Bliss 14th Floor Near Airport",
          "Luxury Apartment with a Private Jacuzzi -DMQ507",
          "Luxury and Relaxation Apartment with Jacuzzi",
          "Private jacuzzi | Colonial experience |Walled city",
          "Apartamento a 5 minutos del centro histórico",
          "Galicia Cartagena de Indias",
          "Luxury Loft private jacuzzy & sea view",
          "Dominique 1008",
          "Hermoso apartamento en Cartagena Apt 508",
          "408 - Hermoso Apartamento en Cartagena",
          "Jacuzzi with Oceanview Bliss - 11th Floor Getaway",
          "1BR Modern APT w/Rooftop Pool near to beach",
          "DM406-Apartamento con jacuzzi -Camina a Playa Azul",
          "New & Comfortable Apartment In Cielo Mar",
          "New & Luxury Apartment 2 BR In Cielo Mar",
          "Espectacular Apto con Jacuzzi",
          "Exclusivo apartamento para descanso Cartagena",
          "Apartamento con jacuzzi privado en Cielo Mar",
          "Cartagena 2 Bedroom Apartment with Jacuzzi",
          "Moderno,Cerca a la playa, Jacuzzi privado.",
          "Impresionante vista, mar, dominique 2suites",
          "Asombrosa Vista, mar y Jacuzzi floor 10th",
          "Apartment in Cartagena,Private Jacuzzi & Oceanview",
          "Lujoso apartamento con jacuzzi - Dominique",
          "Apartamento Moderno con Jacuzzi Privado D504",
          "Dominque 1005, private jacuzzi",
          "Luxurious Apartment, Private Jacuzzi & Sea View",
          "Luxurious Apartment - Private Jacuzzi & Top View",
          "Luxury 1BR in Brickell | Ocean View Free Parking",
          "Apartment in Cartagena: Relax like Home",
          "Stylish Apartment Steps to Beach - 1108",
          "Stylish Apartment Steps to Beach - 1208",
          "Stylish Apartment Steps to Beach - 1002",
          "New Luxury + Private Jacuzzi + Nesspresso + Views",
          "Ingenian Rental Marvelous View DQ 1206",
          "Tropical Luxury Condo Private Jacuzzi WIFI DQ1201",
          "Apartamento jacuzzi privado cerca a playa DQ604",
          "Luxury Brand New Apartment Dominique DQ605",
          "OceanView 2BD with private Jacuzzi DQ706",
          "Luxury Condo Balcony Private Jacuzzi DQ1202",
          "Luxury New Condo with Jacuzzi DQ1104",
          "Exclusive Condo Private Jacuzzi Dominique 1408",
          "Luxury apartment with jacuzzi Dominique DQ809",
          "Luxury Condo Near to the beach DQ510",
          "Luxury Coastal Tranquility Dominique DQ610",
          "Luxury Condo Private Jacuzzi Dominique DQ911",
          "Luxury Apartment with Private Jacuzzi DQ410",
          "Luxury apartment Private Jacuzzi Dominique 1407",
          "Luxurious 2 BR w stun view ideal 4 Families DQ1109",
          "Luxury, Private Jacuzzi Close to the beach DQ804",
          "Luxury & Cozy With Jacuzzi DQ1006",
          "Tropical Luxury Condo Private Jacuzzi DQ1302",
          "Luxury Apartment DQ 908 | Rooftop Pool Stunning Vw",
          "Luxury Place Private Jacuzzi Dominique DQ1309",
          "Luxury Condo Private Jacuzzi Dominique DQ805",
          "Luxury Condo with Private Jacuzzi DQ802",
          "Luxury Lovely Condo Dominique By Stay Q DQ1303",
          "Luxury Condo Private Jacuzzi Pools & Views DQ1402",
          "Luxury Charming Private Jacuzzi Dominique DQ511",
          "Apartment with private jacuzzi Dominique DQ710",
          "Premium 3 BRs w HotTub perfor Families",
          "Fantastic Condo Private Jacuzzi Dominique DQ1307",
          "Luxury Experience Private Jacuzzi Dominique DQ909",
          "Luxury Condo Private jacuzzi, Chic Dominique 402",
          "Confortable Apartment / Private Jacuzzi DQ 411",
          "Luxury Condo & private jacuzzi Dominique DQ810",
          "Luxury apartment private jacuzzi Dominique DQ1305",
          "DQ505 Nuevo hermoso jacuzzi priv",
          "DQ1411 Nvo Amazing view Relaxation",
          "DQ1102 Beautiful Apt Jacuzzi-priv 10min-Centro",
          "DQ1301 Espectacular jacuzzi único vista relax",
          "Luxury Cartagena dominique 1210",
          "Luxury Cartagena dominique 1209",
          "Luxury cartagena dominique 705",
          "Luxury Cartagena Dominique 1004",
          "luxury Cartagena Dominique 807",
          "Ocean Breeze Luxury » 2BRs Cartagena | Stun Views"
         ],
         "lat": {
          "bdata": "78nDQq3pJEA8mHjGwOkkQF0E4HG96SRAv+kCA63pJEC/6QIDrekkQL/pAgOt6SRARIZVvJHpJECdVOpI5OkkQIuy3kJq6SRAv+kCA63pJEB2nOyw0+kkQAsMWd3q6SRA9tQXn8TpJECZZOQs7OkkQM3km21u3CRAQIwArzbpJEDyzNey2N4kQNKMRdPZ6SRAC+9yEd/pJEC1/SsrTeokQCUOTFrb6SRAtAJDVrfqJECEj9K2q+kkQL/pAgOt6SRAv+kCA63pJEC/6QIDrekkQApx8YPH6SRADJOpglHpJEDSNZNvtukkQHFwj7qr6SRACwxZ3erpJECEj9K2q+kkQL/pAgOt6SRA7rH0oQvqJEC/6QIDrekkQLbbLjTX6SRAM2p1KW7vJEACJjFf3+kkQHac7LDT6SRAVp+rrdjfJEBCK3MGrekkQL/pAgOt6SRAv+kCA63pJEC/6QIDrekkQGP0aUij6SRA7ncoCvTpJEDRkVz+Q+okQL/pAgOt6SRAv+kCA63pJEAYqW7is+kkQGNl0WCn6SRAeBBT+KzpJEDP01WprekkQLwWpDKo6SRAz9NVqa3pJEAeZDcOpukkQLt+x/Ko6SRAtTLhl/rpJECYoWMesekkQOlZWwuv6SRAg+drMbPpJECqHF68r+kkQNPB+j+H6SRAYWwhyEHpJEAqiU2Wq+kkQLmfil2t6SRARwW2laTpJEBt0kB0r+kkQDvfYG2w6SRA9ZZYWq7pJEA1eELSqOkkQBQBSDSq6SRA39gxrKTpJECkeXNrqukkQJ1U6kjk6SRAj+48cKfpJEDEY2bPsekkQLX9KytN6iRACyQofozpJEAoJ9pVSOkkQGkufwi46SRAhI/StqvpJECEj9K2q+kkQAt72uGv6SRAhI/StqvpJECEj9K2q+kkQCaxawbk6SRA",
          "dtype": "f8"
         },
         "legendgroup": "",
         "lon": {
          "bdata": "kUQvo1jgUsAAAChDVuBSwAAA8NNX4FLAT2yqk1jgUsBPbKqTWOBSwE9sqpNY4FLAcayL22jgUsChXpWwW+BSwARxqoxe4FLAT2yqk1jgUsCEwevpWeBSwHh6pSxD4FLAAAAQY13gUsAH8BZIUOBSwNXKhF/q4VLAYmOan2bgUsAAAAgRauJSwKbQeY1d4FLA/OO9amXgUsBqMA3DR+BSwAAAqFNc4FLAamrZWl/gUsAOwjeoWOBSwE9sqpNY4FLAT2yqk1jgUsBPbKqTWOBSwAAA+EVW4FLADk+vlGXgUsBOucK7XOBSwAAASKhY4FLA7ZklAWrgUsAOwjeoWOBSwE9sqpNY4FLAmIbhI2LgUsBPbKqTWOBSwE65wrtc4FLAY89XNvTfUsAAAACFWuBSwITB6+lZ4FLADOVEuwrhUsAAADCTWOBSwE9sqpNY4FLAT2yqk1jgUsBPbKqTWOBSwE9sqiBT4FLAcVXZd0XgUsA8TtGRXOBSwE9sqpNY4FLAT2yqk1jgUsCFwetUWOBSwCfgqjVV4FLAhcHrOFbgUsCFwetlVuBSwKySXStU4FLAhcFr9VXgUsAhe8/uVeBSwA/CNx5b4FLA4xk09E/gUsCFwWsiVuBSwIXB6xlX4FLAhcFryFXgUsCFwes4VuBSwJEnSddM4FLAkSdJ10zgUsCFwWv1VeBSwBV5MPJV4FLAlOUDplPgUsD4gZyJVOBSwIXB6zhW4FLAhcFrIlbgUsCFweveVeBSwIXB67FV4FLAhcFrQVXgUsBCO9yfVeBSwKFelbBb4FLAhcFryFXgUsCFwevsVuBSwPFjzF1L4FLAv0NRoE/gUsAKEXAIVeBSwIXB6+lZ4FLADsI3qFjgUsAOwjeoWOBSwG5uTE9Y4FLADsI3qFjgUsAOwjeoWOBSwE9sqjZb4FLA",
          "dtype": "f8"
         },
         "marker": {
          "color": {
           "bdata": "AAAAAADAV0AAAAAAAABZQAAAAAAAwFBAAAAAAABAVkAAAAAAAEBUQAAAAAAAgFlAAAAAAABAX0AAAAAAAMBVQAAAAAAAQFNAAAAAAABAVEAAAAAAAABbQAAAAAAAAFNAAAAAAADAV0AAAAAAAGBiQD0K16NwHVNAAAAAAABAXkAAAAAAAIBfQNejcD0KV0xAAAAAAAAAT0AAAAAAAEBQQEjhehSuh1RAAAAAAAAAUkAAAAAAAIBWQAAAAAAAwFJAAAAAAABAVUAAAAAAAEBVQAAAAAAAgE5AAAAAAADAUUAAAAAAAIBYQAAAAAAAwFhAAAAAAACAVUAAAAAAAEBZQAAAAAAAQFdAAAAAAABAU0AAAAAAAMBYQAAAAAAAQFRAAAAAAADAVUAAAAAAAGBgQAAAAAAAQFNAZmZmZmZmV0AAAAAAAEBSQAAAAAAAQFJAuB6F61HYVUAAAAAAAMBWQAAAAAAAQFlAAAAAAABAV0AAAAAAAIBYQAAAAAAAwFFAAAAAAABAWEAAAAAAAIBeQAAAAAAAQFdAAAAAAACAWEAAAAAAAEBSQAAAAAAAQFVAAAAAAADAWUAAAAAAAMBRQAAAAAAAQFVAAAAAAAAAU0AAAAAAAIBbQAAAAAAAwFRAAAAAAABAV0AAAAAAAEBXQAAAAAAAgFNAAAAAAADAUUAAAAAAAMBcQAAAAAAAQFpAAAAAAABAU0AAAAAAAEBaQAAAAAAAAFpAAAAAAABAW0AAAAAAAMBnQAAAAAAAwFFAAAAAAADAUUAAAAAAAABdQAAAAAAAwFZAAAAAAABAV0AAAAAAAABTQAAAAAAAAFFAAAAAAAAAVkAAAAAAAABYQAAAAAAAAFlAAAAAAAAAW0AAAAAAAABYQBSuR+F6VFZAexSuR+EaXUAAAAAAAEBYQAAAAAAAgFJA",
           "dtype": "f8"
          },
          "coloraxis": "coloraxis",
          "size": {
           "bdata": "AAAAAADAV0AAAAAAAABZQAAAAAAAwFBAAAAAAABAVkAAAAAAAEBUQAAAAAAAgFlAAAAAAABAX0AAAAAAAMBVQAAAAAAAQFNAAAAAAABAVEAAAAAAAABbQAAAAAAAAFNAAAAAAADAV0AAAAAAAGBiQD0K16NwHVNAAAAAAABAXkAAAAAAAIBfQNejcD0KV0xAAAAAAAAAT0AAAAAAAEBQQEjhehSuh1RAAAAAAAAAUkAAAAAAAIBWQAAAAAAAwFJAAAAAAABAVUAAAAAAAEBVQAAAAAAAgE5AAAAAAADAUUAAAAAAAIBYQAAAAAAAwFhAAAAAAACAVUAAAAAAAEBZQAAAAAAAQFdAAAAAAABAU0AAAAAAAMBYQAAAAAAAQFRAAAAAAADAVUAAAAAAAGBgQAAAAAAAQFNAZmZmZmZmV0AAAAAAAEBSQAAAAAAAQFJAuB6F61HYVUAAAAAAAMBWQAAAAAAAQFlAAAAAAABAV0AAAAAAAIBYQAAAAAAAwFFAAAAAAABAWEAAAAAAAIBeQAAAAAAAQFdAAAAAAACAWEAAAAAAAEBSQAAAAAAAQFVAAAAAAADAWUAAAAAAAMBRQAAAAAAAQFVAAAAAAAAAU0AAAAAAAIBbQAAAAAAAwFRAAAAAAABAV0AAAAAAAEBXQAAAAAAAgFNAAAAAAADAUUAAAAAAAMBcQAAAAAAAQFpAAAAAAABAU0AAAAAAAEBaQAAAAAAAAFpAAAAAAABAW0AAAAAAAMBnQAAAAAAAwFFAAAAAAADAUUAAAAAAAABdQAAAAAAAwFZAAAAAAABAV0AAAAAAAABTQAAAAAAAAFFAAAAAAAAAVkAAAAAAAABYQAAAAAAAAFlAAAAAAAAAW0AAAAAAAABYQBSuR+F6VFZAexSuR+EaXUAAAAAAAEBYQAAAAAAAgFJA",
           "dtype": "f8"
          },
          "sizemode": "area",
          "sizeref": 1.3194444444444444
         },
         "mode": "markers",
         "name": "",
         "showlegend": false,
         "subplot": "map",
         "type": "scattermap"
        }
       ],
       "layout": {
        "coloraxis": {
         "colorbar": {
          "title": {
           "text": "Base fee"
          }
         },
         "colorscale": [
          [
           0,
           "#440154"
          ],
          [
           0.1111111111111111,
           "#482878"
          ],
          [
           0.2222222222222222,
           "#3e4989"
          ],
          [
           0.3333333333333333,
           "#31688e"
          ],
          [
           0.4444444444444444,
           "#26828e"
          ],
          [
           0.5555555555555556,
           "#1f9e89"
          ],
          [
           0.6666666666666666,
           "#35b779"
          ],
          [
           0.7777777777777778,
           "#6ece58"
          ],
          [
           0.8888888888888888,
           "#b5de2b"
          ],
          [
           1,
           "#fde725"
          ]
         ]
        },
        "legend": {
         "itemsizing": "constant",
         "tracegroupgap": 0
        },
        "map": {
         "center": {
          "lat": 10.455865627381742,
          "lon": -75.50607425222042
         },
         "domain": {
          "x": [
           0,
           1
          ],
          "y": [
           0,
           1
          ]
         },
         "zoom": 11
        },
        "mapbox": {
         "center": {
          "lat": 10.455865627381742,
          "lon": -75.50607425222042
         },
         "style": "carto-darkmatter",
         "zoom": 11
        },
        "margin": {
         "b": 0,
         "l": 0,
         "r": 0,
         "t": 40
        },
        "template": {
         "data": {
          "bar": [
           {
            "error_x": {
             "color": "#2a3f5f"
            },
            "error_y": {
             "color": "#2a3f5f"
            },
            "marker": {
             "line": {
              "color": "#E5ECF6",
              "width": 0.5
             },
             "pattern": {
              "fillmode": "overlay",
              "size": 10,
              "solidity": 0.2
             }
            },
            "type": "bar"
           }
          ],
          "barpolar": [
           {
            "marker": {
             "line": {
              "color": "#E5ECF6",
              "width": 0.5
             },
             "pattern": {
              "fillmode": "overlay",
              "size": 10,
              "solidity": 0.2
             }
            },
            "type": "barpolar"
           }
          ],
          "carpet": [
           {
            "aaxis": {
             "endlinecolor": "#2a3f5f",
             "gridcolor": "white",
             "linecolor": "white",
             "minorgridcolor": "white",
             "startlinecolor": "#2a3f5f"
            },
            "baxis": {
             "endlinecolor": "#2a3f5f",
             "gridcolor": "white",
             "linecolor": "white",
             "minorgridcolor": "white",
             "startlinecolor": "#2a3f5f"
            },
            "type": "carpet"
           }
          ],
          "choropleth": [
           {
            "colorbar": {
             "outlinewidth": 0,
             "ticks": ""
            },
            "type": "choropleth"
           }
          ],
          "contour": [
           {
            "colorbar": {
             "outlinewidth": 0,
             "ticks": ""
            },
            "colorscale": [
             [
              0,
              "#0d0887"
             ],
             [
              0.1111111111111111,
              "#46039f"
             ],
             [
              0.2222222222222222,
              "#7201a8"
             ],
             [
              0.3333333333333333,
              "#9c179e"
             ],
             [
              0.4444444444444444,
              "#bd3786"
             ],
             [
              0.5555555555555556,
              "#d8576b"
             ],
             [
              0.6666666666666666,
              "#ed7953"
             ],
             [
              0.7777777777777778,
              "#fb9f3a"
             ],
             [
              0.8888888888888888,
              "#fdca26"
             ],
             [
              1,
              "#f0f921"
             ]
            ],
            "type": "contour"
           }
          ],
          "contourcarpet": [
           {
            "colorbar": {
             "outlinewidth": 0,
             "ticks": ""
            },
            "type": "contourcarpet"
           }
          ],
          "heatmap": [
           {
            "colorbar": {
             "outlinewidth": 0,
             "ticks": ""
            },
            "colorscale": [
             [
              0,
              "#0d0887"
             ],
             [
              0.1111111111111111,
              "#46039f"
             ],
             [
              0.2222222222222222,
              "#7201a8"
             ],
             [
              0.3333333333333333,
              "#9c179e"
             ],
             [
              0.4444444444444444,
              "#bd3786"
             ],
             [
              0.5555555555555556,
              "#d8576b"
             ],
             [
              0.6666666666666666,
              "#ed7953"
             ],
             [
              0.7777777777777778,
              "#fb9f3a"
             ],
             [
              0.8888888888888888,
              "#fdca26"
             ],
             [
              1,
              "#f0f921"
             ]
            ],
            "type": "heatmap"
           }
          ],
          "histogram": [
           {
            "marker": {
             "pattern": {
              "fillmode": "overlay",
              "size": 10,
              "solidity": 0.2
             }
            },
            "type": "histogram"
           }
          ],
          "histogram2d": [
           {
            "colorbar": {
             "outlinewidth": 0,
             "ticks": ""
            },
            "colorscale": [
             [
              0,
              "#0d0887"
             ],
             [
              0.1111111111111111,
              "#46039f"
             ],
             [
              0.2222222222222222,
              "#7201a8"
             ],
             [
              0.3333333333333333,
              "#9c179e"
             ],
             [
              0.4444444444444444,
              "#bd3786"
             ],
             [
              0.5555555555555556,
              "#d8576b"
             ],
             [
              0.6666666666666666,
              "#ed7953"
             ],
             [
              0.7777777777777778,
              "#fb9f3a"
             ],
             [
              0.8888888888888888,
              "#fdca26"
             ],
             [
              1,
              "#f0f921"
             ]
            ],
            "type": "histogram2d"
           }
          ],
          "histogram2dcontour": [
           {
            "colorbar": {
             "outlinewidth": 0,
             "ticks": ""
            },
            "colorscale": [
             [
              0,
              "#0d0887"
             ],
             [
              0.1111111111111111,
              "#46039f"
             ],
             [
              0.2222222222222222,
              "#7201a8"
             ],
             [
              0.3333333333333333,
              "#9c179e"
             ],
             [
              0.4444444444444444,
              "#bd3786"
             ],
             [
              0.5555555555555556,
              "#d8576b"
             ],
             [
              0.6666666666666666,
              "#ed7953"
             ],
             [
              0.7777777777777778,
              "#fb9f3a"
             ],
             [
              0.8888888888888888,
              "#fdca26"
             ],
             [
              1,
              "#f0f921"
             ]
            ],
            "type": "histogram2dcontour"
           }
          ],
          "mesh3d": [
           {
            "colorbar": {
             "outlinewidth": 0,
             "ticks": ""
            },
            "type": "mesh3d"
           }
          ],
          "parcoords": [
           {
            "line": {
             "colorbar": {
              "outlinewidth": 0,
              "ticks": ""
             }
            },
            "type": "parcoords"
           }
          ],
          "pie": [
           {
            "automargin": true,
            "type": "pie"
           }
          ],
          "scatter": [
           {
            "fillpattern": {
             "fillmode": "overlay",
             "size": 10,
             "solidity": 0.2
            },
            "type": "scatter"
           }
          ],
          "scatter3d": [
           {
            "line": {
             "colorbar": {
              "outlinewidth": 0,
              "ticks": ""
             }
            },
            "marker": {
             "colorbar": {
              "outlinewidth": 0,
              "ticks": ""
             }
            },
            "type": "scatter3d"
           }
          ],
          "scattercarpet": [
           {
            "marker": {
             "colorbar": {
              "outlinewidth": 0,
              "ticks": ""
             }
            },
            "type": "scattercarpet"
           }
          ],
          "scattergeo": [
           {
            "marker": {
             "colorbar": {
              "outlinewidth": 0,
              "ticks": ""
             }
            },
            "type": "scattergeo"
           }
          ],
          "scattergl": [
           {
            "marker": {
             "colorbar": {
              "outlinewidth": 0,
              "ticks": ""
             }
            },
            "type": "scattergl"
           }
          ],
          "scattermap": [
           {
            "marker": {
             "colorbar": {
              "outlinewidth": 0,
              "ticks": ""
             }
            },
            "type": "scattermap"
           }
          ],
          "scattermapbox": [
           {
            "marker": {
             "colorbar": {
              "outlinewidth": 0,
              "ticks": ""
             }
            },
            "type": "scattermapbox"
           }
          ],
          "scatterpolar": [
           {
            "marker": {
             "colorbar": {
              "outlinewidth": 0,
              "ticks": ""
             }
            },
            "type": "scatterpolar"
           }
          ],
          "scatterpolargl": [
           {
            "marker": {
             "colorbar": {
              "outlinewidth": 0,
              "ticks": ""
             }
            },
            "type": "scatterpolargl"
           }
          ],
          "scatterternary": [
           {
            "marker": {
             "colorbar": {
              "outlinewidth": 0,
              "ticks": ""
             }
            },
            "type": "scatterternary"
           }
          ],
          "surface": [
           {
            "colorbar": {
             "outlinewidth": 0,
             "ticks": ""
            },
            "colorscale": [
             [
              0,
              "#0d0887"
             ],
             [
              0.1111111111111111,
              "#46039f"
             ],
             [
              0.2222222222222222,
              "#7201a8"
             ],
             [
              0.3333333333333333,
              "#9c179e"
             ],
             [
              0.4444444444444444,
              "#bd3786"
             ],
             [
              0.5555555555555556,
              "#d8576b"
             ],
             [
              0.6666666666666666,
              "#ed7953"
             ],
             [
              0.7777777777777778,
              "#fb9f3a"
             ],
             [
              0.8888888888888888,
              "#fdca26"
             ],
             [
              1,
              "#f0f921"
             ]
            ],
            "type": "surface"
           }
          ],
          "table": [
           {
            "cells": {
             "fill": {
              "color": "#EBF0F8"
             },
             "line": {
              "color": "white"
             }
            },
            "header": {
             "fill": {
              "color": "#C8D4E3"
             },
             "line": {
              "color": "white"
             }
            },
            "type": "table"
           }
          ]
         },
         "layout": {
          "annotationdefaults": {
           "arrowcolor": "#2a3f5f",
           "arrowhead": 0,
           "arrowwidth": 1
          },
          "autotypenumbers": "strict",
          "coloraxis": {
           "colorbar": {
            "outlinewidth": 0,
            "ticks": ""
           }
          },
          "colorscale": {
           "diverging": [
            [
             0,
             "#8e0152"
            ],
            [
             0.1,
             "#c51b7d"
            ],
            [
             0.2,
             "#de77ae"
            ],
            [
             0.3,
             "#f1b6da"
            ],
            [
             0.4,
             "#fde0ef"
            ],
            [
             0.5,
             "#f7f7f7"
            ],
            [
             0.6,
             "#e6f5d0"
            ],
            [
             0.7,
             "#b8e186"
            ],
            [
             0.8,
             "#7fbc41"
            ],
            [
             0.9,
             "#4d9221"
            ],
            [
             1,
             "#276419"
            ]
           ],
           "sequential": [
            [
             0,
             "#0d0887"
            ],
            [
             0.1111111111111111,
             "#46039f"
            ],
            [
             0.2222222222222222,
             "#7201a8"
            ],
            [
             0.3333333333333333,
             "#9c179e"
            ],
            [
             0.4444444444444444,
             "#bd3786"
            ],
            [
             0.5555555555555556,
             "#d8576b"
            ],
            [
             0.6666666666666666,
             "#ed7953"
            ],
            [
             0.7777777777777778,
             "#fb9f3a"
            ],
            [
             0.8888888888888888,
             "#fdca26"
            ],
            [
             1,
             "#f0f921"
            ]
           ],
           "sequentialminus": [
            [
             0,
             "#0d0887"
            ],
            [
             0.1111111111111111,
             "#46039f"
            ],
            [
             0.2222222222222222,
             "#7201a8"
            ],
            [
             0.3333333333333333,
             "#9c179e"
            ],
            [
             0.4444444444444444,
             "#bd3786"
            ],
            [
             0.5555555555555556,
             "#d8576b"
            ],
            [
             0.6666666666666666,
             "#ed7953"
            ],
            [
             0.7777777777777778,
             "#fb9f3a"
            ],
            [
             0.8888888888888888,
             "#fdca26"
            ],
            [
             1,
             "#f0f921"
            ]
           ]
          },
          "colorway": [
           "#636efa",
           "#EF553B",
           "#00cc96",
           "#ab63fa",
           "#FFA15A",
           "#19d3f3",
           "#FF6692",
           "#B6E880",
           "#FF97FF",
           "#FECB52"
          ],
          "font": {
           "color": "#2a3f5f"
          },
          "geo": {
           "bgcolor": "white",
           "lakecolor": "white",
           "landcolor": "#E5ECF6",
           "showlakes": true,
           "showland": true,
           "subunitcolor": "white"
          },
          "hoverlabel": {
           "align": "left"
          },
          "hovermode": "closest",
          "mapbox": {
           "style": "light"
          },
          "paper_bgcolor": "white",
          "plot_bgcolor": "#E5ECF6",
          "polar": {
           "angularaxis": {
            "gridcolor": "white",
            "linecolor": "white",
            "ticks": ""
           },
           "bgcolor": "#E5ECF6",
           "radialaxis": {
            "gridcolor": "white",
            "linecolor": "white",
            "ticks": ""
           }
          },
          "scene": {
           "xaxis": {
            "backgroundcolor": "#E5ECF6",
            "gridcolor": "white",
            "gridwidth": 2,
            "linecolor": "white",
            "showbackground": true,
            "ticks": "",
            "zerolinecolor": "white"
           },
           "yaxis": {
            "backgroundcolor": "#E5ECF6",
            "gridcolor": "white",
            "gridwidth": 2,
            "linecolor": "white",
            "showbackground": true,
            "ticks": "",
            "zerolinecolor": "white"
           },
           "zaxis": {
            "backgroundcolor": "#E5ECF6",
            "gridcolor": "white",
            "gridwidth": 2,
            "linecolor": "white",
            "showbackground": true,
            "ticks": "",
            "zerolinecolor": "white"
           }
          },
          "shapedefaults": {
           "line": {
            "color": "#2a3f5f"
           }
          },
          "ternary": {
           "aaxis": {
            "gridcolor": "white",
            "linecolor": "white",
            "ticks": ""
           },
           "baxis": {
            "gridcolor": "white",
            "linecolor": "white",
            "ticks": ""
           },
           "bgcolor": "#E5ECF6",
           "caxis": {
            "gridcolor": "white",
            "linecolor": "white",
            "ticks": ""
           }
          },
          "title": {
           "x": 0.05
          },
          "xaxis": {
           "automargin": true,
           "gridcolor": "white",
           "linecolor": "white",
           "ticks": "",
           "title": {
            "standoff": 15
           },
           "zerolinecolor": "white",
           "zerolinewidth": 2
          },
          "yaxis": {
           "automargin": true,
           "gridcolor": "white",
           "linecolor": "white",
           "ticks": "",
           "title": {
            "standoff": 15
           },
           "zerolinecolor": "white",
           "zerolinewidth": 2
          }
         }
        },
        "title": {
         "text": "Cartagena Listings: Base Fee Distribution"
        }
       }
      }
     },
     "metadata": {},
     "output_type": "display_data"
    }
   ],
   "source": [
    "import plotly.express as px\n",
    "\n",
    "\n",
    "def map_base_fee_scatter():\n",
    "    \"\"\"\n",
    "    Point-map of each listing colored and sized by Base fee.\n",
    "    \"\"\"\n",
    "    fig = px.scatter_map(\n",
    "        df_attr,\n",
    "        lat=\"latitude\",\n",
    "        lon=\"longitude\",\n",
    "        color=\"Base fee\",\n",
    "        size=\"Base fee\",\n",
    "        hover_name=\"Name\",\n",
    "        hover_data=[\"Property type\", \"Cleaning fee\", \"Person capacity\"],\n",
    "        color_continuous_scale=\"Viridis\",\n",
    "        size_max=12,\n",
    "        zoom=11,\n",
    "        center={\"lat\": df_attr[\"latitude\"].mean(), \"lon\": df_attr[\"longitude\"].mean()},\n",
    "        title=\"Cartagena Listings: Base Fee Distribution\",\n",
    "    )\n",
    "    fig.update_layout(mapbox_style=\"carto-darkmatter\", margin={\"r\":0,\"t\":40,\"l\":0,\"b\":0})\n",
    "    return fig\n",
    "\n",
    "map_base_fee_scatter()"
   ]
  },
  {
   "cell_type": "code",
   "execution_count": 58,
   "id": "f00f8d06",
   "metadata": {},
   "outputs": [
    {
     "data": {
      "application/vnd.plotly.v1+json": {
       "config": {
        "plotlyServerURL": "https://plot.ly"
       },
       "data": [
        {
         "coloraxis": "coloraxis",
         "customdata": [
          [
           "Entire serviced apartment"
          ],
          [
           "Entire rental unit"
          ],
          [
           "Entire serviced apartment"
          ],
          [
           "Entire serviced apartment"
          ],
          [
           "Entire serviced apartment"
          ],
          [
           "Entire serviced apartment"
          ],
          [
           "Entire serviced apartment"
          ],
          [
           "Entire serviced apartment"
          ],
          [
           "Entire serviced apartment"
          ],
          [
           "Entire rental unit"
          ],
          [
           "Entire serviced apartment"
          ],
          [
           "Entire rental unit"
          ],
          [
           "Entire serviced apartment"
          ],
          [
           "Entire serviced apartment"
          ],
          [
           "Entire serviced apartment"
          ],
          [
           "Entire rental unit"
          ],
          [
           "Entire loft"
          ],
          [
           "Entire rental unit"
          ],
          [
           "Entire rental unit"
          ],
          [
           "Entire rental unit"
          ],
          [
           "Entire serviced apartment"
          ],
          [
           "Entire rental unit"
          ],
          [
           "Entire rental unit"
          ],
          [
           "Entire rental unit"
          ],
          [
           "Entire rental unit"
          ],
          [
           "Entire rental unit"
          ],
          [
           "Entire rental unit"
          ],
          [
           "Entire rental unit"
          ],
          [
           "Entire rental unit"
          ],
          [
           "Entire condo"
          ],
          [
           "Entire serviced apartment"
          ],
          [
           "Entire condo"
          ],
          [
           "Entire rental unit"
          ],
          [
           "Entire rental unit"
          ],
          [
           "Entire rental unit"
          ],
          [
           "Entire rental unit"
          ],
          [
           "Entire rental unit"
          ],
          [
           "Entire rental unit"
          ],
          [
           "Entire serviced apartment"
          ],
          [
           "Entire rental unit"
          ],
          [
           "Entire rental unit"
          ],
          [
           "Entire rental unit"
          ],
          [
           "Entire rental unit"
          ],
          [
           "Entire condo"
          ],
          [
           "Entire rental unit"
          ],
          [
           "Entire condo"
          ],
          [
           "Entire rental unit"
          ],
          [
           "Entire serviced apartment"
          ],
          [
           "Entire rental unit"
          ],
          [
           "Entire rental unit"
          ],
          [
           "Entire condo"
          ],
          [
           "Entire condo"
          ],
          [
           "Entire condo"
          ],
          [
           "Entire condo"
          ],
          [
           "Entire condo"
          ],
          [
           "Entire condo"
          ],
          [
           "Entire rental unit"
          ],
          [
           "Entire rental unit"
          ],
          [
           "Entire condo"
          ],
          [
           "Entire condo"
          ],
          [
           "Entire rental unit"
          ],
          [
           "Entire condo"
          ],
          [
           "Entire serviced apartment"
          ],
          [
           "Entire condo"
          ],
          [
           "Entire condo"
          ],
          [
           "Entire condo"
          ],
          [
           "Entire condo"
          ],
          [
           "Entire condo"
          ],
          [
           "Entire condo"
          ],
          [
           "Entire condo"
          ],
          [
           "Entire condo"
          ],
          [
           "Entire condo"
          ],
          [
           "Entire condo"
          ],
          [
           "Entire rental unit"
          ],
          [
           "Entire rental unit"
          ],
          [
           "Entire condo"
          ],
          [
           "Entire condo"
          ],
          [
           "Entire rental unit"
          ],
          [
           "Entire rental unit"
          ],
          [
           "Entire rental unit"
          ],
          [
           "Entire rental unit"
          ],
          [
           "Entire rental unit"
          ],
          [
           "Entire rental unit"
          ],
          [
           "Entire rental unit"
          ],
          [
           "Entire rental unit"
          ],
          [
           "Entire rental unit"
          ],
          [
           "Entire rental unit"
          ]
         ],
         "hovertemplate": "<b>%{hovertext}</b><br><br>Base fee=%{z}<br>latitude=%{lat}<br>longitude=%{lon}<br>Property type=%{customdata[0]}<extra></extra>",
         "hovertext": [
          "14th Floor/Jacuzzi balcony/SeaViews/Parking/King",
          "2 BR Modern APT jacuzzi / Rooftop near to beach",
          "Piso 12/ Jacuzzi/ Vistas/ 1BR/Parqueadero/Piscinas",
          "Piso 14/ Jacuzzi/ Vistas/ 2BR/Parqueadero/Piscinas",
          "Luxury /Jacuzzi/ Decoration/ Caribbean/ Pools/",
          "14th Floor/Hot water Jacuzzi/ Views/ Parking",
          "Apartamento VIP Cartagena con jacuzzi privado",
          "13th floor, apartment with Jacuzzi",
          "Piso 8 con Jacuzzi Privado y Vistas Increíbles",
          "Relax y Confort | Apartamento con Jacuzzi Privado",
          "09Jacuzzi&Beachfront Bliss 14th Floor Near Airport",
          "Luxury Apartment with a Private Jacuzzi -DMQ507",
          "Luxury and Relaxation Apartment with Jacuzzi",
          "Private jacuzzi | Colonial experience |Walled city",
          "Apartamento a 5 minutos del centro histórico",
          "Galicia Cartagena de Indias",
          "Luxury Loft private jacuzzy & sea view",
          "Dominique 1008",
          "Hermoso apartamento en Cartagena Apt 508",
          "408 - Hermoso Apartamento en Cartagena",
          "Jacuzzi with Oceanview Bliss - 11th Floor Getaway",
          "1BR Modern APT w/Rooftop Pool near to beach",
          "DM406-Apartamento con jacuzzi -Camina a Playa Azul",
          "New & Comfortable Apartment In Cielo Mar",
          "New & Luxury Apartment 2 BR In Cielo Mar",
          "Espectacular Apto con Jacuzzi",
          "Exclusivo apartamento para descanso Cartagena",
          "Apartamento con jacuzzi privado en Cielo Mar",
          "Cartagena 2 Bedroom Apartment with Jacuzzi",
          "Moderno,Cerca a la playa, Jacuzzi privado.",
          "Impresionante vista, mar, dominique 2suites",
          "Asombrosa Vista, mar y Jacuzzi floor 10th",
          "Apartment in Cartagena,Private Jacuzzi & Oceanview",
          "Lujoso apartamento con jacuzzi - Dominique",
          "Apartamento Moderno con Jacuzzi Privado D504",
          "Dominque 1005, private jacuzzi",
          "Luxurious Apartment, Private Jacuzzi & Sea View",
          "Luxurious Apartment - Private Jacuzzi & Top View",
          "Luxury 1BR in Brickell | Ocean View Free Parking",
          "Apartment in Cartagena: Relax like Home",
          "Stylish Apartment Steps to Beach - 1108",
          "Stylish Apartment Steps to Beach - 1208",
          "Stylish Apartment Steps to Beach - 1002",
          "New Luxury + Private Jacuzzi + Nesspresso + Views",
          "Ingenian Rental Marvelous View DQ 1206",
          "Tropical Luxury Condo Private Jacuzzi WIFI DQ1201",
          "Apartamento jacuzzi privado cerca a playa DQ604",
          "Luxury Brand New Apartment Dominique DQ605",
          "OceanView 2BD with private Jacuzzi DQ706",
          "Luxury Condo Balcony Private Jacuzzi DQ1202",
          "Luxury New Condo with Jacuzzi DQ1104",
          "Exclusive Condo Private Jacuzzi Dominique 1408",
          "Luxury apartment with jacuzzi Dominique DQ809",
          "Luxury Condo Near to the beach DQ510",
          "Luxury Coastal Tranquility Dominique DQ610",
          "Luxury Condo Private Jacuzzi Dominique DQ911",
          "Luxury Apartment with Private Jacuzzi DQ410",
          "Luxury apartment Private Jacuzzi Dominique 1407",
          "Luxurious 2 BR w stun view ideal 4 Families DQ1109",
          "Luxury, Private Jacuzzi Close to the beach DQ804",
          "Luxury & Cozy With Jacuzzi DQ1006",
          "Tropical Luxury Condo Private Jacuzzi DQ1302",
          "Luxury Apartment DQ 908 | Rooftop Pool Stunning Vw",
          "Luxury Place Private Jacuzzi Dominique DQ1309",
          "Luxury Condo Private Jacuzzi Dominique DQ805",
          "Luxury Condo with Private Jacuzzi DQ802",
          "Luxury Lovely Condo Dominique By Stay Q DQ1303",
          "Luxury Condo Private Jacuzzi Pools & Views DQ1402",
          "Luxury Charming Private Jacuzzi Dominique DQ511",
          "Apartment with private jacuzzi Dominique DQ710",
          "Premium 3 BRs w HotTub perfor Families",
          "Fantastic Condo Private Jacuzzi Dominique DQ1307",
          "Luxury Experience Private Jacuzzi Dominique DQ909",
          "Luxury Condo Private jacuzzi, Chic Dominique 402",
          "Confortable Apartment / Private Jacuzzi DQ 411",
          "Luxury Condo & private jacuzzi Dominique DQ810",
          "Luxury apartment private jacuzzi Dominique DQ1305",
          "DQ505 Nuevo hermoso jacuzzi priv",
          "DQ1411 Nvo Amazing view Relaxation",
          "DQ1102 Beautiful Apt Jacuzzi-priv 10min-Centro",
          "DQ1301 Espectacular jacuzzi único vista relax",
          "Luxury Cartagena dominique 1210",
          "Luxury Cartagena dominique 1209",
          "Luxury cartagena dominique 705",
          "Luxury Cartagena Dominique 1004",
          "luxury Cartagena Dominique 807",
          "Ocean Breeze Luxury » 2BRs Cartagena | Stun Views"
         ],
         "lat": {
          "bdata": "78nDQq3pJEA8mHjGwOkkQF0E4HG96SRAv+kCA63pJEC/6QIDrekkQL/pAgOt6SRARIZVvJHpJECdVOpI5OkkQIuy3kJq6SRAv+kCA63pJEB2nOyw0+kkQAsMWd3q6SRA9tQXn8TpJECZZOQs7OkkQM3km21u3CRAQIwArzbpJEDyzNey2N4kQNKMRdPZ6SRAC+9yEd/pJEC1/SsrTeokQCUOTFrb6SRAtAJDVrfqJECEj9K2q+kkQL/pAgOt6SRAv+kCA63pJEC/6QIDrekkQApx8YPH6SRADJOpglHpJEDSNZNvtukkQHFwj7qr6SRACwxZ3erpJECEj9K2q+kkQL/pAgOt6SRA7rH0oQvqJEC/6QIDrekkQLbbLjTX6SRAM2p1KW7vJEACJjFf3+kkQHac7LDT6SRAVp+rrdjfJEBCK3MGrekkQL/pAgOt6SRAv+kCA63pJEC/6QIDrekkQGP0aUij6SRA7ncoCvTpJEDRkVz+Q+okQL/pAgOt6SRAv+kCA63pJEAYqW7is+kkQGNl0WCn6SRAeBBT+KzpJEDP01WprekkQLwWpDKo6SRAz9NVqa3pJEAeZDcOpukkQLt+x/Ko6SRAtTLhl/rpJECYoWMesekkQOlZWwuv6SRAg+drMbPpJECqHF68r+kkQNPB+j+H6SRAYWwhyEHpJEAqiU2Wq+kkQLmfil2t6SRARwW2laTpJEBt0kB0r+kkQDvfYG2w6SRA9ZZYWq7pJEA1eELSqOkkQBQBSDSq6SRA39gxrKTpJECkeXNrqukkQJ1U6kjk6SRAj+48cKfpJEDEY2bPsekkQLX9KytN6iRACyQofozpJEAoJ9pVSOkkQGkufwi46SRAhI/StqvpJECEj9K2q+kkQAt72uGv6SRAhI/StqvpJECEj9K2q+kkQCaxawbk6SRA",
          "dtype": "f8"
         },
         "lon": {
          "bdata": "kUQvo1jgUsAAAChDVuBSwAAA8NNX4FLAT2yqk1jgUsBPbKqTWOBSwE9sqpNY4FLAcayL22jgUsChXpWwW+BSwARxqoxe4FLAT2yqk1jgUsCEwevpWeBSwHh6pSxD4FLAAAAQY13gUsAH8BZIUOBSwNXKhF/q4VLAYmOan2bgUsAAAAgRauJSwKbQeY1d4FLA/OO9amXgUsBqMA3DR+BSwAAAqFNc4FLAamrZWl/gUsAOwjeoWOBSwE9sqpNY4FLAT2yqk1jgUsBPbKqTWOBSwAAA+EVW4FLADk+vlGXgUsBOucK7XOBSwAAASKhY4FLA7ZklAWrgUsAOwjeoWOBSwE9sqpNY4FLAmIbhI2LgUsBPbKqTWOBSwE65wrtc4FLAY89XNvTfUsAAAACFWuBSwITB6+lZ4FLADOVEuwrhUsAAADCTWOBSwE9sqpNY4FLAT2yqk1jgUsBPbKqTWOBSwE9sqiBT4FLAcVXZd0XgUsA8TtGRXOBSwE9sqpNY4FLAT2yqk1jgUsCFwetUWOBSwCfgqjVV4FLAhcHrOFbgUsCFwetlVuBSwKySXStU4FLAhcFr9VXgUsAhe8/uVeBSwA/CNx5b4FLA4xk09E/gUsCFwWsiVuBSwIXB6xlX4FLAhcFryFXgUsCFwes4VuBSwJEnSddM4FLAkSdJ10zgUsCFwWv1VeBSwBV5MPJV4FLAlOUDplPgUsD4gZyJVOBSwIXB6zhW4FLAhcFrIlbgUsCFweveVeBSwIXB67FV4FLAhcFrQVXgUsBCO9yfVeBSwKFelbBb4FLAhcFryFXgUsCFwevsVuBSwPFjzF1L4FLAv0NRoE/gUsAKEXAIVeBSwIXB6+lZ4FLADsI3qFjgUsAOwjeoWOBSwG5uTE9Y4FLADsI3qFjgUsAOwjeoWOBSwE9sqjZb4FLA",
          "dtype": "f8"
         },
         "name": "",
         "radius": 20,
         "subplot": "map",
         "type": "densitymap",
         "z": {
          "bdata": "AAAAAADAV0AAAAAAAABZQAAAAAAAwFBAAAAAAABAVkAAAAAAAEBUQAAAAAAAgFlAAAAAAABAX0AAAAAAAMBVQAAAAAAAQFNAAAAAAABAVEAAAAAAAABbQAAAAAAAAFNAAAAAAADAV0AAAAAAAGBiQD0K16NwHVNAAAAAAABAXkAAAAAAAIBfQNejcD0KV0xAAAAAAAAAT0AAAAAAAEBQQEjhehSuh1RAAAAAAAAAUkAAAAAAAIBWQAAAAAAAwFJAAAAAAABAVUAAAAAAAEBVQAAAAAAAgE5AAAAAAADAUUAAAAAAAIBYQAAAAAAAwFhAAAAAAACAVUAAAAAAAEBZQAAAAAAAQFdAAAAAAABAU0AAAAAAAMBYQAAAAAAAQFRAAAAAAADAVUAAAAAAAGBgQAAAAAAAQFNAZmZmZmZmV0AAAAAAAEBSQAAAAAAAQFJAuB6F61HYVUAAAAAAAMBWQAAAAAAAQFlAAAAAAABAV0AAAAAAAIBYQAAAAAAAwFFAAAAAAABAWEAAAAAAAIBeQAAAAAAAQFdAAAAAAACAWEAAAAAAAEBSQAAAAAAAQFVAAAAAAADAWUAAAAAAAMBRQAAAAAAAQFVAAAAAAAAAU0AAAAAAAIBbQAAAAAAAwFRAAAAAAABAV0AAAAAAAEBXQAAAAAAAgFNAAAAAAADAUUAAAAAAAMBcQAAAAAAAQFpAAAAAAABAU0AAAAAAAEBaQAAAAAAAAFpAAAAAAABAW0AAAAAAAMBnQAAAAAAAwFFAAAAAAADAUUAAAAAAAABdQAAAAAAAwFZAAAAAAABAV0AAAAAAAABTQAAAAAAAAFFAAAAAAAAAVkAAAAAAAABYQAAAAAAAAFlAAAAAAAAAW0AAAAAAAABYQBSuR+F6VFZAexSuR+EaXUAAAAAAAEBYQAAAAAAAgFJA",
          "dtype": "f8"
         }
        }
       ],
       "layout": {
        "coloraxis": {
         "colorbar": {
          "title": {
           "text": "Base fee"
          }
         },
         "colorscale": [
          [
           0,
           "rgb(255,255,255)"
          ],
          [
           0.3333333333333333,
           "rgb(255,210,0)"
          ],
          [
           0.6666666666666666,
           "rgb(230,0,0)"
          ],
          [
           1,
           "rgb(0,0,0)"
          ]
         ]
        },
        "font": {
         "color": "white"
        },
        "legend": {
         "tracegroupgap": 0
        },
        "map": {
         "center": {
          "lat": 10.455865627381742,
          "lon": -75.50607425222042
         },
         "domain": {
          "x": [
           0,
           1
          ],
          "y": [
           0,
           1
          ]
         },
         "style": "carto-darkmatter",
         "zoom": 11
        },
        "mapbox": {
         "center": {
          "lat": 10.455865627381742,
          "lon": -75.50607425222042
         },
         "style": "carto-darkmatter",
         "zoom": 11
        },
        "margin": {
         "b": 0,
         "l": 0,
         "r": 0,
         "t": 40
        },
        "paper_bgcolor": "#111111",
        "plot_bgcolor": "#111111",
        "template": {
         "data": {
          "bar": [
           {
            "error_x": {
             "color": "#2a3f5f"
            },
            "error_y": {
             "color": "#2a3f5f"
            },
            "marker": {
             "line": {
              "color": "#E5ECF6",
              "width": 0.5
             },
             "pattern": {
              "fillmode": "overlay",
              "size": 10,
              "solidity": 0.2
             }
            },
            "type": "bar"
           }
          ],
          "barpolar": [
           {
            "marker": {
             "line": {
              "color": "#E5ECF6",
              "width": 0.5
             },
             "pattern": {
              "fillmode": "overlay",
              "size": 10,
              "solidity": 0.2
             }
            },
            "type": "barpolar"
           }
          ],
          "carpet": [
           {
            "aaxis": {
             "endlinecolor": "#2a3f5f",
             "gridcolor": "white",
             "linecolor": "white",
             "minorgridcolor": "white",
             "startlinecolor": "#2a3f5f"
            },
            "baxis": {
             "endlinecolor": "#2a3f5f",
             "gridcolor": "white",
             "linecolor": "white",
             "minorgridcolor": "white",
             "startlinecolor": "#2a3f5f"
            },
            "type": "carpet"
           }
          ],
          "choropleth": [
           {
            "colorbar": {
             "outlinewidth": 0,
             "ticks": ""
            },
            "type": "choropleth"
           }
          ],
          "contour": [
           {
            "colorbar": {
             "outlinewidth": 0,
             "ticks": ""
            },
            "colorscale": [
             [
              0,
              "#0d0887"
             ],
             [
              0.1111111111111111,
              "#46039f"
             ],
             [
              0.2222222222222222,
              "#7201a8"
             ],
             [
              0.3333333333333333,
              "#9c179e"
             ],
             [
              0.4444444444444444,
              "#bd3786"
             ],
             [
              0.5555555555555556,
              "#d8576b"
             ],
             [
              0.6666666666666666,
              "#ed7953"
             ],
             [
              0.7777777777777778,
              "#fb9f3a"
             ],
             [
              0.8888888888888888,
              "#fdca26"
             ],
             [
              1,
              "#f0f921"
             ]
            ],
            "type": "contour"
           }
          ],
          "contourcarpet": [
           {
            "colorbar": {
             "outlinewidth": 0,
             "ticks": ""
            },
            "type": "contourcarpet"
           }
          ],
          "heatmap": [
           {
            "colorbar": {
             "outlinewidth": 0,
             "ticks": ""
            },
            "colorscale": [
             [
              0,
              "#0d0887"
             ],
             [
              0.1111111111111111,
              "#46039f"
             ],
             [
              0.2222222222222222,
              "#7201a8"
             ],
             [
              0.3333333333333333,
              "#9c179e"
             ],
             [
              0.4444444444444444,
              "#bd3786"
             ],
             [
              0.5555555555555556,
              "#d8576b"
             ],
             [
              0.6666666666666666,
              "#ed7953"
             ],
             [
              0.7777777777777778,
              "#fb9f3a"
             ],
             [
              0.8888888888888888,
              "#fdca26"
             ],
             [
              1,
              "#f0f921"
             ]
            ],
            "type": "heatmap"
           }
          ],
          "histogram": [
           {
            "marker": {
             "pattern": {
              "fillmode": "overlay",
              "size": 10,
              "solidity": 0.2
             }
            },
            "type": "histogram"
           }
          ],
          "histogram2d": [
           {
            "colorbar": {
             "outlinewidth": 0,
             "ticks": ""
            },
            "colorscale": [
             [
              0,
              "#0d0887"
             ],
             [
              0.1111111111111111,
              "#46039f"
             ],
             [
              0.2222222222222222,
              "#7201a8"
             ],
             [
              0.3333333333333333,
              "#9c179e"
             ],
             [
              0.4444444444444444,
              "#bd3786"
             ],
             [
              0.5555555555555556,
              "#d8576b"
             ],
             [
              0.6666666666666666,
              "#ed7953"
             ],
             [
              0.7777777777777778,
              "#fb9f3a"
             ],
             [
              0.8888888888888888,
              "#fdca26"
             ],
             [
              1,
              "#f0f921"
             ]
            ],
            "type": "histogram2d"
           }
          ],
          "histogram2dcontour": [
           {
            "colorbar": {
             "outlinewidth": 0,
             "ticks": ""
            },
            "colorscale": [
             [
              0,
              "#0d0887"
             ],
             [
              0.1111111111111111,
              "#46039f"
             ],
             [
              0.2222222222222222,
              "#7201a8"
             ],
             [
              0.3333333333333333,
              "#9c179e"
             ],
             [
              0.4444444444444444,
              "#bd3786"
             ],
             [
              0.5555555555555556,
              "#d8576b"
             ],
             [
              0.6666666666666666,
              "#ed7953"
             ],
             [
              0.7777777777777778,
              "#fb9f3a"
             ],
             [
              0.8888888888888888,
              "#fdca26"
             ],
             [
              1,
              "#f0f921"
             ]
            ],
            "type": "histogram2dcontour"
           }
          ],
          "mesh3d": [
           {
            "colorbar": {
             "outlinewidth": 0,
             "ticks": ""
            },
            "type": "mesh3d"
           }
          ],
          "parcoords": [
           {
            "line": {
             "colorbar": {
              "outlinewidth": 0,
              "ticks": ""
             }
            },
            "type": "parcoords"
           }
          ],
          "pie": [
           {
            "automargin": true,
            "type": "pie"
           }
          ],
          "scatter": [
           {
            "fillpattern": {
             "fillmode": "overlay",
             "size": 10,
             "solidity": 0.2
            },
            "type": "scatter"
           }
          ],
          "scatter3d": [
           {
            "line": {
             "colorbar": {
              "outlinewidth": 0,
              "ticks": ""
             }
            },
            "marker": {
             "colorbar": {
              "outlinewidth": 0,
              "ticks": ""
             }
            },
            "type": "scatter3d"
           }
          ],
          "scattercarpet": [
           {
            "marker": {
             "colorbar": {
              "outlinewidth": 0,
              "ticks": ""
             }
            },
            "type": "scattercarpet"
           }
          ],
          "scattergeo": [
           {
            "marker": {
             "colorbar": {
              "outlinewidth": 0,
              "ticks": ""
             }
            },
            "type": "scattergeo"
           }
          ],
          "scattergl": [
           {
            "marker": {
             "colorbar": {
              "outlinewidth": 0,
              "ticks": ""
             }
            },
            "type": "scattergl"
           }
          ],
          "scattermap": [
           {
            "marker": {
             "colorbar": {
              "outlinewidth": 0,
              "ticks": ""
             }
            },
            "type": "scattermap"
           }
          ],
          "scattermapbox": [
           {
            "marker": {
             "colorbar": {
              "outlinewidth": 0,
              "ticks": ""
             }
            },
            "type": "scattermapbox"
           }
          ],
          "scatterpolar": [
           {
            "marker": {
             "colorbar": {
              "outlinewidth": 0,
              "ticks": ""
             }
            },
            "type": "scatterpolar"
           }
          ],
          "scatterpolargl": [
           {
            "marker": {
             "colorbar": {
              "outlinewidth": 0,
              "ticks": ""
             }
            },
            "type": "scatterpolargl"
           }
          ],
          "scatterternary": [
           {
            "marker": {
             "colorbar": {
              "outlinewidth": 0,
              "ticks": ""
             }
            },
            "type": "scatterternary"
           }
          ],
          "surface": [
           {
            "colorbar": {
             "outlinewidth": 0,
             "ticks": ""
            },
            "colorscale": [
             [
              0,
              "#0d0887"
             ],
             [
              0.1111111111111111,
              "#46039f"
             ],
             [
              0.2222222222222222,
              "#7201a8"
             ],
             [
              0.3333333333333333,
              "#9c179e"
             ],
             [
              0.4444444444444444,
              "#bd3786"
             ],
             [
              0.5555555555555556,
              "#d8576b"
             ],
             [
              0.6666666666666666,
              "#ed7953"
             ],
             [
              0.7777777777777778,
              "#fb9f3a"
             ],
             [
              0.8888888888888888,
              "#fdca26"
             ],
             [
              1,
              "#f0f921"
             ]
            ],
            "type": "surface"
           }
          ],
          "table": [
           {
            "cells": {
             "fill": {
              "color": "#EBF0F8"
             },
             "line": {
              "color": "white"
             }
            },
            "header": {
             "fill": {
              "color": "#C8D4E3"
             },
             "line": {
              "color": "white"
             }
            },
            "type": "table"
           }
          ]
         },
         "layout": {
          "annotationdefaults": {
           "arrowcolor": "#2a3f5f",
           "arrowhead": 0,
           "arrowwidth": 1
          },
          "autotypenumbers": "strict",
          "coloraxis": {
           "colorbar": {
            "outlinewidth": 0,
            "ticks": ""
           }
          },
          "colorscale": {
           "diverging": [
            [
             0,
             "#8e0152"
            ],
            [
             0.1,
             "#c51b7d"
            ],
            [
             0.2,
             "#de77ae"
            ],
            [
             0.3,
             "#f1b6da"
            ],
            [
             0.4,
             "#fde0ef"
            ],
            [
             0.5,
             "#f7f7f7"
            ],
            [
             0.6,
             "#e6f5d0"
            ],
            [
             0.7,
             "#b8e186"
            ],
            [
             0.8,
             "#7fbc41"
            ],
            [
             0.9,
             "#4d9221"
            ],
            [
             1,
             "#276419"
            ]
           ],
           "sequential": [
            [
             0,
             "#0d0887"
            ],
            [
             0.1111111111111111,
             "#46039f"
            ],
            [
             0.2222222222222222,
             "#7201a8"
            ],
            [
             0.3333333333333333,
             "#9c179e"
            ],
            [
             0.4444444444444444,
             "#bd3786"
            ],
            [
             0.5555555555555556,
             "#d8576b"
            ],
            [
             0.6666666666666666,
             "#ed7953"
            ],
            [
             0.7777777777777778,
             "#fb9f3a"
            ],
            [
             0.8888888888888888,
             "#fdca26"
            ],
            [
             1,
             "#f0f921"
            ]
           ],
           "sequentialminus": [
            [
             0,
             "#0d0887"
            ],
            [
             0.1111111111111111,
             "#46039f"
            ],
            [
             0.2222222222222222,
             "#7201a8"
            ],
            [
             0.3333333333333333,
             "#9c179e"
            ],
            [
             0.4444444444444444,
             "#bd3786"
            ],
            [
             0.5555555555555556,
             "#d8576b"
            ],
            [
             0.6666666666666666,
             "#ed7953"
            ],
            [
             0.7777777777777778,
             "#fb9f3a"
            ],
            [
             0.8888888888888888,
             "#fdca26"
            ],
            [
             1,
             "#f0f921"
            ]
           ]
          },
          "colorway": [
           "#636efa",
           "#EF553B",
           "#00cc96",
           "#ab63fa",
           "#FFA15A",
           "#19d3f3",
           "#FF6692",
           "#B6E880",
           "#FF97FF",
           "#FECB52"
          ],
          "font": {
           "color": "#2a3f5f"
          },
          "geo": {
           "bgcolor": "white",
           "lakecolor": "white",
           "landcolor": "#E5ECF6",
           "showlakes": true,
           "showland": true,
           "subunitcolor": "white"
          },
          "hoverlabel": {
           "align": "left"
          },
          "hovermode": "closest",
          "mapbox": {
           "style": "light"
          },
          "paper_bgcolor": "white",
          "plot_bgcolor": "#E5ECF6",
          "polar": {
           "angularaxis": {
            "gridcolor": "white",
            "linecolor": "white",
            "ticks": ""
           },
           "bgcolor": "#E5ECF6",
           "radialaxis": {
            "gridcolor": "white",
            "linecolor": "white",
            "ticks": ""
           }
          },
          "scene": {
           "xaxis": {
            "backgroundcolor": "#E5ECF6",
            "gridcolor": "white",
            "gridwidth": 2,
            "linecolor": "white",
            "showbackground": true,
            "ticks": "",
            "zerolinecolor": "white"
           },
           "yaxis": {
            "backgroundcolor": "#E5ECF6",
            "gridcolor": "white",
            "gridwidth": 2,
            "linecolor": "white",
            "showbackground": true,
            "ticks": "",
            "zerolinecolor": "white"
           },
           "zaxis": {
            "backgroundcolor": "#E5ECF6",
            "gridcolor": "white",
            "gridwidth": 2,
            "linecolor": "white",
            "showbackground": true,
            "ticks": "",
            "zerolinecolor": "white"
           }
          },
          "shapedefaults": {
           "line": {
            "color": "#2a3f5f"
           }
          },
          "ternary": {
           "aaxis": {
            "gridcolor": "white",
            "linecolor": "white",
            "ticks": ""
           },
           "baxis": {
            "gridcolor": "white",
            "linecolor": "white",
            "ticks": ""
           },
           "bgcolor": "#E5ECF6",
           "caxis": {
            "gridcolor": "white",
            "linecolor": "white",
            "ticks": ""
           }
          },
          "title": {
           "x": 0.05
          },
          "xaxis": {
           "automargin": true,
           "gridcolor": "white",
           "linecolor": "white",
           "ticks": "",
           "title": {
            "standoff": 15
           },
           "zerolinecolor": "white",
           "zerolinewidth": 2
          },
          "yaxis": {
           "automargin": true,
           "gridcolor": "white",
           "linecolor": "white",
           "ticks": "",
           "title": {
            "standoff": 15
           },
           "zerolinecolor": "white",
           "zerolinewidth": 2
          }
         }
        },
        "title": {
         "text": "Cartagena Base Fee Density"
        }
       }
      }
     },
     "metadata": {},
     "output_type": "display_data"
    }
   ],
   "source": [
    "import plotly.express as px\n",
    "\n",
    "def map_base_fee_density():\n",
    "    \"\"\"\n",
    "    Density-map of listing locations, weighted by Base fee.\n",
    "    \"\"\"\n",
    "    fig = px.density_map(\n",
    "        df_attr,\n",
    "        lat=\"latitude\",\n",
    "        lon=\"longitude\",\n",
    "        z=\"Base fee\",\n",
    "        radius=20,\n",
    "        hover_name=\"Name\",\n",
    "        hover_data=[\"Base fee\", \"Property type\"],\n",
    "        color_continuous_scale=\"Hot_r\",\n",
    "        map_style=\"carto-darkmatter\",\n",
    "        zoom=11,\n",
    "        title=\"Cartagena Base Fee Density\"\n",
    "    )\n",
    "    fig.update_layout(\n",
    "        margin={\"r\":0,\"t\":40,\"l\":0,\"b\":0},\n",
    "        paper_bgcolor=\"#111111\",   \n",
    "        plot_bgcolor=\"#111111\",   \n",
    "        font=dict(color=\"white\") \n",
    "    )\n",
    "    return fig\n",
    "\n",
    "map_base_fee_density()"
   ]
  }
 ],
 "metadata": {
  "kernelspec": {
   "display_name": "global_env",
   "language": "python",
   "name": "python3"
  },
  "language_info": {
   "codemirror_mode": {
    "name": "ipython",
    "version": 3
   },
   "file_extension": ".py",
   "mimetype": "text/x-python",
   "name": "python",
   "nbconvert_exporter": "python",
   "pygments_lexer": "ipython3",
   "version": "3.11.8"
  }
 },
 "nbformat": 4,
 "nbformat_minor": 5
}
