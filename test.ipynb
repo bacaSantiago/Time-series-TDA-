{
 "cells": [
  {
   "cell_type": "code",
   "execution_count": 64,
   "id": "34ac2c64",
   "metadata": {},
   "outputs": [
    {
     "data": {
      "text/html": [
       "<div>\n",
       "<style scoped>\n",
       "    .dataframe tbody tr th:only-of-type {\n",
       "        vertical-align: middle;\n",
       "    }\n",
       "\n",
       "    .dataframe tbody tr th {\n",
       "        vertical-align: top;\n",
       "    }\n",
       "\n",
       "    .dataframe thead th {\n",
       "        text-align: right;\n",
       "    }\n",
       "</style>\n",
       "<table border=\"1\" class=\"dataframe\">\n",
       "  <thead>\n",
       "    <tr style=\"text-align: right;\">\n",
       "      <th></th>\n",
       "      <th>ID</th>\n",
       "      <th>Limpieza</th>\n",
       "      <th>Veracidad</th>\n",
       "      <th>Check-in</th>\n",
       "      <th>Comunicación</th>\n",
       "      <th>Ubicación</th>\n",
       "      <th>Calidad</th>\n",
       "      <th>Tarifa</th>\n",
       "      <th>Cleaning</th>\n",
       "      <th>Habs</th>\n",
       "      <th>Jacuzzi</th>\n",
       "      <th>Mean</th>\n",
       "      <th>Var</th>\n",
       "    </tr>\n",
       "  </thead>\n",
       "  <tbody>\n",
       "    <tr>\n",
       "      <th>0</th>\n",
       "      <td>1</td>\n",
       "      <td>5.0</td>\n",
       "      <td>5.0</td>\n",
       "      <td>5.0</td>\n",
       "      <td>5.0</td>\n",
       "      <td>5.0</td>\n",
       "      <td>5.0</td>\n",
       "      <td>$79.00</td>\n",
       "      <td>$36.00</td>\n",
       "      <td>2</td>\n",
       "      <td>1</td>\n",
       "      <td>115.772388</td>\n",
       "      <td>7.831323</td>\n",
       "    </tr>\n",
       "    <tr>\n",
       "      <th>1</th>\n",
       "      <td>2</td>\n",
       "      <td>4.9</td>\n",
       "      <td>5.0</td>\n",
       "      <td>5.0</td>\n",
       "      <td>5.0</td>\n",
       "      <td>4.8</td>\n",
       "      <td>5.0</td>\n",
       "      <td>$95.00</td>\n",
       "      <td>$38.00</td>\n",
       "      <td>2</td>\n",
       "      <td>1</td>\n",
       "      <td>138.440299</td>\n",
       "      <td>136.770898</td>\n",
       "    </tr>\n",
       "    <tr>\n",
       "      <th>2</th>\n",
       "      <td>3</td>\n",
       "      <td>5.0</td>\n",
       "      <td>5.0</td>\n",
       "      <td>5.0</td>\n",
       "      <td>5.0</td>\n",
       "      <td>5.0</td>\n",
       "      <td>5.0</td>\n",
       "      <td>$100.00</td>\n",
       "      <td>$35.00</td>\n",
       "      <td>2</td>\n",
       "      <td>1</td>\n",
       "      <td>113.776119</td>\n",
       "      <td>6.880936</td>\n",
       "    </tr>\n",
       "    <tr>\n",
       "      <th>3</th>\n",
       "      <td>4</td>\n",
       "      <td>5.0</td>\n",
       "      <td>5.0</td>\n",
       "      <td>5.0</td>\n",
       "      <td>5.0</td>\n",
       "      <td>5.0</td>\n",
       "      <td>5.0</td>\n",
       "      <td>$67.00</td>\n",
       "      <td>$36.00</td>\n",
       "      <td>1</td>\n",
       "      <td>1</td>\n",
       "      <td>100.634328</td>\n",
       "      <td>67.275622</td>\n",
       "    </tr>\n",
       "    <tr>\n",
       "      <th>4</th>\n",
       "      <td>5</td>\n",
       "      <td>5.0</td>\n",
       "      <td>5.0</td>\n",
       "      <td>5.0</td>\n",
       "      <td>5.0</td>\n",
       "      <td>5.0</td>\n",
       "      <td>5.0</td>\n",
       "      <td>$81.00</td>\n",
       "      <td>$36.00</td>\n",
       "      <td>2</td>\n",
       "      <td>1</td>\n",
       "      <td>109.238806</td>\n",
       "      <td>50.961508</td>\n",
       "    </tr>\n",
       "  </tbody>\n",
       "</table>\n",
       "</div>"
      ],
      "text/plain": [
       "   ID  Limpieza  Veracidad  Check-in  Comunicación  Ubicación  Calidad  \\\n",
       "0   1       5.0        5.0       5.0           5.0        5.0      5.0   \n",
       "1   2       4.9        5.0       5.0           5.0        4.8      5.0   \n",
       "2   3       5.0        5.0       5.0           5.0        5.0      5.0   \n",
       "3   4       5.0        5.0       5.0           5.0        5.0      5.0   \n",
       "4   5       5.0        5.0       5.0           5.0        5.0      5.0   \n",
       "\n",
       "    Tarifa Cleaning  Habs  Jacuzzi        Mean         Var  \n",
       "0   $79.00   $36.00     2        1  115.772388    7.831323  \n",
       "1   $95.00   $38.00     2        1  138.440299  136.770898  \n",
       "2  $100.00   $35.00     2        1  113.776119    6.880936  \n",
       "3   $67.00   $36.00     1        1  100.634328   67.275622  \n",
       "4   $81.00   $36.00     2        1  109.238806   50.961508  "
      ]
     },
     "execution_count": 64,
     "metadata": {},
     "output_type": "execute_result"
    }
   ],
   "source": [
    "import pandas as pd\n",
    "import sqlite3\n",
    "\n",
    "conn = sqlite3.connect(\"airbnb_colombia.sqlite\")\n",
    "\n",
    "df_metadata = pd.read_sql_query(\"SELECT * FROM MetadataInterpolada\", conn)\n",
    "df_fechas = pd.read_sql_query(\"SELECT * FROM FechasInterpoladas\", conn)\n",
    "\n",
    "conn.close()\n",
    "columnas_metadata = [\n",
    "    \"ID\",\n",
    "    \"Limpieza\", \"Veracidad\", \"Check-in\", \"Comunicación\",\n",
    "    \"Ubicación\", \"Calidad\", \"Tarifa\", \"Cleaning\",\n",
    "    \"Habs\", \"Jacuzzi\", \"Mean\",\"Var\"\n",
    "]\n",
    "\n",
    "df_metadata=df_metadata[[col for col in df_metadata.columns if col  in columnas_metadata]]\n",
    "df_metadata['Jacuzzi'] = df_metadata['Jacuzzi'].map({\"SI\": 1, \"NO\": 0})\n",
    "\n",
    "df_metadata.head()"
   ]
  },
  {
   "cell_type": "code",
   "execution_count": 70,
   "id": "2cf9876d",
   "metadata": {},
   "outputs": [
    {
     "name": "stdout",
     "output_type": "stream",
     "text": [
      "Número de componentes seleccionados: 6\n",
      "Varianza explicada total: 0.8513\n"
     ]
    }
   ],
   "source": [
    "from sklearn.decomposition import PCA\n",
    "from sklearn.preprocessing import StandardScaler\n",
    "\n",
    "# Escalado\n",
    "scaler = StandardScaler()\n",
    "X_scaled = scaler.fit_transform(df_metadata.select_dtypes(include=[np.number]).drop(columns=[\"ID\"]))\n",
    "\n",
    "# PCA automático: selecciona suficientes componentes para explicar >=80% varianza\n",
    "pca = PCA(n_components=0.80)\n",
    "X_pca = pca.fit_transform(X_scaled)\n",
    "\n",
    "# Número de componentes seleccionados automáticamente\n",
    "print(f\"Número de componentes seleccionados: {pca.n_components_}\")\n",
    "print(f\"Varianza explicada total: {pca.explained_variance_ratio_.sum():.4f}\")\n"
   ]
  },
  {
   "cell_type": "code",
   "execution_count": null,
   "id": "f9385e35",
   "metadata": {},
   "outputs": [
    {
     "data": {
      "application/vnd.plotly.v1+json": {
       "config": {
        "plotlyServerURL": "https://plot.ly"
       },
       "data": [
        {
         "hovertemplate": "PC1=%{x}<br>PC2=%{y}<br>ID=%{text}<br>PC3=%{marker.color}<extra></extra>",
         "legendgroup": "",
         "marker": {
          "color": [
           0.7466109373498357,
           0.2177970804326299,
           0.731457283426356,
           0.4175632581939099,
           0.6796087606601829,
           -0.1819766215197249,
           -0.029404825369845997,
           0.37121628492273845,
           -1.1556636232283926,
           1.7763009659267144,
           0.5230363444729793,
           0.8331482078845087,
           -0.3069259088878709,
           0.08281300810011001,
           -0.5589182319564878,
           1.295241013910358,
           1.295241013910358,
           0.25928654526226586,
           0.8516462189594874,
           -0.007019064163980944,
           -1.946918628695135,
           0.18861288790046793,
           0.7636047819405313,
           -1.5246397514907395,
           -0.24181162884768198,
           0.30587670438185555,
           -2.0453078277845984,
           -1.8869126559016516,
           -0.1669799095819093,
           -1.5235494194936323,
           -1.5364645993810222,
           -0.11476216936335466,
           0.1593643174678379,
           -2.1282288502825595,
           0.14182114044169464,
           0.21399378585088227,
           -1.5366401524534339,
           1.0360141871181807,
           0.6805225197057428,
           0.805520845712283,
           0.7926476782391231,
           -0.04677518270674556,
           0.18466124205141263,
           0.6865893677627481,
           1.2876951063720323,
           -1.3371108648013335,
           -1.5704977047756354,
           0.4021884998229506,
           0.7972489686820048,
           -0.579470215606102,
           0.13314094843743735,
           0.6993129519129936,
           0.8036563554989604,
           2.111461318329928,
           0.6650497361289519,
           -0.7416171541500646,
           0.4645632080877185,
           0.35431081237617007,
           -0.2800455311266973,
           0.021621811069349225,
           0.9960091380657514,
           -1.6920809167219166,
           0.10875756376603431,
           -0.15631549355360244,
           0.8604456354203627,
           0.39096786758910923,
           0.7194258063254335,
           0.012688297615632475,
           0.7998757306245502,
           -0.13837000813948766,
           0.23420119956941415,
           -2.5657026414152213,
           0.1339179829163132,
           -0.990406062152665,
           -0.3935139847306788,
           -1.8224865835898416,
           -0.057118844528434666,
           -0.3846378186196265,
           0.28422053184324636,
           0.9221366604118317,
           0.7711087178546039,
           1.417505555552242,
           0.8658446958923484,
           1.5738407448280942,
           0.7987141292869351,
           -4.7188670382344435,
           1.964341344667467,
           -1.174884030717383,
           -0.07167260226664414,
           0.44521895884321744,
           0.632464466921528,
           0.13282549387023332,
           -0.4876000063802452,
           0.05613313752317151,
           -0.30407704663638824,
           -0.009252166197751268,
           -1.4864639926382834
          ],
          "coloraxis": "coloraxis",
          "symbol": "circle"
         },
         "mode": "markers+text",
         "name": "",
         "orientation": "v",
         "showlegend": false,
         "text": [
          1,
          2,
          3,
          4,
          5,
          6,
          7,
          8,
          9,
          10,
          11,
          12,
          13,
          14,
          15,
          16,
          17,
          18,
          19,
          20,
          21,
          22,
          23,
          24,
          25,
          26,
          27,
          28,
          29,
          30,
          31,
          32,
          33,
          34,
          35,
          36,
          37,
          38,
          39,
          40,
          41,
          42,
          43,
          44,
          45,
          46,
          47,
          48,
          49,
          50,
          51,
          52,
          53,
          54,
          55,
          56,
          57,
          58,
          59,
          60,
          61,
          62,
          63,
          64,
          65,
          66,
          67,
          68,
          69,
          70,
          71,
          72,
          73,
          74,
          75,
          76,
          77,
          78,
          79,
          80,
          81,
          82,
          83,
          84,
          85,
          86,
          87,
          88,
          89,
          90,
          91,
          92,
          93,
          94,
          95,
          96,
          97
         ],
         "textposition": "top center",
         "type": "scatter",
         "x": [
          2.30555162859622,
          1.4561409913087164,
          2.305822275362754,
          2.319026135619581,
          2.2991039983264208,
          -0.43842638826009767,
          -1.4870435834201634,
          0.5970075421057451,
          0.5945498577434354,
          -2.318116068375218,
          2.326394066642073,
          2.297117000581593,
          -0.09198693482011495,
          0.33129853544598437,
          -0.695295792994616,
          2.3025748091173006,
          2.3025748091173006,
          -1.055383755523664,
          2.10555343021898,
          0.43484901258975794,
          2.097501197884726,
          0.33310752020991824,
          -0.734303535330699,
          0.9935186876738882,
          1.3144801524579162,
          0.7363364335446551,
          -1.0715240293927766,
          -1.0723608630515886,
          -2.6767438742465206,
          2.4625781168287983,
          2.466789823937529,
          -0.02614049800658817,
          -0.1101403497410003,
          1.1836772248213192,
          0.6634445396020253,
          -1.0239539329109617,
          0.8684266120580111,
          -0.15887393795646831,
          2.032325542243248,
          -2.425881771224203,
          2.2148199960806068,
          -0.6901267240625167,
          0.8493111378689755,
          0.9117542040852433,
          -4.339420348803862,
          -2.620898900497738,
          2.497044457094823,
          2.329093115032335,
          2.305054952112858,
          1.8370581226925329,
          0.4982300674400787,
          2.273072457699225,
          1.04883126816068,
          -0.3211680537521276,
          2.301503555415495,
          2.075028318134491,
          2.0679582267801537,
          0.36768364280847915,
          0.6999885492676554,
          0.6587697592939827,
          0.36860936572238423,
          -0.4315070542602644,
          0.004947953008834891,
          0.27458003342269033,
          0.5896272531436819,
          -1.7815400483812107,
          0.4681427706318647,
          -1.0462980283007413,
          -0.7484210346652198,
          -2.2686915365567013,
          -0.724309968558888,
          1.0622553075580026,
          -0.3033329031806284,
          -1.132042847334782,
          -2.4445075852405767,
          -0.9413517370820189,
          -3.6532932234076134,
          -0.3696003932598121,
          -1.689246630807161,
          -3.172505977673727,
          -2.700345552233382,
          -3.0046972991525664,
          -2.770121081501273,
          -4.847376081491498,
          -1.3431407803476716,
          -5.782176172619116,
          -1.3924604396727336,
          0.042040696777332465,
          -0.4718757977845723,
          -1.3443837214298129,
          -3.0539017044847347,
          0.7381749628222143,
          -0.2842478956831682,
          0.7327451648539983,
          -0.20994768478513798,
          0.45757243521603896,
          2.4654648051033887
         ],
         "xaxis": "x",
         "y": [
          0.367313651966462,
          1.076789414262223,
          0.3259917050628991,
          -1.1012974672086433,
          0.2569968535587402,
          0.541586349409683,
          -0.8159025510093824,
          0.30070331379918186,
          1.0152034745714658,
          1.273419130333154,
          -0.9012972704194241,
          0.6685260855292493,
          -0.6178164712128226,
          -1.6435742893894087,
          0.40652835762093986,
          1.798752789985098,
          1.798752789985098,
          -1.5909788031230059,
          2.529882768023218,
          -1.1379847288042837,
          -0.9600118821243062,
          -1.1643696840536673,
          -1.539816856593844,
          -1.364749814312461,
          -0.9453472021070582,
          -0.6731056915706494,
          -1.4954349115407988,
          -1.0823777026655363,
          0.33593193251119824,
          -0.31534708016132795,
          -0.38826414540897025,
          0.2450042391564746,
          -1.6484659233443897,
          0.6151759733852505,
          0.8281435960153373,
          1.129818720959916,
          0.4312136393752264,
          0.836870166131358,
          1.054619816250482,
          -1.5401353936955338,
          1.3442619474838646,
          -0.93401580834281,
          -0.3481971000473788,
          -1.1196920923863602,
          -1.703564945311024,
          1.1812813183616422,
          -1.2612087925099176,
          -1.2359529726995107,
          0.5015356138778744,
          -0.8183838041934632,
          0.6656898457459743,
          0.5539050135936685,
          2.1099296558631733,
          -2.1186915832315947,
          0.1970357331872858,
          -1.7555935987465245,
          1.8958416529775275,
          -0.035833279599745554,
          1.967184259044596,
          -0.9476518422231065,
          -1.297904302123458,
          0.29243132590651144,
          1.7841028721044536,
          -0.8169336141804862,
          0.15410974606995162,
          -1.062024496330616,
          -1.4415485850453764,
          0.3572981246687922,
          1.4647991912099756,
          -1.1839200294825005,
          1.5663343851250426,
          -1.1980662133517919,
          -1.0823451968520417,
          -0.8937906866483895,
          1.8921120513239678,
          0.6210745720365499,
          1.6120858193914032,
          -0.9083827519014741,
          1.5549796772568956,
          3.3006086463428312,
          -1.3997635252696392,
          -1.8945075765425703,
          1.5063249116584232,
          -0.8605630163616108,
          -1.4771995912294873,
          2.2757425577404606,
          -2.0724743719295367,
          -1.36277106185327,
          -1.317329944023758,
          0.38969861263655936,
          0.29130320118826925,
          3.477492411266321,
          0.20796101220901575,
          -0.5316842801261763,
          2.9058535581489915,
          0.3458988645551037,
          -0.2478284175786473
         ],
         "yaxis": "y"
        }
       ],
       "layout": {
        "coloraxis": {
         "colorbar": {
          "title": {
           "text": "PC3"
          }
         },
         "colorscale": [
          [
           0,
           "#0d0887"
          ],
          [
           0.1111111111111111,
           "#46039f"
          ],
          [
           0.2222222222222222,
           "#7201a8"
          ],
          [
           0.3333333333333333,
           "#9c179e"
          ],
          [
           0.4444444444444444,
           "#bd3786"
          ],
          [
           0.5555555555555556,
           "#d8576b"
          ],
          [
           0.6666666666666666,
           "#ed7953"
          ],
          [
           0.7777777777777778,
           "#fb9f3a"
          ],
          [
           0.8888888888888888,
           "#fdca26"
          ],
          [
           1,
           "#f0f921"
          ]
         ]
        },
        "height": 600,
        "legend": {
         "tracegroupgap": 0
        },
        "margin": {
         "b": 20,
         "l": 20,
         "r": 20,
         "t": 50
        },
        "showlegend": false,
        "template": {
         "data": {
          "bar": [
           {
            "error_x": {
             "color": "#2a3f5f"
            },
            "error_y": {
             "color": "#2a3f5f"
            },
            "marker": {
             "line": {
              "color": "white",
              "width": 0.5
             },
             "pattern": {
              "fillmode": "overlay",
              "size": 10,
              "solidity": 0.2
             }
            },
            "type": "bar"
           }
          ],
          "barpolar": [
           {
            "marker": {
             "line": {
              "color": "white",
              "width": 0.5
             },
             "pattern": {
              "fillmode": "overlay",
              "size": 10,
              "solidity": 0.2
             }
            },
            "type": "barpolar"
           }
          ],
          "carpet": [
           {
            "aaxis": {
             "endlinecolor": "#2a3f5f",
             "gridcolor": "#C8D4E3",
             "linecolor": "#C8D4E3",
             "minorgridcolor": "#C8D4E3",
             "startlinecolor": "#2a3f5f"
            },
            "baxis": {
             "endlinecolor": "#2a3f5f",
             "gridcolor": "#C8D4E3",
             "linecolor": "#C8D4E3",
             "minorgridcolor": "#C8D4E3",
             "startlinecolor": "#2a3f5f"
            },
            "type": "carpet"
           }
          ],
          "choropleth": [
           {
            "colorbar": {
             "outlinewidth": 0,
             "ticks": ""
            },
            "type": "choropleth"
           }
          ],
          "contour": [
           {
            "colorbar": {
             "outlinewidth": 0,
             "ticks": ""
            },
            "colorscale": [
             [
              0,
              "#0d0887"
             ],
             [
              0.1111111111111111,
              "#46039f"
             ],
             [
              0.2222222222222222,
              "#7201a8"
             ],
             [
              0.3333333333333333,
              "#9c179e"
             ],
             [
              0.4444444444444444,
              "#bd3786"
             ],
             [
              0.5555555555555556,
              "#d8576b"
             ],
             [
              0.6666666666666666,
              "#ed7953"
             ],
             [
              0.7777777777777778,
              "#fb9f3a"
             ],
             [
              0.8888888888888888,
              "#fdca26"
             ],
             [
              1,
              "#f0f921"
             ]
            ],
            "type": "contour"
           }
          ],
          "contourcarpet": [
           {
            "colorbar": {
             "outlinewidth": 0,
             "ticks": ""
            },
            "type": "contourcarpet"
           }
          ],
          "heatmap": [
           {
            "colorbar": {
             "outlinewidth": 0,
             "ticks": ""
            },
            "colorscale": [
             [
              0,
              "#0d0887"
             ],
             [
              0.1111111111111111,
              "#46039f"
             ],
             [
              0.2222222222222222,
              "#7201a8"
             ],
             [
              0.3333333333333333,
              "#9c179e"
             ],
             [
              0.4444444444444444,
              "#bd3786"
             ],
             [
              0.5555555555555556,
              "#d8576b"
             ],
             [
              0.6666666666666666,
              "#ed7953"
             ],
             [
              0.7777777777777778,
              "#fb9f3a"
             ],
             [
              0.8888888888888888,
              "#fdca26"
             ],
             [
              1,
              "#f0f921"
             ]
            ],
            "type": "heatmap"
           }
          ],
          "heatmapgl": [
           {
            "colorbar": {
             "outlinewidth": 0,
             "ticks": ""
            },
            "colorscale": [
             [
              0,
              "#0d0887"
             ],
             [
              0.1111111111111111,
              "#46039f"
             ],
             [
              0.2222222222222222,
              "#7201a8"
             ],
             [
              0.3333333333333333,
              "#9c179e"
             ],
             [
              0.4444444444444444,
              "#bd3786"
             ],
             [
              0.5555555555555556,
              "#d8576b"
             ],
             [
              0.6666666666666666,
              "#ed7953"
             ],
             [
              0.7777777777777778,
              "#fb9f3a"
             ],
             [
              0.8888888888888888,
              "#fdca26"
             ],
             [
              1,
              "#f0f921"
             ]
            ],
            "type": "heatmapgl"
           }
          ],
          "histogram": [
           {
            "marker": {
             "pattern": {
              "fillmode": "overlay",
              "size": 10,
              "solidity": 0.2
             }
            },
            "type": "histogram"
           }
          ],
          "histogram2d": [
           {
            "colorbar": {
             "outlinewidth": 0,
             "ticks": ""
            },
            "colorscale": [
             [
              0,
              "#0d0887"
             ],
             [
              0.1111111111111111,
              "#46039f"
             ],
             [
              0.2222222222222222,
              "#7201a8"
             ],
             [
              0.3333333333333333,
              "#9c179e"
             ],
             [
              0.4444444444444444,
              "#bd3786"
             ],
             [
              0.5555555555555556,
              "#d8576b"
             ],
             [
              0.6666666666666666,
              "#ed7953"
             ],
             [
              0.7777777777777778,
              "#fb9f3a"
             ],
             [
              0.8888888888888888,
              "#fdca26"
             ],
             [
              1,
              "#f0f921"
             ]
            ],
            "type": "histogram2d"
           }
          ],
          "histogram2dcontour": [
           {
            "colorbar": {
             "outlinewidth": 0,
             "ticks": ""
            },
            "colorscale": [
             [
              0,
              "#0d0887"
             ],
             [
              0.1111111111111111,
              "#46039f"
             ],
             [
              0.2222222222222222,
              "#7201a8"
             ],
             [
              0.3333333333333333,
              "#9c179e"
             ],
             [
              0.4444444444444444,
              "#bd3786"
             ],
             [
              0.5555555555555556,
              "#d8576b"
             ],
             [
              0.6666666666666666,
              "#ed7953"
             ],
             [
              0.7777777777777778,
              "#fb9f3a"
             ],
             [
              0.8888888888888888,
              "#fdca26"
             ],
             [
              1,
              "#f0f921"
             ]
            ],
            "type": "histogram2dcontour"
           }
          ],
          "mesh3d": [
           {
            "colorbar": {
             "outlinewidth": 0,
             "ticks": ""
            },
            "type": "mesh3d"
           }
          ],
          "parcoords": [
           {
            "line": {
             "colorbar": {
              "outlinewidth": 0,
              "ticks": ""
             }
            },
            "type": "parcoords"
           }
          ],
          "pie": [
           {
            "automargin": true,
            "type": "pie"
           }
          ],
          "scatter": [
           {
            "fillpattern": {
             "fillmode": "overlay",
             "size": 10,
             "solidity": 0.2
            },
            "type": "scatter"
           }
          ],
          "scatter3d": [
           {
            "line": {
             "colorbar": {
              "outlinewidth": 0,
              "ticks": ""
             }
            },
            "marker": {
             "colorbar": {
              "outlinewidth": 0,
              "ticks": ""
             }
            },
            "type": "scatter3d"
           }
          ],
          "scattercarpet": [
           {
            "marker": {
             "colorbar": {
              "outlinewidth": 0,
              "ticks": ""
             }
            },
            "type": "scattercarpet"
           }
          ],
          "scattergeo": [
           {
            "marker": {
             "colorbar": {
              "outlinewidth": 0,
              "ticks": ""
             }
            },
            "type": "scattergeo"
           }
          ],
          "scattergl": [
           {
            "marker": {
             "colorbar": {
              "outlinewidth": 0,
              "ticks": ""
             }
            },
            "type": "scattergl"
           }
          ],
          "scattermapbox": [
           {
            "marker": {
             "colorbar": {
              "outlinewidth": 0,
              "ticks": ""
             }
            },
            "type": "scattermapbox"
           }
          ],
          "scatterpolar": [
           {
            "marker": {
             "colorbar": {
              "outlinewidth": 0,
              "ticks": ""
             }
            },
            "type": "scatterpolar"
           }
          ],
          "scatterpolargl": [
           {
            "marker": {
             "colorbar": {
              "outlinewidth": 0,
              "ticks": ""
             }
            },
            "type": "scatterpolargl"
           }
          ],
          "scatterternary": [
           {
            "marker": {
             "colorbar": {
              "outlinewidth": 0,
              "ticks": ""
             }
            },
            "type": "scatterternary"
           }
          ],
          "surface": [
           {
            "colorbar": {
             "outlinewidth": 0,
             "ticks": ""
            },
            "colorscale": [
             [
              0,
              "#0d0887"
             ],
             [
              0.1111111111111111,
              "#46039f"
             ],
             [
              0.2222222222222222,
              "#7201a8"
             ],
             [
              0.3333333333333333,
              "#9c179e"
             ],
             [
              0.4444444444444444,
              "#bd3786"
             ],
             [
              0.5555555555555556,
              "#d8576b"
             ],
             [
              0.6666666666666666,
              "#ed7953"
             ],
             [
              0.7777777777777778,
              "#fb9f3a"
             ],
             [
              0.8888888888888888,
              "#fdca26"
             ],
             [
              1,
              "#f0f921"
             ]
            ],
            "type": "surface"
           }
          ],
          "table": [
           {
            "cells": {
             "fill": {
              "color": "#EBF0F8"
             },
             "line": {
              "color": "white"
             }
            },
            "header": {
             "fill": {
              "color": "#C8D4E3"
             },
             "line": {
              "color": "white"
             }
            },
            "type": "table"
           }
          ]
         },
         "layout": {
          "annotationdefaults": {
           "arrowcolor": "#2a3f5f",
           "arrowhead": 0,
           "arrowwidth": 1
          },
          "autotypenumbers": "strict",
          "coloraxis": {
           "colorbar": {
            "outlinewidth": 0,
            "ticks": ""
           }
          },
          "colorscale": {
           "diverging": [
            [
             0,
             "#8e0152"
            ],
            [
             0.1,
             "#c51b7d"
            ],
            [
             0.2,
             "#de77ae"
            ],
            [
             0.3,
             "#f1b6da"
            ],
            [
             0.4,
             "#fde0ef"
            ],
            [
             0.5,
             "#f7f7f7"
            ],
            [
             0.6,
             "#e6f5d0"
            ],
            [
             0.7,
             "#b8e186"
            ],
            [
             0.8,
             "#7fbc41"
            ],
            [
             0.9,
             "#4d9221"
            ],
            [
             1,
             "#276419"
            ]
           ],
           "sequential": [
            [
             0,
             "#0d0887"
            ],
            [
             0.1111111111111111,
             "#46039f"
            ],
            [
             0.2222222222222222,
             "#7201a8"
            ],
            [
             0.3333333333333333,
             "#9c179e"
            ],
            [
             0.4444444444444444,
             "#bd3786"
            ],
            [
             0.5555555555555556,
             "#d8576b"
            ],
            [
             0.6666666666666666,
             "#ed7953"
            ],
            [
             0.7777777777777778,
             "#fb9f3a"
            ],
            [
             0.8888888888888888,
             "#fdca26"
            ],
            [
             1,
             "#f0f921"
            ]
           ],
           "sequentialminus": [
            [
             0,
             "#0d0887"
            ],
            [
             0.1111111111111111,
             "#46039f"
            ],
            [
             0.2222222222222222,
             "#7201a8"
            ],
            [
             0.3333333333333333,
             "#9c179e"
            ],
            [
             0.4444444444444444,
             "#bd3786"
            ],
            [
             0.5555555555555556,
             "#d8576b"
            ],
            [
             0.6666666666666666,
             "#ed7953"
            ],
            [
             0.7777777777777778,
             "#fb9f3a"
            ],
            [
             0.8888888888888888,
             "#fdca26"
            ],
            [
             1,
             "#f0f921"
            ]
           ]
          },
          "colorway": [
           "#636efa",
           "#EF553B",
           "#00cc96",
           "#ab63fa",
           "#FFA15A",
           "#19d3f3",
           "#FF6692",
           "#B6E880",
           "#FF97FF",
           "#FECB52"
          ],
          "font": {
           "color": "#2a3f5f"
          },
          "geo": {
           "bgcolor": "white",
           "lakecolor": "white",
           "landcolor": "white",
           "showlakes": true,
           "showland": true,
           "subunitcolor": "#C8D4E3"
          },
          "hoverlabel": {
           "align": "left"
          },
          "hovermode": "closest",
          "mapbox": {
           "style": "light"
          },
          "paper_bgcolor": "white",
          "plot_bgcolor": "white",
          "polar": {
           "angularaxis": {
            "gridcolor": "#EBF0F8",
            "linecolor": "#EBF0F8",
            "ticks": ""
           },
           "bgcolor": "white",
           "radialaxis": {
            "gridcolor": "#EBF0F8",
            "linecolor": "#EBF0F8",
            "ticks": ""
           }
          },
          "scene": {
           "xaxis": {
            "backgroundcolor": "white",
            "gridcolor": "#DFE8F3",
            "gridwidth": 2,
            "linecolor": "#EBF0F8",
            "showbackground": true,
            "ticks": "",
            "zerolinecolor": "#EBF0F8"
           },
           "yaxis": {
            "backgroundcolor": "white",
            "gridcolor": "#DFE8F3",
            "gridwidth": 2,
            "linecolor": "#EBF0F8",
            "showbackground": true,
            "ticks": "",
            "zerolinecolor": "#EBF0F8"
           },
           "zaxis": {
            "backgroundcolor": "white",
            "gridcolor": "#DFE8F3",
            "gridwidth": 2,
            "linecolor": "#EBF0F8",
            "showbackground": true,
            "ticks": "",
            "zerolinecolor": "#EBF0F8"
           }
          },
          "shapedefaults": {
           "line": {
            "color": "#2a3f5f"
           }
          },
          "ternary": {
           "aaxis": {
            "gridcolor": "#DFE8F3",
            "linecolor": "#A2B1C6",
            "ticks": ""
           },
           "baxis": {
            "gridcolor": "#DFE8F3",
            "linecolor": "#A2B1C6",
            "ticks": ""
           },
           "bgcolor": "white",
           "caxis": {
            "gridcolor": "#DFE8F3",
            "linecolor": "#A2B1C6",
            "ticks": ""
           }
          },
          "title": {
           "x": 0.05
          },
          "xaxis": {
           "automargin": true,
           "gridcolor": "#EBF0F8",
           "linecolor": "#EBF0F8",
           "ticks": "",
           "title": {
            "standoff": 15
           },
           "zerolinecolor": "#EBF0F8",
           "zerolinewidth": 2
          },
          "yaxis": {
           "automargin": true,
           "gridcolor": "#EBF0F8",
           "linecolor": "#EBF0F8",
           "ticks": "",
           "title": {
            "standoff": 15
           },
           "zerolinecolor": "#EBF0F8",
           "zerolinewidth": 2
          }
         }
        },
        "title": {
         "text": "PC1 vs PC2"
        },
        "width": 800,
        "xaxis": {
         "anchor": "y",
         "domain": [
          0,
          1
         ],
         "title": {
          "text": "PC1"
         }
        },
        "yaxis": {
         "anchor": "x",
         "domain": [
          0,
          1
         ],
         "title": {
          "text": "PC2"
         }
        }
       }
      }
     },
     "metadata": {},
     "output_type": "display_data"
    },
    {
     "data": {
      "image/png": "[encoded data removed]",
      "text/plain": [
       "<Figure size 1000x800 with 2 Axes>"
      ]
     },
     "metadata": {},
     "output_type": "display_data"
    }
   ],
   "source": [
    "from sklearn.decomposition import PCA\n",
    "from sklearn.preprocessing import StandardScaler\n",
    "from scipy.spatial.distance import pdist, squareform\n",
    "import matplotlib.pyplot as plt\n",
    "import seaborn as sns\n",
    "import plotly.express as px\n",
    "import plotly.graph_objects as go\n",
    "import pandas as pd\n",
    "import numpy as np\n",
    "\n",
    "df_pca = df_metadata.copy()\n",
    "\n",
    "columnas_usar = df_pca.select_dtypes(include=[np.number]).columns.difference(['ID'])\n",
    "\n",
    "scaler = StandardScaler()\n",
    "X_scaled = scaler.fit_transform(df_pca[columnas_usar])\n",
    "\n",
    "pca = PCA(n_components=pca.n_components_)\n",
    "X_pca = pca.fit_transform(X_scaled)\n",
    "\n",
    "columnas_pca = [f\"PC{i+1}\" for i in range(pca.n_components_)]\n",
    "df_pca_result = pd.DataFrame(X_pca, columns=columnas_pca)\n",
    "df_pca_result[\"ID\"] = df_pca[\"ID\"].values\n",
    "\n",
    "dist_matrix = squareform(pdist(X_scaled, metric='euclidean'))\n",
    "df_dist = pd.DataFrame(dist_matrix, index=df_pca[\"ID\"], columns=df_pca[\"ID\"])\n",
    "fig = px.scatter(\n",
    "    df_pca_result,\n",
    "    x=\"PC1\",\n",
    "    y=\"PC2\",\n",
    "    text=\"ID\",  \n",
    "    color=\"PC3\",  \n",
    "    title=\"PC1 vs PC2\",\n",
    "    width=800,\n",
    "    height=600\n",
    ")\n",
    "\n",
    "fig.update_traces(textposition='top center')\n",
    "fig.update_layout(margin=dict(l=20, r=20, b=20, t=50), template=\"plotly_white\", showlegend=False)\n",
    "fig.show()\n",
    "\n",
    "plt.figure(figsize=(10, 8))\n",
    "sns.heatmap(df_dist, cmap=\"viridis\", xticklabels=False, yticklabels=False)\n",
    "plt.title(\"Matriz de Distancias Euclidianas\")\n",
    "plt.tight_layout()\n",
    "plt.show()\n"
   ]
  },
  {
   "cell_type": "code",
   "execution_count": 79,
   "id": "684fcb1a",
   "metadata": {},
   "outputs": [],
   "source": [
    "import os\n",
    "import os\n",
    "from scipy.spatial.distance import pdist, squareform\n",
    "from PIL import Image\n",
    "points = df_pca_result[[\"PC1\", \"PC2\", \"ID\"]].copy().reset_index(drop=True)\n",
    "X = points[[\"PC1\", \"PC2\"]].values\n",
    "ids = points[\"ID\"].astype(str).values\n",
    "\n",
    "# Configuración\n",
    "n_frames = 30\n",
    "max_radius = 0.5  # Ajusta según escala de PC\n",
    "frames = []\n",
    "\n",
    "# Crear carpeta temporal para imágenes\n",
    "os.makedirs(\"frames_tmp\", exist_ok=True)\n",
    "\n",
    "for frame_idx in range(n_frames):\n",
    "    radius = max_radius * (frame_idx + 1) / n_frames\n",
    "    \n",
    "    fig, ax = plt.subplots(figsize=(8, 6))\n",
    "    ax.set_xlim(X[:, 0].min() - 1, X[:, 0].max() + 1)\n",
    "    ax.set_ylim(X[:, 1].min() - 1, X[:, 1].max() + 1)\n",
    "\n",
    "    # Dibujar círculos\n",
    "    for i, (x, y) in enumerate(X):\n",
    "        circle = plt.Circle((x, y), radius=radius, color='lightblue', alpha=0.3)\n",
    "        ax.add_patch(circle)\n",
    "        ax.text(x, y, ids[i], fontsize=8, ha='center', va='center')\n",
    "\n",
    "    for i in range(len(X)):\n",
    "        for j in range(i+1, len(X)):\n",
    "            dist = np.linalg.norm(X[i] - X[j])\n",
    "            if dist < 2 * radius:\n",
    "                ax.plot([X[i][0], X[j][0]], [X[i][1], X[j][1]], 'b-', alpha=0.4)\n",
    "\n",
    "    ax.set_title(f\"Frame {frame_idx+1}\")\n",
    "    ax.axis('off')\n",
    "\n",
    "    # Guardar imagen temporal\n",
    "    filename = f\"frames_tmp/frame_{frame_idx:03d}.png\"\n",
    "    plt.savefig(filename, bbox_inches='tight')\n",
    "    plt.close()\n",
    "    frames.append(Image.open(filename))\n",
    "frames.append(Image.open(filename))\n",
    "\n",
    "frames[0].save(\"nerves_colombia.gif\", save_all=True, append_images=frames[1:], duration=100, loop=0)\n"
   ]
  },
  {
   "cell_type": "code",
   "execution_count": 84,
   "id": "94fc8ff8",
   "metadata": {},
   "outputs": [
    {
     "name": "stderr",
     "output_type": "stream",
     "text": [
      "\n",
      "[notice] A new release of pip is available: 24.3.1 -> 25.1.1\n",
      "[notice] To update, run: C:\\Users\\EdsonAlvarez\\AppData\\Local\\Programs\\Python\\Python313\\python.exe -m pip install --upgrade pip\n"
     ]
    }
   ],
   "source": [
    "!pip install gudhi --quiet\n"
   ]
  },
  {
   "cell_type": "code",
   "execution_count": 85,
   "id": "bb2d82bd",
   "metadata": {},
   "outputs": [
    {
     "ename": "ModuleNotFoundError",
     "evalue": "No module named 'gudhi'",
     "output_type": "error",
     "traceback": [
      "\u001b[1;31m---------------------------------------------------------------------------\u001b[0m",
      "\u001b[1;31mModuleNotFoundError\u001b[0m                       Traceback (most recent call last)",
      "Cell \u001b[1;32mIn[85], line 1\u001b[0m\n\u001b[1;32m----> 1\u001b[0m \u001b[38;5;28;01mimport\u001b[39;00m \u001b[38;5;21;01mgudhi\u001b[39;00m \u001b[38;5;28;01mas\u001b[39;00m \u001b[38;5;21;01mgd\u001b[39;00m\n\u001b[0;32m      2\u001b[0m \u001b[38;5;28;01mimport\u001b[39;00m \u001b[38;5;21;01mnumpy\u001b[39;00m \u001b[38;5;28;01mas\u001b[39;00m \u001b[38;5;21;01mnp\u001b[39;00m\n\u001b[0;32m      3\u001b[0m \u001b[38;5;28;01mimport\u001b[39;00m \u001b[38;5;21;01mmatplotlib\u001b[39;00m\u001b[38;5;21;01m.\u001b[39;00m\u001b[38;5;21;01mpyplot\u001b[39;00m \u001b[38;5;28;01mas\u001b[39;00m \u001b[38;5;21;01mplt\u001b[39;00m\n",
      "\u001b[1;31mModuleNotFoundError\u001b[0m: No module named 'gudhi'"
     ]
    }
   ],
   "source": [
    "import gudhi as gd\n",
    "import numpy as np\n",
    "import matplotlib.pyplot as plt\n",
    "\n",
    "# Usamos tus datos PCA 2D\n",
    "points = df_pca_result[[\"PC1\", \"PC2\", \"ID\"]].copy().reset_index(drop=True)\n",
    "X = points[[\"PC1\", \"PC2\"]].values\n",
    "\n",
    "# Crear complejo de Vietoris-Rips con un máximo de distancia (ajusta según tus datos)\n",
    "max_edge_length = 5.0  # Puedes ajustar este parámetro para incluir más conexiones\n",
    "\n",
    "rips_complex = gd.RipsComplex(points=X, max_edge_length=max_edge_length)\n",
    "\n",
    "# Construir la estructura simplicial con dimensión máxima 2\n",
    "simplex_tree = rips_complex.create_simplex_tree(max_dimension=2)\n",
    "\n",
    "# Calcular la homología persistente\n",
    "diag = simplex_tree.persistence()\n",
    "\n",
    "# Mostrar el diagrama de persistencia\n",
    "gd.plot_persistence_diagram(diag)\n",
    "plt.title(\"Diagrama de Persistencia (PCA 2D)\")\n",
    "plt.show()\n"
   ]
  },
  {
   "cell_type": "code",
   "execution_count": 15,
   "id": "4f097ec6",
   "metadata": {},
   "outputs": [],
   "source": [
    "import pandas as pd\n",
    "import sqlite3\n",
    "import plotly.express as px\n",
    "from datetime import datetime\n",
    "import matplotlib.pyplot as plt\n",
    "\n",
    "df_fechas[\"Date\"] = pd.to_datetime(df_fechas[\"Date\"])\n",
    "\n",
    "# Filtrar solo entre mayo y agosto 2025\n",
    "inicio = pd.to_datetime(\"2025-05-25\")\n",
    "fin = pd.to_datetime(\"2025-08-1\")\n",
    "df_fechas_filtrado = df_fechas[(df_fechas[\"Date\"] >= inicio) & (df_fechas[\"Date\"] <= fin)]\n",
    "\n",
    "# Crear gráfico\n",
    "fig = px.line(\n",
    "    df_fechas_filtrado,\n",
    "    x=\"Date\",\n",
    "    y=\"Value\",\n",
    "    color=\"ID\",\n",
    "    title=\"Valores por fecha (mayo a agosto 2025)\"\n",
    ")\n",
    "\n",
    "fig.update_layout(\n",
    "    xaxis_title=\"Date\",\n",
    "    yaxis_title=\"Value\",\n",
    "    legend_title=\"ID\"\n",
    ")\n",
    "fig.show(renderer=\"browser\")\n",
    "\n"
   ]
  },
  {
   "cell_type": "code",
   "execution_count": null,
   "id": "85efc879",
   "metadata": {},
   "outputs": [],
   "source": [
    "from sklearn.preprocessing import PCA"
   ]
  }
 ],
 "metadata": {
  "kernelspec": {
   "display_name": "Python 3",
   "language": "python",
   "name": "python3"
  },
  "language_info": {
   "codemirror_mode": {
    "name": "ipython",
    "version": 3
   },
   "file_extension": ".py",
   "mimetype": "text/x-python",
   "name": "python",
   "nbconvert_exporter": "python",
   "pygments_lexer": "ipython3",
   "version": "3.12.4"
  }
 },
 "nbformat": 4,
 "nbformat_minor": 5
}
