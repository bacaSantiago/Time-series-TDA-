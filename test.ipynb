{
 "cells": [
  {
   "cell_type": "code",
   "execution_count": 31,
   "id": "23b91b27",
   "metadata": {},
   "outputs": [],
   "source": [
    "import dash\n",
    "import dash_bootstrap_components as dbc\n",
    "from dash import html, dcc\n",
    "import sqlite3\n",
    "import pandas as pd\n",
    "import plotly.express as px\n",
    "import numpy as np\n",
    "import plotly.graph_objects as go\n",
    "import scipy.stats as stats\n",
    "import plotly.express as px\n",
    "\n",
    "_conn = sqlite3.connect(\"airbnb_cartagena.sqlite\")\n",
    "df_attr = pd.read_sql_query(\"SELECT * FROM Attributes\", _conn, dtype={\"ID\": str})\n",
    "df_ts = pd.read_sql_query(\"SELECT * FROM TimeSeriesRaw\", _conn, dtype={\"ID\": str})\n",
    "df_ts_interp = pd.read_sql_query(\"SELECT * FROM TimeSeriesInterpolated\", _conn, dtype={\"ID\": str})\n",
    "_conn.close()"
   ]
  },
  {
   "cell_type": "code",
   "execution_count": 52,
   "id": "a923aae7",
   "metadata": {},
   "outputs": [],
   "source": [
    "red = \"#7e0d24\""
   ]
  }
 ],
 "metadata": {
  "kernelspec": {
   "display_name": "global_env",
   "language": "python",
   "name": "python3"
  },
  "language_info": {
   "codemirror_mode": {
    "name": "ipython",
    "version": 3
   },
   "file_extension": ".py",
   "mimetype": "text/x-python",
   "name": "python",
   "nbconvert_exporter": "python",
   "pygments_lexer": "ipython3",
   "version": "3.11.8"
  }
 },
 "nbformat": 4,
 "nbformat_minor": 5
}
