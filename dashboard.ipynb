{
 "cells": [
  {
   "cell_type": "code",
   "execution_count": 3,
   "id": "9ce678d2",
   "metadata": {},
   "outputs": [
    {
     "name": "stderr",
     "output_type": "stream",
     "text": [
      "2025-06-06 20:38:11.426 WARNING streamlit.runtime.scriptrunner_utils.script_run_context: Thread 'MainThread': missing ScriptRunContext! This warning can be ignored when running in bare mode.\n",
      "2025-06-06 20:38:11.470 \n",
      "  \u001b[33m\u001b[1mWarning:\u001b[0m to view this Streamlit app on a browser, run it with the following\n",
      "  command:\n",
      "\n",
      "    streamlit run /Users/sbaca/micromamba/envs/global_env/lib/python3.11/site-packages/ipykernel_launcher.py [ARGUMENTS]\n",
      "2025-06-06 20:38:11.471 Thread 'MainThread': missing ScriptRunContext! This warning can be ignored when running in bare mode.\n",
      "2025-06-06 20:38:11.472 Thread 'MainThread': missing ScriptRunContext! This warning can be ignored when running in bare mode.\n",
      "2025-06-06 20:38:11.473 Thread 'MainThread': missing ScriptRunContext! This warning can be ignored when running in bare mode.\n",
      "2025-06-06 20:38:11.473 Thread 'MainThread': missing ScriptRunContext! This warning can be ignored when running in bare mode.\n",
      "2025-06-06 20:38:11.474 Thread 'MainThread': missing ScriptRunContext! This warning can be ignored when running in bare mode.\n",
      "2025-06-06 20:38:11.474 Thread 'MainThread': missing ScriptRunContext! This warning can be ignored when running in bare mode.\n",
      "2025-06-06 20:38:11.476 Thread 'MainThread': missing ScriptRunContext! This warning can be ignored when running in bare mode.\n",
      "2025-06-06 20:38:11.477 Thread 'MainThread': missing ScriptRunContext! This warning can be ignored when running in bare mode.\n",
      "2025-06-06 20:38:11.478 Thread 'MainThread': missing ScriptRunContext! This warning can be ignored when running in bare mode.\n",
      "2025-06-06 20:38:11.479 Thread 'MainThread': missing ScriptRunContext! This warning can be ignored when running in bare mode.\n",
      "2025-06-06 20:38:11.480 Thread 'MainThread': missing ScriptRunContext! This warning can be ignored when running in bare mode.\n",
      "2025-06-06 20:38:11.481 Thread 'MainThread': missing ScriptRunContext! This warning can be ignored when running in bare mode.\n",
      "2025-06-06 20:38:11.482 Thread 'MainThread': missing ScriptRunContext! This warning can be ignored when running in bare mode.\n",
      "2025-06-06 20:38:11.484 Thread 'MainThread': missing ScriptRunContext! This warning can be ignored when running in bare mode.\n",
      "2025-06-06 20:38:11.485 Thread 'MainThread': missing ScriptRunContext! This warning can be ignored when running in bare mode.\n",
      "2025-06-06 20:38:11.485 Thread 'MainThread': missing ScriptRunContext! This warning can be ignored when running in bare mode.\n",
      "2025-06-06 20:38:11.485 Thread 'MainThread': missing ScriptRunContext! This warning can be ignored when running in bare mode.\n",
      "2025-06-06 20:38:11.486 Thread 'MainThread': missing ScriptRunContext! This warning can be ignored when running in bare mode.\n",
      "2025-06-06 20:38:11.486 Thread 'MainThread': missing ScriptRunContext! This warning can be ignored when running in bare mode.\n",
      "2025-06-06 20:38:11.486 Thread 'MainThread': missing ScriptRunContext! This warning can be ignored when running in bare mode.\n",
      "2025-06-06 20:38:11.487 Thread 'MainThread': missing ScriptRunContext! This warning can be ignored when running in bare mode.\n",
      "2025-06-06 20:38:11.488 Thread 'MainThread': missing ScriptRunContext! This warning can be ignored when running in bare mode.\n",
      "2025-06-06 20:38:11.489 Thread 'MainThread': missing ScriptRunContext! This warning can be ignored when running in bare mode.\n",
      "2025-06-06 20:38:11.489 Thread 'MainThread': missing ScriptRunContext! This warning can be ignored when running in bare mode.\n"
     ]
    },
    {
     "data": {
      "text/plain": [
       "DeltaGenerator()"
      ]
     },
     "execution_count": 3,
     "metadata": {},
     "output_type": "execute_result"
    }
   ],
   "source": [
    "import streamlit as st\n",
    "\n",
    "# Branding (acts like a header)\n",
    "st.markdown(\n",
    "    \"\"\"\n",
    "    <h1 style='text-align: center; color: white; background-color:#0d6efd; padding: 15px; border-radius: 5px;'>\n",
    "        Project: Analysis of Morbidity Patterns and Use of Services in the IMSS\n",
    "    </h1>\n",
    "    \"\"\",\n",
    "    unsafe_allow_html=True\n",
    ")\n",
    "\n",
    "# Tabs\n",
    "tab1, tab2, tab3, tab4 = st.tabs([\"EDA\", \"Statistical Tests\", \"Clustering\", \"Classification\"])\n",
    "\n",
    "with tab1:\n",
    "    st.header(\"Exploratory Data Analysis\")\n",
    "    st.write(\"Visualizations and summaries go here.\")\n",
    "\n",
    "with tab2:\n",
    "    st.header(\"Statistical Tests\")\n",
    "    st.write(\"Tests and outputs here.\")\n",
    "\n",
    "with tab3:\n",
    "    st.header(\"Clustering\")\n",
    "    st.write(\"Clustering results and plots.\")\n",
    "\n",
    "with tab4:\n",
    "    st.header(\"Classification\")\n",
    "    st.write(\"ML model results and performance.\")\n",
    "\n",
    "# Footer\n",
    "st.markdown(\n",
    "    \"\"\"\n",
    "    <hr>\n",
    "    <p style='text-align: center; color: gray;'>\n",
    "        © 2025 IMSS Data Science Project | Built with Streamlit\n",
    "    </p>\n",
    "    \"\"\",\n",
    "    unsafe_allow_html=True\n",
    ")"
   ]
  }
 ],
 "metadata": {
  "kernelspec": {
   "display_name": "global_env",
   "language": "python",
   "name": "python3"
  },
  "language_info": {
   "codemirror_mode": {
    "name": "ipython",
    "version": 3
   },
   "file_extension": ".py",
   "mimetype": "text/x-python",
   "name": "python",
   "nbconvert_exporter": "python",
   "pygments_lexer": "ipython3",
   "version": "3.11.8"
  }
 },
 "nbformat": 4,
 "nbformat_minor": 5
}
