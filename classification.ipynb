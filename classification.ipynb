{
 "cells": [
  {
   "cell_type": "code",
   "execution_count": 3,
   "id": "23b91b27",
   "metadata": {},
   "outputs": [],
   "source": [
    "import dash\n",
    "import dash_bootstrap_components as dbc\n",
    "from dash import html, dcc, dash_table\n",
    "import sqlite3\n",
    "import pandas as pd\n",
    "import plotly.express as px\n",
    "import numpy as np\n",
    "import plotly.graph_objects as go\n",
    "import scipy.stats as stats\n",
    "import plotly.express as px\n",
    "import re\n",
    "import random\n",
    "from sklearn.preprocessing import StandardScaler\n",
    "from sklearn.decomposition import PCA\n",
    "from sklearn.cluster import KMeans, AgglomerativeClustering\n",
    "import plotly.figure_factory as ff\n",
    "from sklearn.linear_model import LinearRegression\n",
    "from sklearn.feature_selection import VarianceThreshold\n",
    "from scipy.spatial.distance import pdist, squareform\n",
    "import umap\n",
    "\n",
    "import warnings\n",
    "warnings.filterwarnings(\"ignore\", category=RuntimeWarning)\n",
    "warnings.filterwarnings(\"ignore\", category=DeprecationWarning)\n",
    "warnings.filterwarnings(\"ignore\", category=UserWarning)\n",
    "warnings.filterwarnings(\"ignore\", category=FutureWarning)\n",
    "\n",
    "_conn = sqlite3.connect(\"airbnb_cartagena.sqlite\")\n",
    "df_attr = pd.read_sql_query(\"SELECT * FROM Attributes\", _conn, dtype={\"ID\": str})\n",
    "df_ts = pd.read_sql_query(\"SELECT * FROM TimeSeriesRaw\", _conn, dtype={\"ID\": str})\n",
    "df_ts_interp = pd.read_sql_query(\"SELECT * FROM TimeSeriesInterpolated\", _conn, dtype={\"ID\": str})\n",
    "_conn.close()\n",
    "\n",
    "red = \"#7e0d24\"  # dark red color for plots\n",
    "dates = [col for col in df_ts.columns if re.fullmatch(r\"\\d{1,2}/\\d{1,2}/\\d{4}\", col)]\n",
    "df_ts_interp = df_ts_interp.dropna(subset=dates, how=\"any\").reset_index(drop=True)"
   ]
  },
  {
   "cell_type": "code",
   "execution_count": 5,
   "id": "011daf93",
   "metadata": {},
   "outputs": [],
   "source": [
    "def build_umap_and_distances():\n",
    "    # Drop some columns that are not needed\n",
    "    df_temp = df_attr.copy()\n",
    "    \"\"\"\n",
    "    df_temp=df_temp[[\n",
    "    'Name', 'Host', 'Base fee', 'Cleaning fee', 'URL', 'ID', 'latitude',\n",
    "    'longitude', 'Property type', 'Person capacity', 'accuracy_rating',\n",
    "    'checking_rating', 'cleanliness_rating', 'communication_rating',\n",
    "    'location_rating', 'value_rating', 'satisfaction_rating', 'Reviews',\n",
    "    'Bedrooms', 'Beds', 'Baths', 'City skyline view', 'Beach view',\n",
    "    'Sea/Lake view', 'Hot water', 'Jacuzzi', 'Shared pool', 'Shared gym',\n",
    "    'Patio or balcony', 'Outdoor furniture', 'Outdoor playground',\n",
    "    'Elevator', 'Carport', 'Dedicated workspace', 'AC', 'Heating', 'TV',\n",
    "    'Cable TV', 'Wifi', 'Laundry service', 'Kitchen', 'Dining table',\n",
    "    'Microwave', 'Dishes and silverware', 'Refrigerator', 'Stove', 'Keypad',\n",
    "    'Washer', 'Pets allowed', 'Crib', 'Security cameras', 'Lock on door']]\n",
    "    to_keep = [\n",
    "        \"Keypad\", \"Lock on door\", \"Smoke detector\", \"Security cameras\", \"AC\", \"Heating\", \n",
    "        \"Patio or balcony\", \"Stove\", \"Elevator\", \"Refrigerator\", \"Kitchen\", \"Wifi\", \n",
    "        \"TV\", \"Jacuzzi\", \"Carport\", \"Hot water\", \n",
    "    ]\n",
    "    df_temp = df_temp[[\"ID\", \"Base fee\"] + to_keep]\n",
    "    \"\"\"\n",
    "    df_temp = df_temp.iloc[:, :21]\n",
    "\n",
    "    # Melt time series data to long format\n",
    "    df_prices = (\n",
    "        df_ts_interp.copy()\n",
    "        .melt(id_vars=\"ID\", value_vars=dates, var_name=\"Date\", value_name=\"Value\")\n",
    "        .assign(Date=lambda d: pd.to_datetime(d[\"Date\"], dayfirst=True))\n",
    "    )\n",
    "\n",
    "    # Summarize per‐listing log‐price mean, std, and trend\n",
    "    def summarize(group):\n",
    "        #y = np.log1p(group[\"Value\"].replace(0, np.nan))  # Avoid log(0)\n",
    "        y = np.log1p(group[\"Value\"])\n",
    "        #y = group[\"Value\"]\n",
    "        days = (group[\"Date\"] - group[\"Date\"].min()).dt.days.values.reshape(-1,1)\n",
    "        lr = LinearRegression().fit(days, y) if len(np.unique(days))>1 else None\n",
    "        return pd.Series({\n",
    "            \"price_mean\": y.mean(),\n",
    "            \"price_std\":  y.std(),\n",
    "            \"price_trend\": lr.coef_[0] if lr else 0.0\n",
    "        })\n",
    "    df_price_summary = (\n",
    "        df_prices\n",
    "        .groupby(\"ID\", group_keys=False)\n",
    "        .apply(summarize)\n",
    "    )\n",
    "    df_merged = df_attr.merge(df_price_summary, on=\"ID\")\n",
    "\n",
    "    # Filter out near‐constant / low‐variance features\n",
    "    selector = VarianceThreshold(threshold=0.1)\n",
    "    X = selector.fit_transform(df_merged.select_dtypes(\"number\"))\n",
    "    to_keep = df_merged.select_dtypes(\"number\").columns[selector.get_support()]\n",
    "\n",
    "    # Drop highly correlated (>0.9)\n",
    "    df_reduced = pd.DataFrame(X, columns=to_keep)\n",
    "    corr = df_reduced.corr().abs()\n",
    "    upper = corr.where(np.triu(np.ones(corr.shape, dtype=bool), k=1))\n",
    "    to_drop = [c for c in upper.columns if (upper[c] > 0.9).any()]\n",
    "    df_space = df_reduced.drop(columns=to_drop)\n",
    "\n",
    "    # Scale + UMAP embedding\n",
    "    X_scaled = StandardScaler().fit_transform(df_space)\n",
    "    umap_proj = umap.UMAP(n_components=3, n_neighbors=30, min_dist=0.1, random_state=69).fit_transform(X_scaled)\n",
    "\n",
    "    # Build distance matrix and UMAP space DataFrame\n",
    "    df_space = df_merged.loc[df_space.index, ['ID','Base fee']].reset_index(drop=True)\n",
    "    df_space[['UMAP1','UMAP2','UMAP3']] = umap_proj\n",
    "    dist_matrix = squareform(pdist(df_space.drop(columns=[\"ID\", 'Base fee']).values, metric=\"euclidean\"))\n",
    "    df_dist = pd.DataFrame(dist_matrix, index=df_space['ID'], columns=df_space['ID'])\n",
    "    \n",
    "    return df_space, df_dist, dist_matrix, df_prices"
   ]
  },
  {
   "cell_type": "code",
   "execution_count": 7,
   "id": "b0fbe1c3",
   "metadata": {},
   "outputs": [],
   "source": [
    "df_space, df_dist, dist_matrix, df_prices = build_umap_and_distances()"
   ]
  },
  {
   "cell_type": "markdown",
   "id": "d08c1531",
   "metadata": {},
   "source": [
    "# Model 1"
   ]
  },
  {
   "cell_type": "code",
   "execution_count": null,
   "id": "8bea10cc",
   "metadata": {},
   "outputs": [
    {
     "name": "stdout",
     "output_type": "stream",
     "text": [
      "5-fold CV accuracy: [0.75  0.625 0.625 0.938 0.533]\n",
      "Mean CV accuracy: 0.694\n",
      "Fitting 5 folds for each of 243 candidates, totalling 1215 fits\n",
      "Best CV score: 0.812\n",
      "Best params:     {'clf__colsample_bytree': 0.7, 'clf__learning_rate': 0.05, 'clf__max_depth': 3, 'clf__n_estimators': 100, 'clf__subsample': 0.9}\n",
      "Hold-out accuracy: 0.95\n",
      "              precision    recall  f1-score   support\n",
      "\n",
      "        High       0.88      1.00      0.93         7\n",
      "         Low       1.00      1.00      1.00         7\n",
      "         Mid       1.00      0.83      0.91         6\n",
      "\n",
      "    accuracy                           0.95        20\n",
      "   macro avg       0.96      0.94      0.95        20\n",
      "weighted avg       0.96      0.95      0.95        20\n",
      "\n"
     ]
    }
   ],
   "source": [
    "import sqlite3, re\n",
    "import numpy as np, pandas as pd\n",
    "from sklearn.model_selection import train_test_split, StratifiedKFold, cross_val_score\n",
    "from sklearn.preprocessing import LabelEncoder, OneHotEncoder, StandardScaler\n",
    "from sklearn.impute import SimpleImputer\n",
    "from sklearn.compose import ColumnTransformer\n",
    "from sklearn.pipeline import Pipeline\n",
    "from xgboost import XGBClassifier\n",
    "import umap, gudhi as gd\n",
    "from scipy.spatial.distance import pdist, squareform\n",
    "from sklearn.metrics import classification_report, accuracy_score\n",
    "from sklearn.model_selection import GridSearchCV\n",
    "\n",
    "# 1) LOAD DATA FROM SQLITE\n",
    "_conn = sqlite3.connect(\"airbnb_cartagena.sqlite\")\n",
    "df_attr      = pd.read_sql(\"SELECT * FROM Attributes\", _conn, dtype={\"ID\": str})\n",
    "df_ts_interp = pd.read_sql(\"SELECT * FROM TimeSeriesInterpolated\", _conn, dtype={\"ID\": str})\n",
    "_conn.close()\n",
    "dates = [c for c in df_ts_interp.columns if re.fullmatch(r\"\\d{1,2}/\\d{1,2}/\\d{4}\", c)]\n",
    "df_ts_interp = df_ts_interp.dropna(subset=dates).reset_index(drop=True)\n",
    "df_attr = df_attr.set_index(\"ID\").reindex(df_ts_interp[\"ID\"].values).copy() # reindex attributes to match the time-series rows\n",
    "\n",
    "# 2) PRICE‐TIER TARGET\n",
    "df_attr[\"price_tier\"] = pd.qcut(df_attr[\"Base fee\"], 3, labels=[\"Low\",\"Mid\",\"High\"])\n",
    "\n",
    "# 3) TIME‐SERIES SUMMARY FEATURES\n",
    "def make_ts(df, dates):\n",
    "    rows = []\n",
    "    for vals in df[dates].values.astype(float):\n",
    "        y = np.log1p(vals)\n",
    "        d = np.arange(len(y))\n",
    "        coef = np.polyfit(d, y, 1)[0] if len(y)>1 else 0\n",
    "        s = pd.Series(y)\n",
    "        row = {\n",
    "            \"ts_mean\":  y.mean(),\n",
    "            \"ts_std\":   y.std(ddof=0),\n",
    "            \"ts_trend\": coef,\n",
    "            \"ts_spike\": (s.diff().abs()>0.1).sum() # type: ignore\n",
    "        }\n",
    "        for w in (7,14):\n",
    "            r = s.rolling(w, min_periods=1).agg([\"mean\",\"std\"]).iloc[-1]\n",
    "            row[f\"roll{w}_mean\"], row[f\"roll{w}_std\"] = r[\"mean\"], r[\"std\"]\n",
    "        rows.append(row)\n",
    "    return pd.DataFrame(rows, index=df[\"ID\"])\n",
    "df_ts_feats = make_ts(df_ts_interp, dates)\n",
    "\n",
    "# 4) UMAP “neighborhood” embedding on static + TS features\n",
    "static_num  = df_attr.select_dtypes(\"number\")\n",
    "static_bool = df_attr.select_dtypes(\"bool\").astype(int)\n",
    "X_umap       = pd.concat([static_num, static_bool, df_ts_feats], axis=1).fillna(0)\n",
    "proj         = umap.UMAP(n_components=2, random_state=42).fit_transform(X_umap)\n",
    "df_attr[\"UMAP1\"], df_attr[\"UMAP2\"] = proj[:,0], proj[:,1] # type: ignore\n",
    "\n",
    "# 5) Global TDA summaries on UMAP-distance matrix\n",
    "umap_coords = df_attr[[\"UMAP1\",\"UMAP2\"]].values\n",
    "dist_matrix = squareform(pdist(umap_coords, metric=\"euclidean\"))\n",
    "rips = gd.RipsComplex(distance_matrix=dist_matrix, # type: ignore\n",
    "                             max_edge_length=dist_matrix.max()) \n",
    "st = rips.create_simplex_tree(max_dimension=2)\n",
    "st.compute_persistence()\n",
    "pers = st.persistence()\n",
    "\n",
    "tda_feats = {\"H0_sum_life\":0.0, \"H1_sum_life\":0.0}\n",
    "for dim,(b,d) in pers:\n",
    "    life = (d if d!=float(\"inf\") else dist_matrix.max()) - b\n",
    "    if dim==0: tda_feats[\"H0_sum_life\"] += life\n",
    "    if dim==1: tda_feats[\"H1_sum_life\"] += life\n",
    "\n",
    "# broadcast across all listings\n",
    "df_tda_feats = pd.DataFrame([tda_feats]*len(df_attr),\n",
    "                            index=df_attr.index)\n",
    "\n",
    "# 6) Assemble everything\n",
    "df = df_attr.join(df_ts_feats).join(df_tda_feats)\n",
    "num_cols = df.select_dtypes(\"number\").columns\n",
    "df[num_cols] = df[num_cols].fillna(0)\n",
    "y        = df[\"price_tier\"]\n",
    "X_static = df[[\"Cleaning fee\",\"Bedrooms\",\"Baths\",\"UMAP1\",\"UMAP2\"]]\n",
    "X_ts     = df_ts_feats\n",
    "X_tda    = df_tda_feats\n",
    "X_amen   = df.select_dtypes(\"bool\").astype(int)\n",
    "\n",
    "# 7) Pipeline + model\n",
    "pre = ColumnTransformer([\n",
    "    (\"num\",  Pipeline([(\"impute\",SimpleImputer()),(\"scale\",StandardScaler())]),\n",
    "     list(X_static)+list(X_ts)+list(X_tda)),\n",
    "    (\"amen\", OneHotEncoder(drop=\"first\"), X_amen.columns.tolist())\n",
    "])\n",
    "model = Pipeline([\n",
    "    (\"prep\", pre),\n",
    "    (\"clf\",  XGBClassifier(\n",
    "        n_estimators=200, max_depth=4, learning_rate=0.05,\n",
    "        use_label_encoder=False, eval_metric=\"mlogloss\", random_state=0\n",
    "    ))\n",
    "])\n",
    "le    = LabelEncoder()\n",
    "y_enc = le.fit_transform(y)\n",
    "\n",
    "# 8) 5‐fold CV\n",
    "cv     = StratifiedKFold(n_splits=5, shuffle=True, random_state=0)\n",
    "X_all  = pd.concat([X_static, X_ts, X_tda, X_amen], axis=1)\n",
    "scores = cross_val_score(model, X_all, y_enc, cv=cv, scoring=\"accuracy\")\n",
    "print(\"5-fold CV accuracy:\", np.round(scores,3))\n",
    "print(\"Mean CV accuracy:\", np.round(scores.mean(),3))\n",
    "\n",
    "# 8) hyperparameter tuning with 5-fold CV\n",
    "param_grid = {\n",
    "    \"clf__n_estimators\":    [100, 200, 300],\n",
    "    \"clf__max_depth\":       [3, 4, 6],\n",
    "    \"clf__learning_rate\":   [0.01, 0.05, 0.1],\n",
    "    \"clf__subsample\":       [0.7, 0.9, 1.0],\n",
    "    \"clf__colsample_bytree\":[0.7, 0.9, 1.0],\n",
    "}\n",
    "grid = GridSearchCV(\n",
    "    model,\n",
    "    param_grid,\n",
    "    cv=StratifiedKFold(n_splits=5, shuffle=True, random_state=69),\n",
    "    scoring=\"accuracy\",\n",
    "    n_jobs=-1,\n",
    "    verbose=1,\n",
    ")\n",
    "\n",
    "grid.fit(X_all, y_enc)\n",
    "\n",
    "print(\"Best CV score:\", round(grid.best_score_, 3))\n",
    "print(\"Best params:    \", grid.best_params_)\n",
    "\n",
    "# 9) Evaluate tuned model on hold-out split\n",
    "X_tr, X_te, y_tr, y_te = train_test_split(\n",
    "    X_all, y_enc, stratify=y_enc, test_size=0.25, random_state=69\n",
    ")\n",
    "\n",
    "best_model = grid.best_estimator_\n",
    "best_model.fit(X_tr, y_tr)\n",
    "y_pr = best_model.predict(X_te)\n",
    "\n",
    "print(\"Hold-out accuracy:\", round(accuracy_score(y_te, y_pr), 3))\n",
    "print(classification_report(\n",
    "    le.inverse_transform(y_te),\n",
    "    le.inverse_transform(y_pr),\n",
    "    target_names=le.classes_\n",
    "))\n"
   ]
  },
  {
   "cell_type": "code",
   "execution_count": null,
   "id": "337aa02c",
   "metadata": {},
   "outputs": [],
   "source": [
    "import pandas as pd\n",
    "import matplotlib.pyplot as plt\n",
    "from sklearn.metrics import (\n",
    "    classification_report,\n",
    "    confusion_matrix,\n",
    "    precision_recall_curve,\n",
    "    average_precision_score\n",
    ")\n",
    "\n",
    "# 10) Save the model and metrics\n",
    "y_pred = best_model.predict(X_te)\n",
    "y_score = best_model.predict_proba(X_te)\n",
    "report = classification_report(\n",
    "    le.inverse_transform(y_te),\n",
    "    le.inverse_transform(y_pred),\n",
    "    target_names=le.classes_,\n",
    "    output_dict=True\n",
    ")\n",
    "metrics_summary = {\n",
    "    \"Metric\": [\"Accuracy\", \"Precision\", \"Recall\", \"F1-score\"],\n",
    "    \"Value\": [\n",
    "        round(accuracy_score(y_te, y_pred), 3),\n",
    "        round(report[\"weighted avg\"][\"precision\"], 3), # type: ignore\n",
    "        round(report[\"weighted avg\"][\"recall\"], 3), # type: ignore\n",
    "        round(report[\"weighted avg\"][\"f1-score\"], 3) # type: ignore\n",
    "    ]\n",
    "}\n",
    "metrics_df = pd.DataFrame(metrics_summary)\n",
    "metrics_df.to_csv(\"models/model1/price_tier_metrics.csv\", index=False)\n",
    "\n",
    "# 11) Confusion matrix\n",
    "cm = confusion_matrix(y_te, y_pred)\n",
    "cm_df = pd.DataFrame(cm, index=le.classes_, columns=le.classes_)\n",
    "cm_df.to_csv(\"models/model1/price_tier_confusion_matrix.csv\")\n",
    "\n",
    "# 12) Precision-Recall curves\n",
    "pr_colors = [\"#d79c9c\", red, \"#c71a37\"]\n",
    "pr_traces = []\n",
    "for i, cls in enumerate(le.classes_):\n",
    "    p, r, _ = precision_recall_curve((y_te==i).astype(int), y_score[:,i])\n",
    "    ap = average_precision_score((y_te==i).astype(int), y_score[:,i])\n",
    "    pr_traces.append(\n",
    "        go.Scatter(\n",
    "            x=r,\n",
    "            y=p,\n",
    "            mode=\"lines\",\n",
    "            name=f\"{cls} (AP={ap:.2f})\",\n",
    "            line=dict(color=pr_colors[i % len(pr_colors)])\n",
    "        )\n",
    "    )\n",
    "pr_layout = go.Layout(\n",
    "    title=\"Precision–Recall Curves by Class\",\n",
    "    template=\"plotly_dark\",\n",
    "    xaxis_title=\"Recall\",\n",
    "    yaxis_title=\"Precision\",\n",
    "    legend=dict(bgcolor=\"rgba(0,0,0,0)\")\n",
    ")\n",
    "pr_fig = go.Figure(data=pr_traces, layout=pr_layout)\n",
    "pr_fig.write_json(\"models/model1/price_tier_pr_curves.json\")\n"
   ]
  },
  {
   "cell_type": "markdown",
   "id": "28fb04dc",
   "metadata": {},
   "source": [
    "# Model 3"
   ]
  },
  {
   "cell_type": "code",
   "execution_count": 4,
   "id": "6161b168",
   "metadata": {},
   "outputs": [
    {
     "name": "stdout",
     "output_type": "stream",
     "text": [
      "Fitting 5 folds for each of 36 candidates, totalling 180 fits\n",
      "Best CV score: 0.962\n",
      "Best params:    {'log__clf__C': 1, 'rf__clf__max_depth': None, 'rf__clf__n_estimators': 100}\n",
      "\n",
      "=== Tuned Ensemble ===\n",
      "Test accuracy : 0.95\n",
      "              precision    recall  f1-score   support\n",
      "\n",
      "           0      0.909     0.909     0.909        11\n",
      "           1      0.966     0.966     0.966        29\n",
      "\n",
      "    accuracy                          0.950        40\n",
      "   macro avg      0.937     0.937     0.937        40\n",
      "weighted avg      0.950     0.950     0.950        40\n",
      "\n",
      "Confusion Matrix:\n",
      " [[10  1]\n",
      " [ 1 28]]\n"
     ]
    }
   ],
   "source": [
    "import sqlite3, re\n",
    "import numpy as np\n",
    "import pandas as pd\n",
    "from sklearn.model_selection import train_test_split, StratifiedKFold, cross_val_score\n",
    "from sklearn.preprocessing import LabelEncoder, OneHotEncoder, StandardScaler\n",
    "from sklearn.impute import SimpleImputer\n",
    "from sklearn.compose import ColumnTransformer\n",
    "from sklearn.pipeline import Pipeline\n",
    "from sklearn.linear_model import LogisticRegression\n",
    "from sklearn.ensemble import RandomForestClassifier\n",
    "from sklearn.metrics import classification_report, confusion_matrix, accuracy_score\n",
    "import umap, gudhi as gd\n",
    "from sklearn.ensemble import VotingClassifier\n",
    "from sklearn.model_selection import GridSearchCV\n",
    "\n",
    "# 1) LOAD DATA FROM SQLITE\n",
    "_conn = sqlite3.connect(\"airbnb_cartagena.sqlite\")\n",
    "df_attr       = pd.read_sql(\"SELECT * FROM Attributes\", _conn, dtype={\"ID\": str})\n",
    "df_ts_interp  = pd.read_sql(\"SELECT * FROM TimeSeriesInterpolated\", _conn, dtype={\"ID\": str})\n",
    "_conn.close()\n",
    "dates = [c for c in df_ts_interp.columns if re.fullmatch(r\"\\d{1,2}/\\d{1,2}/\\d{4}\", c)]\n",
    "df_ts_interp = df_ts_interp.dropna(subset=dates).reset_index(drop=True)\n",
    "df_attr      = df_attr.set_index(\"ID\").reindex(df_ts_interp[\"ID\"]).reset_index()\n",
    "\n",
    "# 2) TARGET: average of all *_rating ≥4.8\n",
    "rating_cols = [c for c in df_attr.columns if c.endswith(\"_rating\")]\n",
    "df_attr[\"is_superhost\"] = (df_attr[rating_cols].mean(axis=1) >= 4.8).astype(int)\n",
    "\n",
    "# 3) TIME‐SERIES SUMMARY FEATURES\n",
    "def make_ts(df, dates):\n",
    "    rows = []\n",
    "    for vals in df[dates].values.astype(float):\n",
    "        y = np.log1p(vals)\n",
    "        d = np.arange(len(y))\n",
    "        coef = np.polyfit(d, y, 1)[0] if len(y)>1 else 0\n",
    "        s = pd.Series(y)\n",
    "        r7  = s.rolling(7, 1).agg([\"mean\",\"std\"]).iloc[-1]\n",
    "        r14 = s.rolling(14,1).agg([\"mean\",\"std\"]).iloc[-1]\n",
    "        rows.append({\n",
    "            \"ts_mean\": y.mean(), \"ts_std\": y.std(ddof=0), \"ts_trend\": coef,\n",
    "            \"roll7_mean\": r7[\"mean\"], \"roll7_std\": r7[\"std\"],\n",
    "            \"roll14_mean\": r14[\"mean\"], \"roll14_std\": r14[\"std\"],\n",
    "            \"ts_spikes\": (s.diff().abs()>0.1).sum()\n",
    "        })\n",
    "    return pd.DataFrame(rows, index=df[\"ID\"])\n",
    "df_ts_feats = make_ts(df_ts_interp, dates)\n",
    "df_ts_feats.index = df_attr.index\n",
    "\n",
    "# 4) UMAP on static + ts\n",
    "static_num  = df_attr.select_dtypes(include=\"number\").drop(columns=[\"is_superhost\"])\n",
    "static_bool = df_attr.select_dtypes(include=\"bool\").astype(int)\n",
    "X_umap      = pd.concat([static_num, static_bool, df_ts_feats], axis=1).fillna(0)\n",
    "proj        = umap.UMAP(n_components=2, random_state=69).fit_transform(X_umap)\n",
    "df_attr[\"UMAP1\"], df_attr[\"UMAP2\"] = proj[:,0], proj[:,1] # type: ignore\n",
    "\n",
    "# 5) TDA on price volatility window=14\n",
    "def make_tda(df, dates, w=14):\n",
    "    rows=[]\n",
    "    for vals in df[dates].values.astype(float):\n",
    "        N = len(vals)-w+1\n",
    "        cloud = np.stack([vals[i:i+w] for i in range(N)])\n",
    "        st = gd.RipsComplex(points=cloud, max_edge_length=vals.ptp()) \\\n",
    "               .create_simplex_tree(max_dimension=2)\n",
    "        st.compute_persistence()\n",
    "        h0,h1 = [],[]\n",
    "        for dim,(b,e) in st.persistence():\n",
    "            life = ((e if e != np.inf else vals.ptp()) - b)\n",
    "            (h0 if dim==0 else h1).append(life)\n",
    "        rows.append({\n",
    "            \"H0_max\": max(h0, default=0), \"H0_sum\": sum(h0),\n",
    "            \"H1_max\": max(h1, default=0), \"H1_sum\": sum(h1), \"H1_cnt\": len(h1)\n",
    "        })\n",
    "    return pd.DataFrame(rows, index=df[\"ID\"])\n",
    "\n",
    "df_tda_feats = make_tda(df_ts_interp, dates)\n",
    "\n",
    "# 6) ASSEMBLE\n",
    "df = df_attr.set_index(\"ID\") \\\n",
    "    .join(df_ts_feats).join(df_tda_feats) \\\n",
    "    .fillna(0)\n",
    "y = df[\"is_superhost\"]\n",
    "X_num  = df.select_dtypes(include=\"number\").drop(columns=[\"is_superhost\"])\n",
    "X_amen = df.select_dtypes(include=\"bool\").astype(int)\n",
    "X_all  = pd.concat([X_num, X_amen], axis=1)\n",
    "\n",
    "# 7) SPLIT\n",
    "X_tr, X_te, y_tr, y_te = train_test_split(\n",
    "    X_all, y, stratify=y, test_size=0.5, random_state=69)\n",
    "\n",
    "# 8) PREPROCESSOR\n",
    "pre = ColumnTransformer([\n",
    "    (\"num\", Pipeline([(\"impute\",SimpleImputer()),(\"scale\",StandardScaler())]),\n",
    "     X_num.columns),\n",
    "    (\"amen\", OneHotEncoder(drop=\"first\"), X_amen.columns)\n",
    "])\n",
    "\n",
    "# 9) Define ensemble\n",
    "ensemble = VotingClassifier(\n",
    "    estimators=[\n",
    "        (\"log\", Pipeline([(\"prep\", pre),\n",
    "                          (\"clf\", LogisticRegression(penalty=\"l1\", solver=\"saga\",\n",
    "                                                     max_iter=2000))])),\n",
    "        (\"rf\",  Pipeline([(\"prep\", pre),\n",
    "                          (\"clf\", RandomForestClassifier(random_state=69))]))\n",
    "    ],\n",
    "    voting=\"soft\"\n",
    ")\n",
    "\n",
    "# 10) Hyperparameter tunning with 5-fold CV\n",
    "param_grid = {\n",
    "    \"log__clf__C\": [0.01, 0.1, 1, 10],\n",
    "    \"rf__clf__n_estimators\": [100, 200, 500],\n",
    "    \"rf__clf__max_depth\": [None, 5, 10],\n",
    "}\n",
    "grid = GridSearchCV(\n",
    "    ensemble,\n",
    "    param_grid,\n",
    "    cv=StratifiedKFold(5, shuffle=True, random_state=69),\n",
    "    scoring=\"accuracy\",\n",
    "    n_jobs=-1,\n",
    "    verbose=1\n",
    ")\n",
    "grid.fit(X_all, y)\n",
    "print(\"Best CV score:\", round(grid.best_score_, 3))\n",
    "print(\"Best params:   \", grid.best_params_)\n",
    "\n",
    "# 12) Evaluate on hold-out\n",
    "best = grid.best_estimator_\n",
    "best.fit(X_tr, y_tr)\n",
    "y_pr = best.predict(X_te)\n",
    "print(\"\\n=== Tuned Ensemble ===\")\n",
    "print(\"Test accuracy :\", round(accuracy_score(y_te, y_pr), 3))\n",
    "print(classification_report(y_te, y_pr, digits=3))\n",
    "print(\"Confusion Matrix:\\n\", confusion_matrix(y_te, y_pr))\n"
   ]
  },
  {
   "cell_type": "code",
   "execution_count": 27,
   "id": "f842440b",
   "metadata": {},
   "outputs": [],
   "source": [
    "import pandas as pd\n",
    "import plotly.express as px\n",
    "from sklearn.metrics import classification_report, confusion_matrix, accuracy_score\n",
    "from sklearn.metrics import roc_curve, auc\n",
    "import plotly.graph_objs as go\n",
    "\n",
    "# 13) Save the model and metrics\n",
    "y_pred = best.predict(X_te)\n",
    "acc    = accuracy_score(y_te, y_pred)\n",
    "class_names = [\"Not Superhost\", \"Superhost\"]\n",
    "report = classification_report(\n",
    "    y_te,\n",
    "    y_pred,\n",
    "    target_names=class_names,\n",
    "    output_dict=True\n",
    ")\n",
    "metrics_summary = {\n",
    "    \"Metric\": [\"Accuracy\", \"Precision\", \"Recall\", \"F1-score\"],\n",
    "    \"Value\": [\n",
    "        round(acc, 3),\n",
    "        round(report[\"weighted avg\"][\"precision\"], 3), # type: ignore\n",
    "        round(report[\"weighted avg\"][\"recall\"],    3), # type: ignore\n",
    "        round(report[\"weighted avg\"][\"f1-score\"],  3), # type: ignore\n",
    "    ]\n",
    "}\n",
    "metrics_df = pd.DataFrame(metrics_summary)\n",
    "metrics_df.to_csv(\"models/model2/metrics_summary.csv\", index=False)\n",
    "\n",
    "# 14) Confusion matrix\n",
    "cm    = confusion_matrix(y_te, y_pred)\n",
    "cm_df = pd.DataFrame(cm, index=class_names, columns=class_names)\n",
    "cm_df.to_csv(\"models/model2/confusion_matrix.csv\")\n",
    "\n",
    "# 15) Feature importances (from RF inside the ensemble)\n",
    "rf_pipeline = best.named_estimators_['rf']\n",
    "importances = rf_pipeline.named_steps['clf'].feature_importances_\n",
    "num_feats  = list(X_num.columns)\n",
    "amen_feats = list(X_amen.columns)\n",
    "all_feats  = num_feats + amen_feats\n",
    "fi_df = (\n",
    "    pd.DataFrame({\"feature\": all_feats, \"importance\": importances})\n",
    "      .sort_values(\"importance\", ascending=False)\n",
    ")\n",
    "#fi_df.to_csv(\"models/model2/feature_importances.csv\", index=False)\n",
    "# 16) Plot top 20 feature importances\n",
    "top_n = fi_df.head(20)\n",
    "fig   = px.bar(\n",
    "    top_n,\n",
    "    x=\"importance\",\n",
    "    y=\"feature\",\n",
    "    orientation=\"h\",\n",
    "    title=\"Top 20 Feature Importances (RF)\",\n",
    "    labels={\"importance\":\"Importance\", \"feature\":\"\"},\n",
    "    template=\"plotly_dark\",\n",
    "    color_discrete_sequence=[red]\n",
    ")\n",
    "fig.update_layout(yaxis=dict(autorange=\"reversed\"), height=600)\n",
    "fig.write_json(\"models/model2/feature_importances.json\")\n",
    "\n",
    "# 17) ROC curve for Superhost classification\n",
    "y_score = best.predict_proba(X_te)[:, 1]   # probability of class “1”\n",
    "y_true  = y_te                            # 0/1 labels\n",
    "fpr, tpr, _ = roc_curve(y_true, y_score)\n",
    "roc_auc     = auc(fpr, tpr)\n",
    "\n",
    "fig = go.Figure()\n",
    "fig.add_trace(go.Scatter(\n",
    "    x=fpr,\n",
    "    y=tpr,\n",
    "    mode=\"lines\",\n",
    "    name=f\"Superhost (AUC={roc_auc:.2f})\",\n",
    "    line=dict(color=red, width=3),\n",
    "    showlegend=False\n",
    "))\n",
    "fig.add_trace(go.Scatter(\n",
    "    x=[0, 1],\n",
    "    y=[0, 1],\n",
    "    mode=\"lines\",\n",
    "    line=dict(color=\"white\", width=1, dash=\"dash\"),\n",
    "    showlegend=False\n",
    "))\n",
    "fig.update_layout(\n",
    "    title=f\"ROC Curve (AUC = {roc_auc:.2f})\",\n",
    "    xaxis_title=\"False Positive Rate\",\n",
    "    yaxis_title=\"True Positive Rate\",\n",
    "    template=\"plotly_dark\",\n",
    "    legend=dict(bgcolor=\"rgba(0,0,0,0)\"),\n",
    "    height=400\n",
    ")\n",
    "fig.write_json(\"models/model2/roc_curve.json\")"
   ]
  },
  {
   "cell_type": "code",
   "execution_count": 34,
   "id": "7cbc61e8",
   "metadata": {},
   "outputs": [
    {
     "data": {
      "application/vnd.microsoft.datawrangler.viewer.v0+json": {
       "columns": [
        {
         "name": "index",
         "rawType": "int64",
         "type": "integer"
        },
        {
         "name": "City skyline view",
         "rawType": "int64",
         "type": "integer"
        },
        {
         "name": "Beach view",
         "rawType": "int64",
         "type": "integer"
        },
        {
         "name": "Sea/Lake view",
         "rawType": "int64",
         "type": "integer"
        },
        {
         "name": "Hot water",
         "rawType": "int64",
         "type": "integer"
        },
        {
         "name": "Jacuzzi",
         "rawType": "int64",
         "type": "integer"
        },
        {
         "name": "Shared pool",
         "rawType": "int64",
         "type": "integer"
        },
        {
         "name": "Shared gym",
         "rawType": "int64",
         "type": "integer"
        },
        {
         "name": "Patio or balcony",
         "rawType": "int64",
         "type": "integer"
        },
        {
         "name": "Outdoor furniture",
         "rawType": "int64",
         "type": "integer"
        },
        {
         "name": "Outdoor playground",
         "rawType": "int64",
         "type": "integer"
        },
        {
         "name": "Elevator",
         "rawType": "int64",
         "type": "integer"
        },
        {
         "name": "Carport",
         "rawType": "int64",
         "type": "integer"
        },
        {
         "name": "Dedicated workspace",
         "rawType": "int64",
         "type": "integer"
        },
        {
         "name": "AC",
         "rawType": "int64",
         "type": "integer"
        },
        {
         "name": "Heating",
         "rawType": "int64",
         "type": "integer"
        },
        {
         "name": "TV",
         "rawType": "int64",
         "type": "integer"
        },
        {
         "name": "Cable TV",
         "rawType": "int64",
         "type": "integer"
        },
        {
         "name": "Wifi",
         "rawType": "int64",
         "type": "integer"
        },
        {
         "name": "Laundry service",
         "rawType": "int64",
         "type": "integer"
        },
        {
         "name": "Kitchen",
         "rawType": "int64",
         "type": "integer"
        },
        {
         "name": "Dining table",
         "rawType": "int64",
         "type": "integer"
        },
        {
         "name": "Microwave",
         "rawType": "int64",
         "type": "integer"
        },
        {
         "name": "Dishes and silverware",
         "rawType": "int64",
         "type": "integer"
        },
        {
         "name": "Refrigerator",
         "rawType": "int64",
         "type": "integer"
        },
        {
         "name": "Stove",
         "rawType": "int64",
         "type": "integer"
        },
        {
         "name": "Coffee maker",
         "rawType": "int64",
         "type": "integer"
        },
        {
         "name": "Washer",
         "rawType": "int64",
         "type": "integer"
        },
        {
         "name": "Dryer",
         "rawType": "int64",
         "type": "integer"
        },
        {
         "name": "Sun loungers",
         "rawType": "int64",
         "type": "integer"
        },
        {
         "name": "Pets allowed",
         "rawType": "int64",
         "type": "integer"
        },
        {
         "name": "Babysitter recommendations",
         "rawType": "int64",
         "type": "integer"
        },
        {
         "name": "Crib",
         "rawType": "int64",
         "type": "integer"
        },
        {
         "name": "Room-darkening shades",
         "rawType": "int64",
         "type": "integer"
        },
        {
         "name": "Window guards",
         "rawType": "int64",
         "type": "integer"
        },
        {
         "name": "Security cameras",
         "rawType": "int64",
         "type": "integer"
        },
        {
         "name": "Lock on door",
         "rawType": "int64",
         "type": "integer"
        },
        {
         "name": "Keypad",
         "rawType": "int64",
         "type": "integer"
        },
        {
         "name": "Fire extinguisher",
         "rawType": "int64",
         "type": "integer"
        },
        {
         "name": "First aid kit",
         "rawType": "int64",
         "type": "integer"
        },
        {
         "name": "Smoke detector",
         "rawType": "int64",
         "type": "integer"
        },
        {
         "name": "Luggage dropoff",
         "rawType": "int64",
         "type": "integer"
        },
        {
         "name": "Self check-in",
         "rawType": "int64",
         "type": "integer"
        }
       ],
       "ref": "17299bd0-dc1e-445e-baa1-a0bfa68f94ee",
       "rows": [
        [
         "0",
         "1",
         "1",
         "1",
         "1",
         "1",
         "1",
         "1",
         "1",
         "1",
         "1",
         "1",
         "1",
         "1",
         "1",
         "1",
         "1",
         "1",
         "1",
         "1",
         "1",
         "1",
         "0",
         "1",
         "1",
         "1",
         "0",
         "1",
         "0",
         "1",
         "1",
         "1",
         "0",
         "1",
         "0",
         "1",
         "0",
         "0",
         "1",
         "1",
         "1",
         "1",
         "1"
        ],
        [
         "1",
         "0",
         "0",
         "0",
         "0",
         "1",
         "1",
         "1",
         "0",
         "0",
         "0",
         "1",
         "1",
         "1",
         "1",
         "0",
         "1",
         "0",
         "1",
         "0",
         "1",
         "0",
         "0",
         "0",
         "0",
         "0",
         "0",
         "1",
         "0",
         "0",
         "1",
         "0",
         "0",
         "0",
         "0",
         "0",
         "0",
         "0",
         "0",
         "0",
         "0",
         "0",
         "0"
        ],
        [
         "2",
         "0",
         "1",
         "1",
         "1",
         "1",
         "1",
         "1",
         "1",
         "1",
         "1",
         "1",
         "1",
         "1",
         "1",
         "1",
         "1",
         "1",
         "1",
         "1",
         "1",
         "1",
         "1",
         "1",
         "1",
         "0",
         "1",
         "1",
         "0",
         "1",
         "1",
         "0",
         "1",
         "1",
         "0",
         "1",
         "0",
         "0",
         "0",
         "1",
         "1",
         "1",
         "1"
        ],
        [
         "3",
         "1",
         "1",
         "1",
         "1",
         "1",
         "1",
         "1",
         "1",
         "1",
         "1",
         "1",
         "1",
         "1",
         "1",
         "1",
         "1",
         "1",
         "1",
         "1",
         "1",
         "0",
         "1",
         "1",
         "1",
         "1",
         "1",
         "1",
         "1",
         "1",
         "1",
         "1",
         "0",
         "1",
         "0",
         "1",
         "0",
         "0",
         "1",
         "1",
         "1",
         "1",
         "1"
        ],
        [
         "4",
         "0",
         "1",
         "1",
         "1",
         "1",
         "1",
         "1",
         "1",
         "1",
         "1",
         "1",
         "1",
         "1",
         "1",
         "1",
         "1",
         "1",
         "1",
         "1",
         "1",
         "0",
         "1",
         "1",
         "1",
         "1",
         "1",
         "1",
         "0",
         "1",
         "1",
         "1",
         "0",
         "1",
         "0",
         "1",
         "1",
         "0",
         "1",
         "1",
         "1",
         "1",
         "1"
        ],
        [
         "5",
         "0",
         "1",
         "0",
         "1",
         "1",
         "1",
         "0",
         "1",
         "1",
         "0",
         "1",
         "1",
         "1",
         "1",
         "0",
         "1",
         "0",
         "1",
         "0",
         "1",
         "0",
         "1",
         "1",
         "1",
         "1",
         "1",
         "1",
         "1",
         "0",
         "0",
         "0",
         "0",
         "1",
         "0",
         "0",
         "1",
         "0",
         "0",
         "1",
         "0",
         "1",
         "1"
        ],
        [
         "6",
         "0",
         "1",
         "1",
         "1",
         "1",
         "1",
         "1",
         "1",
         "1",
         "1",
         "1",
         "1",
         "0",
         "1",
         "1",
         "1",
         "1",
         "1",
         "1",
         "1",
         "1",
         "0",
         "1",
         "1",
         "1",
         "1",
         "1",
         "0",
         "1",
         "1",
         "0",
         "0",
         "1",
         "0",
         "1",
         "0",
         "0",
         "1",
         "1",
         "1",
         "0",
         "1"
        ],
        [
         "7",
         "0",
         "0",
         "0",
         "0",
         "0",
         "1",
         "0",
         "0",
         "1",
         "0",
         "0",
         "1",
         "1",
         "1",
         "0",
         "1",
         "0",
         "1",
         "0",
         "1",
         "0",
         "1",
         "1",
         "1",
         "1",
         "1",
         "1",
         "0",
         "0",
         "0",
         "0",
         "0",
         "0",
         "0",
         "0",
         "0",
         "0",
         "1",
         "1",
         "0",
         "0",
         "1"
        ],
        [
         "8",
         "0",
         "0",
         "1",
         "1",
         "1",
         "1",
         "0",
         "1",
         "1",
         "1",
         "1",
         "1",
         "1",
         "1",
         "0",
         "1",
         "1",
         "1",
         "1",
         "1",
         "1",
         "1",
         "1",
         "0",
         "1",
         "1",
         "1",
         "0",
         "1",
         "1",
         "0",
         "1",
         "1",
         "0",
         "0",
         "0",
         "0",
         "1",
         "1",
         "0",
         "1",
         "0"
        ],
        [
         "9",
         "1",
         "1",
         "1",
         "1",
         "1",
         "1",
         "1",
         "1",
         "1",
         "1",
         "1",
         "1",
         "1",
         "1",
         "0",
         "1",
         "0",
         "1",
         "0",
         "1",
         "1",
         "1",
         "1",
         "1",
         "1",
         "1",
         "1",
         "1",
         "1",
         "1",
         "0",
         "0",
         "1",
         "0",
         "0",
         "1",
         "0",
         "1",
         "0",
         "0",
         "0",
         "1"
        ],
        [
         "10",
         "0",
         "1",
         "1",
         "1",
         "1",
         "1",
         "1",
         "0",
         "1",
         "0",
         "1",
         "1",
         "0",
         "1",
         "1",
         "1",
         "1",
         "1",
         "0",
         "1",
         "0",
         "1",
         "1",
         "1",
         "1",
         "1",
         "0",
         "0",
         "1",
         "1",
         "0",
         "0",
         "1",
         "0",
         "0",
         "1",
         "0",
         "1",
         "1",
         "0",
         "0",
         "1"
        ],
        [
         "11",
         "1",
         "1",
         "1",
         "1",
         "1",
         "1",
         "1",
         "1",
         "1",
         "1",
         "1",
         "1",
         "1",
         "1",
         "0",
         "1",
         "1",
         "1",
         "1",
         "1",
         "1",
         "1",
         "1",
         "1",
         "1",
         "1",
         "1",
         "0",
         "1",
         "1",
         "0",
         "0",
         "1",
         "0",
         "1",
         "1",
         "0",
         "1",
         "1",
         "1",
         "1",
         "1"
        ],
        [
         "12",
         "0",
         "0",
         "0",
         "1",
         "1",
         "1",
         "1",
         "0",
         "1",
         "0",
         "0",
         "1",
         "1",
         "1",
         "0",
         "1",
         "0",
         "1",
         "0",
         "1",
         "1",
         "1",
         "1",
         "0",
         "1",
         "1",
         "1",
         "1",
         "1",
         "0",
         "0",
         "0",
         "1",
         "0",
         "0",
         "1",
         "0",
         "1",
         "1",
         "1",
         "0",
         "1"
        ],
        [
         "13",
         "0",
         "0",
         "0",
         "0",
         "0",
         "0",
         "0",
         "1",
         "0",
         "0",
         "1",
         "0",
         "1",
         "1",
         "0",
         "1",
         "0",
         "1",
         "0",
         "1",
         "1",
         "1",
         "1",
         "1",
         "1",
         "0",
         "1",
         "0",
         "0",
         "0",
         "0",
         "0",
         "1",
         "0",
         "0",
         "0",
         "0",
         "0",
         "0",
         "1",
         "1",
         "1"
        ],
        [
         "14",
         "0",
         "0",
         "0",
         "1",
         "0",
         "1",
         "1",
         "0",
         "0",
         "0",
         "0",
         "1",
         "0",
         "1",
         "0",
         "1",
         "1",
         "1",
         "0",
         "1",
         "0",
         "1",
         "1",
         "1",
         "1",
         "1",
         "1",
         "0",
         "0",
         "1",
         "0",
         "0",
         "1",
         "0",
         "1",
         "0",
         "0",
         "0",
         "0",
         "0",
         "0",
         "0"
        ],
        [
         "15",
         "0",
         "1",
         "0",
         "1",
         "1",
         "0",
         "0",
         "0",
         "0",
         "0",
         "0",
         "0",
         "1",
         "1",
         "0",
         "1",
         "0",
         "1",
         "0",
         "1",
         "0",
         "0",
         "0",
         "1",
         "0",
         "1",
         "1",
         "0",
         "0",
         "1",
         "0",
         "0",
         "1",
         "0",
         "1",
         "0",
         "0",
         "1",
         "1",
         "1",
         "0",
         "0"
        ],
        [
         "16",
         "0",
         "1",
         "0",
         "1",
         "1",
         "1",
         "0",
         "0",
         "0",
         "0",
         "0",
         "0",
         "0",
         "1",
         "1",
         "1",
         "0",
         "1",
         "0",
         "1",
         "0",
         "0",
         "1",
         "0",
         "0",
         "0",
         "1",
         "1",
         "0",
         "1",
         "0",
         "0",
         "1",
         "0",
         "0",
         "0",
         "0",
         "0",
         "0",
         "0",
         "0",
         "1"
        ],
        [
         "17",
         "0",
         "1",
         "0",
         "0",
         "1",
         "1",
         "1",
         "0",
         "0",
         "0",
         "0",
         "1",
         "0",
         "1",
         "0",
         "1",
         "0",
         "1",
         "0",
         "1",
         "0",
         "0",
         "0",
         "0",
         "0",
         "0",
         "1",
         "0",
         "1",
         "1",
         "0",
         "0",
         "1",
         "0",
         "0",
         "0",
         "0",
         "0",
         "0",
         "1",
         "0",
         "1"
        ],
        [
         "18",
         "0",
         "1",
         "1",
         "1",
         "1",
         "1",
         "1",
         "1",
         "1",
         "0",
         "1",
         "1",
         "1",
         "1",
         "1",
         "1",
         "1",
         "1",
         "0",
         "1",
         "1",
         "1",
         "1",
         "1",
         "1",
         "1",
         "1",
         "1",
         "1",
         "1",
         "0",
         "0",
         "1",
         "0",
         "0",
         "1",
         "0",
         "0",
         "0",
         "1",
         "0",
         "1"
        ],
        [
         "19",
         "0",
         "0",
         "0",
         "1",
         "1",
         "1",
         "1",
         "0",
         "1",
         "0",
         "1",
         "1",
         "1",
         "1",
         "1",
         "1",
         "0",
         "1",
         "0",
         "1",
         "0",
         "1",
         "1",
         "1",
         "1",
         "1",
         "1",
         "1",
         "0",
         "1",
         "0",
         "1",
         "1",
         "0",
         "0",
         "0",
         "0",
         "0",
         "0",
         "1",
         "0",
         "1"
        ],
        [
         "20",
         "0",
         "1",
         "0",
         "1",
         "1",
         "1",
         "1",
         "1",
         "1",
         "1",
         "1",
         "1",
         "0",
         "1",
         "0",
         "1",
         "0",
         "1",
         "0",
         "1",
         "0",
         "1",
         "1",
         "1",
         "1",
         "1",
         "1",
         "1",
         "0",
         "0",
         "0",
         "0",
         "1",
         "0",
         "1",
         "0",
         "0",
         "0",
         "0",
         "0",
         "1",
         "1"
        ],
        [
         "21",
         "0",
         "0",
         "0",
         "0",
         "0",
         "1",
         "1",
         "1",
         "0",
         "0",
         "1",
         "1",
         "0",
         "1",
         "0",
         "1",
         "0",
         "1",
         "0",
         "1",
         "0",
         "1",
         "0",
         "1",
         "1",
         "1",
         "1",
         "1",
         "0",
         "0",
         "0",
         "0",
         "0",
         "0",
         "0",
         "0",
         "0",
         "0",
         "0",
         "0",
         "0",
         "1"
        ],
        [
         "22",
         "0",
         "0",
         "0",
         "1",
         "0",
         "1",
         "1",
         "1",
         "0",
         "0",
         "1",
         "1",
         "0",
         "1",
         "0",
         "1",
         "0",
         "1",
         "0",
         "1",
         "0",
         "1",
         "0",
         "1",
         "1",
         "1",
         "1",
         "0",
         "0",
         "0",
         "0",
         "0",
         "0",
         "0",
         "0",
         "0",
         "0",
         "0",
         "0",
         "0",
         "0",
         "1"
        ],
        [
         "23",
         "0",
         "1",
         "0",
         "1",
         "1",
         "1",
         "1",
         "1",
         "1",
         "0",
         "1",
         "1",
         "1",
         "1",
         "0",
         "1",
         "0",
         "1",
         "0",
         "1",
         "0",
         "1",
         "1",
         "1",
         "1",
         "1",
         "1",
         "1",
         "0",
         "0",
         "0",
         "0",
         "1",
         "0",
         "0",
         "1",
         "0",
         "0",
         "0",
         "0",
         "1",
         "1"
        ],
        [
         "24",
         "1",
         "1",
         "1",
         "1",
         "1",
         "1",
         "1",
         "0",
         "1",
         "1",
         "1",
         "1",
         "1",
         "1",
         "1",
         "1",
         "1",
         "1",
         "0",
         "1",
         "0",
         "0",
         "1",
         "1",
         "0",
         "1",
         "1",
         "0",
         "0",
         "0",
         "0",
         "0",
         "1",
         "0",
         "1",
         "0",
         "0",
         "1",
         "1",
         "1",
         "0",
         "1"
        ],
        [
         "25",
         "0",
         "1",
         "1",
         "1",
         "1",
         "1",
         "1",
         "0",
         "1",
         "1",
         "1",
         "1",
         "1",
         "1",
         "0",
         "1",
         "0",
         "1",
         "1",
         "1",
         "1",
         "1",
         "1",
         "1",
         "1",
         "1",
         "1",
         "1",
         "0",
         "1",
         "0",
         "1",
         "1",
         "0",
         "0",
         "1",
         "0",
         "0",
         "0",
         "1",
         "1",
         "1"
        ],
        [
         "26",
         "1",
         "1",
         "1",
         "0",
         "1",
         "1",
         "1",
         "1",
         "1",
         "1",
         "1",
         "1",
         "1",
         "1",
         "0",
         "1",
         "1",
         "1",
         "0",
         "1",
         "1",
         "1",
         "1",
         "1",
         "1",
         "1",
         "1",
         "1",
         "1",
         "0",
         "0",
         "0",
         "1",
         "0",
         "0",
         "1",
         "0",
         "1",
         "1",
         "1",
         "1",
         "1"
        ],
        [
         "27",
         "1",
         "1",
         "1",
         "1",
         "1",
         "1",
         "1",
         "1",
         "1",
         "0",
         "1",
         "1",
         "1",
         "1",
         "1",
         "1",
         "1",
         "1",
         "0",
         "1",
         "0",
         "1",
         "1",
         "1",
         "1",
         "1",
         "1",
         "1",
         "1",
         "1",
         "0",
         "0",
         "1",
         "0",
         "0",
         "1",
         "0",
         "1",
         "1",
         "0",
         "1",
         "1"
        ],
        [
         "28",
         "0",
         "1",
         "1",
         "1",
         "1",
         "1",
         "1",
         "1",
         "1",
         "1",
         "1",
         "1",
         "1",
         "0",
         "1",
         "1",
         "0",
         "1",
         "1",
         "1",
         "1",
         "1",
         "1",
         "1",
         "1",
         "1",
         "1",
         "1",
         "1",
         "1",
         "1",
         "1",
         "1",
         "0",
         "0",
         "1",
         "0",
         "0",
         "0",
         "0",
         "1",
         "1"
        ],
        [
         "29",
         "1",
         "0",
         "1",
         "1",
         "1",
         "1",
         "1",
         "1",
         "1",
         "1",
         "1",
         "1",
         "1",
         "1",
         "1",
         "1",
         "0",
         "1",
         "0",
         "1",
         "1",
         "1",
         "1",
         "1",
         "1",
         "1",
         "1",
         "1",
         "1",
         "1",
         "1",
         "1",
         "1",
         "0",
         "0",
         "1",
         "0",
         "0",
         "0",
         "0",
         "1",
         "1"
        ],
        [
         "30",
         "0",
         "0",
         "0",
         "1",
         "1",
         "1",
         "1",
         "1",
         "1",
         "1",
         "0",
         "1",
         "1",
         "1",
         "1",
         "1",
         "0",
         "1",
         "0",
         "1",
         "0",
         "1",
         "1",
         "1",
         "1",
         "1",
         "1",
         "0",
         "1",
         "1",
         "0",
         "0",
         "1",
         "0",
         "1",
         "1",
         "0",
         "0",
         "0",
         "1",
         "1",
         "1"
        ],
        [
         "31",
         "0",
         "0",
         "0",
         "1",
         "1",
         "1",
         "1",
         "0",
         "1",
         "0",
         "0",
         "1",
         "0",
         "1",
         "0",
         "1",
         "0",
         "1",
         "0",
         "1",
         "0",
         "1",
         "1",
         "1",
         "0",
         "0",
         "1",
         "1",
         "0",
         "0",
         "0",
         "0",
         "0",
         "0",
         "0",
         "0",
         "0",
         "1",
         "1",
         "1",
         "0",
         "1"
        ],
        [
         "32",
         "0",
         "1",
         "0",
         "1",
         "1",
         "1",
         "1",
         "1",
         "1",
         "0",
         "1",
         "1",
         "0",
         "1",
         "0",
         "1",
         "1",
         "1",
         "0",
         "1",
         "0",
         "1",
         "1",
         "1",
         "1",
         "1",
         "1",
         "1",
         "1",
         "1",
         "0",
         "0",
         "1",
         "0",
         "1",
         "0",
         "0",
         "1",
         "1",
         "1",
         "0",
         "1"
        ],
        [
         "33",
         "0",
         "1",
         "0",
         "1",
         "1",
         "1",
         "1",
         "1",
         "1",
         "0",
         "1",
         "1",
         "1",
         "1",
         "1",
         "1",
         "0",
         "1",
         "0",
         "1",
         "1",
         "1",
         "1",
         "1",
         "1",
         "1",
         "1",
         "1",
         "0",
         "1",
         "0",
         "0",
         "0",
         "0",
         "0",
         "0",
         "0",
         "1",
         "1",
         "1",
         "0",
         "0"
        ],
        [
         "34",
         "0",
         "1",
         "1",
         "0",
         "1",
         "1",
         "1",
         "0",
         "0",
         "0",
         "1",
         "1",
         "1",
         "1",
         "0",
         "1",
         "0",
         "1",
         "0",
         "1",
         "1",
         "0",
         "1",
         "1",
         "1",
         "1",
         "1",
         "1",
         "0",
         "1",
         "0",
         "0",
         "1",
         "0",
         "0",
         "1",
         "0",
         "0",
         "0",
         "1",
         "1",
         "1"
        ],
        [
         "35",
         "1",
         "1",
         "1",
         "1",
         "1",
         "1",
         "1",
         "1",
         "1",
         "1",
         "1",
         "1",
         "1",
         "1",
         "0",
         "1",
         "1",
         "1",
         "1",
         "1",
         "0",
         "1",
         "1",
         "1",
         "1",
         "1",
         "1",
         "1",
         "0",
         "1",
         "0",
         "1",
         "1",
         "0",
         "1",
         "0",
         "0",
         "0",
         "0",
         "1",
         "1",
         "1"
        ],
        [
         "36",
         "1",
         "1",
         "1",
         "1",
         "1",
         "1",
         "1",
         "1",
         "1",
         "1",
         "1",
         "1",
         "1",
         "1",
         "0",
         "1",
         "1",
         "1",
         "1",
         "1",
         "1",
         "1",
         "1",
         "1",
         "1",
         "1",
         "1",
         "1",
         "1",
         "1",
         "0",
         "0",
         "1",
         "0",
         "0",
         "1",
         "0",
         "1",
         "1",
         "1",
         "1",
         "1"
        ],
        [
         "37",
         "0",
         "0",
         "1",
         "0",
         "0",
         "0",
         "0",
         "1",
         "0",
         "0",
         "1",
         "0",
         "1",
         "1",
         "0",
         "1",
         "0",
         "1",
         "0",
         "1",
         "1",
         "1",
         "1",
         "1",
         "1",
         "1",
         "1",
         "0",
         "0",
         "1",
         "0",
         "0",
         "0",
         "0",
         "1",
         "0",
         "0",
         "0",
         "0",
         "0",
         "0",
         "1"
        ],
        [
         "38",
         "0",
         "0",
         "0",
         "1",
         "1",
         "1",
         "1",
         "0",
         "1",
         "0",
         "0",
         "1",
         "0",
         "1",
         "0",
         "1",
         "0",
         "1",
         "0",
         "1",
         "0",
         "0",
         "0",
         "0",
         "0",
         "0",
         "1",
         "0",
         "1",
         "0",
         "0",
         "0",
         "1",
         "0",
         "0",
         "0",
         "0",
         "1",
         "0",
         "1",
         "0",
         "1"
        ],
        [
         "39",
         "0",
         "0",
         "0",
         "0",
         "1",
         "1",
         "1",
         "0",
         "1",
         "0",
         "0",
         "1",
         "0",
         "1",
         "0",
         "1",
         "0",
         "1",
         "0",
         "1",
         "0",
         "0",
         "0",
         "0",
         "0",
         "0",
         "1",
         "0",
         "1",
         "0",
         "0",
         "0",
         "1",
         "0",
         "0",
         "0",
         "0",
         "1",
         "0",
         "1",
         "0",
         "1"
        ],
        [
         "40",
         "0",
         "0",
         "0",
         "0",
         "1",
         "1",
         "1",
         "0",
         "1",
         "0",
         "1",
         "1",
         "0",
         "1",
         "0",
         "1",
         "0",
         "1",
         "0",
         "1",
         "0",
         "0",
         "0",
         "0",
         "0",
         "0",
         "1",
         "0",
         "1",
         "0",
         "0",
         "0",
         "1",
         "0",
         "0",
         "0",
         "0",
         "1",
         "0",
         "1",
         "0",
         "1"
        ],
        [
         "41",
         "0",
         "1",
         "0",
         "1",
         "1",
         "1",
         "1",
         "1",
         "1",
         "1",
         "1",
         "1",
         "1",
         "1",
         "1",
         "1",
         "0",
         "1",
         "0",
         "1",
         "1",
         "1",
         "1",
         "1",
         "1",
         "1",
         "1",
         "0",
         "1",
         "1",
         "1",
         "1",
         "1",
         "0",
         "0",
         "1",
         "0",
         "0",
         "1",
         "0",
         "1",
         "1"
        ],
        [
         "42",
         "0",
         "0",
         "0",
         "1",
         "1",
         "1",
         "1",
         "0",
         "1",
         "0",
         "1",
         "1",
         "1",
         "1",
         "0",
         "1",
         "0",
         "1",
         "0",
         "1",
         "0",
         "1",
         "1",
         "1",
         "1",
         "0",
         "1",
         "1",
         "0",
         "1",
         "1",
         "0",
         "0",
         "0",
         "0",
         "0",
         "0",
         "1",
         "0",
         "0",
         "1",
         "0"
        ],
        [
         "43",
         "1",
         "1",
         "1",
         "1",
         "1",
         "1",
         "1",
         "1",
         "1",
         "0",
         "1",
         "1",
         "1",
         "1",
         "1",
         "1",
         "0",
         "0",
         "0",
         "1",
         "0",
         "0",
         "1",
         "1",
         "0",
         "1",
         "1",
         "0",
         "1",
         "1",
         "0",
         "1",
         "1",
         "0",
         "1",
         "0",
         "0",
         "1",
         "1",
         "1",
         "0",
         "1"
        ],
        [
         "44",
         "0",
         "0",
         "0",
         "1",
         "1",
         "1",
         "1",
         "0",
         "0",
         "0",
         "0",
         "1",
         "0",
         "1",
         "1",
         "1",
         "0",
         "1",
         "0",
         "1",
         "1",
         "1",
         "1",
         "1",
         "0",
         "1",
         "1",
         "0",
         "0",
         "1",
         "0",
         "1",
         "1",
         "0",
         "0",
         "0",
         "0",
         "0",
         "0",
         "0",
         "0",
         "0"
        ],
        [
         "45",
         "1",
         "1",
         "1",
         "1",
         "1",
         "1",
         "1",
         "1",
         "1",
         "1",
         "1",
         "1",
         "1",
         "1",
         "1",
         "1",
         "0",
         "1",
         "0",
         "1",
         "1",
         "1",
         "1",
         "1",
         "1",
         "1",
         "0",
         "0",
         "1",
         "1",
         "1",
         "1",
         "1",
         "0",
         "1",
         "1",
         "0",
         "0",
         "1",
         "0",
         "1",
         "1"
        ],
        [
         "46",
         "1",
         "1",
         "1",
         "1",
         "1",
         "1",
         "1",
         "1",
         "1",
         "1",
         "1",
         "1",
         "1",
         "1",
         "1",
         "1",
         "0",
         "1",
         "0",
         "1",
         "1",
         "0",
         "1",
         "1",
         "1",
         "1",
         "1",
         "1",
         "1",
         "1",
         "1",
         "1",
         "1",
         "0",
         "1",
         "0",
         "0",
         "0",
         "0",
         "0",
         "1",
         "1"
        ],
        [
         "47",
         "1",
         "1",
         "1",
         "1",
         "1",
         "1",
         "1",
         "1",
         "1",
         "1",
         "1",
         "1",
         "1",
         "1",
         "1",
         "1",
         "0",
         "1",
         "0",
         "1",
         "0",
         "1",
         "1",
         "1",
         "1",
         "1",
         "1",
         "1",
         "1",
         "1",
         "1",
         "1",
         "1",
         "0",
         "1",
         "0",
         "0",
         "0",
         "1",
         "0",
         "1",
         "1"
        ],
        [
         "48",
         "1",
         "1",
         "1",
         "1",
         "1",
         "1",
         "1",
         "1",
         "1",
         "1",
         "1",
         "1",
         "1",
         "1",
         "1",
         "1",
         "0",
         "1",
         "0",
         "1",
         "1",
         "1",
         "1",
         "1",
         "1",
         "1",
         "1",
         "1",
         "1",
         "1",
         "1",
         "1",
         "1",
         "0",
         "1",
         "0",
         "0",
         "1",
         "1",
         "0",
         "1",
         "1"
        ],
        [
         "49",
         "1",
         "1",
         "1",
         "1",
         "1",
         "1",
         "1",
         "1",
         "1",
         "1",
         "1",
         "1",
         "1",
         "1",
         "1",
         "1",
         "0",
         "1",
         "0",
         "1",
         "1",
         "1",
         "1",
         "1",
         "1",
         "1",
         "1",
         "1",
         "1",
         "1",
         "1",
         "1",
         "1",
         "0",
         "1",
         "0",
         "0",
         "0",
         "0",
         "0",
         "1",
         "1"
        ]
       ],
       "shape": {
        "columns": 42,
        "rows": 79
       }
      },
      "text/html": [
       "<div>\n",
       "<style scoped>\n",
       "    .dataframe tbody tr th:only-of-type {\n",
       "        vertical-align: middle;\n",
       "    }\n",
       "\n",
       "    .dataframe tbody tr th {\n",
       "        vertical-align: top;\n",
       "    }\n",
       "\n",
       "    .dataframe thead th {\n",
       "        text-align: right;\n",
       "    }\n",
       "</style>\n",
       "<table border=\"1\" class=\"dataframe\">\n",
       "  <thead>\n",
       "    <tr style=\"text-align: right;\">\n",
       "      <th></th>\n",
       "      <th>City skyline view</th>\n",
       "      <th>Beach view</th>\n",
       "      <th>Sea/Lake view</th>\n",
       "      <th>Hot water</th>\n",
       "      <th>Jacuzzi</th>\n",
       "      <th>Shared pool</th>\n",
       "      <th>Shared gym</th>\n",
       "      <th>Patio or balcony</th>\n",
       "      <th>Outdoor furniture</th>\n",
       "      <th>Outdoor playground</th>\n",
       "      <th>...</th>\n",
       "      <th>Room-darkening shades</th>\n",
       "      <th>Window guards</th>\n",
       "      <th>Security cameras</th>\n",
       "      <th>Lock on door</th>\n",
       "      <th>Keypad</th>\n",
       "      <th>Fire extinguisher</th>\n",
       "      <th>First aid kit</th>\n",
       "      <th>Smoke detector</th>\n",
       "      <th>Luggage dropoff</th>\n",
       "      <th>Self check-in</th>\n",
       "    </tr>\n",
       "  </thead>\n",
       "  <tbody>\n",
       "    <tr>\n",
       "      <th>0</th>\n",
       "      <td>1</td>\n",
       "      <td>1</td>\n",
       "      <td>1</td>\n",
       "      <td>1</td>\n",
       "      <td>1</td>\n",
       "      <td>1</td>\n",
       "      <td>1</td>\n",
       "      <td>1</td>\n",
       "      <td>1</td>\n",
       "      <td>1</td>\n",
       "      <td>...</td>\n",
       "      <td>1</td>\n",
       "      <td>0</td>\n",
       "      <td>1</td>\n",
       "      <td>0</td>\n",
       "      <td>0</td>\n",
       "      <td>1</td>\n",
       "      <td>1</td>\n",
       "      <td>1</td>\n",
       "      <td>1</td>\n",
       "      <td>1</td>\n",
       "    </tr>\n",
       "    <tr>\n",
       "      <th>1</th>\n",
       "      <td>0</td>\n",
       "      <td>0</td>\n",
       "      <td>0</td>\n",
       "      <td>0</td>\n",
       "      <td>1</td>\n",
       "      <td>1</td>\n",
       "      <td>1</td>\n",
       "      <td>0</td>\n",
       "      <td>0</td>\n",
       "      <td>0</td>\n",
       "      <td>...</td>\n",
       "      <td>0</td>\n",
       "      <td>0</td>\n",
       "      <td>0</td>\n",
       "      <td>0</td>\n",
       "      <td>0</td>\n",
       "      <td>0</td>\n",
       "      <td>0</td>\n",
       "      <td>0</td>\n",
       "      <td>0</td>\n",
       "      <td>0</td>\n",
       "    </tr>\n",
       "    <tr>\n",
       "      <th>2</th>\n",
       "      <td>0</td>\n",
       "      <td>1</td>\n",
       "      <td>1</td>\n",
       "      <td>1</td>\n",
       "      <td>1</td>\n",
       "      <td>1</td>\n",
       "      <td>1</td>\n",
       "      <td>1</td>\n",
       "      <td>1</td>\n",
       "      <td>1</td>\n",
       "      <td>...</td>\n",
       "      <td>1</td>\n",
       "      <td>0</td>\n",
       "      <td>1</td>\n",
       "      <td>0</td>\n",
       "      <td>0</td>\n",
       "      <td>0</td>\n",
       "      <td>1</td>\n",
       "      <td>1</td>\n",
       "      <td>1</td>\n",
       "      <td>1</td>\n",
       "    </tr>\n",
       "    <tr>\n",
       "      <th>3</th>\n",
       "      <td>1</td>\n",
       "      <td>1</td>\n",
       "      <td>1</td>\n",
       "      <td>1</td>\n",
       "      <td>1</td>\n",
       "      <td>1</td>\n",
       "      <td>1</td>\n",
       "      <td>1</td>\n",
       "      <td>1</td>\n",
       "      <td>1</td>\n",
       "      <td>...</td>\n",
       "      <td>1</td>\n",
       "      <td>0</td>\n",
       "      <td>1</td>\n",
       "      <td>0</td>\n",
       "      <td>0</td>\n",
       "      <td>1</td>\n",
       "      <td>1</td>\n",
       "      <td>1</td>\n",
       "      <td>1</td>\n",
       "      <td>1</td>\n",
       "    </tr>\n",
       "    <tr>\n",
       "      <th>4</th>\n",
       "      <td>0</td>\n",
       "      <td>1</td>\n",
       "      <td>1</td>\n",
       "      <td>1</td>\n",
       "      <td>1</td>\n",
       "      <td>1</td>\n",
       "      <td>1</td>\n",
       "      <td>1</td>\n",
       "      <td>1</td>\n",
       "      <td>1</td>\n",
       "      <td>...</td>\n",
       "      <td>1</td>\n",
       "      <td>0</td>\n",
       "      <td>1</td>\n",
       "      <td>1</td>\n",
       "      <td>0</td>\n",
       "      <td>1</td>\n",
       "      <td>1</td>\n",
       "      <td>1</td>\n",
       "      <td>1</td>\n",
       "      <td>1</td>\n",
       "    </tr>\n",
       "    <tr>\n",
       "      <th>...</th>\n",
       "      <td>...</td>\n",
       "      <td>...</td>\n",
       "      <td>...</td>\n",
       "      <td>...</td>\n",
       "      <td>...</td>\n",
       "      <td>...</td>\n",
       "      <td>...</td>\n",
       "      <td>...</td>\n",
       "      <td>...</td>\n",
       "      <td>...</td>\n",
       "      <td>...</td>\n",
       "      <td>...</td>\n",
       "      <td>...</td>\n",
       "      <td>...</td>\n",
       "      <td>...</td>\n",
       "      <td>...</td>\n",
       "      <td>...</td>\n",
       "      <td>...</td>\n",
       "      <td>...</td>\n",
       "      <td>...</td>\n",
       "      <td>...</td>\n",
       "    </tr>\n",
       "    <tr>\n",
       "      <th>74</th>\n",
       "      <td>1</td>\n",
       "      <td>0</td>\n",
       "      <td>1</td>\n",
       "      <td>1</td>\n",
       "      <td>1</td>\n",
       "      <td>1</td>\n",
       "      <td>1</td>\n",
       "      <td>0</td>\n",
       "      <td>1</td>\n",
       "      <td>0</td>\n",
       "      <td>...</td>\n",
       "      <td>1</td>\n",
       "      <td>0</td>\n",
       "      <td>0</td>\n",
       "      <td>0</td>\n",
       "      <td>0</td>\n",
       "      <td>0</td>\n",
       "      <td>0</td>\n",
       "      <td>1</td>\n",
       "      <td>0</td>\n",
       "      <td>1</td>\n",
       "    </tr>\n",
       "    <tr>\n",
       "      <th>75</th>\n",
       "      <td>0</td>\n",
       "      <td>0</td>\n",
       "      <td>0</td>\n",
       "      <td>1</td>\n",
       "      <td>1</td>\n",
       "      <td>1</td>\n",
       "      <td>1</td>\n",
       "      <td>1</td>\n",
       "      <td>1</td>\n",
       "      <td>0</td>\n",
       "      <td>...</td>\n",
       "      <td>1</td>\n",
       "      <td>0</td>\n",
       "      <td>0</td>\n",
       "      <td>1</td>\n",
       "      <td>0</td>\n",
       "      <td>1</td>\n",
       "      <td>0</td>\n",
       "      <td>1</td>\n",
       "      <td>1</td>\n",
       "      <td>1</td>\n",
       "    </tr>\n",
       "    <tr>\n",
       "      <th>76</th>\n",
       "      <td>0</td>\n",
       "      <td>0</td>\n",
       "      <td>0</td>\n",
       "      <td>1</td>\n",
       "      <td>1</td>\n",
       "      <td>1</td>\n",
       "      <td>1</td>\n",
       "      <td>0</td>\n",
       "      <td>0</td>\n",
       "      <td>0</td>\n",
       "      <td>...</td>\n",
       "      <td>1</td>\n",
       "      <td>0</td>\n",
       "      <td>0</td>\n",
       "      <td>0</td>\n",
       "      <td>0</td>\n",
       "      <td>1</td>\n",
       "      <td>1</td>\n",
       "      <td>1</td>\n",
       "      <td>0</td>\n",
       "      <td>1</td>\n",
       "    </tr>\n",
       "    <tr>\n",
       "      <th>77</th>\n",
       "      <td>0</td>\n",
       "      <td>0</td>\n",
       "      <td>0</td>\n",
       "      <td>1</td>\n",
       "      <td>1</td>\n",
       "      <td>1</td>\n",
       "      <td>1</td>\n",
       "      <td>0</td>\n",
       "      <td>1</td>\n",
       "      <td>0</td>\n",
       "      <td>...</td>\n",
       "      <td>1</td>\n",
       "      <td>0</td>\n",
       "      <td>0</td>\n",
       "      <td>0</td>\n",
       "      <td>0</td>\n",
       "      <td>1</td>\n",
       "      <td>0</td>\n",
       "      <td>1</td>\n",
       "      <td>0</td>\n",
       "      <td>1</td>\n",
       "    </tr>\n",
       "    <tr>\n",
       "      <th>78</th>\n",
       "      <td>0</td>\n",
       "      <td>0</td>\n",
       "      <td>0</td>\n",
       "      <td>1</td>\n",
       "      <td>1</td>\n",
       "      <td>1</td>\n",
       "      <td>1</td>\n",
       "      <td>0</td>\n",
       "      <td>0</td>\n",
       "      <td>0</td>\n",
       "      <td>...</td>\n",
       "      <td>1</td>\n",
       "      <td>0</td>\n",
       "      <td>0</td>\n",
       "      <td>0</td>\n",
       "      <td>0</td>\n",
       "      <td>0</td>\n",
       "      <td>0</td>\n",
       "      <td>0</td>\n",
       "      <td>0</td>\n",
       "      <td>0</td>\n",
       "    </tr>\n",
       "  </tbody>\n",
       "</table>\n",
       "<p>79 rows × 42 columns</p>\n",
       "</div>"
      ],
      "text/plain": [
       "    City skyline view  Beach view  Sea/Lake view  Hot water  Jacuzzi  \\\n",
       "0                   1           1              1          1        1   \n",
       "1                   0           0              0          0        1   \n",
       "2                   0           1              1          1        1   \n",
       "3                   1           1              1          1        1   \n",
       "4                   0           1              1          1        1   \n",
       "..                ...         ...            ...        ...      ...   \n",
       "74                  1           0              1          1        1   \n",
       "75                  0           0              0          1        1   \n",
       "76                  0           0              0          1        1   \n",
       "77                  0           0              0          1        1   \n",
       "78                  0           0              0          1        1   \n",
       "\n",
       "    Shared pool  Shared gym  Patio or balcony  Outdoor furniture  \\\n",
       "0             1           1                 1                  1   \n",
       "1             1           1                 0                  0   \n",
       "2             1           1                 1                  1   \n",
       "3             1           1                 1                  1   \n",
       "4             1           1                 1                  1   \n",
       "..          ...         ...               ...                ...   \n",
       "74            1           1                 0                  1   \n",
       "75            1           1                 1                  1   \n",
       "76            1           1                 0                  0   \n",
       "77            1           1                 0                  1   \n",
       "78            1           1                 0                  0   \n",
       "\n",
       "    Outdoor playground  ...  Room-darkening shades  Window guards  \\\n",
       "0                    1  ...                      1              0   \n",
       "1                    0  ...                      0              0   \n",
       "2                    1  ...                      1              0   \n",
       "3                    1  ...                      1              0   \n",
       "4                    1  ...                      1              0   \n",
       "..                 ...  ...                    ...            ...   \n",
       "74                   0  ...                      1              0   \n",
       "75                   0  ...                      1              0   \n",
       "76                   0  ...                      1              0   \n",
       "77                   0  ...                      1              0   \n",
       "78                   0  ...                      1              0   \n",
       "\n",
       "    Security cameras  Lock on door  Keypad  Fire extinguisher  First aid kit  \\\n",
       "0                  1             0       0                  1              1   \n",
       "1                  0             0       0                  0              0   \n",
       "2                  1             0       0                  0              1   \n",
       "3                  1             0       0                  1              1   \n",
       "4                  1             1       0                  1              1   \n",
       "..               ...           ...     ...                ...            ...   \n",
       "74                 0             0       0                  0              0   \n",
       "75                 0             1       0                  1              0   \n",
       "76                 0             0       0                  1              1   \n",
       "77                 0             0       0                  1              0   \n",
       "78                 0             0       0                  0              0   \n",
       "\n",
       "    Smoke detector  Luggage dropoff  Self check-in  \n",
       "0                1                1              1  \n",
       "1                0                0              0  \n",
       "2                1                1              1  \n",
       "3                1                1              1  \n",
       "4                1                1              1  \n",
       "..             ...              ...            ...  \n",
       "74               1                0              1  \n",
       "75               1                1              1  \n",
       "76               1                0              1  \n",
       "77               1                0              1  \n",
       "78               0                0              0  \n",
       "\n",
       "[79 rows x 42 columns]"
      ]
     },
     "execution_count": 34,
     "metadata": {},
     "output_type": "execute_result"
    }
   ],
   "source": [
    "df_attr.select_dtypes(\"number\").drop(columns=[\"Base fee\", \"latitude\", \"longitude\"]).iloc[:, 13:]"
   ]
  },
  {
   "cell_type": "markdown",
   "id": "0c77640e",
   "metadata": {},
   "source": [
    "# Model 6"
   ]
  },
  {
   "cell_type": "code",
   "execution_count": null,
   "id": "8152a13d",
   "metadata": {},
   "outputs": [
    {
     "name": "stdout",
     "output_type": "stream",
     "text": [
      "Fitting 5 folds for each of 108 candidates, totalling 540 fits\n",
      "Best CV accuracy: 0.368\n",
      "Best params:        {'dt__clf__max_depth': 3, 'dt__clf__min_samples_leaf': 5, 'gb__clf__learning_rate': 0.1, 'gb__clf__n_estimators': 300}\n",
      "\n",
      "=== Tuned Ensemble Evaluation ===\n",
      "Test accuracy: 0.375\n",
      "              precision    recall  f1-score   support\n",
      "\n",
      "           0      0.444     0.667     0.533         6\n",
      "           1      0.250     0.250     0.250         4\n",
      "           2      0.333     0.167     0.222         6\n",
      "\n",
      "    accuracy                          0.375        16\n",
      "   macro avg      0.343     0.361     0.335        16\n",
      "weighted avg      0.354     0.375     0.346        16\n",
      "\n",
      "Confusion Matrix:\n",
      " [[4 0 2]\n",
      " [3 1 0]\n",
      " [2 3 1]]\n"
     ]
    }
   ],
   "source": [
    "import sqlite3, re\n",
    "import numpy as np\n",
    "import pandas as pd\n",
    "from sklearn.model_selection import train_test_split, StratifiedKFold, cross_val_score\n",
    "from sklearn.preprocessing import StandardScaler, OneHotEncoder\n",
    "from sklearn.compose import ColumnTransformer\n",
    "from sklearn.pipeline import Pipeline\n",
    "from sklearn.linear_model import LogisticRegression\n",
    "from sklearn.ensemble import GradientBoostingClassifier\n",
    "from sklearn.tree import DecisionTreeClassifier\n",
    "from sklearn.metrics import classification_report, confusion_matrix, accuracy_score\n",
    "from sklearn.cluster import KMeans\n",
    "\n",
    "# 1) Load & align\n",
    "_conn = sqlite3.connect(\"airbnb_cartagena.sqlite\")\n",
    "df_attr      = pd.read_sql(\"SELECT * FROM Attributes\", _conn, dtype={\"ID\": str})\n",
    "df_ts_interp = pd.read_sql(\"SELECT * FROM TimeSeriesInterpolated\", _conn, dtype={\"ID\": str})\n",
    "_conn.close()\n",
    "dates = [c for c in df_ts_interp.columns if re.fullmatch(r\"\\d{1,2}/\\d{1,2}/\\d{4}\", c)]\n",
    "df_ts_interp = df_ts_interp.dropna(subset=dates).reset_index(drop=True)\n",
    "#df_attr = df_attr.drop(columns=[\"Reviews\"])\n",
    "df_attr = df_attr.set_index(\"ID\").reindex(df_ts_interp[\"ID\"]).reset_index()\n",
    "\n",
    "# 2) UNSUPERVISED SEGMENT LABELS\n",
    "def cluster_by_amenities(k=4):\n",
    "    \"\"\"\n",
    "    to_keep = [\n",
    "        # list of amenity columns you want\n",
    "        \"Keypad\",\"Lock on door\",\"Smoke detector\",\"Security cameras\",\"AC\",\"Heating\",\n",
    "        \"Patio or balcony\",\"Stove\",\"Elevator\",\"Refrigerator\",\"Kitchen\",\"Wifi\",\n",
    "        \"TV\",\"Jacuzzi\",\"Carport\",\"Hot water\",\n",
    "    ]\n",
    "    \"\"\"\n",
    "    #am = df_attr[to_keep].astype(int).set_index(df_attr[\"ID\"])\n",
    "    am = df_attr.select_dtypes(\"number\").set_index(df_attr[\"ID\"])\n",
    "    km = KMeans(n_clusters=k, random_state=0)\n",
    "    labels = pd.Series(km.fit_predict(am), index=am.index)\n",
    "    return labels\n",
    "y = cluster_by_amenities(k=4).astype(int)\n",
    "\n",
    "\"\"\"\n",
    "# 3) Time‐series summary features (mean, std, trend, spikes)\n",
    "def make_ts_feats(df, dates):\n",
    "    out = []\n",
    "    for vals in df[dates].values.astype(float):\n",
    "        y = np.log1p(vals)\n",
    "        days = np.arange(len(y))\n",
    "        trend = np.polyfit(days, y, 1)[0] if len(y) > 1 else 0\n",
    "        spikes = (pd.Series(y).diff().abs() > 0.1).sum() # type: ignore\n",
    "        out.append({\n",
    "            \"ts_mean\":    y.mean(),\n",
    "            \"ts_std\":     y.std(ddof=0),\n",
    "            \"ts_trend\":   trend,\n",
    "            \"ts_spikes\":  spikes\n",
    "        })\n",
    "    return pd.DataFrame(out, index=df[\"ID\"])\n",
    "df_ts = make_ts_feats(df_ts_interp, dates)\n",
    "df_ts.index = df_attr[\"ID\"] # type: ignore\n",
    "\n",
    "# 4) Build feature matrix\n",
    "X_all_num = (df_attr.select_dtypes(\"number\").drop(columns=[\"Base fee\", \"latitude\", \"longitude\"])\n",
    "             .set_index(df_attr[\"ID\"]))\n",
    "X = pd.concat([X_all_num, df_ts], axis=1).fillna(0)\n",
    "\"\"\"\n",
    "X = (df_attr.select_dtypes(\"number\").drop(columns=[\"Base fee\", \"latitude\", \"longitude\"]\n",
    "    + [col for col in df_attr.columns if col.endswith(\"_rating\")])\n",
    "             .set_index(df_attr[\"ID\"]))\n",
    "# 5) Split and preprocess\n",
    "X_train, X_test, y_train, y_test = train_test_split(\n",
    "    X, y, test_size=0.2, stratify=y, random_state=42)\n",
    "preprocessor = ColumnTransformer([\n",
    "    (\"scale\", StandardScaler(), X.columns.tolist()),\n",
    "])\n",
    "\n",
    "# 7) Define models\n",
    "models = {\n",
    "    \"MultinomialLogistic\": Pipeline([\n",
    "        (\"prep\", preprocessor),\n",
    "        (\"clf\", LogisticRegression(multi_class=\"multinomial\", solver=\"saga\", C=1.0, max_iter=1000))\n",
    "    ]),\n",
    "    \"GradientBoosting\": Pipeline([\n",
    "        (\"prep\", preprocessor),\n",
    "        (\"clf\", GradientBoostingClassifier(n_estimators=200, learning_rate=0.05, random_state=0))\n",
    "    ]),\n",
    "    \"DecisionTree\": Pipeline([\n",
    "        (\"prep\", preprocessor),\n",
    "        (\"clf\", DecisionTreeClassifier(max_depth=5, random_state=0))\n",
    "    ]),\n",
    "}\n",
    "\n",
    "# 8) Build a soft‐voting ensemble of GradientBoosting + DecisionTree\n",
    "ensemble = VotingClassifier(\n",
    "    estimators=[\n",
    "        (\"gb\", models[\"GradientBoosting\"]),\n",
    "        (\"dt\", models[\"DecisionTree\"])\n",
    "    ],\n",
    "    voting=\"soft\"\n",
    ")\n",
    "\n",
    "# 9) Hyperparameter tuning with 5-fold CV\n",
    "param_grid = {\n",
    "    # GradientBoosting params\n",
    "    \"gb__clf__n_estimators\":   [100, 200, 300],\n",
    "    \"gb__clf__learning_rate\":  [0.01, 0.05, 0.1],\n",
    "    # DecisionTree params\n",
    "    \"dt__clf__max_depth\":      [3, 5, 7, None],\n",
    "    \"dt__clf__min_samples_leaf\":[1, 3, 5],\n",
    "}\n",
    "grid = GridSearchCV(\n",
    "    estimator=ensemble,\n",
    "    param_grid=param_grid,\n",
    "    cv=StratifiedKFold(n_splits=5, shuffle=True, random_state=0),\n",
    "    scoring=\"accuracy\",\n",
    "    n_jobs=-1,\n",
    "    verbose=1\n",
    ")\n",
    "grid.fit(X, y)\n",
    "print(\"Best CV accuracy:\", round(grid.best_score_, 3))\n",
    "print(\"Best params:       \", grid.best_params_)\n",
    "\n",
    "# 10) Evaluate the tuned ensemble on the hold-out split\n",
    "best_ens = grid.best_estimator_\n",
    "best_ens.fit(X_train, y_train)\n",
    "y_pred = best_ens.predict(X_test)\n",
    "print(\"\\n=== Tuned Ensemble Evaluation ===\")\n",
    "print(\"Test accuracy:\", round(accuracy_score(y_test, y_pred), 3))\n",
    "print(classification_report(y_test, y_pred, digits=3))\n",
    "print(\"Confusion Matrix:\\n\", confusion_matrix(y_test, y_pred))\n"
   ]
  },
  {
   "cell_type": "code",
   "execution_count": 82,
   "id": "a6e94c2f",
   "metadata": {},
   "outputs": [],
   "source": [
    "import os\n",
    "import pandas as pd\n",
    "import plotly.express as px\n",
    "import plotly.graph_objects as go\n",
    "from sklearn.metrics import (\n",
    "    classification_report,\n",
    "    confusion_matrix,\n",
    "    accuracy_score,\n",
    "    precision_score,\n",
    "    recall_score,\n",
    "    f1_score,\n",
    ")\n",
    "from sklearn.decomposition import PCA\n",
    "\n",
    "# assume best_ens, X_test, y_test are already in scope\n",
    "\n",
    "# 11) Predictions & raw metrics\n",
    "y_pred = best_ens.predict(X_test)\n",
    "acc    = accuracy_score(y_test, y_pred)\n",
    "prec   = precision_score(y_test, y_pred, average=\"weighted\", zero_division=0)\n",
    "rec    = recall_score(y_test, y_pred, average=\"weighted\", zero_division=0)\n",
    "f1     = f1_score(y_test, y_pred, average=\"weighted\", zero_division=0)\n",
    "\n",
    "metrics_df = pd.DataFrame({\n",
    "    \"Metric\": [\"Accuracy\", \"Precision\", \"Recall\", \"F1-score\"],\n",
    "    \"Value\":  [round(acc,  3), # type: ignore\n",
    "               round(prec, 3), # type: ignore\n",
    "               round(rec,  3), # type: ignore\n",
    "               round(f1,   3)] # type: ignore\n",
    "})\n",
    "os.makedirs(\"models/model3\", exist_ok=True)\n",
    "metrics_df.to_csv(\"models/model3/metrics_summary.csv\", index=False)\n",
    "\n",
    "# 12) Confusion matrix CSV\n",
    "cm = confusion_matrix(y_test, y_pred)\n",
    "n_classes = cm.shape[0]\n",
    "idx = [f\"True {i}\" for i in range(n_classes)]\n",
    "cols = [f\"Pred {i}\" for i in range(n_classes)]\n",
    "cm_df = pd.DataFrame(cm, index=idx, columns=cols)\n",
    "cm_df.to_csv(\"models/model3/confusion_matrix.csv\")\n",
    "\n",
    "# 13) Top-10 Feature Importances from GradientBoosting\n",
    "gb_pipeline = best_ens.named_estimators_[\"gb\"]        # the GB member\n",
    "gb_model    = gb_pipeline.named_steps[\"clf\"]\n",
    "importances = gb_model.feature_importances_\n",
    "feat_names  = X.columns.to_list()\n",
    "\n",
    "fi_df = (\n",
    "    pd.DataFrame({\"feature\": feat_names, \"importance\": importances})\n",
    "      .sort_values(\"importance\", ascending=False)\n",
    ")\n",
    "fi_df.head(10).to_csv(\"models/model3/feature_importances_top10.csv\", index=False)\n",
    "\n",
    "# 14) Plot Top-10 importances (vertical bars)\n",
    "top10 = fi_df.head(10).sort_values(\"importance\")[::-1]\n",
    "fig_fi = px.bar(\n",
    "    top10,\n",
    "    x=\"feature\",\n",
    "    y=\"importance\",\n",
    "    orientation=\"v\",\n",
    "    title=\"Top 10 Feature Importances (GB)\",\n",
    "    labels={\"feature\": \"Feature\", \"importance\": \"Importance\"},\n",
    "    template=\"plotly_dark\",\n",
    "    color_discrete_sequence=[red]\n",
    ")\n",
    "fig_fi.update_layout(xaxis_tickangle=-45, height=500)\n",
    "fig_fi.write_json(\"models/model3/feature_importances.json\")\n",
    "\n",
    "# 15) Scatter of correctly vs incorrectly classified\n",
    "#    Reduce X_test to 2D via PCA for visualization:\n",
    "pca = PCA(n_components=2, random_state=0)\n",
    "coords = pca.fit_transform(X_test)\n",
    "\n",
    "viz_df = pd.DataFrame({\n",
    "    \"PC1\": coords[:,0],\n",
    "    \"PC2\": coords[:,1],\n",
    "    \"y_true\": y_test.values,\n",
    "    \"y_pred\": y_pred,\n",
    "})\n",
    "viz_df[\"correct\"] = viz_df[\"y_true\"] == viz_df[\"y_pred\"]\n",
    "viz_df[\"color\"]   = viz_df[\"correct\"].map({True: \"Correct\", False: \"Wrong\"})\n",
    "\n",
    "fig_err = px.scatter(\n",
    "    viz_df,\n",
    "    x=\"PC1\",\n",
    "    y=\"PC2\",\n",
    "    color=\"color\",\n",
    "    symbol=\"color\",\n",
    "    title=\"2D PCA of Test Points: green=correct, red=misclassified\",\n",
    "    template=\"plotly_dark\",\n",
    "    color_discrete_map={\"Correct\":red, \"Wrong\":\"#d79c9c\"},\n",
    "    symbol_map={\"Correct\":\"circle\",\"Wrong\":\"x\"},\n",
    ")\n",
    "fig_err.update_traces(marker=dict(size=20, opacity=0.8))\n",
    "fig_err.write_json(\"models/model3/classification_scatter.json\")\n"
   ]
  },
  {
   "cell_type": "code",
   "execution_count": 83,
   "id": "96f2eadc",
   "metadata": {},
   "outputs": [
    {
     "data": {
      "application/vnd.plotly.v1+json": {
       "config": {
        "plotlyServerURL": "https://plot.ly"
       },
       "data": [
        {
         "hovertemplate": "Feature=%{x}<br>Importance=%{y}<extra></extra>",
         "legendgroup": "",
         "marker": {
          "color": "#7e0d24",
          "pattern": {
           "shape": ""
          }
         },
         "name": "",
         "orientation": "v",
         "showlegend": false,
         "textposition": "auto",
         "type": "bar",
         "x": [
          "Reviews",
          "Person capacity",
          "Cleaning fee",
          "Baths",
          "Elevator",
          "Self check-in",
          "Cable TV",
          "Microwave",
          "First aid kit",
          "Pets allowed"
         ],
         "xaxis": "x",
         "y": {
          "bdata": "VjepINKj4T/17hXZ9YTDP6AdPgAhIag/1q/2W7Lkmz8GtFrncguaP6HrNQW6Zpk/xq2KsqVTkj8r73FAxHOMP1ehkjmQF4g/+7eHxcRIhz8=",
          "dtype": "f8"
         },
         "yaxis": "y"
        }
       ],
       "layout": {
        "barmode": "relative",
        "height": 500,
        "legend": {
         "tracegroupgap": 0
        },
        "margin": {
         "b": 40,
         "l": 40,
         "r": 40,
         "t": 60
        },
        "template": {
         "data": {
          "bar": [
           {
            "error_x": {
             "color": "#f2f5fa"
            },
            "error_y": {
             "color": "#f2f5fa"
            },
            "marker": {
             "line": {
              "color": "rgb(17,17,17)",
              "width": 0.5
             },
             "pattern": {
              "fillmode": "overlay",
              "size": 10,
              "solidity": 0.2
             }
            },
            "type": "bar"
           }
          ],
          "barpolar": [
           {
            "marker": {
             "line": {
              "color": "rgb(17,17,17)",
              "width": 0.5
             },
             "pattern": {
              "fillmode": "overlay",
              "size": 10,
              "solidity": 0.2
             }
            },
            "type": "barpolar"
           }
          ],
          "carpet": [
           {
            "aaxis": {
             "endlinecolor": "#A2B1C6",
             "gridcolor": "#506784",
             "linecolor": "#506784",
             "minorgridcolor": "#506784",
             "startlinecolor": "#A2B1C6"
            },
            "baxis": {
             "endlinecolor": "#A2B1C6",
             "gridcolor": "#506784",
             "linecolor": "#506784",
             "minorgridcolor": "#506784",
             "startlinecolor": "#A2B1C6"
            },
            "type": "carpet"
           }
          ],
          "choropleth": [
           {
            "colorbar": {
             "outlinewidth": 0,
             "ticks": ""
            },
            "type": "choropleth"
           }
          ],
          "contour": [
           {
            "colorbar": {
             "outlinewidth": 0,
             "ticks": ""
            },
            "colorscale": [
             [
              0,
              "#0d0887"
             ],
             [
              0.1111111111111111,
              "#46039f"
             ],
             [
              0.2222222222222222,
              "#7201a8"
             ],
             [
              0.3333333333333333,
              "#9c179e"
             ],
             [
              0.4444444444444444,
              "#bd3786"
             ],
             [
              0.5555555555555556,
              "#d8576b"
             ],
             [
              0.6666666666666666,
              "#ed7953"
             ],
             [
              0.7777777777777778,
              "#fb9f3a"
             ],
             [
              0.8888888888888888,
              "#fdca26"
             ],
             [
              1,
              "#f0f921"
             ]
            ],
            "type": "contour"
           }
          ],
          "contourcarpet": [
           {
            "colorbar": {
             "outlinewidth": 0,
             "ticks": ""
            },
            "type": "contourcarpet"
           }
          ],
          "heatmap": [
           {
            "colorbar": {
             "outlinewidth": 0,
             "ticks": ""
            },
            "colorscale": [
             [
              0,
              "#0d0887"
             ],
             [
              0.1111111111111111,
              "#46039f"
             ],
             [
              0.2222222222222222,
              "#7201a8"
             ],
             [
              0.3333333333333333,
              "#9c179e"
             ],
             [
              0.4444444444444444,
              "#bd3786"
             ],
             [
              0.5555555555555556,
              "#d8576b"
             ],
             [
              0.6666666666666666,
              "#ed7953"
             ],
             [
              0.7777777777777778,
              "#fb9f3a"
             ],
             [
              0.8888888888888888,
              "#fdca26"
             ],
             [
              1,
              "#f0f921"
             ]
            ],
            "type": "heatmap"
           }
          ],
          "histogram": [
           {
            "marker": {
             "pattern": {
              "fillmode": "overlay",
              "size": 10,
              "solidity": 0.2
             }
            },
            "type": "histogram"
           }
          ],
          "histogram2d": [
           {
            "colorbar": {
             "outlinewidth": 0,
             "ticks": ""
            },
            "colorscale": [
             [
              0,
              "#0d0887"
             ],
             [
              0.1111111111111111,
              "#46039f"
             ],
             [
              0.2222222222222222,
              "#7201a8"
             ],
             [
              0.3333333333333333,
              "#9c179e"
             ],
             [
              0.4444444444444444,
              "#bd3786"
             ],
             [
              0.5555555555555556,
              "#d8576b"
             ],
             [
              0.6666666666666666,
              "#ed7953"
             ],
             [
              0.7777777777777778,
              "#fb9f3a"
             ],
             [
              0.8888888888888888,
              "#fdca26"
             ],
             [
              1,
              "#f0f921"
             ]
            ],
            "type": "histogram2d"
           }
          ],
          "histogram2dcontour": [
           {
            "colorbar": {
             "outlinewidth": 0,
             "ticks": ""
            },
            "colorscale": [
             [
              0,
              "#0d0887"
             ],
             [
              0.1111111111111111,
              "#46039f"
             ],
             [
              0.2222222222222222,
              "#7201a8"
             ],
             [
              0.3333333333333333,
              "#9c179e"
             ],
             [
              0.4444444444444444,
              "#bd3786"
             ],
             [
              0.5555555555555556,
              "#d8576b"
             ],
             [
              0.6666666666666666,
              "#ed7953"
             ],
             [
              0.7777777777777778,
              "#fb9f3a"
             ],
             [
              0.8888888888888888,
              "#fdca26"
             ],
             [
              1,
              "#f0f921"
             ]
            ],
            "type": "histogram2dcontour"
           }
          ],
          "mesh3d": [
           {
            "colorbar": {
             "outlinewidth": 0,
             "ticks": ""
            },
            "type": "mesh3d"
           }
          ],
          "parcoords": [
           {
            "line": {
             "colorbar": {
              "outlinewidth": 0,
              "ticks": ""
             }
            },
            "type": "parcoords"
           }
          ],
          "pie": [
           {
            "automargin": true,
            "type": "pie"
           }
          ],
          "scatter": [
           {
            "marker": {
             "line": {
              "color": "#283442"
             }
            },
            "type": "scatter"
           }
          ],
          "scatter3d": [
           {
            "line": {
             "colorbar": {
              "outlinewidth": 0,
              "ticks": ""
             }
            },
            "marker": {
             "colorbar": {
              "outlinewidth": 0,
              "ticks": ""
             }
            },
            "type": "scatter3d"
           }
          ],
          "scattercarpet": [
           {
            "marker": {
             "colorbar": {
              "outlinewidth": 0,
              "ticks": ""
             }
            },
            "type": "scattercarpet"
           }
          ],
          "scattergeo": [
           {
            "marker": {
             "colorbar": {
              "outlinewidth": 0,
              "ticks": ""
             }
            },
            "type": "scattergeo"
           }
          ],
          "scattergl": [
           {
            "marker": {
             "line": {
              "color": "#283442"
             }
            },
            "type": "scattergl"
           }
          ],
          "scattermap": [
           {
            "marker": {
             "colorbar": {
              "outlinewidth": 0,
              "ticks": ""
             }
            },
            "type": "scattermap"
           }
          ],
          "scattermapbox": [
           {
            "marker": {
             "colorbar": {
              "outlinewidth": 0,
              "ticks": ""
             }
            },
            "type": "scattermapbox"
           }
          ],
          "scatterpolar": [
           {
            "marker": {
             "colorbar": {
              "outlinewidth": 0,
              "ticks": ""
             }
            },
            "type": "scatterpolar"
           }
          ],
          "scatterpolargl": [
           {
            "marker": {
             "colorbar": {
              "outlinewidth": 0,
              "ticks": ""
             }
            },
            "type": "scatterpolargl"
           }
          ],
          "scatterternary": [
           {
            "marker": {
             "colorbar": {
              "outlinewidth": 0,
              "ticks": ""
             }
            },
            "type": "scatterternary"
           }
          ],
          "surface": [
           {
            "colorbar": {
             "outlinewidth": 0,
             "ticks": ""
            },
            "colorscale": [
             [
              0,
              "#0d0887"
             ],
             [
              0.1111111111111111,
              "#46039f"
             ],
             [
              0.2222222222222222,
              "#7201a8"
             ],
             [
              0.3333333333333333,
              "#9c179e"
             ],
             [
              0.4444444444444444,
              "#bd3786"
             ],
             [
              0.5555555555555556,
              "#d8576b"
             ],
             [
              0.6666666666666666,
              "#ed7953"
             ],
             [
              0.7777777777777778,
              "#fb9f3a"
             ],
             [
              0.8888888888888888,
              "#fdca26"
             ],
             [
              1,
              "#f0f921"
             ]
            ],
            "type": "surface"
           }
          ],
          "table": [
           {
            "cells": {
             "fill": {
              "color": "#506784"
             },
             "line": {
              "color": "rgb(17,17,17)"
             }
            },
            "header": {
             "fill": {
              "color": "#2a3f5f"
             },
             "line": {
              "color": "rgb(17,17,17)"
             }
            },
            "type": "table"
           }
          ]
         },
         "layout": {
          "annotationdefaults": {
           "arrowcolor": "#f2f5fa",
           "arrowhead": 0,
           "arrowwidth": 1
          },
          "autotypenumbers": "strict",
          "coloraxis": {
           "colorbar": {
            "outlinewidth": 0,
            "ticks": ""
           }
          },
          "colorscale": {
           "diverging": [
            [
             0,
             "#8e0152"
            ],
            [
             0.1,
             "#c51b7d"
            ],
            [
             0.2,
             "#de77ae"
            ],
            [
             0.3,
             "#f1b6da"
            ],
            [
             0.4,
             "#fde0ef"
            ],
            [
             0.5,
             "#f7f7f7"
            ],
            [
             0.6,
             "#e6f5d0"
            ],
            [
             0.7,
             "#b8e186"
            ],
            [
             0.8,
             "#7fbc41"
            ],
            [
             0.9,
             "#4d9221"
            ],
            [
             1,
             "#276419"
            ]
           ],
           "sequential": [
            [
             0,
             "#0d0887"
            ],
            [
             0.1111111111111111,
             "#46039f"
            ],
            [
             0.2222222222222222,
             "#7201a8"
            ],
            [
             0.3333333333333333,
             "#9c179e"
            ],
            [
             0.4444444444444444,
             "#bd3786"
            ],
            [
             0.5555555555555556,
             "#d8576b"
            ],
            [
             0.6666666666666666,
             "#ed7953"
            ],
            [
             0.7777777777777778,
             "#fb9f3a"
            ],
            [
             0.8888888888888888,
             "#fdca26"
            ],
            [
             1,
             "#f0f921"
            ]
           ],
           "sequentialminus": [
            [
             0,
             "#0d0887"
            ],
            [
             0.1111111111111111,
             "#46039f"
            ],
            [
             0.2222222222222222,
             "#7201a8"
            ],
            [
             0.3333333333333333,
             "#9c179e"
            ],
            [
             0.4444444444444444,
             "#bd3786"
            ],
            [
             0.5555555555555556,
             "#d8576b"
            ],
            [
             0.6666666666666666,
             "#ed7953"
            ],
            [
             0.7777777777777778,
             "#fb9f3a"
            ],
            [
             0.8888888888888888,
             "#fdca26"
            ],
            [
             1,
             "#f0f921"
            ]
           ]
          },
          "colorway": [
           "#636efa",
           "#EF553B",
           "#00cc96",
           "#ab63fa",
           "#FFA15A",
           "#19d3f3",
           "#FF6692",
           "#B6E880",
           "#FF97FF",
           "#FECB52"
          ],
          "font": {
           "color": "#f2f5fa"
          },
          "geo": {
           "bgcolor": "rgb(17,17,17)",
           "lakecolor": "rgb(17,17,17)",
           "landcolor": "rgb(17,17,17)",
           "showlakes": true,
           "showland": true,
           "subunitcolor": "#506784"
          },
          "hoverlabel": {
           "align": "left"
          },
          "hovermode": "closest",
          "mapbox": {
           "style": "dark"
          },
          "paper_bgcolor": "rgb(17,17,17)",
          "plot_bgcolor": "rgb(17,17,17)",
          "polar": {
           "angularaxis": {
            "gridcolor": "#506784",
            "linecolor": "#506784",
            "ticks": ""
           },
           "bgcolor": "rgb(17,17,17)",
           "radialaxis": {
            "gridcolor": "#506784",
            "linecolor": "#506784",
            "ticks": ""
           }
          },
          "scene": {
           "xaxis": {
            "backgroundcolor": "rgb(17,17,17)",
            "gridcolor": "#506784",
            "gridwidth": 2,
            "linecolor": "#506784",
            "showbackground": true,
            "ticks": "",
            "zerolinecolor": "#C8D4E3"
           },
           "yaxis": {
            "backgroundcolor": "rgb(17,17,17)",
            "gridcolor": "#506784",
            "gridwidth": 2,
            "linecolor": "#506784",
            "showbackground": true,
            "ticks": "",
            "zerolinecolor": "#C8D4E3"
           },
           "zaxis": {
            "backgroundcolor": "rgb(17,17,17)",
            "gridcolor": "#506784",
            "gridwidth": 2,
            "linecolor": "#506784",
            "showbackground": true,
            "ticks": "",
            "zerolinecolor": "#C8D4E3"
           }
          },
          "shapedefaults": {
           "line": {
            "color": "#f2f5fa"
           }
          },
          "sliderdefaults": {
           "bgcolor": "#C8D4E3",
           "bordercolor": "rgb(17,17,17)",
           "borderwidth": 1,
           "tickwidth": 0
          },
          "ternary": {
           "aaxis": {
            "gridcolor": "#506784",
            "linecolor": "#506784",
            "ticks": ""
           },
           "baxis": {
            "gridcolor": "#506784",
            "linecolor": "#506784",
            "ticks": ""
           },
           "bgcolor": "rgb(17,17,17)",
           "caxis": {
            "gridcolor": "#506784",
            "linecolor": "#506784",
            "ticks": ""
           }
          },
          "title": {
           "x": 0.05
          },
          "updatemenudefaults": {
           "bgcolor": "#506784",
           "borderwidth": 0
          },
          "xaxis": {
           "automargin": true,
           "gridcolor": "#283442",
           "linecolor": "#506784",
           "ticks": "",
           "title": {
            "standoff": 15
           },
           "zerolinecolor": "#283442",
           "zerolinewidth": 2
          },
          "yaxis": {
           "automargin": true,
           "gridcolor": "#283442",
           "linecolor": "#506784",
           "ticks": "",
           "title": {
            "standoff": 15
           },
           "zerolinecolor": "#283442",
           "zerolinewidth": 2
          }
         }
        },
        "title": {
         "text": "Top 10 Feature Importances (Gradient Boosting)"
        },
        "xaxis": {
         "anchor": "y",
         "domain": [
          0,
          1
         ],
         "tickangle": -45,
         "title": {
          "text": "Feature"
         }
        },
        "yaxis": {
         "anchor": "x",
         "domain": [
          0,
          1
         ],
         "title": {
          "text": "Importance"
         }
        }
       }
      }
     },
     "metadata": {},
     "output_type": "display_data"
    }
   ],
   "source": [
    "import plotly.io as pio\n",
    "\n",
    "def model3_feature_importances():\n",
    "    \"\"\"\n",
    "    Load the precomputed feature importances bar chart for Model 3\n",
    "    and apply the standard dark theme and sizing.\n",
    "    \"\"\"\n",
    "    fig = pio.read_json(\"models/model3/feature_importances.json\")\n",
    "    fig.update_layout(\n",
    "        title=\"Top 10 Feature Importances (Gradient Boosting)\",\n",
    "        template=\"plotly_dark\",\n",
    "        height=500,\n",
    "        margin=dict(l=40, r=40, t=60, b=40)\n",
    "    )\n",
    "    # reverse y‐axis if horizontal bar\n",
    "    if any(trace.orientation == \"h\" for trace in fig.data):\n",
    "        fig.update_layout(yaxis=dict(autorange=\"reversed\"))\n",
    "    return fig\n",
    "\n",
    "model3_feature_importances()"
   ]
  },
  {
   "cell_type": "code",
   "execution_count": 73,
   "id": "921ebaf5",
   "metadata": {},
   "outputs": [
    {
     "data": {
      "application/vnd.plotly.v1+json": {
       "config": {
        "plotlyServerURL": "https://plot.ly"
       },
       "data": [
        {
         "hovertemplate": "color=Correct<br>PC1=%{x}<br>PC2=%{y}<extra></extra>",
         "legendgroup": "Correct",
         "marker": {
          "color": "#7e0d24",
          "opacity": 0.8,
          "size": 8,
          "symbol": "circle"
         },
         "mode": "markers",
         "name": "Correct",
         "orientation": "v",
         "showlegend": true,
         "type": "scatter",
         "x": {
          "bdata": "bK9Myjf0McDmh2GlNOQ1QHKmypjyNjlAEfy9C1MkOsDr+Ki0pNMZQNss46AbtTPAVRJ+GJM+QMC0/U6SVRkrwMzdIxjUAyPAVq8pXU4ERUB7wHED/Aw+QGhLbRmioCbAEjGKM/QQDkBPxWHSpRAoQA==",
          "dtype": "f8"
         },
         "xaxis": "x",
         "y": {
          "bdata": "n+2Zx+BVJUBRPIXvvW7yPwAuOv2wthnA/DTYgQDL8j/szYAKC0IGQA/vnndcSSTA4ODLnpIWPMAiVuajR/oSQMtZVI5lxxtAW+ru4VrOIMAjeCZKGp4IwH469ErbDSNAdZQhBIsAEkAsy0+3bkKrPw==",
          "dtype": "f8"
         },
         "yaxis": "y"
        },
        {
         "hovertemplate": "color=Wrong<br>PC1=%{x}<br>PC2=%{y}<extra></extra>",
         "legendgroup": "Wrong",
         "marker": {
          "color": "#d79c9c",
          "opacity": 0.8,
          "size": 8,
          "symbol": "x"
         },
         "mode": "markers",
         "name": "Wrong",
         "orientation": "v",
         "showlegend": true,
         "type": "scatter",
         "x": {
          "bdata": "bblBwTzs4D+wY9vpk5smwA==",
          "dtype": "f8"
         },
         "xaxis": "x",
         "y": {
          "bdata": "Fbrw2MQ9FEBzd5QOBBEjQA==",
          "dtype": "f8"
         },
         "yaxis": "y"
        }
       ],
       "layout": {
        "legend": {
         "title": {
          "text": "Prediction"
         },
         "tracegroupgap": 0
        },
        "template": {
         "data": {
          "bar": [
           {
            "error_x": {
             "color": "#f2f5fa"
            },
            "error_y": {
             "color": "#f2f5fa"
            },
            "marker": {
             "line": {
              "color": "rgb(17,17,17)",
              "width": 0.5
             },
             "pattern": {
              "fillmode": "overlay",
              "size": 10,
              "solidity": 0.2
             }
            },
            "type": "bar"
           }
          ],
          "barpolar": [
           {
            "marker": {
             "line": {
              "color": "rgb(17,17,17)",
              "width": 0.5
             },
             "pattern": {
              "fillmode": "overlay",
              "size": 10,
              "solidity": 0.2
             }
            },
            "type": "barpolar"
           }
          ],
          "carpet": [
           {
            "aaxis": {
             "endlinecolor": "#A2B1C6",
             "gridcolor": "#506784",
             "linecolor": "#506784",
             "minorgridcolor": "#506784",
             "startlinecolor": "#A2B1C6"
            },
            "baxis": {
             "endlinecolor": "#A2B1C6",
             "gridcolor": "#506784",
             "linecolor": "#506784",
             "minorgridcolor": "#506784",
             "startlinecolor": "#A2B1C6"
            },
            "type": "carpet"
           }
          ],
          "choropleth": [
           {
            "colorbar": {
             "outlinewidth": 0,
             "ticks": ""
            },
            "type": "choropleth"
           }
          ],
          "contour": [
           {
            "colorbar": {
             "outlinewidth": 0,
             "ticks": ""
            },
            "colorscale": [
             [
              0,
              "#0d0887"
             ],
             [
              0.1111111111111111,
              "#46039f"
             ],
             [
              0.2222222222222222,
              "#7201a8"
             ],
             [
              0.3333333333333333,
              "#9c179e"
             ],
             [
              0.4444444444444444,
              "#bd3786"
             ],
             [
              0.5555555555555556,
              "#d8576b"
             ],
             [
              0.6666666666666666,
              "#ed7953"
             ],
             [
              0.7777777777777778,
              "#fb9f3a"
             ],
             [
              0.8888888888888888,
              "#fdca26"
             ],
             [
              1,
              "#f0f921"
             ]
            ],
            "type": "contour"
           }
          ],
          "contourcarpet": [
           {
            "colorbar": {
             "outlinewidth": 0,
             "ticks": ""
            },
            "type": "contourcarpet"
           }
          ],
          "heatmap": [
           {
            "colorbar": {
             "outlinewidth": 0,
             "ticks": ""
            },
            "colorscale": [
             [
              0,
              "#0d0887"
             ],
             [
              0.1111111111111111,
              "#46039f"
             ],
             [
              0.2222222222222222,
              "#7201a8"
             ],
             [
              0.3333333333333333,
              "#9c179e"
             ],
             [
              0.4444444444444444,
              "#bd3786"
             ],
             [
              0.5555555555555556,
              "#d8576b"
             ],
             [
              0.6666666666666666,
              "#ed7953"
             ],
             [
              0.7777777777777778,
              "#fb9f3a"
             ],
             [
              0.8888888888888888,
              "#fdca26"
             ],
             [
              1,
              "#f0f921"
             ]
            ],
            "type": "heatmap"
           }
          ],
          "histogram": [
           {
            "marker": {
             "pattern": {
              "fillmode": "overlay",
              "size": 10,
              "solidity": 0.2
             }
            },
            "type": "histogram"
           }
          ],
          "histogram2d": [
           {
            "colorbar": {
             "outlinewidth": 0,
             "ticks": ""
            },
            "colorscale": [
             [
              0,
              "#0d0887"
             ],
             [
              0.1111111111111111,
              "#46039f"
             ],
             [
              0.2222222222222222,
              "#7201a8"
             ],
             [
              0.3333333333333333,
              "#9c179e"
             ],
             [
              0.4444444444444444,
              "#bd3786"
             ],
             [
              0.5555555555555556,
              "#d8576b"
             ],
             [
              0.6666666666666666,
              "#ed7953"
             ],
             [
              0.7777777777777778,
              "#fb9f3a"
             ],
             [
              0.8888888888888888,
              "#fdca26"
             ],
             [
              1,
              "#f0f921"
             ]
            ],
            "type": "histogram2d"
           }
          ],
          "histogram2dcontour": [
           {
            "colorbar": {
             "outlinewidth": 0,
             "ticks": ""
            },
            "colorscale": [
             [
              0,
              "#0d0887"
             ],
             [
              0.1111111111111111,
              "#46039f"
             ],
             [
              0.2222222222222222,
              "#7201a8"
             ],
             [
              0.3333333333333333,
              "#9c179e"
             ],
             [
              0.4444444444444444,
              "#bd3786"
             ],
             [
              0.5555555555555556,
              "#d8576b"
             ],
             [
              0.6666666666666666,
              "#ed7953"
             ],
             [
              0.7777777777777778,
              "#fb9f3a"
             ],
             [
              0.8888888888888888,
              "#fdca26"
             ],
             [
              1,
              "#f0f921"
             ]
            ],
            "type": "histogram2dcontour"
           }
          ],
          "mesh3d": [
           {
            "colorbar": {
             "outlinewidth": 0,
             "ticks": ""
            },
            "type": "mesh3d"
           }
          ],
          "parcoords": [
           {
            "line": {
             "colorbar": {
              "outlinewidth": 0,
              "ticks": ""
             }
            },
            "type": "parcoords"
           }
          ],
          "pie": [
           {
            "automargin": true,
            "type": "pie"
           }
          ],
          "scatter": [
           {
            "marker": {
             "line": {
              "color": "#283442"
             }
            },
            "type": "scatter"
           }
          ],
          "scatter3d": [
           {
            "line": {
             "colorbar": {
              "outlinewidth": 0,
              "ticks": ""
             }
            },
            "marker": {
             "colorbar": {
              "outlinewidth": 0,
              "ticks": ""
             }
            },
            "type": "scatter3d"
           }
          ],
          "scattercarpet": [
           {
            "marker": {
             "colorbar": {
              "outlinewidth": 0,
              "ticks": ""
             }
            },
            "type": "scattercarpet"
           }
          ],
          "scattergeo": [
           {
            "marker": {
             "colorbar": {
              "outlinewidth": 0,
              "ticks": ""
             }
            },
            "type": "scattergeo"
           }
          ],
          "scattergl": [
           {
            "marker": {
             "line": {
              "color": "#283442"
             }
            },
            "type": "scattergl"
           }
          ],
          "scattermap": [
           {
            "marker": {
             "colorbar": {
              "outlinewidth": 0,
              "ticks": ""
             }
            },
            "type": "scattermap"
           }
          ],
          "scattermapbox": [
           {
            "marker": {
             "colorbar": {
              "outlinewidth": 0,
              "ticks": ""
             }
            },
            "type": "scattermapbox"
           }
          ],
          "scatterpolar": [
           {
            "marker": {
             "colorbar": {
              "outlinewidth": 0,
              "ticks": ""
             }
            },
            "type": "scatterpolar"
           }
          ],
          "scatterpolargl": [
           {
            "marker": {
             "colorbar": {
              "outlinewidth": 0,
              "ticks": ""
             }
            },
            "type": "scatterpolargl"
           }
          ],
          "scatterternary": [
           {
            "marker": {
             "colorbar": {
              "outlinewidth": 0,
              "ticks": ""
             }
            },
            "type": "scatterternary"
           }
          ],
          "surface": [
           {
            "colorbar": {
             "outlinewidth": 0,
             "ticks": ""
            },
            "colorscale": [
             [
              0,
              "#0d0887"
             ],
             [
              0.1111111111111111,
              "#46039f"
             ],
             [
              0.2222222222222222,
              "#7201a8"
             ],
             [
              0.3333333333333333,
              "#9c179e"
             ],
             [
              0.4444444444444444,
              "#bd3786"
             ],
             [
              0.5555555555555556,
              "#d8576b"
             ],
             [
              0.6666666666666666,
              "#ed7953"
             ],
             [
              0.7777777777777778,
              "#fb9f3a"
             ],
             [
              0.8888888888888888,
              "#fdca26"
             ],
             [
              1,
              "#f0f921"
             ]
            ],
            "type": "surface"
           }
          ],
          "table": [
           {
            "cells": {
             "fill": {
              "color": "#506784"
             },
             "line": {
              "color": "rgb(17,17,17)"
             }
            },
            "header": {
             "fill": {
              "color": "#2a3f5f"
             },
             "line": {
              "color": "rgb(17,17,17)"
             }
            },
            "type": "table"
           }
          ]
         },
         "layout": {
          "annotationdefaults": {
           "arrowcolor": "#f2f5fa",
           "arrowhead": 0,
           "arrowwidth": 1
          },
          "autotypenumbers": "strict",
          "coloraxis": {
           "colorbar": {
            "outlinewidth": 0,
            "ticks": ""
           }
          },
          "colorscale": {
           "diverging": [
            [
             0,
             "#8e0152"
            ],
            [
             0.1,
             "#c51b7d"
            ],
            [
             0.2,
             "#de77ae"
            ],
            [
             0.3,
             "#f1b6da"
            ],
            [
             0.4,
             "#fde0ef"
            ],
            [
             0.5,
             "#f7f7f7"
            ],
            [
             0.6,
             "#e6f5d0"
            ],
            [
             0.7,
             "#b8e186"
            ],
            [
             0.8,
             "#7fbc41"
            ],
            [
             0.9,
             "#4d9221"
            ],
            [
             1,
             "#276419"
            ]
           ],
           "sequential": [
            [
             0,
             "#0d0887"
            ],
            [
             0.1111111111111111,
             "#46039f"
            ],
            [
             0.2222222222222222,
             "#7201a8"
            ],
            [
             0.3333333333333333,
             "#9c179e"
            ],
            [
             0.4444444444444444,
             "#bd3786"
            ],
            [
             0.5555555555555556,
             "#d8576b"
            ],
            [
             0.6666666666666666,
             "#ed7953"
            ],
            [
             0.7777777777777778,
             "#fb9f3a"
            ],
            [
             0.8888888888888888,
             "#fdca26"
            ],
            [
             1,
             "#f0f921"
            ]
           ],
           "sequentialminus": [
            [
             0,
             "#0d0887"
            ],
            [
             0.1111111111111111,
             "#46039f"
            ],
            [
             0.2222222222222222,
             "#7201a8"
            ],
            [
             0.3333333333333333,
             "#9c179e"
            ],
            [
             0.4444444444444444,
             "#bd3786"
            ],
            [
             0.5555555555555556,
             "#d8576b"
            ],
            [
             0.6666666666666666,
             "#ed7953"
            ],
            [
             0.7777777777777778,
             "#fb9f3a"
            ],
            [
             0.8888888888888888,
             "#fdca26"
            ],
            [
             1,
             "#f0f921"
            ]
           ]
          },
          "colorway": [
           "#636efa",
           "#EF553B",
           "#00cc96",
           "#ab63fa",
           "#FFA15A",
           "#19d3f3",
           "#FF6692",
           "#B6E880",
           "#FF97FF",
           "#FECB52"
          ],
          "font": {
           "color": "#f2f5fa"
          },
          "geo": {
           "bgcolor": "rgb(17,17,17)",
           "lakecolor": "rgb(17,17,17)",
           "landcolor": "rgb(17,17,17)",
           "showlakes": true,
           "showland": true,
           "subunitcolor": "#506784"
          },
          "hoverlabel": {
           "align": "left"
          },
          "hovermode": "closest",
          "mapbox": {
           "style": "dark"
          },
          "paper_bgcolor": "rgb(17,17,17)",
          "plot_bgcolor": "rgb(17,17,17)",
          "polar": {
           "angularaxis": {
            "gridcolor": "#506784",
            "linecolor": "#506784",
            "ticks": ""
           },
           "bgcolor": "rgb(17,17,17)",
           "radialaxis": {
            "gridcolor": "#506784",
            "linecolor": "#506784",
            "ticks": ""
           }
          },
          "scene": {
           "xaxis": {
            "backgroundcolor": "rgb(17,17,17)",
            "gridcolor": "#506784",
            "gridwidth": 2,
            "linecolor": "#506784",
            "showbackground": true,
            "ticks": "",
            "zerolinecolor": "#C8D4E3"
           },
           "yaxis": {
            "backgroundcolor": "rgb(17,17,17)",
            "gridcolor": "#506784",
            "gridwidth": 2,
            "linecolor": "#506784",
            "showbackground": true,
            "ticks": "",
            "zerolinecolor": "#C8D4E3"
           },
           "zaxis": {
            "backgroundcolor": "rgb(17,17,17)",
            "gridcolor": "#506784",
            "gridwidth": 2,
            "linecolor": "#506784",
            "showbackground": true,
            "ticks": "",
            "zerolinecolor": "#C8D4E3"
           }
          },
          "shapedefaults": {
           "line": {
            "color": "#f2f5fa"
           }
          },
          "sliderdefaults": {
           "bgcolor": "#C8D4E3",
           "bordercolor": "rgb(17,17,17)",
           "borderwidth": 1,
           "tickwidth": 0
          },
          "ternary": {
           "aaxis": {
            "gridcolor": "#506784",
            "linecolor": "#506784",
            "ticks": ""
           },
           "baxis": {
            "gridcolor": "#506784",
            "linecolor": "#506784",
            "ticks": ""
           },
           "bgcolor": "rgb(17,17,17)",
           "caxis": {
            "gridcolor": "#506784",
            "linecolor": "#506784",
            "ticks": ""
           }
          },
          "title": {
           "x": 0.05
          },
          "updatemenudefaults": {
           "bgcolor": "#506784",
           "borderwidth": 0
          },
          "xaxis": {
           "automargin": true,
           "gridcolor": "#283442",
           "linecolor": "#506784",
           "ticks": "",
           "title": {
            "standoff": 15
           },
           "zerolinecolor": "#283442",
           "zerolinewidth": 2
          },
          "yaxis": {
           "automargin": true,
           "gridcolor": "#283442",
           "linecolor": "#506784",
           "ticks": "",
           "title": {
            "standoff": 15
           },
           "zerolinecolor": "#283442",
           "zerolinewidth": 2
          }
         }
        },
        "title": {
         "text": "2D PCA of Test Points: Correct vs. Misclassified"
        },
        "xaxis": {
         "anchor": "y",
         "domain": [
          0,
          1
         ],
         "title": {
          "text": "PC1"
         }
        },
        "yaxis": {
         "anchor": "x",
         "domain": [
          0,
          1
         ],
         "title": {
          "text": "PC2"
         }
        }
       }
      }
     },
     "metadata": {},
     "output_type": "display_data"
    }
   ],
   "source": [
    "import plotly.io as pio\n",
    "\n",
    "def model3_classification_scatter():\n",
    "    \"\"\"\n",
    "    Load and return the 2D PCA scatter of test points,\n",
    "    colored by correct vs. misclassified (from model3).\n",
    "    \"\"\"\n",
    "    # Read the serialized figure\n",
    "    fig = pio.read_json(\"models/model3/classification_scatter.json\")\n",
    "    \n",
    "    # Tweak layout if needed\n",
    "    fig.update_layout(\n",
    "        title=\"2D PCA of Test Points: Correct vs. Misclassified\",\n",
    "        legend_title=\"Prediction\",\n",
    "        template=\"plotly_dark\",\n",
    "    )\n",
    "    fig.update_traces(marker=dict(size=8, opacity=0.8))\n",
    "    \n",
    "    return fig\n",
    "\n",
    "model3_classification_scatter()"
   ]
  },
  {
   "cell_type": "markdown",
   "id": "1c57c27b",
   "metadata": {},
   "source": [
    "# Model 7"
   ]
  },
  {
   "cell_type": "code",
   "execution_count": null,
   "id": "9137748f",
   "metadata": {},
   "outputs": [],
   "source": [
    "import numpy as np\n",
    "import pandas as pd\n",
    "from sklearn.model_selection import train_test_split\n",
    "from sklearn.multioutput import MultiOutputClassifier\n",
    "from sklearn.linear_model import LogisticRegression\n",
    "from sklearn.ensemble import RandomForestClassifier\n",
    "from sklearn.multiclass import OneVsRestClassifier\n",
    "from sklearn.preprocessing import StandardScaler\n",
    "from sklearn.pipeline import Pipeline\n",
    "from sklearn.metrics import classification_report, hamming_loss\n",
    "import tensorflow as tf\n",
    "from tensorflow.keras import layers, models\n",
    "\n",
    "# 1) BUILD FEATURE MATRIX X and MULTI-LABEL TARGET Y -----------------------\n",
    "\n",
    "# static features from Attributes\n",
    "static_feats = df_attr.set_index(\"ID\")[\n",
    "    [\"Base fee\", \"Cleaning fee\", \"Bedrooms\", \"Beds\", \"Baths\"] +\n",
    "    [c for c in df_attr.columns if c.endswith(\"_rating\")]\n",
    "]\n",
    "\n",
    "# volatility features\n",
    "vol_feats = compute_volatility_features()\n",
    "\n",
    "# UMAP coords\n",
    "df_space, _, _, _ = build_umap_and_distances()\n",
    "umap_feats = df_space.set_index(\"ID\")[[\"UMAP1\", \"UMAP2\", \"UMAP3\"]]\n",
    "\n",
    "# price_time_series summaries\n",
    "# (already computed in build_umap_and_distances as price_mean, price_std, price_trend)\n",
    "# but if not, recompute quickly:\n",
    "price_summary = (\n",
    "    df_prices\n",
    "    .groupby(\"ID\")['Value']\n",
    "    .agg(price_mean=lambda x: np.log1p(x).mean(),\n",
    "         price_std = lambda x: np.log1p(x).std(),\n",
    "         price_trend=lambda x: LinearRegression()\n",
    "                              .fit(\n",
    "                                  (pd.to_datetime(df_prices.loc[x.index,\"Date\"]) \n",
    "                                   - pd.to_datetime(df_prices.loc[x.index,\"Date\"]).min()\n",
    "                                  ).dt.days.values.reshape(-1,1),\n",
    "                                  np.log1p(x)\n",
    "                              ).coef_[0]\n",
    "        )\n",
    ")\n",
    "\n",
    "# combine all numeric features\n",
    "X = (\n",
    "    static_feats\n",
    "    .join(vol_feats, how=\"inner\")\n",
    "    .join(umap_feats, how=\"inner\")\n",
    "    .join(price_summary, how=\"inner\")\n",
    "    .dropna()\n",
    ")\n",
    "\n",
    "# multi-label target: selected amenities one-hot\n",
    "amenities = [\n",
    "    \"Wifi\",\"Kitchen\",\"Washer\",\"Dryer\",\"Air conditioning\",\"Heating\",\n",
    "    \"TV\",\"Jacuzzi\",\"Elevator\",\"Patio or balcony\"\n",
    "]\n",
    "Y = df_attr.set_index(\"ID\")[amenities].loc[X.index].astype(int)\n",
    "\n",
    "# train/test split\n",
    "X_train, X_test, y_train, y_test = train_test_split(\n",
    "    X, Y, test_size=0.3, random_state=42\n",
    ")\n",
    "\n",
    "\n",
    "# 2) MODEL A: MultiOutput Random Forest --------------------------------------\n",
    "\n",
    "rf = MultiOutputClassifier(\n",
    "    Pipeline([\n",
    "        ('scale', StandardScaler()),\n",
    "        ('rf', RandomForestClassifier(n_estimators=200, random_state=0))\n",
    "    ])\n",
    ")\n",
    "rf.fit(X_train, y_train)\n",
    "y_pred_rf = pd.DataFrame(rf.predict(X_test), index=y_test.index, columns=y_test.columns)\n",
    "\n",
    "print(\"== Random Forest MultiOutput ==\")\n",
    "print(\"Hamming loss:\", hamming_loss(y_test, y_pred_rf))\n",
    "print(classification_report(y_test, y_pred_rf, zero_division=0))\n",
    "\n",
    "\n",
    "# 3) MODEL B: One-vs-Rest Logistic Regression -------------------------------\n",
    "\n",
    "ovr = OneVsRestClassifier(\n",
    "    Pipeline([\n",
    "        ('scale', StandardScaler()),\n",
    "        ('lr', LogisticRegression(solver='liblinear'))\n",
    "    ])\n",
    ")\n",
    "ovr.fit(X_train, y_train)\n",
    "y_pred_ovr = pd.DataFrame(ovr.predict(X_test), index=y_test.index, columns=y_test.columns)\n",
    "\n",
    "print(\"== One-vs-Rest Logistic ==\")\n",
    "print(\"Hamming loss:\", hamming_loss(y_test, y_pred_ovr))\n",
    "print(classification_report(y_test, y_pred_ovr, zero_division=0))\n",
    "\n",
    "\n",
    "# 4) MODEL C: Deep MLP with Sigmoid Outputs ---------------------------------\n",
    "\n",
    "# build a simple MLP\n",
    "input_dim = X_train.shape[1]\n",
    "output_dim = y_train.shape[1]\n",
    "\n",
    "mlp = models.Sequential([\n",
    "    layers.Input(shape=(input_dim,)),\n",
    "    layers.Dense(128, activation='relu'),\n",
    "    layers.Dropout(0.3),\n",
    "    layers.Dense(64, activation='relu'),\n",
    "    layers.Dropout(0.3),\n",
    "    layers.Dense(output_dim, activation='sigmoid')\n",
    "])\n",
    "mlp.compile(\n",
    "    loss='binary_crossentropy',\n",
    "    optimizer='adam',\n",
    "    metrics=[tf.keras.metrics.BinaryAccuracy(name='accuracy')]\n",
    ")\n",
    "\n",
    "# scale data\n",
    "scaler = StandardScaler().fit(X_train)\n",
    "Xtr = scaler.transform(X_train)\n",
    "Xte = scaler.transform(X_test)\n",
    "\n",
    "# train\n",
    "mlp.fit(Xtr, y_train.values, \n",
    "        validation_split=0.1, epochs=20, batch_size=32, verbose=1)\n",
    "\n",
    "# predict (threshold at 0.5)\n",
    "y_prob = mlp.predict(Xte)\n",
    "y_pred_mlp = (y_prob > 0.5).astype(int)\n",
    "y_pred_mlp = pd.DataFrame(y_pred_mlp, index=y_test.index, columns=y_test.columns)\n",
    "\n",
    "print(\"== Deep MLP ==\")\n",
    "print(\"Hamming loss:\", hamming_loss(y_test, y_pred_mlp))\n",
    "print(classification_report(y_test, y_pred_mlp, zero_division=0))\n"
   ]
  },
  {
   "cell_type": "markdown",
   "id": "2a0740f6",
   "metadata": {},
   "source": [
    "# Extra"
   ]
  },
  {
   "cell_type": "code",
   "execution_count": 89,
   "id": "3ce254a2",
   "metadata": {},
   "outputs": [
    {
     "name": "stdout",
     "output_type": "stream",
     "text": [
      "UMAP completado\n",
      " Matriz de distancias calculada\n"
     ]
    },
    {
     "data": {
      "application/vnd.plotly.v1+json": {
       "config": {
        "plotlyServerURL": "https://plot.ly"
       },
       "data": [
        {
         "coloraxis": "coloraxis",
         "hovertemplate": "UMAP: %{x}<br>Variable: %{y}<br>Correlación: %{z}<extra></extra>",
         "name": "0",
         "texttemplate": "%{z:.2f}",
         "type": "heatmap",
         "x": [
          "UMAP1",
          "UMAP2",
          "UMAP3"
         ],
         "xaxis": "x",
         "y": [
          "price_trend",
          "price_std",
          "Patio or balcony",
          "Smoke detector",
          "Stove",
          "Refrigerator",
          "Elevator",
          "price_mean",
          "Security cameras",
          "Heating"
         ],
         "yaxis": "y",
         "z": {
          "bdata": "Y6oMq+ev1r/cppUBitvqv8x3tXxrgdo/HnQa7cVb279cZxkFc0jqv5b+Ct7/BtM/DtSiQPnqsr9gYp5r/I9+v/uKspxYKOi/bdYEOXLP4z+SlINtN9mVPy/35ggASqE/elLTKVFg0r+8KizuVn6lP8H3jIp+yeK/0Tp5z7QrvL++WHbAiWDFv8AvhhV/Y+K/YRqGouWm0L/5BtPZUeWwv4s1oTQ8X+C/+svh9EjL0L+2x640SCrgv5dTN7T+9Mk/6D4FvNRlzT92zB5jUTzav4KHpQ+YC96/cyIhqzR5xL9X0vV6RArbv7lDDdd0Fdi/",
          "dtype": "f8",
          "shape": "10, 3"
         }
        }
       ],
       "layout": {
        "coloraxis": {
         "cmax": 1,
         "cmin": -1,
         "colorbar": {
          "title": {
           "text": "Correlación"
          }
         },
         "colorscale": [
          [
           0,
           "rgb(103,0,31)"
          ],
          [
           0.1,
           "rgb(178,24,43)"
          ],
          [
           0.2,
           "rgb(214,96,77)"
          ],
          [
           0.3,
           "rgb(244,165,130)"
          ],
          [
           0.4,
           "rgb(253,219,199)"
          ],
          [
           0.5,
           "rgb(247,247,247)"
          ],
          [
           0.6,
           "rgb(209,229,240)"
          ],
          [
           0.7,
           "rgb(146,197,222)"
          ],
          [
           0.8,
           "rgb(67,147,195)"
          ],
          [
           0.9,
           "rgb(33,102,172)"
          ],
          [
           1,
           "rgb(5,48,97)"
          ]
         ]
        },
        "height": 600,
        "margin": {
         "t": 60
        },
        "template": {
         "data": {
          "bar": [
           {
            "error_x": {
             "color": "#2a3f5f"
            },
            "error_y": {
             "color": "#2a3f5f"
            },
            "marker": {
             "line": {
              "color": "#E5ECF6",
              "width": 0.5
             },
             "pattern": {
              "fillmode": "overlay",
              "size": 10,
              "solidity": 0.2
             }
            },
            "type": "bar"
           }
          ],
          "barpolar": [
           {
            "marker": {
             "line": {
              "color": "#E5ECF6",
              "width": 0.5
             },
             "pattern": {
              "fillmode": "overlay",
              "size": 10,
              "solidity": 0.2
             }
            },
            "type": "barpolar"
           }
          ],
          "carpet": [
           {
            "aaxis": {
             "endlinecolor": "#2a3f5f",
             "gridcolor": "white",
             "linecolor": "white",
             "minorgridcolor": "white",
             "startlinecolor": "#2a3f5f"
            },
            "baxis": {
             "endlinecolor": "#2a3f5f",
             "gridcolor": "white",
             "linecolor": "white",
             "minorgridcolor": "white",
             "startlinecolor": "#2a3f5f"
            },
            "type": "carpet"
           }
          ],
          "choropleth": [
           {
            "colorbar": {
             "outlinewidth": 0,
             "ticks": ""
            },
            "type": "choropleth"
           }
          ],
          "contour": [
           {
            "colorbar": {
             "outlinewidth": 0,
             "ticks": ""
            },
            "colorscale": [
             [
              0,
              "#0d0887"
             ],
             [
              0.1111111111111111,
              "#46039f"
             ],
             [
              0.2222222222222222,
              "#7201a8"
             ],
             [
              0.3333333333333333,
              "#9c179e"
             ],
             [
              0.4444444444444444,
              "#bd3786"
             ],
             [
              0.5555555555555556,
              "#d8576b"
             ],
             [
              0.6666666666666666,
              "#ed7953"
             ],
             [
              0.7777777777777778,
              "#fb9f3a"
             ],
             [
              0.8888888888888888,
              "#fdca26"
             ],
             [
              1,
              "#f0f921"
             ]
            ],
            "type": "contour"
           }
          ],
          "contourcarpet": [
           {
            "colorbar": {
             "outlinewidth": 0,
             "ticks": ""
            },
            "type": "contourcarpet"
           }
          ],
          "heatmap": [
           {
            "colorbar": {
             "outlinewidth": 0,
             "ticks": ""
            },
            "colorscale": [
             [
              0,
              "#0d0887"
             ],
             [
              0.1111111111111111,
              "#46039f"
             ],
             [
              0.2222222222222222,
              "#7201a8"
             ],
             [
              0.3333333333333333,
              "#9c179e"
             ],
             [
              0.4444444444444444,
              "#bd3786"
             ],
             [
              0.5555555555555556,
              "#d8576b"
             ],
             [
              0.6666666666666666,
              "#ed7953"
             ],
             [
              0.7777777777777778,
              "#fb9f3a"
             ],
             [
              0.8888888888888888,
              "#fdca26"
             ],
             [
              1,
              "#f0f921"
             ]
            ],
            "type": "heatmap"
           }
          ],
          "histogram": [
           {
            "marker": {
             "pattern": {
              "fillmode": "overlay",
              "size": 10,
              "solidity": 0.2
             }
            },
            "type": "histogram"
           }
          ],
          "histogram2d": [
           {
            "colorbar": {
             "outlinewidth": 0,
             "ticks": ""
            },
            "colorscale": [
             [
              0,
              "#0d0887"
             ],
             [
              0.1111111111111111,
              "#46039f"
             ],
             [
              0.2222222222222222,
              "#7201a8"
             ],
             [
              0.3333333333333333,
              "#9c179e"
             ],
             [
              0.4444444444444444,
              "#bd3786"
             ],
             [
              0.5555555555555556,
              "#d8576b"
             ],
             [
              0.6666666666666666,
              "#ed7953"
             ],
             [
              0.7777777777777778,
              "#fb9f3a"
             ],
             [
              0.8888888888888888,
              "#fdca26"
             ],
             [
              1,
              "#f0f921"
             ]
            ],
            "type": "histogram2d"
           }
          ],
          "histogram2dcontour": [
           {
            "colorbar": {
             "outlinewidth": 0,
             "ticks": ""
            },
            "colorscale": [
             [
              0,
              "#0d0887"
             ],
             [
              0.1111111111111111,
              "#46039f"
             ],
             [
              0.2222222222222222,
              "#7201a8"
             ],
             [
              0.3333333333333333,
              "#9c179e"
             ],
             [
              0.4444444444444444,
              "#bd3786"
             ],
             [
              0.5555555555555556,
              "#d8576b"
             ],
             [
              0.6666666666666666,
              "#ed7953"
             ],
             [
              0.7777777777777778,
              "#fb9f3a"
             ],
             [
              0.8888888888888888,
              "#fdca26"
             ],
             [
              1,
              "#f0f921"
             ]
            ],
            "type": "histogram2dcontour"
           }
          ],
          "mesh3d": [
           {
            "colorbar": {
             "outlinewidth": 0,
             "ticks": ""
            },
            "type": "mesh3d"
           }
          ],
          "parcoords": [
           {
            "line": {
             "colorbar": {
              "outlinewidth": 0,
              "ticks": ""
             }
            },
            "type": "parcoords"
           }
          ],
          "pie": [
           {
            "automargin": true,
            "type": "pie"
           }
          ],
          "scatter": [
           {
            "fillpattern": {
             "fillmode": "overlay",
             "size": 10,
             "solidity": 0.2
            },
            "type": "scatter"
           }
          ],
          "scatter3d": [
           {
            "line": {
             "colorbar": {
              "outlinewidth": 0,
              "ticks": ""
             }
            },
            "marker": {
             "colorbar": {
              "outlinewidth": 0,
              "ticks": ""
             }
            },
            "type": "scatter3d"
           }
          ],
          "scattercarpet": [
           {
            "marker": {
             "colorbar": {
              "outlinewidth": 0,
              "ticks": ""
             }
            },
            "type": "scattercarpet"
           }
          ],
          "scattergeo": [
           {
            "marker": {
             "colorbar": {
              "outlinewidth": 0,
              "ticks": ""
             }
            },
            "type": "scattergeo"
           }
          ],
          "scattergl": [
           {
            "marker": {
             "colorbar": {
              "outlinewidth": 0,
              "ticks": ""
             }
            },
            "type": "scattergl"
           }
          ],
          "scattermap": [
           {
            "marker": {
             "colorbar": {
              "outlinewidth": 0,
              "ticks": ""
             }
            },
            "type": "scattermap"
           }
          ],
          "scattermapbox": [
           {
            "marker": {
             "colorbar": {
              "outlinewidth": 0,
              "ticks": ""
             }
            },
            "type": "scattermapbox"
           }
          ],
          "scatterpolar": [
           {
            "marker": {
             "colorbar": {
              "outlinewidth": 0,
              "ticks": ""
             }
            },
            "type": "scatterpolar"
           }
          ],
          "scatterpolargl": [
           {
            "marker": {
             "colorbar": {
              "outlinewidth": 0,
              "ticks": ""
             }
            },
            "type": "scatterpolargl"
           }
          ],
          "scatterternary": [
           {
            "marker": {
             "colorbar": {
              "outlinewidth": 0,
              "ticks": ""
             }
            },
            "type": "scatterternary"
           }
          ],
          "surface": [
           {
            "colorbar": {
             "outlinewidth": 0,
             "ticks": ""
            },
            "colorscale": [
             [
              0,
              "#0d0887"
             ],
             [
              0.1111111111111111,
              "#46039f"
             ],
             [
              0.2222222222222222,
              "#7201a8"
             ],
             [
              0.3333333333333333,
              "#9c179e"
             ],
             [
              0.4444444444444444,
              "#bd3786"
             ],
             [
              0.5555555555555556,
              "#d8576b"
             ],
             [
              0.6666666666666666,
              "#ed7953"
             ],
             [
              0.7777777777777778,
              "#fb9f3a"
             ],
             [
              0.8888888888888888,
              "#fdca26"
             ],
             [
              1,
              "#f0f921"
             ]
            ],
            "type": "surface"
           }
          ],
          "table": [
           {
            "cells": {
             "fill": {
              "color": "#EBF0F8"
             },
             "line": {
              "color": "white"
             }
            },
            "header": {
             "fill": {
              "color": "#C8D4E3"
             },
             "line": {
              "color": "white"
             }
            },
            "type": "table"
           }
          ]
         },
         "layout": {
          "annotationdefaults": {
           "arrowcolor": "#2a3f5f",
           "arrowhead": 0,
           "arrowwidth": 1
          },
          "autotypenumbers": "strict",
          "coloraxis": {
           "colorbar": {
            "outlinewidth": 0,
            "ticks": ""
           }
          },
          "colorscale": {
           "diverging": [
            [
             0,
             "#8e0152"
            ],
            [
             0.1,
             "#c51b7d"
            ],
            [
             0.2,
             "#de77ae"
            ],
            [
             0.3,
             "#f1b6da"
            ],
            [
             0.4,
             "#fde0ef"
            ],
            [
             0.5,
             "#f7f7f7"
            ],
            [
             0.6,
             "#e6f5d0"
            ],
            [
             0.7,
             "#b8e186"
            ],
            [
             0.8,
             "#7fbc41"
            ],
            [
             0.9,
             "#4d9221"
            ],
            [
             1,
             "#276419"
            ]
           ],
           "sequential": [
            [
             0,
             "#0d0887"
            ],
            [
             0.1111111111111111,
             "#46039f"
            ],
            [
             0.2222222222222222,
             "#7201a8"
            ],
            [
             0.3333333333333333,
             "#9c179e"
            ],
            [
             0.4444444444444444,
             "#bd3786"
            ],
            [
             0.5555555555555556,
             "#d8576b"
            ],
            [
             0.6666666666666666,
             "#ed7953"
            ],
            [
             0.7777777777777778,
             "#fb9f3a"
            ],
            [
             0.8888888888888888,
             "#fdca26"
            ],
            [
             1,
             "#f0f921"
            ]
           ],
           "sequentialminus": [
            [
             0,
             "#0d0887"
            ],
            [
             0.1111111111111111,
             "#46039f"
            ],
            [
             0.2222222222222222,
             "#7201a8"
            ],
            [
             0.3333333333333333,
             "#9c179e"
            ],
            [
             0.4444444444444444,
             "#bd3786"
            ],
            [
             0.5555555555555556,
             "#d8576b"
            ],
            [
             0.6666666666666666,
             "#ed7953"
            ],
            [
             0.7777777777777778,
             "#fb9f3a"
            ],
            [
             0.8888888888888888,
             "#fdca26"
            ],
            [
             1,
             "#f0f921"
            ]
           ]
          },
          "colorway": [
           "#636efa",
           "#EF553B",
           "#00cc96",
           "#ab63fa",
           "#FFA15A",
           "#19d3f3",
           "#FF6692",
           "#B6E880",
           "#FF97FF",
           "#FECB52"
          ],
          "font": {
           "color": "#2a3f5f"
          },
          "geo": {
           "bgcolor": "white",
           "lakecolor": "white",
           "landcolor": "#E5ECF6",
           "showlakes": true,
           "showland": true,
           "subunitcolor": "white"
          },
          "hoverlabel": {
           "align": "left"
          },
          "hovermode": "closest",
          "mapbox": {
           "style": "light"
          },
          "paper_bgcolor": "white",
          "plot_bgcolor": "#E5ECF6",
          "polar": {
           "angularaxis": {
            "gridcolor": "white",
            "linecolor": "white",
            "ticks": ""
           },
           "bgcolor": "#E5ECF6",
           "radialaxis": {
            "gridcolor": "white",
            "linecolor": "white",
            "ticks": ""
           }
          },
          "scene": {
           "xaxis": {
            "backgroundcolor": "#E5ECF6",
            "gridcolor": "white",
            "gridwidth": 2,
            "linecolor": "white",
            "showbackground": true,
            "ticks": "",
            "zerolinecolor": "white"
           },
           "yaxis": {
            "backgroundcolor": "#E5ECF6",
            "gridcolor": "white",
            "gridwidth": 2,
            "linecolor": "white",
            "showbackground": true,
            "ticks": "",
            "zerolinecolor": "white"
           },
           "zaxis": {
            "backgroundcolor": "#E5ECF6",
            "gridcolor": "white",
            "gridwidth": 2,
            "linecolor": "white",
            "showbackground": true,
            "ticks": "",
            "zerolinecolor": "white"
           }
          },
          "shapedefaults": {
           "line": {
            "color": "#2a3f5f"
           }
          },
          "ternary": {
           "aaxis": {
            "gridcolor": "white",
            "linecolor": "white",
            "ticks": ""
           },
           "baxis": {
            "gridcolor": "white",
            "linecolor": "white",
            "ticks": ""
           },
           "bgcolor": "#E5ECF6",
           "caxis": {
            "gridcolor": "white",
            "linecolor": "white",
            "ticks": ""
           }
          },
          "title": {
           "x": 0.05
          },
          "xaxis": {
           "automargin": true,
           "gridcolor": "white",
           "linecolor": "white",
           "ticks": "",
           "title": {
            "standoff": 15
           },
           "zerolinecolor": "white",
           "zerolinewidth": 2
          },
          "yaxis": {
           "automargin": true,
           "gridcolor": "white",
           "linecolor": "white",
           "ticks": "",
           "title": {
            "standoff": 15
           },
           "zerolinecolor": "white",
           "zerolinewidth": 2
          }
         }
        },
        "title": {
         "text": "Top 10 variables más correlacionadas con UMAP1, UMAP2 y UMAP3"
        },
        "xaxis": {
         "anchor": "y",
         "constrain": "domain",
         "domain": [
          0,
          1
         ],
         "scaleanchor": "y",
         "title": {
          "text": "Componente UMAP"
         }
        },
        "yaxis": {
         "anchor": "x",
         "autorange": "reversed",
         "constrain": "domain",
         "domain": [
          0,
          1
         ],
         "title": {
          "text": "Variable original"
         }
        }
       }
      }
     },
     "metadata": {},
     "output_type": "display_data"
    }
   ],
   "source": [
    "from datetime import datetime\n",
    "\n",
    "conn = sqlite3.connect(\"airbnb_cartagena.sqlite\")\n",
    "df_attributes = pd.read_sql_query(\"SELECT * FROM Attributes\", conn)\n",
    "df_time_series = pd.read_sql_query(\"SELECT * FROM TimeSeriesInterpolated\", conn)\n",
    "conn.close()\n",
    "\n",
    "to_keep = [\n",
    "    \"Keypad\", \"Lock on door\", \"Smoke detector\", \"Security cameras\", \"AC\", \"Heating\", \n",
    "    \"Patio or balcony\", \"Stove\", \"Elevator\", \"Refrigerator\", \"Kitchen\", \"Wifi\", \n",
    "    \"TV\", \"Jacuzzi\", \"Carport\", \"Hot water\", \n",
    "]\n",
    "df_attributes = df_attributes[to_keep + [\"ID\"]]\n",
    "\n",
    "\n",
    "columnas_fecha = []\n",
    "for col in df_time_series.columns:\n",
    "    try:\n",
    "        datetime.strptime(col.strip(), \"%d/%m/%Y\")\n",
    "        columnas_fecha.append(col)\n",
    "    except ValueError:\n",
    "        continue\n",
    "\n",
    "\n",
    "df_prices = df_time_series.melt(\n",
    "    id_vars=[\"ID\"],\n",
    "    value_vars=columnas_fecha,\n",
    "    var_name=\"Date\",\n",
    "    value_name=\"Value\"\n",
    ")\n",
    "df_prices[\"Date\"] = pd.to_datetime(df_prices[\"Date\"])\n",
    "ids_con_nan = df_prices[df_prices[\"Value\"].isna()][\"ID\"].unique()\n",
    "\n",
    "df_prices = df_prices[~df_prices[\"ID\"].isin(ids_con_nan)]\n",
    "df_attributes = df_attributes[~df_attributes[\"ID\"].isin(ids_con_nan)]\n",
    "\n",
    "\n",
    "\n",
    "\n",
    "\n",
    "\n",
    "\n",
    "df_num = df_attributes.select_dtypes(include=[np.number]).drop(columns=[\"ID\"])\n",
    "\n",
    "def summarize_prices(df_prices):\n",
    "    df_prices[\"log_price\"] = np.log1p(df_prices[\"Value\"])\n",
    "    summary = df_prices.groupby(\"ID\")[\"log_price\"].agg([\n",
    "        'mean', 'std'\n",
    "    ]).rename(columns={\"mean\": \"price_mean\", \"std\": \"price_std\"})\n",
    "\n",
    "    df_prices['day'] = (df_prices['Date'] - df_prices['Date'].min()).dt.days\n",
    "    trends = []\n",
    "    for _, group in df_prices.groupby('ID'):\n",
    "        X = group['day'].values.reshape(-1, 1)\n",
    "        y = np.log1p(group['Value'].values)\n",
    "        slope = LinearRegression().fit(X, y).coef_[0] if len(np.unique(X)) > 1 else 0.0\n",
    "        trends.append(slope)\n",
    "    summary['price_trend'] = trends\n",
    "    return summary\n",
    "\n",
    "df_price_summary = summarize_prices(df_prices)\n",
    "df_merged = df_attributes.merge(df_price_summary, left_on=\"ID\", right_index=True)\n",
    "\n",
    "\n",
    "df_final_num = df_merged.select_dtypes(include=[np.number]).drop(columns=[\"ID\"])\n",
    "\n",
    "\n",
    "\n",
    "scaler = StandardScaler()\n",
    "X_scaled = scaler.fit_transform(df_final_num)\n",
    "\n",
    "umap_model = umap.UMAP(n_components=3, n_neighbors=30, min_dist=0.1, random_state=69)  \n",
    "X_umap = umap_model.fit_transform(X_scaled)\n",
    "print(f\"UMAP completado\")\n",
    "\n",
    "ids = df_attributes[\"ID\"].values\n",
    "df_space = pd.DataFrame(X_umap, columns=[f\"UMAP{i+1}\" for i in range(X_umap.shape[1])], index=ids)\n",
    "\n",
    "df_space[\"ID\"] = df_space.index\n",
    "\n",
    "dist_matrix = squareform(pdist(df_space.drop(columns=\"ID\").values, metric='euclidean'))\n",
    "df_dist = pd.DataFrame(dist_matrix, index=df_space[\"ID\"], columns=df_space[\"ID\"])\n",
    "print(\" Matriz de distancias calculada\")\n",
    "\n",
    "\n",
    "# Crear DataFrame con columnas originales estandarizadas\n",
    "df_scaled = pd.DataFrame(X_scaled, columns=df_final_num.columns, index=df_space['ID'])\n",
    "\n",
    "# Concatenar con componentes UMAP\n",
    "df_umap_all = pd.concat([df_scaled, df_space.drop(columns=\"ID\")], axis=1)\n",
    "\n",
    "# Calcular correlación\n",
    "correlation = df_umap_all.corr().loc[df_final_num.columns, ['UMAP1', 'UMAP2', 'UMAP3']]\n",
    "\n",
    "# Filtrar las 10 variables con mayor correlación absoluta\n",
    "correlation['max_corr'] = correlation.abs().max(axis=1)\n",
    "top10 = correlation.sort_values('max_corr', ascending=False).drop(columns='max_corr').head(10)\n",
    "\n",
    "# Convertir a formato largo para plotly\n",
    "correlation_melted = top10.reset_index().melt(id_vars='index', var_name='UMAP', value_name='Correlation')\n",
    "correlation_melted.rename(columns={'index': 'Variable'}, inplace=True)\n",
    "\n",
    "# Crear heatmap interactivo con Plotly\n",
    "fig = px.imshow(\n",
    "    top10.values,\n",
    "    x=top10.columns,\n",
    "    y=top10.index,\n",
    "    color_continuous_scale='RdBu',\n",
    "    zmin=-1, zmax=1,\n",
    "    text_auto=\".2f\",\n",
    "    labels=dict(x=\"UMAP\", y=\"Variable\", color=\"Correlación\")\n",
    ")\n",
    "\n",
    "fig.update_layout(\n",
    "    title=\"Top 10 variables más correlacionadas con UMAP1, UMAP2 y UMAP3\",\n",
    "    xaxis_title=\"Componente UMAP\",\n",
    "    yaxis_title=\"Variable original\",\n",
    "    height=400 + 20 * len(top10)\n",
    ")\n",
    "\n",
    "fig.show()"
   ]
  }
 ],
 "metadata": {
  "kernelspec": {
   "display_name": "global_env",
   "language": "python",
   "name": "python3"
  },
  "language_info": {
   "codemirror_mode": {
    "name": "ipython",
    "version": 3
   },
   "file_extension": ".py",
   "mimetype": "text/x-python",
   "name": "python",
   "nbconvert_exporter": "python",
   "pygments_lexer": "ipython3",
   "version": "3.11.8"
  }
 },
 "nbformat": 4,
 "nbformat_minor": 5
}
