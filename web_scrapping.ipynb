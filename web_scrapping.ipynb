{
 "cells": [
  {
   "cell_type": "code",
   "execution_count": null,
   "id": "65a65df6",
   "metadata": {},
   "outputs": [
    {
     "name": "stdout",
     "output_type": "stream",
     "text": [
      "Process complete. Saved 2 records into all_listings.json.\n"
     ]
    }
   ],
   "source": [
    "import json\n",
    "import os\n",
    "from apify_client import ApifyClient\n",
    "from dotenv import load_dotenv\n",
    "\n",
    "# Initialize the Apify client with your API token\n",
    "load_dotenv()\n",
    "APIFY_TOKEN = os.getenv(\"APIFY_TOKEN\")\n",
    "client = ApifyClient(APIFY_TOKEN)\n",
    "\n",
    "\"\"\"_summary_\n",
    "Reduces each dataset item to only the relevant fields.\n",
    "\"\"\"\n",
    "def slim_down_listing(raw: dict) -> dict:\n",
    "    return {\n",
    "        \"id\":             raw.get(\"id\"),\n",
    "        \"coordinates\":    raw.get(\"coordinates\"),\n",
    "        \"propertyType\":   raw.get(\"propertyType\"),\n",
    "        \"roomType\":       raw.get(\"roomType\"),\n",
    "        \"homeTier\":       raw.get(\"homeTier\"),\n",
    "        \"personCapacity\": raw.get(\"personCapacity\"),\n",
    "        \"rating\":         raw.get(\"rating\"),\n",
    "        \"title\":          raw.get(\"title\"),\n",
    "        \"subDescription\": raw.get(\"subDescription\"),\n",
    "        \"amenities\":      raw.get(\"amenities\"),\n",
    "    }\n",
    "\n",
    "\"\"\"_summary_\n",
    "Reads Airbnb room IDs, builds URLs, runs the Apify Actor, and extracts selected fields.\n",
    "\"\"\"\n",
    "def main():\n",
    "    # Read the Airbnb listing IDs from 'ids.txt' and cnvert to Airbnb URL\n",
    "    with open(\"ids.txt\", \"r\", encoding=\"utf-8\") as f:\n",
    "        ids = [line.strip() for line in f if line.strip()]\n",
    "    room_urls = [f\"https://www.airbnb.mx/rooms/{room_id}\" for room_id in ids]\n",
    "\n",
    "    # Prepare the input for the actor\n",
    "    run_input = {\n",
    "        \"startUrls\": [{\"url\": url} for url in room_urls],\n",
    "    }\n",
    "    run = client.actor(\"tri_angle~airbnb-rooms-urls-scraper\").call(run_input=run_input)\n",
    "\n",
    "    # Once completed, access the dataset to retrieve the scraped data\n",
    "    dataset_id = run[\"defaultDatasetId\"]\n",
    "    all_listings = []\n",
    "    for item in client.dataset(dataset_id).iterate_items():\n",
    "        slim = slim_down_listing(item)\n",
    "        all_listings.append(slim)\n",
    "\n",
    "    # Save all reduced listings into a JSON file\n",
    "    with open(\"all_listings.json\", \"w\", encoding=\"utf-8\") as out_f:\n",
    "        json.dump(all_listings, out_f, ensure_ascii=False, indent=2)\n",
    "    print(f\"Process complete. Saved {len(all_listings)} records into all_listings.json.\")\n",
    "\n",
    "if __name__ == \"__main__\":\n",
    "    main()"
   ]
  }
 ],
 "metadata": {
  "kernelspec": {
   "display_name": "global_env",
   "language": "python",
   "name": "python3"
  },
  "language_info": {
   "codemirror_mode": {
    "name": "ipython",
    "version": 3
   },
   "file_extension": ".py",
   "mimetype": "text/x-python",
   "name": "python",
   "nbconvert_exporter": "python",
   "pygments_lexer": "ipython3",
   "version": "3.11.8"
  }
 },
 "nbformat": 4,
 "nbformat_minor": 5
}
